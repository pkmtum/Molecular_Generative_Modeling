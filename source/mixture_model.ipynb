{
 "cells": [
  {
   "cell_type": "code",
   "execution_count": 331,
   "metadata": {},
   "outputs": [
    {
     "name": "stdout",
     "output_type": "stream",
     "text": [
      "The autoreload extension is already loaded. To reload it, use:\n",
      "  %reload_ext autoreload\n"
     ]
    }
   ],
   "source": [
    "%load_ext autoreload\n",
    "%autoreload 2\n",
    "\n",
    "import torch\n",
    "import torch.nn as nn\n",
    "from torch_geometric.loader import DataLoader\n",
    "from tqdm import tqdm\n",
    "import pandas as pd\n",
    "\n",
    "import networkx as nx\n",
    "import torch_geometric.utils as pyg_utils\n",
    "\n",
    "import seaborn as sns\n",
    "import matplotlib.pyplot as plt\n",
    "\n",
    "from rdkit import RDLogger\n",
    "lg = RDLogger.logger()\n",
    "lg.setLevel(RDLogger.CRITICAL)\n",
    "\n",
    "from data_utils import *\n",
    "from graph_vae.vae import GraphVAE\n",
    "\n",
    "device = torch.device('cuda' if torch.cuda.is_available() else 'cpu')\n",
    "\n",
    "include_hydrogen = False\n",
    "\n",
    "prop_norm_df = create_or_load_property_norm_df()\n",
    "\n",
    "# create dataset and dataloaders\n",
    "dataset = create_qm9_mixture_vae_dataset(\n",
    "    device=device, \n",
    "    refresh_data_cache=False,\n",
    "    properties=None,\n",
    "    prop_norm_df=prop_norm_df\n",
    ")\n",
    "train_dataset, val_dataset, _ = create_qm9_data_split(dataset=dataset)\n",
    "\n",
    "batch_size = 1\n",
    "train_loader = DataLoader(train_dataset, batch_size=batch_size, shuffle=True)\n",
    "val_loader = DataLoader(val_dataset, batch_size=batch_size, shuffle=False)"
   ]
  },
  {
   "cell_type": "code",
   "execution_count": 332,
   "metadata": {},
   "outputs": [],
   "source": [
    "train_batch = next(iter(train_loader))"
   ]
  },
  {
   "cell_type": "code",
   "execution_count": 333,
   "metadata": {},
   "outputs": [
    {
     "data": {
      "image/png": "[encoded data removed]",
      "text/plain": [
       "<Figure size 300x300 with 1 Axes>"
      ]
     },
     "metadata": {},
     "output_type": "display_data"
    }
   ],
   "source": [
    "fig, axs = plt.subplots(1, batch_size, figsize=(batch_size * 3, 3))\n",
    "if batch_size > 1:\n",
    "    axs = axs.flatten()\n",
    "\n",
    "for i in range(len(train_batch)):\n",
    "    batch_mask = train_batch.batch == i\n",
    "    \n",
    "    graph = train_batch[i]\n",
    "    mol = graph_to_mol(data=graph, includes_h=True, validate=False)\n",
    "    if batch_size > 1:\n",
    "        axis = axs[i]\n",
    "    else:\n",
    "        axis = axs\n",
    "    axis.imshow(Draw.MolToImage(mol))\n",
    "    axis.axis(\"off\")\n",
    "\n",
    "plt.tight_layout()\n",
    "plt.show()"
   ]
  },
  {
   "cell_type": "code",
   "execution_count": 334,
   "metadata": {},
   "outputs": [
    {
     "name": "stdout",
     "output_type": "stream",
     "text": [
      "{'num_clusters': 5, 'latent_dim': 2, 'num_atom_types': 5, 'num_bond_types': 4}\n",
      "torch.Size([14, 2])\n"
     ]
    }
   ],
   "source": [
    "from typing import Dict, Any\n",
    "\n",
    "import torch\n",
    "import torch.nn as nn\n",
    "import torch.nn.functional as F\n",
    "import torch.distributions as D\n",
    "\n",
    "class MixtureModelDecoder(nn.Module):\n",
    "\n",
    "    def __init__(self, hparams: Dict[str, Any]) -> None:\n",
    "        super().__init__()\n",
    "\n",
    "        num_clusters = hparams[\"num_clusters\"]\n",
    "        latent_dim = hparams[\"latent_dim\"]\n",
    "        num_atom_types = hparams[\"num_atom_types\"]\n",
    "        num_bond_types = hparams[\"num_bond_types\"] + 1  # +1 for non-existent bonds\n",
    "\n",
    "        # model parameters\n",
    "        init_cluster_means = torch.randn(1, num_clusters, latent_dim)\n",
    "        self.cluster_means = nn.Parameter(init_cluster_means)\n",
    "\n",
    "        init_cluster_log_sigmas = torch.randn(1, num_clusters, latent_dim)\n",
    "        self.cluster_log_sigmas = nn.Parameter(init_cluster_log_sigmas)\n",
    "\n",
    "        self.atom_classifier = nn.Sequential(\n",
    "            nn.Linear(latent_dim, num_atom_types),\n",
    "            nn.Softmax(dim=1)\n",
    "        )\n",
    "\n",
    "        init_bond_matrix = torch.randn(1, num_bond_types, latent_dim, latent_dim)\n",
    "        self.bond_matrix = nn.Parameter(init_bond_matrix)\n",
    "\n",
    "\n",
    "    def forward(self, eta: torch.Tensor, batch_index: torch.Tensor) -> Data:\n",
    "\n",
    "        pi = F.softmax(eta, dim=1)\n",
    "\n",
    "        train_batch_atom_counts = torch.bincount(batch_index)\n",
    "        pi = torch.repeat_interleave(pi, train_batch_atom_counts, dim=0)\n",
    "\n",
    "        # TODO: anneal tau during training\n",
    "        tau = 0.1\n",
    "        c = F.gumbel_softmax(logits=pi, tau=tau, hard=True).unsqueeze(-1)\n",
    "\n",
    "        mu = torch.sum(self.cluster_means * c, dim=1)\n",
    "        log_sigma = torch.sum(self.cluster_log_sigmas * c, dim=1)\n",
    "        sigma = torch.exp(log_sigma)\n",
    "\n",
    "        z = torch.randn_like(mu) * sigma + mu\n",
    "\n",
    "        atom_types = self.atom_classifier(z)\n",
    "        \n",
    "        print(z.shape)\n",
    "        # TODO: sample edges types\n",
    "\n",
    "        return atom_types\n",
    "\n",
    "\n",
    "num_clusters = 5\n",
    "hparams = {\n",
    "    \"num_clusters\": num_clusters,\n",
    "    \"latent_dim\": 2,\n",
    "    \"num_atom_types\": dataset.num_node_features,\n",
    "    \"num_bond_types\": dataset.num_edge_features,\n",
    "}\n",
    "\n",
    "print(hparams)\n",
    "\n",
    "decoder_model = MixtureModelDecoder(hparams=hparams).to(device)\n",
    "\n",
    "eta = torch.randn((batch_size, num_clusters), device=device)\n",
    "\n",
    "atom_types_one_hot = decoder_model(eta, train_batch.batch)"
   ]
  },
  {
   "cell_type": "code",
   "execution_count": 335,
   "metadata": {},
   "outputs": [
    {
     "data": {
      "image/png": "[encoded data removed]",
      "text/plain": [
       "<Figure size 300x300 with 1 Axes>"
      ]
     },
     "metadata": {},
     "output_type": "display_data"
    }
   ],
   "source": [
    "fig, axs = plt.subplots(1, batch_size, figsize=(batch_size * 3, 3))\n",
    "if batch_size > 1:\n",
    "    axs = axs.flatten()\n",
    "\n",
    "for i in range(len(train_batch)):\n",
    "    batch_mask = train_batch.batch == i\n",
    "    \n",
    "    graph = Data(x=atom_types_one_hot[batch_mask])\n",
    "    mol = graph_to_mol(data=graph, includes_h=True, validate=False)\n",
    "    if batch_size > 1:\n",
    "        axis = axs[i]\n",
    "    else:\n",
    "        axis = axs\n",
    "    axis.imshow(Draw.MolToImage(mol))\n",
    "    axis.axis(\"off\")\n",
    "\n",
    "plt.tight_layout()\n",
    "plt.show()"
   ]
  },
  {
   "cell_type": "code",
   "execution_count": 350,
   "metadata": {},
   "outputs": [
    {
     "name": "stdout",
     "output_type": "stream",
     "text": [
      "[(0, 1), (0, 2), (0, 3), (1, 2), (1, 3), (2, 3)]\n"
     ]
    },
    {
     "data": {
      "text/plain": [
       "tensor([[[[9.9801e-01]],\n",
       "\n",
       "         [[1.9853e-03]]],\n",
       "\n",
       "\n",
       "        [[[8.1841e-01]],\n",
       "\n",
       "         [[1.8159e-01]]],\n",
       "\n",
       "\n",
       "        [[[5.5338e-02]],\n",
       "\n",
       "         [[9.4466e-01]]],\n",
       "\n",
       "\n",
       "        [[[9.6545e-01]],\n",
       "\n",
       "         [[3.4549e-02]]],\n",
       "\n",
       "\n",
       "        [[[9.9995e-01]],\n",
       "\n",
       "         [[5.4531e-05]]],\n",
       "\n",
       "\n",
       "        [[[9.8853e-01]],\n",
       "\n",
       "         [[1.1473e-02]]]])"
      ]
     },
     "execution_count": 350,
     "metadata": {},
     "output_type": "execute_result"
    }
   ],
   "source": [
    "import itertools\n",
    "\n",
    "\n",
    "N = 4\n",
    "type_count = 2\n",
    "\n",
    "W = torch.randn(1, type_count, 3, 3)\n",
    "z = torch.randn(N, 3)\n",
    "\n",
    "\n",
    "edge_index = list(itertools.combinations(range(N), 2))\n",
    "print(edge_index)\n",
    "\n",
    "z = z.unsqueeze(1).unsqueeze(-1)\n",
    "z_pairs = torch.stack([z[list(pair)] for pair in edge_index])\n",
    "\n",
    "\n",
    "# make W symmetric\n",
    "W = (W + W.transpose(2, 3)) * 0.5\n",
    "\n",
    "E = z_pairs[:, 0].permute(dims=(0, 1, 3, 2)) @ W @ z_pairs[:, 1]\n",
    "E = F.softmax(E, dim=1)\n",
    "E"
   ]
  },
  {
   "cell_type": "code",
   "execution_count": 344,
   "metadata": {},
   "outputs": [],
   "source": [
    "z = torch.randn(N, 3)\n",
    "z = z.unsqueeze(1).unsqueeze(-1)\n",
    "z_pairs = torch.stack([z[list(pair)] for pair in edge_index])"
   ]
  },
  {
   "cell_type": "code",
   "execution_count": 307,
   "metadata": {},
   "outputs": [
    {
     "data": {
      "text/plain": [
       "torch.Size([4, 1, 3, 1])"
      ]
     },
     "execution_count": 307,
     "metadata": {},
     "output_type": "execute_result"
    }
   ],
   "source": [
    "z.shape"
   ]
  },
  {
   "cell_type": "code",
   "execution_count": 345,
   "metadata": {},
   "outputs": [
    {
     "data": {
      "text/plain": [
       "torch.Size([6, 2, 1, 3, 1])"
      ]
     },
     "execution_count": 345,
     "metadata": {},
     "output_type": "execute_result"
    }
   ],
   "source": [
    "z_pairs.shape"
   ]
  },
  {
   "cell_type": "code",
   "execution_count": 346,
   "metadata": {},
   "outputs": [
    {
     "data": {
      "text/plain": [
       "torch.Size([6, 1, 3, 1])"
      ]
     },
     "execution_count": 346,
     "metadata": {},
     "output_type": "execute_result"
    }
   ],
   "source": [
    "z_pairs[:, 0].shape"
   ]
  }
 ],
 "metadata": {
  "kernelspec": {
   "display_name": "idp",
   "language": "python",
   "name": "python3"
  },
  "language_info": {
   "codemirror_mode": {
    "name": "ipython",
    "version": 3
   },
   "file_extension": ".py",
   "mimetype": "text/x-python",
   "name": "python",
   "nbconvert_exporter": "python",
   "pygments_lexer": "ipython3",
   "version": "3.11.5"
  }
 },
 "nbformat": 4,
 "nbformat_minor": 2
}
