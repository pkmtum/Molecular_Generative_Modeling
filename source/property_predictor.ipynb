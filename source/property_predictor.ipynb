{
 "cells": [
  {
   "cell_type": "code",
   "execution_count": 2,
   "metadata": {},
   "outputs": [
    {
     "name": "stdout",
     "output_type": "stream",
     "text": [
      "The autoreload extension is already loaded. To reload it, use:\n",
      "  %reload_ext autoreload\n",
      "cuda\n",
      "Training dataset size = 104665\n",
      "Validation dataset size = 13083\n",
      "Test dataset size = 13083\n"
     ]
    }
   ],
   "source": [
    "%load_ext autoreload\n",
    "%autoreload 2\n",
    "\n",
    "from torch_geometric.datasets import QM9\n",
    "import torch_geometric.transforms as T\n",
    "import torch\n",
    "from torch_geometric.loader import DataLoader\n",
    "from data_utils import SelectQM9TargetProperties, create_qm9_data_split, SelectQM9NodeFeatures\n",
    "from tqdm import tqdm\n",
    "\n",
    "device = torch.device('cuda' if torch.cuda.is_available() else 'cpu')\n",
    "print(device)\n",
    "\n",
    "transform = T.Compose([\n",
    "    SelectQM9TargetProperties(properties=[\"homo\", \"lumo\"]),\n",
    "    SelectQM9NodeFeatures(features=[\"atom_type\"]),\n",
    "    T.ToDevice(device=device)\n",
    "])\n",
    "\n",
    "dataset = QM9(root=\"./data\", transform=transform)\n",
    "\n",
    "train_dataset, val_dataset, test_dataset = create_qm9_data_split(dataset=dataset)\n",
    "\n",
    "print(f\"Training dataset size = {len(train_dataset)}\")\n",
    "print(f\"Validation dataset size = {len(val_dataset)}\")\n",
    "print(f\"Test dataset size = {len(test_dataset)}\")\n",
    "\n",
    "num_node_feature = dataset.num_node_features\n",
    "num_targets = dataset.num_classes"
   ]
  },
  {
   "cell_type": "markdown",
   "metadata": {},
   "source": [
    "## Create Dataloaders"
   ]
  },
  {
   "cell_type": "code",
   "execution_count": 4,
   "metadata": {},
   "outputs": [],
   "source": [
    "from typing import List\n",
    "\n",
    "batch_size = 128\n",
    "\n",
    "dataloaders = {\n",
    "    \"train_single\": DataLoader(train_dataset[:1], batch_size=batch_size, shuffle=True),\n",
    "    \"train_tiny\": DataLoader(train_dataset[:16], batch_size=batch_size, shuffle=True),\n",
    "    \"train_small\": DataLoader(train_dataset[:4096], batch_size=batch_size, shuffle=True),\n",
    "    \"train\": DataLoader(train_dataset, batch_size=batch_size, shuffle=True),\n",
    "\n",
    "    \"val_small\": DataLoader(val_dataset[:512], batch_size=batch_size, shuffle=False),\n",
    "    \"val\": DataLoader(val_dataset, batch_size=batch_size, shuffle=False)\n",
    "}\n",
    "\n",
    "# subset_count = 64\n",
    "# validation_subsets = []\n",
    "# validation_indices = torch.randperm(len(val_dataset)).tolist()\n",
    "\n",
    "# def get_validation_subset()"
   ]
  },
  {
   "cell_type": "markdown",
   "metadata": {},
   "source": [
    "## Baseline model (mean prediction)"
   ]
  },
  {
   "cell_type": "markdown",
   "metadata": {},
   "source": [
    "### Training"
   ]
  },
  {
   "cell_type": "code",
   "execution_count": 50,
   "metadata": {},
   "outputs": [
    {
     "name": "stderr",
     "output_type": "stream",
     "text": [
      "  0%|          | 0/818 [00:00<?, ?it/s]"
     ]
    },
    {
     "name": "stderr",
     "output_type": "stream",
     "text": [
      "100%|██████████| 818/818 [00:27<00:00, 30.19it/s]"
     ]
    },
    {
     "name": "stdout",
     "output_type": "stream",
     "text": [
      "HOMO Mean = -6.535999774932861\n",
      "LUMO Mean = 0.32042407989501953\n"
     ]
    },
    {
     "name": "stderr",
     "output_type": "stream",
     "text": [
      "\n"
     ]
    }
   ],
   "source": [
    "import torch.nn as nn\n",
    "\n",
    "train_loader = dataloaders[\"train\"]\n",
    "homo_mean_list = []\n",
    "lumo_mean_list = []\n",
    "for batch in tqdm(train_loader):\n",
    "    batch_mean = torch.mean(batch.y, dim=0)\n",
    "    homo_mean_list.append(batch_mean[0])\n",
    "    lumo_mean_list.append(batch_mean[1])\n",
    "\n",
    "homo_mean_pred = torch.tensor(homo_mean_list).mean()\n",
    "lumo_mean_pred = torch.tensor(lumo_mean_list).mean()\n",
    "print(f\"HOMO Mean = {homo_mean_pred}\")\n",
    "print(f\"LUMO Mean = {lumo_mean_pred}\")\n",
    "\n",
    "class MeanPredictor(nn.Module):\n",
    "    def __init__(self, property_mean_values: List[float]):\n",
    "        super().__init__()\n",
    "        # create mean prediction and add batch dimension\n",
    "        self.register_buffer('mean_prediction', torch.tensor(property_mean_values).unsqueeze(0))\n",
    "\n",
    "    def forward(self, x):\n",
    "        batch_size = x.y.shape[0]\n",
    "        return self.mean_prediction.expand(batch_size, -1)\n",
    "\n",
    "baseline_model = MeanPredictor(property_mean_values=[homo_mean_pred, lumo_mean_pred]).to(device)"
   ]
  },
  {
   "cell_type": "markdown",
   "metadata": {},
   "source": [
    "### Validation"
   ]
  },
  {
   "cell_type": "code",
   "execution_count": 91,
   "metadata": {},
   "outputs": [
    {
     "name": "stderr",
     "output_type": "stream",
     "text": [
      "  0%|          | 0/103 [00:00<?, ?it/s]"
     ]
    },
    {
     "name": "stderr",
     "output_type": "stream",
     "text": [
      "100%|██████████| 103/103 [00:03<00:00, 30.08it/s]"
     ]
    },
    {
     "name": "stdout",
     "output_type": "stream",
     "text": [
      "HOMO MAE (mean prediction) = 0.440923273563385\n",
      "LUMO MAE (mean prediction) = 1.054100751876831\n"
     ]
    },
    {
     "name": "stderr",
     "output_type": "stream",
     "text": [
      "\n"
     ]
    }
   ],
   "source": [
    "def evaluate_model_performance(validation_loader, model):\n",
    "    mae_sum = 0\n",
    "    for batch in tqdm(validation_loader):\n",
    "        prediction = model(batch)\n",
    "        mae_sum += torch.mean(torch.abs(prediction - batch.y), dim=0)\n",
    "\n",
    "    mean_absolute_error = mae_sum / len(validation_loader)\n",
    "\n",
    "    print(f\"HOMO MAE (mean prediction) = {mean_absolute_error[0]}\")\n",
    "    print(f\"LUMO MAE (mean prediction) = {mean_absolute_error[1]}\")\n",
    "\n",
    "val_loader = dataloaders[\"val\"]\n",
    "evaluate_model_performance(validation_loader=val_loader, model=baseline_model)"
   ]
  },
  {
   "cell_type": "markdown",
   "metadata": {},
   "source": [
    "## Graph Property Predictor"
   ]
  },
  {
   "cell_type": "code",
   "execution_count": 92,
   "metadata": {},
   "outputs": [],
   "source": [
    "import torch\n",
    "import torch.nn.functional as F\n",
    "from torch_geometric.nn import GCNConv, global_mean_pool\n",
    "\n",
    "class GCN(torch.nn.Module):\n",
    "    def __init__(self, num_node_features: int, num_targets: int):\n",
    "        super().__init__()\n",
    "        \n",
    "        conv_features = 16\n",
    "\n",
    "        self.conv1 = GCNConv(num_node_features, conv_features)\n",
    "        self.conv2 = GCNConv(conv_features, conv_features)\n",
    "        self.conv3 = GCNConv(conv_features, conv_features)\n",
    "        self.fc1 = nn.Linear(conv_features, conv_features)\n",
    "        self.fc2 = nn.Linear(conv_features, num_targets)\n",
    "\n",
    "    def forward(self, data):\n",
    "        x, edge_index, batch = data.x, data.edge_index, data.batch\n",
    "\n",
    "        x = self.conv1(x, edge_index)\n",
    "        x = F.relu(x)\n",
    "        x = self.conv2(x, edge_index)\n",
    "        x = F.relu(x)\n",
    "        x = self.conv3(x, edge_index)\n",
    "        x = global_mean_pool(x, batch)\n",
    "        x = self.fc1(x)\n",
    "        x = F.relu(x)\n",
    "        x = self.fc2(x)\n",
    "        return x"
   ]
  },
  {
   "cell_type": "code",
   "execution_count": 95,
   "metadata": {},
   "outputs": [
    {
     "name": "stdout",
     "output_type": "stream",
     "text": [
      "Number of parameters: 946\n"
     ]
    },
    {
     "name": "stderr",
     "output_type": "stream",
     "text": [
      "Epoch 1 Training: 100%|██████████| 818/818 [00:32<00:00, 25.29it/s]\n",
      "Epoch 2 Training: 100%|██████████| 818/818 [00:32<00:00, 25.54it/s]\n",
      "Epoch 3 Training: 100%|██████████| 818/818 [00:32<00:00, 24.92it/s]\n",
      "Epoch 4 Training: 100%|██████████| 818/818 [00:32<00:00, 25.41it/s]\n",
      "Epoch 5 Training: 100%|██████████| 818/818 [00:31<00:00, 25.64it/s]\n",
      "Epoch 6 Training: 100%|██████████| 818/818 [00:32<00:00, 24.88it/s]\n",
      "Epoch 7 Training: 100%|██████████| 818/818 [00:32<00:00, 25.07it/s]\n",
      "Epoch 8 Training: 100%|██████████| 818/818 [00:32<00:00, 25.47it/s]\n",
      "Epoch 9 Training: 100%|██████████| 818/818 [00:32<00:00, 25.04it/s]\n",
      "Epoch 10 Training: 100%|██████████| 818/818 [00:32<00:00, 25.48it/s]\n",
      "Epoch 11 Training: 100%|██████████| 818/818 [00:32<00:00, 25.52it/s]\n",
      "Epoch 12 Training: 100%|██████████| 818/818 [00:32<00:00, 25.16it/s]\n",
      "Epoch 13 Training: 100%|██████████| 818/818 [00:32<00:00, 25.26it/s]\n",
      "Epoch 14 Training: 100%|██████████| 818/818 [00:32<00:00, 25.46it/s]\n",
      "Epoch 15 Training: 100%|██████████| 818/818 [00:32<00:00, 24.93it/s]\n",
      "Epoch 16 Training: 100%|██████████| 818/818 [00:32<00:00, 25.29it/s]\n"
     ]
    }
   ],
   "source": [
    "from data_utils import create_tensorboard_writer\n",
    "from tqdm import tqdm\n",
    "\n",
    "model = GCN(num_node_features=num_node_feature, num_targets=num_targets).to(device=device)\n",
    "print(f\"Number of parameters: {sum(p.numel() for p in model.parameters() if p.requires_grad)}\")\n",
    "\n",
    "learning_rate = 2e-2\n",
    "epochs = 16\n",
    "\n",
    "optimizer = torch.optim.Adam(model.parameters(), lr=learning_rate)\n",
    "loss_function = nn.MSELoss()\n",
    "\n",
    "writer = create_tensorboard_writer(experiment_name=\"property-predictor\")\n",
    "\n",
    "train_loader = dataloaders[\"train\"]\n",
    "val_loader = dataloaders[\"val_small\"]\n",
    "\n",
    "# After how many iterations to validate\n",
    "validation_interval = 128\n",
    "\n",
    "for epoch in range(epochs):\n",
    "    # Training\n",
    "    model.train()\n",
    "    for batch_index, train_batch in enumerate(tqdm(train_loader, desc=f\"Epoch {epoch + 1} Training\")):\n",
    "        optimizer.zero_grad()\n",
    "        train_prediction = model(train_batch)\n",
    "        train_loss = loss_function(train_prediction, train_batch.y)\n",
    "        train_loss.backward()\n",
    "        optimizer.step()\n",
    "\n",
    "        iteration = len(train_loader) * epoch + batch_index\n",
    "        writer.add_scalars(\"Loss\", {\"Training\": train_loss.item()}, iteration)\n",
    "\n",
    "        # Validation\n",
    "        if iteration % validation_interval == 0:\n",
    "            model.eval()\n",
    "            val_loss_sum = 0\n",
    "            mae_sum = 0\n",
    "\n",
    "            # TODO: Validate only with a random subset (create 64 subsets)\n",
    "            with torch.no_grad():\n",
    "                for val_batch in val_loader:\n",
    "                    val_prediction = model(val_batch)\n",
    "                    val_loss_sum += loss_function(val_prediction, val_batch.y)\n",
    "                    mae_sum = torch.mean(torch.abs(val_prediction - val_batch.y), dim=0)\n",
    "                \n",
    "            val_loss = val_loss_sum / len(val_loader)\n",
    "            writer.add_scalars(\"Loss\", {\"Validation\": val_loss.item()}, iteration)\n",
    "\n",
    "            mean_absolute_error = mae_sum / len(val_loader)\n",
    "            writer.add_scalar(\"MAE (HOMO)\", mean_absolute_error[0], iteration)\n",
    "            writer.add_scalar(\"MAE (LUMO)\", mean_absolute_error[1], iteration)\n",
    "            \n",
    "            model.train()"
   ]
  },
  {
   "cell_type": "code",
   "execution_count": 98,
   "metadata": {},
   "outputs": [
    {
     "name": "stderr",
     "output_type": "stream",
     "text": [
      "  0%|          | 0/103 [00:00<?, ?it/s]"
     ]
    },
    {
     "name": "stderr",
     "output_type": "stream",
     "text": [
      "100%|██████████| 103/103 [00:03<00:00, 28.25it/s]"
     ]
    },
    {
     "name": "stdout",
     "output_type": "stream",
     "text": [
      "HOMO MAE (mean prediction) = 0.2609836757183075\n",
      "LUMO MAE (mean prediction) = 0.2891755700111389\n"
     ]
    },
    {
     "name": "stderr",
     "output_type": "stream",
     "text": [
      "\n"
     ]
    }
   ],
   "source": [
    "evaluate_model_performance(validation_loader=dataloaders[\"val\"], model=model)"
   ]
  }
 ],
 "metadata": {
  "kernelspec": {
   "display_name": "idp",
   "language": "python",
   "name": "python3"
  },
  "language_info": {
   "codemirror_mode": {
    "name": "ipython",
    "version": 3
   },
   "file_extension": ".py",
   "mimetype": "text/x-python",
   "name": "python",
   "nbconvert_exporter": "python",
   "pygments_lexer": "ipython3",
   "version": "3.11.5"
  }
 },
 "nbformat": 4,
 "nbformat_minor": 2
}
