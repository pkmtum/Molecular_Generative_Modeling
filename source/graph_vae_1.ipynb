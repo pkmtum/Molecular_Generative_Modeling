{
 "cells": [
  {
   "cell_type": "code",
   "execution_count": 25,
   "metadata": {},
   "outputs": [
    {
     "name": "stdout",
     "output_type": "stream",
     "text": [
      "The autoreload extension is already loaded. To reload it, use:\n",
      "  %reload_ext autoreload\n"
     ]
    }
   ],
   "source": [
    "%load_ext autoreload\n",
    "%autoreload 2\n",
    "\n",
    "from typing import List, Dict, Any\n",
    "import itertools\n",
    "import random\n",
    "from tqdm import tqdm\n",
    "\n",
    "import torch\n",
    "import torch.nn as nn\n",
    "import torch.nn.functional as F\n",
    "from torch_geometric.datasets import QM9\n",
    "from torch_geometric.data import Data\n",
    "import torch_geometric.transforms as T\n",
    "from torch_geometric.loader import DataLoader\n",
    "from torch_geometric.nn import GCNConv, global_mean_pool\n",
    "from torch_geometric.utils import dense_to_sparse, remove_self_loops\n",
    "from data_utils import *"
   ]
  },
  {
   "cell_type": "code",
   "execution_count": 26,
   "metadata": {},
   "outputs": [],
   "source": [
    "device = torch.device('cuda' if torch.cuda.is_available() else 'cpu')\n",
    "\n",
    "max_num_nodes = 29\n",
    "\n",
    "# TODO: pre-transform and store matrices to disk\n",
    "transform = T.Compose([\n",
    "    SelectQM9TargetProperties(properties=[\"homo\", \"lumo\"]),\n",
    "    SelectQM9NodeFeatures(features=[\"atom_type\"]),\n",
    "    AddAdjacencyMatrix(max_num_nodes=max_num_nodes),\n",
    "    AddNodeAttributeMatrix(max_num_nodes=max_num_nodes),\n",
    "    AddEdgeAttributeMatrix(max_num_nodes=max_num_nodes),\n",
    "    T.ToDevice(device=device)\n",
    "])\n",
    "\n",
    "dataset = QM9(root=\"./data\", transform=transform)\n",
    "\n",
    "train_dataset, val_dataset, test_dataset = create_qm9_data_split(dataset=dataset)\n",
    "\n",
    "num_node_features = dataset.num_node_features\n",
    "num_edge_features = dataset.num_edge_features"
   ]
  },
  {
   "cell_type": "code",
   "execution_count": 63,
   "metadata": {},
   "outputs": [],
   "source": [
    "class Encoder(nn.Module):\n",
    "\n",
    "    def __init__(self, hparams: Dict[str, Any]) -> None:\n",
    "        super().__init__()\n",
    "\n",
    "        self.latent_dim = hparams[\"latent_dim\"]\n",
    "\n",
    "        # TODO: two graph convolutional layers (32 and 64 channels) with identity connection (edge conditioned graph convolution)\n",
    "        self.conv1 = GCNConv(in_channels=hparams[\"num_node_features\"], out_channels=32)\n",
    "        self.conv2 = GCNConv(in_channels=32, out_channels=64)\n",
    "\n",
    "        # output 2 time the size of the latent vector\n",
    "        # one half contains mu and the other half log(sigma)\n",
    "        self.fc = nn.Linear(in_features=64, out_features=self.latent_dim * 2)\n",
    "\n",
    "\n",
    "    def forward(self, data: Data) -> Tuple[torch.Tensor, torch.Tensor]:\n",
    "        x, edge_index, batch, edge_attr = data.x, data.edge_index, data.batch, data.edge_attr\n",
    "\n",
    "        x = self.conv1(x, edge_index)\n",
    "        x = F.relu(x)\n",
    "        x = self.conv2(x, edge_index)\n",
    "        x = global_mean_pool(x, batch)\n",
    "        x = self.fc(x)\n",
    "\n",
    "        mu = x[:, :self.latent_dim]\n",
    "        log_sigma = x[:, self.latent_dim:]\n",
    "        return mu, log_sigma\n",
    "    \n",
    "class Decoder(nn.Module):\n",
    "\n",
    "    def __init__(self, hparams: Dict[str, Any]) -> None:\n",
    "        super().__init__()\n",
    "\n",
    "        self.fcls = nn.Sequential(\n",
    "            nn.Linear(in_features=128, out_features=128),\n",
    "            nn.BatchNorm1d(num_features=128),\n",
    "            nn.ReLU(),\n",
    "            nn.Linear(in_features=128, out_features=256),\n",
    "            nn.BatchNorm1d(num_features=256),\n",
    "            nn.ReLU(),\n",
    "            nn.Linear(in_features=256, out_features=512),\n",
    "            nn.BatchNorm1d(num_features=512),\n",
    "            nn.ReLU(),\n",
    "        )\n",
    "\n",
    "        self.max_num_nodes = hparams[\"max_num_nodes\"]\n",
    "        self.num_node_features = hparams[\"num_node_features\"]\n",
    "\n",
    "        # the atom graph is symmetric so we only predict the upper triangular part\n",
    "        # and the diagonal that indicates the presence of nodes\n",
    "        upper_triangular_diag_size = int(self.max_num_nodes * (self.max_num_nodes + 1) / 2)\n",
    "        self.fc_adjacency = nn.Linear(in_features=512, out_features=upper_triangular_diag_size)\n",
    "\n",
    "        self.fc_node_features = nn.Linear(in_features=512, out_features=self.max_num_nodes * num_node_features)\n",
    "\n",
    "        self.max_num_edges = int(self.max_num_nodes * (self.max_num_nodes - 1) / 2)\n",
    "        self.num_edge_features = hparams[\"num_edge_features\"]\n",
    "        self.fc_edge_features = nn.Linear(in_features=512, out_features=self.max_num_edges * self.num_edge_features)\n",
    "        \n",
    "\n",
    "    def forward(self, z: torch.Tensor) -> Tuple[torch.Tensor, torch.Tensor, torch.Tensor]:\n",
    "        x = self.fcls(z)\n",
    "        # predict upper triangular matrix including the diagonal\n",
    "        adj_triu_mat = self.fc_adjacency(x)\n",
    "        node_features = self.fc_node_features(x)\n",
    "        edge_features = self.fc_edge_features(x)\n",
    "\n",
    "        # reshape matrices\n",
    "        node_mat = node_features.view(-1, self.max_num_nodes, self.num_node_features)\n",
    "        edge_triu_mat = edge_features.view(-1, self.max_num_edges, self.num_edge_features)\n",
    "\n",
    "        return adj_triu_mat, node_mat, edge_triu_mat\n",
    "\n",
    "\n",
    "class GraphVAE(nn.Module):\n",
    "\n",
    "    def __init__(self, hparams: Dict[str, Any]) -> None:\n",
    "        super().__init__()\n",
    "\n",
    "        self.encoder = Encoder(hparams=hparams)\n",
    "        self.decoder = Decoder(hparams=hparams)\n",
    "        self.latent_dim = hparams[\"latent_dim\"]\n",
    "\n",
    "    def _sample_with_reparameterization(self, mu: torch.Tensor, log_sigma: torch.Tensor) -> torch.Tensor:\n",
    "        sigma = torch.exp(log_sigma)\n",
    "        std_norm = torch.rand_like(mu)\n",
    "        return std_norm * sigma + mu\n",
    "\n",
    "    def forward(self, data: Data) -> Tuple[torch.Tensor, torch.Tensor, torch.Tensor]:\n",
    "        mu, log_sigma = self.encoder(data)\n",
    "        z = self._sample_with_reparameterization(mu=mu, log_sigma=log_sigma)\n",
    "        x = self.decoder(z)\n",
    "        return x\n",
    "    \n",
    "    def _kl_divergence(self, mu: torch.Tensor, log_sigma: torch.Tensor) -> torch.Tensor:\n",
    "        log_sigma_squared = log_sigma + log_sigma\n",
    "        sigma_squared = torch.exp(log_sigma_squared)\n",
    "        mu_squared = mu * mu\n",
    "        kl_div_sample = 0.5 * torch.sum(sigma_squared + mu_squared - log_sigma_squared - 1, dim=1)\n",
    "        # average over the batch\n",
    "        return torch.mean(kl_div_sample)\n",
    "    \n",
    "    def _reconstruction_loss(\n",
    "        self, \n",
    "        input: Tuple[torch.Tensor, torch.Tensor, torch.Tensor], \n",
    "        target: Tuple[torch.Tensor, torch.Tensor, torch.Tensor]\n",
    "    ):\n",
    "        input_adj_triu_mat, input_node_mat, input_edge_mat = input\n",
    "        target_adj_triu_mat, target_node_mat, target_edge_mat = target\n",
    "\n",
    "        # TODO: average separately over diagonal and off-diagonal elements\n",
    "        adjacency_loss = F.binary_cross_entropy_with_logits(input=input_adj_triu_mat, target=target_adj_triu_mat)\n",
    "\n",
    "        node_mat_logits = input_node_mat.view(-1, input_node_mat.size(-1))\n",
    "        node_targets = target_node_mat.argmax(dim=2).view(-1)\n",
    "        node_feature_loss = F.cross_entropy(input=node_mat_logits, target=node_targets)\n",
    "\n",
    "        # TODO: average loss only over edge that exist in the target\n",
    "        edge_mat_logits = input_edge_mat.view(-1, input_edge_mat.size(-1))\n",
    "        edge_targets = target_edge_mat.argmax(dim=2).view(-1)\n",
    "        edge_feature_loss = F.cross_entropy(input=edge_mat_logits, target=edge_targets)\n",
    "\n",
    "        return adjacency_loss + node_feature_loss + edge_feature_loss\n",
    "    \n",
    "    def negative_elbo(self, x: Data):\n",
    "        mu, log_sigma = self.encoder(x)\n",
    "        z = self._sample_with_reparameterization(mu=mu, log_sigma=log_sigma)\n",
    "\n",
    "        x_recon = self.decoder(z)\n",
    "        x_target = (x.adj_triu_mat, x.node_mat, x.edge_triu_mat)\n",
    "        return self._reconstruction_loss(input=x_recon, target=x_target) + self._kl_divergence(mu=mu, log_sigma=log_sigma)\n",
    "    \n",
    "    def sample(self, num_samples: int, device: str):\n",
    "        z = torch.randn((num_samples, self.latent_dim), device=device)\n",
    "        x = self.decoder(z)\n",
    "        return z, x"
   ]
  },
  {
   "cell_type": "code",
   "execution_count": 64,
   "metadata": {},
   "outputs": [],
   "source": [
    "hparams = {\n",
    "    \"batch_size\": 32,\n",
    "    \"max_num_nodes\": max_num_nodes,\n",
    "    \"learning_rate\": 1e-3,\n",
    "    \"beta_1\": 0.5,\n",
    "    \"epochs\": 1000,\n",
    "    \"num_node_features\": num_node_features,\n",
    "    \"num_edge_features\": num_edge_features,\n",
    "    \"latent_dim\": 128  # TODO: use latent dim c from the paper\n",
    "}\n",
    "\n",
    "# TODO: add metric evaluation (validity, uniqueness, novelty)\n",
    "# TODO: implement encoder from the paper\n",
    "# TODO: graph matching\n",
    "\n",
    "batch_size = hparams[\"batch_size\"]\n",
    "dataloaders = {\n",
    "    \"train_single\": DataLoader(train_dataset[:1], batch_size=batch_size, shuffle=True),\n",
    "    \"train_tiny\": DataLoader(train_dataset[:batch_size], batch_size=batch_size, shuffle=True),\n",
    "    \"train_small\": DataLoader(train_dataset[:4096], batch_size=batch_size, shuffle=True),\n",
    "    \"train\": DataLoader(train_dataset, batch_size=batch_size, shuffle=True),\n",
    "\n",
    "    \"val\": DataLoader(val_dataset, batch_size=batch_size, shuffle=False)\n",
    "}\n",
    "\n",
    "val_subset_count = 32\n",
    "dataloaders[\"val_subsets\"] = create_validation_subset_loaders(validation_dataset=val_dataset, subset_count=32, batch_size=batch_size)"
   ]
  },
  {
   "cell_type": "code",
   "execution_count": 65,
   "metadata": {},
   "outputs": [
    {
     "name": "stderr",
     "output_type": "stream",
     "text": [
      "Epoch 1 Training: 100%|██████████| 1/1 [00:01<00:00,  1.45s/it]\n"
     ]
    },
    {
     "name": "stdout",
     "output_type": "stream",
     "text": [
      "Data(x=[15, 5], edge_index=[2, 30], edge_attr=[30, 4], y=[1, 2], pos=[15, 3], z=[15], smiles='[H]OC1=NC(O[H])=C(C([H])([H])[H])N=C1[H]', name='gdb_28507', idx=[1], adj_triu_mat=[1, 435], node_mat=[1, 29, 5], edge_triu_mat=[1, 406, 4])\n",
      "Data(x=[17, 5], edge_index=[2, 44], edge_attr=[44, 4])\n"
     ]
    },
    {
     "name": "stderr",
     "output_type": "stream",
     "text": [
      "Epoch 2 Training: 100%|██████████| 1/1 [00:00<00:00,  5.80it/s]\n"
     ]
    },
    {
     "name": "stdout",
     "output_type": "stream",
     "text": [
      "Data(x=[21, 5], edge_index=[2, 42], edge_attr=[42, 4], y=[1, 2], pos=[21, 3], z=[21], smiles='[H]O[C@]1([H])C([H])([H])[C@]([H])(C([H])([H])C([H])([H])[H])[C@]1([H])C([H])=O', name='gdb_112792', idx=[1], adj_triu_mat=[1, 435], node_mat=[1, 29, 5], edge_triu_mat=[1, 406, 4])\n",
      "Data(x=[16, 5], edge_index=[2, 31], edge_attr=[31, 4])\n"
     ]
    },
    {
     "name": "stderr",
     "output_type": "stream",
     "text": [
      "Epoch 3 Training: 100%|██████████| 1/1 [00:00<00:00,  7.40it/s]\n"
     ]
    },
    {
     "name": "stdout",
     "output_type": "stream",
     "text": [
      "Data(x=[16, 5], edge_index=[2, 32], edge_attr=[32, 4], y=[1, 2], pos=[16, 3], z=[16], smiles='[H]C#CC#C[C@@]1(C([H])([H])O[H])N([H])C1([H])[H]', name='gdb_104944', idx=[1], adj_triu_mat=[1, 435], node_mat=[1, 29, 5], edge_triu_mat=[1, 406, 4])\n",
      "Data(x=[18, 5], edge_index=[2, 32], edge_attr=[32, 4])\n"
     ]
    },
    {
     "name": "stderr",
     "output_type": "stream",
     "text": [
      "Epoch 4 Training: 100%|██████████| 1/1 [00:00<00:00,  6.46it/s]\n"
     ]
    },
    {
     "name": "stdout",
     "output_type": "stream",
     "text": [
      "Data(x=[15, 5], edge_index=[2, 30], edge_attr=[30, 4], y=[1, 2], pos=[15, 3], z=[15], smiles='[H]O[C@]1([H])C(=O)C([H])([H])O[C@@]1([H])C([H])=O', name='gdb_77366', idx=[1], adj_triu_mat=[1, 435], node_mat=[1, 29, 5], edge_triu_mat=[1, 406, 4])\n",
      "Data(x=[17, 5], edge_index=[2, 26], edge_attr=[26, 4])\n"
     ]
    },
    {
     "name": "stderr",
     "output_type": "stream",
     "text": [
      "Epoch 5 Training: 100%|██████████| 1/1 [00:00<00:00,  5.20it/s]\n"
     ]
    },
    {
     "name": "stdout",
     "output_type": "stream",
     "text": [
      "Data(x=[19, 5], edge_index=[2, 42], edge_attr=[42, 4], y=[1, 2], pos=[19, 3], z=[19], smiles='[H]C([H])([H])O[C@]12C([H])([H])[C@@]1([H])[C@@]1([H])O[C@]12C([H])([H])[H]', name='gdb_107257', idx=[1], adj_triu_mat=[1, 435], node_mat=[1, 29, 5], edge_triu_mat=[1, 406, 4])\n",
      "Data(x=[18, 5], edge_index=[2, 11], edge_attr=[11, 4])\n"
     ]
    },
    {
     "name": "stderr",
     "output_type": "stream",
     "text": [
      "Epoch 6 Training: 100%|██████████| 1/1 [00:00<00:00,  5.23it/s]\n"
     ]
    },
    {
     "name": "stdout",
     "output_type": "stream",
     "text": [
      "Data(x=[23, 5], edge_index=[2, 48], edge_attr=[48, 4], y=[1, 2], pos=[23, 3], z=[23], smiles='[H]C1=C(C([H])([H])[H])[C@@]([H])(C([H])([H])[H])[C@]2([H])C([H])([H])[C@@]1([H])C2([H])[H]', name='gdb_80651', idx=[1], adj_triu_mat=[1, 435], node_mat=[1, 29, 5], edge_triu_mat=[1, 406, 4])\n",
      "Data(x=[18, 5], edge_index=[2, 12], edge_attr=[12, 4])\n"
     ]
    },
    {
     "name": "stderr",
     "output_type": "stream",
     "text": [
      "Epoch 7 Training: 100%|██████████| 1/1 [00:00<00:00,  5.61it/s]\n"
     ]
    },
    {
     "name": "stdout",
     "output_type": "stream",
     "text": [
      "Data(x=[18, 5], edge_index=[2, 38], edge_attr=[38, 4], y=[1, 2], pos=[18, 3], z=[18], smiles='[H]C(=O)[C@]1([H])[N@@H+]2C([H])([H])[C@]([H])(OC([H])([H])[H])[C@@]21[H]', name='gdb_114376', idx=[1], adj_triu_mat=[1, 435], node_mat=[1, 29, 5], edge_triu_mat=[1, 406, 4])\n",
      "Data(x=[18, 5], edge_index=[2, 10], edge_attr=[10, 4])\n"
     ]
    },
    {
     "name": "stderr",
     "output_type": "stream",
     "text": [
      "Epoch 8 Training: 100%|██████████| 1/1 [00:00<00:00,  5.56it/s]\n"
     ]
    },
    {
     "name": "stdout",
     "output_type": "stream",
     "text": [
      "Data(x=[16, 5], edge_index=[2, 34], edge_attr=[34, 4], y=[1, 2], pos=[16, 3], z=[16], smiles='[H]O[C@]1([H])C2=C([H])OC([H])=C2N([H])C1([H])[H]', name='gdb_30357', idx=[1], adj_triu_mat=[1, 435], node_mat=[1, 29, 5], edge_triu_mat=[1, 406, 4])\n",
      "Data(x=[18, 5], edge_index=[2, 10], edge_attr=[10, 4])\n"
     ]
    },
    {
     "name": "stderr",
     "output_type": "stream",
     "text": [
      "Epoch 9 Training: 100%|██████████| 1/1 [00:00<00:00,  5.92it/s]\n"
     ]
    },
    {
     "name": "stdout",
     "output_type": "stream",
     "text": [
      "Data(x=[17, 5], edge_index=[2, 32], edge_attr=[32, 4], y=[1, 2], pos=[17, 3], z=[17], smiles='[H]O[C@@]([H])(C([H])=O)C([H])(C([H])([H])[H])C([H])([H])[H]', name='gdb_1626', idx=[1], adj_triu_mat=[1, 435], node_mat=[1, 29, 5], edge_triu_mat=[1, 406, 4])\n",
      "Data(x=[18, 5], edge_index=[2, 11], edge_attr=[11, 4])\n"
     ]
    },
    {
     "name": "stderr",
     "output_type": "stream",
     "text": [
      "Epoch 10 Training: 100%|██████████| 1/1 [00:00<00:00,  5.47it/s]\n"
     ]
    },
    {
     "name": "stdout",
     "output_type": "stream",
     "text": [
      "Data(x=[18, 5], edge_index=[2, 38], edge_attr=[38, 4], y=[1, 2], pos=[18, 3], z=[18], smiles='[H]C1=C([H])[C@@]2([H])C([H])([H])[C@@]2([H])OC([H])([H])C1([H])[H]', name='gdb_18391', idx=[1], adj_triu_mat=[1, 435], node_mat=[1, 29, 5], edge_triu_mat=[1, 406, 4])\n",
      "Data(x=[18, 5], edge_index=[2, 11], edge_attr=[11, 4])\n"
     ]
    },
    {
     "name": "stderr",
     "output_type": "stream",
     "text": [
      "Epoch 11 Training: 100%|██████████| 1/1 [00:00<00:00,  6.64it/s]\n"
     ]
    },
    {
     "name": "stdout",
     "output_type": "stream",
     "text": [
      "Data(x=[18, 5], edge_index=[2, 38], edge_attr=[38, 4], y=[1, 2], pos=[18, 3], z=[18], smiles='[H]C#CC([H])([H])[C@]1(O[H])C([H])([H])[C@@]2([H])N([H])[C@@]12[H]', name='gdb_64721', idx=[1], adj_triu_mat=[1, 435], node_mat=[1, 29, 5], edge_triu_mat=[1, 406, 4])\n",
      "Data(x=[18, 5], edge_index=[2, 9], edge_attr=[9, 4])\n"
     ]
    },
    {
     "name": "stderr",
     "output_type": "stream",
     "text": [
      "Epoch 12 Training: 100%|██████████| 1/1 [00:00<00:00,  4.85it/s]\n"
     ]
    },
    {
     "name": "stdout",
     "output_type": "stream",
     "text": [
      "Data(x=[16, 5], edge_index=[2, 32], edge_attr=[32, 4], y=[1, 2], pos=[16, 3], z=[16], smiles='[H]C1=C(C#CC([H])([H])[H])C(N([H])[H])=C([H])O1', name='gdb_25701', idx=[1], adj_triu_mat=[1, 435], node_mat=[1, 29, 5], edge_triu_mat=[1, 406, 4])\n",
      "Data(x=[18, 5], edge_index=[2, 11], edge_attr=[11, 4])\n"
     ]
    },
    {
     "name": "stderr",
     "output_type": "stream",
     "text": [
      "Epoch 13 Training: 100%|██████████| 1/1 [00:00<00:00,  4.94it/s]\n"
     ]
    },
    {
     "name": "stdout",
     "output_type": "stream",
     "text": [
      "Data(x=[23, 5], edge_index=[2, 48], edge_attr=[48, 4], y=[1, 2], pos=[23, 3], z=[23], smiles='[H]C1=C(C([H])([H])[H])[C@@]([H])(C([H])([H])[H])[C@]2([H])C([H])([H])[C@@]1([H])C2([H])[H]', name='gdb_80651', idx=[1], adj_triu_mat=[1, 435], node_mat=[1, 29, 5], edge_triu_mat=[1, 406, 4])\n",
      "Data(x=[18, 5], edge_index=[2, 10], edge_attr=[10, 4])\n"
     ]
    },
    {
     "name": "stderr",
     "output_type": "stream",
     "text": [
      "Epoch 14 Training: 100%|██████████| 1/1 [00:00<00:00,  5.43it/s]\n"
     ]
    },
    {
     "name": "stdout",
     "output_type": "stream",
     "text": [
      "Data(x=[19, 5], edge_index=[2, 42], edge_attr=[42, 4], y=[1, 2], pos=[19, 3], z=[19], smiles='[H]C([H])([H])O[C@]12C([H])([H])[C@@]1([H])[C@@]1([H])O[C@]12C([H])([H])[H]', name='gdb_107257', idx=[1], adj_triu_mat=[1, 435], node_mat=[1, 29, 5], edge_triu_mat=[1, 406, 4])\n",
      "Data(x=[18, 5], edge_index=[2, 11], edge_attr=[11, 4])\n"
     ]
    },
    {
     "name": "stderr",
     "output_type": "stream",
     "text": [
      "Epoch 15 Training: 100%|██████████| 1/1 [00:00<00:00,  6.30it/s]\n"
     ]
    },
    {
     "name": "stdout",
     "output_type": "stream",
     "text": [
      "Data(x=[16, 5], edge_index=[2, 32], edge_attr=[32, 4], y=[1, 2], pos=[16, 3], z=[16], smiles='[H]C#CC#C[C@@]1(C([H])([H])O[H])N([H])C1([H])[H]', name='gdb_104944', idx=[1], adj_triu_mat=[1, 435], node_mat=[1, 29, 5], edge_triu_mat=[1, 406, 4])\n",
      "Data(x=[18, 5], edge_index=[2, 11], edge_attr=[11, 4])\n"
     ]
    },
    {
     "name": "stderr",
     "output_type": "stream",
     "text": [
      "Epoch 16 Training: 100%|██████████| 1/1 [00:00<00:00,  5.70it/s]\n"
     ]
    },
    {
     "name": "stdout",
     "output_type": "stream",
     "text": [
      "Data(x=[21, 5], edge_index=[2, 42], edge_attr=[42, 4], y=[1, 2], pos=[21, 3], z=[21], smiles='[H]O[C@]1([H])C([H])([H])[C@]([H])(C([H])([H])C([H])([H])[H])[C@]1([H])C([H])=O', name='gdb_112792', idx=[1], adj_triu_mat=[1, 435], node_mat=[1, 29, 5], edge_triu_mat=[1, 406, 4])\n",
      "Data(x=[18, 5], edge_index=[2, 12], edge_attr=[12, 4])\n"
     ]
    },
    {
     "name": "stderr",
     "output_type": "stream",
     "text": [
      "Epoch 17 Training: 100%|██████████| 1/1 [00:00<00:00,  5.55it/s]\n"
     ]
    },
    {
     "name": "stdout",
     "output_type": "stream",
     "text": [
      "Data(x=[25, 5], edge_index=[2, 52], edge_attr=[52, 4], y=[1, 2], pos=[25, 3], z=[25], smiles='[H]C([H])([H])C([H])([H])[C@@]1([H])C([H])([H])[C@@]([H])(C([H])([H])[H])[C@@]2([H])C([H])([H])[C@@]12[H]', name='gdb_112835', idx=[1], adj_triu_mat=[1, 435], node_mat=[1, 29, 5], edge_triu_mat=[1, 406, 4])\n",
      "Data(x=[18, 5], edge_index=[2, 11], edge_attr=[11, 4])\n"
     ]
    },
    {
     "name": "stderr",
     "output_type": "stream",
     "text": [
      "Epoch 18 Training: 100%|██████████| 1/1 [00:00<00:00,  6.08it/s]\n"
     ]
    },
    {
     "name": "stdout",
     "output_type": "stream",
     "text": [
      "Data(x=[18, 5], edge_index=[2, 36], edge_attr=[36, 4], y=[1, 2], pos=[18, 3], z=[18], smiles='[H]O[C@]1([H])C([H])=C(C([H])([H])[H])C([H])([H])[C@@]1([H])C#N', name='gdb_84136', idx=[1], adj_triu_mat=[1, 435], node_mat=[1, 29, 5], edge_triu_mat=[1, 406, 4])\n",
      "Data(x=[18, 5], edge_index=[2, 11], edge_attr=[11, 4])\n"
     ]
    },
    {
     "name": "stderr",
     "output_type": "stream",
     "text": [
      "Epoch 19 Training: 100%|██████████| 1/1 [00:00<00:00,  5.63it/s]\n"
     ]
    },
    {
     "name": "stdout",
     "output_type": "stream",
     "text": [
      "Data(x=[18, 5], edge_index=[2, 36], edge_attr=[36, 4], y=[1, 2], pos=[18, 3], z=[18], smiles='[H]C(=O)C([H])([H])[C@]1([H])C([H])([H])O[C@]1([H])C([H])([H])[H]', name='gdb_13092', idx=[1], adj_triu_mat=[1, 435], node_mat=[1, 29, 5], edge_triu_mat=[1, 406, 4])\n",
      "Data(x=[18, 5], edge_index=[2, 11], edge_attr=[11, 4])\n"
     ]
    },
    {
     "name": "stderr",
     "output_type": "stream",
     "text": [
      "Epoch 20 Training: 100%|██████████| 1/1 [00:00<00:00,  6.19it/s]\n"
     ]
    },
    {
     "name": "stdout",
     "output_type": "stream",
     "text": [
      "Data(x=[20, 5], edge_index=[2, 40], edge_attr=[40, 4], y=[1, 2], pos=[20, 3], z=[20], smiles='[H]OC([H])([H])[C@@]([H])([N@H+]1C([H])([H])[C@@]1([H])C([H])=O)C([H])([H])[H]', name='gdb_101299', idx=[1], adj_triu_mat=[1, 435], node_mat=[1, 29, 5], edge_triu_mat=[1, 406, 4])\n",
      "Data(x=[18, 5], edge_index=[2, 11], edge_attr=[11, 4])\n"
     ]
    },
    {
     "name": "stderr",
     "output_type": "stream",
     "text": [
      "Epoch 21 Training: 100%|██████████| 1/1 [00:00<00:00,  5.83it/s]\n"
     ]
    },
    {
     "name": "stdout",
     "output_type": "stream",
     "text": [
      "Data(x=[20, 5], edge_index=[2, 46], edge_attr=[46, 4], y=[1, 2], pos=[20, 3], z=[20], smiles='[H]C([H])([H])[C@@]12[N@@H+]3[C@@]4([H])[C@]3([H])[C@]1(C([H])([H])[H])[C@@]4([H])C2([H])[H]', name='gdb_71709', idx=[1], adj_triu_mat=[1, 435], node_mat=[1, 29, 5], edge_triu_mat=[1, 406, 4])\n",
      "Data(x=[19, 5], edge_index=[2, 11], edge_attr=[11, 4])\n"
     ]
    },
    {
     "name": "stderr",
     "output_type": "stream",
     "text": [
      "Epoch 22 Training: 100%|██████████| 1/1 [00:00<00:00,  6.85it/s]\n"
     ]
    },
    {
     "name": "stdout",
     "output_type": "stream",
     "text": [
      "Data(x=[16, 5], edge_index=[2, 32], edge_attr=[32, 4], y=[1, 2], pos=[16, 3], z=[16], smiles='[H]C#CC#C[C@@]1(C([H])([H])O[H])N([H])C1([H])[H]', name='gdb_104944', idx=[1], adj_triu_mat=[1, 435], node_mat=[1, 29, 5], edge_triu_mat=[1, 406, 4])\n",
      "Data(x=[18, 5], edge_index=[2, 10], edge_attr=[10, 4])\n"
     ]
    },
    {
     "name": "stderr",
     "output_type": "stream",
     "text": [
      "Epoch 23 Training: 100%|██████████| 1/1 [00:00<00:00,  5.94it/s]\n"
     ]
    },
    {
     "name": "stdout",
     "output_type": "stream",
     "text": [
      "Data(x=[19, 5], edge_index=[2, 40], edge_attr=[40, 4], y=[1, 2], pos=[19, 3], z=[19], smiles='[H]C(=O)N([H])[C@@]1([H])C([H])([H])[N@H+]2C([H])([H])C([H])([H])[C@]21[H]', name='gdb_51674', idx=[1], adj_triu_mat=[1, 435], node_mat=[1, 29, 5], edge_triu_mat=[1, 406, 4])\n",
      "Data(x=[18, 5], edge_index=[2, 11], edge_attr=[11, 4])\n"
     ]
    },
    {
     "name": "stderr",
     "output_type": "stream",
     "text": [
      "Epoch 24 Training: 100%|██████████| 1/1 [00:00<00:00,  6.51it/s]\n"
     ]
    },
    {
     "name": "stdout",
     "output_type": "stream",
     "text": [
      "Data(x=[23, 5], edge_index=[2, 50], edge_attr=[50, 4], y=[1, 2], pos=[23, 3], z=[23], smiles='[H]C([H])([H])[C@@]1([H])C([H])([H])[C@@]12C([H])([H])[C@@]1(C([H])([H])[H])C([H])([H])[C@]12[H]', name='gdb_87768', idx=[1], adj_triu_mat=[1, 435], node_mat=[1, 29, 5], edge_triu_mat=[1, 406, 4])\n",
      "Data(x=[18, 5], edge_index=[2, 11], edge_attr=[11, 4])\n"
     ]
    },
    {
     "name": "stderr",
     "output_type": "stream",
     "text": [
      "Epoch 25 Training: 100%|██████████| 1/1 [00:00<00:00,  5.54it/s]\n"
     ]
    },
    {
     "name": "stdout",
     "output_type": "stream",
     "text": [
      "Data(x=[15, 5], edge_index=[2, 30], edge_attr=[30, 4], y=[1, 2], pos=[15, 3], z=[15], smiles='[H]C#C[C@@]1([H])[NH2+]C(C([H])([H])[H])OC1([H])[H]', name='gdb_11226', idx=[1], adj_triu_mat=[1, 435], node_mat=[1, 29, 5], edge_triu_mat=[1, 406, 4])\n",
      "Data(x=[19, 5], edge_index=[2, 11], edge_attr=[11, 4])\n"
     ]
    },
    {
     "name": "stderr",
     "output_type": "stream",
     "text": [
      "Epoch 26 Training: 100%|██████████| 1/1 [00:00<00:00,  6.93it/s]\n"
     ]
    },
    {
     "name": "stdout",
     "output_type": "stream",
     "text": [
      "Data(x=[18, 5], edge_index=[2, 38], edge_attr=[38, 4], y=[1, 2], pos=[18, 3], z=[18], smiles='[H]C(=O)[C@]1([H])[N@@H+]2C([H])([H])[C@]([H])(OC([H])([H])[H])[C@@]21[H]', name='gdb_114376', idx=[1], adj_triu_mat=[1, 435], node_mat=[1, 29, 5], edge_triu_mat=[1, 406, 4])\n",
      "Data(x=[18, 5], edge_index=[2, 10], edge_attr=[10, 4])\n"
     ]
    },
    {
     "name": "stderr",
     "output_type": "stream",
     "text": [
      "Epoch 27 Training: 100%|██████████| 1/1 [00:00<00:00,  6.38it/s]\n"
     ]
    },
    {
     "name": "stdout",
     "output_type": "stream",
     "text": [
      "Data(x=[18, 5], edge_index=[2, 38], edge_attr=[38, 4], y=[1, 2], pos=[18, 3], z=[18], smiles='[H]C1=C([H])[C@@]2([H])C([H])([H])[C@@]2([H])OC([H])([H])C1([H])[H]', name='gdb_18391', idx=[1], adj_triu_mat=[1, 435], node_mat=[1, 29, 5], edge_triu_mat=[1, 406, 4])\n",
      "Data(x=[19, 5], edge_index=[2, 11], edge_attr=[11, 4])\n"
     ]
    },
    {
     "name": "stderr",
     "output_type": "stream",
     "text": [
      "Epoch 28 Training: 100%|██████████| 1/1 [00:00<00:00,  6.82it/s]\n"
     ]
    },
    {
     "name": "stdout",
     "output_type": "stream",
     "text": [
      "Data(x=[18, 5], edge_index=[2, 38], edge_attr=[38, 4], y=[1, 2], pos=[18, 3], z=[18], smiles='[H]C([H])([H])[C@]1([H])O[C@]2(C1([H])[H])C([H])([H])[C@@]2([H])C#N', name='gdb_89864', idx=[1], adj_triu_mat=[1, 435], node_mat=[1, 29, 5], edge_triu_mat=[1, 406, 4])\n",
      "Data(x=[18, 5], edge_index=[2, 10], edge_attr=[10, 4])\n"
     ]
    },
    {
     "name": "stderr",
     "output_type": "stream",
     "text": [
      "Epoch 29 Training: 100%|██████████| 1/1 [00:00<00:00,  5.86it/s]\n"
     ]
    },
    {
     "name": "stdout",
     "output_type": "stream",
     "text": [
      "Data(x=[18, 5], edge_index=[2, 36], edge_attr=[36, 4], y=[1, 2], pos=[18, 3], z=[18], smiles='[H][N-]C1OC([H])([H])C([NH2+]C([H])([H])[H])N([H])C1([H])[H]', name='gdb_97045', idx=[1], adj_triu_mat=[1, 435], node_mat=[1, 29, 5], edge_triu_mat=[1, 406, 4])\n",
      "Data(x=[18, 5], edge_index=[2, 10], edge_attr=[10, 4])\n"
     ]
    },
    {
     "name": "stderr",
     "output_type": "stream",
     "text": [
      "Epoch 30 Training: 100%|██████████| 1/1 [00:00<00:00,  6.68it/s]\n"
     ]
    },
    {
     "name": "stdout",
     "output_type": "stream",
     "text": [
      "Data(x=[16, 5], edge_index=[2, 34], edge_attr=[34, 4], y=[1, 2], pos=[16, 3], z=[16], smiles='[H]O[C@]1([H])C2=C([H])OC([H])=C2N([H])C1([H])[H]', name='gdb_30357', idx=[1], adj_triu_mat=[1, 435], node_mat=[1, 29, 5], edge_triu_mat=[1, 406, 4])\n",
      "Data(x=[18, 5], edge_index=[2, 10], edge_attr=[10, 4])\n"
     ]
    },
    {
     "name": "stderr",
     "output_type": "stream",
     "text": [
      "Epoch 31 Training: 100%|██████████| 1/1 [00:00<00:00,  6.24it/s]\n"
     ]
    },
    {
     "name": "stdout",
     "output_type": "stream",
     "text": [
      "Data(x=[16, 5], edge_index=[2, 34], edge_attr=[34, 4], y=[1, 2], pos=[16, 3], z=[16], smiles='[H]O[C@]1([H])C2=C([H])OC([H])=C2N([H])C1([H])[H]', name='gdb_30357', idx=[1], adj_triu_mat=[1, 435], node_mat=[1, 29, 5], edge_triu_mat=[1, 406, 4])\n",
      "Data(x=[18, 5], edge_index=[2, 10], edge_attr=[10, 4])\n"
     ]
    },
    {
     "name": "stderr",
     "output_type": "stream",
     "text": [
      "Epoch 32 Training: 100%|██████████| 1/1 [00:00<00:00,  7.23it/s]\n"
     ]
    },
    {
     "name": "stdout",
     "output_type": "stream",
     "text": [
      "Data(x=[16, 5], edge_index=[2, 34], edge_attr=[34, 4], y=[1, 2], pos=[16, 3], z=[16], smiles='[H]O[C@]1([H])C2=C([H])OC([H])=C2N([H])C1([H])[H]', name='gdb_30357', idx=[1], adj_triu_mat=[1, 435], node_mat=[1, 29, 5], edge_triu_mat=[1, 406, 4])\n",
      "Data(x=[18, 5], edge_index=[2, 11], edge_attr=[11, 4])\n"
     ]
    },
    {
     "name": "stderr",
     "output_type": "stream",
     "text": [
      "Epoch 33 Training: 100%|██████████| 1/1 [00:00<00:00,  5.10it/s]\n"
     ]
    },
    {
     "name": "stdout",
     "output_type": "stream",
     "text": [
      "Data(x=[23, 5], edge_index=[2, 50], edge_attr=[50, 4], y=[1, 2], pos=[23, 3], z=[23], smiles='[H]C([H])([H])[C@@]1([H])C([H])([H])[C@@]12C([H])([H])[C@@]1(C([H])([H])[H])C([H])([H])[C@]12[H]', name='gdb_87768', idx=[1], adj_triu_mat=[1, 435], node_mat=[1, 29, 5], edge_triu_mat=[1, 406, 4])\n",
      "Data(x=[18, 5], edge_index=[2, 10], edge_attr=[10, 4])\n"
     ]
    },
    {
     "name": "stderr",
     "output_type": "stream",
     "text": [
      "Epoch 34 Training: 100%|██████████| 1/1 [00:00<00:00,  6.00it/s]\n"
     ]
    },
    {
     "name": "stdout",
     "output_type": "stream",
     "text": [
      "Data(x=[16, 5], edge_index=[2, 34], edge_attr=[34, 4], y=[1, 2], pos=[16, 3], z=[16], smiles='[H]O[C@@]1(C#N)C([H])([H])[C@@]1([H])[C@]1([H])OC1([H])[H]', name='gdb_65372', idx=[1], adj_triu_mat=[1, 435], node_mat=[1, 29, 5], edge_triu_mat=[1, 406, 4])\n",
      "Data(x=[18, 5], edge_index=[2, 11], edge_attr=[11, 4])\n"
     ]
    },
    {
     "name": "stderr",
     "output_type": "stream",
     "text": [
      "Epoch 35 Training: 100%|██████████| 1/1 [00:00<00:00,  6.01it/s]\n"
     ]
    },
    {
     "name": "stdout",
     "output_type": "stream",
     "text": [
      "Data(x=[23, 5], edge_index=[2, 50], edge_attr=[50, 4], y=[1, 2], pos=[23, 3], z=[23], smiles='[H]C([H])([H])[C@@]1([H])C([H])([H])[C@@]12C([H])([H])[C@@]1(C([H])([H])[H])C([H])([H])[C@]12[H]', name='gdb_87768', idx=[1], adj_triu_mat=[1, 435], node_mat=[1, 29, 5], edge_triu_mat=[1, 406, 4])\n",
      "Data(x=[19, 5], edge_index=[2, 10], edge_attr=[10, 4])\n"
     ]
    },
    {
     "name": "stderr",
     "output_type": "stream",
     "text": [
      "Epoch 36 Training: 100%|██████████| 1/1 [00:00<00:00,  5.73it/s]\n"
     ]
    },
    {
     "name": "stdout",
     "output_type": "stream",
     "text": [
      "Data(x=[15, 5], edge_index=[2, 30], edge_attr=[30, 4], y=[1, 2], pos=[15, 3], z=[15], smiles='[H]C#C[C@@]1([H])[NH2+]C(C([H])([H])[H])OC1([H])[H]', name='gdb_11226', idx=[1], adj_triu_mat=[1, 435], node_mat=[1, 29, 5], edge_triu_mat=[1, 406, 4])\n",
      "Data(x=[18, 5], edge_index=[2, 10], edge_attr=[10, 4])\n"
     ]
    },
    {
     "name": "stderr",
     "output_type": "stream",
     "text": [
      "Epoch 37 Training: 100%|██████████| 1/1 [00:00<00:00,  6.77it/s]\n"
     ]
    },
    {
     "name": "stdout",
     "output_type": "stream",
     "text": [
      "Data(x=[18, 5], edge_index=[2, 36], edge_attr=[36, 4], y=[1, 2], pos=[18, 3], z=[18], smiles='[H][N-]C1OC([H])([H])C([NH2+]C([H])([H])[H])N([H])C1([H])[H]', name='gdb_97045', idx=[1], adj_triu_mat=[1, 435], node_mat=[1, 29, 5], edge_triu_mat=[1, 406, 4])\n",
      "Data(x=[18, 5], edge_index=[2, 11], edge_attr=[11, 4])\n"
     ]
    },
    {
     "name": "stderr",
     "output_type": "stream",
     "text": [
      "Epoch 38 Training: 100%|██████████| 1/1 [00:00<00:00,  5.90it/s]\n"
     ]
    },
    {
     "name": "stdout",
     "output_type": "stream",
     "text": [
      "Data(x=[14, 5], edge_index=[2, 30], edge_attr=[30, 4], y=[1, 2], pos=[14, 3], z=[14], smiles='[H]N([H])C1=NC([C@]2([H])OC2([H])[H])=NO1', name='gdb_129970', idx=[1], adj_triu_mat=[1, 435], node_mat=[1, 29, 5], edge_triu_mat=[1, 406, 4])\n",
      "Data(x=[18, 5], edge_index=[2, 11], edge_attr=[11, 4])\n"
     ]
    },
    {
     "name": "stderr",
     "output_type": "stream",
     "text": [
      "Epoch 39 Training: 100%|██████████| 1/1 [00:00<00:00,  4.36it/s]\n"
     ]
    },
    {
     "name": "stdout",
     "output_type": "stream",
     "text": [
      "Data(x=[19, 5], edge_index=[2, 40], edge_attr=[40, 4], y=[1, 2], pos=[19, 3], z=[19], smiles='[H]OC([H])([H])[C@@]1(C([H])([H])[H])[N@@H+]2C([H])([H])[C@]2([H])C1([H])[H]', name='gdb_12062', idx=[1], adj_triu_mat=[1, 435], node_mat=[1, 29, 5], edge_triu_mat=[1, 406, 4])\n",
      "Data(x=[18, 5], edge_index=[2, 11], edge_attr=[11, 4])\n"
     ]
    },
    {
     "name": "stderr",
     "output_type": "stream",
     "text": [
      "Epoch 40 Training: 100%|██████████| 1/1 [00:00<00:00,  5.62it/s]\n"
     ]
    },
    {
     "name": "stdout",
     "output_type": "stream",
     "text": [
      "Data(x=[21, 5], edge_index=[2, 42], edge_attr=[42, 4], y=[1, 2], pos=[21, 3], z=[21], smiles='[H]O[C@]1([H])C([H])([H])[C@]([H])(C([H])([H])C([H])([H])[H])[C@]1([H])C([H])=O', name='gdb_112792', idx=[1], adj_triu_mat=[1, 435], node_mat=[1, 29, 5], edge_triu_mat=[1, 406, 4])\n",
      "Data(x=[18, 5], edge_index=[2, 11], edge_attr=[11, 4])\n"
     ]
    },
    {
     "name": "stderr",
     "output_type": "stream",
     "text": [
      "Epoch 41 Training: 100%|██████████| 1/1 [00:00<00:00,  7.39it/s]\n"
     ]
    },
    {
     "name": "stdout",
     "output_type": "stream",
     "text": [
      "Data(x=[17, 5], edge_index=[2, 32], edge_attr=[32, 4], y=[1, 2], pos=[17, 3], z=[17], smiles='[H]/N=C(/OC([H])([H])C([H])([H])O[H])N([H])C([H])=O', name='gdb_121723', idx=[1], adj_triu_mat=[1, 435], node_mat=[1, 29, 5], edge_triu_mat=[1, 406, 4])\n",
      "Data(x=[18, 5], edge_index=[2, 10], edge_attr=[10, 4])\n"
     ]
    },
    {
     "name": "stderr",
     "output_type": "stream",
     "text": [
      "Epoch 42 Training: 100%|██████████| 1/1 [00:00<00:00,  7.33it/s]\n"
     ]
    },
    {
     "name": "stdout",
     "output_type": "stream",
     "text": [
      "Data(x=[19, 5], edge_index=[2, 40], edge_attr=[40, 4], y=[1, 2], pos=[19, 3], z=[19], smiles='[H]/C1=N/C([H])([H])C([H])([H])[N@H+]2C([H])([H])[C@@]2([H])C([H])([H])O1', name='gdb_39380', idx=[1], adj_triu_mat=[1, 435], node_mat=[1, 29, 5], edge_triu_mat=[1, 406, 4])\n",
      "Data(x=[19, 5], edge_index=[2, 11], edge_attr=[11, 4])\n"
     ]
    },
    {
     "name": "stderr",
     "output_type": "stream",
     "text": [
      "Epoch 43 Training: 100%|██████████| 1/1 [00:00<00:00,  7.04it/s]\n"
     ]
    },
    {
     "name": "stdout",
     "output_type": "stream",
     "text": [
      "Data(x=[18, 5], edge_index=[2, 38], edge_attr=[38, 4], y=[1, 2], pos=[18, 3], z=[18], smiles='[H]C1=NC([H])([H])C([NH2+]C2([H])C([H])([H])C2([H])[H])N1[H]', name='gdb_40843', idx=[1], adj_triu_mat=[1, 435], node_mat=[1, 29, 5], edge_triu_mat=[1, 406, 4])\n",
      "Data(x=[18, 5], edge_index=[2, 11], edge_attr=[11, 4])\n"
     ]
    },
    {
     "name": "stderr",
     "output_type": "stream",
     "text": [
      "Epoch 44 Training: 100%|██████████| 1/1 [00:00<00:00,  6.27it/s]\n"
     ]
    },
    {
     "name": "stdout",
     "output_type": "stream",
     "text": [
      "Data(x=[20, 5], edge_index=[2, 44], edge_attr=[44, 4], y=[1, 2], pos=[20, 3], z=[20], smiles='[H]N1[C@@]2([H])[C@]3(O[C@]3([H])C([H])([H])C([H])([H])[H])C([H])([H])[C@@]12[H]', name='gdb_113461', idx=[1], adj_triu_mat=[1, 435], node_mat=[1, 29, 5], edge_triu_mat=[1, 406, 4])\n",
      "Data(x=[18, 5], edge_index=[2, 11], edge_attr=[11, 4])\n"
     ]
    },
    {
     "name": "stderr",
     "output_type": "stream",
     "text": [
      "Epoch 45 Training: 100%|██████████| 1/1 [00:00<00:00,  6.97it/s]\n"
     ]
    },
    {
     "name": "stdout",
     "output_type": "stream",
     "text": [
      "Data(x=[18, 5], edge_index=[2, 38], edge_attr=[38, 4], y=[1, 2], pos=[18, 3], z=[18], smiles='[H]C#CC([H])([H])[C@]1(O[H])C([H])([H])[C@@]2([H])N([H])[C@@]12[H]', name='gdb_64721', idx=[1], adj_triu_mat=[1, 435], node_mat=[1, 29, 5], edge_triu_mat=[1, 406, 4])\n",
      "Data(x=[18, 5], edge_index=[2, 10], edge_attr=[10, 4])\n"
     ]
    },
    {
     "name": "stderr",
     "output_type": "stream",
     "text": [
      "Epoch 46 Training: 100%|██████████| 1/1 [00:00<00:00,  6.65it/s]\n"
     ]
    },
    {
     "name": "stdout",
     "output_type": "stream",
     "text": [
      "Data(x=[19, 5], edge_index=[2, 40], edge_attr=[40, 4], y=[1, 2], pos=[19, 3], z=[19], smiles='[H]C(=O)N([H])[C@@]1([H])C([H])([H])[N@H+]2C([H])([H])C([H])([H])[C@]21[H]', name='gdb_51674', idx=[1], adj_triu_mat=[1, 435], node_mat=[1, 29, 5], edge_triu_mat=[1, 406, 4])\n",
      "Data(x=[18, 5], edge_index=[2, 12], edge_attr=[12, 4])\n"
     ]
    },
    {
     "name": "stderr",
     "output_type": "stream",
     "text": [
      "Epoch 47 Training: 100%|██████████| 1/1 [00:00<00:00,  5.16it/s]\n"
     ]
    },
    {
     "name": "stdout",
     "output_type": "stream",
     "text": [
      "Data(x=[16, 5], edge_index=[2, 34], edge_attr=[34, 4], y=[1, 2], pos=[16, 3], z=[16], smiles='[H]O[C@@]1(C#N)C([H])([H])[C@@]1([H])[C@]1([H])OC1([H])[H]', name='gdb_65372', idx=[1], adj_triu_mat=[1, 435], node_mat=[1, 29, 5], edge_triu_mat=[1, 406, 4])\n",
      "Data(x=[18, 5], edge_index=[2, 11], edge_attr=[11, 4])\n"
     ]
    },
    {
     "name": "stderr",
     "output_type": "stream",
     "text": [
      "Epoch 48 Training: 100%|██████████| 1/1 [00:00<00:00,  6.35it/s]\n"
     ]
    },
    {
     "name": "stdout",
     "output_type": "stream",
     "text": [
      "Data(x=[19, 5], edge_index=[2, 42], edge_attr=[42, 4], y=[1, 2], pos=[19, 3], z=[19], smiles='[H]C([H])([H])O[C@]12C([H])([H])[C@@]1([H])[C@@]1([H])O[C@]12C([H])([H])[H]', name='gdb_107257', idx=[1], adj_triu_mat=[1, 435], node_mat=[1, 29, 5], edge_triu_mat=[1, 406, 4])\n",
      "Data(x=[18, 5], edge_index=[2, 10], edge_attr=[10, 4])\n"
     ]
    },
    {
     "name": "stderr",
     "output_type": "stream",
     "text": [
      "Epoch 49 Training: 100%|██████████| 1/1 [00:00<00:00,  5.79it/s]\n"
     ]
    },
    {
     "name": "stdout",
     "output_type": "stream",
     "text": [
      "Data(x=[21, 5], edge_index=[2, 42], edge_attr=[42, 4], y=[1, 2], pos=[21, 3], z=[21], smiles='[H]O[C@]1([H])C([H])([H])[C@]([H])(C([H])([H])C([H])([H])[H])[C@]1([H])C([H])=O', name='gdb_112792', idx=[1], adj_triu_mat=[1, 435], node_mat=[1, 29, 5], edge_triu_mat=[1, 406, 4])\n",
      "Data(x=[18, 5], edge_index=[2, 11], edge_attr=[11, 4])\n"
     ]
    },
    {
     "name": "stderr",
     "output_type": "stream",
     "text": [
      "Epoch 50 Training: 100%|██████████| 1/1 [00:00<00:00,  6.82it/s]\n"
     ]
    },
    {
     "name": "stdout",
     "output_type": "stream",
     "text": [
      "Data(x=[17, 5], edge_index=[2, 32], edge_attr=[32, 4], y=[1, 2], pos=[17, 3], z=[17], smiles='[H]/N=C(/OC([H])([H])C([H])([H])O[H])N([H])C([H])=O', name='gdb_121723', idx=[1], adj_triu_mat=[1, 435], node_mat=[1, 29, 5], edge_triu_mat=[1, 406, 4])\n",
      "Data(x=[18, 5], edge_index=[2, 10], edge_attr=[10, 4])\n"
     ]
    },
    {
     "name": "stderr",
     "output_type": "stream",
     "text": [
      "Epoch 51 Training: 100%|██████████| 1/1 [00:01<00:00,  1.59s/it]\n"
     ]
    },
    {
     "name": "stdout",
     "output_type": "stream",
     "text": [
      "Data(x=[17, 5], edge_index=[2, 34], edge_attr=[34, 4], y=[1, 2], pos=[17, 3], z=[17], smiles='[H]C([H])([H])C([H])([H])O[C@]1([H])OC(=O)OC1([H])[H]', name='gdb_121054', idx=[1], adj_triu_mat=[1, 435], node_mat=[1, 29, 5], edge_triu_mat=[1, 406, 4])\n",
      "Data(x=[18, 5], edge_index=[2, 11], edge_attr=[11, 4])\n"
     ]
    },
    {
     "name": "stderr",
     "output_type": "stream",
     "text": [
      "Epoch 52 Training: 100%|██████████| 1/1 [00:00<00:00,  5.13it/s]\n"
     ]
    },
    {
     "name": "stdout",
     "output_type": "stream",
     "text": [
      "Data(x=[16, 5], edge_index=[2, 34], edge_attr=[34, 4], y=[1, 2], pos=[16, 3], z=[16], smiles='[H]O[C@]1([H])C2=C([H])OC([H])=C2N([H])C1([H])[H]', name='gdb_30357', idx=[1], adj_triu_mat=[1, 435], node_mat=[1, 29, 5], edge_triu_mat=[1, 406, 4])\n",
      "Data(x=[18, 5], edge_index=[2, 11], edge_attr=[11, 4])\n"
     ]
    },
    {
     "name": "stderr",
     "output_type": "stream",
     "text": [
      "Epoch 53 Training: 100%|██████████| 1/1 [00:00<00:00,  6.60it/s]\n"
     ]
    },
    {
     "name": "stdout",
     "output_type": "stream",
     "text": [
      "Data(x=[17, 5], edge_index=[2, 34], edge_attr=[34, 4], y=[1, 2], pos=[17, 3], z=[17], smiles='[H]C([H])([H])C([H])([H])O[C@]1([H])OC(=O)OC1([H])[H]', name='gdb_121054', idx=[1], adj_triu_mat=[1, 435], node_mat=[1, 29, 5], edge_triu_mat=[1, 406, 4])\n",
      "Data(x=[18, 5], edge_index=[2, 11], edge_attr=[11, 4])\n"
     ]
    },
    {
     "name": "stderr",
     "output_type": "stream",
     "text": [
      "Epoch 54 Training: 100%|██████████| 1/1 [00:00<00:00,  6.97it/s]\n"
     ]
    },
    {
     "name": "stdout",
     "output_type": "stream",
     "text": [
      "Data(x=[18, 5], edge_index=[2, 38], edge_attr=[38, 4], y=[1, 2], pos=[18, 3], z=[18], smiles='[H]C(=O)[C@]1([H])[N@@H+]2C([H])([H])[C@]([H])(OC([H])([H])[H])[C@@]21[H]', name='gdb_114376', idx=[1], adj_triu_mat=[1, 435], node_mat=[1, 29, 5], edge_triu_mat=[1, 406, 4])\n",
      "Data(x=[18, 5], edge_index=[2, 10], edge_attr=[10, 4])\n"
     ]
    },
    {
     "name": "stderr",
     "output_type": "stream",
     "text": [
      "Epoch 55 Training: 100%|██████████| 1/1 [00:00<00:00,  5.05it/s]\n"
     ]
    },
    {
     "name": "stdout",
     "output_type": "stream",
     "text": [
      "Data(x=[18, 5], edge_index=[2, 38], edge_attr=[38, 4], y=[1, 2], pos=[18, 3], z=[18], smiles='[H]C#CC([H])([H])[C@]1(O[H])C([H])([H])[C@@]2([H])N([H])[C@@]12[H]', name='gdb_64721', idx=[1], adj_triu_mat=[1, 435], node_mat=[1, 29, 5], edge_triu_mat=[1, 406, 4])\n",
      "Data(x=[19, 5], edge_index=[2, 10], edge_attr=[10, 4])\n"
     ]
    },
    {
     "name": "stderr",
     "output_type": "stream",
     "text": [
      "Epoch 56 Training: 100%|██████████| 1/1 [00:00<00:00,  5.60it/s]\n"
     ]
    },
    {
     "name": "stdout",
     "output_type": "stream",
     "text": [
      "Data(x=[20, 5], edge_index=[2, 46], edge_attr=[46, 4], y=[1, 2], pos=[20, 3], z=[20], smiles='[H]C([H])([H])[C@@]12[N@@H+]3[C@@]4([H])[C@]3([H])[C@]1(C([H])([H])[H])[C@@]4([H])C2([H])[H]', name='gdb_71709', idx=[1], adj_triu_mat=[1, 435], node_mat=[1, 29, 5], edge_triu_mat=[1, 406, 4])\n",
      "Data(x=[18, 5], edge_index=[2, 10], edge_attr=[10, 4])\n"
     ]
    },
    {
     "name": "stderr",
     "output_type": "stream",
     "text": [
      "Epoch 57 Training: 100%|██████████| 1/1 [00:00<00:00,  6.15it/s]\n"
     ]
    },
    {
     "name": "stdout",
     "output_type": "stream",
     "text": [
      "Data(x=[18, 5], edge_index=[2, 38], edge_attr=[38, 4], y=[1, 2], pos=[18, 3], z=[18], smiles='[H]C#CC([H])([H])[C@]1(O[H])C([H])([H])[C@@]2([H])N([H])[C@@]12[H]', name='gdb_64721', idx=[1], adj_triu_mat=[1, 435], node_mat=[1, 29, 5], edge_triu_mat=[1, 406, 4])\n",
      "Data(x=[18, 5], edge_index=[2, 11], edge_attr=[11, 4])\n"
     ]
    },
    {
     "name": "stderr",
     "output_type": "stream",
     "text": [
      "Epoch 58 Training: 100%|██████████| 1/1 [00:00<00:00,  6.73it/s]\n"
     ]
    },
    {
     "name": "stdout",
     "output_type": "stream",
     "text": [
      "Data(x=[20, 5], edge_index=[2, 40], edge_attr=[40, 4], y=[1, 2], pos=[20, 3], z=[20], smiles='[H]OC([H])([H])[C@@]([H])([N@H+]1C([H])([H])[C@@]1([H])C([H])=O)C([H])([H])[H]', name='gdb_101299', idx=[1], adj_triu_mat=[1, 435], node_mat=[1, 29, 5], edge_triu_mat=[1, 406, 4])\n",
      "Data(x=[18, 5], edge_index=[2, 11], edge_attr=[11, 4])\n"
     ]
    },
    {
     "name": "stderr",
     "output_type": "stream",
     "text": [
      "Epoch 59 Training: 100%|██████████| 1/1 [00:00<00:00,  7.21it/s]\n"
     ]
    },
    {
     "name": "stdout",
     "output_type": "stream",
     "text": [
      "Data(x=[15, 5], edge_index=[2, 30], edge_attr=[30, 4], y=[1, 2], pos=[15, 3], z=[15], smiles='[H]OC1=NC(O[H])=C(C([H])([H])[H])N=C1[H]', name='gdb_28507', idx=[1], adj_triu_mat=[1, 435], node_mat=[1, 29, 5], edge_triu_mat=[1, 406, 4])\n",
      "Data(x=[18, 5], edge_index=[2, 10], edge_attr=[10, 4])\n"
     ]
    },
    {
     "name": "stderr",
     "output_type": "stream",
     "text": [
      "Epoch 60 Training: 100%|██████████| 1/1 [00:00<00:00,  6.92it/s]\n"
     ]
    },
    {
     "name": "stdout",
     "output_type": "stream",
     "text": [
      "Data(x=[17, 5], edge_index=[2, 34], edge_attr=[34, 4], y=[1, 2], pos=[17, 3], z=[17], smiles='[H]C([H])([H])C([H])([H])O[C@]1([H])OC(=O)OC1([H])[H]', name='gdb_121054', idx=[1], adj_triu_mat=[1, 435], node_mat=[1, 29, 5], edge_triu_mat=[1, 406, 4])\n",
      "Data(x=[18, 5], edge_index=[2, 11], edge_attr=[11, 4])\n"
     ]
    },
    {
     "name": "stderr",
     "output_type": "stream",
     "text": [
      "Epoch 61 Training: 100%|██████████| 1/1 [00:00<00:00,  6.28it/s]\n"
     ]
    },
    {
     "name": "stdout",
     "output_type": "stream",
     "text": [
      "Data(x=[18, 5], edge_index=[2, 38], edge_attr=[38, 4], y=[1, 2], pos=[18, 3], z=[18], smiles='[H]C1=C([H])[C@@]2([H])C([H])([H])[C@@]2([H])OC([H])([H])C1([H])[H]', name='gdb_18391', idx=[1], adj_triu_mat=[1, 435], node_mat=[1, 29, 5], edge_triu_mat=[1, 406, 4])\n",
      "Data(x=[19, 5], edge_index=[2, 11], edge_attr=[11, 4])\n"
     ]
    },
    {
     "name": "stderr",
     "output_type": "stream",
     "text": [
      "Epoch 62 Training: 100%|██████████| 1/1 [00:00<00:00,  6.58it/s]\n"
     ]
    },
    {
     "name": "stdout",
     "output_type": "stream",
     "text": [
      "Data(x=[17, 5], edge_index=[2, 34], edge_attr=[34, 4], y=[1, 2], pos=[17, 3], z=[17], smiles='[H]C([H])([H])C([H])([H])O[C@]1([H])OC(=O)OC1([H])[H]', name='gdb_121054', idx=[1], adj_triu_mat=[1, 435], node_mat=[1, 29, 5], edge_triu_mat=[1, 406, 4])\n",
      "Data(x=[18, 5], edge_index=[2, 11], edge_attr=[11, 4])\n"
     ]
    },
    {
     "name": "stderr",
     "output_type": "stream",
     "text": [
      "Epoch 63 Training: 100%|██████████| 1/1 [00:00<00:00,  5.26it/s]\n"
     ]
    },
    {
     "name": "stdout",
     "output_type": "stream",
     "text": [
      "Data(x=[25, 5], edge_index=[2, 52], edge_attr=[52, 4], y=[1, 2], pos=[25, 3], z=[25], smiles='[H]C([H])([H])C([H])([H])[C@@]1([H])C([H])([H])[C@@]([H])(C([H])([H])[H])[C@@]2([H])C([H])([H])[C@@]12[H]', name='gdb_112835', idx=[1], adj_triu_mat=[1, 435], node_mat=[1, 29, 5], edge_triu_mat=[1, 406, 4])\n",
      "Data(x=[18, 5], edge_index=[2, 11], edge_attr=[11, 4])\n"
     ]
    },
    {
     "name": "stderr",
     "output_type": "stream",
     "text": [
      "Epoch 64 Training: 100%|██████████| 1/1 [00:00<00:00,  5.39it/s]\n"
     ]
    },
    {
     "name": "stdout",
     "output_type": "stream",
     "text": [
      "Data(x=[17, 5], edge_index=[2, 32], edge_attr=[32, 4], y=[1, 2], pos=[17, 3], z=[17], smiles='[H]/N=C(/OC([H])([H])C([H])([H])O[H])N([H])C([H])=O', name='gdb_121723', idx=[1], adj_triu_mat=[1, 435], node_mat=[1, 29, 5], edge_triu_mat=[1, 406, 4])\n",
      "Data(x=[18, 5], edge_index=[2, 11], edge_attr=[11, 4])\n"
     ]
    },
    {
     "name": "stderr",
     "output_type": "stream",
     "text": [
      "Epoch 65 Training: 100%|██████████| 1/1 [00:00<00:00,  6.63it/s]\n"
     ]
    },
    {
     "name": "stdout",
     "output_type": "stream",
     "text": [
      "Data(x=[21, 5], edge_index=[2, 42], edge_attr=[42, 4], y=[1, 2], pos=[21, 3], z=[21], smiles='[H]O[C@]1([H])[C@]([H])(O[H])C([H])([H])C([H])=C([H])[C@]1([H])C([H])([H])[H]', name='gdb_92903', idx=[1], adj_triu_mat=[1, 435], node_mat=[1, 29, 5], edge_triu_mat=[1, 406, 4])\n",
      "Data(x=[18, 5], edge_index=[2, 10], edge_attr=[10, 4])\n"
     ]
    },
    {
     "name": "stderr",
     "output_type": "stream",
     "text": [
      "Epoch 66 Training: 100%|██████████| 1/1 [00:00<00:00,  6.51it/s]\n"
     ]
    },
    {
     "name": "stdout",
     "output_type": "stream",
     "text": [
      "Data(x=[15, 5], edge_index=[2, 30], edge_attr=[30, 4], y=[1, 2], pos=[15, 3], z=[15], smiles='[H]C#C[C@@]1([H])[NH2+]C(C([H])([H])[H])OC1([H])[H]', name='gdb_11226', idx=[1], adj_triu_mat=[1, 435], node_mat=[1, 29, 5], edge_triu_mat=[1, 406, 4])\n",
      "Data(x=[18, 5], edge_index=[2, 11], edge_attr=[11, 4])\n"
     ]
    },
    {
     "name": "stderr",
     "output_type": "stream",
     "text": [
      "Epoch 67 Training: 100%|██████████| 1/1 [00:00<00:00,  6.32it/s]\n"
     ]
    },
    {
     "name": "stdout",
     "output_type": "stream",
     "text": [
      "Data(x=[21, 5], edge_index=[2, 42], edge_attr=[42, 4], y=[1, 2], pos=[21, 3], z=[21], smiles='[H]OC1([C@]([H])(C([H])=O)C([H])([H])[H])C([H])([H])C([H])([H])C1([H])[H]', name='gdb_60858', idx=[1], adj_triu_mat=[1, 435], node_mat=[1, 29, 5], edge_triu_mat=[1, 406, 4])\n",
      "Data(x=[18, 5], edge_index=[2, 10], edge_attr=[10, 4])\n"
     ]
    },
    {
     "name": "stderr",
     "output_type": "stream",
     "text": [
      "Epoch 68 Training: 100%|██████████| 1/1 [00:00<00:00,  5.94it/s]\n"
     ]
    },
    {
     "name": "stdout",
     "output_type": "stream",
     "text": [
      "Data(x=[15, 5], edge_index=[2, 30], edge_attr=[30, 4], y=[1, 2], pos=[15, 3], z=[15], smiles='[H]OC1=NC(O[H])=C(C([H])([H])[H])N=C1[H]', name='gdb_28507', idx=[1], adj_triu_mat=[1, 435], node_mat=[1, 29, 5], edge_triu_mat=[1, 406, 4])\n",
      "Data(x=[18, 5], edge_index=[2, 10], edge_attr=[10, 4])\n"
     ]
    },
    {
     "name": "stderr",
     "output_type": "stream",
     "text": [
      "Epoch 69 Training: 100%|██████████| 1/1 [00:00<00:00,  6.06it/s]\n"
     ]
    },
    {
     "name": "stdout",
     "output_type": "stream",
     "text": [
      "Data(x=[16, 5], edge_index=[2, 34], edge_attr=[34, 4], y=[1, 2], pos=[16, 3], z=[16], smiles='[H]O[C@@]1(C#N)C([H])([H])[C@@]1([H])[C@]1([H])OC1([H])[H]', name='gdb_65372', idx=[1], adj_triu_mat=[1, 435], node_mat=[1, 29, 5], edge_triu_mat=[1, 406, 4])\n",
      "Data(x=[18, 5], edge_index=[2, 10], edge_attr=[10, 4])\n"
     ]
    },
    {
     "name": "stderr",
     "output_type": "stream",
     "text": [
      "Epoch 70 Training: 100%|██████████| 1/1 [00:00<00:00,  6.53it/s]\n"
     ]
    },
    {
     "name": "stdout",
     "output_type": "stream",
     "text": [
      "Data(x=[20, 5], edge_index=[2, 44], edge_attr=[44, 4], y=[1, 2], pos=[20, 3], z=[20], smiles='[H]N1[C@@]2([H])[C@]3(O[C@]3([H])C([H])([H])C([H])([H])[H])C([H])([H])[C@@]12[H]', name='gdb_113461', idx=[1], adj_triu_mat=[1, 435], node_mat=[1, 29, 5], edge_triu_mat=[1, 406, 4])\n",
      "Data(x=[18, 5], edge_index=[2, 11], edge_attr=[11, 4])\n"
     ]
    },
    {
     "name": "stderr",
     "output_type": "stream",
     "text": [
      "Epoch 71 Training: 100%|██████████| 1/1 [00:00<00:00,  6.93it/s]\n"
     ]
    },
    {
     "name": "stdout",
     "output_type": "stream",
     "text": [
      "Data(x=[16, 5], edge_index=[2, 34], edge_attr=[34, 4], y=[1, 2], pos=[16, 3], z=[16], smiles='[H]O[C@]1([H])C2=C([H])OC([H])=C2N([H])C1([H])[H]', name='gdb_30357', idx=[1], adj_triu_mat=[1, 435], node_mat=[1, 29, 5], edge_triu_mat=[1, 406, 4])\n",
      "Data(x=[18, 5], edge_index=[2, 11], edge_attr=[11, 4])\n"
     ]
    },
    {
     "name": "stderr",
     "output_type": "stream",
     "text": [
      "Epoch 72 Training: 100%|██████████| 1/1 [00:00<00:00,  5.92it/s]\n"
     ]
    },
    {
     "name": "stdout",
     "output_type": "stream",
     "text": [
      "Data(x=[18, 5], edge_index=[2, 36], edge_attr=[36, 4], y=[1, 2], pos=[18, 3], z=[18], smiles='[H][N-]C1OC([H])([H])C([NH2+]C([H])([H])[H])N([H])C1([H])[H]', name='gdb_97045', idx=[1], adj_triu_mat=[1, 435], node_mat=[1, 29, 5], edge_triu_mat=[1, 406, 4])\n",
      "Data(x=[18, 5], edge_index=[2, 11], edge_attr=[11, 4])\n"
     ]
    },
    {
     "name": "stderr",
     "output_type": "stream",
     "text": [
      "Epoch 73 Training: 100%|██████████| 1/1 [00:00<00:00,  5.55it/s]\n"
     ]
    },
    {
     "name": "stdout",
     "output_type": "stream",
     "text": [
      "Data(x=[18, 5], edge_index=[2, 36], edge_attr=[36, 4], y=[1, 2], pos=[18, 3], z=[18], smiles='[H]O[C@]1([H])C([H])=C(C([H])([H])[H])C([H])([H])[C@@]1([H])C#N', name='gdb_84136', idx=[1], adj_triu_mat=[1, 435], node_mat=[1, 29, 5], edge_triu_mat=[1, 406, 4])\n",
      "Data(x=[18, 5], edge_index=[2, 11], edge_attr=[11, 4])\n"
     ]
    },
    {
     "name": "stderr",
     "output_type": "stream",
     "text": [
      "Epoch 74 Training: 100%|██████████| 1/1 [00:00<00:00,  6.22it/s]\n"
     ]
    },
    {
     "name": "stdout",
     "output_type": "stream",
     "text": [
      "Data(x=[18, 5], edge_index=[2, 38], edge_attr=[38, 4], y=[1, 2], pos=[18, 3], z=[18], smiles='[H]C(=O)[C@]1([H])[N@@H+]2C([H])([H])[C@]([H])(OC([H])([H])[H])[C@@]21[H]', name='gdb_114376', idx=[1], adj_triu_mat=[1, 435], node_mat=[1, 29, 5], edge_triu_mat=[1, 406, 4])\n",
      "Data(x=[18, 5], edge_index=[2, 11], edge_attr=[11, 4])\n"
     ]
    },
    {
     "name": "stderr",
     "output_type": "stream",
     "text": [
      "Epoch 75 Training: 100%|██████████| 1/1 [00:00<00:00,  5.56it/s]\n"
     ]
    },
    {
     "name": "stdout",
     "output_type": "stream",
     "text": [
      "Data(x=[21, 5], edge_index=[2, 42], edge_attr=[42, 4], y=[1, 2], pos=[21, 3], z=[21], smiles='[H]O[C@]1([H])C([H])([H])[C@]([H])(C([H])([H])C([H])([H])[H])[C@]1([H])C([H])=O', name='gdb_112792', idx=[1], adj_triu_mat=[1, 435], node_mat=[1, 29, 5], edge_triu_mat=[1, 406, 4])\n",
      "Data(x=[18, 5], edge_index=[2, 10], edge_attr=[10, 4])\n"
     ]
    },
    {
     "name": "stderr",
     "output_type": "stream",
     "text": [
      "Epoch 76 Training: 100%|██████████| 1/1 [00:00<00:00,  5.99it/s]\n"
     ]
    },
    {
     "name": "stdout",
     "output_type": "stream",
     "text": [
      "Data(x=[19, 5], edge_index=[2, 40], edge_attr=[40, 4], y=[1, 2], pos=[19, 3], z=[19], smiles='[H]C(=O)N([H])[C@@]1([H])C([H])([H])[N@H+]2C([H])([H])C([H])([H])[C@]21[H]', name='gdb_51674', idx=[1], adj_triu_mat=[1, 435], node_mat=[1, 29, 5], edge_triu_mat=[1, 406, 4])\n",
      "Data(x=[17, 5], edge_index=[2, 11], edge_attr=[11, 4])\n"
     ]
    },
    {
     "name": "stderr",
     "output_type": "stream",
     "text": [
      "Epoch 77 Training: 100%|██████████| 1/1 [00:00<00:00,  6.21it/s]\n"
     ]
    },
    {
     "name": "stdout",
     "output_type": "stream",
     "text": [
      "Data(x=[18, 5], edge_index=[2, 38], edge_attr=[38, 4], y=[1, 2], pos=[18, 3], z=[18], smiles='[H]C([H])([H])[C@]1([H])O[C@]2(C1([H])[H])C([H])([H])[C@@]2([H])C#N', name='gdb_89864', idx=[1], adj_triu_mat=[1, 435], node_mat=[1, 29, 5], edge_triu_mat=[1, 406, 4])\n",
      "Data(x=[18, 5], edge_index=[2, 11], edge_attr=[11, 4])\n"
     ]
    },
    {
     "name": "stderr",
     "output_type": "stream",
     "text": [
      "Epoch 78 Training: 100%|██████████| 1/1 [00:00<00:00,  5.73it/s]\n"
     ]
    },
    {
     "name": "stdout",
     "output_type": "stream",
     "text": [
      "Data(x=[21, 5], edge_index=[2, 42], edge_attr=[42, 4], y=[1, 2], pos=[21, 3], z=[21], smiles='[H]O[C@]1([H])C([H])([H])[C@]([H])(C([H])([H])C([H])([H])[H])[C@]1([H])C([H])=O', name='gdb_112792', idx=[1], adj_triu_mat=[1, 435], node_mat=[1, 29, 5], edge_triu_mat=[1, 406, 4])\n",
      "Data(x=[18, 5], edge_index=[2, 10], edge_attr=[10, 4])\n"
     ]
    },
    {
     "name": "stderr",
     "output_type": "stream",
     "text": [
      "Epoch 79 Training: 100%|██████████| 1/1 [00:00<00:00,  6.48it/s]\n"
     ]
    },
    {
     "name": "stdout",
     "output_type": "stream",
     "text": [
      "Data(x=[17, 5], edge_index=[2, 32], edge_attr=[32, 4], y=[1, 2], pos=[17, 3], z=[17], smiles='[H]O[C@@]([H])(C([H])=O)C([H])(C([H])([H])[H])C([H])([H])[H]', name='gdb_1626', idx=[1], adj_triu_mat=[1, 435], node_mat=[1, 29, 5], edge_triu_mat=[1, 406, 4])\n",
      "Data(x=[18, 5], edge_index=[2, 10], edge_attr=[10, 4])\n"
     ]
    },
    {
     "name": "stderr",
     "output_type": "stream",
     "text": [
      "Epoch 80 Training: 100%|██████████| 1/1 [00:00<00:00,  6.66it/s]\n"
     ]
    },
    {
     "name": "stdout",
     "output_type": "stream",
     "text": [
      "Data(x=[21, 5], edge_index=[2, 42], edge_attr=[42, 4], y=[1, 2], pos=[21, 3], z=[21], smiles='[H]O[C@]1([H])C([H])([H])[C@]([H])(C([H])([H])C([H])([H])[H])[C@]1([H])C([H])=O', name='gdb_112792', idx=[1], adj_triu_mat=[1, 435], node_mat=[1, 29, 5], edge_triu_mat=[1, 406, 4])\n",
      "Data(x=[19, 5], edge_index=[2, 11], edge_attr=[11, 4])\n"
     ]
    },
    {
     "name": "stderr",
     "output_type": "stream",
     "text": [
      "Epoch 81 Training: 100%|██████████| 1/1 [00:00<00:00,  5.42it/s]\n"
     ]
    },
    {
     "name": "stdout",
     "output_type": "stream",
     "text": [
      "Data(x=[16, 5], edge_index=[2, 34], edge_attr=[34, 4], y=[1, 2], pos=[16, 3], z=[16], smiles='[H]O[C@]1([H])C2=C([H])OC([H])=C2N([H])C1([H])[H]', name='gdb_30357', idx=[1], adj_triu_mat=[1, 435], node_mat=[1, 29, 5], edge_triu_mat=[1, 406, 4])\n",
      "Data(x=[18, 5], edge_index=[2, 11], edge_attr=[11, 4])\n"
     ]
    },
    {
     "name": "stderr",
     "output_type": "stream",
     "text": [
      "Epoch 82 Training: 100%|██████████| 1/1 [00:00<00:00,  6.02it/s]\n"
     ]
    },
    {
     "name": "stdout",
     "output_type": "stream",
     "text": [
      "Data(x=[18, 5], edge_index=[2, 36], edge_attr=[36, 4], y=[1, 2], pos=[18, 3], z=[18], smiles='[H]O[C@]1([H])C([H])=C(C([H])([H])[H])C([H])([H])[C@@]1([H])C#N', name='gdb_84136', idx=[1], adj_triu_mat=[1, 435], node_mat=[1, 29, 5], edge_triu_mat=[1, 406, 4])\n",
      "Data(x=[18, 5], edge_index=[2, 10], edge_attr=[10, 4])\n"
     ]
    },
    {
     "name": "stderr",
     "output_type": "stream",
     "text": [
      "Epoch 83 Training: 100%|██████████| 1/1 [00:00<00:00,  6.63it/s]\n"
     ]
    },
    {
     "name": "stdout",
     "output_type": "stream",
     "text": [
      "Data(x=[18, 5], edge_index=[2, 38], edge_attr=[38, 4], y=[1, 2], pos=[18, 3], z=[18], smiles='[H]C1=NC([H])([H])C([NH2+]C2([H])C([H])([H])C2([H])[H])N1[H]', name='gdb_40843', idx=[1], adj_triu_mat=[1, 435], node_mat=[1, 29, 5], edge_triu_mat=[1, 406, 4])\n",
      "Data(x=[18, 5], edge_index=[2, 10], edge_attr=[10, 4])\n"
     ]
    },
    {
     "name": "stderr",
     "output_type": "stream",
     "text": [
      "Epoch 84 Training: 100%|██████████| 1/1 [00:00<00:00,  5.79it/s]\n"
     ]
    },
    {
     "name": "stdout",
     "output_type": "stream",
     "text": [
      "Data(x=[21, 5], edge_index=[2, 42], edge_attr=[42, 4], y=[1, 2], pos=[21, 3], z=[21], smiles='[H]O[C@]1([H])[C@]([H])(O[H])C([H])([H])C([H])=C([H])[C@]1([H])C([H])([H])[H]', name='gdb_92903', idx=[1], adj_triu_mat=[1, 435], node_mat=[1, 29, 5], edge_triu_mat=[1, 406, 4])\n",
      "Data(x=[18, 5], edge_index=[2, 10], edge_attr=[10, 4])\n"
     ]
    },
    {
     "name": "stderr",
     "output_type": "stream",
     "text": [
      "Epoch 85 Training: 100%|██████████| 1/1 [00:00<00:00,  6.19it/s]\n"
     ]
    },
    {
     "name": "stdout",
     "output_type": "stream",
     "text": [
      "Data(x=[23, 5], edge_index=[2, 50], edge_attr=[50, 4], y=[1, 2], pos=[23, 3], z=[23], smiles='[H]C([H])([H])[C@@]1([H])C([H])([H])[C@@]12C([H])([H])[C@@]1(C([H])([H])[H])C([H])([H])[C@]12[H]', name='gdb_87768', idx=[1], adj_triu_mat=[1, 435], node_mat=[1, 29, 5], edge_triu_mat=[1, 406, 4])\n",
      "Data(x=[19, 5], edge_index=[2, 11], edge_attr=[11, 4])\n"
     ]
    },
    {
     "name": "stderr",
     "output_type": "stream",
     "text": [
      "Epoch 86 Training: 100%|██████████| 1/1 [00:00<00:00,  6.40it/s]\n"
     ]
    },
    {
     "name": "stdout",
     "output_type": "stream",
     "text": [
      "Data(x=[16, 5], edge_index=[2, 34], edge_attr=[34, 4], y=[1, 2], pos=[16, 3], z=[16], smiles='[H]O[C@]1([H])C2=C([H])OC([H])=C2N([H])C1([H])[H]', name='gdb_30357', idx=[1], adj_triu_mat=[1, 435], node_mat=[1, 29, 5], edge_triu_mat=[1, 406, 4])\n",
      "Data(x=[18, 5], edge_index=[2, 10], edge_attr=[10, 4])\n"
     ]
    },
    {
     "name": "stderr",
     "output_type": "stream",
     "text": [
      "Epoch 87 Training: 100%|██████████| 1/1 [00:00<00:00,  6.27it/s]\n"
     ]
    },
    {
     "name": "stdout",
     "output_type": "stream",
     "text": [
      "Data(x=[18, 5], edge_index=[2, 36], edge_attr=[36, 4], y=[1, 2], pos=[18, 3], z=[18], smiles='[H]O[C@]1([H])C([H])=C(C([H])([H])[H])C([H])([H])[C@@]1([H])C#N', name='gdb_84136', idx=[1], adj_triu_mat=[1, 435], node_mat=[1, 29, 5], edge_triu_mat=[1, 406, 4])\n",
      "Data(x=[18, 5], edge_index=[2, 11], edge_attr=[11, 4])\n"
     ]
    },
    {
     "name": "stderr",
     "output_type": "stream",
     "text": [
      "Epoch 88 Training: 100%|██████████| 1/1 [00:00<00:00,  5.92it/s]\n"
     ]
    },
    {
     "name": "stdout",
     "output_type": "stream",
     "text": [
      "Data(x=[21, 5], edge_index=[2, 42], edge_attr=[42, 4], y=[1, 2], pos=[21, 3], z=[21], smiles='[H]OC1([C@]([H])(C([H])=O)C([H])([H])[H])C([H])([H])C([H])([H])C1([H])[H]', name='gdb_60858', idx=[1], adj_triu_mat=[1, 435], node_mat=[1, 29, 5], edge_triu_mat=[1, 406, 4])\n",
      "Data(x=[18, 5], edge_index=[2, 11], edge_attr=[11, 4])\n"
     ]
    },
    {
     "name": "stderr",
     "output_type": "stream",
     "text": [
      "Epoch 89 Training: 100%|██████████| 1/1 [00:00<00:00,  4.63it/s]\n"
     ]
    },
    {
     "name": "stdout",
     "output_type": "stream",
     "text": [
      "Data(x=[19, 5], edge_index=[2, 40], edge_attr=[40, 4], y=[1, 2], pos=[19, 3], z=[19], smiles='[H]OC([H])([H])[C@@]1(C([H])([H])[H])[N@@H+]2C([H])([H])[C@]2([H])C1([H])[H]', name='gdb_12062', idx=[1], adj_triu_mat=[1, 435], node_mat=[1, 29, 5], edge_triu_mat=[1, 406, 4])\n",
      "Data(x=[18, 5], edge_index=[2, 11], edge_attr=[11, 4])\n"
     ]
    },
    {
     "name": "stderr",
     "output_type": "stream",
     "text": [
      "Epoch 90 Training: 100%|██████████| 1/1 [00:00<00:00,  6.30it/s]\n"
     ]
    },
    {
     "name": "stdout",
     "output_type": "stream",
     "text": [
      "Data(x=[16, 5], edge_index=[2, 32], edge_attr=[32, 4], y=[1, 2], pos=[16, 3], z=[16], smiles='[H]C1=C(C#CC([H])([H])[H])C(N([H])[H])=C([H])O1', name='gdb_25701', idx=[1], adj_triu_mat=[1, 435], node_mat=[1, 29, 5], edge_triu_mat=[1, 406, 4])\n",
      "Data(x=[18, 5], edge_index=[2, 12], edge_attr=[12, 4])\n"
     ]
    },
    {
     "name": "stderr",
     "output_type": "stream",
     "text": [
      "Epoch 91 Training: 100%|██████████| 1/1 [00:00<00:00,  6.75it/s]\n"
     ]
    },
    {
     "name": "stdout",
     "output_type": "stream",
     "text": [
      "Data(x=[14, 5], edge_index=[2, 30], edge_attr=[30, 4], y=[1, 2], pos=[14, 3], z=[14], smiles='[H]N([H])C1=NC([C@]2([H])OC2([H])[H])=NO1', name='gdb_129970', idx=[1], adj_triu_mat=[1, 435], node_mat=[1, 29, 5], edge_triu_mat=[1, 406, 4])\n",
      "Data(x=[18, 5], edge_index=[2, 10], edge_attr=[10, 4])\n"
     ]
    },
    {
     "name": "stderr",
     "output_type": "stream",
     "text": [
      "Epoch 92 Training: 100%|██████████| 1/1 [00:00<00:00,  5.66it/s]\n"
     ]
    },
    {
     "name": "stdout",
     "output_type": "stream",
     "text": [
      "Data(x=[15, 5], edge_index=[2, 30], edge_attr=[30, 4], y=[1, 2], pos=[15, 3], z=[15], smiles='[H]O[C@]1([H])C(=O)C([H])([H])O[C@@]1([H])C([H])=O', name='gdb_77366', idx=[1], adj_triu_mat=[1, 435], node_mat=[1, 29, 5], edge_triu_mat=[1, 406, 4])\n",
      "Data(x=[18, 5], edge_index=[2, 11], edge_attr=[11, 4])\n"
     ]
    },
    {
     "name": "stderr",
     "output_type": "stream",
     "text": [
      "Epoch 93 Training: 100%|██████████| 1/1 [00:00<00:00,  5.77it/s]\n"
     ]
    },
    {
     "name": "stdout",
     "output_type": "stream",
     "text": [
      "Data(x=[16, 5], edge_index=[2, 34], edge_attr=[34, 4], y=[1, 2], pos=[16, 3], z=[16], smiles='[H]O[C@@]1(C#N)C([H])([H])[C@@]1([H])[C@]1([H])OC1([H])[H]', name='gdb_65372', idx=[1], adj_triu_mat=[1, 435], node_mat=[1, 29, 5], edge_triu_mat=[1, 406, 4])\n",
      "Data(x=[18, 5], edge_index=[2, 11], edge_attr=[11, 4])\n"
     ]
    },
    {
     "name": "stderr",
     "output_type": "stream",
     "text": [
      "Epoch 94 Training: 100%|██████████| 1/1 [00:00<00:00,  6.72it/s]\n"
     ]
    },
    {
     "name": "stdout",
     "output_type": "stream",
     "text": [
      "Data(x=[17, 5], edge_index=[2, 32], edge_attr=[32, 4], y=[1, 2], pos=[17, 3], z=[17], smiles='[H]O[C@@]([H])(C([H])=O)C([H])(C([H])([H])[H])C([H])([H])[H]', name='gdb_1626', idx=[1], adj_triu_mat=[1, 435], node_mat=[1, 29, 5], edge_triu_mat=[1, 406, 4])\n",
      "Data(x=[18, 5], edge_index=[2, 11], edge_attr=[11, 4])\n"
     ]
    },
    {
     "name": "stderr",
     "output_type": "stream",
     "text": [
      "Epoch 95 Training: 100%|██████████| 1/1 [00:00<00:00,  5.08it/s]\n"
     ]
    },
    {
     "name": "stdout",
     "output_type": "stream",
     "text": [
      "Data(x=[15, 5], edge_index=[2, 30], edge_attr=[30, 4], y=[1, 2], pos=[15, 3], z=[15], smiles='[H]C#C[C@@]1([H])[NH2+]C(C([H])([H])[H])OC1([H])[H]', name='gdb_11226', idx=[1], adj_triu_mat=[1, 435], node_mat=[1, 29, 5], edge_triu_mat=[1, 406, 4])\n",
      "Data(x=[18, 5], edge_index=[2, 11], edge_attr=[11, 4])\n"
     ]
    },
    {
     "name": "stderr",
     "output_type": "stream",
     "text": [
      "Epoch 96 Training: 100%|██████████| 1/1 [00:00<00:00,  6.05it/s]\n"
     ]
    },
    {
     "name": "stdout",
     "output_type": "stream",
     "text": [
      "Data(x=[18, 5], edge_index=[2, 38], edge_attr=[38, 4], y=[1, 2], pos=[18, 3], z=[18], smiles='[H]C([H])([H])[C@]1([H])O[C@]2(C1([H])[H])C([H])([H])[C@@]2([H])C#N', name='gdb_89864', idx=[1], adj_triu_mat=[1, 435], node_mat=[1, 29, 5], edge_triu_mat=[1, 406, 4])\n",
      "Data(x=[18, 5], edge_index=[2, 11], edge_attr=[11, 4])\n"
     ]
    },
    {
     "name": "stderr",
     "output_type": "stream",
     "text": [
      "Epoch 97 Training: 100%|██████████| 1/1 [00:00<00:00,  6.24it/s]\n"
     ]
    },
    {
     "name": "stdout",
     "output_type": "stream",
     "text": [
      "Data(x=[17, 5], edge_index=[2, 34], edge_attr=[34, 4], y=[1, 2], pos=[17, 3], z=[17], smiles='[H]C([H])([H])C([H])([H])O[C@]1([H])OC(=O)OC1([H])[H]', name='gdb_121054', idx=[1], adj_triu_mat=[1, 435], node_mat=[1, 29, 5], edge_triu_mat=[1, 406, 4])\n",
      "Data(x=[18, 5], edge_index=[2, 11], edge_attr=[11, 4])\n"
     ]
    },
    {
     "name": "stderr",
     "output_type": "stream",
     "text": [
      "Epoch 98 Training: 100%|██████████| 1/1 [00:00<00:00,  6.66it/s]\n"
     ]
    },
    {
     "name": "stdout",
     "output_type": "stream",
     "text": [
      "Data(x=[15, 5], edge_index=[2, 30], edge_attr=[30, 4], y=[1, 2], pos=[15, 3], z=[15], smiles='[H]C#C[C@@]1([H])[NH2+]C(C([H])([H])[H])OC1([H])[H]', name='gdb_11226', idx=[1], adj_triu_mat=[1, 435], node_mat=[1, 29, 5], edge_triu_mat=[1, 406, 4])\n",
      "Data(x=[18, 5], edge_index=[2, 11], edge_attr=[11, 4])\n"
     ]
    },
    {
     "name": "stderr",
     "output_type": "stream",
     "text": [
      "Epoch 99 Training: 100%|██████████| 1/1 [00:00<00:00,  6.58it/s]\n"
     ]
    },
    {
     "name": "stdout",
     "output_type": "stream",
     "text": [
      "Data(x=[16, 5], edge_index=[2, 32], edge_attr=[32, 4], y=[1, 2], pos=[16, 3], z=[16], smiles='[H]C#CC#C[C@@]1(C([H])([H])O[H])N([H])C1([H])[H]', name='gdb_104944', idx=[1], adj_triu_mat=[1, 435], node_mat=[1, 29, 5], edge_triu_mat=[1, 406, 4])\n",
      "Data(x=[18, 5], edge_index=[2, 10], edge_attr=[10, 4])\n"
     ]
    },
    {
     "name": "stderr",
     "output_type": "stream",
     "text": [
      "Epoch 100 Training: 100%|██████████| 1/1 [00:00<00:00,  6.05it/s]\n"
     ]
    },
    {
     "name": "stdout",
     "output_type": "stream",
     "text": [
      "Data(x=[19, 5], edge_index=[2, 40], edge_attr=[40, 4], y=[1, 2], pos=[19, 3], z=[19], smiles='[H]OC([H])([H])[C@@]1(C([H])([H])[H])[N@@H+]2C([H])([H])[C@]2([H])C1([H])[H]', name='gdb_12062', idx=[1], adj_triu_mat=[1, 435], node_mat=[1, 29, 5], edge_triu_mat=[1, 406, 4])\n",
      "Data(x=[18, 5], edge_index=[2, 10], edge_attr=[10, 4])\n"
     ]
    },
    {
     "name": "stderr",
     "output_type": "stream",
     "text": [
      "Epoch 101 Training: 100%|██████████| 1/1 [00:01<00:00,  1.50s/it]\n"
     ]
    },
    {
     "name": "stdout",
     "output_type": "stream",
     "text": [
      "Data(x=[20, 5], edge_index=[2, 46], edge_attr=[46, 4], y=[1, 2], pos=[20, 3], z=[20], smiles='[H]C([H])([H])[C@@]12[N@@H+]3[C@@]4([H])[C@]3([H])[C@]1(C([H])([H])[H])[C@@]4([H])C2([H])[H]', name='gdb_71709', idx=[1], adj_triu_mat=[1, 435], node_mat=[1, 29, 5], edge_triu_mat=[1, 406, 4])\n",
      "Data(x=[18, 5], edge_index=[2, 11], edge_attr=[11, 4])\n"
     ]
    },
    {
     "name": "stderr",
     "output_type": "stream",
     "text": [
      "Epoch 102 Training: 100%|██████████| 1/1 [00:00<00:00,  6.01it/s]\n"
     ]
    },
    {
     "name": "stdout",
     "output_type": "stream",
     "text": [
      "Data(x=[18, 5], edge_index=[2, 36], edge_attr=[36, 4], y=[1, 2], pos=[18, 3], z=[18], smiles='[H][N-]C1OC([H])([H])C([NH2+]C([H])([H])[H])N([H])C1([H])[H]', name='gdb_97045', idx=[1], adj_triu_mat=[1, 435], node_mat=[1, 29, 5], edge_triu_mat=[1, 406, 4])\n",
      "Data(x=[18, 5], edge_index=[2, 11], edge_attr=[11, 4])\n"
     ]
    },
    {
     "name": "stderr",
     "output_type": "stream",
     "text": [
      "Epoch 103 Training: 100%|██████████| 1/1 [00:00<00:00,  5.56it/s]\n"
     ]
    },
    {
     "name": "stdout",
     "output_type": "stream",
     "text": [
      "Data(x=[16, 5], edge_index=[2, 34], edge_attr=[34, 4], y=[1, 2], pos=[16, 3], z=[16], smiles='[H]O[C@@]1(C#N)C([H])([H])[C@@]1([H])[C@]1([H])OC1([H])[H]', name='gdb_65372', idx=[1], adj_triu_mat=[1, 435], node_mat=[1, 29, 5], edge_triu_mat=[1, 406, 4])\n",
      "Data(x=[18, 5], edge_index=[2, 11], edge_attr=[11, 4])\n"
     ]
    },
    {
     "name": "stderr",
     "output_type": "stream",
     "text": [
      "Epoch 104 Training: 100%|██████████| 1/1 [00:00<00:00,  6.05it/s]\n"
     ]
    },
    {
     "name": "stdout",
     "output_type": "stream",
     "text": [
      "Data(x=[20, 5], edge_index=[2, 46], edge_attr=[46, 4], y=[1, 2], pos=[20, 3], z=[20], smiles='[H]C([H])([H])[C@@]12[N@@H+]3[C@@]4([H])[C@]3([H])[C@]1(C([H])([H])[H])[C@@]4([H])C2([H])[H]', name='gdb_71709', idx=[1], adj_triu_mat=[1, 435], node_mat=[1, 29, 5], edge_triu_mat=[1, 406, 4])\n",
      "Data(x=[18, 5], edge_index=[2, 10], edge_attr=[10, 4])\n"
     ]
    },
    {
     "name": "stderr",
     "output_type": "stream",
     "text": [
      "Epoch 105 Training: 100%|██████████| 1/1 [00:00<00:00,  6.93it/s]\n"
     ]
    },
    {
     "name": "stdout",
     "output_type": "stream",
     "text": [
      "Data(x=[18, 5], edge_index=[2, 38], edge_attr=[38, 4], y=[1, 2], pos=[18, 3], z=[18], smiles='[H]C1=NC([H])([H])C([NH2+]C2([H])C([H])([H])C2([H])[H])N1[H]', name='gdb_40843', idx=[1], adj_triu_mat=[1, 435], node_mat=[1, 29, 5], edge_triu_mat=[1, 406, 4])\n",
      "Data(x=[17, 5], edge_index=[2, 11], edge_attr=[11, 4])\n"
     ]
    },
    {
     "name": "stderr",
     "output_type": "stream",
     "text": [
      "Epoch 106 Training: 100%|██████████| 1/1 [00:00<00:00,  6.31it/s]\n"
     ]
    },
    {
     "name": "stdout",
     "output_type": "stream",
     "text": [
      "Data(x=[20, 5], edge_index=[2, 46], edge_attr=[46, 4], y=[1, 2], pos=[20, 3], z=[20], smiles='[H]C([H])([H])[C@@]12[N@@H+]3[C@@]4([H])[C@]3([H])[C@]1(C([H])([H])[H])[C@@]4([H])C2([H])[H]', name='gdb_71709', idx=[1], adj_triu_mat=[1, 435], node_mat=[1, 29, 5], edge_triu_mat=[1, 406, 4])\n",
      "Data(x=[18, 5], edge_index=[2, 11], edge_attr=[11, 4])\n"
     ]
    },
    {
     "name": "stderr",
     "output_type": "stream",
     "text": [
      "Epoch 107 Training: 100%|██████████| 1/1 [00:00<00:00,  5.71it/s]\n"
     ]
    },
    {
     "name": "stdout",
     "output_type": "stream",
     "text": [
      "Data(x=[20, 5], edge_index=[2, 40], edge_attr=[40, 4], y=[1, 2], pos=[20, 3], z=[20], smiles='[H]OC([H])([H])[C@@]([H])([N@H+]1C([H])([H])[C@@]1([H])C([H])=O)C([H])([H])[H]', name='gdb_101299', idx=[1], adj_triu_mat=[1, 435], node_mat=[1, 29, 5], edge_triu_mat=[1, 406, 4])\n",
      "Data(x=[18, 5], edge_index=[2, 11], edge_attr=[11, 4])\n"
     ]
    },
    {
     "name": "stderr",
     "output_type": "stream",
     "text": [
      "Epoch 108 Training: 100%|██████████| 1/1 [00:00<00:00,  5.06it/s]\n"
     ]
    },
    {
     "name": "stdout",
     "output_type": "stream",
     "text": [
      "Data(x=[16, 5], edge_index=[2, 32], edge_attr=[32, 4], y=[1, 2], pos=[16, 3], z=[16], smiles='[H]C#CC#C[C@@]1(C([H])([H])O[H])N([H])C1([H])[H]', name='gdb_104944', idx=[1], adj_triu_mat=[1, 435], node_mat=[1, 29, 5], edge_triu_mat=[1, 406, 4])\n",
      "Data(x=[18, 5], edge_index=[2, 11], edge_attr=[11, 4])\n"
     ]
    },
    {
     "name": "stderr",
     "output_type": "stream",
     "text": [
      "Epoch 109 Training: 100%|██████████| 1/1 [00:00<00:00,  5.67it/s]\n"
     ]
    },
    {
     "name": "stdout",
     "output_type": "stream",
     "text": [
      "Data(x=[20, 5], edge_index=[2, 46], edge_attr=[46, 4], y=[1, 2], pos=[20, 3], z=[20], smiles='[H]C([H])([H])[C@@]12[N@@H+]3[C@@]4([H])[C@]3([H])[C@]1(C([H])([H])[H])[C@@]4([H])C2([H])[H]', name='gdb_71709', idx=[1], adj_triu_mat=[1, 435], node_mat=[1, 29, 5], edge_triu_mat=[1, 406, 4])\n",
      "Data(x=[18, 5], edge_index=[2, 11], edge_attr=[11, 4])\n"
     ]
    },
    {
     "name": "stderr",
     "output_type": "stream",
     "text": [
      "Epoch 110 Training: 100%|██████████| 1/1 [00:00<00:00,  6.34it/s]\n"
     ]
    },
    {
     "name": "stdout",
     "output_type": "stream",
     "text": [
      "Data(x=[23, 5], edge_index=[2, 50], edge_attr=[50, 4], y=[1, 2], pos=[23, 3], z=[23], smiles='[H]C([H])([H])[C@@]1([H])C([H])([H])[C@@]12C([H])([H])[C@@]1(C([H])([H])[H])C([H])([H])[C@]12[H]', name='gdb_87768', idx=[1], adj_triu_mat=[1, 435], node_mat=[1, 29, 5], edge_triu_mat=[1, 406, 4])\n",
      "Data(x=[17, 5], edge_index=[2, 11], edge_attr=[11, 4])\n"
     ]
    },
    {
     "name": "stderr",
     "output_type": "stream",
     "text": [
      "Epoch 111 Training: 100%|██████████| 1/1 [00:00<00:00,  6.92it/s]\n"
     ]
    },
    {
     "name": "stdout",
     "output_type": "stream",
     "text": [
      "Data(x=[16, 5], edge_index=[2, 34], edge_attr=[34, 4], y=[1, 2], pos=[16, 3], z=[16], smiles='[H]O[C@@]1(C#N)C([H])([H])[C@@]1([H])[C@]1([H])OC1([H])[H]', name='gdb_65372', idx=[1], adj_triu_mat=[1, 435], node_mat=[1, 29, 5], edge_triu_mat=[1, 406, 4])\n",
      "Data(x=[18, 5], edge_index=[2, 10], edge_attr=[10, 4])\n"
     ]
    },
    {
     "name": "stderr",
     "output_type": "stream",
     "text": [
      "Epoch 112 Training: 100%|██████████| 1/1 [00:00<00:00,  7.03it/s]\n"
     ]
    },
    {
     "name": "stdout",
     "output_type": "stream",
     "text": [
      "Data(x=[20, 5], edge_index=[2, 46], edge_attr=[46, 4], y=[1, 2], pos=[20, 3], z=[20], smiles='[H]C([H])([H])[C@@]12[N@@H+]3[C@@]4([H])[C@]3([H])[C@]1(C([H])([H])[H])[C@@]4([H])C2([H])[H]', name='gdb_71709', idx=[1], adj_triu_mat=[1, 435], node_mat=[1, 29, 5], edge_triu_mat=[1, 406, 4])\n",
      "Data(x=[18, 5], edge_index=[2, 12], edge_attr=[12, 4])\n"
     ]
    },
    {
     "name": "stderr",
     "output_type": "stream",
     "text": [
      "Epoch 113 Training: 100%|██████████| 1/1 [00:00<00:00,  6.91it/s]\n"
     ]
    },
    {
     "name": "stdout",
     "output_type": "stream",
     "text": [
      "Data(x=[16, 5], edge_index=[2, 34], edge_attr=[34, 4], y=[1, 2], pos=[16, 3], z=[16], smiles='[H]O[C@@]1(C#N)C([H])([H])[C@@]1([H])[C@]1([H])OC1([H])[H]', name='gdb_65372', idx=[1], adj_triu_mat=[1, 435], node_mat=[1, 29, 5], edge_triu_mat=[1, 406, 4])\n",
      "Data(x=[18, 5], edge_index=[2, 11], edge_attr=[11, 4])\n"
     ]
    },
    {
     "name": "stderr",
     "output_type": "stream",
     "text": [
      "Epoch 114 Training: 100%|██████████| 1/1 [00:00<00:00,  6.48it/s]\n"
     ]
    },
    {
     "name": "stdout",
     "output_type": "stream",
     "text": [
      "Data(x=[16, 5], edge_index=[2, 34], edge_attr=[34, 4], y=[1, 2], pos=[16, 3], z=[16], smiles='[H]O[C@]1([H])C2=C([H])OC([H])=C2N([H])C1([H])[H]', name='gdb_30357', idx=[1], adj_triu_mat=[1, 435], node_mat=[1, 29, 5], edge_triu_mat=[1, 406, 4])\n",
      "Data(x=[18, 5], edge_index=[2, 10], edge_attr=[10, 4])\n"
     ]
    },
    {
     "name": "stderr",
     "output_type": "stream",
     "text": [
      "Epoch 115 Training: 100%|██████████| 1/1 [00:00<00:00,  6.92it/s]\n"
     ]
    },
    {
     "name": "stdout",
     "output_type": "stream",
     "text": [
      "Data(x=[21, 5], edge_index=[2, 42], edge_attr=[42, 4], y=[1, 2], pos=[21, 3], z=[21], smiles='[H]OC1([C@]([H])(C([H])=O)C([H])([H])[H])C([H])([H])C([H])([H])C1([H])[H]', name='gdb_60858', idx=[1], adj_triu_mat=[1, 435], node_mat=[1, 29, 5], edge_triu_mat=[1, 406, 4])\n",
      "Data(x=[19, 5], edge_index=[2, 11], edge_attr=[11, 4])\n"
     ]
    },
    {
     "name": "stderr",
     "output_type": "stream",
     "text": [
      "Epoch 116 Training: 100%|██████████| 1/1 [00:00<00:00,  6.39it/s]\n"
     ]
    },
    {
     "name": "stdout",
     "output_type": "stream",
     "text": [
      "Data(x=[15, 5], edge_index=[2, 30], edge_attr=[30, 4], y=[1, 2], pos=[15, 3], z=[15], smiles='[H]OC1=NC(O[H])=C(C([H])([H])[H])N=C1[H]', name='gdb_28507', idx=[1], adj_triu_mat=[1, 435], node_mat=[1, 29, 5], edge_triu_mat=[1, 406, 4])\n",
      "Data(x=[18, 5], edge_index=[2, 10], edge_attr=[10, 4])\n"
     ]
    },
    {
     "name": "stderr",
     "output_type": "stream",
     "text": [
      "Epoch 117 Training: 100%|██████████| 1/1 [00:00<00:00,  6.98it/s]\n"
     ]
    },
    {
     "name": "stdout",
     "output_type": "stream",
     "text": [
      "Data(x=[21, 5], edge_index=[2, 42], edge_attr=[42, 4], y=[1, 2], pos=[21, 3], z=[21], smiles='[H]O[C@]1([H])C([H])([H])[C@]([H])(C([H])([H])C([H])([H])[H])[C@]1([H])C([H])=O', name='gdb_112792', idx=[1], adj_triu_mat=[1, 435], node_mat=[1, 29, 5], edge_triu_mat=[1, 406, 4])\n",
      "Data(x=[18, 5], edge_index=[2, 10], edge_attr=[10, 4])\n"
     ]
    },
    {
     "name": "stderr",
     "output_type": "stream",
     "text": [
      "Epoch 118 Training: 100%|██████████| 1/1 [00:00<00:00,  6.79it/s]\n"
     ]
    },
    {
     "name": "stdout",
     "output_type": "stream",
     "text": [
      "Data(x=[23, 5], edge_index=[2, 48], edge_attr=[48, 4], y=[1, 2], pos=[23, 3], z=[23], smiles='[H]C1=C(C([H])([H])[H])[C@@]([H])(C([H])([H])[H])[C@]2([H])C([H])([H])[C@@]1([H])C2([H])[H]', name='gdb_80651', idx=[1], adj_triu_mat=[1, 435], node_mat=[1, 29, 5], edge_triu_mat=[1, 406, 4])\n",
      "Data(x=[19, 5], edge_index=[2, 11], edge_attr=[11, 4])\n"
     ]
    },
    {
     "name": "stderr",
     "output_type": "stream",
     "text": [
      "Epoch 119 Training: 100%|██████████| 1/1 [00:00<00:00,  6.19it/s]\n"
     ]
    },
    {
     "name": "stdout",
     "output_type": "stream",
     "text": [
      "Data(x=[19, 5], edge_index=[2, 40], edge_attr=[40, 4], y=[1, 2], pos=[19, 3], z=[19], smiles='[H]OC([H])([H])[C@@]1(C([H])([H])[H])[N@@H+]2C([H])([H])[C@]2([H])C1([H])[H]', name='gdb_12062', idx=[1], adj_triu_mat=[1, 435], node_mat=[1, 29, 5], edge_triu_mat=[1, 406, 4])\n",
      "Data(x=[18, 5], edge_index=[2, 11], edge_attr=[11, 4])\n"
     ]
    },
    {
     "name": "stderr",
     "output_type": "stream",
     "text": [
      "Epoch 120 Training: 100%|██████████| 1/1 [00:00<00:00,  6.08it/s]\n"
     ]
    },
    {
     "name": "stdout",
     "output_type": "stream",
     "text": [
      "Data(x=[18, 5], edge_index=[2, 38], edge_attr=[38, 4], y=[1, 2], pos=[18, 3], z=[18], smiles='[H]C([H])([H])[C@]1([H])O[C@]2(C1([H])[H])C([H])([H])[C@@]2([H])C#N', name='gdb_89864', idx=[1], adj_triu_mat=[1, 435], node_mat=[1, 29, 5], edge_triu_mat=[1, 406, 4])\n",
      "Data(x=[17, 5], edge_index=[2, 11], edge_attr=[11, 4])\n"
     ]
    },
    {
     "name": "stderr",
     "output_type": "stream",
     "text": [
      "Epoch 121 Training: 100%|██████████| 1/1 [00:00<00:00,  7.12it/s]\n"
     ]
    },
    {
     "name": "stdout",
     "output_type": "stream",
     "text": [
      "Data(x=[18, 5], edge_index=[2, 36], edge_attr=[36, 4], y=[1, 2], pos=[18, 3], z=[18], smiles='[H]C(=O)C([H])([H])[C@]1([H])C([H])([H])O[C@]1([H])C([H])([H])[H]', name='gdb_13092', idx=[1], adj_triu_mat=[1, 435], node_mat=[1, 29, 5], edge_triu_mat=[1, 406, 4])\n",
      "Data(x=[18, 5], edge_index=[2, 11], edge_attr=[11, 4])\n"
     ]
    },
    {
     "name": "stderr",
     "output_type": "stream",
     "text": [
      "Epoch 122 Training: 100%|██████████| 1/1 [00:00<00:00,  6.14it/s]\n"
     ]
    },
    {
     "name": "stdout",
     "output_type": "stream",
     "text": [
      "Data(x=[17, 5], edge_index=[2, 32], edge_attr=[32, 4], y=[1, 2], pos=[17, 3], z=[17], smiles='[H]/N=C(/OC([H])([H])C([H])([H])O[H])N([H])C([H])=O', name='gdb_121723', idx=[1], adj_triu_mat=[1, 435], node_mat=[1, 29, 5], edge_triu_mat=[1, 406, 4])\n",
      "Data(x=[18, 5], edge_index=[2, 10], edge_attr=[10, 4])\n"
     ]
    },
    {
     "name": "stderr",
     "output_type": "stream",
     "text": [
      "Epoch 123 Training: 100%|██████████| 1/1 [00:00<00:00,  5.88it/s]\n"
     ]
    },
    {
     "name": "stdout",
     "output_type": "stream",
     "text": [
      "Data(x=[16, 5], edge_index=[2, 34], edge_attr=[34, 4], y=[1, 2], pos=[16, 3], z=[16], smiles='[H]O[C@@]1(C#N)C([H])([H])[C@@]1([H])[C@]1([H])OC1([H])[H]', name='gdb_65372', idx=[1], adj_triu_mat=[1, 435], node_mat=[1, 29, 5], edge_triu_mat=[1, 406, 4])\n",
      "Data(x=[18, 5], edge_index=[2, 10], edge_attr=[10, 4])\n"
     ]
    },
    {
     "name": "stderr",
     "output_type": "stream",
     "text": [
      "Epoch 124 Training: 100%|██████████| 1/1 [00:00<00:00,  6.20it/s]\n"
     ]
    },
    {
     "name": "stdout",
     "output_type": "stream",
     "text": [
      "Data(x=[18, 5], edge_index=[2, 36], edge_attr=[36, 4], y=[1, 2], pos=[18, 3], z=[18], smiles='[H]C(=O)C([H])([H])[C@]1([H])C([H])([H])O[C@]1([H])C([H])([H])[H]', name='gdb_13092', idx=[1], adj_triu_mat=[1, 435], node_mat=[1, 29, 5], edge_triu_mat=[1, 406, 4])\n",
      "Data(x=[18, 5], edge_index=[2, 11], edge_attr=[11, 4])\n"
     ]
    },
    {
     "name": "stderr",
     "output_type": "stream",
     "text": [
      "Epoch 125 Training: 100%|██████████| 1/1 [00:00<00:00,  6.19it/s]\n"
     ]
    },
    {
     "name": "stdout",
     "output_type": "stream",
     "text": [
      "Data(x=[18, 5], edge_index=[2, 38], edge_attr=[38, 4], y=[1, 2], pos=[18, 3], z=[18], smiles='[H]C1=NC([H])([H])C([NH2+]C2([H])C([H])([H])C2([H])[H])N1[H]', name='gdb_40843', idx=[1], adj_triu_mat=[1, 435], node_mat=[1, 29, 5], edge_triu_mat=[1, 406, 4])\n",
      "Data(x=[18, 5], edge_index=[2, 11], edge_attr=[11, 4])\n"
     ]
    },
    {
     "name": "stderr",
     "output_type": "stream",
     "text": [
      "Epoch 126 Training: 100%|██████████| 1/1 [00:00<00:00,  6.80it/s]\n"
     ]
    },
    {
     "name": "stdout",
     "output_type": "stream",
     "text": [
      "Data(x=[21, 5], edge_index=[2, 42], edge_attr=[42, 4], y=[1, 2], pos=[21, 3], z=[21], smiles='[H]O[C@]1([H])[C@]([H])(O[H])C([H])([H])C([H])=C([H])[C@]1([H])C([H])([H])[H]', name='gdb_92903', idx=[1], adj_triu_mat=[1, 435], node_mat=[1, 29, 5], edge_triu_mat=[1, 406, 4])\n",
      "Data(x=[18, 5], edge_index=[2, 10], edge_attr=[10, 4])\n"
     ]
    },
    {
     "name": "stderr",
     "output_type": "stream",
     "text": [
      "Epoch 127 Training: 100%|██████████| 1/1 [00:00<00:00,  6.87it/s]\n"
     ]
    },
    {
     "name": "stdout",
     "output_type": "stream",
     "text": [
      "Data(x=[18, 5], edge_index=[2, 38], edge_attr=[38, 4], y=[1, 2], pos=[18, 3], z=[18], smiles='[H]C#CC([H])([H])[C@]1(O[H])C([H])([H])[C@@]2([H])N([H])[C@@]12[H]', name='gdb_64721', idx=[1], adj_triu_mat=[1, 435], node_mat=[1, 29, 5], edge_triu_mat=[1, 406, 4])\n",
      "Data(x=[18, 5], edge_index=[2, 11], edge_attr=[11, 4])\n"
     ]
    },
    {
     "name": "stderr",
     "output_type": "stream",
     "text": [
      "Epoch 128 Training: 100%|██████████| 1/1 [00:00<00:00,  5.89it/s]\n"
     ]
    },
    {
     "name": "stdout",
     "output_type": "stream",
     "text": [
      "Data(x=[21, 5], edge_index=[2, 42], edge_attr=[42, 4], y=[1, 2], pos=[21, 3], z=[21], smiles='[H]OC1([C@]([H])(C([H])=O)C([H])([H])[H])C([H])([H])C([H])([H])C1([H])[H]', name='gdb_60858', idx=[1], adj_triu_mat=[1, 435], node_mat=[1, 29, 5], edge_triu_mat=[1, 406, 4])\n",
      "Data(x=[18, 5], edge_index=[2, 11], edge_attr=[11, 4])\n"
     ]
    },
    {
     "name": "stderr",
     "output_type": "stream",
     "text": [
      "Epoch 129 Training: 100%|██████████| 1/1 [00:00<00:00,  7.05it/s]\n"
     ]
    },
    {
     "name": "stdout",
     "output_type": "stream",
     "text": [
      "Data(x=[21, 5], edge_index=[2, 42], edge_attr=[42, 4], y=[1, 2], pos=[21, 3], z=[21], smiles='[H]OC1([C@]([H])(C([H])=O)C([H])([H])[H])C([H])([H])C([H])([H])C1([H])[H]', name='gdb_60858', idx=[1], adj_triu_mat=[1, 435], node_mat=[1, 29, 5], edge_triu_mat=[1, 406, 4])\n",
      "Data(x=[18, 5], edge_index=[2, 11], edge_attr=[11, 4])\n"
     ]
    },
    {
     "name": "stderr",
     "output_type": "stream",
     "text": [
      "Epoch 130 Training: 100%|██████████| 1/1 [00:00<00:00,  6.62it/s]\n"
     ]
    },
    {
     "name": "stdout",
     "output_type": "stream",
     "text": [
      "Data(x=[18, 5], edge_index=[2, 36], edge_attr=[36, 4], y=[1, 2], pos=[18, 3], z=[18], smiles='[H]C(=O)C([H])([H])[C@]1([H])C([H])([H])O[C@]1([H])C([H])([H])[H]', name='gdb_13092', idx=[1], adj_triu_mat=[1, 435], node_mat=[1, 29, 5], edge_triu_mat=[1, 406, 4])\n",
      "Data(x=[18, 5], edge_index=[2, 11], edge_attr=[11, 4])\n"
     ]
    },
    {
     "name": "stderr",
     "output_type": "stream",
     "text": [
      "Epoch 131 Training: 100%|██████████| 1/1 [00:00<00:00,  5.92it/s]\n"
     ]
    },
    {
     "name": "stdout",
     "output_type": "stream",
     "text": [
      "Data(x=[18, 5], edge_index=[2, 38], edge_attr=[38, 4], y=[1, 2], pos=[18, 3], z=[18], smiles='[H]C#CC([H])([H])[C@]1(O[H])C([H])([H])[C@@]2([H])N([H])[C@@]12[H]', name='gdb_64721', idx=[1], adj_triu_mat=[1, 435], node_mat=[1, 29, 5], edge_triu_mat=[1, 406, 4])\n",
      "Data(x=[18, 5], edge_index=[2, 11], edge_attr=[11, 4])\n"
     ]
    },
    {
     "name": "stderr",
     "output_type": "stream",
     "text": [
      "Epoch 132 Training: 100%|██████████| 1/1 [00:00<00:00,  5.21it/s]\n"
     ]
    },
    {
     "name": "stdout",
     "output_type": "stream",
     "text": [
      "Data(x=[19, 5], edge_index=[2, 42], edge_attr=[42, 4], y=[1, 2], pos=[19, 3], z=[19], smiles='[H]C([H])([H])O[C@]12C([H])([H])[C@@]1([H])[C@@]1([H])O[C@]12C([H])([H])[H]', name='gdb_107257', idx=[1], adj_triu_mat=[1, 435], node_mat=[1, 29, 5], edge_triu_mat=[1, 406, 4])\n",
      "Data(x=[18, 5], edge_index=[2, 10], edge_attr=[10, 4])\n"
     ]
    },
    {
     "name": "stderr",
     "output_type": "stream",
     "text": [
      "Epoch 133 Training: 100%|██████████| 1/1 [00:00<00:00,  6.25it/s]\n"
     ]
    },
    {
     "name": "stdout",
     "output_type": "stream",
     "text": [
      "Data(x=[19, 5], edge_index=[2, 40], edge_attr=[40, 4], y=[1, 2], pos=[19, 3], z=[19], smiles='[H]/C1=N/C([H])([H])C([H])([H])[N@H+]2C([H])([H])[C@@]2([H])C([H])([H])O1', name='gdb_39380', idx=[1], adj_triu_mat=[1, 435], node_mat=[1, 29, 5], edge_triu_mat=[1, 406, 4])\n",
      "Data(x=[18, 5], edge_index=[2, 9], edge_attr=[9, 4])\n"
     ]
    },
    {
     "name": "stderr",
     "output_type": "stream",
     "text": [
      "Epoch 134 Training: 100%|██████████| 1/1 [00:00<00:00,  7.11it/s]\n"
     ]
    },
    {
     "name": "stdout",
     "output_type": "stream",
     "text": [
      "Data(x=[25, 5], edge_index=[2, 52], edge_attr=[52, 4], y=[1, 2], pos=[25, 3], z=[25], smiles='[H]C([H])([H])C([H])([H])[C@@]1([H])C([H])([H])[C@@]([H])(C([H])([H])[H])[C@@]2([H])C([H])([H])[C@@]12[H]', name='gdb_112835', idx=[1], adj_triu_mat=[1, 435], node_mat=[1, 29, 5], edge_triu_mat=[1, 406, 4])\n",
      "Data(x=[18, 5], edge_index=[2, 10], edge_attr=[10, 4])\n"
     ]
    },
    {
     "name": "stderr",
     "output_type": "stream",
     "text": [
      "Epoch 135 Training: 100%|██████████| 1/1 [00:00<00:00,  6.59it/s]\n"
     ]
    },
    {
     "name": "stdout",
     "output_type": "stream",
     "text": [
      "Data(x=[18, 5], edge_index=[2, 38], edge_attr=[38, 4], y=[1, 2], pos=[18, 3], z=[18], smiles='[H]C1=NC([H])([H])C([NH2+]C2([H])C([H])([H])C2([H])[H])N1[H]', name='gdb_40843', idx=[1], adj_triu_mat=[1, 435], node_mat=[1, 29, 5], edge_triu_mat=[1, 406, 4])\n",
      "Data(x=[18, 5], edge_index=[2, 11], edge_attr=[11, 4])\n"
     ]
    },
    {
     "name": "stderr",
     "output_type": "stream",
     "text": [
      "Epoch 136 Training: 100%|██████████| 1/1 [00:00<00:00,  6.49it/s]\n"
     ]
    },
    {
     "name": "stdout",
     "output_type": "stream",
     "text": [
      "Data(x=[19, 5], edge_index=[2, 42], edge_attr=[42, 4], y=[1, 2], pos=[19, 3], z=[19], smiles='[H]C([H])([H])O[C@]12C([H])([H])[C@@]1([H])[C@@]1([H])O[C@]12C([H])([H])[H]', name='gdb_107257', idx=[1], adj_triu_mat=[1, 435], node_mat=[1, 29, 5], edge_triu_mat=[1, 406, 4])\n",
      "Data(x=[18, 5], edge_index=[2, 11], edge_attr=[11, 4])\n"
     ]
    },
    {
     "name": "stderr",
     "output_type": "stream",
     "text": [
      "Epoch 137 Training: 100%|██████████| 1/1 [00:00<00:00,  6.40it/s]\n"
     ]
    },
    {
     "name": "stdout",
     "output_type": "stream",
     "text": [
      "Data(x=[20, 5], edge_index=[2, 44], edge_attr=[44, 4], y=[1, 2], pos=[20, 3], z=[20], smiles='[H]N1[C@@]2([H])[C@]3(O[C@]3([H])C([H])([H])C([H])([H])[H])C([H])([H])[C@@]12[H]', name='gdb_113461', idx=[1], adj_triu_mat=[1, 435], node_mat=[1, 29, 5], edge_triu_mat=[1, 406, 4])\n",
      "Data(x=[18, 5], edge_index=[2, 11], edge_attr=[11, 4])\n"
     ]
    },
    {
     "name": "stderr",
     "output_type": "stream",
     "text": [
      "Epoch 138 Training: 100%|██████████| 1/1 [00:00<00:00,  6.68it/s]\n"
     ]
    },
    {
     "name": "stdout",
     "output_type": "stream",
     "text": [
      "Data(x=[18, 5], edge_index=[2, 38], edge_attr=[38, 4], y=[1, 2], pos=[18, 3], z=[18], smiles='[H]C1=NC([H])([H])C([NH2+]C2([H])C([H])([H])C2([H])[H])N1[H]', name='gdb_40843', idx=[1], adj_triu_mat=[1, 435], node_mat=[1, 29, 5], edge_triu_mat=[1, 406, 4])\n",
      "Data(x=[18, 5], edge_index=[2, 11], edge_attr=[11, 4])\n"
     ]
    },
    {
     "name": "stderr",
     "output_type": "stream",
     "text": [
      "Epoch 139 Training: 100%|██████████| 1/1 [00:00<00:00,  5.55it/s]\n"
     ]
    },
    {
     "name": "stdout",
     "output_type": "stream",
     "text": [
      "Data(x=[18, 5], edge_index=[2, 36], edge_attr=[36, 4], y=[1, 2], pos=[18, 3], z=[18], smiles='[H]O[C@]1([H])C([H])=C(C([H])([H])[H])C([H])([H])[C@@]1([H])C#N', name='gdb_84136', idx=[1], adj_triu_mat=[1, 435], node_mat=[1, 29, 5], edge_triu_mat=[1, 406, 4])\n",
      "Data(x=[18, 5], edge_index=[2, 10], edge_attr=[10, 4])\n"
     ]
    },
    {
     "name": "stderr",
     "output_type": "stream",
     "text": [
      "Epoch 140 Training: 100%|██████████| 1/1 [00:00<00:00,  6.64it/s]\n"
     ]
    },
    {
     "name": "stdout",
     "output_type": "stream",
     "text": [
      "Data(x=[16, 5], edge_index=[2, 34], edge_attr=[34, 4], y=[1, 2], pos=[16, 3], z=[16], smiles='[H]O[C@@]1(C#N)C([H])([H])[C@@]1([H])[C@]1([H])OC1([H])[H]', name='gdb_65372', idx=[1], adj_triu_mat=[1, 435], node_mat=[1, 29, 5], edge_triu_mat=[1, 406, 4])\n",
      "Data(x=[18, 5], edge_index=[2, 11], edge_attr=[11, 4])\n"
     ]
    },
    {
     "name": "stderr",
     "output_type": "stream",
     "text": [
      "Epoch 141 Training: 100%|██████████| 1/1 [00:00<00:00,  6.13it/s]\n"
     ]
    },
    {
     "name": "stdout",
     "output_type": "stream",
     "text": [
      "Data(x=[18, 5], edge_index=[2, 38], edge_attr=[38, 4], y=[1, 2], pos=[18, 3], z=[18], smiles='[H]C1=NC([H])([H])C([NH2+]C2([H])C([H])([H])C2([H])[H])N1[H]', name='gdb_40843', idx=[1], adj_triu_mat=[1, 435], node_mat=[1, 29, 5], edge_triu_mat=[1, 406, 4])\n",
      "Data(x=[18, 5], edge_index=[2, 10], edge_attr=[10, 4])\n"
     ]
    },
    {
     "name": "stderr",
     "output_type": "stream",
     "text": [
      "Epoch 142 Training: 100%|██████████| 1/1 [00:00<00:00,  6.04it/s]\n"
     ]
    },
    {
     "name": "stdout",
     "output_type": "stream",
     "text": [
      "Data(x=[16, 5], edge_index=[2, 34], edge_attr=[34, 4], y=[1, 2], pos=[16, 3], z=[16], smiles='[H]O[C@]1([H])C2=C([H])OC([H])=C2N([H])C1([H])[H]', name='gdb_30357', idx=[1], adj_triu_mat=[1, 435], node_mat=[1, 29, 5], edge_triu_mat=[1, 406, 4])\n",
      "Data(x=[18, 5], edge_index=[2, 10], edge_attr=[10, 4])\n"
     ]
    },
    {
     "name": "stderr",
     "output_type": "stream",
     "text": [
      "Epoch 143 Training: 100%|██████████| 1/1 [00:00<00:00,  6.58it/s]\n"
     ]
    },
    {
     "name": "stdout",
     "output_type": "stream",
     "text": [
      "Data(x=[19, 5], edge_index=[2, 40], edge_attr=[40, 4], y=[1, 2], pos=[19, 3], z=[19], smiles='[H]/C1=N/C([H])([H])C([H])([H])[N@H+]2C([H])([H])[C@@]2([H])C([H])([H])O1', name='gdb_39380', idx=[1], adj_triu_mat=[1, 435], node_mat=[1, 29, 5], edge_triu_mat=[1, 406, 4])\n",
      "Data(x=[18, 5], edge_index=[2, 11], edge_attr=[11, 4])\n"
     ]
    },
    {
     "name": "stderr",
     "output_type": "stream",
     "text": [
      "Epoch 144 Training: 100%|██████████| 1/1 [00:00<00:00,  6.13it/s]\n"
     ]
    },
    {
     "name": "stdout",
     "output_type": "stream",
     "text": [
      "Data(x=[15, 5], edge_index=[2, 30], edge_attr=[30, 4], y=[1, 2], pos=[15, 3], z=[15], smiles='[H]OC1=NC(O[H])=C(C([H])([H])[H])N=C1[H]', name='gdb_28507', idx=[1], adj_triu_mat=[1, 435], node_mat=[1, 29, 5], edge_triu_mat=[1, 406, 4])\n",
      "Data(x=[18, 5], edge_index=[2, 10], edge_attr=[10, 4])\n"
     ]
    },
    {
     "name": "stderr",
     "output_type": "stream",
     "text": [
      "Epoch 145 Training: 100%|██████████| 1/1 [00:00<00:00,  6.64it/s]\n"
     ]
    },
    {
     "name": "stdout",
     "output_type": "stream",
     "text": [
      "Data(x=[17, 5], edge_index=[2, 34], edge_attr=[34, 4], y=[1, 2], pos=[17, 3], z=[17], smiles='[H]C([H])([H])C([H])([H])O[C@]1([H])OC(=O)OC1([H])[H]', name='gdb_121054', idx=[1], adj_triu_mat=[1, 435], node_mat=[1, 29, 5], edge_triu_mat=[1, 406, 4])\n",
      "Data(x=[18, 5], edge_index=[2, 11], edge_attr=[11, 4])\n"
     ]
    },
    {
     "name": "stderr",
     "output_type": "stream",
     "text": [
      "Epoch 146 Training: 100%|██████████| 1/1 [00:00<00:00,  6.20it/s]\n"
     ]
    },
    {
     "name": "stdout",
     "output_type": "stream",
     "text": [
      "Data(x=[17, 5], edge_index=[2, 34], edge_attr=[34, 4], y=[1, 2], pos=[17, 3], z=[17], smiles='[H]C#C[C@]1([H])OC1(C([H])([H])O[H])C([H])([H])O[H]', name='gdb_104761', idx=[1], adj_triu_mat=[1, 435], node_mat=[1, 29, 5], edge_triu_mat=[1, 406, 4])\n",
      "Data(x=[18, 5], edge_index=[2, 10], edge_attr=[10, 4])\n"
     ]
    },
    {
     "name": "stderr",
     "output_type": "stream",
     "text": [
      "Epoch 147 Training: 100%|██████████| 1/1 [00:00<00:00,  6.47it/s]\n"
     ]
    },
    {
     "name": "stdout",
     "output_type": "stream",
     "text": [
      "Data(x=[18, 5], edge_index=[2, 38], edge_attr=[38, 4], y=[1, 2], pos=[18, 3], z=[18], smiles='[H]C#CC([H])([H])[C@]1(O[H])C([H])([H])[C@@]2([H])N([H])[C@@]12[H]', name='gdb_64721', idx=[1], adj_triu_mat=[1, 435], node_mat=[1, 29, 5], edge_triu_mat=[1, 406, 4])\n",
      "Data(x=[18, 5], edge_index=[2, 10], edge_attr=[10, 4])\n"
     ]
    },
    {
     "name": "stderr",
     "output_type": "stream",
     "text": [
      "Epoch 148 Training: 100%|██████████| 1/1 [00:00<00:00,  6.41it/s]\n"
     ]
    },
    {
     "name": "stdout",
     "output_type": "stream",
     "text": [
      "Data(x=[19, 5], edge_index=[2, 40], edge_attr=[40, 4], y=[1, 2], pos=[19, 3], z=[19], smiles='[H]C(=O)N([H])[C@@]1([H])C([H])([H])[N@H+]2C([H])([H])C([H])([H])[C@]21[H]', name='gdb_51674', idx=[1], adj_triu_mat=[1, 435], node_mat=[1, 29, 5], edge_triu_mat=[1, 406, 4])\n",
      "Data(x=[18, 5], edge_index=[2, 12], edge_attr=[12, 4])\n"
     ]
    },
    {
     "name": "stderr",
     "output_type": "stream",
     "text": [
      "Epoch 149 Training: 100%|██████████| 1/1 [00:00<00:00,  7.26it/s]\n"
     ]
    },
    {
     "name": "stdout",
     "output_type": "stream",
     "text": [
      "Data(x=[18, 5], edge_index=[2, 38], edge_attr=[38, 4], y=[1, 2], pos=[18, 3], z=[18], smiles='[H]C(=O)[C@]1([H])[N@@H+]2C([H])([H])[C@]([H])(OC([H])([H])[H])[C@@]21[H]', name='gdb_114376', idx=[1], adj_triu_mat=[1, 435], node_mat=[1, 29, 5], edge_triu_mat=[1, 406, 4])\n",
      "Data(x=[19, 5], edge_index=[2, 11], edge_attr=[11, 4])\n"
     ]
    },
    {
     "name": "stderr",
     "output_type": "stream",
     "text": [
      "Epoch 150 Training: 100%|██████████| 1/1 [00:00<00:00,  5.98it/s]\n"
     ]
    },
    {
     "name": "stdout",
     "output_type": "stream",
     "text": [
      "Data(x=[17, 5], edge_index=[2, 34], edge_attr=[34, 4], y=[1, 2], pos=[17, 3], z=[17], smiles='[H]C([H])([H])C([H])([H])O[C@]1([H])OC(=O)OC1([H])[H]', name='gdb_121054', idx=[1], adj_triu_mat=[1, 435], node_mat=[1, 29, 5], edge_triu_mat=[1, 406, 4])\n",
      "Data(x=[18, 5], edge_index=[2, 10], edge_attr=[10, 4])\n"
     ]
    },
    {
     "name": "stderr",
     "output_type": "stream",
     "text": [
      "Epoch 151 Training: 100%|██████████| 1/1 [00:01<00:00,  1.48s/it]\n"
     ]
    },
    {
     "name": "stdout",
     "output_type": "stream",
     "text": [
      "Data(x=[14, 5], edge_index=[2, 30], edge_attr=[30, 4], y=[1, 2], pos=[14, 3], z=[14], smiles='[H]N([H])C1=NC([C@]2([H])OC2([H])[H])=NO1', name='gdb_129970', idx=[1], adj_triu_mat=[1, 435], node_mat=[1, 29, 5], edge_triu_mat=[1, 406, 4])\n",
      "Data(x=[19, 5], edge_index=[2, 10], edge_attr=[10, 4])\n"
     ]
    },
    {
     "name": "stderr",
     "output_type": "stream",
     "text": [
      "Epoch 152 Training: 100%|██████████| 1/1 [00:00<00:00,  6.00it/s]\n"
     ]
    },
    {
     "name": "stdout",
     "output_type": "stream",
     "text": [
      "Data(x=[16, 5], edge_index=[2, 34], edge_attr=[34, 4], y=[1, 2], pos=[16, 3], z=[16], smiles='[H]O[C@]1([H])C2=C([H])OC([H])=C2N([H])C1([H])[H]', name='gdb_30357', idx=[1], adj_triu_mat=[1, 435], node_mat=[1, 29, 5], edge_triu_mat=[1, 406, 4])\n",
      "Data(x=[18, 5], edge_index=[2, 10], edge_attr=[10, 4])\n"
     ]
    },
    {
     "name": "stderr",
     "output_type": "stream",
     "text": [
      "Epoch 153 Training: 100%|██████████| 1/1 [00:00<00:00,  5.28it/s]\n"
     ]
    },
    {
     "name": "stdout",
     "output_type": "stream",
     "text": [
      "Data(x=[17, 5], edge_index=[2, 32], edge_attr=[32, 4], y=[1, 2], pos=[17, 3], z=[17], smiles='[H]/N=C(/OC([H])([H])C([H])([H])O[H])N([H])C([H])=O', name='gdb_121723', idx=[1], adj_triu_mat=[1, 435], node_mat=[1, 29, 5], edge_triu_mat=[1, 406, 4])\n",
      "Data(x=[18, 5], edge_index=[2, 10], edge_attr=[10, 4])\n"
     ]
    },
    {
     "name": "stderr",
     "output_type": "stream",
     "text": [
      "Epoch 154 Training: 100%|██████████| 1/1 [00:00<00:00,  6.03it/s]\n"
     ]
    },
    {
     "name": "stdout",
     "output_type": "stream",
     "text": [
      "Data(x=[25, 5], edge_index=[2, 52], edge_attr=[52, 4], y=[1, 2], pos=[25, 3], z=[25], smiles='[H]C([H])([H])C([H])([H])[C@@]1([H])C([H])([H])[C@@]([H])(C([H])([H])[H])[C@@]2([H])C([H])([H])[C@@]12[H]', name='gdb_112835', idx=[1], adj_triu_mat=[1, 435], node_mat=[1, 29, 5], edge_triu_mat=[1, 406, 4])\n",
      "Data(x=[18, 5], edge_index=[2, 10], edge_attr=[10, 4])\n"
     ]
    },
    {
     "name": "stderr",
     "output_type": "stream",
     "text": [
      "Epoch 155 Training: 100%|██████████| 1/1 [00:00<00:00,  5.85it/s]\n"
     ]
    },
    {
     "name": "stdout",
     "output_type": "stream",
     "text": [
      "Data(x=[17, 5], edge_index=[2, 34], edge_attr=[34, 4], y=[1, 2], pos=[17, 3], z=[17], smiles='[H]C([H])([H])C([H])([H])O[C@]1([H])OC(=O)OC1([H])[H]', name='gdb_121054', idx=[1], adj_triu_mat=[1, 435], node_mat=[1, 29, 5], edge_triu_mat=[1, 406, 4])\n",
      "Data(x=[17, 5], edge_index=[2, 11], edge_attr=[11, 4])\n"
     ]
    },
    {
     "name": "stderr",
     "output_type": "stream",
     "text": [
      "Epoch 156 Training: 100%|██████████| 1/1 [00:00<00:00,  5.55it/s]\n"
     ]
    },
    {
     "name": "stdout",
     "output_type": "stream",
     "text": [
      "Data(x=[18, 5], edge_index=[2, 36], edge_attr=[36, 4], y=[1, 2], pos=[18, 3], z=[18], smiles='[H]O[C@]1([H])C([H])=C(C([H])([H])[H])C([H])([H])[C@@]1([H])C#N', name='gdb_84136', idx=[1], adj_triu_mat=[1, 435], node_mat=[1, 29, 5], edge_triu_mat=[1, 406, 4])\n",
      "Data(x=[18, 5], edge_index=[2, 11], edge_attr=[11, 4])\n"
     ]
    },
    {
     "name": "stderr",
     "output_type": "stream",
     "text": [
      "Epoch 157 Training: 100%|██████████| 1/1 [00:00<00:00,  4.85it/s]\n"
     ]
    },
    {
     "name": "stdout",
     "output_type": "stream",
     "text": [
      "Data(x=[15, 5], edge_index=[2, 30], edge_attr=[30, 4], y=[1, 2], pos=[15, 3], z=[15], smiles='[H]OC1=NC(O[H])=C(C([H])([H])[H])N=C1[H]', name='gdb_28507', idx=[1], adj_triu_mat=[1, 435], node_mat=[1, 29, 5], edge_triu_mat=[1, 406, 4])\n",
      "Data(x=[18, 5], edge_index=[2, 11], edge_attr=[11, 4])\n"
     ]
    },
    {
     "name": "stderr",
     "output_type": "stream",
     "text": [
      "Epoch 158 Training: 100%|██████████| 1/1 [00:00<00:00,  5.32it/s]\n"
     ]
    },
    {
     "name": "stdout",
     "output_type": "stream",
     "text": [
      "Data(x=[20, 5], edge_index=[2, 40], edge_attr=[40, 4], y=[1, 2], pos=[20, 3], z=[20], smiles='[H]OC([H])([H])[C@@]([H])([N@H+]1C([H])([H])[C@@]1([H])C([H])=O)C([H])([H])[H]', name='gdb_101299', idx=[1], adj_triu_mat=[1, 435], node_mat=[1, 29, 5], edge_triu_mat=[1, 406, 4])\n",
      "Data(x=[18, 5], edge_index=[2, 11], edge_attr=[11, 4])\n"
     ]
    },
    {
     "name": "stderr",
     "output_type": "stream",
     "text": [
      "Epoch 159 Training: 100%|██████████| 1/1 [00:00<00:00,  5.90it/s]\n"
     ]
    },
    {
     "name": "stdout",
     "output_type": "stream",
     "text": [
      "Data(x=[16, 5], edge_index=[2, 34], edge_attr=[34, 4], y=[1, 2], pos=[16, 3], z=[16], smiles='[H]O[C@@]1(C#N)C([H])([H])[C@@]1([H])[C@]1([H])OC1([H])[H]', name='gdb_65372', idx=[1], adj_triu_mat=[1, 435], node_mat=[1, 29, 5], edge_triu_mat=[1, 406, 4])\n",
      "Data(x=[18, 5], edge_index=[2, 10], edge_attr=[10, 4])\n"
     ]
    },
    {
     "name": "stderr",
     "output_type": "stream",
     "text": [
      "Epoch 160 Training: 100%|██████████| 1/1 [00:00<00:00,  5.89it/s]\n"
     ]
    },
    {
     "name": "stdout",
     "output_type": "stream",
     "text": [
      "Data(x=[17, 5], edge_index=[2, 32], edge_attr=[32, 4], y=[1, 2], pos=[17, 3], z=[17], smiles='[H]O[C@@]([H])(C([H])=O)C([H])(C([H])([H])[H])C([H])([H])[H]', name='gdb_1626', idx=[1], adj_triu_mat=[1, 435], node_mat=[1, 29, 5], edge_triu_mat=[1, 406, 4])\n",
      "Data(x=[18, 5], edge_index=[2, 11], edge_attr=[11, 4])\n"
     ]
    },
    {
     "name": "stderr",
     "output_type": "stream",
     "text": [
      "Epoch 161 Training: 100%|██████████| 1/1 [00:00<00:00,  6.99it/s]\n"
     ]
    },
    {
     "name": "stdout",
     "output_type": "stream",
     "text": [
      "Data(x=[19, 5], edge_index=[2, 40], edge_attr=[40, 4], y=[1, 2], pos=[19, 3], z=[19], smiles='[H]OC([H])([H])[C@@]1(C([H])([H])[H])[N@@H+]2C([H])([H])[C@]2([H])C1([H])[H]', name='gdb_12062', idx=[1], adj_triu_mat=[1, 435], node_mat=[1, 29, 5], edge_triu_mat=[1, 406, 4])\n",
      "Data(x=[18, 5], edge_index=[2, 11], edge_attr=[11, 4])\n"
     ]
    },
    {
     "name": "stderr",
     "output_type": "stream",
     "text": [
      "Epoch 162 Training: 100%|██████████| 1/1 [00:00<00:00,  6.06it/s]\n"
     ]
    },
    {
     "name": "stdout",
     "output_type": "stream",
     "text": [
      "Data(x=[23, 5], edge_index=[2, 48], edge_attr=[48, 4], y=[1, 2], pos=[23, 3], z=[23], smiles='[H]C1=C(C([H])([H])[H])[C@@]([H])(C([H])([H])[H])[C@]2([H])C([H])([H])[C@@]1([H])C2([H])[H]', name='gdb_80651', idx=[1], adj_triu_mat=[1, 435], node_mat=[1, 29, 5], edge_triu_mat=[1, 406, 4])\n",
      "Data(x=[18, 5], edge_index=[2, 11], edge_attr=[11, 4])\n"
     ]
    },
    {
     "name": "stderr",
     "output_type": "stream",
     "text": [
      "Epoch 163 Training: 100%|██████████| 1/1 [00:00<00:00,  5.62it/s]\n"
     ]
    },
    {
     "name": "stdout",
     "output_type": "stream",
     "text": [
      "Data(x=[15, 5], edge_index=[2, 30], edge_attr=[30, 4], y=[1, 2], pos=[15, 3], z=[15], smiles='[H]C#C[C@@]1([H])[NH2+]C(C([H])([H])[H])OC1([H])[H]', name='gdb_11226', idx=[1], adj_triu_mat=[1, 435], node_mat=[1, 29, 5], edge_triu_mat=[1, 406, 4])\n",
      "Data(x=[18, 5], edge_index=[2, 11], edge_attr=[11, 4])\n"
     ]
    },
    {
     "name": "stderr",
     "output_type": "stream",
     "text": [
      "Epoch 164 Training: 100%|██████████| 1/1 [00:00<00:00,  6.01it/s]\n"
     ]
    },
    {
     "name": "stdout",
     "output_type": "stream",
     "text": [
      "Data(x=[20, 5], edge_index=[2, 44], edge_attr=[44, 4], y=[1, 2], pos=[20, 3], z=[20], smiles='[H]N1[C@@]2([H])[C@]3(O[C@]3([H])C([H])([H])C([H])([H])[H])C([H])([H])[C@@]12[H]', name='gdb_113461', idx=[1], adj_triu_mat=[1, 435], node_mat=[1, 29, 5], edge_triu_mat=[1, 406, 4])\n",
      "Data(x=[18, 5], edge_index=[2, 11], edge_attr=[11, 4])\n"
     ]
    },
    {
     "name": "stderr",
     "output_type": "stream",
     "text": [
      "Epoch 165 Training: 100%|██████████| 1/1 [00:00<00:00,  6.68it/s]\n"
     ]
    },
    {
     "name": "stdout",
     "output_type": "stream",
     "text": [
      "Data(x=[18, 5], edge_index=[2, 36], edge_attr=[36, 4], y=[1, 2], pos=[18, 3], z=[18], smiles='[H]C(=O)C([H])([H])[C@]1([H])C([H])([H])O[C@]1([H])C([H])([H])[H]', name='gdb_13092', idx=[1], adj_triu_mat=[1, 435], node_mat=[1, 29, 5], edge_triu_mat=[1, 406, 4])\n",
      "Data(x=[18, 5], edge_index=[2, 10], edge_attr=[10, 4])\n"
     ]
    },
    {
     "name": "stderr",
     "output_type": "stream",
     "text": [
      "Epoch 166 Training: 100%|██████████| 1/1 [00:00<00:00,  5.81it/s]\n"
     ]
    },
    {
     "name": "stdout",
     "output_type": "stream",
     "text": [
      "Data(x=[19, 5], edge_index=[2, 40], edge_attr=[40, 4], y=[1, 2], pos=[19, 3], z=[19], smiles='[H]C(=O)N([H])[C@@]1([H])C([H])([H])[N@H+]2C([H])([H])C([H])([H])[C@]21[H]', name='gdb_51674', idx=[1], adj_triu_mat=[1, 435], node_mat=[1, 29, 5], edge_triu_mat=[1, 406, 4])\n",
      "Data(x=[18, 5], edge_index=[2, 11], edge_attr=[11, 4])\n"
     ]
    },
    {
     "name": "stderr",
     "output_type": "stream",
     "text": [
      "Epoch 167 Training: 100%|██████████| 1/1 [00:00<00:00,  6.16it/s]\n"
     ]
    },
    {
     "name": "stdout",
     "output_type": "stream",
     "text": [
      "Data(x=[16, 5], edge_index=[2, 32], edge_attr=[32, 4], y=[1, 2], pos=[16, 3], z=[16], smiles='[H]C1=C(C#CC([H])([H])[H])C(N([H])[H])=C([H])O1', name='gdb_25701', idx=[1], adj_triu_mat=[1, 435], node_mat=[1, 29, 5], edge_triu_mat=[1, 406, 4])\n",
      "Data(x=[18, 5], edge_index=[2, 10], edge_attr=[10, 4])\n"
     ]
    },
    {
     "name": "stderr",
     "output_type": "stream",
     "text": [
      "Epoch 168 Training: 100%|██████████| 1/1 [00:00<00:00,  5.87it/s]\n"
     ]
    },
    {
     "name": "stdout",
     "output_type": "stream",
     "text": [
      "Data(x=[20, 5], edge_index=[2, 40], edge_attr=[40, 4], y=[1, 2], pos=[20, 3], z=[20], smiles='[H]OC([H])([H])[C@@]([H])([N@H+]1C([H])([H])[C@@]1([H])C([H])=O)C([H])([H])[H]', name='gdb_101299', idx=[1], adj_triu_mat=[1, 435], node_mat=[1, 29, 5], edge_triu_mat=[1, 406, 4])\n",
      "Data(x=[18, 5], edge_index=[2, 11], edge_attr=[11, 4])\n"
     ]
    },
    {
     "name": "stderr",
     "output_type": "stream",
     "text": [
      "Epoch 169 Training: 100%|██████████| 1/1 [00:00<00:00,  3.98it/s]\n"
     ]
    },
    {
     "name": "stdout",
     "output_type": "stream",
     "text": [
      "Data(x=[19, 5], edge_index=[2, 42], edge_attr=[42, 4], y=[1, 2], pos=[19, 3], z=[19], smiles='[H]C([H])([H])O[C@]12C([H])([H])[C@@]1([H])[C@@]1([H])O[C@]12C([H])([H])[H]', name='gdb_107257', idx=[1], adj_triu_mat=[1, 435], node_mat=[1, 29, 5], edge_triu_mat=[1, 406, 4])\n",
      "Data(x=[18, 5], edge_index=[2, 11], edge_attr=[11, 4])\n"
     ]
    },
    {
     "name": "stderr",
     "output_type": "stream",
     "text": [
      "Epoch 170 Training: 100%|██████████| 1/1 [00:00<00:00,  6.85it/s]\n"
     ]
    },
    {
     "name": "stdout",
     "output_type": "stream",
     "text": [
      "Data(x=[18, 5], edge_index=[2, 38], edge_attr=[38, 4], y=[1, 2], pos=[18, 3], z=[18], smiles='[H]C(=O)[C@]1([H])[N@@H+]2C([H])([H])[C@]([H])(OC([H])([H])[H])[C@@]21[H]', name='gdb_114376', idx=[1], adj_triu_mat=[1, 435], node_mat=[1, 29, 5], edge_triu_mat=[1, 406, 4])\n",
      "Data(x=[18, 5], edge_index=[2, 11], edge_attr=[11, 4])\n"
     ]
    },
    {
     "name": "stderr",
     "output_type": "stream",
     "text": [
      "Epoch 171 Training: 100%|██████████| 1/1 [00:00<00:00,  6.84it/s]\n"
     ]
    },
    {
     "name": "stdout",
     "output_type": "stream",
     "text": [
      "Data(x=[21, 5], edge_index=[2, 42], edge_attr=[42, 4], y=[1, 2], pos=[21, 3], z=[21], smiles='[H]O[C@]1([H])[C@]([H])(O[H])C([H])([H])C([H])=C([H])[C@]1([H])C([H])([H])[H]', name='gdb_92903', idx=[1], adj_triu_mat=[1, 435], node_mat=[1, 29, 5], edge_triu_mat=[1, 406, 4])\n",
      "Data(x=[19, 5], edge_index=[2, 11], edge_attr=[11, 4])\n"
     ]
    },
    {
     "name": "stderr",
     "output_type": "stream",
     "text": [
      "Epoch 172 Training: 100%|██████████| 1/1 [00:00<00:00,  6.90it/s]\n"
     ]
    },
    {
     "name": "stdout",
     "output_type": "stream",
     "text": [
      "Data(x=[17, 5], edge_index=[2, 32], edge_attr=[32, 4], y=[1, 2], pos=[17, 3], z=[17], smiles='[H]O[C@@]([H])(C([H])=O)C([H])(C([H])([H])[H])C([H])([H])[H]', name='gdb_1626', idx=[1], adj_triu_mat=[1, 435], node_mat=[1, 29, 5], edge_triu_mat=[1, 406, 4])\n",
      "Data(x=[18, 5], edge_index=[2, 11], edge_attr=[11, 4])\n"
     ]
    },
    {
     "name": "stderr",
     "output_type": "stream",
     "text": [
      "Epoch 173 Training: 100%|██████████| 1/1 [00:00<00:00,  6.23it/s]\n"
     ]
    },
    {
     "name": "stdout",
     "output_type": "stream",
     "text": [
      "Data(x=[17, 5], edge_index=[2, 34], edge_attr=[34, 4], y=[1, 2], pos=[17, 3], z=[17], smiles='[H]C([H])([H])C([H])([H])O[C@]1([H])OC(=O)OC1([H])[H]', name='gdb_121054', idx=[1], adj_triu_mat=[1, 435], node_mat=[1, 29, 5], edge_triu_mat=[1, 406, 4])\n",
      "Data(x=[18, 5], edge_index=[2, 10], edge_attr=[10, 4])\n"
     ]
    },
    {
     "name": "stderr",
     "output_type": "stream",
     "text": [
      "Epoch 174 Training: 100%|██████████| 1/1 [00:00<00:00,  6.68it/s]\n"
     ]
    },
    {
     "name": "stdout",
     "output_type": "stream",
     "text": [
      "Data(x=[23, 5], edge_index=[2, 48], edge_attr=[48, 4], y=[1, 2], pos=[23, 3], z=[23], smiles='[H]C1=C(C([H])([H])[H])[C@@]([H])(C([H])([H])[H])[C@]2([H])C([H])([H])[C@@]1([H])C2([H])[H]', name='gdb_80651', idx=[1], adj_triu_mat=[1, 435], node_mat=[1, 29, 5], edge_triu_mat=[1, 406, 4])\n",
      "Data(x=[18, 5], edge_index=[2, 10], edge_attr=[10, 4])\n"
     ]
    },
    {
     "name": "stderr",
     "output_type": "stream",
     "text": [
      "Epoch 175 Training: 100%|██████████| 1/1 [00:00<00:00,  6.23it/s]\n"
     ]
    },
    {
     "name": "stdout",
     "output_type": "stream",
     "text": [
      "Data(x=[21, 5], edge_index=[2, 42], edge_attr=[42, 4], y=[1, 2], pos=[21, 3], z=[21], smiles='[H]OC1([C@]([H])(C([H])=O)C([H])([H])[H])C([H])([H])C([H])([H])C1([H])[H]', name='gdb_60858', idx=[1], adj_triu_mat=[1, 435], node_mat=[1, 29, 5], edge_triu_mat=[1, 406, 4])\n",
      "Data(x=[18, 5], edge_index=[2, 11], edge_attr=[11, 4])\n"
     ]
    },
    {
     "name": "stderr",
     "output_type": "stream",
     "text": [
      "Epoch 176 Training: 100%|██████████| 1/1 [00:00<00:00,  5.46it/s]\n"
     ]
    },
    {
     "name": "stdout",
     "output_type": "stream",
     "text": [
      "Data(x=[17, 5], edge_index=[2, 34], edge_attr=[34, 4], y=[1, 2], pos=[17, 3], z=[17], smiles='[H]C([H])([H])C([H])([H])O[C@]1([H])OC(=O)OC1([H])[H]', name='gdb_121054', idx=[1], adj_triu_mat=[1, 435], node_mat=[1, 29, 5], edge_triu_mat=[1, 406, 4])\n",
      "Data(x=[18, 5], edge_index=[2, 10], edge_attr=[10, 4])\n"
     ]
    },
    {
     "name": "stderr",
     "output_type": "stream",
     "text": [
      "Epoch 177 Training: 100%|██████████| 1/1 [00:00<00:00,  5.51it/s]\n"
     ]
    },
    {
     "name": "stdout",
     "output_type": "stream",
     "text": [
      "Data(x=[23, 5], edge_index=[2, 48], edge_attr=[48, 4], y=[1, 2], pos=[23, 3], z=[23], smiles='[H]C1=C(C([H])([H])[H])[C@@]([H])(C([H])([H])[H])[C@]2([H])C([H])([H])[C@@]1([H])C2([H])[H]', name='gdb_80651', idx=[1], adj_triu_mat=[1, 435], node_mat=[1, 29, 5], edge_triu_mat=[1, 406, 4])\n",
      "Data(x=[19, 5], edge_index=[2, 11], edge_attr=[11, 4])\n"
     ]
    },
    {
     "name": "stderr",
     "output_type": "stream",
     "text": [
      "Epoch 178 Training: 100%|██████████| 1/1 [00:00<00:00,  6.46it/s]\n"
     ]
    },
    {
     "name": "stdout",
     "output_type": "stream",
     "text": [
      "Data(x=[17, 5], edge_index=[2, 34], edge_attr=[34, 4], y=[1, 2], pos=[17, 3], z=[17], smiles='[H]C([H])([H])C([H])([H])O[C@]1([H])OC(=O)OC1([H])[H]', name='gdb_121054', idx=[1], adj_triu_mat=[1, 435], node_mat=[1, 29, 5], edge_triu_mat=[1, 406, 4])\n",
      "Data(x=[18, 5], edge_index=[2, 11], edge_attr=[11, 4])\n"
     ]
    },
    {
     "name": "stderr",
     "output_type": "stream",
     "text": [
      "Epoch 179 Training: 100%|██████████| 1/1 [00:00<00:00,  6.59it/s]\n"
     ]
    },
    {
     "name": "stdout",
     "output_type": "stream",
     "text": [
      "Data(x=[16, 5], edge_index=[2, 32], edge_attr=[32, 4], y=[1, 2], pos=[16, 3], z=[16], smiles='[H]C#CC#C[C@@]1(C([H])([H])O[H])N([H])C1([H])[H]', name='gdb_104944', idx=[1], adj_triu_mat=[1, 435], node_mat=[1, 29, 5], edge_triu_mat=[1, 406, 4])\n",
      "Data(x=[18, 5], edge_index=[2, 11], edge_attr=[11, 4])\n"
     ]
    },
    {
     "name": "stderr",
     "output_type": "stream",
     "text": [
      "Epoch 180 Training: 100%|██████████| 1/1 [00:00<00:00,  6.19it/s]\n"
     ]
    },
    {
     "name": "stdout",
     "output_type": "stream",
     "text": [
      "Data(x=[15, 5], edge_index=[2, 30], edge_attr=[30, 4], y=[1, 2], pos=[15, 3], z=[15], smiles='[H]OC1=NC(O[H])=C(C([H])([H])[H])N=C1[H]', name='gdb_28507', idx=[1], adj_triu_mat=[1, 435], node_mat=[1, 29, 5], edge_triu_mat=[1, 406, 4])\n",
      "Data(x=[18, 5], edge_index=[2, 11], edge_attr=[11, 4])\n"
     ]
    },
    {
     "name": "stderr",
     "output_type": "stream",
     "text": [
      "Epoch 181 Training: 100%|██████████| 1/1 [00:00<00:00,  6.08it/s]\n"
     ]
    },
    {
     "name": "stdout",
     "output_type": "stream",
     "text": [
      "Data(x=[20, 5], edge_index=[2, 40], edge_attr=[40, 4], y=[1, 2], pos=[20, 3], z=[20], smiles='[H]OC([H])([H])[C@@]([H])([N@H+]1C([H])([H])[C@@]1([H])C([H])=O)C([H])([H])[H]', name='gdb_101299', idx=[1], adj_triu_mat=[1, 435], node_mat=[1, 29, 5], edge_triu_mat=[1, 406, 4])\n",
      "Data(x=[18, 5], edge_index=[2, 11], edge_attr=[11, 4])\n"
     ]
    },
    {
     "name": "stderr",
     "output_type": "stream",
     "text": [
      "Epoch 182 Training: 100%|██████████| 1/1 [00:00<00:00,  6.28it/s]\n"
     ]
    },
    {
     "name": "stdout",
     "output_type": "stream",
     "text": [
      "Data(x=[18, 5], edge_index=[2, 38], edge_attr=[38, 4], y=[1, 2], pos=[18, 3], z=[18], smiles='[H]C1=C([H])[C@@]2([H])C([H])([H])[C@@]2([H])OC([H])([H])C1([H])[H]', name='gdb_18391', idx=[1], adj_triu_mat=[1, 435], node_mat=[1, 29, 5], edge_triu_mat=[1, 406, 4])\n",
      "Data(x=[18, 5], edge_index=[2, 11], edge_attr=[11, 4])\n"
     ]
    },
    {
     "name": "stderr",
     "output_type": "stream",
     "text": [
      "Epoch 183 Training: 100%|██████████| 1/1 [00:00<00:00,  6.25it/s]\n"
     ]
    },
    {
     "name": "stdout",
     "output_type": "stream",
     "text": [
      "Data(x=[18, 5], edge_index=[2, 36], edge_attr=[36, 4], y=[1, 2], pos=[18, 3], z=[18], smiles='[H][N-]C1OC([H])([H])C([NH2+]C([H])([H])[H])N([H])C1([H])[H]', name='gdb_97045', idx=[1], adj_triu_mat=[1, 435], node_mat=[1, 29, 5], edge_triu_mat=[1, 406, 4])\n",
      "Data(x=[18, 5], edge_index=[2, 10], edge_attr=[10, 4])\n"
     ]
    },
    {
     "name": "stderr",
     "output_type": "stream",
     "text": [
      "Epoch 184 Training: 100%|██████████| 1/1 [00:00<00:00,  6.26it/s]\n"
     ]
    },
    {
     "name": "stdout",
     "output_type": "stream",
     "text": [
      "Data(x=[17, 5], edge_index=[2, 34], edge_attr=[34, 4], y=[1, 2], pos=[17, 3], z=[17], smiles='[H]C([H])([H])C([H])([H])O[C@]1([H])OC(=O)OC1([H])[H]', name='gdb_121054', idx=[1], adj_triu_mat=[1, 435], node_mat=[1, 29, 5], edge_triu_mat=[1, 406, 4])\n",
      "Data(x=[18, 5], edge_index=[2, 11], edge_attr=[11, 4])\n"
     ]
    },
    {
     "name": "stderr",
     "output_type": "stream",
     "text": [
      "Epoch 185 Training: 100%|██████████| 1/1 [00:00<00:00,  6.10it/s]\n"
     ]
    },
    {
     "name": "stdout",
     "output_type": "stream",
     "text": [
      "Data(x=[17, 5], edge_index=[2, 32], edge_attr=[32, 4], y=[1, 2], pos=[17, 3], z=[17], smiles='[H]O[C@@]([H])(C([H])=O)C([H])(C([H])([H])[H])C([H])([H])[H]', name='gdb_1626', idx=[1], adj_triu_mat=[1, 435], node_mat=[1, 29, 5], edge_triu_mat=[1, 406, 4])\n",
      "Data(x=[18, 5], edge_index=[2, 11], edge_attr=[11, 4])\n"
     ]
    },
    {
     "name": "stderr",
     "output_type": "stream",
     "text": [
      "Epoch 186 Training: 100%|██████████| 1/1 [00:00<00:00,  6.81it/s]\n"
     ]
    },
    {
     "name": "stdout",
     "output_type": "stream",
     "text": [
      "Data(x=[16, 5], edge_index=[2, 32], edge_attr=[32, 4], y=[1, 2], pos=[16, 3], z=[16], smiles='[H]C1=C(C#CC([H])([H])[H])C(N([H])[H])=C([H])O1', name='gdb_25701', idx=[1], adj_triu_mat=[1, 435], node_mat=[1, 29, 5], edge_triu_mat=[1, 406, 4])\n",
      "Data(x=[18, 5], edge_index=[2, 11], edge_attr=[11, 4])\n"
     ]
    },
    {
     "name": "stderr",
     "output_type": "stream",
     "text": [
      "Epoch 187 Training: 100%|██████████| 1/1 [00:00<00:00,  5.46it/s]\n"
     ]
    },
    {
     "name": "stdout",
     "output_type": "stream",
     "text": [
      "Data(x=[17, 5], edge_index=[2, 34], edge_attr=[34, 4], y=[1, 2], pos=[17, 3], z=[17], smiles='[H]C([H])([H])C([H])([H])O[C@]1([H])OC(=O)OC1([H])[H]', name='gdb_121054', idx=[1], adj_triu_mat=[1, 435], node_mat=[1, 29, 5], edge_triu_mat=[1, 406, 4])\n",
      "Data(x=[18, 5], edge_index=[2, 10], edge_attr=[10, 4])\n"
     ]
    },
    {
     "name": "stderr",
     "output_type": "stream",
     "text": [
      "Epoch 188 Training: 100%|██████████| 1/1 [00:00<00:00,  6.31it/s]\n"
     ]
    },
    {
     "name": "stdout",
     "output_type": "stream",
     "text": [
      "Data(x=[17, 5], edge_index=[2, 34], edge_attr=[34, 4], y=[1, 2], pos=[17, 3], z=[17], smiles='[H]C([H])([H])C([H])([H])O[C@]1([H])OC(=O)OC1([H])[H]', name='gdb_121054', idx=[1], adj_triu_mat=[1, 435], node_mat=[1, 29, 5], edge_triu_mat=[1, 406, 4])\n",
      "Data(x=[18, 5], edge_index=[2, 11], edge_attr=[11, 4])\n"
     ]
    },
    {
     "name": "stderr",
     "output_type": "stream",
     "text": [
      "Epoch 189 Training: 100%|██████████| 1/1 [00:00<00:00,  6.07it/s]\n"
     ]
    },
    {
     "name": "stdout",
     "output_type": "stream",
     "text": [
      "Data(x=[21, 5], edge_index=[2, 42], edge_attr=[42, 4], y=[1, 2], pos=[21, 3], z=[21], smiles='[H]OC1([C@]([H])(C([H])=O)C([H])([H])[H])C([H])([H])C([H])([H])C1([H])[H]', name='gdb_60858', idx=[1], adj_triu_mat=[1, 435], node_mat=[1, 29, 5], edge_triu_mat=[1, 406, 4])\n",
      "Data(x=[18, 5], edge_index=[2, 11], edge_attr=[11, 4])\n"
     ]
    },
    {
     "name": "stderr",
     "output_type": "stream",
     "text": [
      "Epoch 190 Training: 100%|██████████| 1/1 [00:00<00:00,  6.81it/s]\n"
     ]
    },
    {
     "name": "stdout",
     "output_type": "stream",
     "text": [
      "Data(x=[16, 5], edge_index=[2, 34], edge_attr=[34, 4], y=[1, 2], pos=[16, 3], z=[16], smiles='[H]O[C@@]1(C#N)C([H])([H])[C@@]1([H])[C@]1([H])OC1([H])[H]', name='gdb_65372', idx=[1], adj_triu_mat=[1, 435], node_mat=[1, 29, 5], edge_triu_mat=[1, 406, 4])\n",
      "Data(x=[18, 5], edge_index=[2, 11], edge_attr=[11, 4])\n"
     ]
    },
    {
     "name": "stderr",
     "output_type": "stream",
     "text": [
      "Epoch 191 Training: 100%|██████████| 1/1 [00:00<00:00,  6.81it/s]\n"
     ]
    },
    {
     "name": "stdout",
     "output_type": "stream",
     "text": [
      "Data(x=[19, 5], edge_index=[2, 40], edge_attr=[40, 4], y=[1, 2], pos=[19, 3], z=[19], smiles='[H]/C1=N/C([H])([H])C([H])([H])[N@H+]2C([H])([H])[C@@]2([H])C([H])([H])O1', name='gdb_39380', idx=[1], adj_triu_mat=[1, 435], node_mat=[1, 29, 5], edge_triu_mat=[1, 406, 4])\n",
      "Data(x=[19, 5], edge_index=[2, 10], edge_attr=[10, 4])\n"
     ]
    },
    {
     "name": "stderr",
     "output_type": "stream",
     "text": [
      "Epoch 192 Training: 100%|██████████| 1/1 [00:00<00:00,  5.81it/s]\n"
     ]
    },
    {
     "name": "stdout",
     "output_type": "stream",
     "text": [
      "Data(x=[17, 5], edge_index=[2, 34], edge_attr=[34, 4], y=[1, 2], pos=[17, 3], z=[17], smiles='[H]C#C[C@]1([H])OC1(C([H])([H])O[H])C([H])([H])O[H]', name='gdb_104761', idx=[1], adj_triu_mat=[1, 435], node_mat=[1, 29, 5], edge_triu_mat=[1, 406, 4])\n",
      "Data(x=[18, 5], edge_index=[2, 11], edge_attr=[11, 4])\n"
     ]
    },
    {
     "name": "stderr",
     "output_type": "stream",
     "text": [
      "Epoch 193 Training: 100%|██████████| 1/1 [00:00<00:00,  5.91it/s]\n"
     ]
    },
    {
     "name": "stdout",
     "output_type": "stream",
     "text": [
      "Data(x=[14, 5], edge_index=[2, 30], edge_attr=[30, 4], y=[1, 2], pos=[14, 3], z=[14], smiles='[H]N([H])C1=NC([C@]2([H])OC2([H])[H])=NO1', name='gdb_129970', idx=[1], adj_triu_mat=[1, 435], node_mat=[1, 29, 5], edge_triu_mat=[1, 406, 4])\n",
      "Data(x=[18, 5], edge_index=[2, 11], edge_attr=[11, 4])\n"
     ]
    },
    {
     "name": "stderr",
     "output_type": "stream",
     "text": [
      "Epoch 194 Training: 100%|██████████| 1/1 [00:00<00:00,  6.71it/s]\n"
     ]
    },
    {
     "name": "stdout",
     "output_type": "stream",
     "text": [
      "Data(x=[18, 5], edge_index=[2, 38], edge_attr=[38, 4], y=[1, 2], pos=[18, 3], z=[18], smiles='[H]C#CC([H])([H])[C@]1(O[H])C([H])([H])[C@@]2([H])N([H])[C@@]12[H]', name='gdb_64721', idx=[1], adj_triu_mat=[1, 435], node_mat=[1, 29, 5], edge_triu_mat=[1, 406, 4])\n",
      "Data(x=[18, 5], edge_index=[2, 11], edge_attr=[11, 4])\n"
     ]
    },
    {
     "name": "stderr",
     "output_type": "stream",
     "text": [
      "Epoch 195 Training: 100%|██████████| 1/1 [00:00<00:00,  6.74it/s]\n"
     ]
    },
    {
     "name": "stdout",
     "output_type": "stream",
     "text": [
      "Data(x=[23, 5], edge_index=[2, 50], edge_attr=[50, 4], y=[1, 2], pos=[23, 3], z=[23], smiles='[H]C([H])([H])[C@@]1([H])C([H])([H])[C@@]12C([H])([H])[C@@]1(C([H])([H])[H])C([H])([H])[C@]12[H]', name='gdb_87768', idx=[1], adj_triu_mat=[1, 435], node_mat=[1, 29, 5], edge_triu_mat=[1, 406, 4])\n",
      "Data(x=[18, 5], edge_index=[2, 11], edge_attr=[11, 4])\n"
     ]
    },
    {
     "name": "stderr",
     "output_type": "stream",
     "text": [
      "Epoch 196 Training: 100%|██████████| 1/1 [00:00<00:00,  5.94it/s]\n"
     ]
    },
    {
     "name": "stdout",
     "output_type": "stream",
     "text": [
      "Data(x=[20, 5], edge_index=[2, 44], edge_attr=[44, 4], y=[1, 2], pos=[20, 3], z=[20], smiles='[H]N1[C@@]2([H])[C@]3(O[C@]3([H])C([H])([H])C([H])([H])[H])C([H])([H])[C@@]12[H]', name='gdb_113461', idx=[1], adj_triu_mat=[1, 435], node_mat=[1, 29, 5], edge_triu_mat=[1, 406, 4])\n",
      "Data(x=[18, 5], edge_index=[2, 11], edge_attr=[11, 4])\n"
     ]
    },
    {
     "name": "stderr",
     "output_type": "stream",
     "text": [
      "Epoch 197 Training: 100%|██████████| 1/1 [00:00<00:00,  6.31it/s]\n"
     ]
    },
    {
     "name": "stdout",
     "output_type": "stream",
     "text": [
      "Data(x=[18, 5], edge_index=[2, 36], edge_attr=[36, 4], y=[1, 2], pos=[18, 3], z=[18], smiles='[H]C(=O)C([H])([H])[C@]1([H])C([H])([H])O[C@]1([H])C([H])([H])[H]', name='gdb_13092', idx=[1], adj_triu_mat=[1, 435], node_mat=[1, 29, 5], edge_triu_mat=[1, 406, 4])\n",
      "Data(x=[18, 5], edge_index=[2, 11], edge_attr=[11, 4])\n"
     ]
    },
    {
     "name": "stderr",
     "output_type": "stream",
     "text": [
      "Epoch 198 Training: 100%|██████████| 1/1 [00:00<00:00,  5.49it/s]\n"
     ]
    },
    {
     "name": "stdout",
     "output_type": "stream",
     "text": [
      "Data(x=[16, 5], edge_index=[2, 34], edge_attr=[34, 4], y=[1, 2], pos=[16, 3], z=[16], smiles='[H]O[C@@]1(C#N)C([H])([H])[C@@]1([H])[C@]1([H])OC1([H])[H]', name='gdb_65372', idx=[1], adj_triu_mat=[1, 435], node_mat=[1, 29, 5], edge_triu_mat=[1, 406, 4])\n",
      "Data(x=[18, 5], edge_index=[2, 10], edge_attr=[10, 4])\n"
     ]
    },
    {
     "name": "stderr",
     "output_type": "stream",
     "text": [
      "Epoch 199 Training: 100%|██████████| 1/1 [00:00<00:00,  5.63it/s]\n"
     ]
    },
    {
     "name": "stdout",
     "output_type": "stream",
     "text": [
      "Data(x=[19, 5], edge_index=[2, 40], edge_attr=[40, 4], y=[1, 2], pos=[19, 3], z=[19], smiles='[H]OC([H])([H])[C@@]1(C([H])([H])[H])[N@@H+]2C([H])([H])[C@]2([H])C1([H])[H]', name='gdb_12062', idx=[1], adj_triu_mat=[1, 435], node_mat=[1, 29, 5], edge_triu_mat=[1, 406, 4])\n",
      "Data(x=[18, 5], edge_index=[2, 10], edge_attr=[10, 4])\n"
     ]
    },
    {
     "name": "stderr",
     "output_type": "stream",
     "text": [
      "Epoch 200 Training: 100%|██████████| 1/1 [00:00<00:00,  5.93it/s]\n"
     ]
    },
    {
     "name": "stdout",
     "output_type": "stream",
     "text": [
      "Data(x=[18, 5], edge_index=[2, 38], edge_attr=[38, 4], y=[1, 2], pos=[18, 3], z=[18], smiles='[H]C1=NC([H])([H])C([NH2+]C2([H])C([H])([H])C2([H])[H])N1[H]', name='gdb_40843', idx=[1], adj_triu_mat=[1, 435], node_mat=[1, 29, 5], edge_triu_mat=[1, 406, 4])\n",
      "Data(x=[18, 5], edge_index=[2, 10], edge_attr=[10, 4])\n"
     ]
    },
    {
     "name": "stderr",
     "output_type": "stream",
     "text": [
      "Epoch 201 Training: 100%|██████████| 1/1 [00:01<00:00,  1.58s/it]\n"
     ]
    },
    {
     "name": "stdout",
     "output_type": "stream",
     "text": [
      "Data(x=[17, 5], edge_index=[2, 32], edge_attr=[32, 4], y=[1, 2], pos=[17, 3], z=[17], smiles='[H]O[C@@]([H])(C([H])=O)C([H])(C([H])([H])[H])C([H])([H])[H]', name='gdb_1626', idx=[1], adj_triu_mat=[1, 435], node_mat=[1, 29, 5], edge_triu_mat=[1, 406, 4])\n",
      "Data(x=[18, 5], edge_index=[2, 10], edge_attr=[10, 4])\n"
     ]
    },
    {
     "name": "stderr",
     "output_type": "stream",
     "text": [
      "Epoch 202 Training: 100%|██████████| 1/1 [00:00<00:00,  5.76it/s]\n"
     ]
    },
    {
     "name": "stdout",
     "output_type": "stream",
     "text": [
      "Data(x=[16, 5], edge_index=[2, 34], edge_attr=[34, 4], y=[1, 2], pos=[16, 3], z=[16], smiles='[H]O[C@@]1(C#N)C([H])([H])[C@@]1([H])[C@]1([H])OC1([H])[H]', name='gdb_65372', idx=[1], adj_triu_mat=[1, 435], node_mat=[1, 29, 5], edge_triu_mat=[1, 406, 4])\n",
      "Data(x=[18, 5], edge_index=[2, 10], edge_attr=[10, 4])\n"
     ]
    },
    {
     "name": "stderr",
     "output_type": "stream",
     "text": [
      "Epoch 203 Training: 100%|██████████| 1/1 [00:00<00:00,  5.73it/s]\n"
     ]
    },
    {
     "name": "stdout",
     "output_type": "stream",
     "text": [
      "Data(x=[20, 5], edge_index=[2, 40], edge_attr=[40, 4], y=[1, 2], pos=[20, 3], z=[20], smiles='[H]OC([H])([H])[C@@]([H])([N@H+]1C([H])([H])[C@@]1([H])C([H])=O)C([H])([H])[H]', name='gdb_101299', idx=[1], adj_triu_mat=[1, 435], node_mat=[1, 29, 5], edge_triu_mat=[1, 406, 4])\n",
      "Data(x=[18, 5], edge_index=[2, 10], edge_attr=[10, 4])\n"
     ]
    },
    {
     "name": "stderr",
     "output_type": "stream",
     "text": [
      "Epoch 204 Training: 100%|██████████| 1/1 [00:00<00:00,  6.09it/s]\n"
     ]
    },
    {
     "name": "stdout",
     "output_type": "stream",
     "text": [
      "Data(x=[15, 5], edge_index=[2, 30], edge_attr=[30, 4], y=[1, 2], pos=[15, 3], z=[15], smiles='[H]O[C@]1([H])C(=O)C([H])([H])O[C@@]1([H])C([H])=O', name='gdb_77366', idx=[1], adj_triu_mat=[1, 435], node_mat=[1, 29, 5], edge_triu_mat=[1, 406, 4])\n",
      "Data(x=[18, 5], edge_index=[2, 10], edge_attr=[10, 4])\n"
     ]
    },
    {
     "name": "stderr",
     "output_type": "stream",
     "text": [
      "Epoch 205 Training: 100%|██████████| 1/1 [00:00<00:00,  6.03it/s]\n"
     ]
    },
    {
     "name": "stdout",
     "output_type": "stream",
     "text": [
      "Data(x=[18, 5], edge_index=[2, 36], edge_attr=[36, 4], y=[1, 2], pos=[18, 3], z=[18], smiles='[H][N-]C1OC([H])([H])C([NH2+]C([H])([H])[H])N([H])C1([H])[H]', name='gdb_97045', idx=[1], adj_triu_mat=[1, 435], node_mat=[1, 29, 5], edge_triu_mat=[1, 406, 4])\n",
      "Data(x=[18, 5], edge_index=[2, 10], edge_attr=[10, 4])\n"
     ]
    },
    {
     "name": "stderr",
     "output_type": "stream",
     "text": [
      "Epoch 206 Training: 100%|██████████| 1/1 [00:00<00:00,  6.33it/s]\n"
     ]
    },
    {
     "name": "stdout",
     "output_type": "stream",
     "text": [
      "Data(x=[23, 5], edge_index=[2, 50], edge_attr=[50, 4], y=[1, 2], pos=[23, 3], z=[23], smiles='[H]C([H])([H])[C@@]1([H])C([H])([H])[C@@]12C([H])([H])[C@@]1(C([H])([H])[H])C([H])([H])[C@]12[H]', name='gdb_87768', idx=[1], adj_triu_mat=[1, 435], node_mat=[1, 29, 5], edge_triu_mat=[1, 406, 4])\n",
      "Data(x=[18, 5], edge_index=[2, 10], edge_attr=[10, 4])\n"
     ]
    },
    {
     "name": "stderr",
     "output_type": "stream",
     "text": [
      "Epoch 207 Training: 100%|██████████| 1/1 [00:00<00:00,  6.66it/s]\n"
     ]
    },
    {
     "name": "stdout",
     "output_type": "stream",
     "text": [
      "Data(x=[15, 5], edge_index=[2, 30], edge_attr=[30, 4], y=[1, 2], pos=[15, 3], z=[15], smiles='[H]OC1=NC(O[H])=C(C([H])([H])[H])N=C1[H]', name='gdb_28507', idx=[1], adj_triu_mat=[1, 435], node_mat=[1, 29, 5], edge_triu_mat=[1, 406, 4])\n",
      "Data(x=[18, 5], edge_index=[2, 11], edge_attr=[11, 4])\n"
     ]
    },
    {
     "name": "stderr",
     "output_type": "stream",
     "text": [
      "Epoch 208 Training: 100%|██████████| 1/1 [00:00<00:00,  6.44it/s]\n"
     ]
    },
    {
     "name": "stdout",
     "output_type": "stream",
     "text": [
      "Data(x=[16, 5], edge_index=[2, 32], edge_attr=[32, 4], y=[1, 2], pos=[16, 3], z=[16], smiles='[H]C1=C(C#CC([H])([H])[H])C(N([H])[H])=C([H])O1', name='gdb_25701', idx=[1], adj_triu_mat=[1, 435], node_mat=[1, 29, 5], edge_triu_mat=[1, 406, 4])\n",
      "Data(x=[18, 5], edge_index=[2, 11], edge_attr=[11, 4])\n"
     ]
    },
    {
     "name": "stderr",
     "output_type": "stream",
     "text": [
      "Epoch 209 Training: 100%|██████████| 1/1 [00:00<00:00,  6.82it/s]\n"
     ]
    },
    {
     "name": "stdout",
     "output_type": "stream",
     "text": [
      "Data(x=[18, 5], edge_index=[2, 36], edge_attr=[36, 4], y=[1, 2], pos=[18, 3], z=[18], smiles='[H][N-]C1OC([H])([H])C([NH2+]C([H])([H])[H])N([H])C1([H])[H]', name='gdb_97045', idx=[1], adj_triu_mat=[1, 435], node_mat=[1, 29, 5], edge_triu_mat=[1, 406, 4])\n",
      "Data(x=[18, 5], edge_index=[2, 10], edge_attr=[10, 4])\n"
     ]
    },
    {
     "name": "stderr",
     "output_type": "stream",
     "text": [
      "Epoch 210 Training: 100%|██████████| 1/1 [00:00<00:00,  6.91it/s]\n"
     ]
    },
    {
     "name": "stdout",
     "output_type": "stream",
     "text": [
      "Data(x=[21, 5], edge_index=[2, 42], edge_attr=[42, 4], y=[1, 2], pos=[21, 3], z=[21], smiles='[H]O[C@]1([H])C([H])([H])[C@]([H])(C([H])([H])C([H])([H])[H])[C@]1([H])C([H])=O', name='gdb_112792', idx=[1], adj_triu_mat=[1, 435], node_mat=[1, 29, 5], edge_triu_mat=[1, 406, 4])\n",
      "Data(x=[18, 5], edge_index=[2, 10], edge_attr=[10, 4])\n"
     ]
    },
    {
     "name": "stderr",
     "output_type": "stream",
     "text": [
      "Epoch 211 Training: 100%|██████████| 1/1 [00:00<00:00,  6.37it/s]\n"
     ]
    },
    {
     "name": "stdout",
     "output_type": "stream",
     "text": [
      "Data(x=[17, 5], edge_index=[2, 32], edge_attr=[32, 4], y=[1, 2], pos=[17, 3], z=[17], smiles='[H]/N=C(/OC([H])([H])C([H])([H])O[H])N([H])C([H])=O', name='gdb_121723', idx=[1], adj_triu_mat=[1, 435], node_mat=[1, 29, 5], edge_triu_mat=[1, 406, 4])\n",
      "Data(x=[18, 5], edge_index=[2, 11], edge_attr=[11, 4])\n"
     ]
    },
    {
     "name": "stderr",
     "output_type": "stream",
     "text": [
      "Epoch 212 Training: 100%|██████████| 1/1 [00:00<00:00,  4.40it/s]\n"
     ]
    },
    {
     "name": "stdout",
     "output_type": "stream",
     "text": [
      "Data(x=[20, 5], edge_index=[2, 44], edge_attr=[44, 4], y=[1, 2], pos=[20, 3], z=[20], smiles='[H]N1[C@@]2([H])[C@]3(O[C@]3([H])C([H])([H])C([H])([H])[H])C([H])([H])[C@@]12[H]', name='gdb_113461', idx=[1], adj_triu_mat=[1, 435], node_mat=[1, 29, 5], edge_triu_mat=[1, 406, 4])\n",
      "Data(x=[18, 5], edge_index=[2, 11], edge_attr=[11, 4])\n"
     ]
    },
    {
     "name": "stderr",
     "output_type": "stream",
     "text": [
      "Epoch 213 Training: 100%|██████████| 1/1 [00:00<00:00,  5.28it/s]\n"
     ]
    },
    {
     "name": "stdout",
     "output_type": "stream",
     "text": [
      "Data(x=[17, 5], edge_index=[2, 34], edge_attr=[34, 4], y=[1, 2], pos=[17, 3], z=[17], smiles='[H]C#C[C@]1([H])OC1(C([H])([H])O[H])C([H])([H])O[H]', name='gdb_104761', idx=[1], adj_triu_mat=[1, 435], node_mat=[1, 29, 5], edge_triu_mat=[1, 406, 4])\n",
      "Data(x=[18, 5], edge_index=[2, 10], edge_attr=[10, 4])\n"
     ]
    },
    {
     "name": "stderr",
     "output_type": "stream",
     "text": [
      "Epoch 214 Training: 100%|██████████| 1/1 [00:00<00:00,  5.80it/s]\n"
     ]
    },
    {
     "name": "stdout",
     "output_type": "stream",
     "text": [
      "Data(x=[23, 5], edge_index=[2, 48], edge_attr=[48, 4], y=[1, 2], pos=[23, 3], z=[23], smiles='[H]C1=C(C([H])([H])[H])[C@@]([H])(C([H])([H])[H])[C@]2([H])C([H])([H])[C@@]1([H])C2([H])[H]', name='gdb_80651', idx=[1], adj_triu_mat=[1, 435], node_mat=[1, 29, 5], edge_triu_mat=[1, 406, 4])\n",
      "Data(x=[18, 5], edge_index=[2, 11], edge_attr=[11, 4])\n"
     ]
    },
    {
     "name": "stderr",
     "output_type": "stream",
     "text": [
      "Epoch 215 Training: 100%|██████████| 1/1 [00:00<00:00,  5.53it/s]\n"
     ]
    },
    {
     "name": "stdout",
     "output_type": "stream",
     "text": [
      "Data(x=[18, 5], edge_index=[2, 38], edge_attr=[38, 4], y=[1, 2], pos=[18, 3], z=[18], smiles='[H]C#CC([H])([H])[C@]1(O[H])C([H])([H])[C@@]2([H])N([H])[C@@]12[H]', name='gdb_64721', idx=[1], adj_triu_mat=[1, 435], node_mat=[1, 29, 5], edge_triu_mat=[1, 406, 4])\n",
      "Data(x=[18, 5], edge_index=[2, 10], edge_attr=[10, 4])\n"
     ]
    },
    {
     "name": "stderr",
     "output_type": "stream",
     "text": [
      "Epoch 216 Training: 100%|██████████| 1/1 [00:00<00:00,  4.60it/s]\n"
     ]
    },
    {
     "name": "stdout",
     "output_type": "stream",
     "text": [
      "Data(x=[15, 5], edge_index=[2, 30], edge_attr=[30, 4], y=[1, 2], pos=[15, 3], z=[15], smiles='[H]OC1=NC(O[H])=C(C([H])([H])[H])N=C1[H]', name='gdb_28507', idx=[1], adj_triu_mat=[1, 435], node_mat=[1, 29, 5], edge_triu_mat=[1, 406, 4])\n",
      "Data(x=[18, 5], edge_index=[2, 11], edge_attr=[11, 4])\n"
     ]
    },
    {
     "name": "stderr",
     "output_type": "stream",
     "text": [
      "Epoch 217 Training: 100%|██████████| 1/1 [00:00<00:00,  6.52it/s]\n"
     ]
    },
    {
     "name": "stdout",
     "output_type": "stream",
     "text": [
      "Data(x=[19, 5], edge_index=[2, 40], edge_attr=[40, 4], y=[1, 2], pos=[19, 3], z=[19], smiles='[H]/C1=N/C([H])([H])C([H])([H])[N@H+]2C([H])([H])[C@@]2([H])C([H])([H])O1', name='gdb_39380', idx=[1], adj_triu_mat=[1, 435], node_mat=[1, 29, 5], edge_triu_mat=[1, 406, 4])\n",
      "Data(x=[18, 5], edge_index=[2, 11], edge_attr=[11, 4])\n"
     ]
    },
    {
     "name": "stderr",
     "output_type": "stream",
     "text": [
      "Epoch 218 Training: 100%|██████████| 1/1 [00:00<00:00,  6.58it/s]\n"
     ]
    },
    {
     "name": "stdout",
     "output_type": "stream",
     "text": [
      "Data(x=[18, 5], edge_index=[2, 38], edge_attr=[38, 4], y=[1, 2], pos=[18, 3], z=[18], smiles='[H]C1=NC([H])([H])C([NH2+]C2([H])C([H])([H])C2([H])[H])N1[H]', name='gdb_40843', idx=[1], adj_triu_mat=[1, 435], node_mat=[1, 29, 5], edge_triu_mat=[1, 406, 4])\n",
      "Data(x=[18, 5], edge_index=[2, 11], edge_attr=[11, 4])\n"
     ]
    },
    {
     "name": "stderr",
     "output_type": "stream",
     "text": [
      "Epoch 219 Training: 100%|██████████| 1/1 [00:00<00:00,  6.27it/s]\n"
     ]
    },
    {
     "name": "stdout",
     "output_type": "stream",
     "text": [
      "Data(x=[18, 5], edge_index=[2, 38], edge_attr=[38, 4], y=[1, 2], pos=[18, 3], z=[18], smiles='[H]C([H])([H])[C@]1([H])O[C@]2(C1([H])[H])C([H])([H])[C@@]2([H])C#N', name='gdb_89864', idx=[1], adj_triu_mat=[1, 435], node_mat=[1, 29, 5], edge_triu_mat=[1, 406, 4])\n",
      "Data(x=[18, 5], edge_index=[2, 11], edge_attr=[11, 4])\n"
     ]
    },
    {
     "name": "stderr",
     "output_type": "stream",
     "text": [
      "Epoch 220 Training: 100%|██████████| 1/1 [00:00<00:00,  5.87it/s]\n"
     ]
    },
    {
     "name": "stdout",
     "output_type": "stream",
     "text": [
      "Data(x=[21, 5], edge_index=[2, 42], edge_attr=[42, 4], y=[1, 2], pos=[21, 3], z=[21], smiles='[H]O[C@]1([H])C([H])([H])[C@]([H])(C([H])([H])C([H])([H])[H])[C@]1([H])C([H])=O', name='gdb_112792', idx=[1], adj_triu_mat=[1, 435], node_mat=[1, 29, 5], edge_triu_mat=[1, 406, 4])\n",
      "Data(x=[18, 5], edge_index=[2, 11], edge_attr=[11, 4])\n"
     ]
    },
    {
     "name": "stderr",
     "output_type": "stream",
     "text": [
      "Epoch 221 Training: 100%|██████████| 1/1 [00:00<00:00,  6.58it/s]\n"
     ]
    },
    {
     "name": "stdout",
     "output_type": "stream",
     "text": [
      "Data(x=[16, 5], edge_index=[2, 32], edge_attr=[32, 4], y=[1, 2], pos=[16, 3], z=[16], smiles='[H]C1=C(C#CC([H])([H])[H])C(N([H])[H])=C([H])O1', name='gdb_25701', idx=[1], adj_triu_mat=[1, 435], node_mat=[1, 29, 5], edge_triu_mat=[1, 406, 4])\n",
      "Data(x=[18, 5], edge_index=[2, 10], edge_attr=[10, 4])\n"
     ]
    },
    {
     "name": "stderr",
     "output_type": "stream",
     "text": [
      "Epoch 222 Training: 100%|██████████| 1/1 [00:00<00:00,  6.85it/s]\n"
     ]
    },
    {
     "name": "stdout",
     "output_type": "stream",
     "text": [
      "Data(x=[15, 5], edge_index=[2, 30], edge_attr=[30, 4], y=[1, 2], pos=[15, 3], z=[15], smiles='[H]OC1=NC(O[H])=C(C([H])([H])[H])N=C1[H]', name='gdb_28507', idx=[1], adj_triu_mat=[1, 435], node_mat=[1, 29, 5], edge_triu_mat=[1, 406, 4])\n",
      "Data(x=[18, 5], edge_index=[2, 11], edge_attr=[11, 4])\n"
     ]
    },
    {
     "name": "stderr",
     "output_type": "stream",
     "text": [
      "Epoch 223 Training: 100%|██████████| 1/1 [00:00<00:00,  6.38it/s]\n"
     ]
    },
    {
     "name": "stdout",
     "output_type": "stream",
     "text": [
      "Data(x=[16, 5], edge_index=[2, 32], edge_attr=[32, 4], y=[1, 2], pos=[16, 3], z=[16], smiles='[H]C1=C(C#CC([H])([H])[H])C(N([H])[H])=C([H])O1', name='gdb_25701', idx=[1], adj_triu_mat=[1, 435], node_mat=[1, 29, 5], edge_triu_mat=[1, 406, 4])\n",
      "Data(x=[18, 5], edge_index=[2, 11], edge_attr=[11, 4])\n"
     ]
    },
    {
     "name": "stderr",
     "output_type": "stream",
     "text": [
      "Epoch 224 Training: 100%|██████████| 1/1 [00:00<00:00,  6.14it/s]\n"
     ]
    },
    {
     "name": "stdout",
     "output_type": "stream",
     "text": [
      "Data(x=[18, 5], edge_index=[2, 38], edge_attr=[38, 4], y=[1, 2], pos=[18, 3], z=[18], smiles='[H]C([H])([H])[C@]1([H])O[C@]2(C1([H])[H])C([H])([H])[C@@]2([H])C#N', name='gdb_89864', idx=[1], adj_triu_mat=[1, 435], node_mat=[1, 29, 5], edge_triu_mat=[1, 406, 4])\n",
      "Data(x=[18, 5], edge_index=[2, 10], edge_attr=[10, 4])\n"
     ]
    },
    {
     "name": "stderr",
     "output_type": "stream",
     "text": [
      "Epoch 225 Training: 100%|██████████| 1/1 [00:00<00:00,  6.54it/s]\n"
     ]
    },
    {
     "name": "stdout",
     "output_type": "stream",
     "text": [
      "Data(x=[15, 5], edge_index=[2, 30], edge_attr=[30, 4], y=[1, 2], pos=[15, 3], z=[15], smiles='[H]O[C@]1([H])C(=O)C([H])([H])O[C@@]1([H])C([H])=O', name='gdb_77366', idx=[1], adj_triu_mat=[1, 435], node_mat=[1, 29, 5], edge_triu_mat=[1, 406, 4])\n",
      "Data(x=[18, 5], edge_index=[2, 10], edge_attr=[10, 4])\n"
     ]
    },
    {
     "name": "stderr",
     "output_type": "stream",
     "text": [
      "Epoch 226 Training: 100%|██████████| 1/1 [00:00<00:00,  6.16it/s]\n"
     ]
    },
    {
     "name": "stdout",
     "output_type": "stream",
     "text": [
      "Data(x=[16, 5], edge_index=[2, 34], edge_attr=[34, 4], y=[1, 2], pos=[16, 3], z=[16], smiles='[H]O[C@]1([H])C2=C([H])OC([H])=C2N([H])C1([H])[H]', name='gdb_30357', idx=[1], adj_triu_mat=[1, 435], node_mat=[1, 29, 5], edge_triu_mat=[1, 406, 4])\n",
      "Data(x=[18, 5], edge_index=[2, 11], edge_attr=[11, 4])\n"
     ]
    },
    {
     "name": "stderr",
     "output_type": "stream",
     "text": [
      "Epoch 227 Training: 100%|██████████| 1/1 [00:00<00:00,  6.03it/s]\n"
     ]
    },
    {
     "name": "stdout",
     "output_type": "stream",
     "text": [
      "Data(x=[19, 5], edge_index=[2, 42], edge_attr=[42, 4], y=[1, 2], pos=[19, 3], z=[19], smiles='[H]C([H])([H])O[C@]12C([H])([H])[C@@]1([H])[C@@]1([H])O[C@]12C([H])([H])[H]', name='gdb_107257', idx=[1], adj_triu_mat=[1, 435], node_mat=[1, 29, 5], edge_triu_mat=[1, 406, 4])\n",
      "Data(x=[18, 5], edge_index=[2, 10], edge_attr=[10, 4])\n"
     ]
    },
    {
     "name": "stderr",
     "output_type": "stream",
     "text": [
      "Epoch 228 Training: 100%|██████████| 1/1 [00:00<00:00,  6.02it/s]\n"
     ]
    },
    {
     "name": "stdout",
     "output_type": "stream",
     "text": [
      "Data(x=[18, 5], edge_index=[2, 38], edge_attr=[38, 4], y=[1, 2], pos=[18, 3], z=[18], smiles='[H]C1=NC([H])([H])C([NH2+]C2([H])C([H])([H])C2([H])[H])N1[H]', name='gdb_40843', idx=[1], adj_triu_mat=[1, 435], node_mat=[1, 29, 5], edge_triu_mat=[1, 406, 4])\n",
      "Data(x=[19, 5], edge_index=[2, 11], edge_attr=[11, 4])\n"
     ]
    },
    {
     "name": "stderr",
     "output_type": "stream",
     "text": [
      "Epoch 229 Training: 100%|██████████| 1/1 [00:00<00:00,  6.26it/s]\n"
     ]
    },
    {
     "name": "stdout",
     "output_type": "stream",
     "text": [
      "Data(x=[21, 5], edge_index=[2, 42], edge_attr=[42, 4], y=[1, 2], pos=[21, 3], z=[21], smiles='[H]O[C@]1([H])[C@]([H])(O[H])C([H])([H])C([H])=C([H])[C@]1([H])C([H])([H])[H]', name='gdb_92903', idx=[1], adj_triu_mat=[1, 435], node_mat=[1, 29, 5], edge_triu_mat=[1, 406, 4])\n",
      "Data(x=[18, 5], edge_index=[2, 12], edge_attr=[12, 4])\n"
     ]
    },
    {
     "name": "stderr",
     "output_type": "stream",
     "text": [
      "Epoch 230 Training: 100%|██████████| 1/1 [00:00<00:00,  6.80it/s]\n"
     ]
    },
    {
     "name": "stdout",
     "output_type": "stream",
     "text": [
      "Data(x=[18, 5], edge_index=[2, 36], edge_attr=[36, 4], y=[1, 2], pos=[18, 3], z=[18], smiles='[H][N-]C1OC([H])([H])C([NH2+]C([H])([H])[H])N([H])C1([H])[H]', name='gdb_97045', idx=[1], adj_triu_mat=[1, 435], node_mat=[1, 29, 5], edge_triu_mat=[1, 406, 4])\n",
      "Data(x=[18, 5], edge_index=[2, 10], edge_attr=[10, 4])\n"
     ]
    },
    {
     "name": "stderr",
     "output_type": "stream",
     "text": [
      "Epoch 231 Training: 100%|██████████| 1/1 [00:00<00:00,  5.66it/s]\n"
     ]
    },
    {
     "name": "stdout",
     "output_type": "stream",
     "text": [
      "Data(x=[19, 5], edge_index=[2, 42], edge_attr=[42, 4], y=[1, 2], pos=[19, 3], z=[19], smiles='[H]C([H])([H])O[C@]12C([H])([H])[C@@]1([H])[C@@]1([H])O[C@]12C([H])([H])[H]', name='gdb_107257', idx=[1], adj_triu_mat=[1, 435], node_mat=[1, 29, 5], edge_triu_mat=[1, 406, 4])\n",
      "Data(x=[18, 5], edge_index=[2, 11], edge_attr=[11, 4])\n"
     ]
    },
    {
     "name": "stderr",
     "output_type": "stream",
     "text": [
      "Epoch 232 Training: 100%|██████████| 1/1 [00:00<00:00,  3.09it/s]\n"
     ]
    },
    {
     "name": "stdout",
     "output_type": "stream",
     "text": [
      "Data(x=[15, 5], edge_index=[2, 30], edge_attr=[30, 4], y=[1, 2], pos=[15, 3], z=[15], smiles='[H]C#C[C@@]1([H])[NH2+]C(C([H])([H])[H])OC1([H])[H]', name='gdb_11226', idx=[1], adj_triu_mat=[1, 435], node_mat=[1, 29, 5], edge_triu_mat=[1, 406, 4])\n",
      "Data(x=[18, 5], edge_index=[2, 11], edge_attr=[11, 4])\n"
     ]
    },
    {
     "name": "stderr",
     "output_type": "stream",
     "text": [
      "Epoch 233 Training: 100%|██████████| 1/1 [00:00<00:00,  5.83it/s]\n"
     ]
    },
    {
     "name": "stdout",
     "output_type": "stream",
     "text": [
      "Data(x=[16, 5], edge_index=[2, 34], edge_attr=[34, 4], y=[1, 2], pos=[16, 3], z=[16], smiles='[H]O[C@]1([H])C2=C([H])OC([H])=C2N([H])C1([H])[H]', name='gdb_30357', idx=[1], adj_triu_mat=[1, 435], node_mat=[1, 29, 5], edge_triu_mat=[1, 406, 4])\n",
      "Data(x=[18, 5], edge_index=[2, 10], edge_attr=[10, 4])\n"
     ]
    },
    {
     "name": "stderr",
     "output_type": "stream",
     "text": [
      "Epoch 234 Training: 100%|██████████| 1/1 [00:00<00:00,  5.25it/s]\n"
     ]
    },
    {
     "name": "stdout",
     "output_type": "stream",
     "text": [
      "Data(x=[17, 5], edge_index=[2, 34], edge_attr=[34, 4], y=[1, 2], pos=[17, 3], z=[17], smiles='[H]C#C[C@]1([H])OC1(C([H])([H])O[H])C([H])([H])O[H]', name='gdb_104761', idx=[1], adj_triu_mat=[1, 435], node_mat=[1, 29, 5], edge_triu_mat=[1, 406, 4])\n",
      "Data(x=[18, 5], edge_index=[2, 11], edge_attr=[11, 4])\n"
     ]
    },
    {
     "name": "stderr",
     "output_type": "stream",
     "text": [
      "Epoch 235 Training: 100%|██████████| 1/1 [00:00<00:00,  4.66it/s]\n"
     ]
    },
    {
     "name": "stdout",
     "output_type": "stream",
     "text": [
      "Data(x=[17, 5], edge_index=[2, 34], edge_attr=[34, 4], y=[1, 2], pos=[17, 3], z=[17], smiles='[H]C([H])([H])C([H])([H])O[C@]1([H])OC(=O)OC1([H])[H]', name='gdb_121054', idx=[1], adj_triu_mat=[1, 435], node_mat=[1, 29, 5], edge_triu_mat=[1, 406, 4])\n",
      "Data(x=[18, 5], edge_index=[2, 10], edge_attr=[10, 4])\n"
     ]
    },
    {
     "name": "stderr",
     "output_type": "stream",
     "text": [
      "Epoch 236 Training: 100%|██████████| 1/1 [00:00<00:00,  4.82it/s]\n"
     ]
    },
    {
     "name": "stdout",
     "output_type": "stream",
     "text": [
      "Data(x=[14, 5], edge_index=[2, 30], edge_attr=[30, 4], y=[1, 2], pos=[14, 3], z=[14], smiles='[H]N([H])C1=NC([C@]2([H])OC2([H])[H])=NO1', name='gdb_129970', idx=[1], adj_triu_mat=[1, 435], node_mat=[1, 29, 5], edge_triu_mat=[1, 406, 4])\n",
      "Data(x=[18, 5], edge_index=[2, 11], edge_attr=[11, 4])\n"
     ]
    },
    {
     "name": "stderr",
     "output_type": "stream",
     "text": [
      "Epoch 237 Training: 100%|██████████| 1/1 [00:00<00:00,  5.04it/s]\n"
     ]
    },
    {
     "name": "stdout",
     "output_type": "stream",
     "text": [
      "Data(x=[17, 5], edge_index=[2, 32], edge_attr=[32, 4], y=[1, 2], pos=[17, 3], z=[17], smiles='[H]O[C@@]([H])(C([H])=O)C([H])(C([H])([H])[H])C([H])([H])[H]', name='gdb_1626', idx=[1], adj_triu_mat=[1, 435], node_mat=[1, 29, 5], edge_triu_mat=[1, 406, 4])\n",
      "Data(x=[18, 5], edge_index=[2, 11], edge_attr=[11, 4])\n"
     ]
    },
    {
     "name": "stderr",
     "output_type": "stream",
     "text": [
      "Epoch 238 Training: 100%|██████████| 1/1 [00:00<00:00,  5.30it/s]\n"
     ]
    },
    {
     "name": "stdout",
     "output_type": "stream",
     "text": [
      "Data(x=[18, 5], edge_index=[2, 36], edge_attr=[36, 4], y=[1, 2], pos=[18, 3], z=[18], smiles='[H][N-]C1OC([H])([H])C([NH2+]C([H])([H])[H])N([H])C1([H])[H]', name='gdb_97045', idx=[1], adj_triu_mat=[1, 435], node_mat=[1, 29, 5], edge_triu_mat=[1, 406, 4])\n",
      "Data(x=[18, 5], edge_index=[2, 10], edge_attr=[10, 4])\n"
     ]
    },
    {
     "name": "stderr",
     "output_type": "stream",
     "text": [
      "Epoch 239 Training: 100%|██████████| 1/1 [00:00<00:00,  6.02it/s]\n"
     ]
    },
    {
     "name": "stdout",
     "output_type": "stream",
     "text": [
      "Data(x=[15, 5], edge_index=[2, 30], edge_attr=[30, 4], y=[1, 2], pos=[15, 3], z=[15], smiles='[H]C#C[C@@]1([H])[NH2+]C(C([H])([H])[H])OC1([H])[H]', name='gdb_11226', idx=[1], adj_triu_mat=[1, 435], node_mat=[1, 29, 5], edge_triu_mat=[1, 406, 4])\n",
      "Data(x=[18, 5], edge_index=[2, 11], edge_attr=[11, 4])\n"
     ]
    },
    {
     "name": "stderr",
     "output_type": "stream",
     "text": [
      "Epoch 240 Training: 100%|██████████| 1/1 [00:00<00:00,  5.76it/s]\n"
     ]
    },
    {
     "name": "stdout",
     "output_type": "stream",
     "text": [
      "Data(x=[17, 5], edge_index=[2, 32], edge_attr=[32, 4], y=[1, 2], pos=[17, 3], z=[17], smiles='[H]/N=C(/OC([H])([H])C([H])([H])O[H])N([H])C([H])=O', name='gdb_121723', idx=[1], adj_triu_mat=[1, 435], node_mat=[1, 29, 5], edge_triu_mat=[1, 406, 4])\n",
      "Data(x=[19, 5], edge_index=[2, 11], edge_attr=[11, 4])\n"
     ]
    },
    {
     "name": "stderr",
     "output_type": "stream",
     "text": [
      "Epoch 241 Training: 100%|██████████| 1/1 [00:00<00:00,  5.51it/s]\n"
     ]
    },
    {
     "name": "stdout",
     "output_type": "stream",
     "text": [
      "Data(x=[14, 5], edge_index=[2, 30], edge_attr=[30, 4], y=[1, 2], pos=[14, 3], z=[14], smiles='[H]N([H])C1=NC([C@]2([H])OC2([H])[H])=NO1', name='gdb_129970', idx=[1], adj_triu_mat=[1, 435], node_mat=[1, 29, 5], edge_triu_mat=[1, 406, 4])\n",
      "Data(x=[18, 5], edge_index=[2, 11], edge_attr=[11, 4])\n"
     ]
    },
    {
     "name": "stderr",
     "output_type": "stream",
     "text": [
      "Epoch 242 Training: 100%|██████████| 1/1 [00:00<00:00,  5.79it/s]\n"
     ]
    },
    {
     "name": "stdout",
     "output_type": "stream",
     "text": [
      "Data(x=[18, 5], edge_index=[2, 38], edge_attr=[38, 4], y=[1, 2], pos=[18, 3], z=[18], smiles='[H]C(=O)[C@]1([H])[N@@H+]2C([H])([H])[C@]([H])(OC([H])([H])[H])[C@@]21[H]', name='gdb_114376', idx=[1], adj_triu_mat=[1, 435], node_mat=[1, 29, 5], edge_triu_mat=[1, 406, 4])\n",
      "Data(x=[18, 5], edge_index=[2, 11], edge_attr=[11, 4])\n"
     ]
    },
    {
     "name": "stderr",
     "output_type": "stream",
     "text": [
      "Epoch 243 Training: 100%|██████████| 1/1 [00:00<00:00,  5.60it/s]\n"
     ]
    },
    {
     "name": "stdout",
     "output_type": "stream",
     "text": [
      "Data(x=[23, 5], edge_index=[2, 50], edge_attr=[50, 4], y=[1, 2], pos=[23, 3], z=[23], smiles='[H]C([H])([H])[C@@]1([H])C([H])([H])[C@@]12C([H])([H])[C@@]1(C([H])([H])[H])C([H])([H])[C@]12[H]', name='gdb_87768', idx=[1], adj_triu_mat=[1, 435], node_mat=[1, 29, 5], edge_triu_mat=[1, 406, 4])\n",
      "Data(x=[18, 5], edge_index=[2, 11], edge_attr=[11, 4])\n"
     ]
    },
    {
     "name": "stderr",
     "output_type": "stream",
     "text": [
      "Epoch 244 Training: 100%|██████████| 1/1 [00:00<00:00,  5.56it/s]\n"
     ]
    },
    {
     "name": "stdout",
     "output_type": "stream",
     "text": [
      "Data(x=[20, 5], edge_index=[2, 40], edge_attr=[40, 4], y=[1, 2], pos=[20, 3], z=[20], smiles='[H]OC([H])([H])[C@@]([H])([N@H+]1C([H])([H])[C@@]1([H])C([H])=O)C([H])([H])[H]', name='gdb_101299', idx=[1], adj_triu_mat=[1, 435], node_mat=[1, 29, 5], edge_triu_mat=[1, 406, 4])\n",
      "Data(x=[18, 5], edge_index=[2, 10], edge_attr=[10, 4])\n"
     ]
    },
    {
     "name": "stderr",
     "output_type": "stream",
     "text": [
      "Epoch 245 Training: 100%|██████████| 1/1 [00:00<00:00,  6.10it/s]\n"
     ]
    },
    {
     "name": "stdout",
     "output_type": "stream",
     "text": [
      "Data(x=[14, 5], edge_index=[2, 30], edge_attr=[30, 4], y=[1, 2], pos=[14, 3], z=[14], smiles='[H]N([H])C1=NC([C@]2([H])OC2([H])[H])=NO1', name='gdb_129970', idx=[1], adj_triu_mat=[1, 435], node_mat=[1, 29, 5], edge_triu_mat=[1, 406, 4])\n",
      "Data(x=[18, 5], edge_index=[2, 11], edge_attr=[11, 4])\n"
     ]
    },
    {
     "name": "stderr",
     "output_type": "stream",
     "text": [
      "Epoch 246 Training: 100%|██████████| 1/1 [00:00<00:00,  5.62it/s]\n"
     ]
    },
    {
     "name": "stdout",
     "output_type": "stream",
     "text": [
      "Data(x=[18, 5], edge_index=[2, 36], edge_attr=[36, 4], y=[1, 2], pos=[18, 3], z=[18], smiles='[H][N-]C1OC([H])([H])C([NH2+]C([H])([H])[H])N([H])C1([H])[H]', name='gdb_97045', idx=[1], adj_triu_mat=[1, 435], node_mat=[1, 29, 5], edge_triu_mat=[1, 406, 4])\n",
      "Data(x=[18, 5], edge_index=[2, 10], edge_attr=[10, 4])\n"
     ]
    },
    {
     "name": "stderr",
     "output_type": "stream",
     "text": [
      "Epoch 247 Training: 100%|██████████| 1/1 [00:00<00:00,  5.22it/s]\n"
     ]
    },
    {
     "name": "stdout",
     "output_type": "stream",
     "text": [
      "Data(x=[20, 5], edge_index=[2, 44], edge_attr=[44, 4], y=[1, 2], pos=[20, 3], z=[20], smiles='[H]N1[C@@]2([H])[C@]3(O[C@]3([H])C([H])([H])C([H])([H])[H])C([H])([H])[C@@]12[H]', name='gdb_113461', idx=[1], adj_triu_mat=[1, 435], node_mat=[1, 29, 5], edge_triu_mat=[1, 406, 4])\n",
      "Data(x=[18, 5], edge_index=[2, 11], edge_attr=[11, 4])\n"
     ]
    },
    {
     "name": "stderr",
     "output_type": "stream",
     "text": [
      "Epoch 248 Training: 100%|██████████| 1/1 [00:00<00:00,  5.60it/s]\n"
     ]
    },
    {
     "name": "stdout",
     "output_type": "stream",
     "text": [
      "Data(x=[16, 5], edge_index=[2, 34], edge_attr=[34, 4], y=[1, 2], pos=[16, 3], z=[16], smiles='[H]O[C@]1([H])C2=C([H])OC([H])=C2N([H])C1([H])[H]', name='gdb_30357', idx=[1], adj_triu_mat=[1, 435], node_mat=[1, 29, 5], edge_triu_mat=[1, 406, 4])\n",
      "Data(x=[18, 5], edge_index=[2, 10], edge_attr=[10, 4])\n"
     ]
    },
    {
     "name": "stderr",
     "output_type": "stream",
     "text": [
      "Epoch 249 Training: 100%|██████████| 1/1 [00:00<00:00,  6.05it/s]\n"
     ]
    },
    {
     "name": "stdout",
     "output_type": "stream",
     "text": [
      "Data(x=[20, 5], edge_index=[2, 46], edge_attr=[46, 4], y=[1, 2], pos=[20, 3], z=[20], smiles='[H]C([H])([H])[C@@]12[N@@H+]3[C@@]4([H])[C@]3([H])[C@]1(C([H])([H])[H])[C@@]4([H])C2([H])[H]', name='gdb_71709', idx=[1], adj_triu_mat=[1, 435], node_mat=[1, 29, 5], edge_triu_mat=[1, 406, 4])\n",
      "Data(x=[18, 5], edge_index=[2, 10], edge_attr=[10, 4])\n"
     ]
    },
    {
     "name": "stderr",
     "output_type": "stream",
     "text": [
      "Epoch 250 Training: 100%|██████████| 1/1 [00:00<00:00,  5.67it/s]\n"
     ]
    },
    {
     "name": "stdout",
     "output_type": "stream",
     "text": [
      "Data(x=[17, 5], edge_index=[2, 34], edge_attr=[34, 4], y=[1, 2], pos=[17, 3], z=[17], smiles='[H]C#C[C@]1([H])OC1(C([H])([H])O[H])C([H])([H])O[H]', name='gdb_104761', idx=[1], adj_triu_mat=[1, 435], node_mat=[1, 29, 5], edge_triu_mat=[1, 406, 4])\n",
      "Data(x=[18, 5], edge_index=[2, 11], edge_attr=[11, 4])\n"
     ]
    },
    {
     "name": "stderr",
     "output_type": "stream",
     "text": [
      "Epoch 251 Training: 100%|██████████| 1/1 [00:01<00:00,  1.64s/it]\n"
     ]
    },
    {
     "name": "stdout",
     "output_type": "stream",
     "text": [
      "Data(x=[25, 5], edge_index=[2, 52], edge_attr=[52, 4], y=[1, 2], pos=[25, 3], z=[25], smiles='[H]C([H])([H])C([H])([H])[C@@]1([H])C([H])([H])[C@@]([H])(C([H])([H])[H])[C@@]2([H])C([H])([H])[C@@]12[H]', name='gdb_112835', idx=[1], adj_triu_mat=[1, 435], node_mat=[1, 29, 5], edge_triu_mat=[1, 406, 4])\n",
      "Data(x=[18, 5], edge_index=[2, 10], edge_attr=[10, 4])\n"
     ]
    },
    {
     "name": "stderr",
     "output_type": "stream",
     "text": [
      "Epoch 252 Training: 100%|██████████| 1/1 [00:00<00:00,  6.78it/s]\n"
     ]
    },
    {
     "name": "stdout",
     "output_type": "stream",
     "text": [
      "Data(x=[21, 5], edge_index=[2, 42], edge_attr=[42, 4], y=[1, 2], pos=[21, 3], z=[21], smiles='[H]O[C@]1([H])C([H])([H])[C@]([H])(C([H])([H])C([H])([H])[H])[C@]1([H])C([H])=O', name='gdb_112792', idx=[1], adj_triu_mat=[1, 435], node_mat=[1, 29, 5], edge_triu_mat=[1, 406, 4])\n",
      "Data(x=[18, 5], edge_index=[2, 11], edge_attr=[11, 4])\n"
     ]
    },
    {
     "name": "stderr",
     "output_type": "stream",
     "text": [
      "Epoch 253 Training: 100%|██████████| 1/1 [00:00<00:00,  5.82it/s]\n"
     ]
    },
    {
     "name": "stdout",
     "output_type": "stream",
     "text": [
      "Data(x=[18, 5], edge_index=[2, 36], edge_attr=[36, 4], y=[1, 2], pos=[18, 3], z=[18], smiles='[H]C(=O)C([H])([H])[C@]1([H])C([H])([H])O[C@]1([H])C([H])([H])[H]', name='gdb_13092', idx=[1], adj_triu_mat=[1, 435], node_mat=[1, 29, 5], edge_triu_mat=[1, 406, 4])\n",
      "Data(x=[18, 5], edge_index=[2, 11], edge_attr=[11, 4])\n"
     ]
    },
    {
     "name": "stderr",
     "output_type": "stream",
     "text": [
      "Epoch 254 Training: 100%|██████████| 1/1 [00:00<00:00,  6.01it/s]\n"
     ]
    },
    {
     "name": "stdout",
     "output_type": "stream",
     "text": [
      "Data(x=[19, 5], edge_index=[2, 40], edge_attr=[40, 4], y=[1, 2], pos=[19, 3], z=[19], smiles='[H]/C1=N/C([H])([H])C([H])([H])[N@H+]2C([H])([H])[C@@]2([H])C([H])([H])O1', name='gdb_39380', idx=[1], adj_triu_mat=[1, 435], node_mat=[1, 29, 5], edge_triu_mat=[1, 406, 4])\n",
      "Data(x=[18, 5], edge_index=[2, 11], edge_attr=[11, 4])\n"
     ]
    },
    {
     "name": "stderr",
     "output_type": "stream",
     "text": [
      "Epoch 255 Training: 100%|██████████| 1/1 [00:00<00:00,  6.76it/s]\n"
     ]
    },
    {
     "name": "stdout",
     "output_type": "stream",
     "text": [
      "Data(x=[16, 5], edge_index=[2, 34], edge_attr=[34, 4], y=[1, 2], pos=[16, 3], z=[16], smiles='[H]O[C@@]1(C#N)C([H])([H])[C@@]1([H])[C@]1([H])OC1([H])[H]', name='gdb_65372', idx=[1], adj_triu_mat=[1, 435], node_mat=[1, 29, 5], edge_triu_mat=[1, 406, 4])\n",
      "Data(x=[19, 5], edge_index=[2, 11], edge_attr=[11, 4])\n"
     ]
    },
    {
     "name": "stderr",
     "output_type": "stream",
     "text": [
      "Epoch 256 Training: 100%|██████████| 1/1 [00:00<00:00,  6.55it/s]\n"
     ]
    },
    {
     "name": "stdout",
     "output_type": "stream",
     "text": [
      "Data(x=[16, 5], edge_index=[2, 32], edge_attr=[32, 4], y=[1, 2], pos=[16, 3], z=[16], smiles='[H]C1=C(C#CC([H])([H])[H])C(N([H])[H])=C([H])O1', name='gdb_25701', idx=[1], adj_triu_mat=[1, 435], node_mat=[1, 29, 5], edge_triu_mat=[1, 406, 4])\n",
      "Data(x=[18, 5], edge_index=[2, 11], edge_attr=[11, 4])\n"
     ]
    },
    {
     "name": "stderr",
     "output_type": "stream",
     "text": [
      "Epoch 257 Training: 100%|██████████| 1/1 [00:00<00:00,  6.84it/s]\n"
     ]
    },
    {
     "name": "stdout",
     "output_type": "stream",
     "text": [
      "Data(x=[19, 5], edge_index=[2, 40], edge_attr=[40, 4], y=[1, 2], pos=[19, 3], z=[19], smiles='[H]/C1=N/C([H])([H])C([H])([H])[N@H+]2C([H])([H])[C@@]2([H])C([H])([H])O1', name='gdb_39380', idx=[1], adj_triu_mat=[1, 435], node_mat=[1, 29, 5], edge_triu_mat=[1, 406, 4])\n",
      "Data(x=[18, 5], edge_index=[2, 10], edge_attr=[10, 4])\n"
     ]
    },
    {
     "name": "stderr",
     "output_type": "stream",
     "text": [
      "Epoch 258 Training: 100%|██████████| 1/1 [00:00<00:00,  5.85it/s]\n"
     ]
    },
    {
     "name": "stdout",
     "output_type": "stream",
     "text": [
      "Data(x=[18, 5], edge_index=[2, 36], edge_attr=[36, 4], y=[1, 2], pos=[18, 3], z=[18], smiles='[H]C(=O)C([H])([H])[C@]1([H])C([H])([H])O[C@]1([H])C([H])([H])[H]', name='gdb_13092', idx=[1], adj_triu_mat=[1, 435], node_mat=[1, 29, 5], edge_triu_mat=[1, 406, 4])\n",
      "Data(x=[18, 5], edge_index=[2, 11], edge_attr=[11, 4])\n"
     ]
    },
    {
     "name": "stderr",
     "output_type": "stream",
     "text": [
      "Epoch 259 Training: 100%|██████████| 1/1 [00:00<00:00,  6.02it/s]\n"
     ]
    },
    {
     "name": "stdout",
     "output_type": "stream",
     "text": [
      "Data(x=[20, 5], edge_index=[2, 40], edge_attr=[40, 4], y=[1, 2], pos=[20, 3], z=[20], smiles='[H]OC([H])([H])[C@@]([H])([N@H+]1C([H])([H])[C@@]1([H])C([H])=O)C([H])([H])[H]', name='gdb_101299', idx=[1], adj_triu_mat=[1, 435], node_mat=[1, 29, 5], edge_triu_mat=[1, 406, 4])\n",
      "Data(x=[18, 5], edge_index=[2, 11], edge_attr=[11, 4])\n"
     ]
    },
    {
     "name": "stderr",
     "output_type": "stream",
     "text": [
      "Epoch 260 Training: 100%|██████████| 1/1 [00:00<00:00,  6.02it/s]\n"
     ]
    },
    {
     "name": "stdout",
     "output_type": "stream",
     "text": [
      "Data(x=[16, 5], edge_index=[2, 32], edge_attr=[32, 4], y=[1, 2], pos=[16, 3], z=[16], smiles='[H]C1=C(C#CC([H])([H])[H])C(N([H])[H])=C([H])O1', name='gdb_25701', idx=[1], adj_triu_mat=[1, 435], node_mat=[1, 29, 5], edge_triu_mat=[1, 406, 4])\n",
      "Data(x=[18, 5], edge_index=[2, 10], edge_attr=[10, 4])\n"
     ]
    },
    {
     "name": "stderr",
     "output_type": "stream",
     "text": [
      "Epoch 261 Training: 100%|██████████| 1/1 [00:00<00:00,  6.64it/s]\n"
     ]
    },
    {
     "name": "stdout",
     "output_type": "stream",
     "text": [
      "Data(x=[18, 5], edge_index=[2, 36], edge_attr=[36, 4], y=[1, 2], pos=[18, 3], z=[18], smiles='[H]O[C@]1([H])C([H])=C(C([H])([H])[H])C([H])([H])[C@@]1([H])C#N', name='gdb_84136', idx=[1], adj_triu_mat=[1, 435], node_mat=[1, 29, 5], edge_triu_mat=[1, 406, 4])\n",
      "Data(x=[19, 5], edge_index=[2, 11], edge_attr=[11, 4])\n"
     ]
    },
    {
     "name": "stderr",
     "output_type": "stream",
     "text": [
      "Epoch 262 Training: 100%|██████████| 1/1 [00:00<00:00,  3.84it/s]\n"
     ]
    },
    {
     "name": "stdout",
     "output_type": "stream",
     "text": [
      "Data(x=[19, 5], edge_index=[2, 40], edge_attr=[40, 4], y=[1, 2], pos=[19, 3], z=[19], smiles='[H]/C1=N/C([H])([H])C([H])([H])[N@H+]2C([H])([H])[C@@]2([H])C([H])([H])O1', name='gdb_39380', idx=[1], adj_triu_mat=[1, 435], node_mat=[1, 29, 5], edge_triu_mat=[1, 406, 4])\n",
      "Data(x=[18, 5], edge_index=[2, 11], edge_attr=[11, 4])\n"
     ]
    },
    {
     "name": "stderr",
     "output_type": "stream",
     "text": [
      "Epoch 263 Training: 100%|██████████| 1/1 [00:00<00:00,  5.71it/s]\n"
     ]
    },
    {
     "name": "stdout",
     "output_type": "stream",
     "text": [
      "Data(x=[16, 5], edge_index=[2, 34], edge_attr=[34, 4], y=[1, 2], pos=[16, 3], z=[16], smiles='[H]O[C@@]1(C#N)C([H])([H])[C@@]1([H])[C@]1([H])OC1([H])[H]', name='gdb_65372', idx=[1], adj_triu_mat=[1, 435], node_mat=[1, 29, 5], edge_triu_mat=[1, 406, 4])\n",
      "Data(x=[19, 5], edge_index=[2, 11], edge_attr=[11, 4])\n"
     ]
    },
    {
     "name": "stderr",
     "output_type": "stream",
     "text": [
      "Epoch 264 Training: 100%|██████████| 1/1 [00:00<00:00,  6.72it/s]\n"
     ]
    },
    {
     "name": "stdout",
     "output_type": "stream",
     "text": [
      "Data(x=[19, 5], edge_index=[2, 42], edge_attr=[42, 4], y=[1, 2], pos=[19, 3], z=[19], smiles='[H]C([H])([H])O[C@]12C([H])([H])[C@@]1([H])[C@@]1([H])O[C@]12C([H])([H])[H]', name='gdb_107257', idx=[1], adj_triu_mat=[1, 435], node_mat=[1, 29, 5], edge_triu_mat=[1, 406, 4])\n",
      "Data(x=[19, 5], edge_index=[2, 11], edge_attr=[11, 4])\n"
     ]
    },
    {
     "name": "stderr",
     "output_type": "stream",
     "text": [
      "Epoch 265 Training: 100%|██████████| 1/1 [00:00<00:00,  6.75it/s]\n"
     ]
    },
    {
     "name": "stdout",
     "output_type": "stream",
     "text": [
      "Data(x=[15, 5], edge_index=[2, 30], edge_attr=[30, 4], y=[1, 2], pos=[15, 3], z=[15], smiles='[H]C#C[C@@]1([H])[NH2+]C(C([H])([H])[H])OC1([H])[H]', name='gdb_11226', idx=[1], adj_triu_mat=[1, 435], node_mat=[1, 29, 5], edge_triu_mat=[1, 406, 4])\n",
      "Data(x=[18, 5], edge_index=[2, 11], edge_attr=[11, 4])\n"
     ]
    },
    {
     "name": "stderr",
     "output_type": "stream",
     "text": [
      "Epoch 266 Training: 100%|██████████| 1/1 [00:00<00:00,  5.42it/s]\n"
     ]
    },
    {
     "name": "stdout",
     "output_type": "stream",
     "text": [
      "Data(x=[21, 5], edge_index=[2, 42], edge_attr=[42, 4], y=[1, 2], pos=[21, 3], z=[21], smiles='[H]O[C@]1([H])C([H])([H])[C@]([H])(C([H])([H])C([H])([H])[H])[C@]1([H])C([H])=O', name='gdb_112792', idx=[1], adj_triu_mat=[1, 435], node_mat=[1, 29, 5], edge_triu_mat=[1, 406, 4])\n",
      "Data(x=[18, 5], edge_index=[2, 10], edge_attr=[10, 4])\n"
     ]
    },
    {
     "name": "stderr",
     "output_type": "stream",
     "text": [
      "Epoch 267 Training: 100%|██████████| 1/1 [00:00<00:00,  6.70it/s]\n"
     ]
    },
    {
     "name": "stdout",
     "output_type": "stream",
     "text": [
      "Data(x=[16, 5], edge_index=[2, 34], edge_attr=[34, 4], y=[1, 2], pos=[16, 3], z=[16], smiles='[H]O[C@@]1(C#N)C([H])([H])[C@@]1([H])[C@]1([H])OC1([H])[H]', name='gdb_65372', idx=[1], adj_triu_mat=[1, 435], node_mat=[1, 29, 5], edge_triu_mat=[1, 406, 4])\n",
      "Data(x=[18, 5], edge_index=[2, 11], edge_attr=[11, 4])\n"
     ]
    },
    {
     "name": "stderr",
     "output_type": "stream",
     "text": [
      "Epoch 268 Training: 100%|██████████| 1/1 [00:00<00:00,  7.12it/s]\n"
     ]
    },
    {
     "name": "stdout",
     "output_type": "stream",
     "text": [
      "Data(x=[18, 5], edge_index=[2, 36], edge_attr=[36, 4], y=[1, 2], pos=[18, 3], z=[18], smiles='[H][N-]C1OC([H])([H])C([NH2+]C([H])([H])[H])N([H])C1([H])[H]', name='gdb_97045', idx=[1], adj_triu_mat=[1, 435], node_mat=[1, 29, 5], edge_triu_mat=[1, 406, 4])\n",
      "Data(x=[18, 5], edge_index=[2, 10], edge_attr=[10, 4])\n"
     ]
    },
    {
     "name": "stderr",
     "output_type": "stream",
     "text": [
      "Epoch 269 Training: 100%|██████████| 1/1 [00:00<00:00,  7.41it/s]\n"
     ]
    },
    {
     "name": "stdout",
     "output_type": "stream",
     "text": [
      "Data(x=[18, 5], edge_index=[2, 38], edge_attr=[38, 4], y=[1, 2], pos=[18, 3], z=[18], smiles='[H]C(=O)[C@]1([H])[N@@H+]2C([H])([H])[C@]([H])(OC([H])([H])[H])[C@@]21[H]', name='gdb_114376', idx=[1], adj_triu_mat=[1, 435], node_mat=[1, 29, 5], edge_triu_mat=[1, 406, 4])\n",
      "Data(x=[18, 5], edge_index=[2, 11], edge_attr=[11, 4])\n"
     ]
    },
    {
     "name": "stderr",
     "output_type": "stream",
     "text": [
      "Epoch 270 Training: 100%|██████████| 1/1 [00:00<00:00,  6.76it/s]\n"
     ]
    },
    {
     "name": "stdout",
     "output_type": "stream",
     "text": [
      "Data(x=[18, 5], edge_index=[2, 38], edge_attr=[38, 4], y=[1, 2], pos=[18, 3], z=[18], smiles='[H]C(=O)[C@]1([H])[N@@H+]2C([H])([H])[C@]([H])(OC([H])([H])[H])[C@@]21[H]', name='gdb_114376', idx=[1], adj_triu_mat=[1, 435], node_mat=[1, 29, 5], edge_triu_mat=[1, 406, 4])\n",
      "Data(x=[18, 5], edge_index=[2, 11], edge_attr=[11, 4])\n"
     ]
    },
    {
     "name": "stderr",
     "output_type": "stream",
     "text": [
      "Epoch 271 Training: 100%|██████████| 1/1 [00:00<00:00,  5.63it/s]\n"
     ]
    },
    {
     "name": "stdout",
     "output_type": "stream",
     "text": [
      "Data(x=[25, 5], edge_index=[2, 52], edge_attr=[52, 4], y=[1, 2], pos=[25, 3], z=[25], smiles='[H]C([H])([H])C([H])([H])[C@@]1([H])C([H])([H])[C@@]([H])(C([H])([H])[H])[C@@]2([H])C([H])([H])[C@@]12[H]', name='gdb_112835', idx=[1], adj_triu_mat=[1, 435], node_mat=[1, 29, 5], edge_triu_mat=[1, 406, 4])\n",
      "Data(x=[18, 5], edge_index=[2, 11], edge_attr=[11, 4])\n"
     ]
    },
    {
     "name": "stderr",
     "output_type": "stream",
     "text": [
      "Epoch 272 Training: 100%|██████████| 1/1 [00:00<00:00,  6.19it/s]\n"
     ]
    },
    {
     "name": "stdout",
     "output_type": "stream",
     "text": [
      "Data(x=[23, 5], edge_index=[2, 48], edge_attr=[48, 4], y=[1, 2], pos=[23, 3], z=[23], smiles='[H]C1=C(C([H])([H])[H])[C@@]([H])(C([H])([H])[H])[C@]2([H])C([H])([H])[C@@]1([H])C2([H])[H]', name='gdb_80651', idx=[1], adj_triu_mat=[1, 435], node_mat=[1, 29, 5], edge_triu_mat=[1, 406, 4])\n",
      "Data(x=[18, 5], edge_index=[2, 10], edge_attr=[10, 4])\n"
     ]
    },
    {
     "name": "stderr",
     "output_type": "stream",
     "text": [
      "Epoch 273 Training: 100%|██████████| 1/1 [00:00<00:00,  6.56it/s]\n"
     ]
    },
    {
     "name": "stdout",
     "output_type": "stream",
     "text": [
      "Data(x=[15, 5], edge_index=[2, 30], edge_attr=[30, 4], y=[1, 2], pos=[15, 3], z=[15], smiles='[H]O[C@]1([H])C(=O)C([H])([H])O[C@@]1([H])C([H])=O', name='gdb_77366', idx=[1], adj_triu_mat=[1, 435], node_mat=[1, 29, 5], edge_triu_mat=[1, 406, 4])\n",
      "Data(x=[18, 5], edge_index=[2, 11], edge_attr=[11, 4])\n"
     ]
    },
    {
     "name": "stderr",
     "output_type": "stream",
     "text": [
      "Epoch 274 Training: 100%|██████████| 1/1 [00:00<00:00,  7.32it/s]\n"
     ]
    },
    {
     "name": "stdout",
     "output_type": "stream",
     "text": [
      "Data(x=[20, 5], edge_index=[2, 46], edge_attr=[46, 4], y=[1, 2], pos=[20, 3], z=[20], smiles='[H]C([H])([H])[C@@]12[N@@H+]3[C@@]4([H])[C@]3([H])[C@]1(C([H])([H])[H])[C@@]4([H])C2([H])[H]', name='gdb_71709', idx=[1], adj_triu_mat=[1, 435], node_mat=[1, 29, 5], edge_triu_mat=[1, 406, 4])\n",
      "Data(x=[18, 5], edge_index=[2, 10], edge_attr=[10, 4])\n"
     ]
    },
    {
     "name": "stderr",
     "output_type": "stream",
     "text": [
      "Epoch 275 Training: 100%|██████████| 1/1 [00:00<00:00,  6.96it/s]\n"
     ]
    },
    {
     "name": "stdout",
     "output_type": "stream",
     "text": [
      "Data(x=[20, 5], edge_index=[2, 44], edge_attr=[44, 4], y=[1, 2], pos=[20, 3], z=[20], smiles='[H]N1[C@@]2([H])[C@]3(O[C@]3([H])C([H])([H])C([H])([H])[H])C([H])([H])[C@@]12[H]', name='gdb_113461', idx=[1], adj_triu_mat=[1, 435], node_mat=[1, 29, 5], edge_triu_mat=[1, 406, 4])\n",
      "Data(x=[18, 5], edge_index=[2, 11], edge_attr=[11, 4])\n"
     ]
    },
    {
     "name": "stderr",
     "output_type": "stream",
     "text": [
      "Epoch 276 Training: 100%|██████████| 1/1 [00:00<00:00,  7.49it/s]\n"
     ]
    },
    {
     "name": "stdout",
     "output_type": "stream",
     "text": [
      "Data(x=[23, 5], edge_index=[2, 50], edge_attr=[50, 4], y=[1, 2], pos=[23, 3], z=[23], smiles='[H]C([H])([H])[C@@]1([H])C([H])([H])[C@@]12C([H])([H])[C@@]1(C([H])([H])[H])C([H])([H])[C@]12[H]', name='gdb_87768', idx=[1], adj_triu_mat=[1, 435], node_mat=[1, 29, 5], edge_triu_mat=[1, 406, 4])\n",
      "Data(x=[18, 5], edge_index=[2, 11], edge_attr=[11, 4])\n"
     ]
    },
    {
     "name": "stderr",
     "output_type": "stream",
     "text": [
      "Epoch 277 Training: 100%|██████████| 1/1 [00:00<00:00,  4.99it/s]\n"
     ]
    },
    {
     "name": "stdout",
     "output_type": "stream",
     "text": [
      "Data(x=[23, 5], edge_index=[2, 50], edge_attr=[50, 4], y=[1, 2], pos=[23, 3], z=[23], smiles='[H]C([H])([H])[C@@]1([H])C([H])([H])[C@@]12C([H])([H])[C@@]1(C([H])([H])[H])C([H])([H])[C@]12[H]', name='gdb_87768', idx=[1], adj_triu_mat=[1, 435], node_mat=[1, 29, 5], edge_triu_mat=[1, 406, 4])\n",
      "Data(x=[18, 5], edge_index=[2, 11], edge_attr=[11, 4])\n"
     ]
    },
    {
     "name": "stderr",
     "output_type": "stream",
     "text": [
      "Epoch 278 Training: 100%|██████████| 1/1 [00:00<00:00,  5.19it/s]\n"
     ]
    },
    {
     "name": "stdout",
     "output_type": "stream",
     "text": [
      "Data(x=[23, 5], edge_index=[2, 48], edge_attr=[48, 4], y=[1, 2], pos=[23, 3], z=[23], smiles='[H]C1=C(C([H])([H])[H])[C@@]([H])(C([H])([H])[H])[C@]2([H])C([H])([H])[C@@]1([H])C2([H])[H]', name='gdb_80651', idx=[1], adj_triu_mat=[1, 435], node_mat=[1, 29, 5], edge_triu_mat=[1, 406, 4])\n",
      "Data(x=[18, 5], edge_index=[2, 10], edge_attr=[10, 4])\n"
     ]
    },
    {
     "name": "stderr",
     "output_type": "stream",
     "text": [
      "Epoch 279 Training: 100%|██████████| 1/1 [00:00<00:00,  6.43it/s]\n"
     ]
    },
    {
     "name": "stdout",
     "output_type": "stream",
     "text": [
      "Data(x=[17, 5], edge_index=[2, 34], edge_attr=[34, 4], y=[1, 2], pos=[17, 3], z=[17], smiles='[H]C([H])([H])C([H])([H])O[C@]1([H])OC(=O)OC1([H])[H]', name='gdb_121054', idx=[1], adj_triu_mat=[1, 435], node_mat=[1, 29, 5], edge_triu_mat=[1, 406, 4])\n",
      "Data(x=[18, 5], edge_index=[2, 11], edge_attr=[11, 4])\n"
     ]
    },
    {
     "name": "stderr",
     "output_type": "stream",
     "text": [
      "Epoch 280 Training: 100%|██████████| 1/1 [00:00<00:00,  5.96it/s]\n"
     ]
    },
    {
     "name": "stdout",
     "output_type": "stream",
     "text": [
      "Data(x=[18, 5], edge_index=[2, 36], edge_attr=[36, 4], y=[1, 2], pos=[18, 3], z=[18], smiles='[H]C(=O)C([H])([H])[C@]1([H])C([H])([H])O[C@]1([H])C([H])([H])[H]', name='gdb_13092', idx=[1], adj_triu_mat=[1, 435], node_mat=[1, 29, 5], edge_triu_mat=[1, 406, 4])\n",
      "Data(x=[18, 5], edge_index=[2, 10], edge_attr=[10, 4])\n"
     ]
    },
    {
     "name": "stderr",
     "output_type": "stream",
     "text": [
      "Epoch 281 Training: 100%|██████████| 1/1 [00:00<00:00,  6.66it/s]\n"
     ]
    },
    {
     "name": "stdout",
     "output_type": "stream",
     "text": [
      "Data(x=[18, 5], edge_index=[2, 38], edge_attr=[38, 4], y=[1, 2], pos=[18, 3], z=[18], smiles='[H]C(=O)[C@]1([H])[N@@H+]2C([H])([H])[C@]([H])(OC([H])([H])[H])[C@@]21[H]', name='gdb_114376', idx=[1], adj_triu_mat=[1, 435], node_mat=[1, 29, 5], edge_triu_mat=[1, 406, 4])\n",
      "Data(x=[18, 5], edge_index=[2, 11], edge_attr=[11, 4])\n"
     ]
    },
    {
     "name": "stderr",
     "output_type": "stream",
     "text": [
      "Epoch 282 Training: 100%|██████████| 1/1 [00:00<00:00,  6.43it/s]\n"
     ]
    },
    {
     "name": "stdout",
     "output_type": "stream",
     "text": [
      "Data(x=[20, 5], edge_index=[2, 44], edge_attr=[44, 4], y=[1, 2], pos=[20, 3], z=[20], smiles='[H]N1[C@@]2([H])[C@]3(O[C@]3([H])C([H])([H])C([H])([H])[H])C([H])([H])[C@@]12[H]', name='gdb_113461', idx=[1], adj_triu_mat=[1, 435], node_mat=[1, 29, 5], edge_triu_mat=[1, 406, 4])\n",
      "Data(x=[18, 5], edge_index=[2, 11], edge_attr=[11, 4])\n"
     ]
    },
    {
     "name": "stderr",
     "output_type": "stream",
     "text": [
      "Epoch 283 Training: 100%|██████████| 1/1 [00:00<00:00,  5.68it/s]\n"
     ]
    },
    {
     "name": "stdout",
     "output_type": "stream",
     "text": [
      "Data(x=[18, 5], edge_index=[2, 38], edge_attr=[38, 4], y=[1, 2], pos=[18, 3], z=[18], smiles='[H]C([H])([H])[C@]1([H])O[C@]2(C1([H])[H])C([H])([H])[C@@]2([H])C#N', name='gdb_89864', idx=[1], adj_triu_mat=[1, 435], node_mat=[1, 29, 5], edge_triu_mat=[1, 406, 4])\n",
      "Data(x=[18, 5], edge_index=[2, 10], edge_attr=[10, 4])\n"
     ]
    },
    {
     "name": "stderr",
     "output_type": "stream",
     "text": [
      "Epoch 284 Training: 100%|██████████| 1/1 [00:00<00:00,  6.23it/s]\n"
     ]
    },
    {
     "name": "stdout",
     "output_type": "stream",
     "text": [
      "Data(x=[18, 5], edge_index=[2, 38], edge_attr=[38, 4], y=[1, 2], pos=[18, 3], z=[18], smiles='[H]C(=O)[C@]1([H])[N@@H+]2C([H])([H])[C@]([H])(OC([H])([H])[H])[C@@]21[H]', name='gdb_114376', idx=[1], adj_triu_mat=[1, 435], node_mat=[1, 29, 5], edge_triu_mat=[1, 406, 4])\n",
      "Data(x=[18, 5], edge_index=[2, 10], edge_attr=[10, 4])\n"
     ]
    },
    {
     "name": "stderr",
     "output_type": "stream",
     "text": [
      "Epoch 285 Training: 100%|██████████| 1/1 [00:00<00:00,  5.28it/s]\n"
     ]
    },
    {
     "name": "stdout",
     "output_type": "stream",
     "text": [
      "Data(x=[18, 5], edge_index=[2, 38], edge_attr=[38, 4], y=[1, 2], pos=[18, 3], z=[18], smiles='[H]C(=O)[C@]1([H])[N@@H+]2C([H])([H])[C@]([H])(OC([H])([H])[H])[C@@]21[H]', name='gdb_114376', idx=[1], adj_triu_mat=[1, 435], node_mat=[1, 29, 5], edge_triu_mat=[1, 406, 4])\n",
      "Data(x=[18, 5], edge_index=[2, 11], edge_attr=[11, 4])\n"
     ]
    },
    {
     "name": "stderr",
     "output_type": "stream",
     "text": [
      "Epoch 286 Training: 100%|██████████| 1/1 [00:00<00:00,  5.76it/s]\n"
     ]
    },
    {
     "name": "stdout",
     "output_type": "stream",
     "text": [
      "Data(x=[23, 5], edge_index=[2, 50], edge_attr=[50, 4], y=[1, 2], pos=[23, 3], z=[23], smiles='[H]C([H])([H])[C@@]1([H])C([H])([H])[C@@]12C([H])([H])[C@@]1(C([H])([H])[H])C([H])([H])[C@]12[H]', name='gdb_87768', idx=[1], adj_triu_mat=[1, 435], node_mat=[1, 29, 5], edge_triu_mat=[1, 406, 4])\n",
      "Data(x=[18, 5], edge_index=[2, 10], edge_attr=[10, 4])\n"
     ]
    },
    {
     "name": "stderr",
     "output_type": "stream",
     "text": [
      "Epoch 287 Training: 100%|██████████| 1/1 [00:00<00:00,  7.08it/s]\n"
     ]
    },
    {
     "name": "stdout",
     "output_type": "stream",
     "text": [
      "Data(x=[16, 5], edge_index=[2, 34], edge_attr=[34, 4], y=[1, 2], pos=[16, 3], z=[16], smiles='[H]O[C@]1([H])C2=C([H])OC([H])=C2N([H])C1([H])[H]', name='gdb_30357', idx=[1], adj_triu_mat=[1, 435], node_mat=[1, 29, 5], edge_triu_mat=[1, 406, 4])\n",
      "Data(x=[18, 5], edge_index=[2, 10], edge_attr=[10, 4])\n"
     ]
    },
    {
     "name": "stderr",
     "output_type": "stream",
     "text": [
      "Epoch 288 Training: 100%|██████████| 1/1 [00:00<00:00,  5.85it/s]\n"
     ]
    },
    {
     "name": "stdout",
     "output_type": "stream",
     "text": [
      "Data(x=[16, 5], edge_index=[2, 32], edge_attr=[32, 4], y=[1, 2], pos=[16, 3], z=[16], smiles='[H]C#CC#C[C@@]1(C([H])([H])O[H])N([H])C1([H])[H]', name='gdb_104944', idx=[1], adj_triu_mat=[1, 435], node_mat=[1, 29, 5], edge_triu_mat=[1, 406, 4])\n",
      "Data(x=[18, 5], edge_index=[2, 10], edge_attr=[10, 4])\n"
     ]
    },
    {
     "name": "stderr",
     "output_type": "stream",
     "text": [
      "Epoch 289 Training: 100%|██████████| 1/1 [00:00<00:00,  6.21it/s]\n"
     ]
    },
    {
     "name": "stdout",
     "output_type": "stream",
     "text": [
      "Data(x=[15, 5], edge_index=[2, 30], edge_attr=[30, 4], y=[1, 2], pos=[15, 3], z=[15], smiles='[H]O[C@]1([H])C(=O)C([H])([H])O[C@@]1([H])C([H])=O', name='gdb_77366', idx=[1], adj_triu_mat=[1, 435], node_mat=[1, 29, 5], edge_triu_mat=[1, 406, 4])\n",
      "Data(x=[18, 5], edge_index=[2, 10], edge_attr=[10, 4])\n"
     ]
    },
    {
     "name": "stderr",
     "output_type": "stream",
     "text": [
      "Epoch 290 Training: 100%|██████████| 1/1 [00:00<00:00,  4.71it/s]\n"
     ]
    },
    {
     "name": "stdout",
     "output_type": "stream",
     "text": [
      "Data(x=[17, 5], edge_index=[2, 34], edge_attr=[34, 4], y=[1, 2], pos=[17, 3], z=[17], smiles='[H]C([H])([H])C([H])([H])O[C@]1([H])OC(=O)OC1([H])[H]', name='gdb_121054', idx=[1], adj_triu_mat=[1, 435], node_mat=[1, 29, 5], edge_triu_mat=[1, 406, 4])\n",
      "Data(x=[18, 5], edge_index=[2, 11], edge_attr=[11, 4])\n"
     ]
    },
    {
     "name": "stderr",
     "output_type": "stream",
     "text": [
      "Epoch 291 Training: 100%|██████████| 1/1 [00:00<00:00,  5.55it/s]\n"
     ]
    },
    {
     "name": "stdout",
     "output_type": "stream",
     "text": [
      "Data(x=[15, 5], edge_index=[2, 30], edge_attr=[30, 4], y=[1, 2], pos=[15, 3], z=[15], smiles='[H]C#C[C@@]1([H])[NH2+]C(C([H])([H])[H])OC1([H])[H]', name='gdb_11226', idx=[1], adj_triu_mat=[1, 435], node_mat=[1, 29, 5], edge_triu_mat=[1, 406, 4])\n",
      "Data(x=[18, 5], edge_index=[2, 10], edge_attr=[10, 4])\n"
     ]
    },
    {
     "name": "stderr",
     "output_type": "stream",
     "text": [
      "Epoch 292 Training: 100%|██████████| 1/1 [00:00<00:00,  6.31it/s]\n"
     ]
    },
    {
     "name": "stdout",
     "output_type": "stream",
     "text": [
      "Data(x=[18, 5], edge_index=[2, 38], edge_attr=[38, 4], y=[1, 2], pos=[18, 3], z=[18], smiles='[H]C1=NC([H])([H])C([NH2+]C2([H])C([H])([H])C2([H])[H])N1[H]', name='gdb_40843', idx=[1], adj_triu_mat=[1, 435], node_mat=[1, 29, 5], edge_triu_mat=[1, 406, 4])\n",
      "Data(x=[18, 5], edge_index=[2, 10], edge_attr=[10, 4])\n"
     ]
    },
    {
     "name": "stderr",
     "output_type": "stream",
     "text": [
      "Epoch 293 Training: 100%|██████████| 1/1 [00:00<00:00,  7.27it/s]\n"
     ]
    },
    {
     "name": "stdout",
     "output_type": "stream",
     "text": [
      "Data(x=[18, 5], edge_index=[2, 38], edge_attr=[38, 4], y=[1, 2], pos=[18, 3], z=[18], smiles='[H]C1=C([H])[C@@]2([H])C([H])([H])[C@@]2([H])OC([H])([H])C1([H])[H]', name='gdb_18391', idx=[1], adj_triu_mat=[1, 435], node_mat=[1, 29, 5], edge_triu_mat=[1, 406, 4])\n",
      "Data(x=[18, 5], edge_index=[2, 11], edge_attr=[11, 4])\n"
     ]
    },
    {
     "name": "stderr",
     "output_type": "stream",
     "text": [
      "Epoch 294 Training: 100%|██████████| 1/1 [00:00<00:00,  7.32it/s]\n"
     ]
    },
    {
     "name": "stdout",
     "output_type": "stream",
     "text": [
      "Data(x=[14, 5], edge_index=[2, 30], edge_attr=[30, 4], y=[1, 2], pos=[14, 3], z=[14], smiles='[H]N([H])C1=NC([C@]2([H])OC2([H])[H])=NO1', name='gdb_129970', idx=[1], adj_triu_mat=[1, 435], node_mat=[1, 29, 5], edge_triu_mat=[1, 406, 4])\n",
      "Data(x=[18, 5], edge_index=[2, 11], edge_attr=[11, 4])\n"
     ]
    },
    {
     "name": "stderr",
     "output_type": "stream",
     "text": [
      "Epoch 295 Training: 100%|██████████| 1/1 [00:00<00:00,  7.71it/s]\n"
     ]
    },
    {
     "name": "stdout",
     "output_type": "stream",
     "text": [
      "Data(x=[17, 5], edge_index=[2, 34], edge_attr=[34, 4], y=[1, 2], pos=[17, 3], z=[17], smiles='[H]C#C[C@]1([H])OC1(C([H])([H])O[H])C([H])([H])O[H]', name='gdb_104761', idx=[1], adj_triu_mat=[1, 435], node_mat=[1, 29, 5], edge_triu_mat=[1, 406, 4])\n",
      "Data(x=[18, 5], edge_index=[2, 10], edge_attr=[10, 4])\n"
     ]
    },
    {
     "name": "stderr",
     "output_type": "stream",
     "text": [
      "Epoch 296 Training: 100%|██████████| 1/1 [00:00<00:00,  7.13it/s]\n"
     ]
    },
    {
     "name": "stdout",
     "output_type": "stream",
     "text": [
      "Data(x=[19, 5], edge_index=[2, 40], edge_attr=[40, 4], y=[1, 2], pos=[19, 3], z=[19], smiles='[H]OC([H])([H])[C@@]1(C([H])([H])[H])[N@@H+]2C([H])([H])[C@]2([H])C1([H])[H]', name='gdb_12062', idx=[1], adj_triu_mat=[1, 435], node_mat=[1, 29, 5], edge_triu_mat=[1, 406, 4])\n",
      "Data(x=[18, 5], edge_index=[2, 11], edge_attr=[11, 4])\n"
     ]
    },
    {
     "name": "stderr",
     "output_type": "stream",
     "text": [
      "Epoch 297 Training: 100%|██████████| 1/1 [00:00<00:00,  5.23it/s]\n"
     ]
    },
    {
     "name": "stdout",
     "output_type": "stream",
     "text": [
      "Data(x=[20, 5], edge_index=[2, 44], edge_attr=[44, 4], y=[1, 2], pos=[20, 3], z=[20], smiles='[H]N1[C@@]2([H])[C@]3(O[C@]3([H])C([H])([H])C([H])([H])[H])C([H])([H])[C@@]12[H]', name='gdb_113461', idx=[1], adj_triu_mat=[1, 435], node_mat=[1, 29, 5], edge_triu_mat=[1, 406, 4])\n",
      "Data(x=[18, 5], edge_index=[2, 11], edge_attr=[11, 4])\n"
     ]
    },
    {
     "name": "stderr",
     "output_type": "stream",
     "text": [
      "Epoch 298 Training: 100%|██████████| 1/1 [00:00<00:00,  5.53it/s]\n"
     ]
    },
    {
     "name": "stdout",
     "output_type": "stream",
     "text": [
      "Data(x=[17, 5], edge_index=[2, 34], edge_attr=[34, 4], y=[1, 2], pos=[17, 3], z=[17], smiles='[H]C([H])([H])C([H])([H])O[C@]1([H])OC(=O)OC1([H])[H]', name='gdb_121054', idx=[1], adj_triu_mat=[1, 435], node_mat=[1, 29, 5], edge_triu_mat=[1, 406, 4])\n",
      "Data(x=[18, 5], edge_index=[2, 11], edge_attr=[11, 4])\n"
     ]
    },
    {
     "name": "stderr",
     "output_type": "stream",
     "text": [
      "Epoch 299 Training: 100%|██████████| 1/1 [00:00<00:00,  6.03it/s]\n"
     ]
    },
    {
     "name": "stdout",
     "output_type": "stream",
     "text": [
      "Data(x=[18, 5], edge_index=[2, 38], edge_attr=[38, 4], y=[1, 2], pos=[18, 3], z=[18], smiles='[H]C#CC([H])([H])[C@]1(O[H])C([H])([H])[C@@]2([H])N([H])[C@@]12[H]', name='gdb_64721', idx=[1], adj_triu_mat=[1, 435], node_mat=[1, 29, 5], edge_triu_mat=[1, 406, 4])\n",
      "Data(x=[18, 5], edge_index=[2, 11], edge_attr=[11, 4])\n"
     ]
    },
    {
     "name": "stderr",
     "output_type": "stream",
     "text": [
      "Epoch 300 Training: 100%|██████████| 1/1 [00:00<00:00,  7.76it/s]\n"
     ]
    },
    {
     "name": "stdout",
     "output_type": "stream",
     "text": [
      "Data(x=[15, 5], edge_index=[2, 30], edge_attr=[30, 4], y=[1, 2], pos=[15, 3], z=[15], smiles='[H]O[C@]1([H])C(=O)C([H])([H])O[C@@]1([H])C([H])=O', name='gdb_77366', idx=[1], adj_triu_mat=[1, 435], node_mat=[1, 29, 5], edge_triu_mat=[1, 406, 4])\n",
      "Data(x=[18, 5], edge_index=[2, 10], edge_attr=[10, 4])\n"
     ]
    },
    {
     "name": "stderr",
     "output_type": "stream",
     "text": [
      "Epoch 301 Training: 100%|██████████| 1/1 [00:01<00:00,  1.58s/it]\n"
     ]
    },
    {
     "name": "stdout",
     "output_type": "stream",
     "text": [
      "Data(x=[20, 5], edge_index=[2, 44], edge_attr=[44, 4], y=[1, 2], pos=[20, 3], z=[20], smiles='[H]N1[C@@]2([H])[C@]3(O[C@]3([H])C([H])([H])C([H])([H])[H])C([H])([H])[C@@]12[H]', name='gdb_113461', idx=[1], adj_triu_mat=[1, 435], node_mat=[1, 29, 5], edge_triu_mat=[1, 406, 4])\n",
      "Data(x=[18, 5], edge_index=[2, 11], edge_attr=[11, 4])\n"
     ]
    },
    {
     "name": "stderr",
     "output_type": "stream",
     "text": [
      "Epoch 302 Training: 100%|██████████| 1/1 [00:00<00:00,  6.45it/s]\n"
     ]
    },
    {
     "name": "stdout",
     "output_type": "stream",
     "text": [
      "Data(x=[21, 5], edge_index=[2, 42], edge_attr=[42, 4], y=[1, 2], pos=[21, 3], z=[21], smiles='[H]O[C@]1([H])[C@]([H])(O[H])C([H])([H])C([H])=C([H])[C@]1([H])C([H])([H])[H]', name='gdb_92903', idx=[1], adj_triu_mat=[1, 435], node_mat=[1, 29, 5], edge_triu_mat=[1, 406, 4])\n",
      "Data(x=[18, 5], edge_index=[2, 11], edge_attr=[11, 4])\n"
     ]
    },
    {
     "name": "stderr",
     "output_type": "stream",
     "text": [
      "Epoch 303 Training: 100%|██████████| 1/1 [00:00<00:00,  6.04it/s]\n"
     ]
    },
    {
     "name": "stdout",
     "output_type": "stream",
     "text": [
      "Data(x=[18, 5], edge_index=[2, 36], edge_attr=[36, 4], y=[1, 2], pos=[18, 3], z=[18], smiles='[H]O[C@]1([H])C([H])=C(C([H])([H])[H])C([H])([H])[C@@]1([H])C#N', name='gdb_84136', idx=[1], adj_triu_mat=[1, 435], node_mat=[1, 29, 5], edge_triu_mat=[1, 406, 4])\n",
      "Data(x=[18, 5], edge_index=[2, 11], edge_attr=[11, 4])\n"
     ]
    },
    {
     "name": "stderr",
     "output_type": "stream",
     "text": [
      "Epoch 304 Training: 100%|██████████| 1/1 [00:00<00:00,  5.68it/s]\n"
     ]
    },
    {
     "name": "stdout",
     "output_type": "stream",
     "text": [
      "Data(x=[17, 5], edge_index=[2, 34], edge_attr=[34, 4], y=[1, 2], pos=[17, 3], z=[17], smiles='[H]C#C[C@]1([H])OC1(C([H])([H])O[H])C([H])([H])O[H]', name='gdb_104761', idx=[1], adj_triu_mat=[1, 435], node_mat=[1, 29, 5], edge_triu_mat=[1, 406, 4])\n",
      "Data(x=[19, 5], edge_index=[2, 10], edge_attr=[10, 4])\n"
     ]
    },
    {
     "name": "stderr",
     "output_type": "stream",
     "text": [
      "Epoch 305 Training: 100%|██████████| 1/1 [00:00<00:00,  5.76it/s]\n"
     ]
    },
    {
     "name": "stdout",
     "output_type": "stream",
     "text": [
      "Data(x=[23, 5], edge_index=[2, 50], edge_attr=[50, 4], y=[1, 2], pos=[23, 3], z=[23], smiles='[H]C([H])([H])[C@@]1([H])C([H])([H])[C@@]12C([H])([H])[C@@]1(C([H])([H])[H])C([H])([H])[C@]12[H]', name='gdb_87768', idx=[1], adj_triu_mat=[1, 435], node_mat=[1, 29, 5], edge_triu_mat=[1, 406, 4])\n",
      "Data(x=[18, 5], edge_index=[2, 11], edge_attr=[11, 4])\n"
     ]
    },
    {
     "name": "stderr",
     "output_type": "stream",
     "text": [
      "Epoch 306 Training: 100%|██████████| 1/1 [00:00<00:00,  6.07it/s]\n"
     ]
    },
    {
     "name": "stdout",
     "output_type": "stream",
     "text": [
      "Data(x=[14, 5], edge_index=[2, 30], edge_attr=[30, 4], y=[1, 2], pos=[14, 3], z=[14], smiles='[H]N([H])C1=NC([C@]2([H])OC2([H])[H])=NO1', name='gdb_129970', idx=[1], adj_triu_mat=[1, 435], node_mat=[1, 29, 5], edge_triu_mat=[1, 406, 4])\n",
      "Data(x=[18, 5], edge_index=[2, 10], edge_attr=[10, 4])\n"
     ]
    },
    {
     "name": "stderr",
     "output_type": "stream",
     "text": [
      "Epoch 307 Training: 100%|██████████| 1/1 [00:00<00:00,  5.30it/s]\n"
     ]
    },
    {
     "name": "stdout",
     "output_type": "stream",
     "text": [
      "Data(x=[20, 5], edge_index=[2, 46], edge_attr=[46, 4], y=[1, 2], pos=[20, 3], z=[20], smiles='[H]C([H])([H])[C@@]12[N@@H+]3[C@@]4([H])[C@]3([H])[C@]1(C([H])([H])[H])[C@@]4([H])C2([H])[H]', name='gdb_71709', idx=[1], adj_triu_mat=[1, 435], node_mat=[1, 29, 5], edge_triu_mat=[1, 406, 4])\n",
      "Data(x=[18, 5], edge_index=[2, 10], edge_attr=[10, 4])\n"
     ]
    },
    {
     "name": "stderr",
     "output_type": "stream",
     "text": [
      "Epoch 308 Training: 100%|██████████| 1/1 [00:00<00:00,  6.66it/s]\n"
     ]
    },
    {
     "name": "stdout",
     "output_type": "stream",
     "text": [
      "Data(x=[18, 5], edge_index=[2, 38], edge_attr=[38, 4], y=[1, 2], pos=[18, 3], z=[18], smiles='[H]C1=C([H])[C@@]2([H])C([H])([H])[C@@]2([H])OC([H])([H])C1([H])[H]', name='gdb_18391', idx=[1], adj_triu_mat=[1, 435], node_mat=[1, 29, 5], edge_triu_mat=[1, 406, 4])\n",
      "Data(x=[18, 5], edge_index=[2, 11], edge_attr=[11, 4])\n"
     ]
    },
    {
     "name": "stderr",
     "output_type": "stream",
     "text": [
      "Epoch 309 Training: 100%|██████████| 1/1 [00:00<00:00,  5.96it/s]\n"
     ]
    },
    {
     "name": "stdout",
     "output_type": "stream",
     "text": [
      "Data(x=[20, 5], edge_index=[2, 40], edge_attr=[40, 4], y=[1, 2], pos=[20, 3], z=[20], smiles='[H]OC([H])([H])[C@@]([H])([N@H+]1C([H])([H])[C@@]1([H])C([H])=O)C([H])([H])[H]', name='gdb_101299', idx=[1], adj_triu_mat=[1, 435], node_mat=[1, 29, 5], edge_triu_mat=[1, 406, 4])\n",
      "Data(x=[18, 5], edge_index=[2, 11], edge_attr=[11, 4])\n"
     ]
    },
    {
     "name": "stderr",
     "output_type": "stream",
     "text": [
      "Epoch 310 Training: 100%|██████████| 1/1 [00:00<00:00,  6.31it/s]\n"
     ]
    },
    {
     "name": "stdout",
     "output_type": "stream",
     "text": [
      "Data(x=[16, 5], edge_index=[2, 32], edge_attr=[32, 4], y=[1, 2], pos=[16, 3], z=[16], smiles='[H]C#CC#C[C@@]1(C([H])([H])O[H])N([H])C1([H])[H]', name='gdb_104944', idx=[1], adj_triu_mat=[1, 435], node_mat=[1, 29, 5], edge_triu_mat=[1, 406, 4])\n",
      "Data(x=[18, 5], edge_index=[2, 11], edge_attr=[11, 4])\n"
     ]
    },
    {
     "name": "stderr",
     "output_type": "stream",
     "text": [
      "Epoch 311 Training: 100%|██████████| 1/1 [00:00<00:00,  6.70it/s]\n"
     ]
    },
    {
     "name": "stdout",
     "output_type": "stream",
     "text": [
      "Data(x=[18, 5], edge_index=[2, 36], edge_attr=[36, 4], y=[1, 2], pos=[18, 3], z=[18], smiles='[H][N-]C1OC([H])([H])C([NH2+]C([H])([H])[H])N([H])C1([H])[H]', name='gdb_97045', idx=[1], adj_triu_mat=[1, 435], node_mat=[1, 29, 5], edge_triu_mat=[1, 406, 4])\n",
      "Data(x=[18, 5], edge_index=[2, 11], edge_attr=[11, 4])\n"
     ]
    },
    {
     "name": "stderr",
     "output_type": "stream",
     "text": [
      "Epoch 312 Training: 100%|██████████| 1/1 [00:00<00:00,  7.21it/s]\n"
     ]
    },
    {
     "name": "stdout",
     "output_type": "stream",
     "text": [
      "Data(x=[17, 5], edge_index=[2, 32], edge_attr=[32, 4], y=[1, 2], pos=[17, 3], z=[17], smiles='[H]O[C@@]([H])(C([H])=O)C([H])(C([H])([H])[H])C([H])([H])[H]', name='gdb_1626', idx=[1], adj_triu_mat=[1, 435], node_mat=[1, 29, 5], edge_triu_mat=[1, 406, 4])\n",
      "Data(x=[18, 5], edge_index=[2, 11], edge_attr=[11, 4])\n"
     ]
    },
    {
     "name": "stderr",
     "output_type": "stream",
     "text": [
      "Epoch 313 Training: 100%|██████████| 1/1 [00:00<00:00,  5.37it/s]\n"
     ]
    },
    {
     "name": "stdout",
     "output_type": "stream",
     "text": [
      "Data(x=[16, 5], edge_index=[2, 34], edge_attr=[34, 4], y=[1, 2], pos=[16, 3], z=[16], smiles='[H]O[C@]1([H])C2=C([H])OC([H])=C2N([H])C1([H])[H]', name='gdb_30357', idx=[1], adj_triu_mat=[1, 435], node_mat=[1, 29, 5], edge_triu_mat=[1, 406, 4])\n",
      "Data(x=[18, 5], edge_index=[2, 10], edge_attr=[10, 4])\n"
     ]
    },
    {
     "name": "stderr",
     "output_type": "stream",
     "text": [
      "Epoch 314 Training: 100%|██████████| 1/1 [00:00<00:00,  6.99it/s]\n"
     ]
    },
    {
     "name": "stdout",
     "output_type": "stream",
     "text": [
      "Data(x=[14, 5], edge_index=[2, 30], edge_attr=[30, 4], y=[1, 2], pos=[14, 3], z=[14], smiles='[H]N([H])C1=NC([C@]2([H])OC2([H])[H])=NO1', name='gdb_129970', idx=[1], adj_triu_mat=[1, 435], node_mat=[1, 29, 5], edge_triu_mat=[1, 406, 4])\n",
      "Data(x=[18, 5], edge_index=[2, 11], edge_attr=[11, 4])\n"
     ]
    },
    {
     "name": "stderr",
     "output_type": "stream",
     "text": [
      "Epoch 315 Training: 100%|██████████| 1/1 [00:00<00:00,  6.89it/s]\n"
     ]
    },
    {
     "name": "stdout",
     "output_type": "stream",
     "text": [
      "Data(x=[20, 5], edge_index=[2, 40], edge_attr=[40, 4], y=[1, 2], pos=[20, 3], z=[20], smiles='[H]OC([H])([H])[C@@]([H])([N@H+]1C([H])([H])[C@@]1([H])C([H])=O)C([H])([H])[H]', name='gdb_101299', idx=[1], adj_triu_mat=[1, 435], node_mat=[1, 29, 5], edge_triu_mat=[1, 406, 4])\n",
      "Data(x=[18, 5], edge_index=[2, 11], edge_attr=[11, 4])\n"
     ]
    },
    {
     "name": "stderr",
     "output_type": "stream",
     "text": [
      "Epoch 316 Training: 100%|██████████| 1/1 [00:00<00:00,  7.22it/s]\n"
     ]
    },
    {
     "name": "stdout",
     "output_type": "stream",
     "text": [
      "Data(x=[23, 5], edge_index=[2, 48], edge_attr=[48, 4], y=[1, 2], pos=[23, 3], z=[23], smiles='[H]C1=C(C([H])([H])[H])[C@@]([H])(C([H])([H])[H])[C@]2([H])C([H])([H])[C@@]1([H])C2([H])[H]', name='gdb_80651', idx=[1], adj_triu_mat=[1, 435], node_mat=[1, 29, 5], edge_triu_mat=[1, 406, 4])\n",
      "Data(x=[18, 5], edge_index=[2, 11], edge_attr=[11, 4])\n"
     ]
    },
    {
     "name": "stderr",
     "output_type": "stream",
     "text": [
      "Epoch 317 Training: 100%|██████████| 1/1 [00:00<00:00,  7.33it/s]\n"
     ]
    },
    {
     "name": "stdout",
     "output_type": "stream",
     "text": [
      "Data(x=[21, 5], edge_index=[2, 42], edge_attr=[42, 4], y=[1, 2], pos=[21, 3], z=[21], smiles='[H]O[C@]1([H])C([H])([H])[C@]([H])(C([H])([H])C([H])([H])[H])[C@]1([H])C([H])=O', name='gdb_112792', idx=[1], adj_triu_mat=[1, 435], node_mat=[1, 29, 5], edge_triu_mat=[1, 406, 4])\n",
      "Data(x=[18, 5], edge_index=[2, 10], edge_attr=[10, 4])\n"
     ]
    },
    {
     "name": "stderr",
     "output_type": "stream",
     "text": [
      "Epoch 318 Training: 100%|██████████| 1/1 [00:00<00:00,  6.94it/s]\n"
     ]
    },
    {
     "name": "stdout",
     "output_type": "stream",
     "text": [
      "Data(x=[14, 5], edge_index=[2, 30], edge_attr=[30, 4], y=[1, 2], pos=[14, 3], z=[14], smiles='[H]N([H])C1=NC([C@]2([H])OC2([H])[H])=NO1', name='gdb_129970', idx=[1], adj_triu_mat=[1, 435], node_mat=[1, 29, 5], edge_triu_mat=[1, 406, 4])\n",
      "Data(x=[18, 5], edge_index=[2, 10], edge_attr=[10, 4])\n"
     ]
    },
    {
     "name": "stderr",
     "output_type": "stream",
     "text": [
      "Epoch 319 Training: 100%|██████████| 1/1 [00:00<00:00,  5.81it/s]\n"
     ]
    },
    {
     "name": "stdout",
     "output_type": "stream",
     "text": [
      "Data(x=[18, 5], edge_index=[2, 36], edge_attr=[36, 4], y=[1, 2], pos=[18, 3], z=[18], smiles='[H]C(=O)C([H])([H])[C@]1([H])C([H])([H])O[C@]1([H])C([H])([H])[H]', name='gdb_13092', idx=[1], adj_triu_mat=[1, 435], node_mat=[1, 29, 5], edge_triu_mat=[1, 406, 4])\n",
      "Data(x=[18, 5], edge_index=[2, 11], edge_attr=[11, 4])\n"
     ]
    },
    {
     "name": "stderr",
     "output_type": "stream",
     "text": [
      "Epoch 320 Training: 100%|██████████| 1/1 [00:00<00:00,  7.54it/s]\n"
     ]
    },
    {
     "name": "stdout",
     "output_type": "stream",
     "text": [
      "Data(x=[23, 5], edge_index=[2, 50], edge_attr=[50, 4], y=[1, 2], pos=[23, 3], z=[23], smiles='[H]C([H])([H])[C@@]1([H])C([H])([H])[C@@]12C([H])([H])[C@@]1(C([H])([H])[H])C([H])([H])[C@]12[H]', name='gdb_87768', idx=[1], adj_triu_mat=[1, 435], node_mat=[1, 29, 5], edge_triu_mat=[1, 406, 4])\n",
      "Data(x=[18, 5], edge_index=[2, 11], edge_attr=[11, 4])\n"
     ]
    },
    {
     "name": "stderr",
     "output_type": "stream",
     "text": [
      "Epoch 321 Training: 100%|██████████| 1/1 [00:00<00:00,  7.10it/s]\n"
     ]
    },
    {
     "name": "stdout",
     "output_type": "stream",
     "text": [
      "Data(x=[17, 5], edge_index=[2, 32], edge_attr=[32, 4], y=[1, 2], pos=[17, 3], z=[17], smiles='[H]/N=C(/OC([H])([H])C([H])([H])O[H])N([H])C([H])=O', name='gdb_121723', idx=[1], adj_triu_mat=[1, 435], node_mat=[1, 29, 5], edge_triu_mat=[1, 406, 4])\n",
      "Data(x=[18, 5], edge_index=[2, 11], edge_attr=[11, 4])\n"
     ]
    },
    {
     "name": "stderr",
     "output_type": "stream",
     "text": [
      "Epoch 322 Training: 100%|██████████| 1/1 [00:00<00:00,  4.59it/s]\n"
     ]
    },
    {
     "name": "stdout",
     "output_type": "stream",
     "text": [
      "Data(x=[19, 5], edge_index=[2, 40], edge_attr=[40, 4], y=[1, 2], pos=[19, 3], z=[19], smiles='[H]C(=O)N([H])[C@@]1([H])C([H])([H])[N@H+]2C([H])([H])C([H])([H])[C@]21[H]', name='gdb_51674', idx=[1], adj_triu_mat=[1, 435], node_mat=[1, 29, 5], edge_triu_mat=[1, 406, 4])\n",
      "Data(x=[18, 5], edge_index=[2, 10], edge_attr=[10, 4])\n"
     ]
    },
    {
     "name": "stderr",
     "output_type": "stream",
     "text": [
      "Epoch 323 Training: 100%|██████████| 1/1 [00:00<00:00,  7.48it/s]\n"
     ]
    },
    {
     "name": "stdout",
     "output_type": "stream",
     "text": [
      "Data(x=[18, 5], edge_index=[2, 38], edge_attr=[38, 4], y=[1, 2], pos=[18, 3], z=[18], smiles='[H]C1=NC([H])([H])C([NH2+]C2([H])C([H])([H])C2([H])[H])N1[H]', name='gdb_40843', idx=[1], adj_triu_mat=[1, 435], node_mat=[1, 29, 5], edge_triu_mat=[1, 406, 4])\n",
      "Data(x=[18, 5], edge_index=[2, 11], edge_attr=[11, 4])\n"
     ]
    },
    {
     "name": "stderr",
     "output_type": "stream",
     "text": [
      "Epoch 324 Training: 100%|██████████| 1/1 [00:00<00:00,  5.69it/s]\n"
     ]
    },
    {
     "name": "stdout",
     "output_type": "stream",
     "text": [
      "Data(x=[15, 5], edge_index=[2, 30], edge_attr=[30, 4], y=[1, 2], pos=[15, 3], z=[15], smiles='[H]C#C[C@@]1([H])[NH2+]C(C([H])([H])[H])OC1([H])[H]', name='gdb_11226', idx=[1], adj_triu_mat=[1, 435], node_mat=[1, 29, 5], edge_triu_mat=[1, 406, 4])\n",
      "Data(x=[18, 5], edge_index=[2, 10], edge_attr=[10, 4])\n"
     ]
    },
    {
     "name": "stderr",
     "output_type": "stream",
     "text": [
      "Epoch 325 Training: 100%|██████████| 1/1 [00:00<00:00,  6.55it/s]\n"
     ]
    },
    {
     "name": "stdout",
     "output_type": "stream",
     "text": [
      "Data(x=[19, 5], edge_index=[2, 40], edge_attr=[40, 4], y=[1, 2], pos=[19, 3], z=[19], smiles='[H]/C1=N/C([H])([H])C([H])([H])[N@H+]2C([H])([H])[C@@]2([H])C([H])([H])O1', name='gdb_39380', idx=[1], adj_triu_mat=[1, 435], node_mat=[1, 29, 5], edge_triu_mat=[1, 406, 4])\n",
      "Data(x=[18, 5], edge_index=[2, 10], edge_attr=[10, 4])\n"
     ]
    },
    {
     "name": "stderr",
     "output_type": "stream",
     "text": [
      "Epoch 326 Training: 100%|██████████| 1/1 [00:00<00:00,  4.63it/s]\n"
     ]
    },
    {
     "name": "stdout",
     "output_type": "stream",
     "text": [
      "Data(x=[18, 5], edge_index=[2, 38], edge_attr=[38, 4], y=[1, 2], pos=[18, 3], z=[18], smiles='[H]C(=O)[C@]1([H])[N@@H+]2C([H])([H])[C@]([H])(OC([H])([H])[H])[C@@]21[H]', name='gdb_114376', idx=[1], adj_triu_mat=[1, 435], node_mat=[1, 29, 5], edge_triu_mat=[1, 406, 4])\n",
      "Data(x=[18, 5], edge_index=[2, 11], edge_attr=[11, 4])\n"
     ]
    },
    {
     "name": "stderr",
     "output_type": "stream",
     "text": [
      "Epoch 327 Training: 100%|██████████| 1/1 [00:00<00:00,  7.13it/s]\n"
     ]
    },
    {
     "name": "stdout",
     "output_type": "stream",
     "text": [
      "Data(x=[15, 5], edge_index=[2, 30], edge_attr=[30, 4], y=[1, 2], pos=[15, 3], z=[15], smiles='[H]C#C[C@@]1([H])[NH2+]C(C([H])([H])[H])OC1([H])[H]', name='gdb_11226', idx=[1], adj_triu_mat=[1, 435], node_mat=[1, 29, 5], edge_triu_mat=[1, 406, 4])\n",
      "Data(x=[18, 5], edge_index=[2, 11], edge_attr=[11, 4])\n"
     ]
    },
    {
     "name": "stderr",
     "output_type": "stream",
     "text": [
      "Epoch 328 Training: 100%|██████████| 1/1 [00:00<00:00,  6.65it/s]\n"
     ]
    },
    {
     "name": "stdout",
     "output_type": "stream",
     "text": [
      "Data(x=[17, 5], edge_index=[2, 32], edge_attr=[32, 4], y=[1, 2], pos=[17, 3], z=[17], smiles='[H]/N=C(/OC([H])([H])C([H])([H])O[H])N([H])C([H])=O', name='gdb_121723', idx=[1], adj_triu_mat=[1, 435], node_mat=[1, 29, 5], edge_triu_mat=[1, 406, 4])\n",
      "Data(x=[18, 5], edge_index=[2, 11], edge_attr=[11, 4])\n"
     ]
    },
    {
     "name": "stderr",
     "output_type": "stream",
     "text": [
      "Epoch 329 Training: 100%|██████████| 1/1 [00:00<00:00,  5.51it/s]\n"
     ]
    },
    {
     "name": "stdout",
     "output_type": "stream",
     "text": [
      "Data(x=[18, 5], edge_index=[2, 36], edge_attr=[36, 4], y=[1, 2], pos=[18, 3], z=[18], smiles='[H]O[C@]1([H])C([H])=C(C([H])([H])[H])C([H])([H])[C@@]1([H])C#N', name='gdb_84136', idx=[1], adj_triu_mat=[1, 435], node_mat=[1, 29, 5], edge_triu_mat=[1, 406, 4])\n",
      "Data(x=[18, 5], edge_index=[2, 10], edge_attr=[10, 4])\n"
     ]
    },
    {
     "name": "stderr",
     "output_type": "stream",
     "text": [
      "Epoch 330 Training: 100%|██████████| 1/1 [00:00<00:00,  5.54it/s]\n"
     ]
    },
    {
     "name": "stdout",
     "output_type": "stream",
     "text": [
      "Data(x=[16, 5], edge_index=[2, 32], edge_attr=[32, 4], y=[1, 2], pos=[16, 3], z=[16], smiles='[H]C1=C(C#CC([H])([H])[H])C(N([H])[H])=C([H])O1', name='gdb_25701', idx=[1], adj_triu_mat=[1, 435], node_mat=[1, 29, 5], edge_triu_mat=[1, 406, 4])\n",
      "Data(x=[18, 5], edge_index=[2, 11], edge_attr=[11, 4])\n"
     ]
    },
    {
     "name": "stderr",
     "output_type": "stream",
     "text": [
      "Epoch 331 Training: 100%|██████████| 1/1 [00:00<00:00,  5.59it/s]\n"
     ]
    },
    {
     "name": "stdout",
     "output_type": "stream",
     "text": [
      "Data(x=[15, 5], edge_index=[2, 30], edge_attr=[30, 4], y=[1, 2], pos=[15, 3], z=[15], smiles='[H]C#C[C@@]1([H])[NH2+]C(C([H])([H])[H])OC1([H])[H]', name='gdb_11226', idx=[1], adj_triu_mat=[1, 435], node_mat=[1, 29, 5], edge_triu_mat=[1, 406, 4])\n",
      "Data(x=[18, 5], edge_index=[2, 11], edge_attr=[11, 4])\n"
     ]
    },
    {
     "name": "stderr",
     "output_type": "stream",
     "text": [
      "Epoch 332 Training: 100%|██████████| 1/1 [00:00<00:00,  6.80it/s]\n"
     ]
    },
    {
     "name": "stdout",
     "output_type": "stream",
     "text": [
      "Data(x=[18, 5], edge_index=[2, 38], edge_attr=[38, 4], y=[1, 2], pos=[18, 3], z=[18], smiles='[H]C(=O)[C@]1([H])[N@@H+]2C([H])([H])[C@]([H])(OC([H])([H])[H])[C@@]21[H]', name='gdb_114376', idx=[1], adj_triu_mat=[1, 435], node_mat=[1, 29, 5], edge_triu_mat=[1, 406, 4])\n",
      "Data(x=[18, 5], edge_index=[2, 10], edge_attr=[10, 4])\n"
     ]
    },
    {
     "name": "stderr",
     "output_type": "stream",
     "text": [
      "Epoch 333 Training:   0%|          | 0/1 [00:00<?, ?it/s]\n"
     ]
    },
    {
     "ename": "KeyboardInterrupt",
     "evalue": "",
     "output_type": "error",
     "traceback": [
      "\u001b[0;31m---------------------------------------------------------------------------\u001b[0m",
      "\u001b[0;31mKeyboardInterrupt\u001b[0m                         Traceback (most recent call last)",
      "Cell \u001b[0;32mIn[65], line 18\u001b[0m\n\u001b[1;32m     16\u001b[0m \u001b[38;5;28;01mfor\u001b[39;00m epoch \u001b[38;5;129;01min\u001b[39;00m \u001b[38;5;28mrange\u001b[39m(epochs):\n\u001b[1;32m     17\u001b[0m     graph_vae_model\u001b[38;5;241m.\u001b[39mtrain()\n\u001b[0;32m---> 18\u001b[0m \u001b[43m    \u001b[49m\u001b[38;5;28;43;01mfor\u001b[39;49;00m\u001b[43m \u001b[49m\u001b[43mbatch_index\u001b[49m\u001b[43m,\u001b[49m\u001b[43m \u001b[49m\u001b[43mtrain_batch\u001b[49m\u001b[43m \u001b[49m\u001b[38;5;129;43;01min\u001b[39;49;00m\u001b[43m \u001b[49m\u001b[38;5;28;43menumerate\u001b[39;49m\u001b[43m(\u001b[49m\u001b[43mtqdm\u001b[49m\u001b[43m(\u001b[49m\u001b[43mtrain_loader\u001b[49m\u001b[43m,\u001b[49m\u001b[43m  \u001b[49m\u001b[43mdesc\u001b[49m\u001b[38;5;241;43m=\u001b[39;49m\u001b[38;5;124;43mf\u001b[39;49m\u001b[38;5;124;43m\"\u001b[39;49m\u001b[38;5;124;43mEpoch \u001b[39;49m\u001b[38;5;132;43;01m{\u001b[39;49;00m\u001b[43mepoch\u001b[49m\u001b[38;5;250;43m \u001b[39;49m\u001b[38;5;241;43m+\u001b[39;49m\u001b[38;5;250;43m \u001b[39;49m\u001b[38;5;241;43m1\u001b[39;49m\u001b[38;5;132;43;01m}\u001b[39;49;00m\u001b[38;5;124;43m Training\u001b[39;49m\u001b[38;5;124;43m\"\u001b[39;49m\u001b[43m)\u001b[49m\u001b[43m)\u001b[49m\u001b[43m:\u001b[49m\n\u001b[1;32m     19\u001b[0m \u001b[43m        \u001b[49m\u001b[43moptimizer\u001b[49m\u001b[38;5;241;43m.\u001b[39;49m\u001b[43mzero_grad\u001b[49m\u001b[43m(\u001b[49m\u001b[43m)\u001b[49m\n\u001b[1;32m     20\u001b[0m \u001b[43m        \u001b[49m\u001b[43mtrain_prediction\u001b[49m\u001b[43m \u001b[49m\u001b[38;5;241;43m=\u001b[39;49m\u001b[43m \u001b[49m\u001b[43mgraph_vae_model\u001b[49m\u001b[43m(\u001b[49m\u001b[43mtrain_batch\u001b[49m\u001b[43m)\u001b[49m\n",
      "File \u001b[0;32m~/miniconda3/envs/idp/lib/python3.11/site-packages/tqdm/std.py:1182\u001b[0m, in \u001b[0;36mtqdm.__iter__\u001b[0;34m(self)\u001b[0m\n\u001b[1;32m   1179\u001b[0m time \u001b[38;5;241m=\u001b[39m \u001b[38;5;28mself\u001b[39m\u001b[38;5;241m.\u001b[39m_time\n\u001b[1;32m   1181\u001b[0m \u001b[38;5;28;01mtry\u001b[39;00m:\n\u001b[0;32m-> 1182\u001b[0m \u001b[43m    \u001b[49m\u001b[38;5;28;43;01mfor\u001b[39;49;00m\u001b[43m \u001b[49m\u001b[43mobj\u001b[49m\u001b[43m \u001b[49m\u001b[38;5;129;43;01min\u001b[39;49;00m\u001b[43m \u001b[49m\u001b[43miterable\u001b[49m\u001b[43m:\u001b[49m\n\u001b[1;32m   1183\u001b[0m \u001b[43m        \u001b[49m\u001b[38;5;28;43;01myield\u001b[39;49;00m\u001b[43m \u001b[49m\u001b[43mobj\u001b[49m\n\u001b[1;32m   1184\u001b[0m \u001b[43m        \u001b[49m\u001b[38;5;66;43;03m# Update and possibly print the progressbar.\u001b[39;49;00m\n\u001b[1;32m   1185\u001b[0m \u001b[43m        \u001b[49m\u001b[38;5;66;43;03m# Note: does not call self.update(1) for speed optimisation.\u001b[39;49;00m\n",
      "File \u001b[0;32m~/miniconda3/envs/idp/lib/python3.11/site-packages/torch/utils/data/dataloader.py:630\u001b[0m, in \u001b[0;36m_BaseDataLoaderIter.__next__\u001b[0;34m(self)\u001b[0m\n\u001b[1;32m    627\u001b[0m \u001b[38;5;28;01mif\u001b[39;00m \u001b[38;5;28mself\u001b[39m\u001b[38;5;241m.\u001b[39m_sampler_iter \u001b[38;5;129;01mis\u001b[39;00m \u001b[38;5;28;01mNone\u001b[39;00m:\n\u001b[1;32m    628\u001b[0m     \u001b[38;5;66;03m# TODO(https://github.com/pytorch/pytorch/issues/76750)\u001b[39;00m\n\u001b[1;32m    629\u001b[0m     \u001b[38;5;28mself\u001b[39m\u001b[38;5;241m.\u001b[39m_reset()  \u001b[38;5;66;03m# type: ignore[call-arg]\u001b[39;00m\n\u001b[0;32m--> 630\u001b[0m data \u001b[38;5;241m=\u001b[39m \u001b[38;5;28;43mself\u001b[39;49m\u001b[38;5;241;43m.\u001b[39;49m\u001b[43m_next_data\u001b[49m\u001b[43m(\u001b[49m\u001b[43m)\u001b[49m\n\u001b[1;32m    631\u001b[0m \u001b[38;5;28mself\u001b[39m\u001b[38;5;241m.\u001b[39m_num_yielded \u001b[38;5;241m+\u001b[39m\u001b[38;5;241m=\u001b[39m \u001b[38;5;241m1\u001b[39m\n\u001b[1;32m    632\u001b[0m \u001b[38;5;28;01mif\u001b[39;00m \u001b[38;5;28mself\u001b[39m\u001b[38;5;241m.\u001b[39m_dataset_kind \u001b[38;5;241m==\u001b[39m _DatasetKind\u001b[38;5;241m.\u001b[39mIterable \u001b[38;5;129;01mand\u001b[39;00m \\\n\u001b[1;32m    633\u001b[0m         \u001b[38;5;28mself\u001b[39m\u001b[38;5;241m.\u001b[39m_IterableDataset_len_called \u001b[38;5;129;01mis\u001b[39;00m \u001b[38;5;129;01mnot\u001b[39;00m \u001b[38;5;28;01mNone\u001b[39;00m \u001b[38;5;129;01mand\u001b[39;00m \\\n\u001b[1;32m    634\u001b[0m         \u001b[38;5;28mself\u001b[39m\u001b[38;5;241m.\u001b[39m_num_yielded \u001b[38;5;241m>\u001b[39m \u001b[38;5;28mself\u001b[39m\u001b[38;5;241m.\u001b[39m_IterableDataset_len_called:\n",
      "File \u001b[0;32m~/miniconda3/envs/idp/lib/python3.11/site-packages/torch/utils/data/dataloader.py:674\u001b[0m, in \u001b[0;36m_SingleProcessDataLoaderIter._next_data\u001b[0;34m(self)\u001b[0m\n\u001b[1;32m    672\u001b[0m \u001b[38;5;28;01mdef\u001b[39;00m \u001b[38;5;21m_next_data\u001b[39m(\u001b[38;5;28mself\u001b[39m):\n\u001b[1;32m    673\u001b[0m     index \u001b[38;5;241m=\u001b[39m \u001b[38;5;28mself\u001b[39m\u001b[38;5;241m.\u001b[39m_next_index()  \u001b[38;5;66;03m# may raise StopIteration\u001b[39;00m\n\u001b[0;32m--> 674\u001b[0m     data \u001b[38;5;241m=\u001b[39m \u001b[38;5;28;43mself\u001b[39;49m\u001b[38;5;241;43m.\u001b[39;49m\u001b[43m_dataset_fetcher\u001b[49m\u001b[38;5;241;43m.\u001b[39;49m\u001b[43mfetch\u001b[49m\u001b[43m(\u001b[49m\u001b[43mindex\u001b[49m\u001b[43m)\u001b[49m  \u001b[38;5;66;03m# may raise StopIteration\u001b[39;00m\n\u001b[1;32m    675\u001b[0m     \u001b[38;5;28;01mif\u001b[39;00m \u001b[38;5;28mself\u001b[39m\u001b[38;5;241m.\u001b[39m_pin_memory:\n\u001b[1;32m    676\u001b[0m         data \u001b[38;5;241m=\u001b[39m _utils\u001b[38;5;241m.\u001b[39mpin_memory\u001b[38;5;241m.\u001b[39mpin_memory(data, \u001b[38;5;28mself\u001b[39m\u001b[38;5;241m.\u001b[39m_pin_memory_device)\n",
      "File \u001b[0;32m~/miniconda3/envs/idp/lib/python3.11/site-packages/torch/utils/data/_utils/fetch.py:51\u001b[0m, in \u001b[0;36m_MapDatasetFetcher.fetch\u001b[0;34m(self, possibly_batched_index)\u001b[0m\n\u001b[1;32m     49\u001b[0m         data \u001b[38;5;241m=\u001b[39m \u001b[38;5;28mself\u001b[39m\u001b[38;5;241m.\u001b[39mdataset\u001b[38;5;241m.\u001b[39m__getitems__(possibly_batched_index)\n\u001b[1;32m     50\u001b[0m     \u001b[38;5;28;01melse\u001b[39;00m:\n\u001b[0;32m---> 51\u001b[0m         data \u001b[38;5;241m=\u001b[39m \u001b[43m[\u001b[49m\u001b[38;5;28;43mself\u001b[39;49m\u001b[38;5;241;43m.\u001b[39;49m\u001b[43mdataset\u001b[49m\u001b[43m[\u001b[49m\u001b[43midx\u001b[49m\u001b[43m]\u001b[49m\u001b[43m \u001b[49m\u001b[38;5;28;43;01mfor\u001b[39;49;00m\u001b[43m \u001b[49m\u001b[43midx\u001b[49m\u001b[43m \u001b[49m\u001b[38;5;129;43;01min\u001b[39;49;00m\u001b[43m \u001b[49m\u001b[43mpossibly_batched_index\u001b[49m\u001b[43m]\u001b[49m\n\u001b[1;32m     52\u001b[0m \u001b[38;5;28;01melse\u001b[39;00m:\n\u001b[1;32m     53\u001b[0m     data \u001b[38;5;241m=\u001b[39m \u001b[38;5;28mself\u001b[39m\u001b[38;5;241m.\u001b[39mdataset[possibly_batched_index]\n",
      "File \u001b[0;32m~/miniconda3/envs/idp/lib/python3.11/site-packages/torch/utils/data/_utils/fetch.py:51\u001b[0m, in \u001b[0;36m<listcomp>\u001b[0;34m(.0)\u001b[0m\n\u001b[1;32m     49\u001b[0m         data \u001b[38;5;241m=\u001b[39m \u001b[38;5;28mself\u001b[39m\u001b[38;5;241m.\u001b[39mdataset\u001b[38;5;241m.\u001b[39m__getitems__(possibly_batched_index)\n\u001b[1;32m     50\u001b[0m     \u001b[38;5;28;01melse\u001b[39;00m:\n\u001b[0;32m---> 51\u001b[0m         data \u001b[38;5;241m=\u001b[39m [\u001b[38;5;28;43mself\u001b[39;49m\u001b[38;5;241;43m.\u001b[39;49m\u001b[43mdataset\u001b[49m\u001b[43m[\u001b[49m\u001b[43midx\u001b[49m\u001b[43m]\u001b[49m \u001b[38;5;28;01mfor\u001b[39;00m idx \u001b[38;5;129;01min\u001b[39;00m possibly_batched_index]\n\u001b[1;32m     52\u001b[0m \u001b[38;5;28;01melse\u001b[39;00m:\n\u001b[1;32m     53\u001b[0m     data \u001b[38;5;241m=\u001b[39m \u001b[38;5;28mself\u001b[39m\u001b[38;5;241m.\u001b[39mdataset[possibly_batched_index]\n",
      "File \u001b[0;32m~/miniconda3/envs/idp/lib/python3.11/site-packages/torch_geometric/data/dataset.py:264\u001b[0m, in \u001b[0;36mDataset.__getitem__\u001b[0;34m(self, idx)\u001b[0m\n\u001b[1;32m    259\u001b[0m \u001b[38;5;28;01mif\u001b[39;00m (\u001b[38;5;28misinstance\u001b[39m(idx, (\u001b[38;5;28mint\u001b[39m, np\u001b[38;5;241m.\u001b[39minteger))\n\u001b[1;32m    260\u001b[0m         \u001b[38;5;129;01mor\u001b[39;00m (\u001b[38;5;28misinstance\u001b[39m(idx, Tensor) \u001b[38;5;129;01mand\u001b[39;00m idx\u001b[38;5;241m.\u001b[39mdim() \u001b[38;5;241m==\u001b[39m \u001b[38;5;241m0\u001b[39m)\n\u001b[1;32m    261\u001b[0m         \u001b[38;5;129;01mor\u001b[39;00m (\u001b[38;5;28misinstance\u001b[39m(idx, np\u001b[38;5;241m.\u001b[39mndarray) \u001b[38;5;129;01mand\u001b[39;00m np\u001b[38;5;241m.\u001b[39misscalar(idx))):\n\u001b[1;32m    263\u001b[0m     data \u001b[38;5;241m=\u001b[39m \u001b[38;5;28mself\u001b[39m\u001b[38;5;241m.\u001b[39mget(\u001b[38;5;28mself\u001b[39m\u001b[38;5;241m.\u001b[39mindices()[idx])\n\u001b[0;32m--> 264\u001b[0m     data \u001b[38;5;241m=\u001b[39m data \u001b[38;5;28;01mif\u001b[39;00m \u001b[38;5;28mself\u001b[39m\u001b[38;5;241m.\u001b[39mtransform \u001b[38;5;129;01mis\u001b[39;00m \u001b[38;5;28;01mNone\u001b[39;00m \u001b[38;5;28;01melse\u001b[39;00m \u001b[38;5;28;43mself\u001b[39;49m\u001b[38;5;241;43m.\u001b[39;49m\u001b[43mtransform\u001b[49m\u001b[43m(\u001b[49m\u001b[43mdata\u001b[49m\u001b[43m)\u001b[49m\n\u001b[1;32m    265\u001b[0m     \u001b[38;5;28;01mreturn\u001b[39;00m data\n\u001b[1;32m    267\u001b[0m \u001b[38;5;28;01melse\u001b[39;00m:\n",
      "File \u001b[0;32m~/miniconda3/envs/idp/lib/python3.11/site-packages/torch_geometric/transforms/base_transform.py:32\u001b[0m, in \u001b[0;36mBaseTransform.__call__\u001b[0;34m(self, data)\u001b[0m\n\u001b[1;32m     30\u001b[0m \u001b[38;5;28;01mdef\u001b[39;00m \u001b[38;5;21m__call__\u001b[39m(\u001b[38;5;28mself\u001b[39m, data: Any) \u001b[38;5;241m-\u001b[39m\u001b[38;5;241m>\u001b[39m Any:\n\u001b[1;32m     31\u001b[0m     \u001b[38;5;66;03m# Shallow-copy the data so that we prevent in-place data modification.\u001b[39;00m\n\u001b[0;32m---> 32\u001b[0m     \u001b[38;5;28;01mreturn\u001b[39;00m \u001b[38;5;28;43mself\u001b[39;49m\u001b[38;5;241;43m.\u001b[39;49m\u001b[43mforward\u001b[49m\u001b[43m(\u001b[49m\u001b[43mcopy\u001b[49m\u001b[38;5;241;43m.\u001b[39;49m\u001b[43mcopy\u001b[49m\u001b[43m(\u001b[49m\u001b[43mdata\u001b[49m\u001b[43m)\u001b[49m\u001b[43m)\u001b[49m\n",
      "File \u001b[0;32m~/miniconda3/envs/idp/lib/python3.11/site-packages/torch_geometric/transforms/compose.py:24\u001b[0m, in \u001b[0;36mCompose.forward\u001b[0;34m(self, data)\u001b[0m\n\u001b[1;32m     22\u001b[0m         data \u001b[38;5;241m=\u001b[39m [transform(d) \u001b[38;5;28;01mfor\u001b[39;00m d \u001b[38;5;129;01min\u001b[39;00m data]\n\u001b[1;32m     23\u001b[0m     \u001b[38;5;28;01melse\u001b[39;00m:\n\u001b[0;32m---> 24\u001b[0m         data \u001b[38;5;241m=\u001b[39m \u001b[43mtransform\u001b[49m\u001b[43m(\u001b[49m\u001b[43mdata\u001b[49m\u001b[43m)\u001b[49m\n\u001b[1;32m     25\u001b[0m \u001b[38;5;28;01mreturn\u001b[39;00m data\n",
      "File \u001b[0;32m~/miniconda3/envs/idp/lib/python3.11/site-packages/torch_geometric/transforms/base_transform.py:32\u001b[0m, in \u001b[0;36mBaseTransform.__call__\u001b[0;34m(self, data)\u001b[0m\n\u001b[1;32m     30\u001b[0m \u001b[38;5;28;01mdef\u001b[39;00m \u001b[38;5;21m__call__\u001b[39m(\u001b[38;5;28mself\u001b[39m, data: Any) \u001b[38;5;241m-\u001b[39m\u001b[38;5;241m>\u001b[39m Any:\n\u001b[1;32m     31\u001b[0m     \u001b[38;5;66;03m# Shallow-copy the data so that we prevent in-place data modification.\u001b[39;00m\n\u001b[0;32m---> 32\u001b[0m     \u001b[38;5;28;01mreturn\u001b[39;00m \u001b[38;5;28;43mself\u001b[39;49m\u001b[38;5;241;43m.\u001b[39;49m\u001b[43mforward\u001b[49m\u001b[43m(\u001b[49m\u001b[43mcopy\u001b[49m\u001b[38;5;241;43m.\u001b[39;49m\u001b[43mcopy\u001b[49m\u001b[43m(\u001b[49m\u001b[43mdata\u001b[49m\u001b[43m)\u001b[49m\u001b[43m)\u001b[49m\n",
      "File \u001b[0;32m~/miniconda3/envs/idp/lib/python3.11/site-packages/torch_geometric/transforms/to_device.py:36\u001b[0m, in \u001b[0;36mToDevice.forward\u001b[0;34m(self, data)\u001b[0m\n\u001b[1;32m     32\u001b[0m \u001b[38;5;28;01mdef\u001b[39;00m \u001b[38;5;21mforward\u001b[39m(\n\u001b[1;32m     33\u001b[0m     \u001b[38;5;28mself\u001b[39m,\n\u001b[1;32m     34\u001b[0m     data: Union[Data, HeteroData],\n\u001b[1;32m     35\u001b[0m ) \u001b[38;5;241m-\u001b[39m\u001b[38;5;241m>\u001b[39m Union[Data, HeteroData]:\n\u001b[0;32m---> 36\u001b[0m     \u001b[38;5;28;01mreturn\u001b[39;00m \u001b[43mdata\u001b[49m\u001b[38;5;241;43m.\u001b[39;49m\u001b[43mto\u001b[49m\u001b[43m(\u001b[49m\u001b[38;5;28;43mself\u001b[39;49m\u001b[38;5;241;43m.\u001b[39;49m\u001b[43mdevice\u001b[49m\u001b[43m,\u001b[49m\u001b[43m \u001b[49m\u001b[38;5;241;43m*\u001b[39;49m\u001b[38;5;28;43mself\u001b[39;49m\u001b[38;5;241;43m.\u001b[39;49m\u001b[43mattrs\u001b[49m\u001b[43m,\u001b[49m\n\u001b[1;32m     37\u001b[0m \u001b[43m                   \u001b[49m\u001b[43mnon_blocking\u001b[49m\u001b[38;5;241;43m=\u001b[39;49m\u001b[38;5;28;43mself\u001b[39;49m\u001b[38;5;241;43m.\u001b[39;49m\u001b[43mnon_blocking\u001b[49m\u001b[43m)\u001b[49m\n",
      "File \u001b[0;32m~/miniconda3/envs/idp/lib/python3.11/site-packages/torch_geometric/data/data.py:297\u001b[0m, in \u001b[0;36mBaseData.to\u001b[0;34m(self, device, non_blocking, *args)\u001b[0m\n\u001b[1;32m    293\u001b[0m \u001b[38;5;28;01mdef\u001b[39;00m \u001b[38;5;21mto\u001b[39m(\u001b[38;5;28mself\u001b[39m, device: Union[\u001b[38;5;28mint\u001b[39m, \u001b[38;5;28mstr\u001b[39m], \u001b[38;5;241m*\u001b[39margs: \u001b[38;5;28mstr\u001b[39m,\n\u001b[1;32m    294\u001b[0m        non_blocking: \u001b[38;5;28mbool\u001b[39m \u001b[38;5;241m=\u001b[39m \u001b[38;5;28;01mFalse\u001b[39;00m):\n\u001b[1;32m    295\u001b[0m \u001b[38;5;250m    \u001b[39m\u001b[38;5;124mr\u001b[39m\u001b[38;5;124;03m\"\"\"Performs tensor device conversion, either for all attributes or\u001b[39;00m\n\u001b[1;32m    296\u001b[0m \u001b[38;5;124;03m    only the ones given in :obj:`*args`.\"\"\"\u001b[39;00m\n\u001b[0;32m--> 297\u001b[0m     \u001b[38;5;28;01mreturn\u001b[39;00m \u001b[38;5;28;43mself\u001b[39;49m\u001b[38;5;241;43m.\u001b[39;49m\u001b[43mapply\u001b[49m\u001b[43m(\u001b[49m\n\u001b[1;32m    298\u001b[0m \u001b[43m        \u001b[49m\u001b[38;5;28;43;01mlambda\u001b[39;49;00m\u001b[43m \u001b[49m\u001b[43mx\u001b[49m\u001b[43m:\u001b[49m\u001b[43m \u001b[49m\u001b[43mx\u001b[49m\u001b[38;5;241;43m.\u001b[39;49m\u001b[43mto\u001b[49m\u001b[43m(\u001b[49m\u001b[43mdevice\u001b[49m\u001b[38;5;241;43m=\u001b[39;49m\u001b[43mdevice\u001b[49m\u001b[43m,\u001b[49m\u001b[43m \u001b[49m\u001b[43mnon_blocking\u001b[49m\u001b[38;5;241;43m=\u001b[39;49m\u001b[43mnon_blocking\u001b[49m\u001b[43m)\u001b[49m\u001b[43m,\u001b[49m\u001b[43m \u001b[49m\u001b[38;5;241;43m*\u001b[39;49m\u001b[43margs\u001b[49m\u001b[43m)\u001b[49m\n",
      "File \u001b[0;32m~/miniconda3/envs/idp/lib/python3.11/site-packages/torch_geometric/data/data.py:280\u001b[0m, in \u001b[0;36mBaseData.apply\u001b[0;34m(self, func, *args)\u001b[0m\n\u001b[1;32m    277\u001b[0m \u001b[38;5;250m\u001b[39m\u001b[38;5;124mr\u001b[39m\u001b[38;5;124;03m\"\"\"Applies the function :obj:`func`, either to all attributes or only\u001b[39;00m\n\u001b[1;32m    278\u001b[0m \u001b[38;5;124;03mthe ones given in :obj:`*args`.\"\"\"\u001b[39;00m\n\u001b[1;32m    279\u001b[0m \u001b[38;5;28;01mfor\u001b[39;00m store \u001b[38;5;129;01min\u001b[39;00m \u001b[38;5;28mself\u001b[39m\u001b[38;5;241m.\u001b[39mstores:\n\u001b[0;32m--> 280\u001b[0m     \u001b[43mstore\u001b[49m\u001b[38;5;241;43m.\u001b[39;49m\u001b[43mapply\u001b[49m\u001b[43m(\u001b[49m\u001b[43mfunc\u001b[49m\u001b[43m,\u001b[49m\u001b[43m \u001b[49m\u001b[38;5;241;43m*\u001b[39;49m\u001b[43margs\u001b[49m\u001b[43m)\u001b[49m\n\u001b[1;32m    281\u001b[0m \u001b[38;5;28;01mreturn\u001b[39;00m \u001b[38;5;28mself\u001b[39m\n",
      "File \u001b[0;32m~/miniconda3/envs/idp/lib/python3.11/site-packages/torch_geometric/data/storage.py:191\u001b[0m, in \u001b[0;36mBaseStorage.apply\u001b[0;34m(self, func, *args)\u001b[0m\n\u001b[1;32m    188\u001b[0m \u001b[38;5;250m\u001b[39m\u001b[38;5;124mr\u001b[39m\u001b[38;5;124;03m\"\"\"Applies the function :obj:`func`, either to all attributes or only\u001b[39;00m\n\u001b[1;32m    189\u001b[0m \u001b[38;5;124;03mthe ones given in :obj:`*args`.\"\"\"\u001b[39;00m\n\u001b[1;32m    190\u001b[0m \u001b[38;5;28;01mfor\u001b[39;00m key, value \u001b[38;5;129;01min\u001b[39;00m \u001b[38;5;28mself\u001b[39m\u001b[38;5;241m.\u001b[39mitems(\u001b[38;5;241m*\u001b[39margs):\n\u001b[0;32m--> 191\u001b[0m     \u001b[38;5;28mself\u001b[39m[key] \u001b[38;5;241m=\u001b[39m \u001b[43mrecursive_apply\u001b[49m\u001b[43m(\u001b[49m\u001b[43mvalue\u001b[49m\u001b[43m,\u001b[49m\u001b[43m \u001b[49m\u001b[43mfunc\u001b[49m\u001b[43m)\u001b[49m\n\u001b[1;32m    192\u001b[0m \u001b[38;5;28;01mreturn\u001b[39;00m \u001b[38;5;28mself\u001b[39m\n",
      "File \u001b[0;32m~/miniconda3/envs/idp/lib/python3.11/site-packages/torch_geometric/data/storage.py:743\u001b[0m, in \u001b[0;36mrecursive_apply\u001b[0;34m(data, func)\u001b[0m\n\u001b[1;32m    741\u001b[0m \u001b[38;5;28;01mdef\u001b[39;00m \u001b[38;5;21mrecursive_apply\u001b[39m(data: Any, func: Callable) \u001b[38;5;241m-\u001b[39m\u001b[38;5;241m>\u001b[39m Any:\n\u001b[1;32m    742\u001b[0m     \u001b[38;5;28;01mif\u001b[39;00m \u001b[38;5;28misinstance\u001b[39m(data, Tensor):\n\u001b[0;32m--> 743\u001b[0m         \u001b[38;5;28;01mreturn\u001b[39;00m \u001b[43mfunc\u001b[49m\u001b[43m(\u001b[49m\u001b[43mdata\u001b[49m\u001b[43m)\u001b[49m\n\u001b[1;32m    744\u001b[0m     \u001b[38;5;28;01melif\u001b[39;00m \u001b[38;5;28misinstance\u001b[39m(data, torch\u001b[38;5;241m.\u001b[39mnn\u001b[38;5;241m.\u001b[39mutils\u001b[38;5;241m.\u001b[39mrnn\u001b[38;5;241m.\u001b[39mPackedSequence):\n\u001b[1;32m    745\u001b[0m         \u001b[38;5;28;01mreturn\u001b[39;00m func(data)\n",
      "File \u001b[0;32m~/miniconda3/envs/idp/lib/python3.11/site-packages/torch_geometric/data/data.py:298\u001b[0m, in \u001b[0;36mBaseData.to.<locals>.<lambda>\u001b[0;34m(x)\u001b[0m\n\u001b[1;32m    293\u001b[0m \u001b[38;5;28;01mdef\u001b[39;00m \u001b[38;5;21mto\u001b[39m(\u001b[38;5;28mself\u001b[39m, device: Union[\u001b[38;5;28mint\u001b[39m, \u001b[38;5;28mstr\u001b[39m], \u001b[38;5;241m*\u001b[39margs: \u001b[38;5;28mstr\u001b[39m,\n\u001b[1;32m    294\u001b[0m        non_blocking: \u001b[38;5;28mbool\u001b[39m \u001b[38;5;241m=\u001b[39m \u001b[38;5;28;01mFalse\u001b[39;00m):\n\u001b[1;32m    295\u001b[0m \u001b[38;5;250m    \u001b[39m\u001b[38;5;124mr\u001b[39m\u001b[38;5;124;03m\"\"\"Performs tensor device conversion, either for all attributes or\u001b[39;00m\n\u001b[1;32m    296\u001b[0m \u001b[38;5;124;03m    only the ones given in :obj:`*args`.\"\"\"\u001b[39;00m\n\u001b[1;32m    297\u001b[0m     \u001b[38;5;28;01mreturn\u001b[39;00m \u001b[38;5;28mself\u001b[39m\u001b[38;5;241m.\u001b[39mapply(\n\u001b[0;32m--> 298\u001b[0m         \u001b[38;5;28;01mlambda\u001b[39;00m x: \u001b[43mx\u001b[49m\u001b[38;5;241;43m.\u001b[39;49m\u001b[43mto\u001b[49m\u001b[43m(\u001b[49m\u001b[43mdevice\u001b[49m\u001b[38;5;241;43m=\u001b[39;49m\u001b[43mdevice\u001b[49m\u001b[43m,\u001b[49m\u001b[43m \u001b[49m\u001b[43mnon_blocking\u001b[49m\u001b[38;5;241;43m=\u001b[39;49m\u001b[43mnon_blocking\u001b[49m\u001b[43m)\u001b[49m, \u001b[38;5;241m*\u001b[39margs)\n",
      "\u001b[0;31mKeyboardInterrupt\u001b[0m: "
     ]
    }
   ],
   "source": [
    "graph_vae_model = GraphVAE(hparams=hparams).to(device=device)\n",
    "optimizer = torch.optim.Adam(\n",
    "    graph_vae_model.parameters(),\n",
    "    lr=hparams[\"learning_rate\"],\n",
    "    betas=(hparams[\"beta_1\"], 0.999)\n",
    ")\n",
    "epochs = hparams[\"epochs\"]\n",
    "\n",
    "train_loader = dataloaders[\"train_tiny\"]\n",
    "val_subset_loader_iterator = itertools.cycle(dataloaders[\"val_subsets\"])\n",
    "\n",
    "validation_interval = 50\n",
    "\n",
    "writer = create_tensorboard_writer(experiment_name=\"graph-vae\")\n",
    "\n",
    "for epoch in range(epochs):\n",
    "    graph_vae_model.train()\n",
    "    for batch_index, train_batch in enumerate(tqdm(train_loader,  desc=f\"Epoch {epoch + 1} Training\")):\n",
    "        optimizer.zero_grad()\n",
    "        train_prediction = graph_vae_model(train_batch)\n",
    "        train_target = (train_batch.adj_triu_mat, train_batch.node_mat, train_batch.edge_triu_mat)\n",
    "\n",
    "        loss = graph_vae_model.negative_elbo(x=train_batch)\n",
    "\n",
    "        loss.backward()\n",
    "        optimizer.step()\n",
    "\n",
    "        iteration = len(train_loader) * epoch + batch_index\n",
    "        writer.add_scalars(\"Loss\", {\"Training\": loss.item()}, iteration)\n",
    "\n",
    "        if iteration % validation_interval == 0:\n",
    "            graph_vae_model.eval()\n",
    "            val_loss_sum = 0\n",
    "\n",
    "            # Get the next subset of the validation set\n",
    "            val_loader = next(val_subset_loader_iterator)\n",
    "            with torch.no_grad():\n",
    "                for val_batch in val_loader:\n",
    "                    val_loss_sum += graph_vae_model.negative_elbo(x=val_batch)\n",
    "            \n",
    "            val_loss = val_loss_sum / len(val_loader)\n",
    "            writer.add_scalars(\"Loss\", {\"Validation\": val_loss.item()}, iteration)\n",
    "            \n",
    "            graph_vae_model.train()\n",
    "\n",
    "    # Visualization\n",
    "    # get random mol from train dataset and visualize\n",
    "    sample_index = random.randint(0, len(train_loader) * batch_size)\n",
    "    sample = train_dataset[sample_index]\n",
    "    print(sample)\n",
    "    writer.add_image('Input', molecule_graph_data_to_image(sample), global_step=epoch, dataformats=\"NCHW\")\n",
    "\n",
    "    # encode and decode the molecule\n",
    "    graph_vae_model.eval()\n",
    "    pred_adj_triu_mat, pred_node_mat, pred_edge_triu_mat = graph_vae_model(sample)\n",
    "\n",
    "    #####################################\n",
    "    # Convert predicted matrices to graph\n",
    "    #####################################\n",
    "\n",
    "    # drop the batch dimension\n",
    "    pred_adj_triu_mat = pred_adj_triu_mat[0]\n",
    "    pred_node_mat = pred_node_mat[0]\n",
    "    pred_edge_triu_mat = pred_edge_triu_mat[0]\n",
    "\n",
    "    n = hparams[\"max_num_nodes\"]\n",
    "\n",
    "    edge_triu_mat = pred_edge_triu_mat.argmax(dim=1).float()\n",
    "    edge_mat = torch.zeros(n, n, device=device)\n",
    "    edge_mat[torch.ones(n, n).triu(diagonal=1) == 1] = edge_triu_mat\n",
    "    edge_mat = edge_mat + 1  # add one so we can so that 0 indicates no node instea of hydrogen\n",
    "\n",
    "    # convert predicted upper triagular matrix into symmetric edge index and\n",
    "    adj_triu_mat = torch.where(F.sigmoid(pred_adj_triu_mat) > 0.5, 1.0, 0.0)\n",
    "    adj_mat = torch.zeros(n, n, device=device)\n",
    "    adj_mat[torch.ones(n, n).triu() == 1] = adj_triu_mat\n",
    "    diagonal = adj_mat.diagonal()\n",
    "\n",
    "    # combine the adjacency matrix with edge features\n",
    "    edge_mat *= adj_mat\n",
    "\n",
    "    node_mask = diagonal == 1\n",
    "    edge_index, edge_attr = dense_to_sparse(adj=edge_mat.unsqueeze(0), mask=node_mask.unsqueeze(0))\n",
    "\n",
    "    edge_attr = F.one_hot((edge_attr - 1).long(), num_classes=num_edge_features)\n",
    "\n",
    "    # Adjust indices in edge_index to account for removed nodes\n",
    "    # Create a mapping from old indices to new indices\n",
    "    old_to_new_indices = torch.cumsum(node_mask, 0) - 1\n",
    "    old_to_new_indices[~node_mask] = -1\n",
    "    new_edge_index = old_to_new_indices[edge_index]\n",
    "\n",
    "    # Remove edges that contain removed nodes\n",
    "    valid_edges = (new_edge_index >= 0).all(dim=0)\n",
    "    new_edge_index = new_edge_index[:, valid_edges]\n",
    "    new_edge_attr = edge_attr[valid_edges, :]\n",
    "\n",
    "    edge_index, edge_attr = remove_self_loops(edge_index=new_edge_index, edge_attr=new_edge_attr)\n",
    "\n",
    "    # convert node feature logits into one-hot vector\n",
    "    x = F.one_hot(pred_node_mat[node_mask].argmax(dim=1), num_classes=num_node_features)\n",
    "\n",
    "    reconstructed_sample = Data(x=x, edge_index=edge_index, edge_attr=edge_attr)\n",
    "    print(reconstructed_sample)\n",
    "    \n",
    "    writer.add_image('Reconstruction', molecule_graph_data_to_image(reconstructed_sample), global_step=epoch, dataformats=\"NCHW\")  \n"
   ]
  }
 ],
 "metadata": {
  "kernelspec": {
   "display_name": "idp",
   "language": "python",
   "name": "python3"
  },
  "language_info": {
   "codemirror_mode": {
    "name": "ipython",
    "version": 3
   },
   "file_extension": ".py",
   "mimetype": "text/x-python",
   "name": "python",
   "nbconvert_exporter": "python",
   "pygments_lexer": "ipython3",
   "version": "3.11.5"
  }
 },
 "nbformat": 4,
 "nbformat_minor": 2
}
