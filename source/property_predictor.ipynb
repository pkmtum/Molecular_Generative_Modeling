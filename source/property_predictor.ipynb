{
 "cells": [
  {
   "cell_type": "code",
   "execution_count": 39,
   "metadata": {},
   "outputs": [
    {
     "name": "stdout",
     "output_type": "stream",
     "text": [
      "The autoreload extension is already loaded. To reload it, use:\n",
      "  %reload_ext autoreload\n",
      "cuda\n",
      "Training dataset size = 104665\n",
      "Validation dataset size = 13083\n",
      "Test dataset size = 13083\n"
     ]
    }
   ],
   "source": [
    "%load_ext autoreload\n",
    "%autoreload 2\n",
    "\n",
    "from torch_geometric.datasets import QM9\n",
    "import torch_geometric.transforms as T\n",
    "import torch\n",
    "from torch_geometric.loader import DataLoader\n",
    "from data_utils import SelectQM9TargetProperties, create_qm9_data_split, SelectQM9NodeFeatures\n",
    "from tqdm import tqdm\n",
    "\n",
    "device = torch.device('cuda' if torch.cuda.is_available() else 'cpu')\n",
    "print(device)\n",
    "\n",
    "transform = T.Compose([\n",
    "    SelectQM9TargetProperties(properties=[\"homo\", \"lumo\"]),\n",
    "    SelectQM9NodeFeatures(features=[\"atom_type\"]),\n",
    "    T.ToDevice(device=device)\n",
    "])\n",
    "\n",
    "dataset = QM9(root=\"./data\", transform=transform)\n",
    "\n",
    "train_dataset, val_dataset, test_dataset = create_qm9_data_split(dataset=dataset)\n",
    "\n",
    "print(f\"Training dataset size = {len(train_dataset)}\")\n",
    "print(f\"Validation dataset size = {len(val_dataset)}\")\n",
    "print(f\"Test dataset size = {len(test_dataset)}\")\n",
    "\n",
    "num_node_features = dataset.num_node_features\n",
    "num_targets = dataset.num_classes\n",
    "num_edge_features = dataset.num_edge_features"
   ]
  },
  {
   "cell_type": "markdown",
   "metadata": {},
   "source": [
    "## Create Dataloaders"
   ]
  },
  {
   "cell_type": "code",
   "execution_count": 40,
   "metadata": {},
   "outputs": [],
   "source": [
    "from typing import List\n",
    "import math\n",
    "\n",
    "batch_size = 128\n",
    "\n",
    "dataloaders = {\n",
    "    \"train_single\": DataLoader(train_dataset[:1], batch_size=batch_size, shuffle=True),\n",
    "    \"train_tiny\": DataLoader(train_dataset[:16], batch_size=batch_size, shuffle=True),\n",
    "    \"train_small\": DataLoader(train_dataset[:4096], batch_size=batch_size, shuffle=True),\n",
    "    \"train\": DataLoader(train_dataset, batch_size=batch_size, shuffle=True),\n",
    "\n",
    "    \"val_small\": DataLoader(val_dataset[:512], batch_size=batch_size, shuffle=False),\n",
    "    \"val\": DataLoader(val_dataset, batch_size=batch_size, shuffle=False)\n",
    "}\n",
    "\n",
    "def create_validation_subset_loaders(validation_dataset, subset_count):\n",
    "    \"\"\" Create random subsets of the validation set for fast validation. \"\"\"\n",
    "    validation_subsets = []\n",
    "    generator = torch.manual_seed(420)\n",
    "    validation_indices = torch.randperm(len(validation_dataset), generator=generator).tolist()\n",
    "    subset_size = math.ceil(len(validation_dataset) / subset_count)\n",
    "    for i in range(subset_count):\n",
    "        start_index = subset_size * i\n",
    "        end_index = min(subset_size * (i + 1), len(validation_dataset))\n",
    "        val_subset = torch.utils.data.Subset(validation_dataset, validation_indices[start_index:end_index])\n",
    "        validation_subsets.append(DataLoader(val_subset, batch_size=batch_size, shuffle=False))\n",
    "    return validation_subsets\n",
    "\n",
    "val_subset_count = 32\n",
    "dataloaders[\"val_subsets\"] = create_validation_subset_loaders(validation_dataset=val_dataset, subset_count=32)"
   ]
  },
  {
   "cell_type": "markdown",
   "metadata": {},
   "source": [
    "## Baseline model (mean prediction)"
   ]
  },
  {
   "cell_type": "markdown",
   "metadata": {},
   "source": [
    "### Training"
   ]
  },
  {
   "cell_type": "code",
   "execution_count": 41,
   "metadata": {},
   "outputs": [
    {
     "name": "stderr",
     "output_type": "stream",
     "text": [
      "  0%|          | 0/818 [00:00<?, ?it/s]"
     ]
    },
    {
     "name": "stderr",
     "output_type": "stream",
     "text": [
      "100%|██████████| 818/818 [00:42<00:00, 19.25it/s]\n"
     ]
    },
    {
     "name": "stdout",
     "output_type": "stream",
     "text": [
      "HOMO Mean = -6.53601598739624\n",
      "LUMO Mean = 0.3205300271511078\n"
     ]
    }
   ],
   "source": [
    "import torch.nn as nn\n",
    "\n",
    "train_loader = dataloaders[\"train\"]\n",
    "homo_mean_list = []\n",
    "lumo_mean_list = []\n",
    "for batch in tqdm(train_loader):\n",
    "    batch_mean = torch.mean(batch.y, dim=0)\n",
    "    homo_mean_list.append(batch_mean[0])\n",
    "    lumo_mean_list.append(batch_mean[1])\n",
    "\n",
    "homo_mean_pred = torch.tensor(homo_mean_list).mean()\n",
    "lumo_mean_pred = torch.tensor(lumo_mean_list).mean()\n",
    "print(f\"HOMO Mean = {homo_mean_pred}\")\n",
    "print(f\"LUMO Mean = {lumo_mean_pred}\")\n",
    "\n",
    "class MeanPredictor(nn.Module):\n",
    "    def __init__(self, property_mean_values: List[float]):\n",
    "        super().__init__()\n",
    "        # create mean prediction and add batch dimension\n",
    "        self.register_buffer('mean_prediction', torch.tensor(property_mean_values).unsqueeze(0))\n",
    "\n",
    "    def forward(self, x):\n",
    "        batch_size = x.y.shape[0]\n",
    "        return self.mean_prediction.expand(batch_size, -1)\n",
    "\n",
    "baseline_model = MeanPredictor(property_mean_values=[homo_mean_pred, lumo_mean_pred]).to(device)"
   ]
  },
  {
   "cell_type": "markdown",
   "metadata": {},
   "source": [
    "### Validation"
   ]
  },
  {
   "cell_type": "code",
   "execution_count": 42,
   "metadata": {},
   "outputs": [
    {
     "name": "stderr",
     "output_type": "stream",
     "text": [
      "  0%|          | 0/103 [00:00<?, ?it/s]"
     ]
    },
    {
     "name": "stderr",
     "output_type": "stream",
     "text": [
      "100%|██████████| 103/103 [00:07<00:00, 14.52it/s]"
     ]
    },
    {
     "name": "stdout",
     "output_type": "stream",
     "text": [
      "HOMO MAE (mean prediction) = 0.44092249870300293\n",
      "LUMO MAE (mean prediction) = 1.0540993213653564\n"
     ]
    },
    {
     "name": "stderr",
     "output_type": "stream",
     "text": [
      "\n"
     ]
    }
   ],
   "source": [
    "def evaluate_model_performance(validation_loader, model):\n",
    "    mae_sum = 0\n",
    "    for batch in tqdm(validation_loader):\n",
    "        prediction = model(batch)\n",
    "        mae_sum += torch.mean(torch.abs(prediction - batch.y), dim=0)\n",
    "\n",
    "    mean_absolute_error = mae_sum / len(validation_loader)\n",
    "\n",
    "    print(f\"HOMO MAE (mean prediction) = {mean_absolute_error[0]}\")\n",
    "    print(f\"LUMO MAE (mean prediction) = {mean_absolute_error[1]}\")\n",
    "\n",
    "val_loader = dataloaders[\"val\"]\n",
    "evaluate_model_performance(validation_loader=val_loader, model=baseline_model)"
   ]
  },
  {
   "cell_type": "markdown",
   "metadata": {},
   "source": [
    "## Graph Property Predictor"
   ]
  },
  {
   "cell_type": "code",
   "execution_count": 63,
   "metadata": {},
   "outputs": [],
   "source": [
    "import torch\n",
    "import torch.nn as nn\n",
    "import torch.nn.functional as F\n",
    "from torch_geometric.nn import GCNConv, global_mean_pool, NNConv\n",
    "\n",
    "class GraphPropertyPredictor(nn.Module):\n",
    "    def __init__(self, num_node_features: int, num_edge_features: int, num_targets: int):\n",
    "        super().__init__()\n",
    "        \n",
    "        conv_features = 16\n",
    "        self.nn_conv = NNConv(\n",
    "            in_channels=num_node_features,\n",
    "            out_channels=conv_features,\n",
    "            nn=nn.Sequential(\n",
    "                nn.Linear(num_edge_features, num_node_features * conv_features),\n",
    "            )\n",
    "        )\n",
    "        self.gcn_conv1 = GCNConv(conv_features, conv_features)\n",
    "        self.gcn_conv2 = GCNConv(conv_features, conv_features)\n",
    "        self.fc1 = nn.Linear(conv_features, conv_features)\n",
    "        self.fc2 = nn.Linear(conv_features, num_targets)\n",
    "\n",
    "    def forward(self, data):\n",
    "        x, edge_index, batch, edge_attr = data.x, data.edge_index, data.batch, data.edge_attr\n",
    "\n",
    "        x = self.nn_conv(x, edge_index, edge_attr)\n",
    "        x = F.relu(x)\n",
    "        x = self.gcn_conv1(x, edge_index)\n",
    "        x = F.relu(x)\n",
    "        x = self.gcn_conv2(x, edge_index)\n",
    "        x = global_mean_pool(x, batch)\n",
    "        x = self.fc1(x)\n",
    "        x = F.relu(x)\n",
    "        x = self.fc2(x)\n",
    "        return x"
   ]
  },
  {
   "cell_type": "code",
   "execution_count": 66,
   "metadata": {},
   "outputs": [
    {
     "name": "stdout",
     "output_type": "stream",
     "text": [
      "Number of parameters: 1346\n"
     ]
    },
    {
     "name": "stderr",
     "output_type": "stream",
     "text": [
      "Epoch 1 Training:   0%|          | 0/818 [00:00<?, ?it/s]"
     ]
    },
    {
     "name": "stderr",
     "output_type": "stream",
     "text": [
      "Epoch 1 Training: 100%|██████████| 818/818 [00:32<00:00, 25.53it/s]\n",
      "Epoch 2 Training: 100%|██████████| 818/818 [00:32<00:00, 25.55it/s]\n",
      "Epoch 3 Training: 100%|██████████| 818/818 [00:34<00:00, 23.81it/s]\n",
      "Epoch 4 Training: 100%|██████████| 818/818 [00:32<00:00, 25.35it/s]\n",
      "Epoch 5 Training: 100%|██████████| 818/818 [00:32<00:00, 25.52it/s]\n",
      "Epoch 6 Training: 100%|██████████| 818/818 [00:32<00:00, 25.46it/s]\n",
      "Epoch 7 Training: 100%|██████████| 818/818 [00:32<00:00, 25.47it/s]\n",
      "Epoch 8 Training: 100%|██████████| 818/818 [00:34<00:00, 24.05it/s]\n",
      "Epoch 9 Training: 100%|██████████| 818/818 [00:32<00:00, 25.41it/s]\n",
      "Epoch 10 Training: 100%|██████████| 818/818 [00:31<00:00, 25.62it/s]\n",
      "Epoch 11 Training: 100%|██████████| 818/818 [00:32<00:00, 25.48it/s]\n",
      "Epoch 12 Training: 100%|██████████| 818/818 [00:32<00:00, 25.48it/s]\n",
      "Epoch 13 Training: 100%|██████████| 818/818 [00:33<00:00, 24.06it/s]\n",
      "Epoch 14 Training: 100%|██████████| 818/818 [00:32<00:00, 25.34it/s]\n",
      "Epoch 15 Training: 100%|██████████| 818/818 [00:32<00:00, 25.28it/s]\n",
      "Epoch 16 Training: 100%|██████████| 818/818 [00:32<00:00, 25.47it/s]\n",
      "Epoch 17 Training: 100%|██████████| 818/818 [00:32<00:00, 25.37it/s]\n",
      "Epoch 18 Training: 100%|██████████| 818/818 [00:33<00:00, 24.28it/s]\n",
      "Epoch 19 Training: 100%|██████████| 818/818 [00:31<00:00, 25.62it/s]\n",
      "Epoch 20 Training: 100%|██████████| 818/818 [00:32<00:00, 25.44it/s]\n",
      "Epoch 21 Training: 100%|██████████| 818/818 [00:32<00:00, 25.55it/s]\n",
      "Epoch 22 Training: 100%|██████████| 818/818 [00:32<00:00, 25.50it/s]\n",
      "Epoch 23 Training: 100%|██████████| 818/818 [00:33<00:00, 24.19it/s]\n",
      "Epoch 24 Training: 100%|██████████| 818/818 [00:32<00:00, 25.09it/s]\n",
      "Epoch 25 Training: 100%|██████████| 818/818 [00:31<00:00, 25.57it/s]\n",
      "Epoch 26 Training: 100%|██████████| 818/818 [00:32<00:00, 25.32it/s]\n",
      "Epoch 27 Training: 100%|██████████| 818/818 [00:32<00:00, 25.44it/s]\n",
      "Epoch 28 Training: 100%|██████████| 818/818 [00:33<00:00, 24.21it/s]\n",
      "Epoch 29 Training: 100%|██████████| 818/818 [00:32<00:00, 25.49it/s]\n",
      "Epoch 30 Training: 100%|██████████| 818/818 [00:32<00:00, 25.44it/s]\n",
      "Epoch 31 Training: 100%|██████████| 818/818 [00:32<00:00, 25.42it/s]\n",
      "Epoch 32 Training: 100%|██████████| 818/818 [00:31<00:00, 25.56it/s]\n"
     ]
    }
   ],
   "source": [
    "from data_utils import create_tensorboard_writer\n",
    "from tqdm import tqdm\n",
    "import itertools\n",
    "\n",
    "model = GraphPropertyPredictor(\n",
    "    num_node_features=num_node_features,\n",
    "    num_edge_features=num_edge_features,\n",
    "    num_targets=num_targets\n",
    ").to(device=device)\n",
    "print(f\"Number of parameters: {sum(p.numel() for p in model.parameters() if p.requires_grad)}\")\n",
    "\n",
    "learning_rate = 2e-3\n",
    "epochs = 32\n",
    "\n",
    "optimizer = torch.optim.Adam(model.parameters(), lr=learning_rate)\n",
    "loss_function = nn.MSELoss()\n",
    "\n",
    "writer = create_tensorboard_writer(experiment_name=\"property-predictor\")\n",
    "\n",
    "train_loader = dataloaders[\"train\"]\n",
    "val_subset_loader_iterator = itertools.cycle(dataloaders[\"val_subsets\"])\n",
    "\n",
    "# After how many iterations to validate\n",
    "validation_interval = 128\n",
    "\n",
    "for epoch in range(epochs):\n",
    "    # Training\n",
    "    model.train()\n",
    "    for batch_index, train_batch in enumerate(tqdm(train_loader, desc=f\"Epoch {epoch + 1} Training\")):\n",
    "        optimizer.zero_grad()\n",
    "        train_prediction = model(train_batch)\n",
    "        train_loss = loss_function(train_prediction, train_batch.y)\n",
    "        train_loss.backward()\n",
    "        optimizer.step()\n",
    "\n",
    "        iteration = len(train_loader) * epoch + batch_index\n",
    "        writer.add_scalars(\"Loss\", {\"Training\": train_loss.item()}, iteration)\n",
    "\n",
    "        # Validation\n",
    "        if iteration % validation_interval == 0:\n",
    "            model.eval()\n",
    "            val_loss_sum = 0\n",
    "            mae_sum = 0\n",
    "\n",
    "            # Get the next subset of the validation set\n",
    "            val_loader = next(val_subset_loader_iterator)\n",
    "            with torch.no_grad():\n",
    "                for val_batch in val_loader:\n",
    "                    val_prediction = model(val_batch)\n",
    "                    val_loss_sum += loss_function(val_prediction, val_batch.y)\n",
    "                    mae_sum += torch.mean(torch.abs(val_prediction - val_batch.y), dim=0)\n",
    "            \n",
    "            val_loss = val_loss_sum / len(val_loader)\n",
    "            writer.add_scalars(\"Loss\", {\"Validation\": val_loss.item()}, iteration)\n",
    "\n",
    "            mean_absolute_error = mae_sum / len(val_loader)\n",
    "            writer.add_scalar(\"MAE (HOMO)\", mean_absolute_error[0], iteration)\n",
    "            writer.add_scalar(\"MAE (LUMO)\", mean_absolute_error[1], iteration)\n",
    "            \n",
    "            model.train()"
   ]
  },
  {
   "cell_type": "code",
   "execution_count": 67,
   "metadata": {},
   "outputs": [
    {
     "name": "stderr",
     "output_type": "stream",
     "text": [
      "  0%|          | 0/103 [00:00<?, ?it/s]"
     ]
    },
    {
     "name": "stderr",
     "output_type": "stream",
     "text": [
      "100%|██████████| 103/103 [00:03<00:00, 28.80it/s]"
     ]
    },
    {
     "name": "stdout",
     "output_type": "stream",
     "text": [
      "HOMO MAE (mean prediction) = 0.2153443694114685\n",
      "LUMO MAE (mean prediction) = 0.2144031971693039\n"
     ]
    },
    {
     "name": "stderr",
     "output_type": "stream",
     "text": [
      "\n"
     ]
    }
   ],
   "source": [
    "evaluate_model_performance(validation_loader=dataloaders[\"val\"], model=model)"
   ]
  }
 ],
 "metadata": {
  "kernelspec": {
   "display_name": "idp",
   "language": "python",
   "name": "python3"
  },
  "language_info": {
   "codemirror_mode": {
    "name": "ipython",
    "version": 3
   },
   "file_extension": ".py",
   "mimetype": "text/x-python",
   "name": "python",
   "nbconvert_exporter": "python",
   "pygments_lexer": "ipython3",
   "version": "3.11.5"
  }
 },
 "nbformat": 4,
 "nbformat_minor": 2
}
