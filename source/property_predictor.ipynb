{
 "cells": [
  {
   "cell_type": "code",
   "execution_count": 4,
   "metadata": {},
   "outputs": [
    {
     "name": "stdout",
     "output_type": "stream",
     "text": [
      "The autoreload extension is already loaded. To reload it, use:\n",
      "  %reload_ext autoreload\n",
      "Training dataset size = 102445\n",
      "Validation dataset size = 12806\n",
      "Test dataset size = 12805\n"
     ]
    }
   ],
   "source": [
    "%load_ext autoreload\n",
    "%autoreload 2\n",
    "\n",
    "from typing import Dict, Any\n",
    "import torch.nn as nn\n",
    "from torch_geometric.datasets import QM9\n",
    "import torch_geometric.transforms as T\n",
    "import torch\n",
    "from torch_geometric.loader import DataLoader\n",
    "from data_utils import *\n",
    "from tqdm import tqdm\n",
    "\n",
    "device = torch.device('cuda' if torch.cuda.is_available() else 'cpu')\n",
    "include_hydrogen = False\n",
    "properties=[\"homo\", \"lumo\"]\n",
    "\n",
    "transform_list = [\n",
    "    SelectQM9TargetProperties(properties=properties),\n",
    "    SelectQM9NodeFeatures(features=[\"atom_type\"]),\n",
    "]\n",
    "if not include_hydrogen:\n",
    "    transform_list.append(DropQM9Hydrogen())\n",
    "\n",
    "max_num_nodes = 29 if include_hydrogen else 9\n",
    "transform_list += [\n",
    "    AddAdjacencyMatrix(max_num_nodes=max_num_nodes),\n",
    "    AddNodeAttributeMatrix(max_num_nodes=max_num_nodes),\n",
    "    AddEdgeAttributeMatrix(max_num_nodes=max_num_nodes),\n",
    "]\n",
    "\n",
    "pre_transform = T.Compose(transform_list)\n",
    "transform = T.Compose([\n",
    "    #RandomPermutation(max_num_nodes=max_num_nodes),\n",
    "    T.ToDevice(device=device)\n",
    "])\n",
    "\n",
    "dataset = QM9(root=\"./data\", pre_transform=pre_transform, pre_filter=qm9_pre_filter, transform=transform)\n",
    "\n",
    "train_dataset, val_dataset, test_dataset = create_qm9_data_split(dataset=dataset)\n",
    "\n",
    "print(f\"Training dataset size = {len(train_dataset)}\")\n",
    "print(f\"Validation dataset size = {len(val_dataset)}\")\n",
    "print(f\"Test dataset size = {len(test_dataset)}\")"
   ]
  },
  {
   "cell_type": "code",
   "execution_count": 5,
   "metadata": {},
   "outputs": [],
   "source": [
    "from typing import List\n",
    "from data_utils import create_validation_subset_loaders\n",
    "\n",
    "batch_size = 128\n",
    "\n",
    "dataloaders = {\n",
    "    \"train_single\": DataLoader(train_dataset[:1], batch_size=batch_size, shuffle=True),\n",
    "    \"train_tiny\": DataLoader(train_dataset[:16], batch_size=batch_size, shuffle=True),\n",
    "    \"train_small\": DataLoader(train_dataset[:4096], batch_size=batch_size, shuffle=True),\n",
    "    \"train\": DataLoader(train_dataset, batch_size=batch_size, shuffle=True),\n",
    "\n",
    "    \"val_small\": DataLoader(val_dataset[:512], batch_size=batch_size, shuffle=False),\n",
    "    \"val\": DataLoader(val_dataset, batch_size=batch_size, shuffle=False)\n",
    "}\n",
    "\n",
    "val_subset_count = 32\n",
    "dataloaders[\"val_subsets\"] = create_validation_subset_loaders(validation_dataset=val_dataset, subset_count=32, batch_size=batch_size)"
   ]
  },
  {
   "cell_type": "code",
   "execution_count": 6,
   "metadata": {},
   "outputs": [],
   "source": [
    "def evaluate_model_performance(validation_loader, model):\n",
    "    mae_sum = 0\n",
    "    for batch in tqdm(validation_loader):\n",
    "        prediction = model(batch)\n",
    "        mae_sum += torch.mean(torch.abs(prediction - batch.y), dim=0)\n",
    "\n",
    "    mean_absolute_error = mae_sum / len(validation_loader)\n",
    "\n",
    "    print(f\"HOMO MAE = {mean_absolute_error[0]}\")\n",
    "    print(f\"LUMO MAE = {mean_absolute_error[1]}\")\n",
    "\n",
    "val_loader = dataloaders[\"val\"]"
   ]
  },
  {
   "cell_type": "code",
   "execution_count": 24,
   "metadata": {},
   "outputs": [],
   "source": [
    "from graph_vae.encoder import Encoder\n",
    "\n",
    "hparams = {\n",
    "    \"max_num_nodes\": 29 if include_hydrogen else 9,\n",
    "    \"adam_beta_1\": 0.5,\n",
    "    \"num_node_features\": dataset.num_node_features,\n",
    "    \"num_edge_features\": dataset.num_edge_features,\n",
    "    \"latent_dim\": 64,\n",
    "    \"include_hydrogen\": include_hydrogen,\n",
    "    \"properties\": properties,\n",
    "}\n",
    "\n",
    "class PropertyPredictor(nn.Module):\n",
    "\n",
    "    def __init__(self, hparams: Dict[str, Any]) -> None:\n",
    "        super().__init__()\n",
    "        self.graph_encoder = Encoder(hparams=hparams)\n",
    "        property_count = len(hparams[\"properties\"])\n",
    "        dim = hparams[\"latent_dim\"] * 2\n",
    "        self.fc = nn.Sequential(\n",
    "            nn.BatchNorm1d(dim),\n",
    "            nn.ReLU(),\n",
    "            nn.Linear(dim, dim),\n",
    "            nn.BatchNorm1d(dim),\n",
    "            nn.ReLU(),\n",
    "            nn.Linear(dim, property_count)\n",
    "        )\n",
    "\n",
    "    def forward(self, x: Data):\n",
    "        z = self.graph_encoder(x)\n",
    "        # combine tuple (mu, log_sigma) into single latent\n",
    "        z = torch.cat(list(z), dim=1)\n",
    "        return self.fc(z)\n"
   ]
  },
  {
   "cell_type": "code",
   "execution_count": 31,
   "metadata": {},
   "outputs": [],
   "source": [
    "from data_utils import create_tensorboard_writer\n",
    "from tqdm import tqdm\n",
    "import itertools\n",
    "from graph_vae.vae import GraphVAE\n",
    "\n",
    "\n",
    "def train_property_predictor(\n",
    "        model: PropertyPredictor,\n",
    "        train_loader: DataLoader,\n",
    "        val_subset_loaders: List[DataLoader],\n",
    "        epochs: int,\n",
    "        tb_writer: SummaryWriter,\n",
    "    ):\n",
    "    \n",
    "    learning_rate = 4e-4\n",
    "    optimizer = torch.optim.Adam(model.parameters(), lr=learning_rate)\n",
    "    loss_function = nn.MSELoss()\n",
    "\n",
    "    # After how many iterations to validate\n",
    "    validation_interval = 10\n",
    "\n",
    "    val_subset_loader_iterator = itertools.cycle(val_subset_loaders)\n",
    "\n",
    "    for epoch in range(epochs):\n",
    "        # Training\n",
    "        model.train()\n",
    "        for batch_index, train_batch in enumerate(tqdm(train_loader, desc=f\"Epoch {epoch + 1} Training\")):\n",
    "            optimizer.zero_grad()\n",
    "            train_prediction = model(train_batch)\n",
    "            train_loss = loss_function(train_prediction, train_batch.y)\n",
    "            train_loss.backward()\n",
    "            optimizer.step()\n",
    "\n",
    "            iteration = len(train_loader) * epoch + batch_index\n",
    "            tb_writer.add_scalars(\"Loss\", {\"Training\": train_loss.item()}, iteration)\n",
    "\n",
    "            # Validation\n",
    "            if iteration % validation_interval == 0:\n",
    "                model.eval()\n",
    "                val_loss_sum = 0\n",
    "                mae_sum = 0\n",
    "\n",
    "                # Get the next subset of the validation set\n",
    "                val_loader = next(val_subset_loader_iterator)\n",
    "                with torch.no_grad():\n",
    "                    for val_batch in val_loader:\n",
    "                        val_prediction = model(val_batch)\n",
    "                        val_loss_sum += loss_function(val_prediction, val_batch.y)\n",
    "                        mae_sum += torch.mean(torch.abs(val_prediction - val_batch.y), dim=0)\n",
    "                \n",
    "                val_loss = val_loss_sum / len(val_loader)\n",
    "                tb_writer.add_scalars(\"Loss\", {\"Validation\": val_loss.item()}, iteration)\n",
    "\n",
    "                mean_absolute_error = mae_sum / len(val_loader)\n",
    "                tb_writer.add_scalar(\"MAE (HOMO)\", mean_absolute_error[0], iteration)\n",
    "                tb_writer.add_scalar(\"MAE (LUMO)\", mean_absolute_error[1], iteration)\n",
    "                \n",
    "                model.train()"
   ]
  },
  {
   "cell_type": "code",
   "execution_count": 32,
   "metadata": {},
   "outputs": [
    {
     "name": "stderr",
     "output_type": "stream",
     "text": [
      "Epoch 1 Training: 100%|██████████| 801/801 [04:08<00:00,  3.22it/s]\n",
      "Epoch 2 Training: 100%|██████████| 801/801 [05:16<00:00,  2.53it/s]\n",
      "Epoch 3 Training: 100%|██████████| 801/801 [05:51<00:00,  2.28it/s]\n",
      "Epoch 4 Training: 100%|██████████| 801/801 [05:18<00:00,  2.51it/s]\n",
      "Epoch 5 Training: 100%|██████████| 801/801 [04:53<00:00,  2.73it/s]\n",
      "Epoch 6 Training: 100%|██████████| 801/801 [04:49<00:00,  2.77it/s]\n",
      "Epoch 7 Training: 100%|██████████| 801/801 [04:53<00:00,  2.73it/s]\n",
      "Epoch 8 Training: 100%|██████████| 801/801 [04:49<00:00,  2.77it/s]\n",
      "Epoch 9 Training: 100%|██████████| 801/801 [04:56<00:00,  2.70it/s]\n",
      "Epoch 10 Training: 100%|██████████| 801/801 [05:10<00:00,  2.58it/s]\n"
     ]
    }
   ],
   "source": [
    "writer = create_tensorboard_writer(experiment_name=\"property-predictor-2\")\n",
    "\n",
    "train_loader = dataloaders[\"train\"]\n",
    "val_subset_loaders = dataloaders[\"val_subsets\"]\n",
    "\n",
    "model = PropertyPredictor(hparams=hparams).to(device)\n",
    "\n",
    "train_property_predictor(\n",
    "    model=model,\n",
    "    train_loader=train_loader, \n",
    "    val_subset_loaders=val_subset_loaders,\n",
    "    epochs=10,\n",
    "    tb_writer=writer,\n",
    ")"
   ]
  },
  {
   "cell_type": "code",
   "execution_count": 33,
   "metadata": {},
   "outputs": [
    {
     "name": "stderr",
     "output_type": "stream",
     "text": [
      "100%|██████████| 101/101 [00:24<00:00,  4.05it/s]"
     ]
    },
    {
     "name": "stdout",
     "output_type": "stream",
     "text": [
      "HOMO MAE = 0.1802791953086853\n",
      "LUMO MAE = 0.2032887041568756\n"
     ]
    },
    {
     "name": "stderr",
     "output_type": "stream",
     "text": [
      "\n"
     ]
    }
   ],
   "source": [
    "evaluate_model_performance(val_loader, model)"
   ]
  }
 ],
 "metadata": {
  "kernelspec": {
   "display_name": "idp",
   "language": "python",
   "name": "python3"
  },
  "language_info": {
   "codemirror_mode": {
    "name": "ipython",
    "version": 3
   },
   "file_extension": ".py",
   "mimetype": "text/x-python",
   "name": "python",
   "nbconvert_exporter": "python",
   "pygments_lexer": "ipython3",
   "version": "3.11.5"
  }
 },
 "nbformat": 4,
 "nbformat_minor": 2
}
