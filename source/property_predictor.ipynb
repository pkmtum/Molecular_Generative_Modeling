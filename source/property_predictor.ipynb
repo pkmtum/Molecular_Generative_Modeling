{
 "cells": [
  {
   "cell_type": "code",
   "execution_count": 2,
   "metadata": {},
   "outputs": [
    {
     "name": "stdout",
     "output_type": "stream",
     "text": [
      "Training dataset size = 102445\n",
      "Validation dataset size = 12806\n",
      "Test dataset size = 12805\n"
     ]
    }
   ],
   "source": [
    "%load_ext autoreload\n",
    "%autoreload 2\n",
    "\n",
    "from typing import Dict, Any\n",
    "import torch.nn as nn\n",
    "from torch_geometric.datasets import QM9\n",
    "import torch_geometric.transforms as T\n",
    "import torch\n",
    "from torch_geometric.loader import DataLoader\n",
    "from data_utils import *\n",
    "from tqdm import tqdm\n",
    "\n",
    "device = torch.device('cuda' if torch.cuda.is_available() else 'cpu')\n",
    "include_hydrogen = False\n",
    "properties=[\"homo\", \"lumo\"]\n",
    "\n",
    "transform_list = [\n",
    "    SelectQM9TargetProperties(properties=properties),\n",
    "    SelectQM9NodeFeatures(features=[\"atom_type\"]),\n",
    "]\n",
    "if not include_hydrogen:\n",
    "    transform_list.append(DropQM9Hydrogen())\n",
    "\n",
    "max_num_nodes = 29 if include_hydrogen else 9\n",
    "transform_list += [\n",
    "    AddAdjacencyMatrix(max_num_nodes=max_num_nodes),\n",
    "    AddNodeAttributeMatrix(max_num_nodes=max_num_nodes),\n",
    "    AddEdgeAttributeMatrix(max_num_nodes=max_num_nodes),\n",
    "]\n",
    "\n",
    "pre_transform = T.Compose(transform_list)\n",
    "transform = T.Compose([\n",
    "    #RandomPermutation(max_num_nodes=max_num_nodes),\n",
    "    T.ToDevice(device=device)\n",
    "])\n",
    "\n",
    "dataset = QM9(root=\"./data\", pre_transform=pre_transform, pre_filter=qm9_pre_filter, transform=transform)\n",
    "\n",
    "train_dataset, val_dataset, test_dataset = create_qm9_data_split(dataset=dataset)\n",
    "\n",
    "print(f\"Training dataset size = {len(train_dataset)}\")\n",
    "print(f\"Validation dataset size = {len(val_dataset)}\")\n",
    "print(f\"Test dataset size = {len(test_dataset)}\")"
   ]
  },
  {
   "cell_type": "code",
   "execution_count": 3,
   "metadata": {},
   "outputs": [],
   "source": [
    "from typing import List\n",
    "\n",
    "batch_size = 128\n",
    "\n",
    "dataloaders = {\n",
    "    \"train\": DataLoader(train_dataset, batch_size=batch_size, shuffle=True),\n",
    "    \"val\": DataLoader(val_dataset, batch_size=batch_size, shuffle=False)\n",
    "}"
   ]
  },
  {
   "cell_type": "code",
   "execution_count": 4,
   "metadata": {},
   "outputs": [],
   "source": [
    "def evaluate_model_performance(validation_loader, model):\n",
    "    mae_sum = 0\n",
    "    for batch in tqdm(validation_loader):\n",
    "        prediction = model(batch)\n",
    "        mae_sum += torch.mean(torch.abs(prediction - batch.y), dim=0)\n",
    "\n",
    "    mean_absolute_error = mae_sum / len(validation_loader)\n",
    "\n",
    "    print(f\"HOMO MAE = {mean_absolute_error[0]}\")\n",
    "    print(f\"LUMO MAE = {mean_absolute_error[1]}\")\n",
    "\n",
    "val_loader = dataloaders[\"val\"]"
   ]
  },
  {
   "cell_type": "code",
   "execution_count": 4,
   "metadata": {},
   "outputs": [
    {
     "name": "stderr",
     "output_type": "stream",
     "text": [
      "  0%|          | 0/801 [00:00<?, ?it/s]"
     ]
    },
    {
     "name": "stderr",
     "output_type": "stream",
     "text": [
      "100%|██████████| 801/801 [00:47<00:00, 16.86it/s]\n"
     ]
    },
    {
     "name": "stdout",
     "output_type": "stream",
     "text": [
      "HOMO Mean = -6.546605110168457\n",
      "LUMO Mean = 0.32694491744041443\n"
     ]
    },
    {
     "name": "stderr",
     "output_type": "stream",
     "text": [
      "100%|██████████| 101/101 [00:05<00:00, 19.25it/s]"
     ]
    },
    {
     "name": "stdout",
     "output_type": "stream",
     "text": [
      "HOMO MAE = 0.4337182939052582\n",
      "LUMO MAE = 1.042443871498108\n"
     ]
    },
    {
     "name": "stderr",
     "output_type": "stream",
     "text": [
      "\n"
     ]
    }
   ],
   "source": [
    "train_loader = dataloaders[\"train\"]\n",
    "homo_mean_list = []\n",
    "lumo_mean_list = []\n",
    "for batch in tqdm(train_loader):\n",
    "    batch_mean = torch.mean(batch.y, dim=0)\n",
    "    homo_mean_list.append(batch_mean[0])\n",
    "    lumo_mean_list.append(batch_mean[1])\n",
    "\n",
    "homo_mean_pred = torch.tensor(homo_mean_list).mean()\n",
    "lumo_mean_pred = torch.tensor(lumo_mean_list).mean()\n",
    "print(f\"HOMO Mean = {homo_mean_pred}\")\n",
    "print(f\"LUMO Mean = {lumo_mean_pred}\")\n",
    "\n",
    "class MeanPredictor(nn.Module):\n",
    "    def __init__(self, property_mean_values: List[float]):\n",
    "        super().__init__()\n",
    "        # create mean prediction and add batch dimension\n",
    "        self.register_buffer('mean_prediction', torch.tensor(property_mean_values).unsqueeze(0))\n",
    "\n",
    "    def forward(self, x):\n",
    "        batch_size = x.y.shape[0]\n",
    "        return self.mean_prediction.expand(batch_size, -1)\n",
    "\n",
    "mean_baseline_model = MeanPredictor(property_mean_values=[homo_mean_pred, lumo_mean_pred]).to(device)\n",
    "\n",
    "evaluate_model_performance(val_loader, mean_baseline_model)"
   ]
  },
  {
   "cell_type": "code",
   "execution_count": 5,
   "metadata": {},
   "outputs": [
    {
     "name": "stderr",
     "output_type": "stream",
     "text": [
      "100%|██████████| 101/101 [00:06<00:00, 15.50it/s]"
     ]
    },
    {
     "name": "stdout",
     "output_type": "stream",
     "text": [
      "HOMO MAE = 0.17140606045722961\n",
      "LUMO MAE = 0.1887381374835968\n"
     ]
    },
    {
     "name": "stderr",
     "output_type": "stream",
     "text": [
      "\n"
     ]
    }
   ],
   "source": [
    "from graph_vae.vae import GraphVAE\n",
    "\n",
    "class PropertyPredictorVAE(nn.Module):\n",
    "\n",
    "    def __init__(self, graph_vae: GraphVAE):\n",
    "        super().__init__()\n",
    "        self.graph_vae = graph_vae\n",
    "\n",
    "    def forward(self, x: Data):\n",
    "        z = self.graph_vae.encode(x=x)\n",
    "        return self.graph_vae.predict_properties(z)\n",
    "\n",
    "graph_vae_model = GraphVAE.from_pretrained(\"./checkpoints/graph_vae_20240303_204747.pt\")\n",
    "\n",
    "vae_prop_pred = PropertyPredictorVAE(graph_vae=graph_vae_model).to(device)\n",
    "vae_prop_pred.eval()\n",
    "\n",
    "with torch.no_grad():\n",
    "    evaluate_model_performance(val_loader, vae_prop_pred)"
   ]
  },
  {
   "cell_type": "code",
   "execution_count": 6,
   "metadata": {},
   "outputs": [],
   "source": [
    "from graph_vae.encoder import Encoder\n",
    "\n",
    "hparams = {\n",
    "    \"max_num_nodes\": 29 if include_hydrogen else 9,\n",
    "    \"adam_beta_1\": 0.5,\n",
    "    \"num_node_features\": dataset.num_node_features,\n",
    "    \"num_edge_features\": dataset.num_edge_features,\n",
    "    \"latent_dim\": 64,\n",
    "    \"include_hydrogen\": include_hydrogen,\n",
    "    \"properties\": properties,\n",
    "}\n",
    "\n",
    "class PropertyPredictor(nn.Module):\n",
    "\n",
    "    def __init__(self, hparams: Dict[str, Any]) -> None:\n",
    "        super().__init__()\n",
    "        self.graph_encoder = Encoder(hparams=hparams)\n",
    "        self.property_count = len(hparams[\"properties\"])\n",
    "        dim = hparams[\"latent_dim\"] * 2\n",
    "        self.fc = nn.Sequential(\n",
    "            nn.BatchNorm1d(dim),\n",
    "            nn.PReLU(),\n",
    "            nn.Linear(dim, dim),\n",
    "            nn.BatchNorm1d(dim),\n",
    "            nn.PReLU(),\n",
    "            nn.Linear(dim, self.property_count * 2)\n",
    "        )\n",
    "\n",
    "    def forward(self, x: Data):\n",
    "        z = self.graph_encoder(x)\n",
    "        # combine tuple (mu, log_sigma) into single latent\n",
    "        z = torch.cat(list(z), dim=1)\n",
    "\n",
    "        z = self.fc(z)\n",
    "\n",
    "        # split output into mean and variance prediction\n",
    "        mu = z[:, :self.property_count]\n",
    "        log_var = z[:, self.property_count:]\n",
    "        return mu, torch.exp(log_var)\n"
   ]
  },
  {
   "cell_type": "code",
   "execution_count": 7,
   "metadata": {},
   "outputs": [],
   "source": [
    "from data_utils import create_tensorboard_writer\n",
    "from tqdm import tqdm\n",
    "import itertools\n",
    "from graph_vae.vae import GraphVAE\n",
    "\n",
    "\n",
    "def train_property_predictor(\n",
    "        model: PropertyPredictor,\n",
    "        train_loader: DataLoader,\n",
    "        val_loader: DataLoader,\n",
    "        epochs: int,\n",
    "        tb_writer: SummaryWriter,\n",
    "    ):\n",
    "    \n",
    "    learning_rate = 4e-4\n",
    "    optimizer = torch.optim.Adam(model.parameters(), lr=learning_rate)\n",
    "    loss_function = nn.GaussianNLLLoss(full=True)\n",
    "\n",
    "    # After how many iterations to validate\n",
    "    validation_interval = 10\n",
    "    batches_per_validation = 2\n",
    "\n",
    "    val_loader_iterator = itertools.cycle(iter(val_loader))\n",
    "\n",
    "    for epoch in range(epochs):\n",
    "        # Training\n",
    "        model.train()\n",
    "        for batch_index, train_batch in enumerate(tqdm(train_loader, desc=f\"Epoch {epoch + 1} Training\")):\n",
    "            optimizer.zero_grad()\n",
    "            train_pred_mean, train_pred_var = model(train_batch)\n",
    "            train_loss = loss_function(train_pred_mean, train_batch.y, train_pred_var)\n",
    "            train_loss.backward()\n",
    "            optimizer.step()\n",
    "\n",
    "            iteration = len(train_loader) * epoch + batch_index\n",
    "            tb_writer.add_scalars(\"Loss\", {\"Training\": train_loss.item()}, iteration)\n",
    "\n",
    "            # Validation\n",
    "            if iteration % validation_interval == 0:\n",
    "                model.eval()\n",
    "                val_loss_sum = 0\n",
    "                mae_sum = 0\n",
    "\n",
    "                # Get the next subset of the validation set\n",
    "                for _ in range(batches_per_validation):\n",
    "                    with torch.no_grad():\n",
    "                        val_batch = next(val_loader_iterator)\n",
    "                        val_pred_mean, val_pred_var = model(val_batch)\n",
    "                        val_loss_sum += loss_function(val_pred_mean, val_batch.y, val_pred_var)\n",
    "                        mae_sum += torch.mean(torch.abs(val_pred_mean - val_batch.y), dim=0)\n",
    "                \n",
    "                val_loss = val_loss_sum / batches_per_validation\n",
    "                tb_writer.add_scalars(\"Loss\", {\"Validation\": val_loss.item()}, iteration)\n",
    "\n",
    "                mean_absolute_error = mae_sum / batches_per_validation\n",
    "                tb_writer.add_scalar(\"MAE (HOMO)\", mean_absolute_error[0], iteration)\n",
    "                tb_writer.add_scalar(\"MAE (LUMO)\", mean_absolute_error[1], iteration)\n",
    "                \n",
    "                model.train()"
   ]
  },
  {
   "cell_type": "code",
   "execution_count": 8,
   "metadata": {},
   "outputs": [
    {
     "name": "stderr",
     "output_type": "stream",
     "text": [
      "Epoch 1 Training:   0%|          | 0/801 [00:00<?, ?it/s]"
     ]
    },
    {
     "name": "stderr",
     "output_type": "stream",
     "text": [
      "Epoch 1 Training: 100%|██████████| 801/801 [00:57<00:00, 14.00it/s]\n",
      "Epoch 2 Training: 100%|██████████| 801/801 [00:34<00:00, 23.08it/s]\n",
      "Epoch 3 Training: 100%|██████████| 801/801 [00:34<00:00, 23.40it/s]\n",
      "Epoch 4 Training: 100%|██████████| 801/801 [00:34<00:00, 22.96it/s]\n",
      "Epoch 5 Training: 100%|██████████| 801/801 [00:34<00:00, 23.55it/s]\n",
      "Epoch 6 Training: 100%|██████████| 801/801 [00:34<00:00, 23.04it/s]\n",
      "Epoch 7 Training: 100%|██████████| 801/801 [00:34<00:00, 22.95it/s]\n",
      "Epoch 8 Training: 100%|██████████| 801/801 [00:34<00:00, 23.48it/s]\n",
      "Epoch 9 Training: 100%|██████████| 801/801 [00:35<00:00, 22.86it/s]\n",
      "Epoch 10 Training: 100%|██████████| 801/801 [00:34<00:00, 23.50it/s]\n",
      "Epoch 11 Training: 100%|██████████| 801/801 [00:34<00:00, 23.02it/s]\n",
      "Epoch 12 Training: 100%|██████████| 801/801 [00:34<00:00, 22.97it/s]\n",
      "Epoch 13 Training: 100%|██████████| 801/801 [00:34<00:00, 23.52it/s]\n",
      "Epoch 14 Training: 100%|██████████| 801/801 [00:34<00:00, 22.95it/s]\n",
      "Epoch 15 Training: 100%|██████████| 801/801 [00:35<00:00, 22.78it/s]\n",
      "Epoch 16 Training: 100%|██████████| 801/801 [00:34<00:00, 23.33it/s]\n",
      "Epoch 17 Training: 100%|██████████| 801/801 [00:34<00:00, 22.98it/s]\n",
      "Epoch 18 Training: 100%|██████████| 801/801 [00:34<00:00, 23.32it/s]\n",
      "Epoch 19 Training: 100%|██████████| 801/801 [00:34<00:00, 23.07it/s]\n",
      "Epoch 20 Training: 100%|██████████| 801/801 [00:34<00:00, 23.40it/s]\n",
      "Epoch 21 Training: 100%|██████████| 801/801 [00:34<00:00, 23.07it/s]\n",
      "Epoch 22 Training: 100%|██████████| 801/801 [00:34<00:00, 23.14it/s]\n",
      "Epoch 23 Training: 100%|██████████| 801/801 [00:35<00:00, 22.88it/s]\n",
      "Epoch 24 Training: 100%|██████████| 801/801 [00:34<00:00, 23.42it/s]\n",
      "Epoch 25 Training: 100%|██████████| 801/801 [00:34<00:00, 22.93it/s]\n",
      "Epoch 26 Training: 100%|██████████| 801/801 [00:34<00:00, 23.40it/s]\n",
      "Epoch 27 Training: 100%|██████████| 801/801 [00:34<00:00, 23.02it/s]\n",
      "Epoch 28 Training: 100%|██████████| 801/801 [00:34<00:00, 23.38it/s]\n",
      "Epoch 29 Training: 100%|██████████| 801/801 [00:34<00:00, 23.11it/s]\n",
      "Epoch 30 Training: 100%|██████████| 801/801 [00:34<00:00, 22.97it/s]\n",
      "Epoch 31 Training: 100%|██████████| 801/801 [00:34<00:00, 23.46it/s]\n",
      "Epoch 32 Training: 100%|██████████| 801/801 [00:34<00:00, 22.99it/s]\n",
      "Epoch 33 Training: 100%|██████████| 801/801 [00:33<00:00, 23.65it/s]\n",
      "Epoch 34 Training: 100%|██████████| 801/801 [00:34<00:00, 23.16it/s]\n",
      "Epoch 35 Training: 100%|██████████| 801/801 [00:34<00:00, 23.00it/s]\n",
      "Epoch 36 Training: 100%|██████████| 801/801 [00:33<00:00, 23.70it/s]\n",
      "Epoch 37 Training: 100%|██████████| 801/801 [00:34<00:00, 23.07it/s]\n",
      "Epoch 38 Training: 100%|██████████| 801/801 [00:34<00:00, 23.07it/s]\n",
      "Epoch 39 Training: 100%|██████████| 801/801 [00:34<00:00, 23.54it/s]\n",
      "Epoch 40 Training: 100%|██████████| 801/801 [00:34<00:00, 23.16it/s]\n",
      "Epoch 41 Training: 100%|██████████| 801/801 [00:34<00:00, 23.45it/s]\n",
      "Epoch 42 Training: 100%|██████████| 801/801 [00:35<00:00, 22.88it/s]\n",
      "Epoch 43 Training: 100%|██████████| 801/801 [00:33<00:00, 23.59it/s]\n",
      "Epoch 44 Training: 100%|██████████| 801/801 [00:34<00:00, 23.07it/s]\n",
      "Epoch 45 Training: 100%|██████████| 801/801 [00:34<00:00, 23.13it/s]\n",
      "Epoch 46 Training: 100%|██████████| 801/801 [00:34<00:00, 23.04it/s]\n",
      "Epoch 47 Training: 100%|██████████| 801/801 [00:34<00:00, 23.51it/s]\n",
      "Epoch 48 Training: 100%|██████████| 801/801 [00:34<00:00, 23.52it/s]\n",
      "Epoch 49 Training: 100%|██████████| 801/801 [00:34<00:00, 23.14it/s]\n",
      "Epoch 50 Training: 100%|██████████| 801/801 [00:34<00:00, 23.07it/s]\n",
      "Epoch 51 Training: 100%|██████████| 801/801 [00:34<00:00, 23.53it/s]\n",
      "Epoch 52 Training: 100%|██████████| 801/801 [00:34<00:00, 23.01it/s]\n",
      "Epoch 53 Training: 100%|██████████| 801/801 [00:34<00:00, 22.96it/s]\n",
      "Epoch 54 Training: 100%|██████████| 801/801 [00:34<00:00, 23.48it/s]\n",
      "Epoch 55 Training: 100%|██████████| 801/801 [00:34<00:00, 23.01it/s]\n",
      "Epoch 56 Training: 100%|██████████| 801/801 [00:34<00:00, 23.52it/s]\n",
      "Epoch 57 Training: 100%|██████████| 801/801 [00:34<00:00, 23.03it/s]\n",
      "Epoch 58 Training: 100%|██████████| 801/801 [00:34<00:00, 23.13it/s]\n",
      "Epoch 59 Training: 100%|██████████| 801/801 [00:33<00:00, 23.59it/s]\n",
      "Epoch 60 Training: 100%|██████████| 801/801 [00:34<00:00, 23.01it/s]\n",
      "Epoch 61 Training: 100%|██████████| 801/801 [00:34<00:00, 23.15it/s]\n",
      "Epoch 62 Training: 100%|██████████| 801/801 [00:33<00:00, 23.67it/s]\n",
      "Epoch 63 Training: 100%|██████████| 801/801 [00:34<00:00, 23.28it/s]\n",
      "Epoch 64 Training: 100%|██████████| 801/801 [00:33<00:00, 23.78it/s]\n",
      "Epoch 65 Training: 100%|██████████| 801/801 [00:34<00:00, 23.20it/s]\n",
      "Epoch 66 Training: 100%|██████████| 801/801 [00:33<00:00, 23.69it/s]\n",
      "Epoch 67 Training: 100%|██████████| 801/801 [00:34<00:00, 22.93it/s]\n",
      "Epoch 68 Training: 100%|██████████| 801/801 [00:34<00:00, 23.26it/s]\n",
      "Epoch 69 Training: 100%|██████████| 801/801 [00:34<00:00, 23.31it/s]\n",
      "Epoch 70 Training: 100%|██████████| 801/801 [00:33<00:00, 23.68it/s]\n",
      "Epoch 71 Training: 100%|██████████| 801/801 [00:33<00:00, 23.79it/s]\n",
      "Epoch 72 Training: 100%|██████████| 801/801 [00:34<00:00, 23.32it/s]\n",
      "Epoch 73 Training: 100%|██████████| 801/801 [00:34<00:00, 23.45it/s]\n",
      "Epoch 74 Training: 100%|██████████| 801/801 [00:33<00:00, 23.78it/s]\n",
      "Epoch 75 Training: 100%|██████████| 801/801 [00:34<00:00, 23.30it/s]\n",
      "Epoch 76 Training: 100%|██████████| 801/801 [00:34<00:00, 23.21it/s]\n",
      "Epoch 77 Training: 100%|██████████| 801/801 [00:33<00:00, 23.74it/s]\n",
      "Epoch 78 Training: 100%|██████████| 801/801 [00:34<00:00, 23.20it/s]\n",
      "Epoch 79 Training: 100%|██████████| 801/801 [00:33<00:00, 23.75it/s]\n",
      "Epoch 80 Training: 100%|██████████| 801/801 [00:34<00:00, 23.32it/s]\n",
      "Epoch 81 Training: 100%|██████████| 801/801 [00:34<00:00, 23.22it/s]\n",
      "Epoch 82 Training: 100%|██████████| 801/801 [00:33<00:00, 23.77it/s]\n",
      "Epoch 83 Training: 100%|██████████| 801/801 [00:34<00:00, 23.13it/s]\n",
      "Epoch 84 Training: 100%|██████████| 801/801 [00:34<00:00, 23.17it/s]\n",
      "Epoch 85 Training: 100%|██████████| 801/801 [00:33<00:00, 23.70it/s]\n",
      "Epoch 86 Training: 100%|██████████| 801/801 [00:34<00:00, 23.22it/s]\n",
      "Epoch 87 Training: 100%|██████████| 801/801 [00:33<00:00, 23.73it/s]\n",
      "Epoch 88 Training: 100%|██████████| 801/801 [00:34<00:00, 23.19it/s]\n",
      "Epoch 89 Training: 100%|██████████| 801/801 [00:33<00:00, 23.72it/s]\n",
      "Epoch 90 Training: 100%|██████████| 801/801 [00:34<00:00, 23.36it/s]\n",
      "Epoch 91 Training: 100%|██████████| 801/801 [00:34<00:00, 23.30it/s]\n",
      "Epoch 92 Training: 100%|██████████| 801/801 [00:34<00:00, 23.20it/s]\n",
      "Epoch 93 Training: 100%|██████████| 801/801 [00:33<00:00, 23.70it/s]\n",
      "Epoch 94 Training: 100%|██████████| 801/801 [00:33<00:00, 23.86it/s]\n",
      "Epoch 95 Training: 100%|██████████| 801/801 [00:34<00:00, 23.22it/s]\n",
      "Epoch 96 Training: 100%|██████████| 801/801 [00:34<00:00, 23.27it/s]\n",
      "Epoch 97 Training: 100%|██████████| 801/801 [00:33<00:00, 23.95it/s]\n",
      "Epoch 98 Training: 100%|██████████| 801/801 [00:34<00:00, 23.44it/s]\n",
      "Epoch 99 Training: 100%|██████████| 801/801 [00:34<00:00, 23.33it/s]\n",
      "Epoch 100 Training: 100%|██████████| 801/801 [00:33<00:00, 23.74it/s]\n"
     ]
    }
   ],
   "source": [
    "writer = create_tensorboard_writer(experiment_name=\"property-predictor-2\")\n",
    "\n",
    "train_loader = dataloaders[\"train\"]\n",
    "\n",
    "model = PropertyPredictor(hparams=hparams).to(device)\n",
    "\n",
    "train_property_predictor(\n",
    "    model=model,\n",
    "    train_loader=train_loader, \n",
    "    val_loader=val_loader,\n",
    "    epochs=100,\n",
    "    tb_writer=writer,\n",
    ")"
   ]
  },
  {
   "cell_type": "code",
   "execution_count": 7,
   "metadata": {},
   "outputs": [],
   "source": [
    "ckpt_file = \"./checkpoints/property_predictor.pt\""
   ]
  },
  {
   "cell_type": "code",
   "execution_count": 8,
   "metadata": {},
   "outputs": [],
   "source": [
    "torch.save({\n",
    "        \"model_state_dict\": model.state_dict(),\n",
    "    },\n",
    "    ckpt_file\n",
    ")"
   ]
  },
  {
   "cell_type": "code",
   "execution_count": 9,
   "metadata": {},
   "outputs": [
    {
     "name": "stderr",
     "output_type": "stream",
     "text": [
      "  0%|          | 0/101 [00:00<?, ?it/s]"
     ]
    },
    {
     "name": "stderr",
     "output_type": "stream",
     "text": [
      "100%|██████████| 101/101 [00:03<00:00, 31.30it/s]"
     ]
    },
    {
     "name": "stdout",
     "output_type": "stream",
     "text": [
      "HOMO MAE = 0.11913200467824936\n",
      "LUMO MAE = 0.1312396079301834\n"
     ]
    },
    {
     "name": "stderr",
     "output_type": "stream",
     "text": [
      "\n"
     ]
    }
   ],
   "source": [
    "\n",
    "model = PropertyPredictor(hparams=hparams).to(device)\n",
    "model.eval()\n",
    "\n",
    "model.load_state_dict(torch.load(ckpt_file)[\"model_state_dict\"])\n",
    "\n",
    "with torch.no_grad():\n",
    "    evaluate_model_performance(val_loader, model)"
   ]
  }
 ],
 "metadata": {
  "kernelspec": {
   "display_name": "idp",
   "language": "python",
   "name": "python3"
  },
  "language_info": {
   "codemirror_mode": {
    "name": "ipython",
    "version": 3
   },
   "file_extension": ".py",
   "mimetype": "text/x-python",
   "name": "python",
   "nbconvert_exporter": "python",
   "pygments_lexer": "ipython3",
   "version": "3.11.5"
  }
 },
 "nbformat": 4,
 "nbformat_minor": 2
}
