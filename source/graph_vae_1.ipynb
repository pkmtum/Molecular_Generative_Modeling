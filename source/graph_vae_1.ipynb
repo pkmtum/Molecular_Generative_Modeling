{
 "cells": [
  {
   "cell_type": "code",
   "execution_count": 10,
   "metadata": {},
   "outputs": [
    {
     "name": "stdout",
     "output_type": "stream",
     "text": [
      "The autoreload extension is already loaded. To reload it, use:\n",
      "  %reload_ext autoreload\n"
     ]
    }
   ],
   "source": [
    "%load_ext autoreload\n",
    "%autoreload 2\n",
    "\n",
    "from typing import List, Dict, Any\n",
    "import itertools\n",
    "import random\n",
    "from tqdm import tqdm\n",
    "\n",
    "import torch\n",
    "import torch.nn as nn\n",
    "import torch.nn.functional as F\n",
    "from torch_geometric.datasets import QM9\n",
    "from torch_geometric.data import Data\n",
    "import torch_geometric.transforms as T\n",
    "from torch_geometric.loader import DataLoader\n",
    "from torch_geometric.nn import GCNConv, global_mean_pool\n",
    "from torch_geometric.utils import dense_to_sparse, remove_self_loops\n",
    "from data_utils import *"
   ]
  },
  {
   "cell_type": "code",
   "execution_count": 11,
   "metadata": {},
   "outputs": [],
   "source": [
    "device = torch.device('cuda' if torch.cuda.is_available() else 'cpu')\n",
    "\n",
    "max_num_nodes = 29\n",
    "\n",
    "# TODO: pre-transform and store matrices to disk\n",
    "transform = T.Compose([\n",
    "    SelectQM9TargetProperties(properties=[\"homo\", \"lumo\"]),\n",
    "    SelectQM9NodeFeatures(features=[\"atom_type\"]),\n",
    "    AddAdjacencyMatrix(max_num_nodes=max_num_nodes),\n",
    "    AddNodeAttributeMatrix(max_num_nodes=max_num_nodes),\n",
    "    AddEdgeAttributeMatrix(max_num_nodes=max_num_nodes),\n",
    "    T.ToDevice(device=device)\n",
    "])\n",
    "\n",
    "dataset = QM9(root=\"./data\", transform=transform)\n",
    "\n",
    "train_dataset, val_dataset, test_dataset = create_qm9_data_split(dataset=dataset)\n",
    "\n",
    "num_node_features = dataset.num_node_features\n",
    "num_edge_features = dataset.num_edge_features"
   ]
  },
  {
   "cell_type": "code",
   "execution_count": 41,
   "metadata": {},
   "outputs": [],
   "source": [
    "class Encoder(nn.Module):\n",
    "\n",
    "    def __init__(self, hparams: Dict[str, Any]) -> None:\n",
    "        super().__init__()\n",
    "\n",
    "        # TODO: two graph convolutional layers (32 and 64 channels) with identity connection (edge conditioned graph convolution)\n",
    "        self.conv1 = GCNConv(in_channels=hparams[\"num_node_features\"], out_channels=32)\n",
    "        self.conv2 = GCNConv(in_channels=32, out_channels=64)\n",
    "        self.fc = nn.Linear(in_features=64, out_features=128)\n",
    "\n",
    "    def forward(self, data: Data):\n",
    "        x, edge_index, batch, edge_attr = data.x, data.edge_index, data.batch, data.edge_attr\n",
    "\n",
    "        x = self.conv1(x, edge_index)\n",
    "        x = F.relu(x)\n",
    "        x = self.conv2(x, edge_index)\n",
    "        x = global_mean_pool(x, batch)\n",
    "        x = self.fc(x)\n",
    "        return x\n",
    "    \n",
    "class Decoder(nn.Module):\n",
    "\n",
    "    def __init__(self, hparams: Dict[str, Any]) -> None:\n",
    "        super().__init__()\n",
    "\n",
    "        self.fcls = nn.Sequential(\n",
    "            nn.Linear(in_features=128, out_features=128),\n",
    "            nn.BatchNorm1d(num_features=128),\n",
    "            nn.ReLU(),\n",
    "            nn.Linear(in_features=128, out_features=256),\n",
    "            nn.BatchNorm1d(num_features=256),\n",
    "            nn.ReLU(),\n",
    "            nn.Linear(in_features=256, out_features=512),\n",
    "            nn.BatchNorm1d(num_features=512),\n",
    "            nn.ReLU(),\n",
    "        )\n",
    "\n",
    "        self.max_num_nodes = hparams[\"max_num_nodes\"]\n",
    "        self.num_node_features = hparams[\"num_node_features\"]\n",
    "\n",
    "        # the atom graph is symmetric so we only predict the upper triangular part\n",
    "        # and the diagonal that indicates the presence of nodes\n",
    "        upper_triangular_diag_size = int(self.max_num_nodes * (self.max_num_nodes + 1) / 2)\n",
    "        self.fc_adjacency = nn.Linear(in_features=512, out_features=upper_triangular_diag_size)\n",
    "\n",
    "        self.fc_node_features = nn.Linear(in_features=512, out_features=self.max_num_nodes * num_node_features)\n",
    "\n",
    "        self.max_num_edges = int(self.max_num_nodes * (self.max_num_nodes - 1) / 2)\n",
    "        self.num_edge_features = hparams[\"num_edge_features\"]\n",
    "        self.fc_edge_features = nn.Linear(in_features=512, out_features=self.max_num_edges * self.num_edge_features)\n",
    "        \n",
    "\n",
    "    def forward(self, z: torch.Tensor) -> Tuple[torch.Tensor, torch.Tensor, torch.Tensor]:\n",
    "        x = self.fcls(z)\n",
    "        # predict upper triangular matrix including the diagonal\n",
    "        adj_triu_mat = self.fc_adjacency(x)\n",
    "        node_features = self.fc_node_features(x)\n",
    "        edge_features = self.fc_edge_features(x)\n",
    "\n",
    "        # reshape matrices\n",
    "        node_mat = node_features.view(-1, self.max_num_nodes, self.num_node_features)\n",
    "        edge_mat = edge_features.view(-1, self.max_num_edges, self.num_edge_features)\n",
    "\n",
    "        return adj_triu_mat, node_mat, edge_mat\n",
    "\n",
    "\n",
    "class GraphVAE(nn.Module):\n",
    "\n",
    "    def __init__(self, hparams: Dict[str, Any]) -> None:\n",
    "        super().__init__()\n",
    "\n",
    "        self.encoder = Encoder(hparams=hparams)\n",
    "        self.decoder = Decoder(hparams=hparams)\n",
    "\n",
    "    def forward(self, data) -> Tuple[torch.Tensor, torch.Tensor, torch.Tensor]:\n",
    "        z = self.encoder(data)\n",
    "        x = self.decoder(z)\n",
    "        return x\n",
    "    \n",
    "    def reconstruction_loss(\n",
    "        self, \n",
    "        input: Tuple[torch.Tensor, torch.Tensor, torch.Tensor], \n",
    "        target: Tuple[torch.Tensor, torch.Tensor, torch.Tensor]\n",
    "    ):\n",
    "        input_adj_triu_mat, input_node_mat, input_edge_mat = input\n",
    "        target_adj_triu_mat, target_node_mat, target_edge_mat = target\n",
    "\n",
    "        # TODO: average over separately over diagonal and off-diagonal elements\n",
    "        adjacency_loss = F.binary_cross_entropy_with_logits(input=input_adj_triu_mat, target=target_adj_triu_mat)\n",
    "\n",
    "        node_mat_logits = input_node_mat.view(-1, input_node_mat.size(-1))\n",
    "        node_targets = target_node_mat.argmax(dim=2).view(-1)\n",
    "        node_feature_loss = F.cross_entropy(input=node_mat_logits, target=node_targets)\n",
    "\n",
    "        # TODO: average loss only over edge that exist in the target\n",
    "        edge_mat_logits = input_edge_mat.view(-1, input_edge_mat.size(-1))\n",
    "        edge_targets = target_edge_mat.argmax(dim=2).view(-1)\n",
    "        edge_feature_loss = F.cross_entropy(input=edge_mat_logits, target=edge_targets)\n",
    "\n",
    "        return adjacency_loss + node_feature_loss + edge_feature_loss\n"
   ]
  },
  {
   "cell_type": "code",
   "execution_count": 137,
   "metadata": {},
   "outputs": [],
   "source": [
    "hparams = {\n",
    "    \"batch_size\": 32,\n",
    "    \"max_num_nodes\": max_num_nodes,\n",
    "    \"learning_rate\": 1e-3,\n",
    "    \"beta_1\": 0.5,\n",
    "    \"epochs\": 200,\n",
    "    \"num_node_features\": num_node_features,\n",
    "    \"num_edge_features\": num_edge_features\n",
    "}\n",
    "\n",
    "# TODO: add kl-loss\n",
    "# TODO: add metric evaluation\n",
    "\n",
    "# TODO: implement encoder from the paper\n",
    "# TODO: graph matching\n",
    "\n",
    "batch_size = hparams[\"batch_size\"]\n",
    "dataloaders = {\n",
    "    \"train_single\": DataLoader(train_dataset[:1], batch_size=batch_size, shuffle=True),\n",
    "    \"train_tiny\": DataLoader(train_dataset[:batch_size], batch_size=batch_size, shuffle=True),\n",
    "    \"train_small\": DataLoader(train_dataset[:4096], batch_size=batch_size, shuffle=True),\n",
    "    \"train\": DataLoader(train_dataset, batch_size=batch_size, shuffle=True),\n",
    "\n",
    "    \"val\": DataLoader(val_dataset, batch_size=batch_size, shuffle=False)\n",
    "}\n",
    "\n",
    "val_subset_count = 32\n",
    "dataloaders[\"val_subsets\"] = create_validation_subset_loaders(validation_dataset=val_dataset, subset_count=32, batch_size=batch_size)"
   ]
  },
  {
   "cell_type": "code",
   "execution_count": 138,
   "metadata": {},
   "outputs": [
    {
     "name": "stderr",
     "output_type": "stream",
     "text": [
      "Epoch 1 Training: 100%|██████████| 1/1 [00:00<00:00,  2.45it/s]\n"
     ]
    },
    {
     "name": "stdout",
     "output_type": "stream",
     "text": [
      "Data(x=[20, 5], edge_index=[2, 44], edge_attr=[44, 4], y=[1, 2], pos=[20, 3], z=[20], smiles='[H]N1[C@@]2([H])[C@]3(O[C@]3([H])C([H])([H])C([H])([H])[H])C([H])([H])[C@@]12[H]', name='gdb_113461', idx=[1], adj_triu_mat=[1, 435], node_mat=[1, 29, 5], edge_mat=[1, 406, 4])\n",
      "Data(x=[17, 5], edge_index=[2, 44], edge_attr=[44, 4])\n"
     ]
    },
    {
     "name": "stderr",
     "output_type": "stream",
     "text": [
      "Epoch 2 Training: 100%|██████████| 1/1 [00:00<00:00, 28.50it/s]\n"
     ]
    },
    {
     "name": "stdout",
     "output_type": "stream",
     "text": [
      "Data(x=[18, 5], edge_index=[2, 36], edge_attr=[36, 4], y=[1, 2], pos=[18, 3], z=[18], smiles='[H]O[C@]1([H])C([H])=C(C([H])([H])[H])C([H])([H])[C@@]1([H])C#N', name='gdb_84136', idx=[1], adj_triu_mat=[1, 435], node_mat=[1, 29, 5], edge_mat=[1, 406, 4])\n",
      "Data(x=[17, 5], edge_index=[2, 45], edge_attr=[45, 4])\n"
     ]
    },
    {
     "name": "stderr",
     "output_type": "stream",
     "text": [
      "Epoch 3 Training: 100%|██████████| 1/1 [00:00<00:00, 19.09it/s]\n"
     ]
    },
    {
     "name": "stdout",
     "output_type": "stream",
     "text": [
      "Data(x=[15, 5], edge_index=[2, 30], edge_attr=[30, 4], y=[1, 2], pos=[15, 3], z=[15], smiles='[H]C#C[C@@]1([H])[NH2+]C(C([H])([H])[H])OC1([H])[H]', name='gdb_11226', idx=[1], adj_triu_mat=[1, 435], node_mat=[1, 29, 5], edge_mat=[1, 406, 4])\n",
      "Data(x=[18, 5], edge_index=[2, 32], edge_attr=[32, 4])\n"
     ]
    },
    {
     "name": "stderr",
     "output_type": "stream",
     "text": [
      "Epoch 4 Training: 100%|██████████| 1/1 [00:00<00:00, 27.83it/s]\n"
     ]
    },
    {
     "name": "stdout",
     "output_type": "stream",
     "text": [
      "Data(x=[15, 5], edge_index=[2, 30], edge_attr=[30, 4], y=[1, 2], pos=[15, 3], z=[15], smiles='[H]C#C[C@@]1([H])[NH2+]C(C([H])([H])[H])OC1([H])[H]', name='gdb_11226', idx=[1], adj_triu_mat=[1, 435], node_mat=[1, 29, 5], edge_mat=[1, 406, 4])\n",
      "Data(x=[19, 5], edge_index=[2, 20], edge_attr=[20, 4])\n"
     ]
    },
    {
     "name": "stderr",
     "output_type": "stream",
     "text": [
      "Epoch 5 Training: 100%|██████████| 1/1 [00:00<00:00, 27.78it/s]\n"
     ]
    },
    {
     "name": "stdout",
     "output_type": "stream",
     "text": [
      "Data(x=[20, 5], edge_index=[2, 46], edge_attr=[46, 4], y=[1, 2], pos=[20, 3], z=[20], smiles='[H]C([H])([H])[C@@]12[N@@H+]3[C@@]4([H])[C@]3([H])[C@]1(C([H])([H])[H])[C@@]4([H])C2([H])[H]', name='gdb_71709', idx=[1], adj_triu_mat=[1, 435], node_mat=[1, 29, 5], edge_mat=[1, 406, 4])\n",
      "Data(x=[19, 5], edge_index=[2, 14], edge_attr=[14, 4])\n"
     ]
    },
    {
     "name": "stderr",
     "output_type": "stream",
     "text": [
      "Epoch 6 Training: 100%|██████████| 1/1 [00:00<00:00, 27.55it/s]\n"
     ]
    },
    {
     "name": "stdout",
     "output_type": "stream",
     "text": [
      "Data(x=[14, 5], edge_index=[2, 30], edge_attr=[30, 4], y=[1, 2], pos=[14, 3], z=[14], smiles='[H]N([H])C1=NC([C@]2([H])OC2([H])[H])=NO1', name='gdb_129970', idx=[1], adj_triu_mat=[1, 435], node_mat=[1, 29, 5], edge_mat=[1, 406, 4])\n",
      "Data(x=[19, 5], edge_index=[2, 12], edge_attr=[12, 4])\n"
     ]
    },
    {
     "name": "stderr",
     "output_type": "stream",
     "text": [
      "Epoch 7 Training: 100%|██████████| 1/1 [00:00<00:00, 26.13it/s]\n"
     ]
    },
    {
     "name": "stdout",
     "output_type": "stream",
     "text": [
      "Data(x=[19, 5], edge_index=[2, 40], edge_attr=[40, 4], y=[1, 2], pos=[19, 3], z=[19], smiles='[H]OC([H])([H])[C@@]1(C([H])([H])[H])[N@@H+]2C([H])([H])[C@]2([H])C1([H])[H]', name='gdb_12062', idx=[1], adj_triu_mat=[1, 435], node_mat=[1, 29, 5], edge_mat=[1, 406, 4])\n",
      "Data(x=[19, 5], edge_index=[2, 11], edge_attr=[11, 4])\n"
     ]
    },
    {
     "name": "stderr",
     "output_type": "stream",
     "text": [
      "Epoch 8 Training: 100%|██████████| 1/1 [00:00<00:00, 27.91it/s]\n"
     ]
    },
    {
     "name": "stdout",
     "output_type": "stream",
     "text": [
      "Data(x=[15, 5], edge_index=[2, 30], edge_attr=[30, 4], y=[1, 2], pos=[15, 3], z=[15], smiles='[H]O[C@]1([H])C(=O)C([H])([H])O[C@@]1([H])C([H])=O', name='gdb_77366', idx=[1], adj_triu_mat=[1, 435], node_mat=[1, 29, 5], edge_mat=[1, 406, 4])\n",
      "Data(x=[19, 5], edge_index=[2, 12], edge_attr=[12, 4])\n"
     ]
    },
    {
     "name": "stderr",
     "output_type": "stream",
     "text": [
      "Epoch 9 Training: 100%|██████████| 1/1 [00:00<00:00, 28.25it/s]\n"
     ]
    },
    {
     "name": "stdout",
     "output_type": "stream",
     "text": [
      "Data(x=[17, 5], edge_index=[2, 34], edge_attr=[34, 4], y=[1, 2], pos=[17, 3], z=[17], smiles='[H]C#C[C@]1([H])OC1(C([H])([H])O[H])C([H])([H])O[H]', name='gdb_104761', idx=[1], adj_triu_mat=[1, 435], node_mat=[1, 29, 5], edge_mat=[1, 406, 4])\n",
      "Data(x=[19, 5], edge_index=[2, 12], edge_attr=[12, 4])\n"
     ]
    },
    {
     "name": "stderr",
     "output_type": "stream",
     "text": [
      "Epoch 10 Training: 100%|██████████| 1/1 [00:00<00:00, 28.17it/s]\n"
     ]
    },
    {
     "name": "stdout",
     "output_type": "stream",
     "text": [
      "Data(x=[17, 5], edge_index=[2, 34], edge_attr=[34, 4], y=[1, 2], pos=[17, 3], z=[17], smiles='[H]C#C[C@]1([H])OC1(C([H])([H])O[H])C([H])([H])O[H]', name='gdb_104761', idx=[1], adj_triu_mat=[1, 435], node_mat=[1, 29, 5], edge_mat=[1, 406, 4])\n",
      "Data(x=[19, 5], edge_index=[2, 12], edge_attr=[12, 4])\n"
     ]
    },
    {
     "name": "stderr",
     "output_type": "stream",
     "text": [
      "Epoch 11 Training: 100%|██████████| 1/1 [00:00<00:00, 16.45it/s]\n"
     ]
    },
    {
     "name": "stdout",
     "output_type": "stream",
     "text": [
      "Data(x=[20, 5], edge_index=[2, 40], edge_attr=[40, 4], y=[1, 2], pos=[20, 3], z=[20], smiles='[H]OC([H])([H])[C@@]([H])([N@H+]1C([H])([H])[C@@]1([H])C([H])=O)C([H])([H])[H]', name='gdb_101299', idx=[1], adj_triu_mat=[1, 435], node_mat=[1, 29, 5], edge_mat=[1, 406, 4])\n",
      "Data(x=[19, 5], edge_index=[2, 12], edge_attr=[12, 4])\n"
     ]
    },
    {
     "name": "stderr",
     "output_type": "stream",
     "text": [
      "Epoch 12 Training: 100%|██████████| 1/1 [00:00<00:00, 28.46it/s]\n"
     ]
    },
    {
     "name": "stdout",
     "output_type": "stream",
     "text": [
      "Data(x=[20, 5], edge_index=[2, 46], edge_attr=[46, 4], y=[1, 2], pos=[20, 3], z=[20], smiles='[H]C([H])([H])[C@@]12[N@@H+]3[C@@]4([H])[C@]3([H])[C@]1(C([H])([H])[H])[C@@]4([H])C2([H])[H]', name='gdb_71709', idx=[1], adj_triu_mat=[1, 435], node_mat=[1, 29, 5], edge_mat=[1, 406, 4])\n",
      "Data(x=[19, 5], edge_index=[2, 12], edge_attr=[12, 4])\n"
     ]
    },
    {
     "name": "stderr",
     "output_type": "stream",
     "text": [
      "Epoch 13 Training: 100%|██████████| 1/1 [00:00<00:00, 29.51it/s]\n"
     ]
    },
    {
     "name": "stdout",
     "output_type": "stream",
     "text": [
      "Data(x=[18, 5], edge_index=[2, 38], edge_attr=[38, 4], y=[1, 2], pos=[18, 3], z=[18], smiles='[H]C1=C([H])[C@@]2([H])C([H])([H])[C@@]2([H])OC([H])([H])C1([H])[H]', name='gdb_18391', idx=[1], adj_triu_mat=[1, 435], node_mat=[1, 29, 5], edge_mat=[1, 406, 4])\n",
      "Data(x=[19, 5], edge_index=[2, 12], edge_attr=[12, 4])\n"
     ]
    },
    {
     "name": "stderr",
     "output_type": "stream",
     "text": [
      "Epoch 14 Training: 100%|██████████| 1/1 [00:00<00:00, 29.11it/s]\n"
     ]
    },
    {
     "name": "stdout",
     "output_type": "stream",
     "text": [
      "Data(x=[15, 5], edge_index=[2, 30], edge_attr=[30, 4], y=[1, 2], pos=[15, 3], z=[15], smiles='[H]O[C@]1([H])C(=O)C([H])([H])O[C@@]1([H])C([H])=O', name='gdb_77366', idx=[1], adj_triu_mat=[1, 435], node_mat=[1, 29, 5], edge_mat=[1, 406, 4])\n",
      "Data(x=[18, 5], edge_index=[2, 12], edge_attr=[12, 4])\n"
     ]
    },
    {
     "name": "stderr",
     "output_type": "stream",
     "text": [
      "Epoch 15 Training: 100%|██████████| 1/1 [00:00<00:00, 29.24it/s]\n"
     ]
    },
    {
     "name": "stdout",
     "output_type": "stream",
     "text": [
      "Data(x=[18, 5], edge_index=[2, 36], edge_attr=[36, 4], y=[1, 2], pos=[18, 3], z=[18], smiles='[H][N-]C1OC([H])([H])C([NH2+]C([H])([H])[H])N([H])C1([H])[H]', name='gdb_97045', idx=[1], adj_triu_mat=[1, 435], node_mat=[1, 29, 5], edge_mat=[1, 406, 4])\n",
      "Data(x=[18, 5], edge_index=[2, 12], edge_attr=[12, 4])\n"
     ]
    },
    {
     "name": "stderr",
     "output_type": "stream",
     "text": [
      "Epoch 16 Training: 100%|██████████| 1/1 [00:00<00:00, 29.49it/s]"
     ]
    },
    {
     "name": "stdout",
     "output_type": "stream",
     "text": [
      "Data(x=[17, 5], edge_index=[2, 34], edge_attr=[34, 4], y=[1, 2], pos=[17, 3], z=[17], smiles='[H]C([H])([H])C([H])([H])O[C@]1([H])OC(=O)OC1([H])[H]', name='gdb_121054', idx=[1], adj_triu_mat=[1, 435], node_mat=[1, 29, 5], edge_mat=[1, 406, 4])\n"
     ]
    },
    {
     "name": "stderr",
     "output_type": "stream",
     "text": [
      "\n"
     ]
    },
    {
     "name": "stdout",
     "output_type": "stream",
     "text": [
      "Data(x=[18, 5], edge_index=[2, 12], edge_attr=[12, 4])\n"
     ]
    },
    {
     "name": "stderr",
     "output_type": "stream",
     "text": [
      "Epoch 17 Training: 100%|██████████| 1/1 [00:00<00:00, 28.90it/s]\n"
     ]
    },
    {
     "name": "stdout",
     "output_type": "stream",
     "text": [
      "Data(x=[16, 5], edge_index=[2, 34], edge_attr=[34, 4], y=[1, 2], pos=[16, 3], z=[16], smiles='[H]O[C@@]1(C#N)C([H])([H])[C@@]1([H])[C@]1([H])OC1([H])[H]', name='gdb_65372', idx=[1], adj_triu_mat=[1, 435], node_mat=[1, 29, 5], edge_mat=[1, 406, 4])\n",
      "Data(x=[18, 5], edge_index=[2, 12], edge_attr=[12, 4])\n"
     ]
    },
    {
     "name": "stderr",
     "output_type": "stream",
     "text": [
      "Epoch 18 Training: 100%|██████████| 1/1 [00:00<00:00, 29.33it/s]\n"
     ]
    },
    {
     "name": "stdout",
     "output_type": "stream",
     "text": [
      "Data(x=[16, 5], edge_index=[2, 34], edge_attr=[34, 4], y=[1, 2], pos=[16, 3], z=[16], smiles='[H]O[C@@]1(C#N)C([H])([H])[C@@]1([H])[C@]1([H])OC1([H])[H]', name='gdb_65372', idx=[1], adj_triu_mat=[1, 435], node_mat=[1, 29, 5], edge_mat=[1, 406, 4])\n",
      "Data(x=[18, 5], edge_index=[2, 12], edge_attr=[12, 4])\n"
     ]
    },
    {
     "name": "stderr",
     "output_type": "stream",
     "text": [
      "Epoch 19 Training: 100%|██████████| 1/1 [00:00<00:00, 29.27it/s]"
     ]
    },
    {
     "name": "stdout",
     "output_type": "stream",
     "text": [
      "Data(x=[19, 5], edge_index=[2, 40], edge_attr=[40, 4], y=[1, 2], pos=[19, 3], z=[19], smiles='[H]/C1=N/C([H])([H])C([H])([H])[N@H+]2C([H])([H])[C@@]2([H])C([H])([H])O1', name='gdb_39380', idx=[1], adj_triu_mat=[1, 435], node_mat=[1, 29, 5], edge_mat=[1, 406, 4])\n"
     ]
    },
    {
     "name": "stderr",
     "output_type": "stream",
     "text": [
      "\n"
     ]
    },
    {
     "name": "stdout",
     "output_type": "stream",
     "text": [
      "Data(x=[18, 5], edge_index=[2, 13], edge_attr=[13, 4])\n"
     ]
    },
    {
     "name": "stderr",
     "output_type": "stream",
     "text": [
      "Epoch 20 Training: 100%|██████████| 1/1 [00:00<00:00, 28.64it/s]"
     ]
    },
    {
     "name": "stdout",
     "output_type": "stream",
     "text": [
      "Data(x=[17, 5], edge_index=[2, 32], edge_attr=[32, 4], y=[1, 2], pos=[17, 3], z=[17], smiles='[H]/N=C(/OC([H])([H])C([H])([H])O[H])N([H])C([H])=O', name='gdb_121723', idx=[1], adj_triu_mat=[1, 435], node_mat=[1, 29, 5], edge_mat=[1, 406, 4])\n"
     ]
    },
    {
     "name": "stderr",
     "output_type": "stream",
     "text": [
      "\n"
     ]
    },
    {
     "name": "stdout",
     "output_type": "stream",
     "text": [
      "Data(x=[18, 5], edge_index=[2, 13], edge_attr=[13, 4])\n"
     ]
    },
    {
     "name": "stderr",
     "output_type": "stream",
     "text": [
      "Epoch 21 Training: 100%|██████████| 1/1 [00:00<00:00, 28.98it/s]\n"
     ]
    },
    {
     "name": "stdout",
     "output_type": "stream",
     "text": [
      "Data(x=[20, 5], edge_index=[2, 44], edge_attr=[44, 4], y=[1, 2], pos=[20, 3], z=[20], smiles='[H]N1[C@@]2([H])[C@]3(O[C@]3([H])C([H])([H])C([H])([H])[H])C([H])([H])[C@@]12[H]', name='gdb_113461', idx=[1], adj_triu_mat=[1, 435], node_mat=[1, 29, 5], edge_mat=[1, 406, 4])\n",
      "Data(x=[18, 5], edge_index=[2, 13], edge_attr=[13, 4])\n"
     ]
    },
    {
     "name": "stderr",
     "output_type": "stream",
     "text": [
      "Epoch 22 Training: 100%|██████████| 1/1 [00:00<00:00, 29.61it/s]"
     ]
    },
    {
     "name": "stdout",
     "output_type": "stream",
     "text": [
      "Data(x=[14, 5], edge_index=[2, 30], edge_attr=[30, 4], y=[1, 2], pos=[14, 3], z=[14], smiles='[H]N([H])C1=NC([C@]2([H])OC2([H])[H])=NO1', name='gdb_129970', idx=[1], adj_triu_mat=[1, 435], node_mat=[1, 29, 5], edge_mat=[1, 406, 4])\n"
     ]
    },
    {
     "name": "stderr",
     "output_type": "stream",
     "text": [
      "\n"
     ]
    },
    {
     "name": "stdout",
     "output_type": "stream",
     "text": [
      "Data(x=[18, 5], edge_index=[2, 13], edge_attr=[13, 4])\n"
     ]
    },
    {
     "name": "stderr",
     "output_type": "stream",
     "text": [
      "Epoch 23 Training: 100%|██████████| 1/1 [00:00<00:00, 26.91it/s]"
     ]
    },
    {
     "name": "stdout",
     "output_type": "stream",
     "text": [
      "Data(x=[17, 5], edge_index=[2, 32], edge_attr=[32, 4], y=[1, 2], pos=[17, 3], z=[17], smiles='[H]/N=C(/OC([H])([H])C([H])([H])O[H])N([H])C([H])=O', name='gdb_121723', idx=[1], adj_triu_mat=[1, 435], node_mat=[1, 29, 5], edge_mat=[1, 406, 4])\n"
     ]
    },
    {
     "name": "stderr",
     "output_type": "stream",
     "text": [
      "\n"
     ]
    },
    {
     "name": "stdout",
     "output_type": "stream",
     "text": [
      "Data(x=[18, 5], edge_index=[2, 14], edge_attr=[14, 4])\n"
     ]
    },
    {
     "name": "stderr",
     "output_type": "stream",
     "text": [
      "Epoch 24 Training: 100%|██████████| 1/1 [00:00<00:00, 26.79it/s]\n"
     ]
    },
    {
     "name": "stdout",
     "output_type": "stream",
     "text": [
      "Data(x=[23, 5], edge_index=[2, 48], edge_attr=[48, 4], y=[1, 2], pos=[23, 3], z=[23], smiles='[H]C1=C(C([H])([H])[H])[C@@]([H])(C([H])([H])[H])[C@]2([H])C([H])([H])[C@@]1([H])C2([H])[H]', name='gdb_80651', idx=[1], adj_triu_mat=[1, 435], node_mat=[1, 29, 5], edge_mat=[1, 406, 4])\n",
      "Data(x=[19, 5], edge_index=[2, 14], edge_attr=[14, 4])\n"
     ]
    },
    {
     "name": "stderr",
     "output_type": "stream",
     "text": [
      "Epoch 25 Training: 100%|██████████| 1/1 [00:00<00:00, 28.82it/s]\n"
     ]
    },
    {
     "name": "stdout",
     "output_type": "stream",
     "text": [
      "Data(x=[23, 5], edge_index=[2, 48], edge_attr=[48, 4], y=[1, 2], pos=[23, 3], z=[23], smiles='[H]C1=C(C([H])([H])[H])[C@@]([H])(C([H])([H])[H])[C@]2([H])C([H])([H])[C@@]1([H])C2([H])[H]', name='gdb_80651', idx=[1], adj_triu_mat=[1, 435], node_mat=[1, 29, 5], edge_mat=[1, 406, 4])\n",
      "Data(x=[19, 5], edge_index=[2, 14], edge_attr=[14, 4])\n"
     ]
    },
    {
     "name": "stderr",
     "output_type": "stream",
     "text": [
      "Epoch 26 Training: 100%|██████████| 1/1 [00:00<00:00, 28.89it/s]\n"
     ]
    },
    {
     "name": "stdout",
     "output_type": "stream",
     "text": [
      "Data(x=[18, 5], edge_index=[2, 38], edge_attr=[38, 4], y=[1, 2], pos=[18, 3], z=[18], smiles='[H]C1=NC([H])([H])C([NH2+]C2([H])C([H])([H])C2([H])[H])N1[H]', name='gdb_40843', idx=[1], adj_triu_mat=[1, 435], node_mat=[1, 29, 5], edge_mat=[1, 406, 4])\n",
      "Data(x=[18, 5], edge_index=[2, 14], edge_attr=[14, 4])\n"
     ]
    },
    {
     "name": "stderr",
     "output_type": "stream",
     "text": [
      "Epoch 27 Training: 100%|██████████| 1/1 [00:00<00:00, 29.36it/s]\n"
     ]
    },
    {
     "name": "stdout",
     "output_type": "stream",
     "text": [
      "Data(x=[23, 5], edge_index=[2, 50], edge_attr=[50, 4], y=[1, 2], pos=[23, 3], z=[23], smiles='[H]C([H])([H])[C@@]1([H])C([H])([H])[C@@]12C([H])([H])[C@@]1(C([H])([H])[H])C([H])([H])[C@]12[H]', name='gdb_87768', idx=[1], adj_triu_mat=[1, 435], node_mat=[1, 29, 5], edge_mat=[1, 406, 4])\n",
      "Data(x=[19, 5], edge_index=[2, 14], edge_attr=[14, 4])\n"
     ]
    },
    {
     "name": "stderr",
     "output_type": "stream",
     "text": [
      "Epoch 28 Training: 100%|██████████| 1/1 [00:00<00:00, 28.52it/s]\n"
     ]
    },
    {
     "name": "stdout",
     "output_type": "stream",
     "text": [
      "Data(x=[16, 5], edge_index=[2, 32], edge_attr=[32, 4], y=[1, 2], pos=[16, 3], z=[16], smiles='[H]C1=C(C#CC([H])([H])[H])C(N([H])[H])=C([H])O1', name='gdb_25701', idx=[1], adj_triu_mat=[1, 435], node_mat=[1, 29, 5], edge_mat=[1, 406, 4])\n",
      "Data(x=[18, 5], edge_index=[2, 14], edge_attr=[14, 4])\n"
     ]
    },
    {
     "name": "stderr",
     "output_type": "stream",
     "text": [
      "Epoch 29 Training: 100%|██████████| 1/1 [00:00<00:00, 29.13it/s]\n"
     ]
    },
    {
     "name": "stdout",
     "output_type": "stream",
     "text": [
      "Data(x=[16, 5], edge_index=[2, 32], edge_attr=[32, 4], y=[1, 2], pos=[16, 3], z=[16], smiles='[H]C1=C(C#CC([H])([H])[H])C(N([H])[H])=C([H])O1', name='gdb_25701', idx=[1], adj_triu_mat=[1, 435], node_mat=[1, 29, 5], edge_mat=[1, 406, 4])\n",
      "Data(x=[18, 5], edge_index=[2, 14], edge_attr=[14, 4])\n"
     ]
    },
    {
     "name": "stderr",
     "output_type": "stream",
     "text": [
      "Epoch 30 Training: 100%|██████████| 1/1 [00:00<00:00, 28.76it/s]\n"
     ]
    },
    {
     "name": "stdout",
     "output_type": "stream",
     "text": [
      "Data(x=[15, 5], edge_index=[2, 30], edge_attr=[30, 4], y=[1, 2], pos=[15, 3], z=[15], smiles='[H]OC1=NC(O[H])=C(C([H])([H])[H])N=C1[H]', name='gdb_28507', idx=[1], adj_triu_mat=[1, 435], node_mat=[1, 29, 5], edge_mat=[1, 406, 4])\n",
      "Data(x=[18, 5], edge_index=[2, 14], edge_attr=[14, 4])\n"
     ]
    },
    {
     "name": "stderr",
     "output_type": "stream",
     "text": [
      "Epoch 31 Training: 100%|██████████| 1/1 [00:00<00:00, 29.01it/s]\n"
     ]
    },
    {
     "name": "stdout",
     "output_type": "stream",
     "text": [
      "Data(x=[20, 5], edge_index=[2, 40], edge_attr=[40, 4], y=[1, 2], pos=[20, 3], z=[20], smiles='[H]OC([H])([H])[C@@]([H])([N@H+]1C([H])([H])[C@@]1([H])C([H])=O)C([H])([H])[H]', name='gdb_101299', idx=[1], adj_triu_mat=[1, 435], node_mat=[1, 29, 5], edge_mat=[1, 406, 4])\n",
      "Data(x=[19, 5], edge_index=[2, 14], edge_attr=[14, 4])\n"
     ]
    },
    {
     "name": "stderr",
     "output_type": "stream",
     "text": [
      "Epoch 32 Training: 100%|██████████| 1/1 [00:00<00:00, 29.21it/s]\n"
     ]
    },
    {
     "name": "stdout",
     "output_type": "stream",
     "text": [
      "Data(x=[25, 5], edge_index=[2, 52], edge_attr=[52, 4], y=[1, 2], pos=[25, 3], z=[25], smiles='[H]C([H])([H])C([H])([H])[C@@]1([H])C([H])([H])[C@@]([H])(C([H])([H])[H])[C@@]2([H])C([H])([H])[C@@]12[H]', name='gdb_112835', idx=[1], adj_triu_mat=[1, 435], node_mat=[1, 29, 5], edge_mat=[1, 406, 4])\n",
      "Data(x=[19, 5], edge_index=[2, 14], edge_attr=[14, 4])\n"
     ]
    },
    {
     "name": "stderr",
     "output_type": "stream",
     "text": [
      "Epoch 33 Training: 100%|██████████| 1/1 [00:00<00:00, 28.23it/s]\n"
     ]
    },
    {
     "name": "stdout",
     "output_type": "stream",
     "text": [
      "Data(x=[21, 5], edge_index=[2, 42], edge_attr=[42, 4], y=[1, 2], pos=[21, 3], z=[21], smiles='[H]O[C@]1([H])[C@]([H])(O[H])C([H])([H])C([H])=C([H])[C@]1([H])C([H])([H])[H]', name='gdb_92903', idx=[1], adj_triu_mat=[1, 435], node_mat=[1, 29, 5], edge_mat=[1, 406, 4])\n",
      "Data(x=[19, 5], edge_index=[2, 14], edge_attr=[14, 4])\n"
     ]
    },
    {
     "name": "stderr",
     "output_type": "stream",
     "text": [
      "Epoch 34 Training: 100%|██████████| 1/1 [00:00<00:00, 28.81it/s]\n"
     ]
    },
    {
     "name": "stdout",
     "output_type": "stream",
     "text": [
      "Data(x=[19, 5], edge_index=[2, 42], edge_attr=[42, 4], y=[1, 2], pos=[19, 3], z=[19], smiles='[H]C([H])([H])O[C@]12C([H])([H])[C@@]1([H])[C@@]1([H])O[C@]12C([H])([H])[H]', name='gdb_107257', idx=[1], adj_triu_mat=[1, 435], node_mat=[1, 29, 5], edge_mat=[1, 406, 4])\n",
      "Data(x=[18, 5], edge_index=[2, 15], edge_attr=[15, 4])\n"
     ]
    },
    {
     "name": "stderr",
     "output_type": "stream",
     "text": [
      "Epoch 35 Training: 100%|██████████| 1/1 [00:00<00:00, 29.13it/s]\n"
     ]
    },
    {
     "name": "stdout",
     "output_type": "stream",
     "text": [
      "Data(x=[20, 5], edge_index=[2, 40], edge_attr=[40, 4], y=[1, 2], pos=[20, 3], z=[20], smiles='[H]OC([H])([H])[C@@]([H])([N@H+]1C([H])([H])[C@@]1([H])C([H])=O)C([H])([H])[H]', name='gdb_101299', idx=[1], adj_triu_mat=[1, 435], node_mat=[1, 29, 5], edge_mat=[1, 406, 4])\n",
      "Data(x=[18, 5], edge_index=[2, 15], edge_attr=[15, 4])\n"
     ]
    },
    {
     "name": "stderr",
     "output_type": "stream",
     "text": [
      "Epoch 36 Training: 100%|██████████| 1/1 [00:00<00:00, 28.34it/s]\n"
     ]
    },
    {
     "name": "stdout",
     "output_type": "stream",
     "text": [
      "Data(x=[18, 5], edge_index=[2, 36], edge_attr=[36, 4], y=[1, 2], pos=[18, 3], z=[18], smiles='[H]O[C@]1([H])C([H])=C(C([H])([H])[H])C([H])([H])[C@@]1([H])C#N', name='gdb_84136', idx=[1], adj_triu_mat=[1, 435], node_mat=[1, 29, 5], edge_mat=[1, 406, 4])\n",
      "Data(x=[18, 5], edge_index=[2, 15], edge_attr=[15, 4])\n"
     ]
    },
    {
     "name": "stderr",
     "output_type": "stream",
     "text": [
      "Epoch 37 Training: 100%|██████████| 1/1 [00:00<00:00, 26.72it/s]\n"
     ]
    },
    {
     "name": "stdout",
     "output_type": "stream",
     "text": [
      "Data(x=[21, 5], edge_index=[2, 42], edge_attr=[42, 4], y=[1, 2], pos=[21, 3], z=[21], smiles='[H]OC1([C@]([H])(C([H])=O)C([H])([H])[H])C([H])([H])C([H])([H])C1([H])[H]', name='gdb_60858', idx=[1], adj_triu_mat=[1, 435], node_mat=[1, 29, 5], edge_mat=[1, 406, 4])\n",
      "Data(x=[19, 5], edge_index=[2, 16], edge_attr=[16, 4])\n"
     ]
    },
    {
     "name": "stderr",
     "output_type": "stream",
     "text": [
      "Epoch 38 Training: 100%|██████████| 1/1 [00:00<00:00, 29.41it/s]\n"
     ]
    },
    {
     "name": "stdout",
     "output_type": "stream",
     "text": [
      "Data(x=[16, 5], edge_index=[2, 34], edge_attr=[34, 4], y=[1, 2], pos=[16, 3], z=[16], smiles='[H]O[C@@]1(C#N)C([H])([H])[C@@]1([H])[C@]1([H])OC1([H])[H]', name='gdb_65372', idx=[1], adj_triu_mat=[1, 435], node_mat=[1, 29, 5], edge_mat=[1, 406, 4])\n",
      "Data(x=[18, 5], edge_index=[2, 16], edge_attr=[16, 4])\n"
     ]
    },
    {
     "name": "stderr",
     "output_type": "stream",
     "text": [
      "Epoch 39 Training: 100%|██████████| 1/1 [00:00<00:00, 28.60it/s]\n"
     ]
    },
    {
     "name": "stdout",
     "output_type": "stream",
     "text": [
      "Data(x=[21, 5], edge_index=[2, 42], edge_attr=[42, 4], y=[1, 2], pos=[21, 3], z=[21], smiles='[H]O[C@]1([H])[C@]([H])(O[H])C([H])([H])C([H])=C([H])[C@]1([H])C([H])([H])[H]', name='gdb_92903', idx=[1], adj_triu_mat=[1, 435], node_mat=[1, 29, 5], edge_mat=[1, 406, 4])\n",
      "Data(x=[19, 5], edge_index=[2, 16], edge_attr=[16, 4])\n"
     ]
    },
    {
     "name": "stderr",
     "output_type": "stream",
     "text": [
      "Epoch 40 Training: 100%|██████████| 1/1 [00:00<00:00, 29.44it/s]\n"
     ]
    },
    {
     "name": "stdout",
     "output_type": "stream",
     "text": [
      "Data(x=[20, 5], edge_index=[2, 44], edge_attr=[44, 4], y=[1, 2], pos=[20, 3], z=[20], smiles='[H]N1[C@@]2([H])[C@]3(O[C@]3([H])C([H])([H])C([H])([H])[H])C([H])([H])[C@@]12[H]', name='gdb_113461', idx=[1], adj_triu_mat=[1, 435], node_mat=[1, 29, 5], edge_mat=[1, 406, 4])\n",
      "Data(x=[18, 5], edge_index=[2, 16], edge_attr=[16, 4])\n"
     ]
    },
    {
     "name": "stderr",
     "output_type": "stream",
     "text": [
      "Epoch 41 Training: 100%|██████████| 1/1 [00:00<00:00, 28.53it/s]\n"
     ]
    },
    {
     "name": "stdout",
     "output_type": "stream",
     "text": [
      "Data(x=[19, 5], edge_index=[2, 42], edge_attr=[42, 4], y=[1, 2], pos=[19, 3], z=[19], smiles='[H]C([H])([H])O[C@]12C([H])([H])[C@@]1([H])[C@@]1([H])O[C@]12C([H])([H])[H]', name='gdb_107257', idx=[1], adj_triu_mat=[1, 435], node_mat=[1, 29, 5], edge_mat=[1, 406, 4])\n",
      "Data(x=[18, 5], edge_index=[2, 16], edge_attr=[16, 4])\n"
     ]
    },
    {
     "name": "stderr",
     "output_type": "stream",
     "text": [
      "Epoch 42 Training: 100%|██████████| 1/1 [00:00<00:00, 27.81it/s]\n"
     ]
    },
    {
     "name": "stdout",
     "output_type": "stream",
     "text": [
      "Data(x=[15, 5], edge_index=[2, 30], edge_attr=[30, 4], y=[1, 2], pos=[15, 3], z=[15], smiles='[H]C#C[C@@]1([H])[NH2+]C(C([H])([H])[H])OC1([H])[H]', name='gdb_11226', idx=[1], adj_triu_mat=[1, 435], node_mat=[1, 29, 5], edge_mat=[1, 406, 4])\n",
      "Data(x=[18, 5], edge_index=[2, 17], edge_attr=[17, 4])\n"
     ]
    },
    {
     "name": "stderr",
     "output_type": "stream",
     "text": [
      "Epoch 43 Training: 100%|██████████| 1/1 [00:00<00:00, 27.96it/s]\n"
     ]
    },
    {
     "name": "stdout",
     "output_type": "stream",
     "text": [
      "Data(x=[17, 5], edge_index=[2, 34], edge_attr=[34, 4], y=[1, 2], pos=[17, 3], z=[17], smiles='[H]C#C[C@]1([H])OC1(C([H])([H])O[H])C([H])([H])O[H]', name='gdb_104761', idx=[1], adj_triu_mat=[1, 435], node_mat=[1, 29, 5], edge_mat=[1, 406, 4])\n",
      "Data(x=[18, 5], edge_index=[2, 17], edge_attr=[17, 4])\n"
     ]
    },
    {
     "name": "stderr",
     "output_type": "stream",
     "text": [
      "Epoch 44 Training: 100%|██████████| 1/1 [00:00<00:00, 27.88it/s]\n"
     ]
    },
    {
     "name": "stdout",
     "output_type": "stream",
     "text": [
      "Data(x=[17, 5], edge_index=[2, 32], edge_attr=[32, 4], y=[1, 2], pos=[17, 3], z=[17], smiles='[H]/N=C(/OC([H])([H])C([H])([H])O[H])N([H])C([H])=O', name='gdb_121723', idx=[1], adj_triu_mat=[1, 435], node_mat=[1, 29, 5], edge_mat=[1, 406, 4])\n",
      "Data(x=[18, 5], edge_index=[2, 17], edge_attr=[17, 4])\n"
     ]
    },
    {
     "name": "stderr",
     "output_type": "stream",
     "text": [
      "Epoch 45 Training: 100%|██████████| 1/1 [00:00<00:00, 28.13it/s]\n"
     ]
    },
    {
     "name": "stdout",
     "output_type": "stream",
     "text": [
      "Data(x=[19, 5], edge_index=[2, 40], edge_attr=[40, 4], y=[1, 2], pos=[19, 3], z=[19], smiles='[H]OC([H])([H])[C@@]1(C([H])([H])[H])[N@@H+]2C([H])([H])[C@]2([H])C1([H])[H]', name='gdb_12062', idx=[1], adj_triu_mat=[1, 435], node_mat=[1, 29, 5], edge_mat=[1, 406, 4])\n",
      "Data(x=[19, 5], edge_index=[2, 17], edge_attr=[17, 4])\n"
     ]
    },
    {
     "name": "stderr",
     "output_type": "stream",
     "text": [
      "Epoch 46 Training: 100%|██████████| 1/1 [00:00<00:00, 28.20it/s]\n"
     ]
    },
    {
     "name": "stdout",
     "output_type": "stream",
     "text": [
      "Data(x=[18, 5], edge_index=[2, 38], edge_attr=[38, 4], y=[1, 2], pos=[18, 3], z=[18], smiles='[H]C#CC([H])([H])[C@]1(O[H])C([H])([H])[C@@]2([H])N([H])[C@@]12[H]', name='gdb_64721', idx=[1], adj_triu_mat=[1, 435], node_mat=[1, 29, 5], edge_mat=[1, 406, 4])\n",
      "Data(x=[18, 5], edge_index=[2, 17], edge_attr=[17, 4])\n"
     ]
    },
    {
     "name": "stderr",
     "output_type": "stream",
     "text": [
      "Epoch 47 Training: 100%|██████████| 1/1 [00:00<00:00, 28.13it/s]\n"
     ]
    },
    {
     "name": "stdout",
     "output_type": "stream",
     "text": [
      "Data(x=[18, 5], edge_index=[2, 36], edge_attr=[36, 4], y=[1, 2], pos=[18, 3], z=[18], smiles='[H]O[C@]1([H])C([H])=C(C([H])([H])[H])C([H])([H])[C@@]1([H])C#N', name='gdb_84136', idx=[1], adj_triu_mat=[1, 435], node_mat=[1, 29, 5], edge_mat=[1, 406, 4])\n",
      "Data(x=[18, 5], edge_index=[2, 17], edge_attr=[17, 4])\n"
     ]
    },
    {
     "name": "stderr",
     "output_type": "stream",
     "text": [
      "Epoch 48 Training: 100%|██████████| 1/1 [00:00<00:00, 28.08it/s]\n"
     ]
    },
    {
     "name": "stdout",
     "output_type": "stream",
     "text": [
      "Data(x=[21, 5], edge_index=[2, 42], edge_attr=[42, 4], y=[1, 2], pos=[21, 3], z=[21], smiles='[H]O[C@]1([H])C([H])([H])[C@]([H])(C([H])([H])C([H])([H])[H])[C@]1([H])C([H])=O', name='gdb_112792', idx=[1], adj_triu_mat=[1, 435], node_mat=[1, 29, 5], edge_mat=[1, 406, 4])\n",
      "Data(x=[18, 5], edge_index=[2, 17], edge_attr=[17, 4])\n"
     ]
    },
    {
     "name": "stderr",
     "output_type": "stream",
     "text": [
      "Epoch 49 Training: 100%|██████████| 1/1 [00:00<00:00, 28.68it/s]\n"
     ]
    },
    {
     "name": "stdout",
     "output_type": "stream",
     "text": [
      "Data(x=[19, 5], edge_index=[2, 40], edge_attr=[40, 4], y=[1, 2], pos=[19, 3], z=[19], smiles='[H]/C1=N/C([H])([H])C([H])([H])[N@H+]2C([H])([H])[C@@]2([H])C([H])([H])O1', name='gdb_39380', idx=[1], adj_triu_mat=[1, 435], node_mat=[1, 29, 5], edge_mat=[1, 406, 4])\n",
      "Data(x=[18, 5], edge_index=[2, 17], edge_attr=[17, 4])\n"
     ]
    },
    {
     "name": "stderr",
     "output_type": "stream",
     "text": [
      "Epoch 50 Training: 100%|██████████| 1/1 [00:00<00:00, 28.78it/s]\n"
     ]
    },
    {
     "name": "stdout",
     "output_type": "stream",
     "text": [
      "Data(x=[16, 5], edge_index=[2, 32], edge_attr=[32, 4], y=[1, 2], pos=[16, 3], z=[16], smiles='[H]C#CC#C[C@@]1(C([H])([H])O[H])N([H])C1([H])[H]', name='gdb_104944', idx=[1], adj_triu_mat=[1, 435], node_mat=[1, 29, 5], edge_mat=[1, 406, 4])\n",
      "Data(x=[18, 5], edge_index=[2, 17], edge_attr=[17, 4])\n"
     ]
    },
    {
     "name": "stderr",
     "output_type": "stream",
     "text": [
      "Epoch 51 Training: 100%|██████████| 1/1 [00:00<00:00, 29.03it/s]\n"
     ]
    },
    {
     "name": "stdout",
     "output_type": "stream",
     "text": [
      "Data(x=[18, 5], edge_index=[2, 36], edge_attr=[36, 4], y=[1, 2], pos=[18, 3], z=[18], smiles='[H]C(=O)C([H])([H])[C@]1([H])C([H])([H])O[C@]1([H])C([H])([H])[H]', name='gdb_13092', idx=[1], adj_triu_mat=[1, 435], node_mat=[1, 29, 5], edge_mat=[1, 406, 4])\n",
      "Data(x=[18, 5], edge_index=[2, 17], edge_attr=[17, 4])\n"
     ]
    },
    {
     "name": "stderr",
     "output_type": "stream",
     "text": [
      "Epoch 52 Training: 100%|██████████| 1/1 [00:00<00:00, 28.70it/s]\n"
     ]
    },
    {
     "name": "stdout",
     "output_type": "stream",
     "text": [
      "Data(x=[18, 5], edge_index=[2, 38], edge_attr=[38, 4], y=[1, 2], pos=[18, 3], z=[18], smiles='[H]C1=NC([H])([H])C([NH2+]C2([H])C([H])([H])C2([H])[H])N1[H]', name='gdb_40843', idx=[1], adj_triu_mat=[1, 435], node_mat=[1, 29, 5], edge_mat=[1, 406, 4])\n",
      "Data(x=[18, 5], edge_index=[2, 17], edge_attr=[17, 4])\n"
     ]
    },
    {
     "name": "stderr",
     "output_type": "stream",
     "text": [
      "Epoch 53 Training: 100%|██████████| 1/1 [00:00<00:00, 29.24it/s]\n"
     ]
    },
    {
     "name": "stdout",
     "output_type": "stream",
     "text": [
      "Data(x=[18, 5], edge_index=[2, 38], edge_attr=[38, 4], y=[1, 2], pos=[18, 3], z=[18], smiles='[H]C#CC([H])([H])[C@]1(O[H])C([H])([H])[C@@]2([H])N([H])[C@@]12[H]', name='gdb_64721', idx=[1], adj_triu_mat=[1, 435], node_mat=[1, 29, 5], edge_mat=[1, 406, 4])\n",
      "Data(x=[18, 5], edge_index=[2, 17], edge_attr=[17, 4])\n"
     ]
    },
    {
     "name": "stderr",
     "output_type": "stream",
     "text": [
      "Epoch 54 Training: 100%|██████████| 1/1 [00:00<00:00, 28.36it/s]\n"
     ]
    },
    {
     "name": "stdout",
     "output_type": "stream",
     "text": [
      "Data(x=[17, 5], edge_index=[2, 34], edge_attr=[34, 4], y=[1, 2], pos=[17, 3], z=[17], smiles='[H]C([H])([H])C([H])([H])O[C@]1([H])OC(=O)OC1([H])[H]', name='gdb_121054', idx=[1], adj_triu_mat=[1, 435], node_mat=[1, 29, 5], edge_mat=[1, 406, 4])\n",
      "Data(x=[18, 5], edge_index=[2, 18], edge_attr=[18, 4])\n"
     ]
    },
    {
     "name": "stderr",
     "output_type": "stream",
     "text": [
      "Epoch 55 Training: 100%|██████████| 1/1 [00:00<00:00, 28.41it/s]\n"
     ]
    },
    {
     "name": "stdout",
     "output_type": "stream",
     "text": [
      "Data(x=[21, 5], edge_index=[2, 42], edge_attr=[42, 4], y=[1, 2], pos=[21, 3], z=[21], smiles='[H]OC1([C@]([H])(C([H])=O)C([H])([H])[H])C([H])([H])C([H])([H])C1([H])[H]', name='gdb_60858', idx=[1], adj_triu_mat=[1, 435], node_mat=[1, 29, 5], edge_mat=[1, 406, 4])\n",
      "Data(x=[19, 5], edge_index=[2, 17], edge_attr=[17, 4])\n"
     ]
    },
    {
     "name": "stderr",
     "output_type": "stream",
     "text": [
      "Epoch 56 Training: 100%|██████████| 1/1 [00:00<00:00, 28.74it/s]\n"
     ]
    },
    {
     "name": "stdout",
     "output_type": "stream",
     "text": [
      "Data(x=[14, 5], edge_index=[2, 30], edge_attr=[30, 4], y=[1, 2], pos=[14, 3], z=[14], smiles='[H]N([H])C1=NC([C@]2([H])OC2([H])[H])=NO1', name='gdb_129970', idx=[1], adj_triu_mat=[1, 435], node_mat=[1, 29, 5], edge_mat=[1, 406, 4])\n",
      "Data(x=[18, 5], edge_index=[2, 18], edge_attr=[18, 4])\n"
     ]
    },
    {
     "name": "stderr",
     "output_type": "stream",
     "text": [
      "Epoch 57 Training: 100%|██████████| 1/1 [00:00<00:00, 28.55it/s]\n"
     ]
    },
    {
     "name": "stdout",
     "output_type": "stream",
     "text": [
      "Data(x=[18, 5], edge_index=[2, 36], edge_attr=[36, 4], y=[1, 2], pos=[18, 3], z=[18], smiles='[H]O[C@]1([H])C([H])=C(C([H])([H])[H])C([H])([H])[C@@]1([H])C#N', name='gdb_84136', idx=[1], adj_triu_mat=[1, 435], node_mat=[1, 29, 5], edge_mat=[1, 406, 4])\n",
      "Data(x=[18, 5], edge_index=[2, 17], edge_attr=[17, 4])\n"
     ]
    },
    {
     "name": "stderr",
     "output_type": "stream",
     "text": [
      "Epoch 58 Training: 100%|██████████| 1/1 [00:00<00:00, 28.27it/s]\n"
     ]
    },
    {
     "name": "stdout",
     "output_type": "stream",
     "text": [
      "Data(x=[16, 5], edge_index=[2, 32], edge_attr=[32, 4], y=[1, 2], pos=[16, 3], z=[16], smiles='[H]C#CC#C[C@@]1(C([H])([H])O[H])N([H])C1([H])[H]', name='gdb_104944', idx=[1], adj_triu_mat=[1, 435], node_mat=[1, 29, 5], edge_mat=[1, 406, 4])\n",
      "Data(x=[18, 5], edge_index=[2, 17], edge_attr=[17, 4])\n"
     ]
    },
    {
     "name": "stderr",
     "output_type": "stream",
     "text": [
      "Epoch 59 Training: 100%|██████████| 1/1 [00:00<00:00, 28.55it/s]\n"
     ]
    },
    {
     "name": "stdout",
     "output_type": "stream",
     "text": [
      "Data(x=[18, 5], edge_index=[2, 38], edge_attr=[38, 4], y=[1, 2], pos=[18, 3], z=[18], smiles='[H]C([H])([H])[C@]1([H])O[C@]2(C1([H])[H])C([H])([H])[C@@]2([H])C#N', name='gdb_89864', idx=[1], adj_triu_mat=[1, 435], node_mat=[1, 29, 5], edge_mat=[1, 406, 4])\n",
      "Data(x=[18, 5], edge_index=[2, 17], edge_attr=[17, 4])\n"
     ]
    },
    {
     "name": "stderr",
     "output_type": "stream",
     "text": [
      "Epoch 60 Training: 100%|██████████| 1/1 [00:00<00:00, 27.75it/s]\n"
     ]
    },
    {
     "name": "stdout",
     "output_type": "stream",
     "text": [
      "Data(x=[18, 5], edge_index=[2, 36], edge_attr=[36, 4], y=[1, 2], pos=[18, 3], z=[18], smiles='[H]O[C@]1([H])C([H])=C(C([H])([H])[H])C([H])([H])[C@@]1([H])C#N', name='gdb_84136', idx=[1], adj_triu_mat=[1, 435], node_mat=[1, 29, 5], edge_mat=[1, 406, 4])\n",
      "Data(x=[18, 5], edge_index=[2, 17], edge_attr=[17, 4])\n"
     ]
    },
    {
     "name": "stderr",
     "output_type": "stream",
     "text": [
      "Epoch 61 Training: 100%|██████████| 1/1 [00:00<00:00, 28.41it/s]\n"
     ]
    },
    {
     "name": "stdout",
     "output_type": "stream",
     "text": [
      "Data(x=[16, 5], edge_index=[2, 32], edge_attr=[32, 4], y=[1, 2], pos=[16, 3], z=[16], smiles='[H]C#CC#C[C@@]1(C([H])([H])O[H])N([H])C1([H])[H]', name='gdb_104944', idx=[1], adj_triu_mat=[1, 435], node_mat=[1, 29, 5], edge_mat=[1, 406, 4])\n",
      "Data(x=[18, 5], edge_index=[2, 17], edge_attr=[17, 4])\n"
     ]
    },
    {
     "name": "stderr",
     "output_type": "stream",
     "text": [
      "Epoch 62 Training: 100%|██████████| 1/1 [00:00<00:00, 28.53it/s]\n"
     ]
    },
    {
     "name": "stdout",
     "output_type": "stream",
     "text": [
      "Data(x=[14, 5], edge_index=[2, 30], edge_attr=[30, 4], y=[1, 2], pos=[14, 3], z=[14], smiles='[H]N([H])C1=NC([C@]2([H])OC2([H])[H])=NO1', name='gdb_129970', idx=[1], adj_triu_mat=[1, 435], node_mat=[1, 29, 5], edge_mat=[1, 406, 4])\n",
      "Data(x=[18, 5], edge_index=[2, 19], edge_attr=[19, 4])\n"
     ]
    },
    {
     "name": "stderr",
     "output_type": "stream",
     "text": [
      "Epoch 63 Training: 100%|██████████| 1/1 [00:00<00:00, 27.57it/s]\n"
     ]
    },
    {
     "name": "stdout",
     "output_type": "stream",
     "text": [
      "Data(x=[21, 5], edge_index=[2, 42], edge_attr=[42, 4], y=[1, 2], pos=[21, 3], z=[21], smiles='[H]O[C@]1([H])C([H])([H])[C@]([H])(C([H])([H])C([H])([H])[H])[C@]1([H])C([H])=O', name='gdb_112792', idx=[1], adj_triu_mat=[1, 435], node_mat=[1, 29, 5], edge_mat=[1, 406, 4])\n",
      "Data(x=[19, 5], edge_index=[2, 17], edge_attr=[17, 4])\n"
     ]
    },
    {
     "name": "stderr",
     "output_type": "stream",
     "text": [
      "Epoch 64 Training: 100%|██████████| 1/1 [00:00<00:00, 27.97it/s]\n"
     ]
    },
    {
     "name": "stdout",
     "output_type": "stream",
     "text": [
      "Data(x=[18, 5], edge_index=[2, 36], edge_attr=[36, 4], y=[1, 2], pos=[18, 3], z=[18], smiles='[H]O[C@]1([H])C([H])=C(C([H])([H])[H])C([H])([H])[C@@]1([H])C#N', name='gdb_84136', idx=[1], adj_triu_mat=[1, 435], node_mat=[1, 29, 5], edge_mat=[1, 406, 4])\n",
      "Data(x=[18, 5], edge_index=[2, 18], edge_attr=[18, 4])\n"
     ]
    },
    {
     "name": "stderr",
     "output_type": "stream",
     "text": [
      "Epoch 65 Training: 100%|██████████| 1/1 [00:00<00:00, 27.25it/s]\n"
     ]
    },
    {
     "name": "stdout",
     "output_type": "stream",
     "text": [
      "Data(x=[17, 5], edge_index=[2, 32], edge_attr=[32, 4], y=[1, 2], pos=[17, 3], z=[17], smiles='[H]O[C@@]([H])(C([H])=O)C([H])(C([H])([H])[H])C([H])([H])[H]', name='gdb_1626', idx=[1], adj_triu_mat=[1, 435], node_mat=[1, 29, 5], edge_mat=[1, 406, 4])\n",
      "Data(x=[19, 5], edge_index=[2, 17], edge_attr=[17, 4])\n"
     ]
    },
    {
     "name": "stderr",
     "output_type": "stream",
     "text": [
      "Epoch 66 Training: 100%|██████████| 1/1 [00:00<00:00, 28.31it/s]\n"
     ]
    },
    {
     "name": "stdout",
     "output_type": "stream",
     "text": [
      "Data(x=[17, 5], edge_index=[2, 34], edge_attr=[34, 4], y=[1, 2], pos=[17, 3], z=[17], smiles='[H]C([H])([H])C([H])([H])O[C@]1([H])OC(=O)OC1([H])[H]', name='gdb_121054', idx=[1], adj_triu_mat=[1, 435], node_mat=[1, 29, 5], edge_mat=[1, 406, 4])\n",
      "Data(x=[18, 5], edge_index=[2, 19], edge_attr=[19, 4])\n"
     ]
    },
    {
     "name": "stderr",
     "output_type": "stream",
     "text": [
      "Epoch 67 Training: 100%|██████████| 1/1 [00:00<00:00, 28.42it/s]\n"
     ]
    },
    {
     "name": "stdout",
     "output_type": "stream",
     "text": [
      "Data(x=[23, 5], edge_index=[2, 50], edge_attr=[50, 4], y=[1, 2], pos=[23, 3], z=[23], smiles='[H]C([H])([H])[C@@]1([H])C([H])([H])[C@@]12C([H])([H])[C@@]1(C([H])([H])[H])C([H])([H])[C@]12[H]', name='gdb_87768', idx=[1], adj_triu_mat=[1, 435], node_mat=[1, 29, 5], edge_mat=[1, 406, 4])\n",
      "Data(x=[19, 5], edge_index=[2, 19], edge_attr=[19, 4])\n"
     ]
    },
    {
     "name": "stderr",
     "output_type": "stream",
     "text": [
      "Epoch 68 Training: 100%|██████████| 1/1 [00:00<00:00, 27.33it/s]\n"
     ]
    },
    {
     "name": "stdout",
     "output_type": "stream",
     "text": [
      "Data(x=[15, 5], edge_index=[2, 30], edge_attr=[30, 4], y=[1, 2], pos=[15, 3], z=[15], smiles='[H]O[C@]1([H])C(=O)C([H])([H])O[C@@]1([H])C([H])=O', name='gdb_77366', idx=[1], adj_triu_mat=[1, 435], node_mat=[1, 29, 5], edge_mat=[1, 406, 4])\n",
      "Data(x=[18, 5], edge_index=[2, 19], edge_attr=[19, 4])\n"
     ]
    },
    {
     "name": "stderr",
     "output_type": "stream",
     "text": [
      "Epoch 69 Training: 100%|██████████| 1/1 [00:00<00:00, 26.78it/s]\n"
     ]
    },
    {
     "name": "stdout",
     "output_type": "stream",
     "text": [
      "Data(x=[18, 5], edge_index=[2, 38], edge_attr=[38, 4], y=[1, 2], pos=[18, 3], z=[18], smiles='[H]C1=NC([H])([H])C([NH2+]C2([H])C([H])([H])C2([H])[H])N1[H]', name='gdb_40843', idx=[1], adj_triu_mat=[1, 435], node_mat=[1, 29, 5], edge_mat=[1, 406, 4])\n",
      "Data(x=[18, 5], edge_index=[2, 17], edge_attr=[17, 4])\n"
     ]
    },
    {
     "name": "stderr",
     "output_type": "stream",
     "text": [
      "Epoch 70 Training: 100%|██████████| 1/1 [00:00<00:00, 27.85it/s]\n"
     ]
    },
    {
     "name": "stdout",
     "output_type": "stream",
     "text": [
      "Data(x=[17, 5], edge_index=[2, 32], edge_attr=[32, 4], y=[1, 2], pos=[17, 3], z=[17], smiles='[H]/N=C(/OC([H])([H])C([H])([H])O[H])N([H])C([H])=O', name='gdb_121723', idx=[1], adj_triu_mat=[1, 435], node_mat=[1, 29, 5], edge_mat=[1, 406, 4])\n",
      "Data(x=[18, 5], edge_index=[2, 19], edge_attr=[19, 4])\n"
     ]
    },
    {
     "name": "stderr",
     "output_type": "stream",
     "text": [
      "Epoch 71 Training: 100%|██████████| 1/1 [00:00<00:00, 29.34it/s]\n"
     ]
    },
    {
     "name": "stdout",
     "output_type": "stream",
     "text": [
      "Data(x=[18, 5], edge_index=[2, 36], edge_attr=[36, 4], y=[1, 2], pos=[18, 3], z=[18], smiles='[H][N-]C1OC([H])([H])C([NH2+]C([H])([H])[H])N([H])C1([H])[H]', name='gdb_97045', idx=[1], adj_triu_mat=[1, 435], node_mat=[1, 29, 5], edge_mat=[1, 406, 4])\n",
      "Data(x=[18, 5], edge_index=[2, 19], edge_attr=[19, 4])\n"
     ]
    },
    {
     "name": "stderr",
     "output_type": "stream",
     "text": [
      "Epoch 72 Training: 100%|██████████| 1/1 [00:00<00:00, 28.98it/s]\n"
     ]
    },
    {
     "name": "stdout",
     "output_type": "stream",
     "text": [
      "Data(x=[17, 5], edge_index=[2, 32], edge_attr=[32, 4], y=[1, 2], pos=[17, 3], z=[17], smiles='[H]O[C@@]([H])(C([H])=O)C([H])(C([H])([H])[H])C([H])([H])[H]', name='gdb_1626', idx=[1], adj_triu_mat=[1, 435], node_mat=[1, 29, 5], edge_mat=[1, 406, 4])\n",
      "Data(x=[19, 5], edge_index=[2, 17], edge_attr=[17, 4])\n"
     ]
    },
    {
     "name": "stderr",
     "output_type": "stream",
     "text": [
      "Epoch 73 Training: 100%|██████████| 1/1 [00:00<00:00, 28.74it/s]\n"
     ]
    },
    {
     "name": "stdout",
     "output_type": "stream",
     "text": [
      "Data(x=[17, 5], edge_index=[2, 34], edge_attr=[34, 4], y=[1, 2], pos=[17, 3], z=[17], smiles='[H]C#C[C@]1([H])OC1(C([H])([H])O[H])C([H])([H])O[H]', name='gdb_104761', idx=[1], adj_triu_mat=[1, 435], node_mat=[1, 29, 5], edge_mat=[1, 406, 4])\n",
      "Data(x=[18, 5], edge_index=[2, 19], edge_attr=[19, 4])\n"
     ]
    },
    {
     "name": "stderr",
     "output_type": "stream",
     "text": [
      "Epoch 74 Training: 100%|██████████| 1/1 [00:00<00:00, 28.34it/s]\n"
     ]
    },
    {
     "name": "stdout",
     "output_type": "stream",
     "text": [
      "Data(x=[20, 5], edge_index=[2, 44], edge_attr=[44, 4], y=[1, 2], pos=[20, 3], z=[20], smiles='[H]N1[C@@]2([H])[C@]3(O[C@]3([H])C([H])([H])C([H])([H])[H])C([H])([H])[C@@]12[H]', name='gdb_113461', idx=[1], adj_triu_mat=[1, 435], node_mat=[1, 29, 5], edge_mat=[1, 406, 4])\n",
      "Data(x=[19, 5], edge_index=[2, 18], edge_attr=[18, 4])\n"
     ]
    },
    {
     "name": "stderr",
     "output_type": "stream",
     "text": [
      "Epoch 75 Training: 100%|██████████| 1/1 [00:00<00:00, 28.92it/s]\n"
     ]
    },
    {
     "name": "stdout",
     "output_type": "stream",
     "text": [
      "Data(x=[17, 5], edge_index=[2, 34], edge_attr=[34, 4], y=[1, 2], pos=[17, 3], z=[17], smiles='[H]C([H])([H])C([H])([H])O[C@]1([H])OC(=O)OC1([H])[H]', name='gdb_121054', idx=[1], adj_triu_mat=[1, 435], node_mat=[1, 29, 5], edge_mat=[1, 406, 4])\n",
      "Data(x=[18, 5], edge_index=[2, 20], edge_attr=[20, 4])\n"
     ]
    },
    {
     "name": "stderr",
     "output_type": "stream",
     "text": [
      "Epoch 76 Training: 100%|██████████| 1/1 [00:00<00:00, 29.05it/s]\n"
     ]
    },
    {
     "name": "stdout",
     "output_type": "stream",
     "text": [
      "Data(x=[25, 5], edge_index=[2, 52], edge_attr=[52, 4], y=[1, 2], pos=[25, 3], z=[25], smiles='[H]C([H])([H])C([H])([H])[C@@]1([H])C([H])([H])[C@@]([H])(C([H])([H])[H])[C@@]2([H])C([H])([H])[C@@]12[H]', name='gdb_112835', idx=[1], adj_triu_mat=[1, 435], node_mat=[1, 29, 5], edge_mat=[1, 406, 4])\n",
      "Data(x=[20, 5], edge_index=[2, 16], edge_attr=[16, 4])\n"
     ]
    },
    {
     "name": "stderr",
     "output_type": "stream",
     "text": [
      "Epoch 77 Training: 100%|██████████| 1/1 [00:00<00:00, 28.24it/s]\n"
     ]
    },
    {
     "name": "stdout",
     "output_type": "stream",
     "text": [
      "Data(x=[20, 5], edge_index=[2, 46], edge_attr=[46, 4], y=[1, 2], pos=[20, 3], z=[20], smiles='[H]C([H])([H])[C@@]12[N@@H+]3[C@@]4([H])[C@]3([H])[C@]1(C([H])([H])[H])[C@@]4([H])C2([H])[H]', name='gdb_71709', idx=[1], adj_triu_mat=[1, 435], node_mat=[1, 29, 5], edge_mat=[1, 406, 4])\n",
      "Data(x=[19, 5], edge_index=[2, 19], edge_attr=[19, 4])\n"
     ]
    },
    {
     "name": "stderr",
     "output_type": "stream",
     "text": [
      "Epoch 78 Training: 100%|██████████| 1/1 [00:00<00:00, 28.08it/s]\n"
     ]
    },
    {
     "name": "stdout",
     "output_type": "stream",
     "text": [
      "Data(x=[16, 5], edge_index=[2, 34], edge_attr=[34, 4], y=[1, 2], pos=[16, 3], z=[16], smiles='[H]O[C@@]1(C#N)C([H])([H])[C@@]1([H])[C@]1([H])OC1([H])[H]', name='gdb_65372', idx=[1], adj_triu_mat=[1, 435], node_mat=[1, 29, 5], edge_mat=[1, 406, 4])\n",
      "Data(x=[18, 5], edge_index=[2, 17], edge_attr=[17, 4])\n"
     ]
    },
    {
     "name": "stderr",
     "output_type": "stream",
     "text": [
      "Epoch 79 Training: 100%|██████████| 1/1 [00:00<00:00, 28.58it/s]\n"
     ]
    },
    {
     "name": "stdout",
     "output_type": "stream",
     "text": [
      "Data(x=[15, 5], edge_index=[2, 30], edge_attr=[30, 4], y=[1, 2], pos=[15, 3], z=[15], smiles='[H]O[C@]1([H])C(=O)C([H])([H])O[C@@]1([H])C([H])=O', name='gdb_77366', idx=[1], adj_triu_mat=[1, 435], node_mat=[1, 29, 5], edge_mat=[1, 406, 4])\n",
      "Data(x=[18, 5], edge_index=[2, 15], edge_attr=[15, 4])\n"
     ]
    },
    {
     "name": "stderr",
     "output_type": "stream",
     "text": [
      "Epoch 80 Training: 100%|██████████| 1/1 [00:00<00:00, 29.17it/s]\n"
     ]
    },
    {
     "name": "stdout",
     "output_type": "stream",
     "text": [
      "Data(x=[17, 5], edge_index=[2, 34], edge_attr=[34, 4], y=[1, 2], pos=[17, 3], z=[17], smiles='[H]C#C[C@]1([H])OC1(C([H])([H])O[H])C([H])([H])O[H]', name='gdb_104761', idx=[1], adj_triu_mat=[1, 435], node_mat=[1, 29, 5], edge_mat=[1, 406, 4])\n",
      "Data(x=[18, 5], edge_index=[2, 19], edge_attr=[19, 4])\n"
     ]
    },
    {
     "name": "stderr",
     "output_type": "stream",
     "text": [
      "Epoch 81 Training: 100%|██████████| 1/1 [00:00<00:00, 28.48it/s]\n"
     ]
    },
    {
     "name": "stdout",
     "output_type": "stream",
     "text": [
      "Data(x=[18, 5], edge_index=[2, 36], edge_attr=[36, 4], y=[1, 2], pos=[18, 3], z=[18], smiles='[H]C(=O)C([H])([H])[C@]1([H])C([H])([H])O[C@]1([H])C([H])([H])[H]', name='gdb_13092', idx=[1], adj_triu_mat=[1, 435], node_mat=[1, 29, 5], edge_mat=[1, 406, 4])\n",
      "Data(x=[18, 5], edge_index=[2, 16], edge_attr=[16, 4])\n"
     ]
    },
    {
     "name": "stderr",
     "output_type": "stream",
     "text": [
      "Epoch 82 Training: 100%|██████████| 1/1 [00:00<00:00, 28.48it/s]\n"
     ]
    },
    {
     "name": "stdout",
     "output_type": "stream",
     "text": [
      "Data(x=[17, 5], edge_index=[2, 34], edge_attr=[34, 4], y=[1, 2], pos=[17, 3], z=[17], smiles='[H]C#C[C@]1([H])OC1(C([H])([H])O[H])C([H])([H])O[H]', name='gdb_104761', idx=[1], adj_triu_mat=[1, 435], node_mat=[1, 29, 5], edge_mat=[1, 406, 4])\n",
      "Data(x=[18, 5], edge_index=[2, 19], edge_attr=[19, 4])\n"
     ]
    },
    {
     "name": "stderr",
     "output_type": "stream",
     "text": [
      "Epoch 83 Training: 100%|██████████| 1/1 [00:00<00:00, 27.46it/s]\n"
     ]
    },
    {
     "name": "stdout",
     "output_type": "stream",
     "text": [
      "Data(x=[18, 5], edge_index=[2, 36], edge_attr=[36, 4], y=[1, 2], pos=[18, 3], z=[18], smiles='[H]C(=O)C([H])([H])[C@]1([H])C([H])([H])O[C@]1([H])C([H])([H])[H]', name='gdb_13092', idx=[1], adj_triu_mat=[1, 435], node_mat=[1, 29, 5], edge_mat=[1, 406, 4])\n",
      "Data(x=[18, 5], edge_index=[2, 16], edge_attr=[16, 4])\n"
     ]
    },
    {
     "name": "stderr",
     "output_type": "stream",
     "text": [
      "Epoch 84 Training: 100%|██████████| 1/1 [00:00<00:00, 28.55it/s]\n"
     ]
    },
    {
     "name": "stdout",
     "output_type": "stream",
     "text": [
      "Data(x=[20, 5], edge_index=[2, 46], edge_attr=[46, 4], y=[1, 2], pos=[20, 3], z=[20], smiles='[H]C([H])([H])[C@@]12[N@@H+]3[C@@]4([H])[C@]3([H])[C@]1(C([H])([H])[H])[C@@]4([H])C2([H])[H]', name='gdb_71709', idx=[1], adj_triu_mat=[1, 435], node_mat=[1, 29, 5], edge_mat=[1, 406, 4])\n",
      "Data(x=[20, 5], edge_index=[2, 19], edge_attr=[19, 4])\n"
     ]
    },
    {
     "name": "stderr",
     "output_type": "stream",
     "text": [
      "Epoch 85 Training: 100%|██████████| 1/1 [00:00<00:00, 29.29it/s]\n"
     ]
    },
    {
     "name": "stdout",
     "output_type": "stream",
     "text": [
      "Data(x=[18, 5], edge_index=[2, 38], edge_attr=[38, 4], y=[1, 2], pos=[18, 3], z=[18], smiles='[H]C(=O)[C@]1([H])[N@@H+]2C([H])([H])[C@]([H])(OC([H])([H])[H])[C@@]21[H]', name='gdb_114376', idx=[1], adj_triu_mat=[1, 435], node_mat=[1, 29, 5], edge_mat=[1, 406, 4])\n",
      "Data(x=[18, 5], edge_index=[2, 20], edge_attr=[20, 4])\n"
     ]
    },
    {
     "name": "stderr",
     "output_type": "stream",
     "text": [
      "Epoch 86 Training: 100%|██████████| 1/1 [00:00<00:00, 27.27it/s]\n"
     ]
    },
    {
     "name": "stdout",
     "output_type": "stream",
     "text": [
      "Data(x=[18, 5], edge_index=[2, 36], edge_attr=[36, 4], y=[1, 2], pos=[18, 3], z=[18], smiles='[H]C(=O)C([H])([H])[C@]1([H])C([H])([H])O[C@]1([H])C([H])([H])[H]', name='gdb_13092', idx=[1], adj_triu_mat=[1, 435], node_mat=[1, 29, 5], edge_mat=[1, 406, 4])\n",
      "Data(x=[18, 5], edge_index=[2, 15], edge_attr=[15, 4])\n"
     ]
    },
    {
     "name": "stderr",
     "output_type": "stream",
     "text": [
      "Epoch 87 Training: 100%|██████████| 1/1 [00:00<00:00, 25.96it/s]\n"
     ]
    },
    {
     "name": "stdout",
     "output_type": "stream",
     "text": [
      "Data(x=[20, 5], edge_index=[2, 40], edge_attr=[40, 4], y=[1, 2], pos=[20, 3], z=[20], smiles='[H]OC([H])([H])[C@@]([H])([N@H+]1C([H])([H])[C@@]1([H])C([H])=O)C([H])([H])[H]', name='gdb_101299', idx=[1], adj_triu_mat=[1, 435], node_mat=[1, 29, 5], edge_mat=[1, 406, 4])\n",
      "Data(x=[20, 5], edge_index=[2, 18], edge_attr=[18, 4])\n"
     ]
    },
    {
     "name": "stderr",
     "output_type": "stream",
     "text": [
      "Epoch 88 Training: 100%|██████████| 1/1 [00:00<00:00, 27.11it/s]\n"
     ]
    },
    {
     "name": "stdout",
     "output_type": "stream",
     "text": [
      "Data(x=[17, 5], edge_index=[2, 34], edge_attr=[34, 4], y=[1, 2], pos=[17, 3], z=[17], smiles='[H]C([H])([H])C([H])([H])O[C@]1([H])OC(=O)OC1([H])[H]', name='gdb_121054', idx=[1], adj_triu_mat=[1, 435], node_mat=[1, 29, 5], edge_mat=[1, 406, 4])\n",
      "Data(x=[18, 5], edge_index=[2, 16], edge_attr=[16, 4])\n"
     ]
    },
    {
     "name": "stderr",
     "output_type": "stream",
     "text": [
      "Epoch 89 Training: 100%|██████████| 1/1 [00:00<00:00, 28.35it/s]\n"
     ]
    },
    {
     "name": "stdout",
     "output_type": "stream",
     "text": [
      "Data(x=[16, 5], edge_index=[2, 32], edge_attr=[32, 4], y=[1, 2], pos=[16, 3], z=[16], smiles='[H]C#CC#C[C@@]1(C([H])([H])O[H])N([H])C1([H])[H]', name='gdb_104944', idx=[1], adj_triu_mat=[1, 435], node_mat=[1, 29, 5], edge_mat=[1, 406, 4])\n",
      "Data(x=[16, 5], edge_index=[2, 11], edge_attr=[11, 4])\n"
     ]
    },
    {
     "name": "stderr",
     "output_type": "stream",
     "text": [
      "Epoch 90 Training: 100%|██████████| 1/1 [00:00<00:00, 27.90it/s]\n"
     ]
    },
    {
     "name": "stdout",
     "output_type": "stream",
     "text": [
      "Data(x=[17, 5], edge_index=[2, 34], edge_attr=[34, 4], y=[1, 2], pos=[17, 3], z=[17], smiles='[H]C#C[C@]1([H])OC1(C([H])([H])O[H])C([H])([H])O[H]', name='gdb_104761', idx=[1], adj_triu_mat=[1, 435], node_mat=[1, 29, 5], edge_mat=[1, 406, 4])\n",
      "Data(x=[18, 5], edge_index=[2, 15], edge_attr=[15, 4])\n"
     ]
    },
    {
     "name": "stderr",
     "output_type": "stream",
     "text": [
      "Epoch 91 Training: 100%|██████████| 1/1 [00:00<00:00, 28.25it/s]\n"
     ]
    },
    {
     "name": "stdout",
     "output_type": "stream",
     "text": [
      "Data(x=[21, 5], edge_index=[2, 42], edge_attr=[42, 4], y=[1, 2], pos=[21, 3], z=[21], smiles='[H]O[C@]1([H])C([H])([H])[C@]([H])(C([H])([H])C([H])([H])[H])[C@]1([H])C([H])=O', name='gdb_112792', idx=[1], adj_triu_mat=[1, 435], node_mat=[1, 29, 5], edge_mat=[1, 406, 4])\n",
      "Data(x=[20, 5], edge_index=[2, 16], edge_attr=[16, 4])\n"
     ]
    },
    {
     "name": "stderr",
     "output_type": "stream",
     "text": [
      "Epoch 92 Training: 100%|██████████| 1/1 [00:00<00:00, 27.48it/s]\n"
     ]
    },
    {
     "name": "stdout",
     "output_type": "stream",
     "text": [
      "Data(x=[21, 5], edge_index=[2, 42], edge_attr=[42, 4], y=[1, 2], pos=[21, 3], z=[21], smiles='[H]O[C@]1([H])[C@]([H])(O[H])C([H])([H])C([H])=C([H])[C@]1([H])C([H])([H])[H]', name='gdb_92903', idx=[1], adj_triu_mat=[1, 435], node_mat=[1, 29, 5], edge_mat=[1, 406, 4])\n",
      "Data(x=[21, 5], edge_index=[2, 16], edge_attr=[16, 4])\n"
     ]
    },
    {
     "name": "stderr",
     "output_type": "stream",
     "text": [
      "Epoch 93 Training: 100%|██████████| 1/1 [00:00<00:00, 29.15it/s]\n"
     ]
    },
    {
     "name": "stdout",
     "output_type": "stream",
     "text": [
      "Data(x=[17, 5], edge_index=[2, 32], edge_attr=[32, 4], y=[1, 2], pos=[17, 3], z=[17], smiles='[H]O[C@@]([H])(C([H])=O)C([H])(C([H])([H])[H])C([H])([H])[H]', name='gdb_1626', idx=[1], adj_triu_mat=[1, 435], node_mat=[1, 29, 5], edge_mat=[1, 406, 4])\n",
      "Data(x=[19, 5], edge_index=[2, 16], edge_attr=[16, 4])\n"
     ]
    },
    {
     "name": "stderr",
     "output_type": "stream",
     "text": [
      "Epoch 94 Training: 100%|██████████| 1/1 [00:00<00:00, 29.37it/s]\n"
     ]
    },
    {
     "name": "stdout",
     "output_type": "stream",
     "text": [
      "Data(x=[21, 5], edge_index=[2, 42], edge_attr=[42, 4], y=[1, 2], pos=[21, 3], z=[21], smiles='[H]O[C@]1([H])C([H])([H])[C@]([H])(C([H])([H])C([H])([H])[H])[C@]1([H])C([H])=O', name='gdb_112792', idx=[1], adj_triu_mat=[1, 435], node_mat=[1, 29, 5], edge_mat=[1, 406, 4])\n",
      "Data(x=[21, 5], edge_index=[2, 15], edge_attr=[15, 4])\n"
     ]
    },
    {
     "name": "stderr",
     "output_type": "stream",
     "text": [
      "Epoch 95 Training: 100%|██████████| 1/1 [00:00<00:00, 29.33it/s]\n"
     ]
    },
    {
     "name": "stdout",
     "output_type": "stream",
     "text": [
      "Data(x=[21, 5], edge_index=[2, 42], edge_attr=[42, 4], y=[1, 2], pos=[21, 3], z=[21], smiles='[H]O[C@]1([H])C([H])([H])[C@]([H])(C([H])([H])C([H])([H])[H])[C@]1([H])C([H])=O', name='gdb_112792', idx=[1], adj_triu_mat=[1, 435], node_mat=[1, 29, 5], edge_mat=[1, 406, 4])\n",
      "Data(x=[20, 5], edge_index=[2, 16], edge_attr=[16, 4])\n"
     ]
    },
    {
     "name": "stderr",
     "output_type": "stream",
     "text": [
      "Epoch 96 Training: 100%|██████████| 1/1 [00:00<00:00, 29.03it/s]\n"
     ]
    },
    {
     "name": "stdout",
     "output_type": "stream",
     "text": [
      "Data(x=[18, 5], edge_index=[2, 38], edge_attr=[38, 4], y=[1, 2], pos=[18, 3], z=[18], smiles='[H]C([H])([H])[C@]1([H])O[C@]2(C1([H])[H])C([H])([H])[C@@]2([H])C#N', name='gdb_89864', idx=[1], adj_triu_mat=[1, 435], node_mat=[1, 29, 5], edge_mat=[1, 406, 4])\n",
      "Data(x=[18, 5], edge_index=[2, 15], edge_attr=[15, 4])\n"
     ]
    },
    {
     "name": "stderr",
     "output_type": "stream",
     "text": [
      "Epoch 97 Training: 100%|██████████| 1/1 [00:00<00:00, 29.05it/s]\n"
     ]
    },
    {
     "name": "stdout",
     "output_type": "stream",
     "text": [
      "Data(x=[17, 5], edge_index=[2, 34], edge_attr=[34, 4], y=[1, 2], pos=[17, 3], z=[17], smiles='[H]C([H])([H])C([H])([H])O[C@]1([H])OC(=O)OC1([H])[H]', name='gdb_121054', idx=[1], adj_triu_mat=[1, 435], node_mat=[1, 29, 5], edge_mat=[1, 406, 4])\n",
      "Data(x=[17, 5], edge_index=[2, 13], edge_attr=[13, 4])\n"
     ]
    },
    {
     "name": "stderr",
     "output_type": "stream",
     "text": [
      "Epoch 98 Training: 100%|██████████| 1/1 [00:00<00:00, 28.93it/s]\n"
     ]
    },
    {
     "name": "stdout",
     "output_type": "stream",
     "text": [
      "Data(x=[17, 5], edge_index=[2, 34], edge_attr=[34, 4], y=[1, 2], pos=[17, 3], z=[17], smiles='[H]C#C[C@]1([H])OC1(C([H])([H])O[H])C([H])([H])O[H]', name='gdb_104761', idx=[1], adj_triu_mat=[1, 435], node_mat=[1, 29, 5], edge_mat=[1, 406, 4])\n",
      "Data(x=[17, 5], edge_index=[2, 16], edge_attr=[16, 4])\n"
     ]
    },
    {
     "name": "stderr",
     "output_type": "stream",
     "text": [
      "Epoch 99 Training: 100%|██████████| 1/1 [00:00<00:00, 28.45it/s]\n"
     ]
    },
    {
     "name": "stdout",
     "output_type": "stream",
     "text": [
      "Data(x=[23, 5], edge_index=[2, 50], edge_attr=[50, 4], y=[1, 2], pos=[23, 3], z=[23], smiles='[H]C([H])([H])[C@@]1([H])C([H])([H])[C@@]12C([H])([H])[C@@]1(C([H])([H])[H])C([H])([H])[C@]12[H]', name='gdb_87768', idx=[1], adj_triu_mat=[1, 435], node_mat=[1, 29, 5], edge_mat=[1, 406, 4])\n",
      "Data(x=[21, 5], edge_index=[2, 19], edge_attr=[19, 4])\n"
     ]
    },
    {
     "name": "stderr",
     "output_type": "stream",
     "text": [
      "Epoch 100 Training: 100%|██████████| 1/1 [00:00<00:00, 28.26it/s]\n"
     ]
    },
    {
     "name": "stdout",
     "output_type": "stream",
     "text": [
      "Data(x=[14, 5], edge_index=[2, 30], edge_attr=[30, 4], y=[1, 2], pos=[14, 3], z=[14], smiles='[H]N([H])C1=NC([C@]2([H])OC2([H])[H])=NO1', name='gdb_129970', idx=[1], adj_triu_mat=[1, 435], node_mat=[1, 29, 5], edge_mat=[1, 406, 4])\n",
      "Data(x=[15, 5], edge_index=[2, 15], edge_attr=[15, 4])\n"
     ]
    },
    {
     "name": "stderr",
     "output_type": "stream",
     "text": [
      "Epoch 101 Training: 100%|██████████| 1/1 [00:00<00:00,  2.45it/s]\n"
     ]
    },
    {
     "name": "stdout",
     "output_type": "stream",
     "text": [
      "Data(x=[20, 5], edge_index=[2, 40], edge_attr=[40, 4], y=[1, 2], pos=[20, 3], z=[20], smiles='[H]OC([H])([H])[C@@]([H])([N@H+]1C([H])([H])[C@@]1([H])C([H])=O)C([H])([H])[H]', name='gdb_101299', idx=[1], adj_triu_mat=[1, 435], node_mat=[1, 29, 5], edge_mat=[1, 406, 4])\n",
      "Data(x=[20, 5], edge_index=[2, 17], edge_attr=[17, 4])\n"
     ]
    },
    {
     "name": "stderr",
     "output_type": "stream",
     "text": [
      "Epoch 102 Training: 100%|██████████| 1/1 [00:00<00:00, 25.56it/s]\n"
     ]
    },
    {
     "name": "stdout",
     "output_type": "stream",
     "text": [
      "Data(x=[17, 5], edge_index=[2, 34], edge_attr=[34, 4], y=[1, 2], pos=[17, 3], z=[17], smiles='[H]C([H])([H])C([H])([H])O[C@]1([H])OC(=O)OC1([H])[H]', name='gdb_121054', idx=[1], adj_triu_mat=[1, 435], node_mat=[1, 29, 5], edge_mat=[1, 406, 4])\n",
      "Data(x=[17, 5], edge_index=[2, 16], edge_attr=[16, 4])\n"
     ]
    },
    {
     "name": "stderr",
     "output_type": "stream",
     "text": [
      "Epoch 103 Training: 100%|██████████| 1/1 [00:00<00:00, 28.70it/s]\n"
     ]
    },
    {
     "name": "stdout",
     "output_type": "stream",
     "text": [
      "Data(x=[18, 5], edge_index=[2, 38], edge_attr=[38, 4], y=[1, 2], pos=[18, 3], z=[18], smiles='[H]C#CC([H])([H])[C@]1(O[H])C([H])([H])[C@@]2([H])N([H])[C@@]12[H]', name='gdb_64721', idx=[1], adj_triu_mat=[1, 435], node_mat=[1, 29, 5], edge_mat=[1, 406, 4])\n",
      "Data(x=[18, 5], edge_index=[2, 19], edge_attr=[19, 4])\n"
     ]
    },
    {
     "name": "stderr",
     "output_type": "stream",
     "text": [
      "Epoch 104 Training: 100%|██████████| 1/1 [00:00<00:00, 29.39it/s]\n"
     ]
    },
    {
     "name": "stdout",
     "output_type": "stream",
     "text": [
      "Data(x=[16, 5], edge_index=[2, 32], edge_attr=[32, 4], y=[1, 2], pos=[16, 3], z=[16], smiles='[H]C#CC#C[C@@]1(C([H])([H])O[H])N([H])C1([H])[H]', name='gdb_104944', idx=[1], adj_triu_mat=[1, 435], node_mat=[1, 29, 5], edge_mat=[1, 406, 4])\n",
      "Data(x=[16, 5], edge_index=[2, 16], edge_attr=[16, 4])\n"
     ]
    },
    {
     "name": "stderr",
     "output_type": "stream",
     "text": [
      "Epoch 105 Training: 100%|██████████| 1/1 [00:00<00:00, 28.62it/s]\n"
     ]
    },
    {
     "name": "stdout",
     "output_type": "stream",
     "text": [
      "Data(x=[16, 5], edge_index=[2, 32], edge_attr=[32, 4], y=[1, 2], pos=[16, 3], z=[16], smiles='[H]C#CC#C[C@@]1(C([H])([H])O[H])N([H])C1([H])[H]', name='gdb_104944', idx=[1], adj_triu_mat=[1, 435], node_mat=[1, 29, 5], edge_mat=[1, 406, 4])\n",
      "Data(x=[16, 5], edge_index=[2, 16], edge_attr=[16, 4])\n"
     ]
    },
    {
     "name": "stderr",
     "output_type": "stream",
     "text": [
      "Epoch 106 Training: 100%|██████████| 1/1 [00:00<00:00, 28.74it/s]\n"
     ]
    },
    {
     "name": "stdout",
     "output_type": "stream",
     "text": [
      "Data(x=[19, 5], edge_index=[2, 40], edge_attr=[40, 4], y=[1, 2], pos=[19, 3], z=[19], smiles='[H]/C1=N/C([H])([H])C([H])([H])[N@H+]2C([H])([H])[C@@]2([H])C([H])([H])O1', name='gdb_39380', idx=[1], adj_triu_mat=[1, 435], node_mat=[1, 29, 5], edge_mat=[1, 406, 4])\n",
      "Data(x=[19, 5], edge_index=[2, 19], edge_attr=[19, 4])\n"
     ]
    },
    {
     "name": "stderr",
     "output_type": "stream",
     "text": [
      "Epoch 107 Training: 100%|██████████| 1/1 [00:00<00:00, 29.07it/s]\n"
     ]
    },
    {
     "name": "stdout",
     "output_type": "stream",
     "text": [
      "Data(x=[15, 5], edge_index=[2, 30], edge_attr=[30, 4], y=[1, 2], pos=[15, 3], z=[15], smiles='[H]C#C[C@@]1([H])[NH2+]C(C([H])([H])[H])OC1([H])[H]', name='gdb_11226', idx=[1], adj_triu_mat=[1, 435], node_mat=[1, 29, 5], edge_mat=[1, 406, 4])\n",
      "Data(x=[15, 5], edge_index=[2, 15], edge_attr=[15, 4])\n"
     ]
    },
    {
     "name": "stderr",
     "output_type": "stream",
     "text": [
      "Epoch 108 Training: 100%|██████████| 1/1 [00:00<00:00, 19.81it/s]\n"
     ]
    },
    {
     "name": "stdout",
     "output_type": "stream",
     "text": [
      "Data(x=[19, 5], edge_index=[2, 40], edge_attr=[40, 4], y=[1, 2], pos=[19, 3], z=[19], smiles='[H]/C1=N/C([H])([H])C([H])([H])[N@H+]2C([H])([H])[C@@]2([H])C([H])([H])O1', name='gdb_39380', idx=[1], adj_triu_mat=[1, 435], node_mat=[1, 29, 5], edge_mat=[1, 406, 4])\n",
      "Data(x=[19, 5], edge_index=[2, 19], edge_attr=[19, 4])\n"
     ]
    },
    {
     "name": "stderr",
     "output_type": "stream",
     "text": [
      "Epoch 109 Training: 100%|██████████| 1/1 [00:00<00:00, 28.45it/s]\n"
     ]
    },
    {
     "name": "stdout",
     "output_type": "stream",
     "text": [
      "Data(x=[17, 5], edge_index=[2, 34], edge_attr=[34, 4], y=[1, 2], pos=[17, 3], z=[17], smiles='[H]C([H])([H])C([H])([H])O[C@]1([H])OC(=O)OC1([H])[H]', name='gdb_121054', idx=[1], adj_triu_mat=[1, 435], node_mat=[1, 29, 5], edge_mat=[1, 406, 4])\n",
      "Data(x=[17, 5], edge_index=[2, 17], edge_attr=[17, 4])\n"
     ]
    },
    {
     "name": "stderr",
     "output_type": "stream",
     "text": [
      "Epoch 110 Training: 100%|██████████| 1/1 [00:00<00:00, 28.87it/s]\n"
     ]
    },
    {
     "name": "stdout",
     "output_type": "stream",
     "text": [
      "Data(x=[23, 5], edge_index=[2, 50], edge_attr=[50, 4], y=[1, 2], pos=[23, 3], z=[23], smiles='[H]C([H])([H])[C@@]1([H])C([H])([H])[C@@]12C([H])([H])[C@@]1(C([H])([H])[H])C([H])([H])[C@]12[H]', name='gdb_87768', idx=[1], adj_triu_mat=[1, 435], node_mat=[1, 29, 5], edge_mat=[1, 406, 4])\n",
      "Data(x=[23, 5], edge_index=[2, 24], edge_attr=[24, 4])\n"
     ]
    },
    {
     "name": "stderr",
     "output_type": "stream",
     "text": [
      "Epoch 111 Training: 100%|██████████| 1/1 [00:00<00:00, 28.52it/s]\n"
     ]
    },
    {
     "name": "stdout",
     "output_type": "stream",
     "text": [
      "Data(x=[18, 5], edge_index=[2, 36], edge_attr=[36, 4], y=[1, 2], pos=[18, 3], z=[18], smiles='[H]O[C@]1([H])C([H])=C(C([H])([H])[H])C([H])([H])[C@@]1([H])C#N', name='gdb_84136', idx=[1], adj_triu_mat=[1, 435], node_mat=[1, 29, 5], edge_mat=[1, 406, 4])\n",
      "Data(x=[18, 5], edge_index=[2, 18], edge_attr=[18, 4])\n"
     ]
    },
    {
     "name": "stderr",
     "output_type": "stream",
     "text": [
      "Epoch 112 Training: 100%|██████████| 1/1 [00:00<00:00, 29.11it/s]\n"
     ]
    },
    {
     "name": "stdout",
     "output_type": "stream",
     "text": [
      "Data(x=[16, 5], edge_index=[2, 34], edge_attr=[34, 4], y=[1, 2], pos=[16, 3], z=[16], smiles='[H]O[C@]1([H])C2=C([H])OC([H])=C2N([H])C1([H])[H]', name='gdb_30357', idx=[1], adj_triu_mat=[1, 435], node_mat=[1, 29, 5], edge_mat=[1, 406, 4])\n",
      "Data(x=[16, 5], edge_index=[2, 17], edge_attr=[17, 4])\n"
     ]
    },
    {
     "name": "stderr",
     "output_type": "stream",
     "text": [
      "Epoch 113 Training: 100%|██████████| 1/1 [00:00<00:00, 28.89it/s]\n"
     ]
    },
    {
     "name": "stdout",
     "output_type": "stream",
     "text": [
      "Data(x=[18, 5], edge_index=[2, 36], edge_attr=[36, 4], y=[1, 2], pos=[18, 3], z=[18], smiles='[H]C(=O)C([H])([H])[C@]1([H])C([H])([H])O[C@]1([H])C([H])([H])[H]', name='gdb_13092', idx=[1], adj_triu_mat=[1, 435], node_mat=[1, 29, 5], edge_mat=[1, 406, 4])\n",
      "Data(x=[18, 5], edge_index=[2, 18], edge_attr=[18, 4])\n"
     ]
    },
    {
     "name": "stderr",
     "output_type": "stream",
     "text": [
      "Epoch 114 Training: 100%|██████████| 1/1 [00:00<00:00, 28.30it/s]\n"
     ]
    },
    {
     "name": "stdout",
     "output_type": "stream",
     "text": [
      "Data(x=[17, 5], edge_index=[2, 32], edge_attr=[32, 4], y=[1, 2], pos=[17, 3], z=[17], smiles='[H]O[C@@]([H])(C([H])=O)C([H])(C([H])([H])[H])C([H])([H])[H]', name='gdb_1626', idx=[1], adj_triu_mat=[1, 435], node_mat=[1, 29, 5], edge_mat=[1, 406, 4])\n",
      "Data(x=[17, 5], edge_index=[2, 16], edge_attr=[16, 4])\n"
     ]
    },
    {
     "name": "stderr",
     "output_type": "stream",
     "text": [
      "Epoch 115 Training: 100%|██████████| 1/1 [00:00<00:00, 28.16it/s]\n"
     ]
    },
    {
     "name": "stdout",
     "output_type": "stream",
     "text": [
      "Data(x=[15, 5], edge_index=[2, 30], edge_attr=[30, 4], y=[1, 2], pos=[15, 3], z=[15], smiles='[H]C#C[C@@]1([H])[NH2+]C(C([H])([H])[H])OC1([H])[H]', name='gdb_11226', idx=[1], adj_triu_mat=[1, 435], node_mat=[1, 29, 5], edge_mat=[1, 406, 4])\n",
      "Data(x=[15, 5], edge_index=[2, 15], edge_attr=[15, 4])\n"
     ]
    },
    {
     "name": "stderr",
     "output_type": "stream",
     "text": [
      "Epoch 116 Training: 100%|██████████| 1/1 [00:00<00:00, 28.66it/s]\n"
     ]
    },
    {
     "name": "stdout",
     "output_type": "stream",
     "text": [
      "Data(x=[16, 5], edge_index=[2, 34], edge_attr=[34, 4], y=[1, 2], pos=[16, 3], z=[16], smiles='[H]O[C@@]1(C#N)C([H])([H])[C@@]1([H])[C@]1([H])OC1([H])[H]', name='gdb_65372', idx=[1], adj_triu_mat=[1, 435], node_mat=[1, 29, 5], edge_mat=[1, 406, 4])\n",
      "Data(x=[16, 5], edge_index=[2, 17], edge_attr=[17, 4])\n"
     ]
    },
    {
     "name": "stderr",
     "output_type": "stream",
     "text": [
      "Epoch 117 Training: 100%|██████████| 1/1 [00:00<00:00, 29.49it/s]\n"
     ]
    },
    {
     "name": "stdout",
     "output_type": "stream",
     "text": [
      "Data(x=[21, 5], edge_index=[2, 42], edge_attr=[42, 4], y=[1, 2], pos=[21, 3], z=[21], smiles='[H]O[C@]1([H])C([H])([H])[C@]([H])(C([H])([H])C([H])([H])[H])[C@]1([H])C([H])=O', name='gdb_112792', idx=[1], adj_triu_mat=[1, 435], node_mat=[1, 29, 5], edge_mat=[1, 406, 4])\n",
      "Data(x=[21, 5], edge_index=[2, 21], edge_attr=[21, 4])\n"
     ]
    },
    {
     "name": "stderr",
     "output_type": "stream",
     "text": [
      "Epoch 118 Training: 100%|██████████| 1/1 [00:00<00:00, 29.19it/s]\n"
     ]
    },
    {
     "name": "stdout",
     "output_type": "stream",
     "text": [
      "Data(x=[21, 5], edge_index=[2, 42], edge_attr=[42, 4], y=[1, 2], pos=[21, 3], z=[21], smiles='[H]O[C@]1([H])C([H])([H])[C@]([H])(C([H])([H])C([H])([H])[H])[C@]1([H])C([H])=O', name='gdb_112792', idx=[1], adj_triu_mat=[1, 435], node_mat=[1, 29, 5], edge_mat=[1, 406, 4])\n",
      "Data(x=[21, 5], edge_index=[2, 13], edge_attr=[13, 4])\n"
     ]
    },
    {
     "name": "stderr",
     "output_type": "stream",
     "text": [
      "Epoch 119 Training: 100%|██████████| 1/1 [00:00<00:00, 27.38it/s]\n"
     ]
    },
    {
     "name": "stdout",
     "output_type": "stream",
     "text": [
      "Data(x=[25, 5], edge_index=[2, 52], edge_attr=[52, 4], y=[1, 2], pos=[25, 3], z=[25], smiles='[H]C([H])([H])C([H])([H])[C@@]1([H])C([H])([H])[C@@]([H])(C([H])([H])[H])[C@@]2([H])C([H])([H])[C@@]12[H]', name='gdb_112835', idx=[1], adj_triu_mat=[1, 435], node_mat=[1, 29, 5], edge_mat=[1, 406, 4])\n",
      "Data(x=[25, 5], edge_index=[2, 26], edge_attr=[26, 4])\n"
     ]
    },
    {
     "name": "stderr",
     "output_type": "stream",
     "text": [
      "Epoch 120 Training: 100%|██████████| 1/1 [00:00<00:00, 28.92it/s]\n"
     ]
    },
    {
     "name": "stdout",
     "output_type": "stream",
     "text": [
      "Data(x=[21, 5], edge_index=[2, 42], edge_attr=[42, 4], y=[1, 2], pos=[21, 3], z=[21], smiles='[H]O[C@]1([H])[C@]([H])(O[H])C([H])([H])C([H])=C([H])[C@]1([H])C([H])([H])[H]', name='gdb_92903', idx=[1], adj_triu_mat=[1, 435], node_mat=[1, 29, 5], edge_mat=[1, 406, 4])\n",
      "Data(x=[21, 5], edge_index=[2, 21], edge_attr=[21, 4])\n"
     ]
    },
    {
     "name": "stderr",
     "output_type": "stream",
     "text": [
      "Epoch 121 Training: 100%|██████████| 1/1 [00:00<00:00, 27.73it/s]\n"
     ]
    },
    {
     "name": "stdout",
     "output_type": "stream",
     "text": [
      "Data(x=[23, 5], edge_index=[2, 48], edge_attr=[48, 4], y=[1, 2], pos=[23, 3], z=[23], smiles='[H]C1=C(C([H])([H])[H])[C@@]([H])(C([H])([H])[H])[C@]2([H])C([H])([H])[C@@]1([H])C2([H])[H]', name='gdb_80651', idx=[1], adj_triu_mat=[1, 435], node_mat=[1, 29, 5], edge_mat=[1, 406, 4])\n",
      "Data(x=[23, 5], edge_index=[2, 24], edge_attr=[24, 4])\n"
     ]
    },
    {
     "name": "stderr",
     "output_type": "stream",
     "text": [
      "Epoch 122 Training: 100%|██████████| 1/1 [00:00<00:00, 28.57it/s]\n"
     ]
    },
    {
     "name": "stdout",
     "output_type": "stream",
     "text": [
      "Data(x=[18, 5], edge_index=[2, 36], edge_attr=[36, 4], y=[1, 2], pos=[18, 3], z=[18], smiles='[H]O[C@]1([H])C([H])=C(C([H])([H])[H])C([H])([H])[C@@]1([H])C#N', name='gdb_84136', idx=[1], adj_triu_mat=[1, 435], node_mat=[1, 29, 5], edge_mat=[1, 406, 4])\n",
      "Data(x=[18, 5], edge_index=[2, 18], edge_attr=[18, 4])\n"
     ]
    },
    {
     "name": "stderr",
     "output_type": "stream",
     "text": [
      "Epoch 123 Training: 100%|██████████| 1/1 [00:00<00:00, 28.98it/s]\n"
     ]
    },
    {
     "name": "stdout",
     "output_type": "stream",
     "text": [
      "Data(x=[17, 5], edge_index=[2, 32], edge_attr=[32, 4], y=[1, 2], pos=[17, 3], z=[17], smiles='[H]/N=C(/OC([H])([H])C([H])([H])O[H])N([H])C([H])=O', name='gdb_121723', idx=[1], adj_triu_mat=[1, 435], node_mat=[1, 29, 5], edge_mat=[1, 406, 4])\n",
      "Data(x=[18, 5], edge_index=[2, 12], edge_attr=[12, 4])\n"
     ]
    },
    {
     "name": "stderr",
     "output_type": "stream",
     "text": [
      "Epoch 124 Training: 100%|██████████| 1/1 [00:00<00:00, 29.53it/s]\n"
     ]
    },
    {
     "name": "stdout",
     "output_type": "stream",
     "text": [
      "Data(x=[19, 5], edge_index=[2, 40], edge_attr=[40, 4], y=[1, 2], pos=[19, 3], z=[19], smiles='[H]/C1=N/C([H])([H])C([H])([H])[N@H+]2C([H])([H])[C@@]2([H])C([H])([H])O1', name='gdb_39380', idx=[1], adj_triu_mat=[1, 435], node_mat=[1, 29, 5], edge_mat=[1, 406, 4])\n",
      "Data(x=[19, 5], edge_index=[2, 20], edge_attr=[20, 4])\n"
     ]
    },
    {
     "name": "stderr",
     "output_type": "stream",
     "text": [
      "Epoch 125 Training: 100%|██████████| 1/1 [00:00<00:00, 28.95it/s]\n"
     ]
    },
    {
     "name": "stdout",
     "output_type": "stream",
     "text": [
      "Data(x=[18, 5], edge_index=[2, 38], edge_attr=[38, 4], y=[1, 2], pos=[18, 3], z=[18], smiles='[H]C#CC([H])([H])[C@]1(O[H])C([H])([H])[C@@]2([H])N([H])[C@@]12[H]', name='gdb_64721', idx=[1], adj_triu_mat=[1, 435], node_mat=[1, 29, 5], edge_mat=[1, 406, 4])\n",
      "Data(x=[18, 5], edge_index=[2, 19], edge_attr=[19, 4])\n"
     ]
    },
    {
     "name": "stderr",
     "output_type": "stream",
     "text": [
      "Epoch 126 Training: 100%|██████████| 1/1 [00:00<00:00, 28.96it/s]\n"
     ]
    },
    {
     "name": "stdout",
     "output_type": "stream",
     "text": [
      "Data(x=[16, 5], edge_index=[2, 34], edge_attr=[34, 4], y=[1, 2], pos=[16, 3], z=[16], smiles='[H]O[C@]1([H])C2=C([H])OC([H])=C2N([H])C1([H])[H]', name='gdb_30357', idx=[1], adj_triu_mat=[1, 435], node_mat=[1, 29, 5], edge_mat=[1, 406, 4])\n",
      "Data(x=[16, 5], edge_index=[2, 17], edge_attr=[17, 4])\n"
     ]
    },
    {
     "name": "stderr",
     "output_type": "stream",
     "text": [
      "Epoch 127 Training: 100%|██████████| 1/1 [00:00<00:00, 29.03it/s]\n"
     ]
    },
    {
     "name": "stdout",
     "output_type": "stream",
     "text": [
      "Data(x=[19, 5], edge_index=[2, 42], edge_attr=[42, 4], y=[1, 2], pos=[19, 3], z=[19], smiles='[H]C([H])([H])O[C@]12C([H])([H])[C@@]1([H])[C@@]1([H])O[C@]12C([H])([H])[H]', name='gdb_107257', idx=[1], adj_triu_mat=[1, 435], node_mat=[1, 29, 5], edge_mat=[1, 406, 4])\n",
      "Data(x=[19, 5], edge_index=[2, 21], edge_attr=[21, 4])\n"
     ]
    },
    {
     "name": "stderr",
     "output_type": "stream",
     "text": [
      "Epoch 128 Training: 100%|██████████| 1/1 [00:00<00:00, 28.27it/s]\n"
     ]
    },
    {
     "name": "stdout",
     "output_type": "stream",
     "text": [
      "Data(x=[20, 5], edge_index=[2, 40], edge_attr=[40, 4], y=[1, 2], pos=[20, 3], z=[20], smiles='[H]OC([H])([H])[C@@]([H])([N@H+]1C([H])([H])[C@@]1([H])C([H])=O)C([H])([H])[H]', name='gdb_101299', idx=[1], adj_triu_mat=[1, 435], node_mat=[1, 29, 5], edge_mat=[1, 406, 4])\n",
      "Data(x=[20, 5], edge_index=[2, 20], edge_attr=[20, 4])\n"
     ]
    },
    {
     "name": "stderr",
     "output_type": "stream",
     "text": [
      "Epoch 129 Training: 100%|██████████| 1/1 [00:00<00:00, 19.24it/s]\n"
     ]
    },
    {
     "name": "stdout",
     "output_type": "stream",
     "text": [
      "Data(x=[19, 5], edge_index=[2, 42], edge_attr=[42, 4], y=[1, 2], pos=[19, 3], z=[19], smiles='[H]C([H])([H])O[C@]12C([H])([H])[C@@]1([H])[C@@]1([H])O[C@]12C([H])([H])[H]', name='gdb_107257', idx=[1], adj_triu_mat=[1, 435], node_mat=[1, 29, 5], edge_mat=[1, 406, 4])\n",
      "Data(x=[19, 5], edge_index=[2, 21], edge_attr=[21, 4])\n"
     ]
    },
    {
     "name": "stderr",
     "output_type": "stream",
     "text": [
      "Epoch 130 Training: 100%|██████████| 1/1 [00:00<00:00, 29.61it/s]\n"
     ]
    },
    {
     "name": "stdout",
     "output_type": "stream",
     "text": [
      "Data(x=[18, 5], edge_index=[2, 38], edge_attr=[38, 4], y=[1, 2], pos=[18, 3], z=[18], smiles='[H]C1=C([H])[C@@]2([H])C([H])([H])[C@@]2([H])OC([H])([H])C1([H])[H]', name='gdb_18391', idx=[1], adj_triu_mat=[1, 435], node_mat=[1, 29, 5], edge_mat=[1, 406, 4])\n",
      "Data(x=[18, 5], edge_index=[2, 19], edge_attr=[19, 4])\n"
     ]
    },
    {
     "name": "stderr",
     "output_type": "stream",
     "text": [
      "Epoch 131 Training: 100%|██████████| 1/1 [00:00<00:00, 29.06it/s]\n"
     ]
    },
    {
     "name": "stdout",
     "output_type": "stream",
     "text": [
      "Data(x=[15, 5], edge_index=[2, 30], edge_attr=[30, 4], y=[1, 2], pos=[15, 3], z=[15], smiles='[H]C#C[C@@]1([H])[NH2+]C(C([H])([H])[H])OC1([H])[H]', name='gdb_11226', idx=[1], adj_triu_mat=[1, 435], node_mat=[1, 29, 5], edge_mat=[1, 406, 4])\n",
      "Data(x=[15, 5], edge_index=[2, 15], edge_attr=[15, 4])\n"
     ]
    },
    {
     "name": "stderr",
     "output_type": "stream",
     "text": [
      "Epoch 132 Training: 100%|██████████| 1/1 [00:00<00:00, 29.30it/s]"
     ]
    },
    {
     "name": "stdout",
     "output_type": "stream",
     "text": [
      "Data(x=[18, 5], edge_index=[2, 38], edge_attr=[38, 4], y=[1, 2], pos=[18, 3], z=[18], smiles='[H]C([H])([H])[C@]1([H])O[C@]2(C1([H])[H])C([H])([H])[C@@]2([H])C#N', name='gdb_89864', idx=[1], adj_triu_mat=[1, 435], node_mat=[1, 29, 5], edge_mat=[1, 406, 4])\n"
     ]
    },
    {
     "name": "stderr",
     "output_type": "stream",
     "text": [
      "\n"
     ]
    },
    {
     "name": "stdout",
     "output_type": "stream",
     "text": [
      "Data(x=[18, 5], edge_index=[2, 19], edge_attr=[19, 4])\n"
     ]
    },
    {
     "name": "stderr",
     "output_type": "stream",
     "text": [
      "Epoch 133 Training: 100%|██████████| 1/1 [00:00<00:00, 29.48it/s]"
     ]
    },
    {
     "name": "stdout",
     "output_type": "stream",
     "text": [
      "Data(x=[18, 5], edge_index=[2, 38], edge_attr=[38, 4], y=[1, 2], pos=[18, 3], z=[18], smiles='[H]C(=O)[C@]1([H])[N@@H+]2C([H])([H])[C@]([H])(OC([H])([H])[H])[C@@]21[H]', name='gdb_114376', idx=[1], adj_triu_mat=[1, 435], node_mat=[1, 29, 5], edge_mat=[1, 406, 4])\n"
     ]
    },
    {
     "name": "stderr",
     "output_type": "stream",
     "text": [
      "\n"
     ]
    },
    {
     "name": "stdout",
     "output_type": "stream",
     "text": [
      "Data(x=[18, 5], edge_index=[2, 19], edge_attr=[19, 4])\n"
     ]
    },
    {
     "name": "stderr",
     "output_type": "stream",
     "text": [
      "Epoch 134 Training: 100%|██████████| 1/1 [00:00<00:00, 28.70it/s]\n"
     ]
    },
    {
     "name": "stdout",
     "output_type": "stream",
     "text": [
      "Data(x=[23, 5], edge_index=[2, 50], edge_attr=[50, 4], y=[1, 2], pos=[23, 3], z=[23], smiles='[H]C([H])([H])[C@@]1([H])C([H])([H])[C@@]12C([H])([H])[C@@]1(C([H])([H])[H])C([H])([H])[C@]12[H]', name='gdb_87768', idx=[1], adj_triu_mat=[1, 435], node_mat=[1, 29, 5], edge_mat=[1, 406, 4])\n",
      "Data(x=[23, 5], edge_index=[2, 25], edge_attr=[25, 4])\n"
     ]
    },
    {
     "name": "stderr",
     "output_type": "stream",
     "text": [
      "Epoch 135 Training: 100%|██████████| 1/1 [00:00<00:00, 26.65it/s]\n"
     ]
    },
    {
     "name": "stdout",
     "output_type": "stream",
     "text": [
      "Data(x=[16, 5], edge_index=[2, 32], edge_attr=[32, 4], y=[1, 2], pos=[16, 3], z=[16], smiles='[H]C1=C(C#CC([H])([H])[H])C(N([H])[H])=C([H])O1', name='gdb_25701', idx=[1], adj_triu_mat=[1, 435], node_mat=[1, 29, 5], edge_mat=[1, 406, 4])\n",
      "Data(x=[16, 5], edge_index=[2, 16], edge_attr=[16, 4])\n"
     ]
    },
    {
     "name": "stderr",
     "output_type": "stream",
     "text": [
      "Epoch 136 Training: 100%|██████████| 1/1 [00:00<00:00, 26.97it/s]\n"
     ]
    },
    {
     "name": "stdout",
     "output_type": "stream",
     "text": [
      "Data(x=[19, 5], edge_index=[2, 40], edge_attr=[40, 4], y=[1, 2], pos=[19, 3], z=[19], smiles='[H]/C1=N/C([H])([H])C([H])([H])[N@H+]2C([H])([H])[C@@]2([H])C([H])([H])O1', name='gdb_39380', idx=[1], adj_triu_mat=[1, 435], node_mat=[1, 29, 5], edge_mat=[1, 406, 4])\n",
      "Data(x=[19, 5], edge_index=[2, 20], edge_attr=[20, 4])\n"
     ]
    },
    {
     "name": "stderr",
     "output_type": "stream",
     "text": [
      "Epoch 137 Training: 100%|██████████| 1/1 [00:00<00:00, 29.12it/s]\n"
     ]
    },
    {
     "name": "stdout",
     "output_type": "stream",
     "text": [
      "Data(x=[21, 5], edge_index=[2, 42], edge_attr=[42, 4], y=[1, 2], pos=[21, 3], z=[21], smiles='[H]O[C@]1([H])C([H])([H])[C@]([H])(C([H])([H])C([H])([H])[H])[C@]1([H])C([H])=O', name='gdb_112792', idx=[1], adj_triu_mat=[1, 435], node_mat=[1, 29, 5], edge_mat=[1, 406, 4])\n",
      "Data(x=[21, 5], edge_index=[2, 21], edge_attr=[21, 4])\n"
     ]
    },
    {
     "name": "stderr",
     "output_type": "stream",
     "text": [
      "Epoch 138 Training: 100%|██████████| 1/1 [00:00<00:00, 28.36it/s]\n"
     ]
    },
    {
     "name": "stdout",
     "output_type": "stream",
     "text": [
      "Data(x=[18, 5], edge_index=[2, 36], edge_attr=[36, 4], y=[1, 2], pos=[18, 3], z=[18], smiles='[H]O[C@]1([H])C([H])=C(C([H])([H])[H])C([H])([H])[C@@]1([H])C#N', name='gdb_84136', idx=[1], adj_triu_mat=[1, 435], node_mat=[1, 29, 5], edge_mat=[1, 406, 4])\n",
      "Data(x=[18, 5], edge_index=[2, 18], edge_attr=[18, 4])\n"
     ]
    },
    {
     "name": "stderr",
     "output_type": "stream",
     "text": [
      "Epoch 139 Training: 100%|██████████| 1/1 [00:00<00:00, 28.34it/s]\n"
     ]
    },
    {
     "name": "stdout",
     "output_type": "stream",
     "text": [
      "Data(x=[14, 5], edge_index=[2, 30], edge_attr=[30, 4], y=[1, 2], pos=[14, 3], z=[14], smiles='[H]N([H])C1=NC([C@]2([H])OC2([H])[H])=NO1', name='gdb_129970', idx=[1], adj_triu_mat=[1, 435], node_mat=[1, 29, 5], edge_mat=[1, 406, 4])\n",
      "Data(x=[14, 5], edge_index=[2, 15], edge_attr=[15, 4])\n"
     ]
    },
    {
     "name": "stderr",
     "output_type": "stream",
     "text": [
      "Epoch 140 Training: 100%|██████████| 1/1 [00:00<00:00, 28.19it/s]\n"
     ]
    },
    {
     "name": "stdout",
     "output_type": "stream",
     "text": [
      "Data(x=[23, 5], edge_index=[2, 50], edge_attr=[50, 4], y=[1, 2], pos=[23, 3], z=[23], smiles='[H]C([H])([H])[C@@]1([H])C([H])([H])[C@@]12C([H])([H])[C@@]1(C([H])([H])[H])C([H])([H])[C@]12[H]', name='gdb_87768', idx=[1], adj_triu_mat=[1, 435], node_mat=[1, 29, 5], edge_mat=[1, 406, 4])\n",
      "Data(x=[23, 5], edge_index=[2, 25], edge_attr=[25, 4])\n"
     ]
    },
    {
     "name": "stderr",
     "output_type": "stream",
     "text": [
      "Epoch 141 Training: 100%|██████████| 1/1 [00:00<00:00, 28.50it/s]\n"
     ]
    },
    {
     "name": "stdout",
     "output_type": "stream",
     "text": [
      "Data(x=[20, 5], edge_index=[2, 46], edge_attr=[46, 4], y=[1, 2], pos=[20, 3], z=[20], smiles='[H]C([H])([H])[C@@]12[N@@H+]3[C@@]4([H])[C@]3([H])[C@]1(C([H])([H])[H])[C@@]4([H])C2([H])[H]', name='gdb_71709', idx=[1], adj_triu_mat=[1, 435], node_mat=[1, 29, 5], edge_mat=[1, 406, 4])\n",
      "Data(x=[20, 5], edge_index=[2, 23], edge_attr=[23, 4])\n"
     ]
    },
    {
     "name": "stderr",
     "output_type": "stream",
     "text": [
      "Epoch 142 Training: 100%|██████████| 1/1 [00:00<00:00, 27.45it/s]\n"
     ]
    },
    {
     "name": "stdout",
     "output_type": "stream",
     "text": [
      "Data(x=[18, 5], edge_index=[2, 36], edge_attr=[36, 4], y=[1, 2], pos=[18, 3], z=[18], smiles='[H]C(=O)C([H])([H])[C@]1([H])C([H])([H])O[C@]1([H])C([H])([H])[H]', name='gdb_13092', idx=[1], adj_triu_mat=[1, 435], node_mat=[1, 29, 5], edge_mat=[1, 406, 4])\n",
      "Data(x=[18, 5], edge_index=[2, 18], edge_attr=[18, 4])\n"
     ]
    },
    {
     "name": "stderr",
     "output_type": "stream",
     "text": [
      "Epoch 143 Training: 100%|██████████| 1/1 [00:00<00:00, 27.42it/s]\n"
     ]
    },
    {
     "name": "stdout",
     "output_type": "stream",
     "text": [
      "Data(x=[19, 5], edge_index=[2, 40], edge_attr=[40, 4], y=[1, 2], pos=[19, 3], z=[19], smiles='[H]OC([H])([H])[C@@]1(C([H])([H])[H])[N@@H+]2C([H])([H])[C@]2([H])C1([H])[H]', name='gdb_12062', idx=[1], adj_triu_mat=[1, 435], node_mat=[1, 29, 5], edge_mat=[1, 406, 4])\n",
      "Data(x=[19, 5], edge_index=[2, 20], edge_attr=[20, 4])\n"
     ]
    },
    {
     "name": "stderr",
     "output_type": "stream",
     "text": [
      "Epoch 144 Training: 100%|██████████| 1/1 [00:00<00:00, 28.56it/s]\n"
     ]
    },
    {
     "name": "stdout",
     "output_type": "stream",
     "text": [
      "Data(x=[18, 5], edge_index=[2, 38], edge_attr=[38, 4], y=[1, 2], pos=[18, 3], z=[18], smiles='[H]C([H])([H])[C@]1([H])O[C@]2(C1([H])[H])C([H])([H])[C@@]2([H])C#N', name='gdb_89864', idx=[1], adj_triu_mat=[1, 435], node_mat=[1, 29, 5], edge_mat=[1, 406, 4])\n",
      "Data(x=[18, 5], edge_index=[2, 19], edge_attr=[19, 4])\n"
     ]
    },
    {
     "name": "stderr",
     "output_type": "stream",
     "text": [
      "Epoch 145 Training: 100%|██████████| 1/1 [00:00<00:00, 28.64it/s]\n"
     ]
    },
    {
     "name": "stdout",
     "output_type": "stream",
     "text": [
      "Data(x=[17, 5], edge_index=[2, 34], edge_attr=[34, 4], y=[1, 2], pos=[17, 3], z=[17], smiles='[H]C#C[C@]1([H])OC1(C([H])([H])O[H])C([H])([H])O[H]', name='gdb_104761', idx=[1], adj_triu_mat=[1, 435], node_mat=[1, 29, 5], edge_mat=[1, 406, 4])\n",
      "Data(x=[17, 5], edge_index=[2, 17], edge_attr=[17, 4])\n"
     ]
    },
    {
     "name": "stderr",
     "output_type": "stream",
     "text": [
      "Epoch 146 Training: 100%|██████████| 1/1 [00:00<00:00, 29.05it/s]\n"
     ]
    },
    {
     "name": "stdout",
     "output_type": "stream",
     "text": [
      "Data(x=[19, 5], edge_index=[2, 40], edge_attr=[40, 4], y=[1, 2], pos=[19, 3], z=[19], smiles='[H]OC([H])([H])[C@@]1(C([H])([H])[H])[N@@H+]2C([H])([H])[C@]2([H])C1([H])[H]', name='gdb_12062', idx=[1], adj_triu_mat=[1, 435], node_mat=[1, 29, 5], edge_mat=[1, 406, 4])\n",
      "Data(x=[19, 5], edge_index=[2, 20], edge_attr=[20, 4])\n"
     ]
    },
    {
     "name": "stderr",
     "output_type": "stream",
     "text": [
      "Epoch 147 Training: 100%|██████████| 1/1 [00:00<00:00, 29.33it/s]\n"
     ]
    },
    {
     "name": "stdout",
     "output_type": "stream",
     "text": [
      "Data(x=[16, 5], edge_index=[2, 34], edge_attr=[34, 4], y=[1, 2], pos=[16, 3], z=[16], smiles='[H]O[C@]1([H])C2=C([H])OC([H])=C2N([H])C1([H])[H]', name='gdb_30357', idx=[1], adj_triu_mat=[1, 435], node_mat=[1, 29, 5], edge_mat=[1, 406, 4])\n",
      "Data(x=[16, 5], edge_index=[2, 17], edge_attr=[17, 4])\n"
     ]
    },
    {
     "name": "stderr",
     "output_type": "stream",
     "text": [
      "Epoch 148 Training: 100%|██████████| 1/1 [00:00<00:00, 29.22it/s]\n"
     ]
    },
    {
     "name": "stdout",
     "output_type": "stream",
     "text": [
      "Data(x=[15, 5], edge_index=[2, 30], edge_attr=[30, 4], y=[1, 2], pos=[15, 3], z=[15], smiles='[H]O[C@]1([H])C(=O)C([H])([H])O[C@@]1([H])C([H])=O', name='gdb_77366', idx=[1], adj_triu_mat=[1, 435], node_mat=[1, 29, 5], edge_mat=[1, 406, 4])\n",
      "Data(x=[15, 5], edge_index=[2, 15], edge_attr=[15, 4])\n"
     ]
    },
    {
     "name": "stderr",
     "output_type": "stream",
     "text": [
      "Epoch 149 Training: 100%|██████████| 1/1 [00:00<00:00, 28.78it/s]\n"
     ]
    },
    {
     "name": "stdout",
     "output_type": "stream",
     "text": [
      "Data(x=[20, 5], edge_index=[2, 44], edge_attr=[44, 4], y=[1, 2], pos=[20, 3], z=[20], smiles='[H]N1[C@@]2([H])[C@]3(O[C@]3([H])C([H])([H])C([H])([H])[H])C([H])([H])[C@@]12[H]', name='gdb_113461', idx=[1], adj_triu_mat=[1, 435], node_mat=[1, 29, 5], edge_mat=[1, 406, 4])\n",
      "Data(x=[20, 5], edge_index=[2, 22], edge_attr=[22, 4])\n"
     ]
    },
    {
     "name": "stderr",
     "output_type": "stream",
     "text": [
      "Epoch 150 Training: 100%|██████████| 1/1 [00:00<00:00, 17.38it/s]\n"
     ]
    },
    {
     "name": "stdout",
     "output_type": "stream",
     "text": [
      "Data(x=[17, 5], edge_index=[2, 32], edge_attr=[32, 4], y=[1, 2], pos=[17, 3], z=[17], smiles='[H]/N=C(/OC([H])([H])C([H])([H])O[H])N([H])C([H])=O', name='gdb_121723', idx=[1], adj_triu_mat=[1, 435], node_mat=[1, 29, 5], edge_mat=[1, 406, 4])\n",
      "Data(x=[18, 5], edge_index=[2, 12], edge_attr=[12, 4])\n"
     ]
    },
    {
     "name": "stderr",
     "output_type": "stream",
     "text": [
      "Epoch 151 Training: 100%|██████████| 1/1 [00:00<00:00, 28.24it/s]\n"
     ]
    },
    {
     "name": "stdout",
     "output_type": "stream",
     "text": [
      "Data(x=[21, 5], edge_index=[2, 42], edge_attr=[42, 4], y=[1, 2], pos=[21, 3], z=[21], smiles='[H]O[C@]1([H])C([H])([H])[C@]([H])(C([H])([H])C([H])([H])[H])[C@]1([H])C([H])=O', name='gdb_112792', idx=[1], adj_triu_mat=[1, 435], node_mat=[1, 29, 5], edge_mat=[1, 406, 4])\n",
      "Data(x=[21, 5], edge_index=[2, 21], edge_attr=[21, 4])\n"
     ]
    },
    {
     "name": "stderr",
     "output_type": "stream",
     "text": [
      "Epoch 152 Training: 100%|██████████| 1/1 [00:00<00:00, 28.20it/s]\n"
     ]
    },
    {
     "name": "stdout",
     "output_type": "stream",
     "text": [
      "Data(x=[23, 5], edge_index=[2, 48], edge_attr=[48, 4], y=[1, 2], pos=[23, 3], z=[23], smiles='[H]C1=C(C([H])([H])[H])[C@@]([H])(C([H])([H])[H])[C@]2([H])C([H])([H])[C@@]1([H])C2([H])[H]', name='gdb_80651', idx=[1], adj_triu_mat=[1, 435], node_mat=[1, 29, 5], edge_mat=[1, 406, 4])\n",
      "Data(x=[23, 5], edge_index=[2, 24], edge_attr=[24, 4])\n"
     ]
    },
    {
     "name": "stderr",
     "output_type": "stream",
     "text": [
      "Epoch 153 Training: 100%|██████████| 1/1 [00:00<00:00, 28.82it/s]\n"
     ]
    },
    {
     "name": "stdout",
     "output_type": "stream",
     "text": [
      "Data(x=[16, 5], edge_index=[2, 32], edge_attr=[32, 4], y=[1, 2], pos=[16, 3], z=[16], smiles='[H]C#CC#C[C@@]1(C([H])([H])O[H])N([H])C1([H])[H]', name='gdb_104944', idx=[1], adj_triu_mat=[1, 435], node_mat=[1, 29, 5], edge_mat=[1, 406, 4])\n",
      "Data(x=[16, 5], edge_index=[2, 16], edge_attr=[16, 4])\n"
     ]
    },
    {
     "name": "stderr",
     "output_type": "stream",
     "text": [
      "Epoch 154 Training: 100%|██████████| 1/1 [00:00<00:00, 28.61it/s]\n"
     ]
    },
    {
     "name": "stdout",
     "output_type": "stream",
     "text": [
      "Data(x=[20, 5], edge_index=[2, 44], edge_attr=[44, 4], y=[1, 2], pos=[20, 3], z=[20], smiles='[H]N1[C@@]2([H])[C@]3(O[C@]3([H])C([H])([H])C([H])([H])[H])C([H])([H])[C@@]12[H]', name='gdb_113461', idx=[1], adj_triu_mat=[1, 435], node_mat=[1, 29, 5], edge_mat=[1, 406, 4])\n",
      "Data(x=[20, 5], edge_index=[2, 22], edge_attr=[22, 4])\n"
     ]
    },
    {
     "name": "stderr",
     "output_type": "stream",
     "text": [
      "Epoch 155 Training: 100%|██████████| 1/1 [00:00<00:00, 28.64it/s]\n"
     ]
    },
    {
     "name": "stdout",
     "output_type": "stream",
     "text": [
      "Data(x=[16, 5], edge_index=[2, 32], edge_attr=[32, 4], y=[1, 2], pos=[16, 3], z=[16], smiles='[H]C#CC#C[C@@]1(C([H])([H])O[H])N([H])C1([H])[H]', name='gdb_104944', idx=[1], adj_triu_mat=[1, 435], node_mat=[1, 29, 5], edge_mat=[1, 406, 4])\n",
      "Data(x=[16, 5], edge_index=[2, 16], edge_attr=[16, 4])\n"
     ]
    },
    {
     "name": "stderr",
     "output_type": "stream",
     "text": [
      "Epoch 156 Training: 100%|██████████| 1/1 [00:00<00:00, 29.02it/s]\n"
     ]
    },
    {
     "name": "stdout",
     "output_type": "stream",
     "text": [
      "Data(x=[17, 5], edge_index=[2, 34], edge_attr=[34, 4], y=[1, 2], pos=[17, 3], z=[17], smiles='[H]C([H])([H])C([H])([H])O[C@]1([H])OC(=O)OC1([H])[H]', name='gdb_121054', idx=[1], adj_triu_mat=[1, 435], node_mat=[1, 29, 5], edge_mat=[1, 406, 4])\n",
      "Data(x=[17, 5], edge_index=[2, 17], edge_attr=[17, 4])\n"
     ]
    },
    {
     "name": "stderr",
     "output_type": "stream",
     "text": [
      "Epoch 157 Training: 100%|██████████| 1/1 [00:00<00:00, 28.46it/s]\n"
     ]
    },
    {
     "name": "stdout",
     "output_type": "stream",
     "text": [
      "Data(x=[21, 5], edge_index=[2, 42], edge_attr=[42, 4], y=[1, 2], pos=[21, 3], z=[21], smiles='[H]O[C@]1([H])C([H])([H])[C@]([H])(C([H])([H])C([H])([H])[H])[C@]1([H])C([H])=O', name='gdb_112792', idx=[1], adj_triu_mat=[1, 435], node_mat=[1, 29, 5], edge_mat=[1, 406, 4])\n",
      "Data(x=[21, 5], edge_index=[2, 21], edge_attr=[21, 4])\n"
     ]
    },
    {
     "name": "stderr",
     "output_type": "stream",
     "text": [
      "Epoch 158 Training: 100%|██████████| 1/1 [00:00<00:00, 29.04it/s]\n"
     ]
    },
    {
     "name": "stdout",
     "output_type": "stream",
     "text": [
      "Data(x=[16, 5], edge_index=[2, 34], edge_attr=[34, 4], y=[1, 2], pos=[16, 3], z=[16], smiles='[H]O[C@]1([H])C2=C([H])OC([H])=C2N([H])C1([H])[H]', name='gdb_30357', idx=[1], adj_triu_mat=[1, 435], node_mat=[1, 29, 5], edge_mat=[1, 406, 4])\n",
      "Data(x=[16, 5], edge_index=[2, 17], edge_attr=[17, 4])\n"
     ]
    },
    {
     "name": "stderr",
     "output_type": "stream",
     "text": [
      "Epoch 159 Training: 100%|██████████| 1/1 [00:00<00:00, 26.22it/s]\n"
     ]
    },
    {
     "name": "stdout",
     "output_type": "stream",
     "text": [
      "Data(x=[18, 5], edge_index=[2, 38], edge_attr=[38, 4], y=[1, 2], pos=[18, 3], z=[18], smiles='[H]C1=C([H])[C@@]2([H])C([H])([H])[C@@]2([H])OC([H])([H])C1([H])[H]', name='gdb_18391', idx=[1], adj_triu_mat=[1, 435], node_mat=[1, 29, 5], edge_mat=[1, 406, 4])\n",
      "Data(x=[18, 5], edge_index=[2, 19], edge_attr=[19, 4])\n"
     ]
    },
    {
     "name": "stderr",
     "output_type": "stream",
     "text": [
      "Epoch 160 Training: 100%|██████████| 1/1 [00:00<00:00, 29.46it/s]\n"
     ]
    },
    {
     "name": "stdout",
     "output_type": "stream",
     "text": [
      "Data(x=[21, 5], edge_index=[2, 42], edge_attr=[42, 4], y=[1, 2], pos=[21, 3], z=[21], smiles='[H]OC1([C@]([H])(C([H])=O)C([H])([H])[H])C([H])([H])C([H])([H])C1([H])[H]', name='gdb_60858', idx=[1], adj_triu_mat=[1, 435], node_mat=[1, 29, 5], edge_mat=[1, 406, 4])\n",
      "Data(x=[21, 5], edge_index=[2, 21], edge_attr=[21, 4])\n"
     ]
    },
    {
     "name": "stderr",
     "output_type": "stream",
     "text": [
      "Epoch 161 Training: 100%|██████████| 1/1 [00:00<00:00, 29.10it/s]\n"
     ]
    },
    {
     "name": "stdout",
     "output_type": "stream",
     "text": [
      "Data(x=[23, 5], edge_index=[2, 50], edge_attr=[50, 4], y=[1, 2], pos=[23, 3], z=[23], smiles='[H]C([H])([H])[C@@]1([H])C([H])([H])[C@@]12C([H])([H])[C@@]1(C([H])([H])[H])C([H])([H])[C@]12[H]', name='gdb_87768', idx=[1], adj_triu_mat=[1, 435], node_mat=[1, 29, 5], edge_mat=[1, 406, 4])\n",
      "Data(x=[23, 5], edge_index=[2, 25], edge_attr=[25, 4])\n"
     ]
    },
    {
     "name": "stderr",
     "output_type": "stream",
     "text": [
      "Epoch 162 Training: 100%|██████████| 1/1 [00:00<00:00, 29.32it/s]\n"
     ]
    },
    {
     "name": "stdout",
     "output_type": "stream",
     "text": [
      "Data(x=[17, 5], edge_index=[2, 32], edge_attr=[32, 4], y=[1, 2], pos=[17, 3], z=[17], smiles='[H]O[C@@]([H])(C([H])=O)C([H])(C([H])([H])[H])C([H])([H])[H]', name='gdb_1626', idx=[1], adj_triu_mat=[1, 435], node_mat=[1, 29, 5], edge_mat=[1, 406, 4])\n",
      "Data(x=[17, 5], edge_index=[2, 16], edge_attr=[16, 4])\n"
     ]
    },
    {
     "name": "stderr",
     "output_type": "stream",
     "text": [
      "Epoch 163 Training: 100%|██████████| 1/1 [00:00<00:00, 29.81it/s]\n"
     ]
    },
    {
     "name": "stdout",
     "output_type": "stream",
     "text": [
      "Data(x=[16, 5], edge_index=[2, 34], edge_attr=[34, 4], y=[1, 2], pos=[16, 3], z=[16], smiles='[H]O[C@@]1(C#N)C([H])([H])[C@@]1([H])[C@]1([H])OC1([H])[H]', name='gdb_65372', idx=[1], adj_triu_mat=[1, 435], node_mat=[1, 29, 5], edge_mat=[1, 406, 4])\n",
      "Data(x=[16, 5], edge_index=[2, 17], edge_attr=[17, 4])\n"
     ]
    },
    {
     "name": "stderr",
     "output_type": "stream",
     "text": [
      "Epoch 164 Training: 100%|██████████| 1/1 [00:00<00:00, 28.99it/s]\n"
     ]
    },
    {
     "name": "stdout",
     "output_type": "stream",
     "text": [
      "Data(x=[20, 5], edge_index=[2, 40], edge_attr=[40, 4], y=[1, 2], pos=[20, 3], z=[20], smiles='[H]OC([H])([H])[C@@]([H])([N@H+]1C([H])([H])[C@@]1([H])C([H])=O)C([H])([H])[H]', name='gdb_101299', idx=[1], adj_triu_mat=[1, 435], node_mat=[1, 29, 5], edge_mat=[1, 406, 4])\n",
      "Data(x=[20, 5], edge_index=[2, 20], edge_attr=[20, 4])\n"
     ]
    },
    {
     "name": "stderr",
     "output_type": "stream",
     "text": [
      "Epoch 165 Training: 100%|██████████| 1/1 [00:00<00:00, 29.07it/s]\n"
     ]
    },
    {
     "name": "stdout",
     "output_type": "stream",
     "text": [
      "Data(x=[20, 5], edge_index=[2, 46], edge_attr=[46, 4], y=[1, 2], pos=[20, 3], z=[20], smiles='[H]C([H])([H])[C@@]12[N@@H+]3[C@@]4([H])[C@]3([H])[C@]1(C([H])([H])[H])[C@@]4([H])C2([H])[H]', name='gdb_71709', idx=[1], adj_triu_mat=[1, 435], node_mat=[1, 29, 5], edge_mat=[1, 406, 4])\n",
      "Data(x=[20, 5], edge_index=[2, 23], edge_attr=[23, 4])\n"
     ]
    },
    {
     "name": "stderr",
     "output_type": "stream",
     "text": [
      "Epoch 166 Training: 100%|██████████| 1/1 [00:00<00:00, 29.14it/s]\n"
     ]
    },
    {
     "name": "stdout",
     "output_type": "stream",
     "text": [
      "Data(x=[18, 5], edge_index=[2, 36], edge_attr=[36, 4], y=[1, 2], pos=[18, 3], z=[18], smiles='[H][N-]C1OC([H])([H])C([NH2+]C([H])([H])[H])N([H])C1([H])[H]', name='gdb_97045', idx=[1], adj_triu_mat=[1, 435], node_mat=[1, 29, 5], edge_mat=[1, 406, 4])\n",
      "Data(x=[18, 5], edge_index=[2, 18], edge_attr=[18, 4])\n"
     ]
    },
    {
     "name": "stderr",
     "output_type": "stream",
     "text": [
      "Epoch 167 Training: 100%|██████████| 1/1 [00:00<00:00, 23.31it/s]\n"
     ]
    },
    {
     "name": "stdout",
     "output_type": "stream",
     "text": [
      "Data(x=[17, 5], edge_index=[2, 32], edge_attr=[32, 4], y=[1, 2], pos=[17, 3], z=[17], smiles='[H]/N=C(/OC([H])([H])C([H])([H])O[H])N([H])C([H])=O', name='gdb_121723', idx=[1], adj_triu_mat=[1, 435], node_mat=[1, 29, 5], edge_mat=[1, 406, 4])\n",
      "Data(x=[18, 5], edge_index=[2, 11], edge_attr=[11, 4])\n"
     ]
    },
    {
     "name": "stderr",
     "output_type": "stream",
     "text": [
      "Epoch 168 Training: 100%|██████████| 1/1 [00:00<00:00, 26.77it/s]\n"
     ]
    },
    {
     "name": "stdout",
     "output_type": "stream",
     "text": [
      "Data(x=[19, 5], edge_index=[2, 40], edge_attr=[40, 4], y=[1, 2], pos=[19, 3], z=[19], smiles='[H]C(=O)N([H])[C@@]1([H])C([H])([H])[N@H+]2C([H])([H])C([H])([H])[C@]21[H]', name='gdb_51674', idx=[1], adj_triu_mat=[1, 435], node_mat=[1, 29, 5], edge_mat=[1, 406, 4])\n",
      "Data(x=[19, 5], edge_index=[2, 20], edge_attr=[20, 4])\n"
     ]
    },
    {
     "name": "stderr",
     "output_type": "stream",
     "text": [
      "Epoch 169 Training: 100%|██████████| 1/1 [00:00<00:00, 24.50it/s]\n"
     ]
    },
    {
     "name": "stdout",
     "output_type": "stream",
     "text": [
      "Data(x=[21, 5], edge_index=[2, 42], edge_attr=[42, 4], y=[1, 2], pos=[21, 3], z=[21], smiles='[H]O[C@]1([H])[C@]([H])(O[H])C([H])([H])C([H])=C([H])[C@]1([H])C([H])([H])[H]', name='gdb_92903', idx=[1], adj_triu_mat=[1, 435], node_mat=[1, 29, 5], edge_mat=[1, 406, 4])\n",
      "Data(x=[21, 5], edge_index=[2, 21], edge_attr=[21, 4])\n"
     ]
    },
    {
     "name": "stderr",
     "output_type": "stream",
     "text": [
      "Epoch 170 Training: 100%|██████████| 1/1 [00:00<00:00, 25.94it/s]\n"
     ]
    },
    {
     "name": "stdout",
     "output_type": "stream",
     "text": [
      "Data(x=[19, 5], edge_index=[2, 40], edge_attr=[40, 4], y=[1, 2], pos=[19, 3], z=[19], smiles='[H]C(=O)N([H])[C@@]1([H])C([H])([H])[N@H+]2C([H])([H])C([H])([H])[C@]21[H]', name='gdb_51674', idx=[1], adj_triu_mat=[1, 435], node_mat=[1, 29, 5], edge_mat=[1, 406, 4])\n",
      "Data(x=[19, 5], edge_index=[2, 20], edge_attr=[20, 4])\n"
     ]
    },
    {
     "name": "stderr",
     "output_type": "stream",
     "text": [
      "Epoch 171 Training: 100%|██████████| 1/1 [00:00<00:00, 29.07it/s]\n"
     ]
    },
    {
     "name": "stdout",
     "output_type": "stream",
     "text": [
      "Data(x=[17, 5], edge_index=[2, 34], edge_attr=[34, 4], y=[1, 2], pos=[17, 3], z=[17], smiles='[H]C#C[C@]1([H])OC1(C([H])([H])O[H])C([H])([H])O[H]', name='gdb_104761', idx=[1], adj_triu_mat=[1, 435], node_mat=[1, 29, 5], edge_mat=[1, 406, 4])\n",
      "Data(x=[17, 5], edge_index=[2, 17], edge_attr=[17, 4])\n"
     ]
    },
    {
     "name": "stderr",
     "output_type": "stream",
     "text": [
      "Epoch 172 Training: 100%|██████████| 1/1 [00:00<00:00, 28.71it/s]\n"
     ]
    },
    {
     "name": "stdout",
     "output_type": "stream",
     "text": [
      "Data(x=[18, 5], edge_index=[2, 38], edge_attr=[38, 4], y=[1, 2], pos=[18, 3], z=[18], smiles='[H]C([H])([H])[C@]1([H])O[C@]2(C1([H])[H])C([H])([H])[C@@]2([H])C#N', name='gdb_89864', idx=[1], adj_triu_mat=[1, 435], node_mat=[1, 29, 5], edge_mat=[1, 406, 4])\n",
      "Data(x=[18, 5], edge_index=[2, 19], edge_attr=[19, 4])\n"
     ]
    },
    {
     "name": "stderr",
     "output_type": "stream",
     "text": [
      "Epoch 173 Training: 100%|██████████| 1/1 [00:00<00:00, 28.08it/s]\n"
     ]
    },
    {
     "name": "stdout",
     "output_type": "stream",
     "text": [
      "Data(x=[18, 5], edge_index=[2, 38], edge_attr=[38, 4], y=[1, 2], pos=[18, 3], z=[18], smiles='[H]C1=C([H])[C@@]2([H])C([H])([H])[C@@]2([H])OC([H])([H])C1([H])[H]', name='gdb_18391', idx=[1], adj_triu_mat=[1, 435], node_mat=[1, 29, 5], edge_mat=[1, 406, 4])\n",
      "Data(x=[18, 5], edge_index=[2, 19], edge_attr=[19, 4])\n"
     ]
    },
    {
     "name": "stderr",
     "output_type": "stream",
     "text": [
      "Epoch 174 Training: 100%|██████████| 1/1 [00:00<00:00, 27.49it/s]\n"
     ]
    },
    {
     "name": "stdout",
     "output_type": "stream",
     "text": [
      "Data(x=[18, 5], edge_index=[2, 38], edge_attr=[38, 4], y=[1, 2], pos=[18, 3], z=[18], smiles='[H]C([H])([H])[C@]1([H])O[C@]2(C1([H])[H])C([H])([H])[C@@]2([H])C#N', name='gdb_89864', idx=[1], adj_triu_mat=[1, 435], node_mat=[1, 29, 5], edge_mat=[1, 406, 4])\n",
      "Data(x=[18, 5], edge_index=[2, 19], edge_attr=[19, 4])\n"
     ]
    },
    {
     "name": "stderr",
     "output_type": "stream",
     "text": [
      "Epoch 175 Training: 100%|██████████| 1/1 [00:00<00:00, 27.41it/s]\n"
     ]
    },
    {
     "name": "stdout",
     "output_type": "stream",
     "text": [
      "Data(x=[16, 5], edge_index=[2, 32], edge_attr=[32, 4], y=[1, 2], pos=[16, 3], z=[16], smiles='[H]C#CC#C[C@@]1(C([H])([H])O[H])N([H])C1([H])[H]', name='gdb_104944', idx=[1], adj_triu_mat=[1, 435], node_mat=[1, 29, 5], edge_mat=[1, 406, 4])\n",
      "Data(x=[16, 5], edge_index=[2, 16], edge_attr=[16, 4])\n"
     ]
    },
    {
     "name": "stderr",
     "output_type": "stream",
     "text": [
      "Epoch 176 Training: 100%|██████████| 1/1 [00:00<00:00, 25.57it/s]\n"
     ]
    },
    {
     "name": "stdout",
     "output_type": "stream",
     "text": [
      "Data(x=[23, 5], edge_index=[2, 48], edge_attr=[48, 4], y=[1, 2], pos=[23, 3], z=[23], smiles='[H]C1=C(C([H])([H])[H])[C@@]([H])(C([H])([H])[H])[C@]2([H])C([H])([H])[C@@]1([H])C2([H])[H]', name='gdb_80651', idx=[1], adj_triu_mat=[1, 435], node_mat=[1, 29, 5], edge_mat=[1, 406, 4])\n",
      "Data(x=[23, 5], edge_index=[2, 24], edge_attr=[24, 4])\n"
     ]
    },
    {
     "name": "stderr",
     "output_type": "stream",
     "text": [
      "Epoch 177 Training: 100%|██████████| 1/1 [00:00<00:00, 29.45it/s]\n"
     ]
    },
    {
     "name": "stdout",
     "output_type": "stream",
     "text": [
      "Data(x=[18, 5], edge_index=[2, 36], edge_attr=[36, 4], y=[1, 2], pos=[18, 3], z=[18], smiles='[H]O[C@]1([H])C([H])=C(C([H])([H])[H])C([H])([H])[C@@]1([H])C#N', name='gdb_84136', idx=[1], adj_triu_mat=[1, 435], node_mat=[1, 29, 5], edge_mat=[1, 406, 4])\n",
      "Data(x=[18, 5], edge_index=[2, 18], edge_attr=[18, 4])\n"
     ]
    },
    {
     "name": "stderr",
     "output_type": "stream",
     "text": [
      "Epoch 178 Training: 100%|██████████| 1/1 [00:00<00:00, 28.52it/s]\n"
     ]
    },
    {
     "name": "stdout",
     "output_type": "stream",
     "text": [
      "Data(x=[19, 5], edge_index=[2, 42], edge_attr=[42, 4], y=[1, 2], pos=[19, 3], z=[19], smiles='[H]C([H])([H])O[C@]12C([H])([H])[C@@]1([H])[C@@]1([H])O[C@]12C([H])([H])[H]', name='gdb_107257', idx=[1], adj_triu_mat=[1, 435], node_mat=[1, 29, 5], edge_mat=[1, 406, 4])\n",
      "Data(x=[19, 5], edge_index=[2, 21], edge_attr=[21, 4])\n"
     ]
    },
    {
     "name": "stderr",
     "output_type": "stream",
     "text": [
      "Epoch 179 Training: 100%|██████████| 1/1 [00:00<00:00, 28.62it/s]\n"
     ]
    },
    {
     "name": "stdout",
     "output_type": "stream",
     "text": [
      "Data(x=[14, 5], edge_index=[2, 30], edge_attr=[30, 4], y=[1, 2], pos=[14, 3], z=[14], smiles='[H]N([H])C1=NC([C@]2([H])OC2([H])[H])=NO1', name='gdb_129970', idx=[1], adj_triu_mat=[1, 435], node_mat=[1, 29, 5], edge_mat=[1, 406, 4])\n",
      "Data(x=[14, 5], edge_index=[2, 15], edge_attr=[15, 4])\n"
     ]
    },
    {
     "name": "stderr",
     "output_type": "stream",
     "text": [
      "Epoch 180 Training: 100%|██████████| 1/1 [00:00<00:00, 27.85it/s]\n"
     ]
    },
    {
     "name": "stdout",
     "output_type": "stream",
     "text": [
      "Data(x=[23, 5], edge_index=[2, 50], edge_attr=[50, 4], y=[1, 2], pos=[23, 3], z=[23], smiles='[H]C([H])([H])[C@@]1([H])C([H])([H])[C@@]12C([H])([H])[C@@]1(C([H])([H])[H])C([H])([H])[C@]12[H]', name='gdb_87768', idx=[1], adj_triu_mat=[1, 435], node_mat=[1, 29, 5], edge_mat=[1, 406, 4])\n",
      "Data(x=[23, 5], edge_index=[2, 25], edge_attr=[25, 4])\n"
     ]
    },
    {
     "name": "stderr",
     "output_type": "stream",
     "text": [
      "Epoch 181 Training: 100%|██████████| 1/1 [00:00<00:00, 29.61it/s]\n"
     ]
    },
    {
     "name": "stdout",
     "output_type": "stream",
     "text": [
      "Data(x=[18, 5], edge_index=[2, 36], edge_attr=[36, 4], y=[1, 2], pos=[18, 3], z=[18], smiles='[H]C(=O)C([H])([H])[C@]1([H])C([H])([H])O[C@]1([H])C([H])([H])[H]', name='gdb_13092', idx=[1], adj_triu_mat=[1, 435], node_mat=[1, 29, 5], edge_mat=[1, 406, 4])\n",
      "Data(x=[18, 5], edge_index=[2, 18], edge_attr=[18, 4])\n"
     ]
    },
    {
     "name": "stderr",
     "output_type": "stream",
     "text": [
      "Epoch 182 Training: 100%|██████████| 1/1 [00:00<00:00, 29.42it/s]\n"
     ]
    },
    {
     "name": "stdout",
     "output_type": "stream",
     "text": [
      "Data(x=[18, 5], edge_index=[2, 36], edge_attr=[36, 4], y=[1, 2], pos=[18, 3], z=[18], smiles='[H]C(=O)C([H])([H])[C@]1([H])C([H])([H])O[C@]1([H])C([H])([H])[H]', name='gdb_13092', idx=[1], adj_triu_mat=[1, 435], node_mat=[1, 29, 5], edge_mat=[1, 406, 4])\n",
      "Data(x=[18, 5], edge_index=[2, 18], edge_attr=[18, 4])\n"
     ]
    },
    {
     "name": "stderr",
     "output_type": "stream",
     "text": [
      "Epoch 183 Training: 100%|██████████| 1/1 [00:00<00:00, 29.65it/s]\n"
     ]
    },
    {
     "name": "stdout",
     "output_type": "stream",
     "text": [
      "Data(x=[20, 5], edge_index=[2, 40], edge_attr=[40, 4], y=[1, 2], pos=[20, 3], z=[20], smiles='[H]OC([H])([H])[C@@]([H])([N@H+]1C([H])([H])[C@@]1([H])C([H])=O)C([H])([H])[H]', name='gdb_101299', idx=[1], adj_triu_mat=[1, 435], node_mat=[1, 29, 5], edge_mat=[1, 406, 4])\n",
      "Data(x=[20, 5], edge_index=[2, 20], edge_attr=[20, 4])\n"
     ]
    },
    {
     "name": "stderr",
     "output_type": "stream",
     "text": [
      "Epoch 184 Training: 100%|██████████| 1/1 [00:00<00:00, 29.66it/s]\n"
     ]
    },
    {
     "name": "stdout",
     "output_type": "stream",
     "text": [
      "Data(x=[17, 5], edge_index=[2, 34], edge_attr=[34, 4], y=[1, 2], pos=[17, 3], z=[17], smiles='[H]C#C[C@]1([H])OC1(C([H])([H])O[H])C([H])([H])O[H]', name='gdb_104761', idx=[1], adj_triu_mat=[1, 435], node_mat=[1, 29, 5], edge_mat=[1, 406, 4])\n",
      "Data(x=[17, 5], edge_index=[2, 17], edge_attr=[17, 4])\n"
     ]
    },
    {
     "name": "stderr",
     "output_type": "stream",
     "text": [
      "Epoch 185 Training: 100%|██████████| 1/1 [00:00<00:00, 29.83it/s]\n"
     ]
    },
    {
     "name": "stdout",
     "output_type": "stream",
     "text": [
      "Data(x=[18, 5], edge_index=[2, 36], edge_attr=[36, 4], y=[1, 2], pos=[18, 3], z=[18], smiles='[H]O[C@]1([H])C([H])=C(C([H])([H])[H])C([H])([H])[C@@]1([H])C#N', name='gdb_84136', idx=[1], adj_triu_mat=[1, 435], node_mat=[1, 29, 5], edge_mat=[1, 406, 4])\n",
      "Data(x=[18, 5], edge_index=[2, 18], edge_attr=[18, 4])\n"
     ]
    },
    {
     "name": "stderr",
     "output_type": "stream",
     "text": [
      "Epoch 186 Training: 100%|██████████| 1/1 [00:00<00:00, 28.60it/s]\n"
     ]
    },
    {
     "name": "stdout",
     "output_type": "stream",
     "text": [
      "Data(x=[18, 5], edge_index=[2, 36], edge_attr=[36, 4], y=[1, 2], pos=[18, 3], z=[18], smiles='[H][N-]C1OC([H])([H])C([NH2+]C([H])([H])[H])N([H])C1([H])[H]', name='gdb_97045', idx=[1], adj_triu_mat=[1, 435], node_mat=[1, 29, 5], edge_mat=[1, 406, 4])\n",
      "Data(x=[18, 5], edge_index=[2, 18], edge_attr=[18, 4])\n"
     ]
    },
    {
     "name": "stderr",
     "output_type": "stream",
     "text": [
      "Epoch 187 Training: 100%|██████████| 1/1 [00:00<00:00, 28.12it/s]\n"
     ]
    },
    {
     "name": "stdout",
     "output_type": "stream",
     "text": [
      "Data(x=[20, 5], edge_index=[2, 44], edge_attr=[44, 4], y=[1, 2], pos=[20, 3], z=[20], smiles='[H]N1[C@@]2([H])[C@]3(O[C@]3([H])C([H])([H])C([H])([H])[H])C([H])([H])[C@@]12[H]', name='gdb_113461', idx=[1], adj_triu_mat=[1, 435], node_mat=[1, 29, 5], edge_mat=[1, 406, 4])\n",
      "Data(x=[20, 5], edge_index=[2, 22], edge_attr=[22, 4])\n"
     ]
    },
    {
     "name": "stderr",
     "output_type": "stream",
     "text": [
      "Epoch 188 Training: 100%|██████████| 1/1 [00:00<00:00, 26.94it/s]\n"
     ]
    },
    {
     "name": "stdout",
     "output_type": "stream",
     "text": [
      "Data(x=[18, 5], edge_index=[2, 38], edge_attr=[38, 4], y=[1, 2], pos=[18, 3], z=[18], smiles='[H]C1=C([H])[C@@]2([H])C([H])([H])[C@@]2([H])OC([H])([H])C1([H])[H]', name='gdb_18391', idx=[1], adj_triu_mat=[1, 435], node_mat=[1, 29, 5], edge_mat=[1, 406, 4])\n",
      "Data(x=[18, 5], edge_index=[2, 19], edge_attr=[19, 4])\n"
     ]
    },
    {
     "name": "stderr",
     "output_type": "stream",
     "text": [
      "Epoch 189 Training: 100%|██████████| 1/1 [00:00<00:00, 28.70it/s]\n"
     ]
    },
    {
     "name": "stdout",
     "output_type": "stream",
     "text": [
      "Data(x=[18, 5], edge_index=[2, 38], edge_attr=[38, 4], y=[1, 2], pos=[18, 3], z=[18], smiles='[H]C#CC([H])([H])[C@]1(O[H])C([H])([H])[C@@]2([H])N([H])[C@@]12[H]', name='gdb_64721', idx=[1], adj_triu_mat=[1, 435], node_mat=[1, 29, 5], edge_mat=[1, 406, 4])\n",
      "Data(x=[18, 5], edge_index=[2, 19], edge_attr=[19, 4])\n"
     ]
    },
    {
     "name": "stderr",
     "output_type": "stream",
     "text": [
      "Epoch 190 Training: 100%|██████████| 1/1 [00:00<00:00, 29.00it/s]\n"
     ]
    },
    {
     "name": "stdout",
     "output_type": "stream",
     "text": [
      "Data(x=[18, 5], edge_index=[2, 38], edge_attr=[38, 4], y=[1, 2], pos=[18, 3], z=[18], smiles='[H]C([H])([H])[C@]1([H])O[C@]2(C1([H])[H])C([H])([H])[C@@]2([H])C#N', name='gdb_89864', idx=[1], adj_triu_mat=[1, 435], node_mat=[1, 29, 5], edge_mat=[1, 406, 4])\n",
      "Data(x=[18, 5], edge_index=[2, 19], edge_attr=[19, 4])\n"
     ]
    },
    {
     "name": "stderr",
     "output_type": "stream",
     "text": [
      "Epoch 191 Training: 100%|██████████| 1/1 [00:00<00:00, 26.94it/s]\n"
     ]
    },
    {
     "name": "stdout",
     "output_type": "stream",
     "text": [
      "Data(x=[20, 5], edge_index=[2, 46], edge_attr=[46, 4], y=[1, 2], pos=[20, 3], z=[20], smiles='[H]C([H])([H])[C@@]12[N@@H+]3[C@@]4([H])[C@]3([H])[C@]1(C([H])([H])[H])[C@@]4([H])C2([H])[H]', name='gdb_71709', idx=[1], adj_triu_mat=[1, 435], node_mat=[1, 29, 5], edge_mat=[1, 406, 4])\n",
      "Data(x=[20, 5], edge_index=[2, 23], edge_attr=[23, 4])\n"
     ]
    },
    {
     "name": "stderr",
     "output_type": "stream",
     "text": [
      "Epoch 192 Training: 100%|██████████| 1/1 [00:00<00:00, 29.22it/s]\n"
     ]
    },
    {
     "name": "stdout",
     "output_type": "stream",
     "text": [
      "Data(x=[14, 5], edge_index=[2, 30], edge_attr=[30, 4], y=[1, 2], pos=[14, 3], z=[14], smiles='[H]N([H])C1=NC([C@]2([H])OC2([H])[H])=NO1', name='gdb_129970', idx=[1], adj_triu_mat=[1, 435], node_mat=[1, 29, 5], edge_mat=[1, 406, 4])\n",
      "Data(x=[14, 5], edge_index=[2, 15], edge_attr=[15, 4])\n"
     ]
    },
    {
     "name": "stderr",
     "output_type": "stream",
     "text": [
      "Epoch 193 Training: 100%|██████████| 1/1 [00:00<00:00, 29.07it/s]\n"
     ]
    },
    {
     "name": "stdout",
     "output_type": "stream",
     "text": [
      "Data(x=[17, 5], edge_index=[2, 32], edge_attr=[32, 4], y=[1, 2], pos=[17, 3], z=[17], smiles='[H]/N=C(/OC([H])([H])C([H])([H])O[H])N([H])C([H])=O', name='gdb_121723', idx=[1], adj_triu_mat=[1, 435], node_mat=[1, 29, 5], edge_mat=[1, 406, 4])\n",
      "Data(x=[18, 5], edge_index=[2, 12], edge_attr=[12, 4])\n"
     ]
    },
    {
     "name": "stderr",
     "output_type": "stream",
     "text": [
      "Epoch 194 Training: 100%|██████████| 1/1 [00:00<00:00, 29.58it/s]\n"
     ]
    },
    {
     "name": "stdout",
     "output_type": "stream",
     "text": [
      "Data(x=[14, 5], edge_index=[2, 30], edge_attr=[30, 4], y=[1, 2], pos=[14, 3], z=[14], smiles='[H]N([H])C1=NC([C@]2([H])OC2([H])[H])=NO1', name='gdb_129970', idx=[1], adj_triu_mat=[1, 435], node_mat=[1, 29, 5], edge_mat=[1, 406, 4])\n",
      "Data(x=[14, 5], edge_index=[2, 15], edge_attr=[15, 4])\n"
     ]
    },
    {
     "name": "stderr",
     "output_type": "stream",
     "text": [
      "Epoch 195 Training: 100%|██████████| 1/1 [00:00<00:00, 29.15it/s]\n"
     ]
    },
    {
     "name": "stdout",
     "output_type": "stream",
     "text": [
      "Data(x=[19, 5], edge_index=[2, 40], edge_attr=[40, 4], y=[1, 2], pos=[19, 3], z=[19], smiles='[H]/C1=N/C([H])([H])C([H])([H])[N@H+]2C([H])([H])[C@@]2([H])C([H])([H])O1', name='gdb_39380', idx=[1], adj_triu_mat=[1, 435], node_mat=[1, 29, 5], edge_mat=[1, 406, 4])\n",
      "Data(x=[19, 5], edge_index=[2, 20], edge_attr=[20, 4])\n"
     ]
    },
    {
     "name": "stderr",
     "output_type": "stream",
     "text": [
      "Epoch 196 Training: 100%|██████████| 1/1 [00:00<00:00, 28.79it/s]\n"
     ]
    },
    {
     "name": "stdout",
     "output_type": "stream",
     "text": [
      "Data(x=[20, 5], edge_index=[2, 44], edge_attr=[44, 4], y=[1, 2], pos=[20, 3], z=[20], smiles='[H]N1[C@@]2([H])[C@]3(O[C@]3([H])C([H])([H])C([H])([H])[H])C([H])([H])[C@@]12[H]', name='gdb_113461', idx=[1], adj_triu_mat=[1, 435], node_mat=[1, 29, 5], edge_mat=[1, 406, 4])\n",
      "Data(x=[20, 5], edge_index=[2, 22], edge_attr=[22, 4])\n"
     ]
    },
    {
     "name": "stderr",
     "output_type": "stream",
     "text": [
      "Epoch 197 Training: 100%|██████████| 1/1 [00:00<00:00, 28.62it/s]\n"
     ]
    },
    {
     "name": "stdout",
     "output_type": "stream",
     "text": [
      "Data(x=[20, 5], edge_index=[2, 46], edge_attr=[46, 4], y=[1, 2], pos=[20, 3], z=[20], smiles='[H]C([H])([H])[C@@]12[N@@H+]3[C@@]4([H])[C@]3([H])[C@]1(C([H])([H])[H])[C@@]4([H])C2([H])[H]', name='gdb_71709', idx=[1], adj_triu_mat=[1, 435], node_mat=[1, 29, 5], edge_mat=[1, 406, 4])\n",
      "Data(x=[20, 5], edge_index=[2, 23], edge_attr=[23, 4])\n"
     ]
    },
    {
     "name": "stderr",
     "output_type": "stream",
     "text": [
      "Epoch 198 Training: 100%|██████████| 1/1 [00:00<00:00, 29.12it/s]\n"
     ]
    },
    {
     "name": "stdout",
     "output_type": "stream",
     "text": [
      "Data(x=[16, 5], edge_index=[2, 34], edge_attr=[34, 4], y=[1, 2], pos=[16, 3], z=[16], smiles='[H]O[C@@]1(C#N)C([H])([H])[C@@]1([H])[C@]1([H])OC1([H])[H]', name='gdb_65372', idx=[1], adj_triu_mat=[1, 435], node_mat=[1, 29, 5], edge_mat=[1, 406, 4])\n",
      "Data(x=[16, 5], edge_index=[2, 17], edge_attr=[17, 4])\n"
     ]
    },
    {
     "name": "stderr",
     "output_type": "stream",
     "text": [
      "Epoch 199 Training: 100%|██████████| 1/1 [00:00<00:00, 29.13it/s]\n"
     ]
    },
    {
     "name": "stdout",
     "output_type": "stream",
     "text": [
      "Data(x=[23, 5], edge_index=[2, 50], edge_attr=[50, 4], y=[1, 2], pos=[23, 3], z=[23], smiles='[H]C([H])([H])[C@@]1([H])C([H])([H])[C@@]12C([H])([H])[C@@]1(C([H])([H])[H])C([H])([H])[C@]12[H]', name='gdb_87768', idx=[1], adj_triu_mat=[1, 435], node_mat=[1, 29, 5], edge_mat=[1, 406, 4])\n",
      "Data(x=[23, 5], edge_index=[2, 25], edge_attr=[25, 4])\n"
     ]
    },
    {
     "name": "stderr",
     "output_type": "stream",
     "text": [
      "Epoch 200 Training: 100%|██████████| 1/1 [00:00<00:00, 29.64it/s]\n"
     ]
    },
    {
     "name": "stdout",
     "output_type": "stream",
     "text": [
      "Data(x=[19, 5], edge_index=[2, 40], edge_attr=[40, 4], y=[1, 2], pos=[19, 3], z=[19], smiles='[H]OC([H])([H])[C@@]1(C([H])([H])[H])[N@@H+]2C([H])([H])[C@]2([H])C1([H])[H]', name='gdb_12062', idx=[1], adj_triu_mat=[1, 435], node_mat=[1, 29, 5], edge_mat=[1, 406, 4])\n",
      "Data(x=[19, 5], edge_index=[2, 20], edge_attr=[20, 4])\n"
     ]
    }
   ],
   "source": [
    "graph_vae_model = GraphVAE(hparams=hparams).to(device=device)\n",
    "optimizer = torch.optim.Adam(\n",
    "    graph_vae_model.parameters(),\n",
    "    lr=hparams[\"learning_rate\"],\n",
    "    betas=(hparams[\"beta_1\"], 0.999)\n",
    ")\n",
    "epochs = hparams[\"epochs\"]\n",
    "\n",
    "train_loader = dataloaders[\"train_tiny\"]\n",
    "val_subset_loader_iterator = itertools.cycle(dataloaders[\"val_subsets\"])\n",
    "\n",
    "validation_interval = 100\n",
    "\n",
    "writer = create_tensorboard_writer(experiment_name=\"graph-vae\")\n",
    "\n",
    "for epoch in range(epochs):\n",
    "    graph_vae_model.train()\n",
    "    for batch_index, train_batch in enumerate(tqdm(train_loader,  desc=f\"Epoch {epoch + 1} Training\")):\n",
    "        optimizer.zero_grad()\n",
    "        train_prediction = graph_vae_model(train_batch)\n",
    "        train_target = (train_batch.adj_triu_mat, train_batch.node_mat, train_batch.edge_mat)\n",
    "\n",
    "        loss = graph_vae_model.reconstruction_loss(input=train_prediction, target=train_target)\n",
    "\n",
    "        loss.backward()\n",
    "        optimizer.step()\n",
    "\n",
    "        iteration = len(train_loader) * epoch + batch_index\n",
    "        writer.add_scalars(\"Loss\", {\"Training\": loss.item()}, iteration)\n",
    "\n",
    "        if iteration % validation_interval == 0:\n",
    "            graph_vae_model.eval()\n",
    "            val_loss_sum = 0\n",
    "\n",
    "            # Get the next subset of the validation set\n",
    "            val_loader = next(val_subset_loader_iterator)\n",
    "            with torch.no_grad():\n",
    "                for val_batch in val_loader:\n",
    "                    val_prediction = graph_vae_model(val_batch)\n",
    "                    val_target = (val_batch.adj_triu_mat, val_batch.node_mat, val_batch.edge_mat)\n",
    "                    val_loss_sum += graph_vae_model.reconstruction_loss(\n",
    "                        input=val_prediction,\n",
    "                        target=val_target\n",
    "                    )\n",
    "            \n",
    "            val_loss = val_loss_sum / len(val_loader)\n",
    "            writer.add_scalars(\"Loss\", {\"Validation\": val_loss.item()}, iteration)\n",
    "            \n",
    "            graph_vae_model.train()\n",
    "\n",
    "    # Visualization\n",
    "    # get random mol from train dataset and visualize\n",
    "    sample_index = random.randint(0, len(train_loader) * batch_size)\n",
    "    sample = train_dataset[sample_index]\n",
    "    print(sample)\n",
    "    writer.add_image('Input', molecule_graph_data_to_image(sample), global_step=epoch, dataformats=\"NCHW\")\n",
    "\n",
    "    # encode and decode the molecule\n",
    "    graph_vae_model.eval()\n",
    "    pred_adj_triu_mat, pred_node_mat, pred_edge_mat = graph_vae_model(sample)\n",
    "\n",
    "    #####################################\n",
    "    # Convert predicted matrices to graph\n",
    "    #####################################\n",
    "\n",
    "    # drop the batch dimension\n",
    "    pred_adj_triu_mat = pred_adj_triu_mat[0]\n",
    "    pred_node_mat = pred_node_mat[0]\n",
    "    pred_edge_mat = pred_edge_mat[0]\n",
    "\n",
    "    n = hparams[\"max_num_nodes\"]\n",
    "\n",
    "    edge_triu_mat = pred_edge_mat.argmax(dim=1).float()\n",
    "    edge_mat = torch.zeros(n, n, device=device)\n",
    "    edge_mat[torch.ones(n, n).triu(diagonal=1) == 1] = edge_triu_mat\n",
    "    edge_mat = edge_mat + 1  # add one so we can so that 0 indicates no node instea of hydrogen\n",
    "\n",
    "    # convert predicted upper triagular matrix into symmetric edge index and\n",
    "    adj_triu_mat = torch.where(F.sigmoid(pred_adj_triu_mat) > 0.5, 1.0, 0.0)\n",
    "    adj_mat = torch.zeros(n, n, device=device)\n",
    "    adj_mat[torch.ones(n, n).triu() == 1] = adj_triu_mat\n",
    "    diagonal = adj_mat.diagonal()\n",
    "\n",
    "    # combine the adjacency matrix with edge features\n",
    "    edge_mat *= adj_mat\n",
    "\n",
    "    node_mask = diagonal == 1\n",
    "    edge_index, edge_attr = dense_to_sparse(adj=edge_mat.unsqueeze(0), mask=node_mask.unsqueeze(0))\n",
    "\n",
    "    edge_attr = F.one_hot((edge_attr - 1).long(), num_classes=num_edge_features)\n",
    "\n",
    "    # Adjust indices in edge_index to account for removed nodes\n",
    "    # Create a mapping from old indices to new indices\n",
    "    old_to_new_indices = torch.cumsum(node_mask, 0) - 1\n",
    "    old_to_new_indices[~node_mask] = -1\n",
    "    new_edge_index = old_to_new_indices[edge_index]\n",
    "\n",
    "    # Remove edges that contain removed nodes\n",
    "    valid_edges = (new_edge_index >= 0).all(dim=0)\n",
    "    new_edge_index = new_edge_index[:, valid_edges]\n",
    "    new_edge_attr = edge_attr[valid_edges, :]\n",
    "\n",
    "    edge_index, edge_attr = remove_self_loops(edge_index=new_edge_index, edge_attr=new_edge_attr)\n",
    "\n",
    "    # convert node feature logits into one-hot vector\n",
    "    x = F.one_hot(pred_node_mat[node_mask].argmax(dim=1), num_classes=num_node_features)\n",
    "\n",
    "    reconstructed_sample = Data(x=x, edge_index=edge_index, edge_attr=edge_attr)\n",
    "    print(reconstructed_sample)\n",
    "    \n",
    "    writer.add_image('Reconstruction', molecule_graph_data_to_image(reconstructed_sample), global_step=epoch, dataformats=\"NCHW\")  \n"
   ]
  }
 ],
 "metadata": {
  "kernelspec": {
   "display_name": "idp",
   "language": "python",
   "name": "python3"
  },
  "language_info": {
   "codemirror_mode": {
    "name": "ipython",
    "version": 3
   },
   "file_extension": ".py",
   "mimetype": "text/x-python",
   "name": "python",
   "nbconvert_exporter": "python",
   "pygments_lexer": "ipython3",
   "version": "3.11.5"
  }
 },
 "nbformat": 4,
 "nbformat_minor": 2
}
