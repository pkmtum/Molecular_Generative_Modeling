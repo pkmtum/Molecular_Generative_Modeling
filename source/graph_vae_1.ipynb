{
 "cells": [
  {
   "cell_type": "code",
   "execution_count": 11,
   "metadata": {},
   "outputs": [
    {
     "name": "stdout",
     "output_type": "stream",
     "text": [
      "The autoreload extension is already loaded. To reload it, use:\n",
      "  %reload_ext autoreload\n"
     ]
    }
   ],
   "source": [
    "%load_ext autoreload\n",
    "%autoreload 2\n",
    "\n",
    "from typing import List, Dict, Any\n",
    "import itertools\n",
    "import random\n",
    "from tqdm import tqdm\n",
    "\n",
    "import torch\n",
    "import torch.nn as nn\n",
    "import torch.nn.functional as F\n",
    "from torch_geometric.datasets import QM9\n",
    "from torch_geometric.data import Data\n",
    "import torch_geometric.transforms as T\n",
    "from torch_geometric.loader import DataLoader\n",
    "from torch_geometric.nn import GCNConv, global_mean_pool\n",
    "from torch_geometric.utils import to_dense_adj, dense_to_sparse, remove_self_loops\n",
    "from data_utils import *"
   ]
  },
  {
   "cell_type": "code",
   "execution_count": 18,
   "metadata": {},
   "outputs": [
    {
     "name": "stdout",
     "output_type": "stream",
     "text": [
      "24\n",
      "tensor([[0., 1., 0., 0., 0.],\n",
      "        [1., 0., 0., 0., 0.],\n",
      "        [1., 0., 0., 0., 0.],\n",
      "        [1., 0., 0., 0., 0.],\n",
      "        [1., 0., 0., 0., 0.],\n",
      "        [1., 0., 0., 0., 0.],\n",
      "        [1., 0., 0., 0., 0.],\n",
      "        [1., 0., 0., 0., 0.],\n",
      "        [1., 0., 0., 0., 0.],\n",
      "        [1., 0., 0., 0., 0.],\n",
      "        [1., 0., 0., 0., 0.],\n",
      "        [1., 0., 0., 0., 0.],\n",
      "        [1., 0., 0., 0., 0.],\n",
      "        [1., 0., 0., 0., 0.],\n",
      "        [1., 0., 0., 0., 0.],\n",
      "        [1., 0., 0., 0., 0.],\n",
      "        [1., 0., 0., 0., 0.],\n",
      "        [1., 0., 0., 0., 0.],\n",
      "        [1., 0., 0., 0., 0.],\n",
      "        [1., 0., 0., 0., 0.],\n",
      "        [1., 0., 0., 0., 0.],\n",
      "        [1., 0., 0., 0., 0.],\n",
      "        [1., 0., 0., 0., 0.],\n",
      "        [1., 0., 0., 0., 0.],\n",
      "        [1., 0., 0., 0., 0.],\n",
      "        [1., 0., 0., 0., 0.],\n",
      "        [1., 0., 0., 0., 0.],\n",
      "        [1., 0., 0., 0., 0.],\n",
      "        [1., 0., 0., 0., 0.]])\n",
      "torch.Size([29, 5])\n",
      "24\n",
      "tensor([[0., 1., 0., 0., 0.],\n",
      "        [1., 0., 0., 0., 0.],\n",
      "        [1., 0., 0., 0., 0.],\n",
      "        [1., 0., 0., 0., 0.],\n",
      "        [1., 0., 0., 0., 0.],\n",
      "        [1., 0., 0., 0., 0.],\n",
      "        [1., 0., 0., 0., 0.],\n",
      "        [1., 0., 0., 0., 0.],\n",
      "        [1., 0., 0., 0., 0.],\n",
      "        [1., 0., 0., 0., 0.],\n",
      "        [1., 0., 0., 0., 0.],\n",
      "        [1., 0., 0., 0., 0.],\n",
      "        [1., 0., 0., 0., 0.],\n",
      "        [1., 0., 0., 0., 0.],\n",
      "        [1., 0., 0., 0., 0.],\n",
      "        [1., 0., 0., 0., 0.],\n",
      "        [1., 0., 0., 0., 0.],\n",
      "        [1., 0., 0., 0., 0.],\n",
      "        [1., 0., 0., 0., 0.],\n",
      "        [1., 0., 0., 0., 0.],\n",
      "        [1., 0., 0., 0., 0.],\n",
      "        [1., 0., 0., 0., 0.],\n",
      "        [1., 0., 0., 0., 0.],\n",
      "        [1., 0., 0., 0., 0.],\n",
      "        [1., 0., 0., 0., 0.],\n",
      "        [1., 0., 0., 0., 0.],\n",
      "        [1., 0., 0., 0., 0.],\n",
      "        [1., 0., 0., 0., 0.],\n",
      "        [1., 0., 0., 0., 0.]])\n",
      "torch.Size([29, 5])\n"
     ]
    }
   ],
   "source": [
    "device = torch.device('cuda' if torch.cuda.is_available() else 'cpu')\n",
    "\n",
    "max_num_nodes = 29\n",
    "\n",
    "transform = T.Compose([\n",
    "    SelectQM9TargetProperties(properties=[\"homo\", \"lumo\"]),\n",
    "    SelectQM9NodeFeatures(features=[\"atom_type\"]),\n",
    "    AddAdjacencyMatrix(max_num_nodes=max_num_nodes),\n",
    "    AddNodeAttributeMatrix(max_num_nodes=max_num_nodes),\n",
    "    T.ToDevice(device=device)\n",
    "])\n",
    "\n",
    "dataset = QM9(root=\"./data\", transform=transform)\n",
    "\n",
    "train_dataset, val_dataset, test_dataset = create_qm9_data_split(dataset=dataset)\n",
    "\n",
    "num_node_features = dataset.num_node_features\n",
    "num_edge_features = dataset.num_edge_features"
   ]
  },
  {
   "cell_type": "code",
   "execution_count": 10,
   "metadata": {},
   "outputs": [
    {
     "name": "stdout",
     "output_type": "stream",
     "text": [
      "tensor([1., 1., 0., 0., 0., 0., 0., 1., 1., 1., 0., 0., 0., 0., 0., 0., 0., 0.,\n",
      "        0., 0., 0., 0., 0., 0., 0., 0., 0., 0., 0.])\n"
     ]
    },
    {
     "data": {
      "text/plain": [
       "torch.Size([18, 5])"
      ]
     },
     "execution_count": 10,
     "metadata": {},
     "output_type": "execute_result"
    }
   ],
   "source": [
    "train_dataset[0].x.shape"
   ]
  },
  {
   "cell_type": "code",
   "execution_count": 8,
   "metadata": {},
   "outputs": [],
   "source": [
    "class Encoder(nn.Module):\n",
    "\n",
    "    def __init__(self, hparams: Dict[str, Any]) -> None:\n",
    "        super().__init__()\n",
    "\n",
    "        # TODO: two graph convolutional layers (32 and 64 channeles) with identity connection (edge conditioned graph convolution)\n",
    "        self.conv1 = GCNConv(in_channels=hparams[\"num_node_features\"], out_channels=32)\n",
    "        self.conv2 = GCNConv(in_channels=32, out_channels=64)\n",
    "        self.fc = nn.Linear(in_features=64, out_features=128)\n",
    "\n",
    "    def forward(self, data: Data):\n",
    "        x, edge_index, batch, edge_attr = data.x, data.edge_index, data.batch, data.edge_attr\n",
    "\n",
    "        x = self.conv1(x, edge_index)\n",
    "        x = F.relu(x)\n",
    "        x = self.conv2(x, edge_index)\n",
    "        x = global_mean_pool(x, batch)\n",
    "        x = self.fc(x)\n",
    "        return x\n",
    "    \n",
    "class Decoder(nn.Module):\n",
    "\n",
    "    def __init__(self, hparams: Dict[str, Any]) -> None:\n",
    "        super().__init__()\n",
    "\n",
    "        self.fcls = nn.Sequential(\n",
    "            nn.Linear(in_features=128, out_features=128),\n",
    "            nn.BatchNorm1d(num_features=128),\n",
    "            nn.ReLU(),\n",
    "            nn.Linear(in_features=128, out_features=256),\n",
    "            nn.BatchNorm1d(num_features=256),\n",
    "            nn.ReLU(),\n",
    "            nn.Linear(in_features=256, out_features=512),\n",
    "            nn.BatchNorm1d(num_features=512),\n",
    "            nn.ReLU(),\n",
    "        )\n",
    "\n",
    "        n = hparams[\"max_num_nodes\"]\n",
    "        # the atom graph is symmetric so we only predict the upper triangular part\n",
    "        upper_triangular_size = int(n * (n + 1) / 2)\n",
    "        self.fc_adjacency = nn.Linear(in_features=512, out_features=upper_triangular_size)\n",
    "\n",
    "        self.fc_node_features = nn.Linear(in_features=512, out_features=n * hparams[\"num_node_features\"])\n",
    "        self.fc_edge_features = nn.Linear(in_features=512, out_features=n * hparams[\"num_edge_features\"])\n",
    "\n",
    "    def forward(self, z: torch.Tensor) -> Tuple[torch.Tensor, torch.Tensor, torch.Tensor]:\n",
    "        x = self.fcls(z)\n",
    "        # predict upper triangular matrix including the diagonal\n",
    "        adj_triu_matrix = self.fc_adjacency(x)\n",
    "        node_features = self.fc_node_features(x)\n",
    "        edge_features = self.fc_edge_features(x)\n",
    "\n",
    "        return adj_triu_matrix, node_features, edge_features\n",
    "\n",
    "\n",
    "class GraphVAE(nn.Module):\n",
    "\n",
    "    def __init__(self, hparams: Dict[str, Any]) -> None:\n",
    "        super().__init__()\n",
    "\n",
    "        self.encoder = Encoder(hparams=hparams)\n",
    "        self.decoder = Decoder(hparams=hparams)\n",
    "\n",
    "    def forward(self, data) -> Tuple[torch.Tensor, torch.Tensor, torch.Tensor]:\n",
    "        z = self.encoder(data)\n",
    "        x = self.decoder(z)\n",
    "        return x\n",
    "    \n",
    "    def reconstruction_loss(\n",
    "        self, \n",
    "        input: Tuple[torch.Tensor, torch.Tensor, torch.Tensor], \n",
    "        target: Tuple[torch.Tensor, torch.Tensor, torch.Tensor]\n",
    "    ):\n",
    "        input_adj_triu_mat, input_node_features, _ = input\n",
    "        target_adj_triu_mat, target_node_features, _ = target\n",
    "\n",
    "        print(input_node_features.shape)\n",
    "        print(target_node_features.shape)\n",
    "\n",
    "        return F.binary_cross_entropy_with_logits(input=input_adj_triu_mat, target=target_adj_triu_mat)\n"
   ]
  },
  {
   "cell_type": "code",
   "execution_count": 47,
   "metadata": {},
   "outputs": [],
   "source": [
    "hparams = {\n",
    "    \"batch_size\": 32,\n",
    "    \"max_num_nodes\": max_num_nodes,\n",
    "    \"learning_rate\": 1e-3,\n",
    "    \"beta_1\": 0.5,\n",
    "    \"epochs\": 1000,\n",
    "    \"num_node_features\": num_node_features,\n",
    "    \"num_edge_features\": num_edge_features\n",
    "}\n",
    "\n",
    "# TODO: plot reconstruction\n",
    "# TODO: implement reconstruction loss adjacency\n",
    "# TODO: implement reconstruction loss node features\n",
    "# TODO: implement reconstruction loss edge features\n",
    "\n",
    "# TODO: filter chemically invalid mols from QM9 dataset\n",
    "# TODO: add kl-loss\n",
    "# TODO: implement encoder from the paper\n",
    "# TODO: graph matching\n",
    "\n",
    "batch_size = hparams[\"batch_size\"]\n",
    "dataloaders = {\n",
    "    \"train_single\": DataLoader(train_dataset[:1], batch_size=batch_size, shuffle=True),\n",
    "    \"train_tiny\": DataLoader(train_dataset[:batch_size], batch_size=batch_size, shuffle=True),\n",
    "    \"train_small\": DataLoader(train_dataset[:4096], batch_size=batch_size, shuffle=True),\n",
    "    \"train\": DataLoader(train_dataset, batch_size=batch_size, shuffle=True),\n",
    "\n",
    "    \"val_small\": DataLoader(val_dataset[:512], batch_size=batch_size, shuffle=False),\n",
    "    \"val\": DataLoader(val_dataset, batch_size=batch_size, shuffle=False)\n",
    "}\n",
    "\n",
    "val_subset_count = 32\n",
    "dataloaders[\"val_subsets\"] = create_validation_subset_loaders(validation_dataset=val_dataset, subset_count=32, batch_size=batch_size)"
   ]
  },
  {
   "cell_type": "code",
   "execution_count": 48,
   "metadata": {},
   "outputs": [
    {
     "name": "stderr",
     "output_type": "stream",
     "text": [
      "Epoch 1 Training: 100%|██████████| 1/1 [00:00<00:00,  3.58it/s]\n",
      "[16:47:44] Explicit valence for atom # 0 H, 7, is greater than permitted\n"
     ]
    },
    {
     "name": "stdout",
     "output_type": "stream",
     "text": [
      "Chemically invalid molecule! Reason: Explicit valence for atom # 0 H, 7, is greater than permitted\n"
     ]
    },
    {
     "name": "stderr",
     "output_type": "stream",
     "text": [
      "Epoch 2 Training: 100%|██████████| 1/1 [00:00<00:00, 31.45it/s]\n",
      "[16:47:44] Explicit valence for atom # 0 H, 5, is greater than permitted\n"
     ]
    },
    {
     "name": "stdout",
     "output_type": "stream",
     "text": [
      "Chemically invalid molecule! Reason: Explicit valence for atom # 0 H, 5, is greater than permitted\n"
     ]
    },
    {
     "name": "stderr",
     "output_type": "stream",
     "text": [
      "Epoch 3 Training: 100%|██████████| 1/1 [00:00<00:00, 43.01it/s]\n",
      "[16:47:44] Explicit valence for atom # 0 H, 4, is greater than permitted\n"
     ]
    },
    {
     "name": "stdout",
     "output_type": "stream",
     "text": [
      "Chemically invalid molecule! Reason: Explicit valence for atom # 0 H, 4, is greater than permitted\n"
     ]
    },
    {
     "name": "stderr",
     "output_type": "stream",
     "text": [
      "Epoch 4 Training: 100%|██████████| 1/1 [00:00<00:00, 42.60it/s]\n",
      "[16:47:44] Explicit valence for atom # 0 H, 4, is greater than permitted\n"
     ]
    },
    {
     "name": "stdout",
     "output_type": "stream",
     "text": [
      "Chemically invalid molecule! Reason: Explicit valence for atom # 0 H, 4, is greater than permitted\n"
     ]
    },
    {
     "name": "stderr",
     "output_type": "stream",
     "text": [
      "Epoch 5 Training: 100%|██████████| 1/1 [00:00<00:00, 42.25it/s]"
     ]
    },
    {
     "name": "stdout",
     "output_type": "stream",
     "text": [
      "Chemically invalid molecule! Reason: Explicit valence for atom # 0 H, 3, is greater than permitted\n"
     ]
    },
    {
     "name": "stderr",
     "output_type": "stream",
     "text": [
      "\n",
      "[16:47:44] Explicit valence for atom # 0 H, 3, is greater than permitted\n",
      "Epoch 6 Training: 100%|██████████| 1/1 [00:00<00:00, 43.83it/s]\n",
      "[16:47:44] Explicit valence for atom # 0 H, 3, is greater than permitted\n"
     ]
    },
    {
     "name": "stdout",
     "output_type": "stream",
     "text": [
      "Chemically invalid molecule! Reason: Explicit valence for atom # 0 H, 3, is greater than permitted\n"
     ]
    },
    {
     "name": "stderr",
     "output_type": "stream",
     "text": [
      "Epoch 7 Training: 100%|██████████| 1/1 [00:00<00:00, 41.94it/s]\n"
     ]
    },
    {
     "name": "stdout",
     "output_type": "stream",
     "text": [
      "Chemically invalid molecule! Reason: Explicit valence for atom # 0 H, 3, is greater than permitted\n"
     ]
    },
    {
     "name": "stderr",
     "output_type": "stream",
     "text": [
      "[16:47:44] Explicit valence for atom # 0 H, 3, is greater than permitted\n",
      "Epoch 8 Training: 100%|██████████| 1/1 [00:00<00:00, 40.29it/s]\n",
      "[16:47:44] Explicit valence for atom # 0 H, 3, is greater than permitted\n"
     ]
    },
    {
     "name": "stdout",
     "output_type": "stream",
     "text": [
      "Chemically invalid molecule! Reason: Explicit valence for atom # 0 H, 3, is greater than permitted\n"
     ]
    },
    {
     "name": "stderr",
     "output_type": "stream",
     "text": [
      "Epoch 9 Training: 100%|██████████| 1/1 [00:00<00:00, 41.14it/s]\n",
      "[16:47:45] Explicit valence for atom # 0 H, 3, is greater than permitted\n"
     ]
    },
    {
     "name": "stdout",
     "output_type": "stream",
     "text": [
      "Chemically invalid molecule! Reason: Explicit valence for atom # 0 H, 3, is greater than permitted\n"
     ]
    },
    {
     "name": "stderr",
     "output_type": "stream",
     "text": [
      "Epoch 10 Training: 100%|██████████| 1/1 [00:00<00:00, 42.57it/s]\n",
      "[16:47:45] Explicit valence for atom # 0 H, 3, is greater than permitted\n"
     ]
    },
    {
     "name": "stdout",
     "output_type": "stream",
     "text": [
      "Chemically invalid molecule! Reason: Explicit valence for atom # 0 H, 3, is greater than permitted\n"
     ]
    },
    {
     "name": "stderr",
     "output_type": "stream",
     "text": [
      "Epoch 11 Training: 100%|██████████| 1/1 [00:00<00:00, 43.34it/s]\n",
      "[16:47:45] Explicit valence for atom # 0 H, 3, is greater than permitted\n"
     ]
    },
    {
     "name": "stdout",
     "output_type": "stream",
     "text": [
      "Chemically invalid molecule! Reason: Explicit valence for atom # 0 H, 3, is greater than permitted\n"
     ]
    },
    {
     "name": "stderr",
     "output_type": "stream",
     "text": [
      "Epoch 12 Training: 100%|██████████| 1/1 [00:00<00:00, 42.04it/s]\n",
      "[16:47:45] Explicit valence for atom # 0 H, 3, is greater than permitted\n"
     ]
    },
    {
     "name": "stdout",
     "output_type": "stream",
     "text": [
      "Chemically invalid molecule! Reason: Explicit valence for atom # 0 H, 3, is greater than permitted\n"
     ]
    },
    {
     "name": "stderr",
     "output_type": "stream",
     "text": [
      "Epoch 13 Training: 100%|██████████| 1/1 [00:00<00:00, 43.78it/s]\n",
      "[16:47:45] Explicit valence for atom # 0 H, 3, is greater than permitted\n"
     ]
    },
    {
     "name": "stdout",
     "output_type": "stream",
     "text": [
      "Chemically invalid molecule! Reason: Explicit valence for atom # 0 H, 3, is greater than permitted\n"
     ]
    },
    {
     "name": "stderr",
     "output_type": "stream",
     "text": [
      "Epoch 14 Training: 100%|██████████| 1/1 [00:00<00:00, 43.96it/s]\n"
     ]
    },
    {
     "name": "stdout",
     "output_type": "stream",
     "text": [
      "Chemically invalid molecule! Reason: Explicit valence for atom # 0 H, 3, is greater than permitted\n"
     ]
    },
    {
     "name": "stderr",
     "output_type": "stream",
     "text": [
      "[16:47:45] Explicit valence for atom # 0 H, 3, is greater than permitted\n",
      "Epoch 15 Training: 100%|██████████| 1/1 [00:00<00:00, 42.87it/s]\n",
      "[16:47:45] Explicit valence for atom # 0 H, 4, is greater than permitted\n"
     ]
    },
    {
     "name": "stdout",
     "output_type": "stream",
     "text": [
      "Chemically invalid molecule! Reason: Explicit valence for atom # 0 H, 4, is greater than permitted\n"
     ]
    },
    {
     "name": "stderr",
     "output_type": "stream",
     "text": [
      "Epoch 16 Training: 100%|██████████| 1/1 [00:00<00:00, 41.97it/s]\n"
     ]
    },
    {
     "name": "stdout",
     "output_type": "stream",
     "text": [
      "Chemically invalid molecule! Reason: Explicit valence for atom # 0 H, 4, is greater than permitted\n"
     ]
    },
    {
     "name": "stderr",
     "output_type": "stream",
     "text": [
      "[16:47:45] Explicit valence for atom # 0 H, 4, is greater than permitted\n",
      "Epoch 17 Training: 100%|██████████| 1/1 [00:00<00:00, 42.59it/s]\n",
      "[16:47:45] Explicit valence for atom # 0 H, 4, is greater than permitted\n"
     ]
    },
    {
     "name": "stdout",
     "output_type": "stream",
     "text": [
      "Chemically invalid molecule! Reason: Explicit valence for atom # 0 H, 4, is greater than permitted\n"
     ]
    },
    {
     "name": "stderr",
     "output_type": "stream",
     "text": [
      "Epoch 18 Training: 100%|██████████| 1/1 [00:00<00:00, 40.53it/s]\n",
      "[16:47:45] Explicit valence for atom # 0 H, 4, is greater than permitted\n"
     ]
    },
    {
     "name": "stdout",
     "output_type": "stream",
     "text": [
      "Chemically invalid molecule! Reason: Explicit valence for atom # 0 H, 4, is greater than permitted\n"
     ]
    },
    {
     "name": "stderr",
     "output_type": "stream",
     "text": [
      "Epoch 19 Training: 100%|██████████| 1/1 [00:00<00:00, 41.96it/s]\n",
      "[16:47:45] Explicit valence for atom # 0 H, 4, is greater than permitted\n"
     ]
    },
    {
     "name": "stdout",
     "output_type": "stream",
     "text": [
      "Chemically invalid molecule! Reason: Explicit valence for atom # 0 H, 4, is greater than permitted\n"
     ]
    },
    {
     "name": "stderr",
     "output_type": "stream",
     "text": [
      "Epoch 20 Training: 100%|██████████| 1/1 [00:00<00:00, 42.64it/s]\n",
      "[16:47:45] Explicit valence for atom # 0 H, 4, is greater than permitted\n"
     ]
    },
    {
     "name": "stdout",
     "output_type": "stream",
     "text": [
      "Chemically invalid molecule! Reason: Explicit valence for atom # 0 H, 4, is greater than permitted\n"
     ]
    },
    {
     "name": "stderr",
     "output_type": "stream",
     "text": [
      "Epoch 21 Training: 100%|██████████| 1/1 [00:00<00:00, 25.40it/s]\n",
      "[16:47:45] Explicit valence for atom # 0 H, 4, is greater than permitted\n"
     ]
    },
    {
     "name": "stdout",
     "output_type": "stream",
     "text": [
      "Chemically invalid molecule! Reason: Explicit valence for atom # 0 H, 4, is greater than permitted\n"
     ]
    },
    {
     "name": "stderr",
     "output_type": "stream",
     "text": [
      "Epoch 22 Training: 100%|██████████| 1/1 [00:00<00:00, 30.21it/s]\n",
      "[16:47:45] Explicit valence for atom # 0 H, 4, is greater than permitted\n"
     ]
    },
    {
     "name": "stdout",
     "output_type": "stream",
     "text": [
      "Chemically invalid molecule! Reason: Explicit valence for atom # 0 H, 4, is greater than permitted\n"
     ]
    },
    {
     "name": "stderr",
     "output_type": "stream",
     "text": [
      "Epoch 23 Training: 100%|██████████| 1/1 [00:00<00:00, 40.54it/s]\n",
      "[16:47:46] Explicit valence for atom # 0 H, 4, is greater than permitted\n"
     ]
    },
    {
     "name": "stdout",
     "output_type": "stream",
     "text": [
      "Chemically invalid molecule! Reason: Explicit valence for atom # 0 H, 4, is greater than permitted\n"
     ]
    },
    {
     "name": "stderr",
     "output_type": "stream",
     "text": [
      "Epoch 24 Training: 100%|██████████| 1/1 [00:00<00:00, 42.72it/s]\n",
      "[16:47:46] Explicit valence for atom # 0 H, 4, is greater than permitted\n"
     ]
    },
    {
     "name": "stdout",
     "output_type": "stream",
     "text": [
      "Chemically invalid molecule! Reason: Explicit valence for atom # 0 H, 4, is greater than permitted\n"
     ]
    },
    {
     "name": "stderr",
     "output_type": "stream",
     "text": [
      "Epoch 25 Training: 100%|██████████| 1/1 [00:00<00:00, 40.23it/s]\n",
      "[16:47:46] Explicit valence for atom # 0 H, 4, is greater than permitted\n"
     ]
    },
    {
     "name": "stdout",
     "output_type": "stream",
     "text": [
      "Chemically invalid molecule! Reason: Explicit valence for atom # 0 H, 4, is greater than permitted\n"
     ]
    },
    {
     "name": "stderr",
     "output_type": "stream",
     "text": [
      "Epoch 26 Training: 100%|██████████| 1/1 [00:00<00:00, 42.45it/s]\n",
      "[16:47:46] Explicit valence for atom # 0 H, 4, is greater than permitted\n"
     ]
    },
    {
     "name": "stdout",
     "output_type": "stream",
     "text": [
      "Chemically invalid molecule! Reason: Explicit valence for atom # 0 H, 4, is greater than permitted\n"
     ]
    },
    {
     "name": "stderr",
     "output_type": "stream",
     "text": [
      "Epoch 27 Training: 100%|██████████| 1/1 [00:00<00:00, 41.74it/s]\n",
      "[16:47:46] Explicit valence for atom # 0 H, 4, is greater than permitted\n"
     ]
    },
    {
     "name": "stdout",
     "output_type": "stream",
     "text": [
      "Chemically invalid molecule! Reason: Explicit valence for atom # 0 H, 4, is greater than permitted\n"
     ]
    },
    {
     "name": "stderr",
     "output_type": "stream",
     "text": [
      "Epoch 28 Training: 100%|██████████| 1/1 [00:00<00:00, 38.25it/s]\n",
      "[16:47:46] Explicit valence for atom # 0 H, 4, is greater than permitted\n"
     ]
    },
    {
     "name": "stdout",
     "output_type": "stream",
     "text": [
      "Chemically invalid molecule! Reason: Explicit valence for atom # 0 H, 4, is greater than permitted\n"
     ]
    },
    {
     "name": "stderr",
     "output_type": "stream",
     "text": [
      "Epoch 29 Training: 100%|██████████| 1/1 [00:00<00:00, 42.32it/s]\n",
      "[16:47:46] Explicit valence for atom # 0 H, 4, is greater than permitted\n"
     ]
    },
    {
     "name": "stdout",
     "output_type": "stream",
     "text": [
      "Chemically invalid molecule! Reason: Explicit valence for atom # 0 H, 4, is greater than permitted\n"
     ]
    },
    {
     "name": "stderr",
     "output_type": "stream",
     "text": [
      "Epoch 30 Training: 100%|██████████| 1/1 [00:00<00:00, 42.20it/s]\n",
      "[16:47:46] Explicit valence for atom # 0 H, 4, is greater than permitted\n"
     ]
    },
    {
     "name": "stdout",
     "output_type": "stream",
     "text": [
      "Chemically invalid molecule! Reason: Explicit valence for atom # 0 H, 4, is greater than permitted\n"
     ]
    },
    {
     "name": "stderr",
     "output_type": "stream",
     "text": [
      "Epoch 31 Training: 100%|██████████| 1/1 [00:00<00:00, 42.87it/s]\n"
     ]
    },
    {
     "name": "stdout",
     "output_type": "stream",
     "text": [
      "Chemically invalid molecule! Reason: Explicit valence for atom # 0 H, 4, is greater than permitted\n"
     ]
    },
    {
     "name": "stderr",
     "output_type": "stream",
     "text": [
      "[16:47:46] Explicit valence for atom # 0 H, 4, is greater than permitted\n",
      "Epoch 32 Training: 100%|██████████| 1/1 [00:00<00:00, 42.52it/s]\n",
      "[16:47:46] Explicit valence for atom # 0 H, 4, is greater than permitted\n"
     ]
    },
    {
     "name": "stdout",
     "output_type": "stream",
     "text": [
      "Chemically invalid molecule! Reason: Explicit valence for atom # 0 H, 4, is greater than permitted\n"
     ]
    },
    {
     "name": "stderr",
     "output_type": "stream",
     "text": [
      "Epoch 33 Training: 100%|██████████| 1/1 [00:00<00:00, 43.30it/s]\n",
      "[16:47:46] Explicit valence for atom # 0 H, 4, is greater than permitted\n"
     ]
    },
    {
     "name": "stdout",
     "output_type": "stream",
     "text": [
      "Chemically invalid molecule! Reason: Explicit valence for atom # 0 H, 4, is greater than permitted\n"
     ]
    },
    {
     "name": "stderr",
     "output_type": "stream",
     "text": [
      "Epoch 34 Training: 100%|██████████| 1/1 [00:00<00:00, 42.17it/s]\n",
      "[16:47:46] Explicit valence for atom # 0 H, 4, is greater than permitted\n"
     ]
    },
    {
     "name": "stdout",
     "output_type": "stream",
     "text": [
      "Chemically invalid molecule! Reason: Explicit valence for atom # 0 H, 4, is greater than permitted\n"
     ]
    },
    {
     "name": "stderr",
     "output_type": "stream",
     "text": [
      "Epoch 35 Training: 100%|██████████| 1/1 [00:00<00:00, 42.28it/s]\n",
      "[16:47:46] Explicit valence for atom # 0 H, 4, is greater than permitted\n"
     ]
    },
    {
     "name": "stdout",
     "output_type": "stream",
     "text": [
      "Chemically invalid molecule! Reason: Explicit valence for atom # 0 H, 4, is greater than permitted\n"
     ]
    },
    {
     "name": "stderr",
     "output_type": "stream",
     "text": [
      "Epoch 36 Training: 100%|██████████| 1/1 [00:00<00:00, 42.76it/s]\n",
      "[16:47:46] Explicit valence for atom # 0 H, 4, is greater than permitted\n"
     ]
    },
    {
     "name": "stdout",
     "output_type": "stream",
     "text": [
      "Chemically invalid molecule! Reason: Explicit valence for atom # 0 H, 4, is greater than permitted\n"
     ]
    },
    {
     "name": "stderr",
     "output_type": "stream",
     "text": [
      "Epoch 37 Training: 100%|██████████| 1/1 [00:00<00:00, 42.27it/s]\n",
      "[16:47:46] Explicit valence for atom # 0 H, 4, is greater than permitted\n"
     ]
    },
    {
     "name": "stdout",
     "output_type": "stream",
     "text": [
      "Chemically invalid molecule! Reason: Explicit valence for atom # 0 H, 4, is greater than permitted\n"
     ]
    },
    {
     "name": "stderr",
     "output_type": "stream",
     "text": [
      "Epoch 38 Training: 100%|██████████| 1/1 [00:00<00:00, 39.22it/s]\n",
      "[16:47:47] Explicit valence for atom # 0 H, 4, is greater than permitted\n"
     ]
    },
    {
     "name": "stdout",
     "output_type": "stream",
     "text": [
      "Chemically invalid molecule! Reason: Explicit valence for atom # 0 H, 4, is greater than permitted\n"
     ]
    },
    {
     "name": "stderr",
     "output_type": "stream",
     "text": [
      "Epoch 39 Training: 100%|██████████| 1/1 [00:00<00:00, 37.87it/s]\n",
      "[16:47:47] Explicit valence for atom # 0 H, 4, is greater than permitted\n"
     ]
    },
    {
     "name": "stdout",
     "output_type": "stream",
     "text": [
      "Chemically invalid molecule! Reason: Explicit valence for atom # 0 H, 4, is greater than permitted\n"
     ]
    },
    {
     "name": "stderr",
     "output_type": "stream",
     "text": [
      "Epoch 40 Training: 100%|██████████| 1/1 [00:00<00:00, 38.38it/s]\n",
      "[16:47:47] Explicit valence for atom # 0 H, 4, is greater than permitted\n"
     ]
    },
    {
     "name": "stdout",
     "output_type": "stream",
     "text": [
      "Chemically invalid molecule! Reason: Explicit valence for atom # 0 H, 4, is greater than permitted\n"
     ]
    },
    {
     "name": "stderr",
     "output_type": "stream",
     "text": [
      "Epoch 41 Training: 100%|██████████| 1/1 [00:00<00:00, 42.52it/s]\n",
      "[16:47:47] Explicit valence for atom # 0 H, 4, is greater than permitted\n"
     ]
    },
    {
     "name": "stdout",
     "output_type": "stream",
     "text": [
      "Chemically invalid molecule! Reason: Explicit valence for atom # 0 H, 4, is greater than permitted\n"
     ]
    },
    {
     "name": "stderr",
     "output_type": "stream",
     "text": [
      "Epoch 42 Training: 100%|██████████| 1/1 [00:00<00:00, 40.52it/s]\n",
      "[16:47:47] Explicit valence for atom # 0 H, 4, is greater than permitted\n"
     ]
    },
    {
     "name": "stdout",
     "output_type": "stream",
     "text": [
      "Chemically invalid molecule! Reason: Explicit valence for atom # 0 H, 4, is greater than permitted\n"
     ]
    },
    {
     "name": "stderr",
     "output_type": "stream",
     "text": [
      "Epoch 43 Training: 100%|██████████| 1/1 [00:00<00:00, 42.66it/s]\n",
      "[16:47:47] Explicit valence for atom # 0 H, 4, is greater than permitted\n"
     ]
    },
    {
     "name": "stdout",
     "output_type": "stream",
     "text": [
      "Chemically invalid molecule! Reason: Explicit valence for atom # 0 H, 4, is greater than permitted\n"
     ]
    },
    {
     "name": "stderr",
     "output_type": "stream",
     "text": [
      "Epoch 44 Training: 100%|██████████| 1/1 [00:00<00:00, 42.72it/s]\n",
      "[16:47:47] Explicit valence for atom # 0 H, 4, is greater than permitted\n"
     ]
    },
    {
     "name": "stdout",
     "output_type": "stream",
     "text": [
      "Chemically invalid molecule! Reason: Explicit valence for atom # 0 H, 4, is greater than permitted\n"
     ]
    },
    {
     "name": "stderr",
     "output_type": "stream",
     "text": [
      "Epoch 45 Training: 100%|██████████| 1/1 [00:00<00:00, 36.62it/s]\n",
      "[16:47:47] Explicit valence for atom # 0 H, 4, is greater than permitted\n"
     ]
    },
    {
     "name": "stdout",
     "output_type": "stream",
     "text": [
      "Chemically invalid molecule! Reason: Explicit valence for atom # 0 H, 4, is greater than permitted\n"
     ]
    },
    {
     "name": "stderr",
     "output_type": "stream",
     "text": [
      "Epoch 46 Training: 100%|██████████| 1/1 [00:00<00:00, 42.08it/s]\n",
      "[16:47:47] Explicit valence for atom # 0 H, 4, is greater than permitted\n"
     ]
    },
    {
     "name": "stdout",
     "output_type": "stream",
     "text": [
      "Chemically invalid molecule! Reason: Explicit valence for atom # 0 H, 4, is greater than permitted\n"
     ]
    },
    {
     "name": "stderr",
     "output_type": "stream",
     "text": [
      "Epoch 47 Training: 100%|██████████| 1/1 [00:00<00:00, 43.07it/s]\n",
      "[16:47:47] Explicit valence for atom # 0 H, 4, is greater than permitted\n"
     ]
    },
    {
     "name": "stdout",
     "output_type": "stream",
     "text": [
      "Chemically invalid molecule! Reason: Explicit valence for atom # 0 H, 4, is greater than permitted\n"
     ]
    },
    {
     "name": "stderr",
     "output_type": "stream",
     "text": [
      "Epoch 48 Training: 100%|██████████| 1/1 [00:00<00:00, 39.61it/s]\n",
      "[16:47:47] Explicit valence for atom # 0 H, 4, is greater than permitted\n"
     ]
    },
    {
     "name": "stdout",
     "output_type": "stream",
     "text": [
      "Chemically invalid molecule! Reason: Explicit valence for atom # 0 H, 4, is greater than permitted\n"
     ]
    },
    {
     "name": "stderr",
     "output_type": "stream",
     "text": [
      "Epoch 49 Training: 100%|██████████| 1/1 [00:00<00:00, 42.21it/s]\n",
      "[16:47:47] Explicit valence for atom # 0 H, 4, is greater than permitted\n"
     ]
    },
    {
     "name": "stdout",
     "output_type": "stream",
     "text": [
      "Chemically invalid molecule! Reason: Explicit valence for atom # 0 H, 4, is greater than permitted\n"
     ]
    },
    {
     "name": "stderr",
     "output_type": "stream",
     "text": [
      "Epoch 50 Training: 100%|██████████| 1/1 [00:00<00:00, 36.22it/s]\n",
      "[16:47:47] Explicit valence for atom # 0 H, 4, is greater than permitted\n"
     ]
    },
    {
     "name": "stdout",
     "output_type": "stream",
     "text": [
      "Chemically invalid molecule! Reason: Explicit valence for atom # 0 H, 4, is greater than permitted\n"
     ]
    },
    {
     "name": "stderr",
     "output_type": "stream",
     "text": [
      "Epoch 51 Training: 100%|██████████| 1/1 [00:00<00:00, 42.62it/s]\n",
      "[16:47:48] Explicit valence for atom # 0 H, 4, is greater than permitted\n"
     ]
    },
    {
     "name": "stdout",
     "output_type": "stream",
     "text": [
      "Chemically invalid molecule! Reason: Explicit valence for atom # 0 H, 4, is greater than permitted\n"
     ]
    },
    {
     "name": "stderr",
     "output_type": "stream",
     "text": [
      "Epoch 52 Training: 100%|██████████| 1/1 [00:00<00:00, 41.79it/s]\n",
      "[16:47:48] Explicit valence for atom # 0 H, 4, is greater than permitted\n"
     ]
    },
    {
     "name": "stdout",
     "output_type": "stream",
     "text": [
      "Chemically invalid molecule! Reason: Explicit valence for atom # 0 H, 4, is greater than permitted\n"
     ]
    },
    {
     "name": "stderr",
     "output_type": "stream",
     "text": [
      "Epoch 53 Training: 100%|██████████| 1/1 [00:00<00:00, 41.38it/s]\n",
      "[16:47:48] Explicit valence for atom # 0 H, 4, is greater than permitted\n"
     ]
    },
    {
     "name": "stdout",
     "output_type": "stream",
     "text": [
      "Chemically invalid molecule! Reason: Explicit valence for atom # 0 H, 4, is greater than permitted\n"
     ]
    },
    {
     "name": "stderr",
     "output_type": "stream",
     "text": [
      "Epoch 54 Training: 100%|██████████| 1/1 [00:00<00:00, 42.04it/s]\n",
      "[16:47:48] Explicit valence for atom # 0 H, 4, is greater than permitted\n"
     ]
    },
    {
     "name": "stdout",
     "output_type": "stream",
     "text": [
      "Chemically invalid molecule! Reason: Explicit valence for atom # 0 H, 4, is greater than permitted\n"
     ]
    },
    {
     "name": "stderr",
     "output_type": "stream",
     "text": [
      "Epoch 55 Training: 100%|██████████| 1/1 [00:00<00:00, 43.18it/s]\n",
      "[16:47:48] Explicit valence for atom # 0 H, 4, is greater than permitted\n"
     ]
    },
    {
     "name": "stdout",
     "output_type": "stream",
     "text": [
      "Chemically invalid molecule! Reason: Explicit valence for atom # 0 H, 4, is greater than permitted\n"
     ]
    },
    {
     "name": "stderr",
     "output_type": "stream",
     "text": [
      "Epoch 56 Training: 100%|██████████| 1/1 [00:00<00:00, 25.90it/s]\n",
      "[16:47:48] Explicit valence for atom # 0 H, 4, is greater than permitted\n"
     ]
    },
    {
     "name": "stdout",
     "output_type": "stream",
     "text": [
      "Chemically invalid molecule! Reason: Explicit valence for atom # 0 H, 4, is greater than permitted\n"
     ]
    },
    {
     "name": "stderr",
     "output_type": "stream",
     "text": [
      "Epoch 57 Training: 100%|██████████| 1/1 [00:00<00:00, 43.25it/s]\n",
      "[16:47:48] Explicit valence for atom # 0 H, 4, is greater than permitted\n"
     ]
    },
    {
     "name": "stdout",
     "output_type": "stream",
     "text": [
      "Chemically invalid molecule! Reason: Explicit valence for atom # 0 H, 4, is greater than permitted\n"
     ]
    },
    {
     "name": "stderr",
     "output_type": "stream",
     "text": [
      "Epoch 58 Training: 100%|██████████| 1/1 [00:00<00:00, 42.03it/s]\n",
      "[16:47:48] Explicit valence for atom # 0 H, 4, is greater than permitted\n"
     ]
    },
    {
     "name": "stdout",
     "output_type": "stream",
     "text": [
      "Chemically invalid molecule! Reason: Explicit valence for atom # 0 H, 4, is greater than permitted\n"
     ]
    },
    {
     "name": "stderr",
     "output_type": "stream",
     "text": [
      "Epoch 59 Training: 100%|██████████| 1/1 [00:00<00:00, 43.56it/s]\n",
      "[16:47:48] Explicit valence for atom # 0 H, 4, is greater than permitted\n"
     ]
    },
    {
     "name": "stdout",
     "output_type": "stream",
     "text": [
      "Chemically invalid molecule! Reason: Explicit valence for atom # 0 H, 4, is greater than permitted\n"
     ]
    },
    {
     "name": "stderr",
     "output_type": "stream",
     "text": [
      "Epoch 60 Training: 100%|██████████| 1/1 [00:00<00:00, 44.03it/s]\n",
      "[16:47:48] Explicit valence for atom # 0 H, 4, is greater than permitted\n"
     ]
    },
    {
     "name": "stdout",
     "output_type": "stream",
     "text": [
      "Chemically invalid molecule! Reason: Explicit valence for atom # 0 H, 4, is greater than permitted\n"
     ]
    },
    {
     "name": "stderr",
     "output_type": "stream",
     "text": [
      "Epoch 61 Training: 100%|██████████| 1/1 [00:00<00:00, 38.88it/s]\n",
      "[16:47:48] Explicit valence for atom # 0 H, 4, is greater than permitted\n"
     ]
    },
    {
     "name": "stdout",
     "output_type": "stream",
     "text": [
      "Chemically invalid molecule! Reason: Explicit valence for atom # 0 H, 4, is greater than permitted\n"
     ]
    },
    {
     "name": "stderr",
     "output_type": "stream",
     "text": [
      "Epoch 62 Training: 100%|██████████| 1/1 [00:00<00:00, 42.66it/s]\n",
      "[16:47:48] Explicit valence for atom # 0 H, 4, is greater than permitted\n"
     ]
    },
    {
     "name": "stdout",
     "output_type": "stream",
     "text": [
      "Chemically invalid molecule! Reason: Explicit valence for atom # 0 H, 4, is greater than permitted\n"
     ]
    },
    {
     "name": "stderr",
     "output_type": "stream",
     "text": [
      "Epoch 63 Training: 100%|██████████| 1/1 [00:00<00:00, 42.79it/s]\n",
      "[16:47:48] Explicit valence for atom # 0 H, 4, is greater than permitted\n"
     ]
    },
    {
     "name": "stdout",
     "output_type": "stream",
     "text": [
      "Chemically invalid molecule! Reason: Explicit valence for atom # 0 H, 4, is greater than permitted\n"
     ]
    },
    {
     "name": "stderr",
     "output_type": "stream",
     "text": [
      "Epoch 64 Training: 100%|██████████| 1/1 [00:00<00:00, 41.69it/s]\n",
      "[16:47:48] Explicit valence for atom # 0 H, 4, is greater than permitted\n"
     ]
    },
    {
     "name": "stdout",
     "output_type": "stream",
     "text": [
      "Chemically invalid molecule! Reason: Explicit valence for atom # 0 H, 4, is greater than permitted\n"
     ]
    },
    {
     "name": "stderr",
     "output_type": "stream",
     "text": [
      "Epoch 65 Training: 100%|██████████| 1/1 [00:00<00:00, 42.76it/s]\n",
      "[16:47:49] Explicit valence for atom # 0 H, 4, is greater than permitted\n"
     ]
    },
    {
     "name": "stdout",
     "output_type": "stream",
     "text": [
      "Chemically invalid molecule! Reason: Explicit valence for atom # 0 H, 4, is greater than permitted\n"
     ]
    },
    {
     "name": "stderr",
     "output_type": "stream",
     "text": [
      "Epoch 66 Training: 100%|██████████| 1/1 [00:00<00:00, 42.62it/s]\n",
      "[16:47:49] Explicit valence for atom # 0 H, 4, is greater than permitted\n"
     ]
    },
    {
     "name": "stdout",
     "output_type": "stream",
     "text": [
      "Chemically invalid molecule! Reason: Explicit valence for atom # 0 H, 4, is greater than permitted\n"
     ]
    },
    {
     "name": "stderr",
     "output_type": "stream",
     "text": [
      "Epoch 67 Training: 100%|██████████| 1/1 [00:00<00:00, 43.20it/s]\n",
      "[16:47:49] Explicit valence for atom # 0 H, 4, is greater than permitted\n"
     ]
    },
    {
     "name": "stdout",
     "output_type": "stream",
     "text": [
      "Chemically invalid molecule! Reason: Explicit valence for atom # 0 H, 4, is greater than permitted\n"
     ]
    },
    {
     "name": "stderr",
     "output_type": "stream",
     "text": [
      "Epoch 68 Training: 100%|██████████| 1/1 [00:00<00:00, 43.00it/s]\n",
      "[16:47:49] Explicit valence for atom # 0 H, 4, is greater than permitted\n"
     ]
    },
    {
     "name": "stdout",
     "output_type": "stream",
     "text": [
      "Chemically invalid molecule! Reason: Explicit valence for atom # 0 H, 4, is greater than permitted\n"
     ]
    },
    {
     "name": "stderr",
     "output_type": "stream",
     "text": [
      "Epoch 69 Training: 100%|██████████| 1/1 [00:00<00:00, 43.34it/s]\n",
      "[16:47:49] Explicit valence for atom # 0 H, 4, is greater than permitted\n"
     ]
    },
    {
     "name": "stdout",
     "output_type": "stream",
     "text": [
      "Chemically invalid molecule! Reason: Explicit valence for atom # 0 H, 4, is greater than permitted\n"
     ]
    },
    {
     "name": "stderr",
     "output_type": "stream",
     "text": [
      "Epoch 70 Training: 100%|██████████| 1/1 [00:00<00:00, 43.12it/s]\n",
      "[16:47:49] Explicit valence for atom # 0 H, 4, is greater than permitted\n"
     ]
    },
    {
     "name": "stdout",
     "output_type": "stream",
     "text": [
      "Chemically invalid molecule! Reason: Explicit valence for atom # 0 H, 4, is greater than permitted\n"
     ]
    },
    {
     "name": "stderr",
     "output_type": "stream",
     "text": [
      "Epoch 71 Training: 100%|██████████| 1/1 [00:00<00:00, 41.66it/s]\n",
      "[16:47:49] Explicit valence for atom # 0 H, 4, is greater than permitted\n"
     ]
    },
    {
     "name": "stdout",
     "output_type": "stream",
     "text": [
      "Chemically invalid molecule! Reason: Explicit valence for atom # 0 H, 4, is greater than permitted\n"
     ]
    },
    {
     "name": "stderr",
     "output_type": "stream",
     "text": [
      "Epoch 72 Training: 100%|██████████| 1/1 [00:00<00:00, 41.76it/s]\n",
      "[16:47:49] Explicit valence for atom # 0 H, 4, is greater than permitted\n"
     ]
    },
    {
     "name": "stdout",
     "output_type": "stream",
     "text": [
      "Chemically invalid molecule! Reason: Explicit valence for atom # 0 H, 4, is greater than permitted\n"
     ]
    },
    {
     "name": "stderr",
     "output_type": "stream",
     "text": [
      "Epoch 73 Training: 100%|██████████| 1/1 [00:00<00:00, 42.41it/s]\n"
     ]
    },
    {
     "name": "stdout",
     "output_type": "stream",
     "text": [
      "Chemically invalid molecule! Reason: Explicit valence for atom # 0 H, 4, is greater than permitted\n"
     ]
    },
    {
     "name": "stderr",
     "output_type": "stream",
     "text": [
      "[16:47:49] Explicit valence for atom # 0 H, 4, is greater than permitted\n",
      "Epoch 74 Training: 100%|██████████| 1/1 [00:00<00:00, 42.25it/s]\n",
      "[16:47:49] Explicit valence for atom # 0 H, 4, is greater than permitted\n"
     ]
    },
    {
     "name": "stdout",
     "output_type": "stream",
     "text": [
      "Chemically invalid molecule! Reason: Explicit valence for atom # 0 H, 4, is greater than permitted\n"
     ]
    },
    {
     "name": "stderr",
     "output_type": "stream",
     "text": [
      "Epoch 75 Training: 100%|██████████| 1/1 [00:00<00:00, 41.56it/s]\n",
      "[16:47:49] Explicit valence for atom # 0 H, 4, is greater than permitted\n"
     ]
    },
    {
     "name": "stdout",
     "output_type": "stream",
     "text": [
      "Chemically invalid molecule! Reason: Explicit valence for atom # 0 H, 4, is greater than permitted\n"
     ]
    },
    {
     "name": "stderr",
     "output_type": "stream",
     "text": [
      "Epoch 76 Training: 100%|██████████| 1/1 [00:00<00:00, 41.75it/s]\n",
      "[16:47:49] Explicit valence for atom # 0 H, 4, is greater than permitted\n"
     ]
    },
    {
     "name": "stdout",
     "output_type": "stream",
     "text": [
      "Chemically invalid molecule! Reason: Explicit valence for atom # 0 H, 4, is greater than permitted\n"
     ]
    },
    {
     "name": "stderr",
     "output_type": "stream",
     "text": [
      "Epoch 77 Training: 100%|██████████| 1/1 [00:00<00:00, 41.26it/s]\n",
      "[16:47:49] Explicit valence for atom # 0 H, 4, is greater than permitted\n"
     ]
    },
    {
     "name": "stdout",
     "output_type": "stream",
     "text": [
      "Chemically invalid molecule! Reason: Explicit valence for atom # 0 H, 4, is greater than permitted\n"
     ]
    },
    {
     "name": "stderr",
     "output_type": "stream",
     "text": [
      "Epoch 78 Training: 100%|██████████| 1/1 [00:00<00:00, 42.76it/s]\n",
      "[16:47:49] Explicit valence for atom # 0 H, 4, is greater than permitted\n"
     ]
    },
    {
     "name": "stdout",
     "output_type": "stream",
     "text": [
      "Chemically invalid molecule! Reason: Explicit valence for atom # 0 H, 4, is greater than permitted\n"
     ]
    },
    {
     "name": "stderr",
     "output_type": "stream",
     "text": [
      "Epoch 79 Training: 100%|██████████| 1/1 [00:00<00:00, 42.47it/s]\n",
      "[16:47:49] Explicit valence for atom # 0 H, 4, is greater than permitted\n"
     ]
    },
    {
     "name": "stdout",
     "output_type": "stream",
     "text": [
      "Chemically invalid molecule! Reason: Explicit valence for atom # 0 H, 4, is greater than permitted\n"
     ]
    },
    {
     "name": "stderr",
     "output_type": "stream",
     "text": [
      "Epoch 80 Training: 100%|██████████| 1/1 [00:00<00:00, 40.75it/s]\n",
      "[16:47:50] Explicit valence for atom # 0 H, 4, is greater than permitted\n"
     ]
    },
    {
     "name": "stdout",
     "output_type": "stream",
     "text": [
      "Chemically invalid molecule! Reason: Explicit valence for atom # 0 H, 4, is greater than permitted\n"
     ]
    },
    {
     "name": "stderr",
     "output_type": "stream",
     "text": [
      "Epoch 81 Training: 100%|██████████| 1/1 [00:00<00:00, 42.74it/s]\n",
      "[16:47:50] Explicit valence for atom # 0 H, 4, is greater than permitted\n"
     ]
    },
    {
     "name": "stdout",
     "output_type": "stream",
     "text": [
      "Chemically invalid molecule! Reason: Explicit valence for atom # 0 H, 4, is greater than permitted\n"
     ]
    },
    {
     "name": "stderr",
     "output_type": "stream",
     "text": [
      "Epoch 82 Training: 100%|██████████| 1/1 [00:00<00:00, 43.27it/s]\n",
      "[16:47:50] Explicit valence for atom # 0 H, 4, is greater than permitted\n"
     ]
    },
    {
     "name": "stdout",
     "output_type": "stream",
     "text": [
      "Chemically invalid molecule! Reason: Explicit valence for atom # 0 H, 4, is greater than permitted\n"
     ]
    },
    {
     "name": "stderr",
     "output_type": "stream",
     "text": [
      "Epoch 83 Training: 100%|██████████| 1/1 [00:00<00:00, 37.82it/s]\n"
     ]
    },
    {
     "name": "stdout",
     "output_type": "stream",
     "text": [
      "Chemically invalid molecule! Reason: Explicit valence for atom # 0 H, 4, is greater than permitted\n"
     ]
    },
    {
     "name": "stderr",
     "output_type": "stream",
     "text": [
      "[16:47:50] Explicit valence for atom # 0 H, 4, is greater than permitted\n",
      "Epoch 84 Training: 100%|██████████| 1/1 [00:00<00:00, 40.58it/s]\n",
      "[16:47:50] Explicit valence for atom # 0 H, 4, is greater than permitted\n"
     ]
    },
    {
     "name": "stdout",
     "output_type": "stream",
     "text": [
      "Chemically invalid molecule! Reason: Explicit valence for atom # 0 H, 4, is greater than permitted\n"
     ]
    },
    {
     "name": "stderr",
     "output_type": "stream",
     "text": [
      "Epoch 85 Training: 100%|██████████| 1/1 [00:00<00:00, 38.70it/s]\n",
      "[16:47:50] Explicit valence for atom # 0 H, 4, is greater than permitted\n"
     ]
    },
    {
     "name": "stdout",
     "output_type": "stream",
     "text": [
      "Chemically invalid molecule! Reason: Explicit valence for atom # 0 H, 4, is greater than permitted\n"
     ]
    },
    {
     "name": "stderr",
     "output_type": "stream",
     "text": [
      "Epoch 86 Training: 100%|██████████| 1/1 [00:00<00:00, 43.59it/s]\n",
      "[16:47:50] Explicit valence for atom # 0 H, 4, is greater than permitted\n"
     ]
    },
    {
     "name": "stdout",
     "output_type": "stream",
     "text": [
      "Chemically invalid molecule! Reason: Explicit valence for atom # 0 H, 4, is greater than permitted\n"
     ]
    },
    {
     "name": "stderr",
     "output_type": "stream",
     "text": [
      "Epoch 87 Training: 100%|██████████| 1/1 [00:00<00:00, 43.73it/s]\n",
      "[16:47:50] Explicit valence for atom # 0 H, 4, is greater than permitted\n"
     ]
    },
    {
     "name": "stdout",
     "output_type": "stream",
     "text": [
      "Chemically invalid molecule! Reason: Explicit valence for atom # 0 H, 4, is greater than permitted\n"
     ]
    },
    {
     "name": "stderr",
     "output_type": "stream",
     "text": [
      "Epoch 88 Training: 100%|██████████| 1/1 [00:00<00:00, 43.60it/s]\n",
      "[16:47:50] Explicit valence for atom # 0 H, 4, is greater than permitted\n"
     ]
    },
    {
     "name": "stdout",
     "output_type": "stream",
     "text": [
      "Chemically invalid molecule! Reason: Explicit valence for atom # 0 H, 4, is greater than permitted\n"
     ]
    },
    {
     "name": "stderr",
     "output_type": "stream",
     "text": [
      "Epoch 89 Training: 100%|██████████| 1/1 [00:00<00:00, 41.95it/s]\n",
      "[16:47:50] Explicit valence for atom # 0 H, 4, is greater than permitted\n"
     ]
    },
    {
     "name": "stdout",
     "output_type": "stream",
     "text": [
      "Chemically invalid molecule! Reason: Explicit valence for atom # 0 H, 4, is greater than permitted\n"
     ]
    },
    {
     "name": "stderr",
     "output_type": "stream",
     "text": [
      "Epoch 90 Training: 100%|██████████| 1/1 [00:00<00:00, 39.81it/s]\n",
      "[16:47:50] Explicit valence for atom # 0 H, 4, is greater than permitted\n"
     ]
    },
    {
     "name": "stdout",
     "output_type": "stream",
     "text": [
      "Chemically invalid molecule! Reason: Explicit valence for atom # 0 H, 4, is greater than permitted\n"
     ]
    },
    {
     "name": "stderr",
     "output_type": "stream",
     "text": [
      "Epoch 91 Training: 100%|██████████| 1/1 [00:00<00:00, 40.83it/s]\n",
      "[16:47:50] Explicit valence for atom # 0 H, 4, is greater than permitted\n"
     ]
    },
    {
     "name": "stdout",
     "output_type": "stream",
     "text": [
      "Chemically invalid molecule! Reason: Explicit valence for atom # 0 H, 4, is greater than permitted\n"
     ]
    },
    {
     "name": "stderr",
     "output_type": "stream",
     "text": [
      "Epoch 92 Training: 100%|██████████| 1/1 [00:00<00:00, 39.24it/s]\n",
      "[16:47:50] Explicit valence for atom # 0 H, 4, is greater than permitted\n"
     ]
    },
    {
     "name": "stdout",
     "output_type": "stream",
     "text": [
      "Chemically invalid molecule! Reason: Explicit valence for atom # 0 H, 4, is greater than permitted\n"
     ]
    },
    {
     "name": "stderr",
     "output_type": "stream",
     "text": [
      "Epoch 93 Training: 100%|██████████| 1/1 [00:00<00:00, 32.54it/s]\n",
      "[16:47:50] Explicit valence for atom # 0 H, 4, is greater than permitted\n"
     ]
    },
    {
     "name": "stdout",
     "output_type": "stream",
     "text": [
      "Chemically invalid molecule! Reason: Explicit valence for atom # 0 H, 4, is greater than permitted\n"
     ]
    },
    {
     "name": "stderr",
     "output_type": "stream",
     "text": [
      "Epoch 94 Training: 100%|██████████| 1/1 [00:00<00:00, 42.20it/s]\n",
      "[16:47:51] Explicit valence for atom # 0 H, 4, is greater than permitted\n"
     ]
    },
    {
     "name": "stdout",
     "output_type": "stream",
     "text": [
      "Chemically invalid molecule! Reason: Explicit valence for atom # 0 H, 4, is greater than permitted\n"
     ]
    },
    {
     "name": "stderr",
     "output_type": "stream",
     "text": [
      "Epoch 95 Training: 100%|██████████| 1/1 [00:00<00:00, 42.73it/s]\n",
      "[16:47:51] Explicit valence for atom # 0 H, 4, is greater than permitted\n"
     ]
    },
    {
     "name": "stdout",
     "output_type": "stream",
     "text": [
      "Chemically invalid molecule! Reason: Explicit valence for atom # 0 H, 4, is greater than permitted\n"
     ]
    },
    {
     "name": "stderr",
     "output_type": "stream",
     "text": [
      "Epoch 96 Training: 100%|██████████| 1/1 [00:00<00:00, 38.74it/s]\n",
      "[16:47:51] Explicit valence for atom # 0 H, 4, is greater than permitted\n"
     ]
    },
    {
     "name": "stdout",
     "output_type": "stream",
     "text": [
      "Chemically invalid molecule! Reason: Explicit valence for atom # 0 H, 4, is greater than permitted\n"
     ]
    },
    {
     "name": "stderr",
     "output_type": "stream",
     "text": [
      "Epoch 97 Training: 100%|██████████| 1/1 [00:00<00:00, 37.07it/s]\n",
      "[16:47:51] Explicit valence for atom # 0 H, 4, is greater than permitted\n"
     ]
    },
    {
     "name": "stdout",
     "output_type": "stream",
     "text": [
      "Chemically invalid molecule! Reason: Explicit valence for atom # 0 H, 4, is greater than permitted\n"
     ]
    },
    {
     "name": "stderr",
     "output_type": "stream",
     "text": [
      "Epoch 98 Training: 100%|██████████| 1/1 [00:00<00:00, 36.12it/s]\n",
      "[16:47:51] Explicit valence for atom # 0 H, 4, is greater than permitted\n"
     ]
    },
    {
     "name": "stdout",
     "output_type": "stream",
     "text": [
      "Chemically invalid molecule! Reason: Explicit valence for atom # 0 H, 4, is greater than permitted\n"
     ]
    },
    {
     "name": "stderr",
     "output_type": "stream",
     "text": [
      "Epoch 99 Training: 100%|██████████| 1/1 [00:00<00:00, 37.86it/s]\n",
      "[16:47:51] Explicit valence for atom # 0 H, 4, is greater than permitted\n"
     ]
    },
    {
     "name": "stdout",
     "output_type": "stream",
     "text": [
      "Chemically invalid molecule! Reason: Explicit valence for atom # 0 H, 4, is greater than permitted\n"
     ]
    },
    {
     "name": "stderr",
     "output_type": "stream",
     "text": [
      "Epoch 100 Training: 100%|██████████| 1/1 [00:00<00:00, 40.60it/s]\n",
      "[16:47:51] Explicit valence for atom # 0 H, 4, is greater than permitted\n"
     ]
    },
    {
     "name": "stdout",
     "output_type": "stream",
     "text": [
      "Chemically invalid molecule! Reason: Explicit valence for atom # 0 H, 4, is greater than permitted\n"
     ]
    },
    {
     "name": "stderr",
     "output_type": "stream",
     "text": [
      "Epoch 101 Training: 100%|██████████| 1/1 [00:00<00:00,  2.95it/s]\n",
      "[16:47:51] Explicit valence for atom # 0 H, 4, is greater than permitted\n"
     ]
    },
    {
     "name": "stdout",
     "output_type": "stream",
     "text": [
      "Chemically invalid molecule! Reason: Explicit valence for atom # 0 H, 4, is greater than permitted\n"
     ]
    },
    {
     "name": "stderr",
     "output_type": "stream",
     "text": [
      "Epoch 102 Training: 100%|██████████| 1/1 [00:00<00:00, 39.96it/s]\n",
      "[16:47:51] Explicit valence for atom # 0 H, 4, is greater than permitted\n"
     ]
    },
    {
     "name": "stdout",
     "output_type": "stream",
     "text": [
      "Chemically invalid molecule! Reason: Explicit valence for atom # 0 H, 4, is greater than permitted\n"
     ]
    },
    {
     "name": "stderr",
     "output_type": "stream",
     "text": [
      "Epoch 103 Training: 100%|██████████| 1/1 [00:00<00:00, 40.78it/s]\n",
      "[16:47:52] Explicit valence for atom # 0 H, 4, is greater than permitted\n"
     ]
    },
    {
     "name": "stdout",
     "output_type": "stream",
     "text": [
      "Chemically invalid molecule! Reason: Explicit valence for atom # 0 H, 4, is greater than permitted\n"
     ]
    },
    {
     "name": "stderr",
     "output_type": "stream",
     "text": [
      "Epoch 104 Training: 100%|██████████| 1/1 [00:00<00:00, 42.33it/s]"
     ]
    },
    {
     "name": "stdout",
     "output_type": "stream",
     "text": [
      "Chemically invalid molecule! Reason: Explicit valence for atom # 0 H, 4, is greater than permitted\n"
     ]
    },
    {
     "name": "stderr",
     "output_type": "stream",
     "text": [
      "\n",
      "[16:47:52] Explicit valence for atom # 0 H, 4, is greater than permitted\n",
      "Epoch 105 Training: 100%|██████████| 1/1 [00:00<00:00, 43.26it/s]\n"
     ]
    },
    {
     "name": "stdout",
     "output_type": "stream",
     "text": [
      "Chemically invalid molecule! Reason: Explicit valence for atom # 0 H, 4, is greater than permitted\n"
     ]
    },
    {
     "name": "stderr",
     "output_type": "stream",
     "text": [
      "[16:47:52] Explicit valence for atom # 0 H, 4, is greater than permitted\n",
      "Epoch 106 Training: 100%|██████████| 1/1 [00:00<00:00, 26.20it/s]\n",
      "[16:47:52] Explicit valence for atom # 0 H, 4, is greater than permitted\n"
     ]
    },
    {
     "name": "stdout",
     "output_type": "stream",
     "text": [
      "Chemically invalid molecule! Reason: Explicit valence for atom # 0 H, 4, is greater than permitted\n"
     ]
    },
    {
     "name": "stderr",
     "output_type": "stream",
     "text": [
      "Epoch 107 Training: 100%|██████████| 1/1 [00:00<00:00, 41.50it/s]\n",
      "[16:47:52] Explicit valence for atom # 0 H, 4, is greater than permitted\n"
     ]
    },
    {
     "name": "stdout",
     "output_type": "stream",
     "text": [
      "Chemically invalid molecule! Reason: Explicit valence for atom # 0 H, 4, is greater than permitted\n"
     ]
    },
    {
     "name": "stderr",
     "output_type": "stream",
     "text": [
      "Epoch 108 Training: 100%|██████████| 1/1 [00:00<00:00, 37.70it/s]\n",
      "[16:47:52] Explicit valence for atom # 0 H, 4, is greater than permitted\n"
     ]
    },
    {
     "name": "stdout",
     "output_type": "stream",
     "text": [
      "Chemically invalid molecule! Reason: Explicit valence for atom # 0 H, 4, is greater than permitted\n"
     ]
    },
    {
     "name": "stderr",
     "output_type": "stream",
     "text": [
      "Epoch 109 Training: 100%|██████████| 1/1 [00:00<00:00, 39.69it/s]\n",
      "[16:47:52] Explicit valence for atom # 0 H, 4, is greater than permitted\n"
     ]
    },
    {
     "name": "stdout",
     "output_type": "stream",
     "text": [
      "Chemically invalid molecule! Reason: Explicit valence for atom # 0 H, 4, is greater than permitted\n"
     ]
    },
    {
     "name": "stderr",
     "output_type": "stream",
     "text": [
      "Epoch 110 Training: 100%|██████████| 1/1 [00:00<00:00, 42.86it/s]\n",
      "[16:47:52] Explicit valence for atom # 0 H, 4, is greater than permitted\n"
     ]
    },
    {
     "name": "stdout",
     "output_type": "stream",
     "text": [
      "Chemically invalid molecule! Reason: Explicit valence for atom # 0 H, 4, is greater than permitted\n"
     ]
    },
    {
     "name": "stderr",
     "output_type": "stream",
     "text": [
      "Epoch 111 Training: 100%|██████████| 1/1 [00:00<00:00, 43.76it/s]\n",
      "[16:47:52] Explicit valence for atom # 0 H, 4, is greater than permitted\n"
     ]
    },
    {
     "name": "stdout",
     "output_type": "stream",
     "text": [
      "Chemically invalid molecule! Reason: Explicit valence for atom # 0 H, 4, is greater than permitted\n"
     ]
    },
    {
     "name": "stderr",
     "output_type": "stream",
     "text": [
      "Epoch 112 Training: 100%|██████████| 1/1 [00:00<00:00, 43.67it/s]\n",
      "[16:47:52] Explicit valence for atom # 0 H, 4, is greater than permitted\n"
     ]
    },
    {
     "name": "stdout",
     "output_type": "stream",
     "text": [
      "Chemically invalid molecule! Reason: Explicit valence for atom # 0 H, 4, is greater than permitted\n"
     ]
    },
    {
     "name": "stderr",
     "output_type": "stream",
     "text": [
      "Epoch 113 Training: 100%|██████████| 1/1 [00:00<00:00, 43.68it/s]\n",
      "[16:47:52] Explicit valence for atom # 0 H, 4, is greater than permitted\n"
     ]
    },
    {
     "name": "stdout",
     "output_type": "stream",
     "text": [
      "Chemically invalid molecule! Reason: Explicit valence for atom # 0 H, 4, is greater than permitted\n"
     ]
    },
    {
     "name": "stderr",
     "output_type": "stream",
     "text": [
      "Epoch 114 Training: 100%|██████████| 1/1 [00:00<00:00, 43.44it/s]\n"
     ]
    },
    {
     "name": "stdout",
     "output_type": "stream",
     "text": [
      "Chemically invalid molecule! Reason: Explicit valence for atom # 0 H, 4, is greater than permitted\n"
     ]
    },
    {
     "name": "stderr",
     "output_type": "stream",
     "text": [
      "[16:47:52] Explicit valence for atom # 0 H, 4, is greater than permitted\n",
      "Epoch 115 Training: 100%|██████████| 1/1 [00:00<00:00, 43.85it/s]\n",
      "[16:47:52] Explicit valence for atom # 0 H, 4, is greater than permitted\n"
     ]
    },
    {
     "name": "stdout",
     "output_type": "stream",
     "text": [
      "Chemically invalid molecule! Reason: Explicit valence for atom # 0 H, 4, is greater than permitted\n"
     ]
    },
    {
     "name": "stderr",
     "output_type": "stream",
     "text": [
      "Epoch 116 Training: 100%|██████████| 1/1 [00:00<00:00, 42.95it/s]\n",
      "[16:47:52] Explicit valence for atom # 0 H, 4, is greater than permitted\n"
     ]
    },
    {
     "name": "stdout",
     "output_type": "stream",
     "text": [
      "Chemically invalid molecule! Reason: Explicit valence for atom # 0 H, 4, is greater than permitted\n"
     ]
    },
    {
     "name": "stderr",
     "output_type": "stream",
     "text": [
      "Epoch 117 Training: 100%|██████████| 1/1 [00:00<00:00, 42.70it/s]\n",
      "[16:47:52] Explicit valence for atom # 0 H, 4, is greater than permitted\n"
     ]
    },
    {
     "name": "stdout",
     "output_type": "stream",
     "text": [
      "Chemically invalid molecule! Reason: Explicit valence for atom # 0 H, 4, is greater than permitted\n"
     ]
    },
    {
     "name": "stderr",
     "output_type": "stream",
     "text": [
      "Epoch 118 Training: 100%|██████████| 1/1 [00:00<00:00, 43.19it/s]\n",
      "[16:47:53] Explicit valence for atom # 0 H, 4, is greater than permitted\n"
     ]
    },
    {
     "name": "stdout",
     "output_type": "stream",
     "text": [
      "Chemically invalid molecule! Reason: Explicit valence for atom # 0 H, 4, is greater than permitted\n"
     ]
    },
    {
     "name": "stderr",
     "output_type": "stream",
     "text": [
      "Epoch 119 Training: 100%|██████████| 1/1 [00:00<00:00, 43.24it/s]\n",
      "[16:47:53] Explicit valence for atom # 0 H, 4, is greater than permitted\n"
     ]
    },
    {
     "name": "stdout",
     "output_type": "stream",
     "text": [
      "Chemically invalid molecule! Reason: Explicit valence for atom # 0 H, 4, is greater than permitted\n"
     ]
    },
    {
     "name": "stderr",
     "output_type": "stream",
     "text": [
      "Epoch 120 Training: 100%|██████████| 1/1 [00:00<00:00, 42.74it/s]\n",
      "[16:47:53] Explicit valence for atom # 0 H, 4, is greater than permitted\n"
     ]
    },
    {
     "name": "stdout",
     "output_type": "stream",
     "text": [
      "Chemically invalid molecule! Reason: Explicit valence for atom # 0 H, 4, is greater than permitted\n"
     ]
    },
    {
     "name": "stderr",
     "output_type": "stream",
     "text": [
      "Epoch 121 Training: 100%|██████████| 1/1 [00:00<00:00, 43.00it/s]\n",
      "[16:47:53] Explicit valence for atom # 0 H, 4, is greater than permitted\n"
     ]
    },
    {
     "name": "stdout",
     "output_type": "stream",
     "text": [
      "Chemically invalid molecule! Reason: Explicit valence for atom # 0 H, 4, is greater than permitted\n"
     ]
    },
    {
     "name": "stderr",
     "output_type": "stream",
     "text": [
      "Epoch 122 Training: 100%|██████████| 1/1 [00:00<00:00, 42.95it/s]\n",
      "[16:47:53] Explicit valence for atom # 0 H, 4, is greater than permitted\n"
     ]
    },
    {
     "name": "stdout",
     "output_type": "stream",
     "text": [
      "Chemically invalid molecule! Reason: Explicit valence for atom # 0 H, 4, is greater than permitted\n"
     ]
    },
    {
     "name": "stderr",
     "output_type": "stream",
     "text": [
      "Epoch 123 Training: 100%|██████████| 1/1 [00:00<00:00, 41.88it/s]\n",
      "[16:47:53] Explicit valence for atom # 0 H, 4, is greater than permitted\n"
     ]
    },
    {
     "name": "stdout",
     "output_type": "stream",
     "text": [
      "Chemically invalid molecule! Reason: Explicit valence for atom # 0 H, 4, is greater than permitted\n"
     ]
    },
    {
     "name": "stderr",
     "output_type": "stream",
     "text": [
      "Epoch 124 Training: 100%|██████████| 1/1 [00:00<00:00, 42.05it/s]\n",
      "[16:47:53] Explicit valence for atom # 0 H, 4, is greater than permitted\n"
     ]
    },
    {
     "name": "stdout",
     "output_type": "stream",
     "text": [
      "Chemically invalid molecule! Reason: Explicit valence for atom # 0 H, 4, is greater than permitted\n"
     ]
    },
    {
     "name": "stderr",
     "output_type": "stream",
     "text": [
      "Epoch 125 Training: 100%|██████████| 1/1 [00:00<00:00, 43.24it/s]\n",
      "[16:47:53] Explicit valence for atom # 0 H, 4, is greater than permitted\n"
     ]
    },
    {
     "name": "stdout",
     "output_type": "stream",
     "text": [
      "Chemically invalid molecule! Reason: Explicit valence for atom # 0 H, 4, is greater than permitted\n"
     ]
    },
    {
     "name": "stderr",
     "output_type": "stream",
     "text": [
      "Epoch 126 Training: 100%|██████████| 1/1 [00:00<00:00, 41.29it/s]\n",
      "[16:47:53] Explicit valence for atom # 0 H, 4, is greater than permitted\n"
     ]
    },
    {
     "name": "stdout",
     "output_type": "stream",
     "text": [
      "Chemically invalid molecule! Reason: Explicit valence for atom # 0 H, 4, is greater than permitted\n"
     ]
    },
    {
     "name": "stderr",
     "output_type": "stream",
     "text": [
      "Epoch 127 Training: 100%|██████████| 1/1 [00:00<00:00, 42.06it/s]\n",
      "[16:47:53] Explicit valence for atom # 0 H, 4, is greater than permitted\n"
     ]
    },
    {
     "name": "stdout",
     "output_type": "stream",
     "text": [
      "Chemically invalid molecule! Reason: Explicit valence for atom # 0 H, 4, is greater than permitted\n"
     ]
    },
    {
     "name": "stderr",
     "output_type": "stream",
     "text": [
      "Epoch 128 Training: 100%|██████████| 1/1 [00:00<00:00, 41.36it/s]\n",
      "[16:47:53] Explicit valence for atom # 0 H, 4, is greater than permitted\n"
     ]
    },
    {
     "name": "stdout",
     "output_type": "stream",
     "text": [
      "Chemically invalid molecule! Reason: Explicit valence for atom # 0 H, 4, is greater than permitted\n"
     ]
    },
    {
     "name": "stderr",
     "output_type": "stream",
     "text": [
      "Epoch 129 Training: 100%|██████████| 1/1 [00:00<00:00, 41.27it/s]\n",
      "[16:47:53] Explicit valence for atom # 0 H, 4, is greater than permitted\n"
     ]
    },
    {
     "name": "stdout",
     "output_type": "stream",
     "text": [
      "Chemically invalid molecule! Reason: Explicit valence for atom # 0 H, 4, is greater than permitted\n"
     ]
    },
    {
     "name": "stderr",
     "output_type": "stream",
     "text": [
      "Epoch 130 Training: 100%|██████████| 1/1 [00:00<00:00, 36.23it/s]\n",
      "[16:47:53] Explicit valence for atom # 0 H, 4, is greater than permitted\n"
     ]
    },
    {
     "name": "stdout",
     "output_type": "stream",
     "text": [
      "Chemically invalid molecule! Reason: Explicit valence for atom # 0 H, 4, is greater than permitted\n"
     ]
    },
    {
     "name": "stderr",
     "output_type": "stream",
     "text": [
      "Epoch 131 Training: 100%|██████████| 1/1 [00:00<00:00, 41.29it/s]\n",
      "[16:47:53] Explicit valence for atom # 0 H, 4, is greater than permitted\n"
     ]
    },
    {
     "name": "stdout",
     "output_type": "stream",
     "text": [
      "Chemically invalid molecule! Reason: Explicit valence for atom # 0 H, 4, is greater than permitted\n"
     ]
    },
    {
     "name": "stderr",
     "output_type": "stream",
     "text": [
      "Epoch 132 Training: 100%|██████████| 1/1 [00:00<00:00, 40.35it/s]\n",
      "[16:47:54] Explicit valence for atom # 0 H, 4, is greater than permitted\n"
     ]
    },
    {
     "name": "stdout",
     "output_type": "stream",
     "text": [
      "Chemically invalid molecule! Reason: Explicit valence for atom # 0 H, 4, is greater than permitted\n"
     ]
    },
    {
     "name": "stderr",
     "output_type": "stream",
     "text": [
      "Epoch 133 Training: 100%|██████████| 1/1 [00:00<00:00, 42.31it/s]\n",
      "[16:47:54] Explicit valence for atom # 0 H, 4, is greater than permitted\n"
     ]
    },
    {
     "name": "stdout",
     "output_type": "stream",
     "text": [
      "Chemically invalid molecule! Reason: Explicit valence for atom # 0 H, 4, is greater than permitted\n"
     ]
    },
    {
     "name": "stderr",
     "output_type": "stream",
     "text": [
      "Epoch 134 Training: 100%|██████████| 1/1 [00:00<00:00, 43.21it/s]\n",
      "[16:47:54] Explicit valence for atom # 0 H, 4, is greater than permitted\n"
     ]
    },
    {
     "name": "stdout",
     "output_type": "stream",
     "text": [
      "Chemically invalid molecule! Reason: Explicit valence for atom # 0 H, 4, is greater than permitted\n"
     ]
    },
    {
     "name": "stderr",
     "output_type": "stream",
     "text": [
      "Epoch 135 Training: 100%|██████████| 1/1 [00:00<00:00, 43.22it/s]\n",
      "[16:47:54] Explicit valence for atom # 0 H, 4, is greater than permitted\n"
     ]
    },
    {
     "name": "stdout",
     "output_type": "stream",
     "text": [
      "Chemically invalid molecule! Reason: Explicit valence for atom # 0 H, 4, is greater than permitted\n"
     ]
    },
    {
     "name": "stderr",
     "output_type": "stream",
     "text": [
      "Epoch 136 Training: 100%|██████████| 1/1 [00:00<00:00, 42.04it/s]\n",
      "[16:47:54] Explicit valence for atom # 0 H, 4, is greater than permitted\n"
     ]
    },
    {
     "name": "stdout",
     "output_type": "stream",
     "text": [
      "Chemically invalid molecule! Reason: Explicit valence for atom # 0 H, 4, is greater than permitted\n"
     ]
    },
    {
     "name": "stderr",
     "output_type": "stream",
     "text": [
      "Epoch 137 Training: 100%|██████████| 1/1 [00:00<00:00, 41.24it/s]\n",
      "[16:47:54] Explicit valence for atom # 0 H, 4, is greater than permitted\n"
     ]
    },
    {
     "name": "stdout",
     "output_type": "stream",
     "text": [
      "Chemically invalid molecule! Reason: Explicit valence for atom # 0 H, 4, is greater than permitted\n"
     ]
    },
    {
     "name": "stderr",
     "output_type": "stream",
     "text": [
      "Epoch 138 Training: 100%|██████████| 1/1 [00:00<00:00, 41.78it/s]\n",
      "[16:47:54] Explicit valence for atom # 0 H, 4, is greater than permitted\n"
     ]
    },
    {
     "name": "stdout",
     "output_type": "stream",
     "text": [
      "Chemically invalid molecule! Reason: Explicit valence for atom # 0 H, 4, is greater than permitted\n"
     ]
    },
    {
     "name": "stderr",
     "output_type": "stream",
     "text": [
      "Epoch 139 Training: 100%|██████████| 1/1 [00:00<00:00, 41.29it/s]\n",
      "[16:47:54] Explicit valence for atom # 0 H, 4, is greater than permitted\n"
     ]
    },
    {
     "name": "stdout",
     "output_type": "stream",
     "text": [
      "Chemically invalid molecule! Reason: Explicit valence for atom # 0 H, 4, is greater than permitted\n"
     ]
    },
    {
     "name": "stderr",
     "output_type": "stream",
     "text": [
      "Epoch 140 Training: 100%|██████████| 1/1 [00:00<00:00, 40.45it/s]\n",
      "[16:47:54] Explicit valence for atom # 0 H, 4, is greater than permitted\n"
     ]
    },
    {
     "name": "stdout",
     "output_type": "stream",
     "text": [
      "Chemically invalid molecule! Reason: Explicit valence for atom # 0 H, 4, is greater than permitted\n"
     ]
    },
    {
     "name": "stderr",
     "output_type": "stream",
     "text": [
      "Epoch 141 Training: 100%|██████████| 1/1 [00:00<00:00, 36.41it/s]\n"
     ]
    },
    {
     "name": "stdout",
     "output_type": "stream",
     "text": [
      "Chemically invalid molecule! Reason: Explicit valence for atom # 0 H, 4, is greater than permitted\n"
     ]
    },
    {
     "name": "stderr",
     "output_type": "stream",
     "text": [
      "[16:47:54] Explicit valence for atom # 0 H, 4, is greater than permitted\n",
      "Epoch 142 Training: 100%|██████████| 1/1 [00:00<00:00, 40.90it/s]\n",
      "[16:47:54] Explicit valence for atom # 0 H, 4, is greater than permitted\n"
     ]
    },
    {
     "name": "stdout",
     "output_type": "stream",
     "text": [
      "Chemically invalid molecule! Reason: Explicit valence for atom # 0 H, 4, is greater than permitted\n"
     ]
    },
    {
     "name": "stderr",
     "output_type": "stream",
     "text": [
      "Epoch 143 Training: 100%|██████████| 1/1 [00:00<00:00, 42.69it/s]\n",
      "[16:47:54] Explicit valence for atom # 0 H, 4, is greater than permitted\n"
     ]
    },
    {
     "name": "stdout",
     "output_type": "stream",
     "text": [
      "Chemically invalid molecule! Reason: Explicit valence for atom # 0 H, 4, is greater than permitted\n"
     ]
    },
    {
     "name": "stderr",
     "output_type": "stream",
     "text": [
      "Epoch 144 Training: 100%|██████████| 1/1 [00:00<00:00, 42.06it/s]\n",
      "[16:47:54] Explicit valence for atom # 0 H, 4, is greater than permitted\n"
     ]
    },
    {
     "name": "stdout",
     "output_type": "stream",
     "text": [
      "Chemically invalid molecule! Reason: Explicit valence for atom # 0 H, 4, is greater than permitted\n"
     ]
    },
    {
     "name": "stderr",
     "output_type": "stream",
     "text": [
      "Epoch 145 Training: 100%|██████████| 1/1 [00:00<00:00, 42.46it/s]\n",
      "[16:47:54] Explicit valence for atom # 0 H, 4, is greater than permitted\n"
     ]
    },
    {
     "name": "stdout",
     "output_type": "stream",
     "text": [
      "Chemically invalid molecule! Reason: Explicit valence for atom # 0 H, 4, is greater than permitted\n"
     ]
    },
    {
     "name": "stderr",
     "output_type": "stream",
     "text": [
      "Epoch 146 Training: 100%|██████████| 1/1 [00:00<00:00, 42.13it/s]\n",
      "[16:47:54] Explicit valence for atom # 0 H, 4, is greater than permitted\n"
     ]
    },
    {
     "name": "stdout",
     "output_type": "stream",
     "text": [
      "Chemically invalid molecule! Reason: Explicit valence for atom # 0 H, 4, is greater than permitted\n"
     ]
    },
    {
     "name": "stderr",
     "output_type": "stream",
     "text": [
      "Epoch 147 Training: 100%|██████████| 1/1 [00:00<00:00, 41.93it/s]\n"
     ]
    },
    {
     "name": "stdout",
     "output_type": "stream",
     "text": [
      "Chemically invalid molecule! Reason: Explicit valence for atom # 0 H, 4, is greater than permitted\n"
     ]
    },
    {
     "name": "stderr",
     "output_type": "stream",
     "text": [
      "[16:47:54] Explicit valence for atom # 0 H, 4, is greater than permitted\n",
      "Epoch 148 Training: 100%|██████████| 1/1 [00:00<00:00, 42.95it/s]\n",
      "[16:47:55] Explicit valence for atom # 0 H, 4, is greater than permitted\n"
     ]
    },
    {
     "name": "stdout",
     "output_type": "stream",
     "text": [
      "Chemically invalid molecule! Reason: Explicit valence for atom # 0 H, 4, is greater than permitted\n"
     ]
    },
    {
     "name": "stderr",
     "output_type": "stream",
     "text": [
      "Epoch 149 Training: 100%|██████████| 1/1 [00:00<00:00, 41.41it/s]\n"
     ]
    },
    {
     "name": "stdout",
     "output_type": "stream",
     "text": [
      "Chemically invalid molecule! Reason: Explicit valence for atom # 0 H, 4, is greater than permitted\n"
     ]
    },
    {
     "name": "stderr",
     "output_type": "stream",
     "text": [
      "[16:47:55] Explicit valence for atom # 0 H, 4, is greater than permitted\n",
      "Epoch 150 Training: 100%|██████████| 1/1 [00:00<00:00, 41.17it/s]\n",
      "[16:47:55] Explicit valence for atom # 0 H, 4, is greater than permitted\n"
     ]
    },
    {
     "name": "stdout",
     "output_type": "stream",
     "text": [
      "Chemically invalid molecule! Reason: Explicit valence for atom # 0 H, 4, is greater than permitted\n"
     ]
    },
    {
     "name": "stderr",
     "output_type": "stream",
     "text": [
      "Epoch 151 Training: 100%|██████████| 1/1 [00:00<00:00, 42.64it/s]"
     ]
    },
    {
     "name": "stdout",
     "output_type": "stream",
     "text": [
      "Chemically invalid molecule! Reason: Explicit valence for atom # 0 H, 4, is greater than permitted\n"
     ]
    },
    {
     "name": "stderr",
     "output_type": "stream",
     "text": [
      "\n",
      "[16:47:55] Explicit valence for atom # 0 H, 4, is greater than permitted\n",
      "Epoch 152 Training: 100%|██████████| 1/1 [00:00<00:00, 43.10it/s]\n",
      "[16:47:55] Explicit valence for atom # 0 H, 4, is greater than permitted\n"
     ]
    },
    {
     "name": "stdout",
     "output_type": "stream",
     "text": [
      "Chemically invalid molecule! Reason: Explicit valence for atom # 0 H, 4, is greater than permitted\n"
     ]
    },
    {
     "name": "stderr",
     "output_type": "stream",
     "text": [
      "Epoch 153 Training: 100%|██████████| 1/1 [00:00<00:00, 43.27it/s]\n"
     ]
    },
    {
     "name": "stdout",
     "output_type": "stream",
     "text": [
      "Chemically invalid molecule! Reason: Explicit valence for atom # 0 H, 4, is greater than permitted\n"
     ]
    },
    {
     "name": "stderr",
     "output_type": "stream",
     "text": [
      "[16:47:55] Explicit valence for atom # 0 H, 4, is greater than permitted\n",
      "Epoch 154 Training: 100%|██████████| 1/1 [00:00<00:00, 23.87it/s]\n",
      "[16:47:55] Explicit valence for atom # 0 H, 4, is greater than permitted\n"
     ]
    },
    {
     "name": "stdout",
     "output_type": "stream",
     "text": [
      "Chemically invalid molecule! Reason: Explicit valence for atom # 0 H, 4, is greater than permitted\n"
     ]
    },
    {
     "name": "stderr",
     "output_type": "stream",
     "text": [
      "Epoch 155 Training: 100%|██████████| 1/1 [00:00<00:00, 41.84it/s]\n",
      "[16:47:55] Explicit valence for atom # 0 H, 4, is greater than permitted\n"
     ]
    },
    {
     "name": "stdout",
     "output_type": "stream",
     "text": [
      "Chemically invalid molecule! Reason: Explicit valence for atom # 0 H, 4, is greater than permitted\n"
     ]
    },
    {
     "name": "stderr",
     "output_type": "stream",
     "text": [
      "Epoch 156 Training: 100%|██████████| 1/1 [00:00<00:00, 31.44it/s]\n",
      "[16:47:55] Explicit valence for atom # 0 H, 4, is greater than permitted\n"
     ]
    },
    {
     "name": "stdout",
     "output_type": "stream",
     "text": [
      "Chemically invalid molecule! Reason: Explicit valence for atom # 0 H, 4, is greater than permitted\n"
     ]
    },
    {
     "name": "stderr",
     "output_type": "stream",
     "text": [
      "Epoch 157 Training: 100%|██████████| 1/1 [00:00<00:00, 40.36it/s]\n",
      "[16:47:55] Explicit valence for atom # 0 H, 4, is greater than permitted\n"
     ]
    },
    {
     "name": "stdout",
     "output_type": "stream",
     "text": [
      "Chemically invalid molecule! Reason: Explicit valence for atom # 0 H, 4, is greater than permitted\n"
     ]
    },
    {
     "name": "stderr",
     "output_type": "stream",
     "text": [
      "Epoch 158 Training: 100%|██████████| 1/1 [00:00<00:00, 37.02it/s]\n",
      "[16:47:55] Explicit valence for atom # 0 H, 4, is greater than permitted\n"
     ]
    },
    {
     "name": "stdout",
     "output_type": "stream",
     "text": [
      "Chemically invalid molecule! Reason: Explicit valence for atom # 0 H, 4, is greater than permitted\n"
     ]
    },
    {
     "name": "stderr",
     "output_type": "stream",
     "text": [
      "Epoch 159 Training: 100%|██████████| 1/1 [00:00<00:00, 40.64it/s]\n",
      "[16:47:55] Explicit valence for atom # 0 H, 4, is greater than permitted\n"
     ]
    },
    {
     "name": "stdout",
     "output_type": "stream",
     "text": [
      "Chemically invalid molecule! Reason: Explicit valence for atom # 0 H, 4, is greater than permitted\n"
     ]
    },
    {
     "name": "stderr",
     "output_type": "stream",
     "text": [
      "Epoch 160 Training: 100%|██████████| 1/1 [00:00<00:00, 40.30it/s]\n",
      "[16:47:55] Explicit valence for atom # 0 H, 4, is greater than permitted\n"
     ]
    },
    {
     "name": "stdout",
     "output_type": "stream",
     "text": [
      "Chemically invalid molecule! Reason: Explicit valence for atom # 0 H, 4, is greater than permitted\n"
     ]
    },
    {
     "name": "stderr",
     "output_type": "stream",
     "text": [
      "Epoch 161 Training: 100%|██████████| 1/1 [00:00<00:00, 39.33it/s]\n",
      "[16:47:56] Explicit valence for atom # 0 H, 4, is greater than permitted\n"
     ]
    },
    {
     "name": "stdout",
     "output_type": "stream",
     "text": [
      "Chemically invalid molecule! Reason: Explicit valence for atom # 0 H, 4, is greater than permitted\n"
     ]
    },
    {
     "name": "stderr",
     "output_type": "stream",
     "text": [
      "Epoch 162 Training: 100%|██████████| 1/1 [00:00<00:00, 41.39it/s]\n",
      "[16:47:56] Explicit valence for atom # 0 H, 4, is greater than permitted\n"
     ]
    },
    {
     "name": "stdout",
     "output_type": "stream",
     "text": [
      "Chemically invalid molecule! Reason: Explicit valence for atom # 0 H, 4, is greater than permitted\n"
     ]
    },
    {
     "name": "stderr",
     "output_type": "stream",
     "text": [
      "Epoch 163 Training: 100%|██████████| 1/1 [00:00<00:00, 42.31it/s]\n",
      "[16:47:56] Explicit valence for atom # 0 H, 4, is greater than permitted\n"
     ]
    },
    {
     "name": "stdout",
     "output_type": "stream",
     "text": [
      "Chemically invalid molecule! Reason: Explicit valence for atom # 0 H, 4, is greater than permitted\n"
     ]
    },
    {
     "name": "stderr",
     "output_type": "stream",
     "text": [
      "Epoch 164 Training: 100%|██████████| 1/1 [00:00<00:00, 41.73it/s]\n",
      "[16:47:56] Explicit valence for atom # 0 H, 4, is greater than permitted\n"
     ]
    },
    {
     "name": "stdout",
     "output_type": "stream",
     "text": [
      "Chemically invalid molecule! Reason: Explicit valence for atom # 0 H, 4, is greater than permitted\n"
     ]
    },
    {
     "name": "stderr",
     "output_type": "stream",
     "text": [
      "Epoch 165 Training: 100%|██████████| 1/1 [00:00<00:00, 40.99it/s]\n",
      "[16:47:56] Explicit valence for atom # 0 H, 4, is greater than permitted\n"
     ]
    },
    {
     "name": "stdout",
     "output_type": "stream",
     "text": [
      "Chemically invalid molecule! Reason: Explicit valence for atom # 0 H, 4, is greater than permitted\n"
     ]
    },
    {
     "name": "stderr",
     "output_type": "stream",
     "text": [
      "Epoch 166 Training: 100%|██████████| 1/1 [00:00<00:00, 41.23it/s]\n",
      "[16:47:56] Explicit valence for atom # 0 H, 4, is greater than permitted\n"
     ]
    },
    {
     "name": "stdout",
     "output_type": "stream",
     "text": [
      "Chemically invalid molecule! Reason: Explicit valence for atom # 0 H, 4, is greater than permitted\n"
     ]
    },
    {
     "name": "stderr",
     "output_type": "stream",
     "text": [
      "Epoch 167 Training: 100%|██████████| 1/1 [00:00<00:00, 41.61it/s]\n",
      "[16:47:56] Explicit valence for atom # 0 H, 4, is greater than permitted\n"
     ]
    },
    {
     "name": "stdout",
     "output_type": "stream",
     "text": [
      "Chemically invalid molecule! Reason: Explicit valence for atom # 0 H, 4, is greater than permitted\n"
     ]
    },
    {
     "name": "stderr",
     "output_type": "stream",
     "text": [
      "Epoch 168 Training: 100%|██████████| 1/1 [00:00<00:00, 42.39it/s]\n",
      "[16:47:56] Explicit valence for atom # 0 H, 4, is greater than permitted\n"
     ]
    },
    {
     "name": "stdout",
     "output_type": "stream",
     "text": [
      "Chemically invalid molecule! Reason: Explicit valence for atom # 0 H, 4, is greater than permitted\n"
     ]
    },
    {
     "name": "stderr",
     "output_type": "stream",
     "text": [
      "Epoch 169 Training: 100%|██████████| 1/1 [00:00<00:00, 42.09it/s]\n",
      "[16:47:56] Explicit valence for atom # 0 H, 4, is greater than permitted\n"
     ]
    },
    {
     "name": "stdout",
     "output_type": "stream",
     "text": [
      "Chemically invalid molecule! Reason: Explicit valence for atom # 0 H, 4, is greater than permitted\n"
     ]
    },
    {
     "name": "stderr",
     "output_type": "stream",
     "text": [
      "Epoch 170 Training: 100%|██████████| 1/1 [00:00<00:00, 40.97it/s]\n",
      "[16:47:56] Explicit valence for atom # 0 H, 4, is greater than permitted\n"
     ]
    },
    {
     "name": "stdout",
     "output_type": "stream",
     "text": [
      "Chemically invalid molecule! Reason: Explicit valence for atom # 0 H, 4, is greater than permitted\n"
     ]
    },
    {
     "name": "stderr",
     "output_type": "stream",
     "text": [
      "Epoch 171 Training: 100%|██████████| 1/1 [00:00<00:00, 39.57it/s]\n",
      "[16:47:56] Explicit valence for atom # 0 H, 4, is greater than permitted\n"
     ]
    },
    {
     "name": "stdout",
     "output_type": "stream",
     "text": [
      "Chemically invalid molecule! Reason: Explicit valence for atom # 0 H, 4, is greater than permitted\n"
     ]
    },
    {
     "name": "stderr",
     "output_type": "stream",
     "text": [
      "Epoch 172 Training: 100%|██████████| 1/1 [00:00<00:00, 42.17it/s]\n",
      "[16:47:56] Explicit valence for atom # 0 H, 4, is greater than permitted\n"
     ]
    },
    {
     "name": "stdout",
     "output_type": "stream",
     "text": [
      "Chemically invalid molecule! Reason: Explicit valence for atom # 0 H, 4, is greater than permitted\n"
     ]
    },
    {
     "name": "stderr",
     "output_type": "stream",
     "text": [
      "Epoch 173 Training: 100%|██████████| 1/1 [00:00<00:00, 41.13it/s]\n",
      "[16:47:56] Explicit valence for atom # 0 H, 4, is greater than permitted\n"
     ]
    },
    {
     "name": "stdout",
     "output_type": "stream",
     "text": [
      "Chemically invalid molecule! Reason: Explicit valence for atom # 0 H, 4, is greater than permitted\n"
     ]
    },
    {
     "name": "stderr",
     "output_type": "stream",
     "text": [
      "Epoch 174 Training: 100%|██████████| 1/1 [00:00<00:00, 43.18it/s]\n",
      "[16:47:56] Explicit valence for atom # 0 H, 4, is greater than permitted\n"
     ]
    },
    {
     "name": "stdout",
     "output_type": "stream",
     "text": [
      "Chemically invalid molecule! Reason: Explicit valence for atom # 0 H, 4, is greater than permitted\n"
     ]
    },
    {
     "name": "stderr",
     "output_type": "stream",
     "text": [
      "Epoch 175 Training: 100%|██████████| 1/1 [00:00<00:00, 43.34it/s]\n",
      "[16:47:56] Explicit valence for atom # 0 H, 4, is greater than permitted\n"
     ]
    },
    {
     "name": "stdout",
     "output_type": "stream",
     "text": [
      "Chemically invalid molecule! Reason: Explicit valence for atom # 0 H, 4, is greater than permitted\n"
     ]
    },
    {
     "name": "stderr",
     "output_type": "stream",
     "text": [
      "Epoch 176 Training: 100%|██████████| 1/1 [00:00<00:00, 43.62it/s]\n",
      "[16:47:57] Explicit valence for atom # 0 H, 4, is greater than permitted\n"
     ]
    },
    {
     "name": "stdout",
     "output_type": "stream",
     "text": [
      "Chemically invalid molecule! Reason: Explicit valence for atom # 0 H, 4, is greater than permitted\n"
     ]
    },
    {
     "name": "stderr",
     "output_type": "stream",
     "text": [
      "Epoch 177 Training: 100%|██████████| 1/1 [00:00<00:00, 42.23it/s]\n",
      "[16:47:57] Explicit valence for atom # 0 H, 4, is greater than permitted\n"
     ]
    },
    {
     "name": "stdout",
     "output_type": "stream",
     "text": [
      "Chemically invalid molecule! Reason: Explicit valence for atom # 0 H, 4, is greater than permitted\n"
     ]
    },
    {
     "name": "stderr",
     "output_type": "stream",
     "text": [
      "Epoch 178 Training: 100%|██████████| 1/1 [00:00<00:00, 43.12it/s]\n"
     ]
    },
    {
     "name": "stdout",
     "output_type": "stream",
     "text": [
      "Chemically invalid molecule! Reason: Explicit valence for atom # 0 H, 4, is greater than permitted\n"
     ]
    },
    {
     "name": "stderr",
     "output_type": "stream",
     "text": [
      "[16:47:57] Explicit valence for atom # 0 H, 4, is greater than permitted\n",
      "Epoch 179 Training: 100%|██████████| 1/1 [00:00<00:00, 42.98it/s]\n",
      "[16:47:57] Explicit valence for atom # 0 H, 4, is greater than permitted\n"
     ]
    },
    {
     "name": "stdout",
     "output_type": "stream",
     "text": [
      "Chemically invalid molecule! Reason: Explicit valence for atom # 0 H, 4, is greater than permitted\n"
     ]
    },
    {
     "name": "stderr",
     "output_type": "stream",
     "text": [
      "Epoch 180 Training: 100%|██████████| 1/1 [00:00<00:00, 42.83it/s]\n",
      "[16:47:57] Explicit valence for atom # 0 H, 4, is greater than permitted\n"
     ]
    },
    {
     "name": "stdout",
     "output_type": "stream",
     "text": [
      "Chemically invalid molecule! Reason: Explicit valence for atom # 0 H, 4, is greater than permitted\n"
     ]
    },
    {
     "name": "stderr",
     "output_type": "stream",
     "text": [
      "Epoch 181 Training: 100%|██████████| 1/1 [00:00<00:00, 42.57it/s]\n",
      "[16:47:57] Explicit valence for atom # 0 H, 4, is greater than permitted\n"
     ]
    },
    {
     "name": "stdout",
     "output_type": "stream",
     "text": [
      "Chemically invalid molecule! Reason: Explicit valence for atom # 0 H, 4, is greater than permitted\n"
     ]
    },
    {
     "name": "stderr",
     "output_type": "stream",
     "text": [
      "Epoch 182 Training: 100%|██████████| 1/1 [00:00<00:00, 42.41it/s]\n"
     ]
    },
    {
     "name": "stdout",
     "output_type": "stream",
     "text": [
      "Chemically invalid molecule! Reason: Explicit valence for atom # 0 H, 4, is greater than permitted\n"
     ]
    },
    {
     "name": "stderr",
     "output_type": "stream",
     "text": [
      "[16:47:57] Explicit valence for atom # 0 H, 4, is greater than permitted\n",
      "Epoch 183 Training: 100%|██████████| 1/1 [00:00<00:00, 42.83it/s]\n",
      "[16:47:57] Explicit valence for atom # 0 H, 4, is greater than permitted\n"
     ]
    },
    {
     "name": "stdout",
     "output_type": "stream",
     "text": [
      "Chemically invalid molecule! Reason: Explicit valence for atom # 0 H, 4, is greater than permitted\n"
     ]
    },
    {
     "name": "stderr",
     "output_type": "stream",
     "text": [
      "Epoch 184 Training: 100%|██████████| 1/1 [00:00<00:00, 40.68it/s]\n",
      "[16:47:57] Explicit valence for atom # 0 H, 4, is greater than permitted\n"
     ]
    },
    {
     "name": "stdout",
     "output_type": "stream",
     "text": [
      "Chemically invalid molecule! Reason: Explicit valence for atom # 0 H, 4, is greater than permitted\n"
     ]
    },
    {
     "name": "stderr",
     "output_type": "stream",
     "text": [
      "Epoch 185 Training: 100%|██████████| 1/1 [00:00<00:00, 41.37it/s]\n",
      "[16:47:57] Explicit valence for atom # 0 H, 4, is greater than permitted\n"
     ]
    },
    {
     "name": "stdout",
     "output_type": "stream",
     "text": [
      "Chemically invalid molecule! Reason: Explicit valence for atom # 0 H, 4, is greater than permitted\n"
     ]
    },
    {
     "name": "stderr",
     "output_type": "stream",
     "text": [
      "Epoch 186 Training: 100%|██████████| 1/1 [00:00<00:00, 42.56it/s]\n",
      "[16:47:57] Explicit valence for atom # 0 H, 4, is greater than permitted\n"
     ]
    },
    {
     "name": "stdout",
     "output_type": "stream",
     "text": [
      "Chemically invalid molecule! Reason: Explicit valence for atom # 0 H, 4, is greater than permitted\n"
     ]
    },
    {
     "name": "stderr",
     "output_type": "stream",
     "text": [
      "Epoch 187 Training: 100%|██████████| 1/1 [00:00<00:00, 41.12it/s]"
     ]
    },
    {
     "name": "stdout",
     "output_type": "stream",
     "text": [
      "Chemically invalid molecule! Reason: Explicit valence for atom # 0 H, 4, is greater than permitted\n"
     ]
    },
    {
     "name": "stderr",
     "output_type": "stream",
     "text": [
      "\n",
      "[16:47:57] Explicit valence for atom # 0 H, 4, is greater than permitted\n",
      "Epoch 188 Training: 100%|██████████| 1/1 [00:00<00:00, 40.25it/s]"
     ]
    },
    {
     "name": "stdout",
     "output_type": "stream",
     "text": [
      "Chemically invalid molecule! Reason: Explicit valence for atom # 0 H, 4, is greater than permitted\n"
     ]
    },
    {
     "name": "stderr",
     "output_type": "stream",
     "text": [
      "\n",
      "[16:47:57] Explicit valence for atom # 0 H, 4, is greater than permitted\n",
      "Epoch 189 Training: 100%|██████████| 1/1 [00:00<00:00, 40.27it/s]\n",
      "[16:47:57] Explicit valence for atom # 0 H, 4, is greater than permitted\n"
     ]
    },
    {
     "name": "stdout",
     "output_type": "stream",
     "text": [
      "Chemically invalid molecule! Reason: Explicit valence for atom # 0 H, 4, is greater than permitted\n"
     ]
    },
    {
     "name": "stderr",
     "output_type": "stream",
     "text": [
      "Epoch 190 Training: 100%|██████████| 1/1 [00:00<00:00, 41.15it/s]\n",
      "[16:47:57] Explicit valence for atom # 0 H, 4, is greater than permitted\n"
     ]
    },
    {
     "name": "stdout",
     "output_type": "stream",
     "text": [
      "Chemically invalid molecule! Reason: Explicit valence for atom # 0 H, 4, is greater than permitted\n"
     ]
    },
    {
     "name": "stderr",
     "output_type": "stream",
     "text": [
      "Epoch 191 Training: 100%|██████████| 1/1 [00:00<00:00, 42.38it/s]\n",
      "[16:47:58] Explicit valence for atom # 0 H, 4, is greater than permitted\n"
     ]
    },
    {
     "name": "stdout",
     "output_type": "stream",
     "text": [
      "Chemically invalid molecule! Reason: Explicit valence for atom # 0 H, 4, is greater than permitted\n"
     ]
    },
    {
     "name": "stderr",
     "output_type": "stream",
     "text": [
      "Epoch 192 Training: 100%|██████████| 1/1 [00:00<00:00, 42.32it/s]\n",
      "[16:47:58] Explicit valence for atom # 0 H, 4, is greater than permitted\n"
     ]
    },
    {
     "name": "stdout",
     "output_type": "stream",
     "text": [
      "Chemically invalid molecule! Reason: Explicit valence for atom # 0 H, 4, is greater than permitted\n"
     ]
    },
    {
     "name": "stderr",
     "output_type": "stream",
     "text": [
      "Epoch 193 Training: 100%|██████████| 1/1 [00:00<00:00, 42.17it/s]\n",
      "[16:47:58] Explicit valence for atom # 0 H, 4, is greater than permitted\n"
     ]
    },
    {
     "name": "stdout",
     "output_type": "stream",
     "text": [
      "Chemically invalid molecule! Reason: Explicit valence for atom # 0 H, 4, is greater than permitted\n"
     ]
    },
    {
     "name": "stderr",
     "output_type": "stream",
     "text": [
      "Epoch 194 Training: 100%|██████████| 1/1 [00:00<00:00, 43.09it/s]\n",
      "[16:47:58] Explicit valence for atom # 0 H, 4, is greater than permitted\n"
     ]
    },
    {
     "name": "stdout",
     "output_type": "stream",
     "text": [
      "Chemically invalid molecule! Reason: Explicit valence for atom # 0 H, 4, is greater than permitted\n"
     ]
    },
    {
     "name": "stderr",
     "output_type": "stream",
     "text": [
      "Epoch 195 Training: 100%|██████████| 1/1 [00:00<00:00, 42.97it/s]\n",
      "[16:47:58] Explicit valence for atom # 0 H, 4, is greater than permitted\n"
     ]
    },
    {
     "name": "stdout",
     "output_type": "stream",
     "text": [
      "Chemically invalid molecule! Reason: Explicit valence for atom # 0 H, 4, is greater than permitted\n"
     ]
    },
    {
     "name": "stderr",
     "output_type": "stream",
     "text": [
      "Epoch 196 Training: 100%|██████████| 1/1 [00:00<00:00, 42.22it/s]\n",
      "[16:47:58] Explicit valence for atom # 0 H, 4, is greater than permitted\n"
     ]
    },
    {
     "name": "stdout",
     "output_type": "stream",
     "text": [
      "Chemically invalid molecule! Reason: Explicit valence for atom # 0 H, 4, is greater than permitted\n"
     ]
    },
    {
     "name": "stderr",
     "output_type": "stream",
     "text": [
      "Epoch 197 Training: 100%|██████████| 1/1 [00:00<00:00, 42.37it/s]\n",
      "[16:47:58] Explicit valence for atom # 0 H, 4, is greater than permitted\n"
     ]
    },
    {
     "name": "stdout",
     "output_type": "stream",
     "text": [
      "Chemically invalid molecule! Reason: Explicit valence for atom # 0 H, 4, is greater than permitted\n"
     ]
    },
    {
     "name": "stderr",
     "output_type": "stream",
     "text": [
      "Epoch 198 Training: 100%|██████████| 1/1 [00:00<00:00, 43.04it/s]\n",
      "[16:47:58] Explicit valence for atom # 0 H, 4, is greater than permitted\n"
     ]
    },
    {
     "name": "stdout",
     "output_type": "stream",
     "text": [
      "Chemically invalid molecule! Reason: Explicit valence for atom # 0 H, 4, is greater than permitted\n"
     ]
    },
    {
     "name": "stderr",
     "output_type": "stream",
     "text": [
      "Epoch 199 Training: 100%|██████████| 1/1 [00:00<00:00, 42.28it/s]\n",
      "[16:47:58] Explicit valence for atom # 0 H, 4, is greater than permitted\n"
     ]
    },
    {
     "name": "stdout",
     "output_type": "stream",
     "text": [
      "Chemically invalid molecule! Reason: Explicit valence for atom # 0 H, 4, is greater than permitted\n"
     ]
    },
    {
     "name": "stderr",
     "output_type": "stream",
     "text": [
      "Epoch 200 Training: 100%|██████████| 1/1 [00:00<00:00, 43.04it/s]\n",
      "[16:47:58] Explicit valence for atom # 0 H, 4, is greater than permitted\n"
     ]
    },
    {
     "name": "stdout",
     "output_type": "stream",
     "text": [
      "Chemically invalid molecule! Reason: Explicit valence for atom # 0 H, 4, is greater than permitted\n"
     ]
    },
    {
     "name": "stderr",
     "output_type": "stream",
     "text": [
      "Epoch 201 Training: 100%|██████████| 1/1 [00:00<00:00,  2.98it/s]\n",
      "[16:47:58] Explicit valence for atom # 0 H, 4, is greater than permitted\n"
     ]
    },
    {
     "name": "stdout",
     "output_type": "stream",
     "text": [
      "Chemically invalid molecule! Reason: Explicit valence for atom # 0 H, 4, is greater than permitted\n"
     ]
    },
    {
     "name": "stderr",
     "output_type": "stream",
     "text": [
      "Epoch 202 Training: 100%|██████████| 1/1 [00:00<00:00, 39.72it/s]\n",
      "[16:47:59] Explicit valence for atom # 0 H, 4, is greater than permitted\n"
     ]
    },
    {
     "name": "stdout",
     "output_type": "stream",
     "text": [
      "Chemically invalid molecule! Reason: Explicit valence for atom # 0 H, 4, is greater than permitted\n"
     ]
    },
    {
     "name": "stderr",
     "output_type": "stream",
     "text": [
      "Epoch 203 Training: 100%|██████████| 1/1 [00:00<00:00, 41.32it/s]\n",
      "[16:47:59] Explicit valence for atom # 0 H, 4, is greater than permitted\n"
     ]
    },
    {
     "name": "stdout",
     "output_type": "stream",
     "text": [
      "Chemically invalid molecule! Reason: Explicit valence for atom # 0 H, 4, is greater than permitted\n"
     ]
    },
    {
     "name": "stderr",
     "output_type": "stream",
     "text": [
      "Epoch 204 Training: 100%|██████████| 1/1 [00:00<00:00, 42.67it/s]"
     ]
    },
    {
     "name": "stdout",
     "output_type": "stream",
     "text": [
      "Chemically invalid molecule! Reason: Explicit valence for atom # 0 H, 4, is greater than permitted\n"
     ]
    },
    {
     "name": "stderr",
     "output_type": "stream",
     "text": [
      "\n",
      "[16:47:59] Explicit valence for atom # 0 H, 4, is greater than permitted\n",
      "Epoch 205 Training: 100%|██████████| 1/1 [00:00<00:00, 43.15it/s]\n"
     ]
    },
    {
     "name": "stdout",
     "output_type": "stream",
     "text": [
      "Chemically invalid molecule! Reason: Explicit valence for atom # 0 H, 4, is greater than permitted\n"
     ]
    },
    {
     "name": "stderr",
     "output_type": "stream",
     "text": [
      "[16:47:59] Explicit valence for atom # 0 H, 4, is greater than permitted\n",
      "Epoch 206 Training: 100%|██████████| 1/1 [00:00<00:00, 37.71it/s]"
     ]
    },
    {
     "name": "stdout",
     "output_type": "stream",
     "text": [
      "Chemically invalid molecule! Reason: Explicit valence for atom # 0 H, 4, is greater than permitted"
     ]
    },
    {
     "name": "stderr",
     "output_type": "stream",
     "text": [
      "\n",
      "[16:47:59] Explicit valence for atom # 0 H, 4, is greater than permitted\n"
     ]
    },
    {
     "name": "stdout",
     "output_type": "stream",
     "text": [
      "\n"
     ]
    },
    {
     "name": "stderr",
     "output_type": "stream",
     "text": [
      "Epoch 207 Training: 100%|██████████| 1/1 [00:00<00:00, 41.74it/s]\n",
      "[16:47:59] Explicit valence for atom # 0 H, 4, is greater than permitted\n"
     ]
    },
    {
     "name": "stdout",
     "output_type": "stream",
     "text": [
      "Chemically invalid molecule! Reason: Explicit valence for atom # 0 H, 4, is greater than permitted\n"
     ]
    },
    {
     "name": "stderr",
     "output_type": "stream",
     "text": [
      "Epoch 208 Training: 100%|██████████| 1/1 [00:00<00:00, 42.79it/s]\n",
      "[16:47:59] Explicit valence for atom # 0 H, 4, is greater than permitted\n"
     ]
    },
    {
     "name": "stdout",
     "output_type": "stream",
     "text": [
      "Chemically invalid molecule! Reason: Explicit valence for atom # 0 H, 4, is greater than permitted\n"
     ]
    },
    {
     "name": "stderr",
     "output_type": "stream",
     "text": [
      "Epoch 209 Training: 100%|██████████| 1/1 [00:00<00:00, 42.44it/s]"
     ]
    },
    {
     "name": "stdout",
     "output_type": "stream",
     "text": [
      "Chemically invalid molecule! Reason: Explicit valence for atom # 0 H, 4, is greater than permitted\n"
     ]
    },
    {
     "name": "stderr",
     "output_type": "stream",
     "text": [
      "\n",
      "[16:47:59] Explicit valence for atom # 0 H, 4, is greater than permitted\n",
      "Epoch 210 Training: 100%|██████████| 1/1 [00:00<00:00, 42.71it/s]"
     ]
    },
    {
     "name": "stdout",
     "output_type": "stream",
     "text": [
      "Chemically invalid molecule! Reason: Explicit valence for atom # 0 H, 4, is greater than permitted\n"
     ]
    },
    {
     "name": "stderr",
     "output_type": "stream",
     "text": [
      "\n",
      "[16:47:59] Explicit valence for atom # 0 H, 4, is greater than permitted\n",
      "Epoch 211 Training: 100%|██████████| 1/1 [00:00<00:00, 42.75it/s]"
     ]
    },
    {
     "name": "stdout",
     "output_type": "stream",
     "text": [
      "Chemically invalid molecule! Reason: Explicit valence for atom # 0 H, 4, is greater than permitted\n"
     ]
    },
    {
     "name": "stderr",
     "output_type": "stream",
     "text": [
      "\n",
      "[16:47:59] Explicit valence for atom # 0 H, 4, is greater than permitted\n",
      "Epoch 212 Training: 100%|██████████| 1/1 [00:00<00:00, 41.73it/s]\n"
     ]
    },
    {
     "name": "stdout",
     "output_type": "stream",
     "text": [
      "Chemically invalid molecule! Reason: Explicit valence for atom # 0 H, 4, is greater than permitted\n"
     ]
    },
    {
     "name": "stderr",
     "output_type": "stream",
     "text": [
      "[16:47:59] Explicit valence for atom # 0 H, 4, is greater than permitted\n",
      "Epoch 213 Training: 100%|██████████| 1/1 [00:00<00:00, 40.06it/s]"
     ]
    },
    {
     "name": "stdout",
     "output_type": "stream",
     "text": [
      "Chemically invalid molecule! Reason: Explicit valence for atom # 0 H, 4, is greater than permitted\n"
     ]
    },
    {
     "name": "stderr",
     "output_type": "stream",
     "text": [
      "\n",
      "[16:47:59] Explicit valence for atom # 0 H, 4, is greater than permitted\n",
      "Epoch 214 Training: 100%|██████████| 1/1 [00:00<00:00, 40.31it/s]"
     ]
    },
    {
     "name": "stdout",
     "output_type": "stream",
     "text": [
      "Chemically invalid molecule! Reason: Explicit valence for atom # 0 H, 4, is greater than permitted"
     ]
    },
    {
     "name": "stderr",
     "output_type": "stream",
     "text": [
      "\n",
      "[16:47:59] Explicit valence for atom # 0 H, 4, is greater than permitted\n"
     ]
    },
    {
     "name": "stdout",
     "output_type": "stream",
     "text": [
      "\n"
     ]
    },
    {
     "name": "stderr",
     "output_type": "stream",
     "text": [
      "Epoch 215 Training: 100%|██████████| 1/1 [00:00<00:00, 41.70it/s]\n",
      "[16:47:59] Explicit valence for atom # 0 H, 4, is greater than permitted\n"
     ]
    },
    {
     "name": "stdout",
     "output_type": "stream",
     "text": [
      "Chemically invalid molecule! Reason: Explicit valence for atom # 0 H, 4, is greater than permitted\n"
     ]
    },
    {
     "name": "stderr",
     "output_type": "stream",
     "text": [
      "Epoch 216 Training: 100%|██████████| 1/1 [00:00<00:00, 41.82it/s]"
     ]
    },
    {
     "name": "stdout",
     "output_type": "stream",
     "text": [
      "Chemically invalid molecule! Reason: Explicit valence for atom # 0 H, 4, is greater than permitted\n"
     ]
    },
    {
     "name": "stderr",
     "output_type": "stream",
     "text": [
      "\n",
      "[16:47:59] Explicit valence for atom # 0 H, 4, is greater than permitted\n",
      "Epoch 217 Training: 100%|██████████| 1/1 [00:00<00:00, 41.19it/s]"
     ]
    },
    {
     "name": "stdout",
     "output_type": "stream",
     "text": [
      "Chemically invalid molecule! Reason: Explicit valence for atom # 0 H, 4, is greater than permitted\n"
     ]
    },
    {
     "name": "stderr",
     "output_type": "stream",
     "text": [
      "\n",
      "[16:48:00] Explicit valence for atom # 0 H, 4, is greater than permitted\n",
      "Epoch 218 Training: 100%|██████████| 1/1 [00:00<00:00, 42.04it/s]"
     ]
    },
    {
     "name": "stdout",
     "output_type": "stream",
     "text": [
      "Chemically invalid molecule! Reason: Explicit valence for atom # 0 H, 4, is greater than permitted\n"
     ]
    },
    {
     "name": "stderr",
     "output_type": "stream",
     "text": [
      "\n",
      "[16:48:00] Explicit valence for atom # 0 H, 4, is greater than permitted\n",
      "Epoch 219 Training: 100%|██████████| 1/1 [00:00<00:00, 41.97it/s]\n",
      "[16:48:00] Explicit valence for atom # 0 H, 4, is greater than permitted\n"
     ]
    },
    {
     "name": "stdout",
     "output_type": "stream",
     "text": [
      "Chemically invalid molecule! Reason: Explicit valence for atom # 0 H, 4, is greater than permitted\n"
     ]
    },
    {
     "name": "stderr",
     "output_type": "stream",
     "text": [
      "Epoch 220 Training: 100%|██████████| 1/1 [00:00<00:00, 41.48it/s]\n",
      "[16:48:00] Explicit valence for atom # 0 H, 4, is greater than permitted\n"
     ]
    },
    {
     "name": "stdout",
     "output_type": "stream",
     "text": [
      "Chemically invalid molecule! Reason: Explicit valence for atom # 0 H, 4, is greater than permitted\n"
     ]
    },
    {
     "name": "stderr",
     "output_type": "stream",
     "text": [
      "Epoch 221 Training: 100%|██████████| 1/1 [00:00<00:00, 41.39it/s]\n",
      "[16:48:00] Explicit valence for atom # 0 H, 4, is greater than permitted\n"
     ]
    },
    {
     "name": "stdout",
     "output_type": "stream",
     "text": [
      "Chemically invalid molecule! Reason: Explicit valence for atom # 0 H, 4, is greater than permitted\n"
     ]
    },
    {
     "name": "stderr",
     "output_type": "stream",
     "text": [
      "Epoch 222 Training: 100%|██████████| 1/1 [00:00<00:00, 42.31it/s]\n",
      "[16:48:00] Explicit valence for atom # 0 H, 4, is greater than permitted\n"
     ]
    },
    {
     "name": "stdout",
     "output_type": "stream",
     "text": [
      "Chemically invalid molecule! Reason: Explicit valence for atom # 0 H, 4, is greater than permitted\n"
     ]
    },
    {
     "name": "stderr",
     "output_type": "stream",
     "text": [
      "Epoch 223 Training: 100%|██████████| 1/1 [00:00<00:00, 43.36it/s]\n",
      "[16:48:00] Explicit valence for atom # 0 H, 4, is greater than permitted\n"
     ]
    },
    {
     "name": "stdout",
     "output_type": "stream",
     "text": [
      "Chemically invalid molecule! Reason: Explicit valence for atom # 0 H, 4, is greater than permitted\n"
     ]
    },
    {
     "name": "stderr",
     "output_type": "stream",
     "text": [
      "Epoch 224 Training: 100%|██████████| 1/1 [00:00<00:00, 42.28it/s]\n",
      "[16:48:00] Explicit valence for atom # 0 H, 4, is greater than permitted\n"
     ]
    },
    {
     "name": "stdout",
     "output_type": "stream",
     "text": [
      "Chemically invalid molecule! Reason: Explicit valence for atom # 0 H, 4, is greater than permitted\n"
     ]
    },
    {
     "name": "stderr",
     "output_type": "stream",
     "text": [
      "Epoch 225 Training: 100%|██████████| 1/1 [00:00<00:00, 43.15it/s]\n",
      "[16:48:00] Explicit valence for atom # 0 H, 4, is greater than permitted\n"
     ]
    },
    {
     "name": "stdout",
     "output_type": "stream",
     "text": [
      "Chemically invalid molecule! Reason: Explicit valence for atom # 0 H, 4, is greater than permitted\n"
     ]
    },
    {
     "name": "stderr",
     "output_type": "stream",
     "text": [
      "Epoch 226 Training: 100%|██████████| 1/1 [00:00<00:00, 29.47it/s]\n",
      "[16:48:00] Explicit valence for atom # 0 H, 4, is greater than permitted\n"
     ]
    },
    {
     "name": "stdout",
     "output_type": "stream",
     "text": [
      "Chemically invalid molecule! Reason: Explicit valence for atom # 0 H, 4, is greater than permitted\n"
     ]
    },
    {
     "name": "stderr",
     "output_type": "stream",
     "text": [
      "Epoch 227 Training: 100%|██████████| 1/1 [00:00<00:00, 39.83it/s]\n",
      "[16:48:00] Explicit valence for atom # 0 H, 4, is greater than permitted\n"
     ]
    },
    {
     "name": "stdout",
     "output_type": "stream",
     "text": [
      "Chemically invalid molecule! Reason: Explicit valence for atom # 0 H, 4, is greater than permitted\n"
     ]
    },
    {
     "name": "stderr",
     "output_type": "stream",
     "text": [
      "Epoch 228 Training: 100%|██████████| 1/1 [00:00<00:00, 38.93it/s]\n",
      "[16:48:00] Explicit valence for atom # 0 H, 4, is greater than permitted\n"
     ]
    },
    {
     "name": "stdout",
     "output_type": "stream",
     "text": [
      "Chemically invalid molecule! Reason: Explicit valence for atom # 0 H, 4, is greater than permitted\n"
     ]
    },
    {
     "name": "stderr",
     "output_type": "stream",
     "text": [
      "Epoch 229 Training: 100%|██████████| 1/1 [00:00<00:00, 39.77it/s]\n",
      "[16:48:00] Explicit valence for atom # 0 H, 4, is greater than permitted\n"
     ]
    },
    {
     "name": "stdout",
     "output_type": "stream",
     "text": [
      "Chemically invalid molecule! Reason: Explicit valence for atom # 0 H, 4, is greater than permitted\n"
     ]
    },
    {
     "name": "stderr",
     "output_type": "stream",
     "text": [
      "Epoch 230 Training: 100%|██████████| 1/1 [00:00<00:00, 38.21it/s]\n",
      "[16:48:00] Explicit valence for atom # 0 H, 4, is greater than permitted\n"
     ]
    },
    {
     "name": "stdout",
     "output_type": "stream",
     "text": [
      "Chemically invalid molecule! Reason: Explicit valence for atom # 0 H, 4, is greater than permitted\n"
     ]
    },
    {
     "name": "stderr",
     "output_type": "stream",
     "text": [
      "Epoch 231 Training: 100%|██████████| 1/1 [00:00<00:00, 40.63it/s]\n",
      "[16:48:01] Explicit valence for atom # 0 H, 4, is greater than permitted\n"
     ]
    },
    {
     "name": "stdout",
     "output_type": "stream",
     "text": [
      "Chemically invalid molecule! Reason: Explicit valence for atom # 0 H, 4, is greater than permitted\n"
     ]
    },
    {
     "name": "stderr",
     "output_type": "stream",
     "text": [
      "Epoch 232 Training: 100%|██████████| 1/1 [00:00<00:00, 37.66it/s]\n",
      "[16:48:01] Explicit valence for atom # 0 H, 4, is greater than permitted\n"
     ]
    },
    {
     "name": "stdout",
     "output_type": "stream",
     "text": [
      "Chemically invalid molecule! Reason: Explicit valence for atom # 0 H, 4, is greater than permitted\n"
     ]
    },
    {
     "name": "stderr",
     "output_type": "stream",
     "text": [
      "Epoch 233 Training: 100%|██████████| 1/1 [00:00<00:00, 39.72it/s]\n",
      "[16:48:01] Explicit valence for atom # 0 H, 4, is greater than permitted\n"
     ]
    },
    {
     "name": "stdout",
     "output_type": "stream",
     "text": [
      "Chemically invalid molecule! Reason: Explicit valence for atom # 0 H, 4, is greater than permitted\n"
     ]
    },
    {
     "name": "stderr",
     "output_type": "stream",
     "text": [
      "Epoch 234 Training: 100%|██████████| 1/1 [00:00<00:00, 41.28it/s]\n",
      "[16:48:01] Explicit valence for atom # 0 H, 4, is greater than permitted\n"
     ]
    },
    {
     "name": "stdout",
     "output_type": "stream",
     "text": [
      "Chemically invalid molecule! Reason: Explicit valence for atom # 0 H, 4, is greater than permitted\n"
     ]
    },
    {
     "name": "stderr",
     "output_type": "stream",
     "text": [
      "Epoch 235 Training: 100%|██████████| 1/1 [00:00<00:00, 37.34it/s]\n",
      "[16:48:01] Explicit valence for atom # 0 H, 4, is greater than permitted\n"
     ]
    },
    {
     "name": "stdout",
     "output_type": "stream",
     "text": [
      "Chemically invalid molecule! Reason: Explicit valence for atom # 0 H, 4, is greater than permitted\n"
     ]
    },
    {
     "name": "stderr",
     "output_type": "stream",
     "text": [
      "Epoch 236 Training: 100%|██████████| 1/1 [00:00<00:00, 39.53it/s]\n",
      "[16:48:01] Explicit valence for atom # 0 H, 4, is greater than permitted\n"
     ]
    },
    {
     "name": "stdout",
     "output_type": "stream",
     "text": [
      "Chemically invalid molecule! Reason: Explicit valence for atom # 0 H, 4, is greater than permitted\n"
     ]
    },
    {
     "name": "stderr",
     "output_type": "stream",
     "text": [
      "Epoch 237 Training: 100%|██████████| 1/1 [00:00<00:00, 37.62it/s]\n",
      "[16:48:01] Explicit valence for atom # 0 H, 4, is greater than permitted\n"
     ]
    },
    {
     "name": "stdout",
     "output_type": "stream",
     "text": [
      "Chemically invalid molecule! Reason: Explicit valence for atom # 0 H, 4, is greater than permitted\n"
     ]
    },
    {
     "name": "stderr",
     "output_type": "stream",
     "text": [
      "Epoch 238 Training: 100%|██████████| 1/1 [00:00<00:00, 41.93it/s]\n",
      "[16:48:01] Explicit valence for atom # 0 H, 4, is greater than permitted\n"
     ]
    },
    {
     "name": "stdout",
     "output_type": "stream",
     "text": [
      "Chemically invalid molecule! Reason: Explicit valence for atom # 0 H, 4, is greater than permitted\n"
     ]
    },
    {
     "name": "stderr",
     "output_type": "stream",
     "text": [
      "Epoch 239 Training: 100%|██████████| 1/1 [00:00<00:00, 26.87it/s]\n",
      "[16:48:01] Explicit valence for atom # 0 H, 4, is greater than permitted\n"
     ]
    },
    {
     "name": "stdout",
     "output_type": "stream",
     "text": [
      "Chemically invalid molecule! Reason: Explicit valence for atom # 0 H, 4, is greater than permitted\n"
     ]
    },
    {
     "name": "stderr",
     "output_type": "stream",
     "text": [
      "Epoch 240 Training: 100%|██████████| 1/1 [00:00<00:00, 39.44it/s]\n",
      "[16:48:01] Explicit valence for atom # 0 H, 4, is greater than permitted\n"
     ]
    },
    {
     "name": "stdout",
     "output_type": "stream",
     "text": [
      "Chemically invalid molecule! Reason: Explicit valence for atom # 0 H, 4, is greater than permitted\n"
     ]
    },
    {
     "name": "stderr",
     "output_type": "stream",
     "text": [
      "Epoch 241 Training: 100%|██████████| 1/1 [00:00<00:00, 35.98it/s]\n",
      "[16:48:01] Explicit valence for atom # 0 H, 4, is greater than permitted\n"
     ]
    },
    {
     "name": "stdout",
     "output_type": "stream",
     "text": [
      "Chemically invalid molecule! Reason: Explicit valence for atom # 0 H, 4, is greater than permitted\n"
     ]
    },
    {
     "name": "stderr",
     "output_type": "stream",
     "text": [
      "Epoch 242 Training: 100%|██████████| 1/1 [00:00<00:00, 41.34it/s]\n",
      "[16:48:01] Explicit valence for atom # 0 H, 4, is greater than permitted\n"
     ]
    },
    {
     "name": "stdout",
     "output_type": "stream",
     "text": [
      "Chemically invalid molecule! Reason: Explicit valence for atom # 0 H, 4, is greater than permitted\n"
     ]
    },
    {
     "name": "stderr",
     "output_type": "stream",
     "text": [
      "Epoch 243 Training: 100%|██████████| 1/1 [00:00<00:00, 42.19it/s]\n",
      "[16:48:01] Explicit valence for atom # 0 H, 4, is greater than permitted\n"
     ]
    },
    {
     "name": "stdout",
     "output_type": "stream",
     "text": [
      "Chemically invalid molecule! Reason: Explicit valence for atom # 0 H, 4, is greater than permitted\n"
     ]
    },
    {
     "name": "stderr",
     "output_type": "stream",
     "text": [
      "Epoch 244 Training: 100%|██████████| 1/1 [00:00<00:00, 39.01it/s]\n",
      "[16:48:01] Explicit valence for atom # 0 H, 4, is greater than permitted\n"
     ]
    },
    {
     "name": "stdout",
     "output_type": "stream",
     "text": [
      "Chemically invalid molecule! Reason: Explicit valence for atom # 0 H, 4, is greater than permitted\n"
     ]
    },
    {
     "name": "stderr",
     "output_type": "stream",
     "text": [
      "Epoch 245 Training: 100%|██████████| 1/1 [00:00<00:00, 42.08it/s]\n",
      "[16:48:02] Explicit valence for atom # 0 H, 4, is greater than permitted\n"
     ]
    },
    {
     "name": "stdout",
     "output_type": "stream",
     "text": [
      "Chemically invalid molecule! Reason: Explicit valence for atom # 0 H, 4, is greater than permitted\n"
     ]
    },
    {
     "name": "stderr",
     "output_type": "stream",
     "text": [
      "Epoch 246 Training: 100%|██████████| 1/1 [00:00<00:00, 39.93it/s]\n",
      "[16:48:02] Explicit valence for atom # 0 H, 4, is greater than permitted\n"
     ]
    },
    {
     "name": "stdout",
     "output_type": "stream",
     "text": [
      "Chemically invalid molecule! Reason: Explicit valence for atom # 0 H, 4, is greater than permitted\n"
     ]
    },
    {
     "name": "stderr",
     "output_type": "stream",
     "text": [
      "Epoch 247 Training: 100%|██████████| 1/1 [00:00<00:00, 39.51it/s]\n",
      "[16:48:02] Explicit valence for atom # 0 H, 4, is greater than permitted\n"
     ]
    },
    {
     "name": "stdout",
     "output_type": "stream",
     "text": [
      "Chemically invalid molecule! Reason: Explicit valence for atom # 0 H, 4, is greater than permitted\n"
     ]
    },
    {
     "name": "stderr",
     "output_type": "stream",
     "text": [
      "Epoch 248 Training: 100%|██████████| 1/1 [00:00<00:00, 43.40it/s]\n",
      "[16:48:02] Explicit valence for atom # 0 H, 4, is greater than permitted\n"
     ]
    },
    {
     "name": "stdout",
     "output_type": "stream",
     "text": [
      "Chemically invalid molecule! Reason: Explicit valence for atom # 0 H, 4, is greater than permitted\n"
     ]
    },
    {
     "name": "stderr",
     "output_type": "stream",
     "text": [
      "Epoch 249 Training: 100%|██████████| 1/1 [00:00<00:00, 42.00it/s]\n",
      "[16:48:02] Explicit valence for atom # 0 H, 4, is greater than permitted\n"
     ]
    },
    {
     "name": "stdout",
     "output_type": "stream",
     "text": [
      "Chemically invalid molecule! Reason: Explicit valence for atom # 0 H, 4, is greater than permitted\n"
     ]
    },
    {
     "name": "stderr",
     "output_type": "stream",
     "text": [
      "Epoch 250 Training: 100%|██████████| 1/1 [00:00<00:00, 25.93it/s]\n",
      "[16:48:02] Explicit valence for atom # 0 H, 4, is greater than permitted\n"
     ]
    },
    {
     "name": "stdout",
     "output_type": "stream",
     "text": [
      "Chemically invalid molecule! Reason: Explicit valence for atom # 0 H, 4, is greater than permitted\n"
     ]
    },
    {
     "name": "stderr",
     "output_type": "stream",
     "text": [
      "Epoch 251 Training: 100%|██████████| 1/1 [00:00<00:00, 43.20it/s]\n",
      "[16:48:02] Explicit valence for atom # 0 H, 4, is greater than permitted\n"
     ]
    },
    {
     "name": "stdout",
     "output_type": "stream",
     "text": [
      "Chemically invalid molecule! Reason: Explicit valence for atom # 0 H, 4, is greater than permitted\n"
     ]
    },
    {
     "name": "stderr",
     "output_type": "stream",
     "text": [
      "Epoch 252 Training: 100%|██████████| 1/1 [00:00<00:00, 44.48it/s]\n",
      "[16:48:02] Explicit valence for atom # 0 H, 4, is greater than permitted\n"
     ]
    },
    {
     "name": "stdout",
     "output_type": "stream",
     "text": [
      "Chemically invalid molecule! Reason: Explicit valence for atom # 0 H, 4, is greater than permitted\n"
     ]
    },
    {
     "name": "stderr",
     "output_type": "stream",
     "text": [
      "Epoch 253 Training: 100%|██████████| 1/1 [00:00<00:00, 44.40it/s]\n",
      "[16:48:02] Explicit valence for atom # 0 H, 4, is greater than permitted\n"
     ]
    },
    {
     "name": "stdout",
     "output_type": "stream",
     "text": [
      "Chemically invalid molecule! Reason: Explicit valence for atom # 0 H, 4, is greater than permitted\n"
     ]
    },
    {
     "name": "stderr",
     "output_type": "stream",
     "text": [
      "Epoch 254 Training: 100%|██████████| 1/1 [00:00<00:00, 41.12it/s]\n",
      "[16:48:02] Explicit valence for atom # 0 H, 4, is greater than permitted\n"
     ]
    },
    {
     "name": "stdout",
     "output_type": "stream",
     "text": [
      "Chemically invalid molecule! Reason: Explicit valence for atom # 0 H, 4, is greater than permitted\n"
     ]
    },
    {
     "name": "stderr",
     "output_type": "stream",
     "text": [
      "Epoch 255 Training: 100%|██████████| 1/1 [00:00<00:00, 40.24it/s]\n",
      "[16:48:02] Explicit valence for atom # 0 H, 4, is greater than permitted\n"
     ]
    },
    {
     "name": "stdout",
     "output_type": "stream",
     "text": [
      "Chemically invalid molecule! Reason: Explicit valence for atom # 0 H, 4, is greater than permitted\n"
     ]
    },
    {
     "name": "stderr",
     "output_type": "stream",
     "text": [
      "Epoch 256 Training: 100%|██████████| 1/1 [00:00<00:00, 42.06it/s]\n",
      "[16:48:02] Explicit valence for atom # 0 H, 4, is greater than permitted\n"
     ]
    },
    {
     "name": "stdout",
     "output_type": "stream",
     "text": [
      "Chemically invalid molecule! Reason: Explicit valence for atom # 0 H, 4, is greater than permitted\n"
     ]
    },
    {
     "name": "stderr",
     "output_type": "stream",
     "text": [
      "Epoch 257 Training: 100%|██████████| 1/1 [00:00<00:00, 42.64it/s]\n",
      "[16:48:02] Explicit valence for atom # 0 H, 4, is greater than permitted\n"
     ]
    },
    {
     "name": "stdout",
     "output_type": "stream",
     "text": [
      "Chemically invalid molecule! Reason: Explicit valence for atom # 0 H, 4, is greater than permitted\n"
     ]
    },
    {
     "name": "stderr",
     "output_type": "stream",
     "text": [
      "Epoch 258 Training: 100%|██████████| 1/1 [00:00<00:00, 25.67it/s]\n",
      "[16:48:02] Explicit valence for atom # 0 H, 4, is greater than permitted\n"
     ]
    },
    {
     "name": "stdout",
     "output_type": "stream",
     "text": [
      "Chemically invalid molecule! Reason: Explicit valence for atom # 0 H, 4, is greater than permitted\n"
     ]
    },
    {
     "name": "stderr",
     "output_type": "stream",
     "text": [
      "Epoch 259 Training: 100%|██████████| 1/1 [00:00<00:00, 41.75it/s]\n",
      "[16:48:03] Explicit valence for atom # 0 H, 4, is greater than permitted\n"
     ]
    },
    {
     "name": "stdout",
     "output_type": "stream",
     "text": [
      "Chemically invalid molecule! Reason: Explicit valence for atom # 0 H, 4, is greater than permitted\n"
     ]
    },
    {
     "name": "stderr",
     "output_type": "stream",
     "text": [
      "Epoch 260 Training: 100%|██████████| 1/1 [00:00<00:00, 42.37it/s]\n",
      "[16:48:03] Explicit valence for atom # 0 H, 4, is greater than permitted\n"
     ]
    },
    {
     "name": "stdout",
     "output_type": "stream",
     "text": [
      "Chemically invalid molecule! Reason: Explicit valence for atom # 0 H, 4, is greater than permitted\n"
     ]
    },
    {
     "name": "stderr",
     "output_type": "stream",
     "text": [
      "Epoch 261 Training: 100%|██████████| 1/1 [00:00<00:00, 37.91it/s]\n",
      "[16:48:03] Explicit valence for atom # 0 H, 4, is greater than permitted\n"
     ]
    },
    {
     "name": "stdout",
     "output_type": "stream",
     "text": [
      "Chemically invalid molecule! Reason: Explicit valence for atom # 0 H, 4, is greater than permitted\n"
     ]
    },
    {
     "name": "stderr",
     "output_type": "stream",
     "text": [
      "Epoch 262 Training: 100%|██████████| 1/1 [00:00<00:00, 42.50it/s]\n",
      "[16:48:03] Explicit valence for atom # 0 H, 4, is greater than permitted\n"
     ]
    },
    {
     "name": "stdout",
     "output_type": "stream",
     "text": [
      "Chemically invalid molecule! Reason: Explicit valence for atom # 0 H, 4, is greater than permitted\n"
     ]
    },
    {
     "name": "stderr",
     "output_type": "stream",
     "text": [
      "Epoch 263 Training: 100%|██████████| 1/1 [00:00<00:00, 41.34it/s]\n",
      "[16:48:03] Explicit valence for atom # 0 H, 4, is greater than permitted\n"
     ]
    },
    {
     "name": "stdout",
     "output_type": "stream",
     "text": [
      "Chemically invalid molecule! Reason: Explicit valence for atom # 0 H, 4, is greater than permitted\n"
     ]
    },
    {
     "name": "stderr",
     "output_type": "stream",
     "text": [
      "Epoch 264 Training: 100%|██████████| 1/1 [00:00<00:00, 42.73it/s]\n",
      "[16:48:03] Explicit valence for atom # 0 H, 4, is greater than permitted\n"
     ]
    },
    {
     "name": "stdout",
     "output_type": "stream",
     "text": [
      "Chemically invalid molecule! Reason: Explicit valence for atom # 0 H, 4, is greater than permitted\n"
     ]
    },
    {
     "name": "stderr",
     "output_type": "stream",
     "text": [
      "Epoch 265 Training: 100%|██████████| 1/1 [00:00<00:00, 42.29it/s]\n",
      "[16:48:03] Explicit valence for atom # 0 H, 4, is greater than permitted\n"
     ]
    },
    {
     "name": "stdout",
     "output_type": "stream",
     "text": [
      "Chemically invalid molecule! Reason: Explicit valence for atom # 0 H, 4, is greater than permitted\n"
     ]
    },
    {
     "name": "stderr",
     "output_type": "stream",
     "text": [
      "Epoch 266 Training: 100%|██████████| 1/1 [00:00<00:00, 42.84it/s]\n",
      "[16:48:03] Explicit valence for atom # 0 H, 4, is greater than permitted\n"
     ]
    },
    {
     "name": "stdout",
     "output_type": "stream",
     "text": [
      "Chemically invalid molecule! Reason: Explicit valence for atom # 0 H, 4, is greater than permitted\n"
     ]
    },
    {
     "name": "stderr",
     "output_type": "stream",
     "text": [
      "Epoch 267 Training: 100%|██████████| 1/1 [00:00<00:00, 42.94it/s]\n",
      "[16:48:03] Explicit valence for atom # 0 H, 4, is greater than permitted\n"
     ]
    },
    {
     "name": "stdout",
     "output_type": "stream",
     "text": [
      "Chemically invalid molecule! Reason: Explicit valence for atom # 0 H, 4, is greater than permitted\n"
     ]
    },
    {
     "name": "stderr",
     "output_type": "stream",
     "text": [
      "Epoch 268 Training: 100%|██████████| 1/1 [00:00<00:00, 41.98it/s]\n"
     ]
    },
    {
     "name": "stdout",
     "output_type": "stream",
     "text": [
      "Chemically invalid molecule! Reason: Explicit valence for atom # 0 H, 4, is greater than permitted\n"
     ]
    },
    {
     "name": "stderr",
     "output_type": "stream",
     "text": [
      "[16:48:03] Explicit valence for atom # 0 H, 4, is greater than permitted\n",
      "Epoch 269 Training: 100%|██████████| 1/1 [00:00<00:00, 29.98it/s]\n",
      "[16:48:03] Explicit valence for atom # 0 H, 4, is greater than permitted\n"
     ]
    },
    {
     "name": "stdout",
     "output_type": "stream",
     "text": [
      "Chemically invalid molecule! Reason: Explicit valence for atom # 0 H, 4, is greater than permitted\n"
     ]
    },
    {
     "name": "stderr",
     "output_type": "stream",
     "text": [
      "Epoch 270 Training: 100%|██████████| 1/1 [00:00<00:00, 39.93it/s]\n",
      "[16:48:03] Explicit valence for atom # 0 H, 4, is greater than permitted\n"
     ]
    },
    {
     "name": "stdout",
     "output_type": "stream",
     "text": [
      "Chemically invalid molecule! Reason: Explicit valence for atom # 0 H, 4, is greater than permitted\n"
     ]
    },
    {
     "name": "stderr",
     "output_type": "stream",
     "text": [
      "Epoch 271 Training: 100%|██████████| 1/1 [00:00<00:00, 42.99it/s]\n",
      "[16:48:03] Explicit valence for atom # 0 H, 4, is greater than permitted\n"
     ]
    },
    {
     "name": "stdout",
     "output_type": "stream",
     "text": [
      "Chemically invalid molecule! Reason: Explicit valence for atom # 0 H, 4, is greater than permitted\n"
     ]
    },
    {
     "name": "stderr",
     "output_type": "stream",
     "text": [
      "Epoch 272 Training: 100%|██████████| 1/1 [00:00<00:00, 42.84it/s]\n",
      "[16:48:03] Explicit valence for atom # 0 H, 4, is greater than permitted\n"
     ]
    },
    {
     "name": "stdout",
     "output_type": "stream",
     "text": [
      "Chemically invalid molecule! Reason: Explicit valence for atom # 0 H, 4, is greater than permitted\n"
     ]
    },
    {
     "name": "stderr",
     "output_type": "stream",
     "text": [
      "Epoch 273 Training: 100%|██████████| 1/1 [00:00<00:00, 42.17it/s]\n",
      "[16:48:04] Explicit valence for atom # 0 H, 4, is greater than permitted\n"
     ]
    },
    {
     "name": "stdout",
     "output_type": "stream",
     "text": [
      "Chemically invalid molecule! Reason: Explicit valence for atom # 0 H, 4, is greater than permitted\n"
     ]
    },
    {
     "name": "stderr",
     "output_type": "stream",
     "text": [
      "Epoch 274 Training: 100%|██████████| 1/1 [00:00<00:00, 26.16it/s]\n",
      "[16:48:04] Explicit valence for atom # 0 H, 4, is greater than permitted\n"
     ]
    },
    {
     "name": "stdout",
     "output_type": "stream",
     "text": [
      "Chemically invalid molecule! Reason: Explicit valence for atom # 0 H, 4, is greater than permitted\n"
     ]
    },
    {
     "name": "stderr",
     "output_type": "stream",
     "text": [
      "Epoch 275 Training: 100%|██████████| 1/1 [00:00<00:00, 42.13it/s]\n",
      "[16:48:04] Explicit valence for atom # 0 H, 4, is greater than permitted\n"
     ]
    },
    {
     "name": "stdout",
     "output_type": "stream",
     "text": [
      "Chemically invalid molecule! Reason: Explicit valence for atom # 0 H, 4, is greater than permitted\n"
     ]
    },
    {
     "name": "stderr",
     "output_type": "stream",
     "text": [
      "Epoch 276 Training: 100%|██████████| 1/1 [00:00<00:00, 42.90it/s]\n",
      "[16:48:04] Explicit valence for atom # 0 H, 4, is greater than permitted\n"
     ]
    },
    {
     "name": "stdout",
     "output_type": "stream",
     "text": [
      "Chemically invalid molecule! Reason: Explicit valence for atom # 0 H, 4, is greater than permitted\n"
     ]
    },
    {
     "name": "stderr",
     "output_type": "stream",
     "text": [
      "Epoch 277 Training: 100%|██████████| 1/1 [00:00<00:00, 42.72it/s]\n",
      "[16:48:04] Explicit valence for atom # 0 H, 4, is greater than permitted\n"
     ]
    },
    {
     "name": "stdout",
     "output_type": "stream",
     "text": [
      "Chemically invalid molecule! Reason: Explicit valence for atom # 0 H, 4, is greater than permitted\n"
     ]
    },
    {
     "name": "stderr",
     "output_type": "stream",
     "text": [
      "Epoch 278 Training: 100%|██████████| 1/1 [00:00<00:00, 43.30it/s]\n",
      "[16:48:04] Explicit valence for atom # 0 H, 4, is greater than permitted\n"
     ]
    },
    {
     "name": "stdout",
     "output_type": "stream",
     "text": [
      "Chemically invalid molecule! Reason: Explicit valence for atom # 0 H, 4, is greater than permitted\n"
     ]
    },
    {
     "name": "stderr",
     "output_type": "stream",
     "text": [
      "Epoch 279 Training: 100%|██████████| 1/1 [00:00<00:00, 30.36it/s]\n",
      "[16:48:04] Explicit valence for atom # 0 H, 4, is greater than permitted\n"
     ]
    },
    {
     "name": "stdout",
     "output_type": "stream",
     "text": [
      "Chemically invalid molecule! Reason: Explicit valence for atom # 0 H, 4, is greater than permitted\n"
     ]
    },
    {
     "name": "stderr",
     "output_type": "stream",
     "text": [
      "Epoch 280 Training: 100%|██████████| 1/1 [00:00<00:00, 38.02it/s]\n",
      "[16:48:04] Explicit valence for atom # 0 H, 4, is greater than permitted\n"
     ]
    },
    {
     "name": "stdout",
     "output_type": "stream",
     "text": [
      "Chemically invalid molecule! Reason: Explicit valence for atom # 0 H, 4, is greater than permitted\n"
     ]
    },
    {
     "name": "stderr",
     "output_type": "stream",
     "text": [
      "Epoch 281 Training: 100%|██████████| 1/1 [00:00<00:00, 24.85it/s]\n",
      "[16:48:04] Explicit valence for atom # 0 H, 4, is greater than permitted\n"
     ]
    },
    {
     "name": "stdout",
     "output_type": "stream",
     "text": [
      "Chemically invalid molecule! Reason: Explicit valence for atom # 0 H, 4, is greater than permitted\n"
     ]
    },
    {
     "name": "stderr",
     "output_type": "stream",
     "text": [
      "Epoch 282 Training: 100%|██████████| 1/1 [00:00<00:00, 42.77it/s]\n",
      "[16:48:04] Explicit valence for atom # 0 H, 4, is greater than permitted\n"
     ]
    },
    {
     "name": "stdout",
     "output_type": "stream",
     "text": [
      "Chemically invalid molecule! Reason: Explicit valence for atom # 0 H, 4, is greater than permitted\n"
     ]
    },
    {
     "name": "stderr",
     "output_type": "stream",
     "text": [
      "Epoch 283 Training: 100%|██████████| 1/1 [00:00<00:00, 43.11it/s]\n",
      "[16:48:04] Explicit valence for atom # 0 H, 4, is greater than permitted\n"
     ]
    },
    {
     "name": "stdout",
     "output_type": "stream",
     "text": [
      "Chemically invalid molecule! Reason: Explicit valence for atom # 0 H, 4, is greater than permitted\n"
     ]
    },
    {
     "name": "stderr",
     "output_type": "stream",
     "text": [
      "Epoch 284 Training: 100%|██████████| 1/1 [00:00<00:00, 42.48it/s]\n",
      "[16:48:04] Explicit valence for atom # 0 H, 4, is greater than permitted\n"
     ]
    },
    {
     "name": "stdout",
     "output_type": "stream",
     "text": [
      "Chemically invalid molecule! Reason: Explicit valence for atom # 0 H, 4, is greater than permitted\n"
     ]
    },
    {
     "name": "stderr",
     "output_type": "stream",
     "text": [
      "Epoch 285 Training: 100%|██████████| 1/1 [00:00<00:00, 41.82it/s]\n",
      "[16:48:04] Explicit valence for atom # 0 H, 4, is greater than permitted\n"
     ]
    },
    {
     "name": "stdout",
     "output_type": "stream",
     "text": [
      "Chemically invalid molecule! Reason: Explicit valence for atom # 0 H, 4, is greater than permitted\n"
     ]
    },
    {
     "name": "stderr",
     "output_type": "stream",
     "text": [
      "Epoch 286 Training: 100%|██████████| 1/1 [00:00<00:00, 41.61it/s]\n",
      "[16:48:05] Explicit valence for atom # 0 H, 4, is greater than permitted\n"
     ]
    },
    {
     "name": "stdout",
     "output_type": "stream",
     "text": [
      "Chemically invalid molecule! Reason: Explicit valence for atom # 0 H, 4, is greater than permitted\n"
     ]
    },
    {
     "name": "stderr",
     "output_type": "stream",
     "text": [
      "Epoch 287 Training: 100%|██████████| 1/1 [00:00<00:00, 42.80it/s]\n",
      "[16:48:05] Explicit valence for atom # 0 H, 4, is greater than permitted\n"
     ]
    },
    {
     "name": "stdout",
     "output_type": "stream",
     "text": [
      "Chemically invalid molecule! Reason: Explicit valence for atom # 0 H, 4, is greater than permitted\n"
     ]
    },
    {
     "name": "stderr",
     "output_type": "stream",
     "text": [
      "Epoch 288 Training: 100%|██████████| 1/1 [00:00<00:00, 37.96it/s]\n",
      "[16:48:05] Explicit valence for atom # 0 H, 4, is greater than permitted\n"
     ]
    },
    {
     "name": "stdout",
     "output_type": "stream",
     "text": [
      "Chemically invalid molecule! Reason: Explicit valence for atom # 0 H, 4, is greater than permitted\n"
     ]
    },
    {
     "name": "stderr",
     "output_type": "stream",
     "text": [
      "Epoch 289 Training: 100%|██████████| 1/1 [00:00<00:00, 41.22it/s]\n",
      "[16:48:05] Explicit valence for atom # 0 H, 4, is greater than permitted\n"
     ]
    },
    {
     "name": "stdout",
     "output_type": "stream",
     "text": [
      "Chemically invalid molecule! Reason: Explicit valence for atom # 0 H, 4, is greater than permitted\n"
     ]
    },
    {
     "name": "stderr",
     "output_type": "stream",
     "text": [
      "Epoch 290 Training: 100%|██████████| 1/1 [00:00<00:00, 40.82it/s]\n",
      "[16:48:05] Explicit valence for atom # 0 H, 4, is greater than permitted\n"
     ]
    },
    {
     "name": "stdout",
     "output_type": "stream",
     "text": [
      "Chemically invalid molecule! Reason: Explicit valence for atom # 0 H, 4, is greater than permitted\n"
     ]
    },
    {
     "name": "stderr",
     "output_type": "stream",
     "text": [
      "Epoch 291 Training: 100%|██████████| 1/1 [00:00<00:00, 42.47it/s]\n",
      "[16:48:05] Explicit valence for atom # 0 H, 4, is greater than permitted\n"
     ]
    },
    {
     "name": "stdout",
     "output_type": "stream",
     "text": [
      "Chemically invalid molecule! Reason: Explicit valence for atom # 0 H, 4, is greater than permitted\n"
     ]
    },
    {
     "name": "stderr",
     "output_type": "stream",
     "text": [
      "Epoch 292 Training: 100%|██████████| 1/1 [00:00<00:00, 24.68it/s]\n",
      "[16:48:05] Explicit valence for atom # 0 H, 4, is greater than permitted\n"
     ]
    },
    {
     "name": "stdout",
     "output_type": "stream",
     "text": [
      "Chemically invalid molecule! Reason: Explicit valence for atom # 0 H, 4, is greater than permitted\n"
     ]
    },
    {
     "name": "stderr",
     "output_type": "stream",
     "text": [
      "Epoch 293 Training: 100%|██████████| 1/1 [00:00<00:00, 40.24it/s]\n",
      "[16:48:05] Explicit valence for atom # 0 H, 4, is greater than permitted\n"
     ]
    },
    {
     "name": "stdout",
     "output_type": "stream",
     "text": [
      "Chemically invalid molecule! Reason: Explicit valence for atom # 0 H, 4, is greater than permitted\n"
     ]
    },
    {
     "name": "stderr",
     "output_type": "stream",
     "text": [
      "Epoch 294 Training: 100%|██████████| 1/1 [00:00<00:00, 40.61it/s]\n",
      "[16:48:05] Explicit valence for atom # 0 H, 4, is greater than permitted\n"
     ]
    },
    {
     "name": "stdout",
     "output_type": "stream",
     "text": [
      "Chemically invalid molecule! Reason: Explicit valence for atom # 0 H, 4, is greater than permitted\n"
     ]
    },
    {
     "name": "stderr",
     "output_type": "stream",
     "text": [
      "Epoch 295 Training: 100%|██████████| 1/1 [00:00<00:00, 39.22it/s]\n",
      "[16:48:05] Explicit valence for atom # 0 H, 4, is greater than permitted\n"
     ]
    },
    {
     "name": "stdout",
     "output_type": "stream",
     "text": [
      "Chemically invalid molecule! Reason: Explicit valence for atom # 0 H, 4, is greater than permitted\n"
     ]
    },
    {
     "name": "stderr",
     "output_type": "stream",
     "text": [
      "Epoch 296 Training: 100%|██████████| 1/1 [00:00<00:00, 40.08it/s]\n",
      "[16:48:05] Explicit valence for atom # 0 H, 4, is greater than permitted\n"
     ]
    },
    {
     "name": "stdout",
     "output_type": "stream",
     "text": [
      "Chemically invalid molecule! Reason: Explicit valence for atom # 0 H, 4, is greater than permitted\n"
     ]
    },
    {
     "name": "stderr",
     "output_type": "stream",
     "text": [
      "Epoch 297 Training: 100%|██████████| 1/1 [00:00<00:00, 32.39it/s]\n",
      "[16:48:05] Explicit valence for atom # 0 H, 4, is greater than permitted\n"
     ]
    },
    {
     "name": "stdout",
     "output_type": "stream",
     "text": [
      "Chemically invalid molecule! Reason: Explicit valence for atom # 0 H, 4, is greater than permitted\n"
     ]
    },
    {
     "name": "stderr",
     "output_type": "stream",
     "text": [
      "Epoch 298 Training: 100%|██████████| 1/1 [00:00<00:00, 25.61it/s]\n",
      "[16:48:05] Explicit valence for atom # 0 H, 4, is greater than permitted\n"
     ]
    },
    {
     "name": "stdout",
     "output_type": "stream",
     "text": [
      "Chemically invalid molecule! Reason: Explicit valence for atom # 0 H, 4, is greater than permitted\n"
     ]
    },
    {
     "name": "stderr",
     "output_type": "stream",
     "text": [
      "Epoch 299 Training: 100%|██████████| 1/1 [00:00<00:00, 36.21it/s]\n",
      "[16:48:06] Explicit valence for atom # 0 H, 4, is greater than permitted\n"
     ]
    },
    {
     "name": "stdout",
     "output_type": "stream",
     "text": [
      "Chemically invalid molecule! Reason: Explicit valence for atom # 0 H, 4, is greater than permitted\n"
     ]
    },
    {
     "name": "stderr",
     "output_type": "stream",
     "text": [
      "Epoch 300 Training: 100%|██████████| 1/1 [00:00<00:00, 42.12it/s]\n",
      "[16:48:06] Explicit valence for atom # 0 H, 4, is greater than permitted\n"
     ]
    },
    {
     "name": "stdout",
     "output_type": "stream",
     "text": [
      "Chemically invalid molecule! Reason: Explicit valence for atom # 0 H, 4, is greater than permitted\n"
     ]
    },
    {
     "name": "stderr",
     "output_type": "stream",
     "text": [
      "Epoch 301 Training: 100%|██████████| 1/1 [00:00<00:00,  3.10it/s]\n",
      "[16:48:06] Explicit valence for atom # 0 H, 4, is greater than permitted\n"
     ]
    },
    {
     "name": "stdout",
     "output_type": "stream",
     "text": [
      "Chemically invalid molecule! Reason: Explicit valence for atom # 0 H, 4, is greater than permitted\n"
     ]
    },
    {
     "name": "stderr",
     "output_type": "stream",
     "text": [
      "Epoch 302 Training: 100%|██████████| 1/1 [00:00<00:00, 24.13it/s]\n",
      "[16:48:06] Explicit valence for atom # 0 H, 4, is greater than permitted\n"
     ]
    },
    {
     "name": "stdout",
     "output_type": "stream",
     "text": [
      "Chemically invalid molecule! Reason: Explicit valence for atom # 0 H, 4, is greater than permitted\n"
     ]
    },
    {
     "name": "stderr",
     "output_type": "stream",
     "text": [
      "Epoch 303 Training: 100%|██████████| 1/1 [00:00<00:00, 39.25it/s]\n",
      "[16:48:06] Explicit valence for atom # 0 H, 4, is greater than permitted\n"
     ]
    },
    {
     "name": "stdout",
     "output_type": "stream",
     "text": [
      "Chemically invalid molecule! Reason: Explicit valence for atom # 0 H, 4, is greater than permitted\n"
     ]
    },
    {
     "name": "stderr",
     "output_type": "stream",
     "text": [
      "Epoch 304 Training: 100%|██████████| 1/1 [00:00<00:00, 26.38it/s]\n",
      "[16:48:06] Explicit valence for atom # 0 H, 4, is greater than permitted\n"
     ]
    },
    {
     "name": "stdout",
     "output_type": "stream",
     "text": [
      "Chemically invalid molecule! Reason: Explicit valence for atom # 0 H, 4, is greater than permitted\n"
     ]
    },
    {
     "name": "stderr",
     "output_type": "stream",
     "text": [
      "Epoch 305 Training: 100%|██████████| 1/1 [00:00<00:00, 42.57it/s]\n",
      "[16:48:06] Explicit valence for atom # 0 H, 4, is greater than permitted\n"
     ]
    },
    {
     "name": "stdout",
     "output_type": "stream",
     "text": [
      "Chemically invalid molecule! Reason: Explicit valence for atom # 0 H, 4, is greater than permitted\n"
     ]
    },
    {
     "name": "stderr",
     "output_type": "stream",
     "text": [
      "Epoch 306 Training: 100%|██████████| 1/1 [00:00<00:00, 41.54it/s]\n",
      "[16:48:06] Explicit valence for atom # 0 H, 4, is greater than permitted\n"
     ]
    },
    {
     "name": "stdout",
     "output_type": "stream",
     "text": [
      "Chemically invalid molecule! Reason: Explicit valence for atom # 0 H, 4, is greater than permitted\n"
     ]
    },
    {
     "name": "stderr",
     "output_type": "stream",
     "text": [
      "Epoch 307 Training: 100%|██████████| 1/1 [00:00<00:00, 42.37it/s]\n",
      "[16:48:06] Explicit valence for atom # 0 H, 4, is greater than permitted\n"
     ]
    },
    {
     "name": "stdout",
     "output_type": "stream",
     "text": [
      "Chemically invalid molecule! Reason: Explicit valence for atom # 0 H, 4, is greater than permitted\n"
     ]
    },
    {
     "name": "stderr",
     "output_type": "stream",
     "text": [
      "Epoch 308 Training: 100%|██████████| 1/1 [00:00<00:00, 40.97it/s]\n",
      "[16:48:07] Explicit valence for atom # 0 H, 4, is greater than permitted\n"
     ]
    },
    {
     "name": "stdout",
     "output_type": "stream",
     "text": [
      "Chemically invalid molecule! Reason: Explicit valence for atom # 0 H, 4, is greater than permitted\n"
     ]
    },
    {
     "name": "stderr",
     "output_type": "stream",
     "text": [
      "Epoch 309 Training: 100%|██████████| 1/1 [00:00<00:00, 42.11it/s]\n",
      "[16:48:07] Explicit valence for atom # 0 H, 4, is greater than permitted\n"
     ]
    },
    {
     "name": "stdout",
     "output_type": "stream",
     "text": [
      "Chemically invalid molecule! Reason: Explicit valence for atom # 0 H, 4, is greater than permitted\n"
     ]
    },
    {
     "name": "stderr",
     "output_type": "stream",
     "text": [
      "Epoch 310 Training: 100%|██████████| 1/1 [00:00<00:00, 40.98it/s]\n",
      "[16:48:07] Explicit valence for atom # 0 H, 4, is greater than permitted\n"
     ]
    },
    {
     "name": "stdout",
     "output_type": "stream",
     "text": [
      "Chemically invalid molecule! Reason: Explicit valence for atom # 0 H, 4, is greater than permitted\n"
     ]
    },
    {
     "name": "stderr",
     "output_type": "stream",
     "text": [
      "Epoch 311 Training: 100%|██████████| 1/1 [00:00<00:00, 40.86it/s]\n",
      "[16:48:07] Explicit valence for atom # 0 H, 4, is greater than permitted\n"
     ]
    },
    {
     "name": "stdout",
     "output_type": "stream",
     "text": [
      "Chemically invalid molecule! Reason: Explicit valence for atom # 0 H, 4, is greater than permitted\n"
     ]
    },
    {
     "name": "stderr",
     "output_type": "stream",
     "text": [
      "Epoch 312 Training: 100%|██████████| 1/1 [00:00<00:00, 40.48it/s]\n",
      "[16:48:07] Explicit valence for atom # 0 H, 4, is greater than permitted\n"
     ]
    },
    {
     "name": "stdout",
     "output_type": "stream",
     "text": [
      "Chemically invalid molecule! Reason: Explicit valence for atom # 0 H, 4, is greater than permitted\n"
     ]
    },
    {
     "name": "stderr",
     "output_type": "stream",
     "text": [
      "Epoch 313 Training: 100%|██████████| 1/1 [00:00<00:00, 40.06it/s]\n",
      "[16:48:07] Explicit valence for atom # 0 H, 4, is greater than permitted\n"
     ]
    },
    {
     "name": "stdout",
     "output_type": "stream",
     "text": [
      "Chemically invalid molecule! Reason: Explicit valence for atom # 0 H, 4, is greater than permitted\n"
     ]
    },
    {
     "name": "stderr",
     "output_type": "stream",
     "text": [
      "Epoch 314 Training: 100%|██████████| 1/1 [00:00<00:00, 42.06it/s]\n",
      "[16:48:07] Explicit valence for atom # 0 H, 4, is greater than permitted\n"
     ]
    },
    {
     "name": "stdout",
     "output_type": "stream",
     "text": [
      "Chemically invalid molecule! Reason: Explicit valence for atom # 0 H, 4, is greater than permitted\n"
     ]
    },
    {
     "name": "stderr",
     "output_type": "stream",
     "text": [
      "Epoch 315 Training: 100%|██████████| 1/1 [00:00<00:00, 40.14it/s]\n",
      "[16:48:07] Explicit valence for atom # 0 H, 4, is greater than permitted\n"
     ]
    },
    {
     "name": "stdout",
     "output_type": "stream",
     "text": [
      "Chemically invalid molecule! Reason: Explicit valence for atom # 0 H, 4, is greater than permitted\n"
     ]
    },
    {
     "name": "stderr",
     "output_type": "stream",
     "text": [
      "Epoch 316 Training: 100%|██████████| 1/1 [00:00<00:00, 41.78it/s]\n",
      "[16:48:07] Explicit valence for atom # 0 H, 4, is greater than permitted\n"
     ]
    },
    {
     "name": "stdout",
     "output_type": "stream",
     "text": [
      "Chemically invalid molecule! Reason: Explicit valence for atom # 0 H, 4, is greater than permitted\n"
     ]
    },
    {
     "name": "stderr",
     "output_type": "stream",
     "text": [
      "Epoch 317 Training: 100%|██████████| 1/1 [00:00<00:00, 42.21it/s]\n",
      "[16:48:07] Explicit valence for atom # 0 H, 4, is greater than permitted\n"
     ]
    },
    {
     "name": "stdout",
     "output_type": "stream",
     "text": [
      "Chemically invalid molecule! Reason: Explicit valence for atom # 0 H, 4, is greater than permitted\n"
     ]
    },
    {
     "name": "stderr",
     "output_type": "stream",
     "text": [
      "Epoch 318 Training: 100%|██████████| 1/1 [00:00<00:00, 42.63it/s]\n",
      "[16:48:07] Explicit valence for atom # 0 H, 4, is greater than permitted\n"
     ]
    },
    {
     "name": "stdout",
     "output_type": "stream",
     "text": [
      "Chemically invalid molecule! Reason: Explicit valence for atom # 0 H, 4, is greater than permitted\n"
     ]
    },
    {
     "name": "stderr",
     "output_type": "stream",
     "text": [
      "Epoch 319 Training: 100%|██████████| 1/1 [00:00<00:00, 43.20it/s]\n",
      "[16:48:07] Explicit valence for atom # 0 H, 4, is greater than permitted\n"
     ]
    },
    {
     "name": "stdout",
     "output_type": "stream",
     "text": [
      "Chemically invalid molecule! Reason: Explicit valence for atom # 0 H, 4, is greater than permitted\n"
     ]
    },
    {
     "name": "stderr",
     "output_type": "stream",
     "text": [
      "Epoch 320 Training: 100%|██████████| 1/1 [00:00<00:00, 42.23it/s]\n",
      "[16:48:07] Explicit valence for atom # 0 H, 4, is greater than permitted\n"
     ]
    },
    {
     "name": "stdout",
     "output_type": "stream",
     "text": [
      "Chemically invalid molecule! Reason: Explicit valence for atom # 0 H, 4, is greater than permitted\n"
     ]
    },
    {
     "name": "stderr",
     "output_type": "stream",
     "text": [
      "Epoch 321 Training: 100%|██████████| 1/1 [00:00<00:00, 43.28it/s]"
     ]
    },
    {
     "name": "stdout",
     "output_type": "stream",
     "text": [
      "Chemically invalid molecule! Reason: Explicit valence for atom # 0 H, 4, is greater than permitted\n"
     ]
    },
    {
     "name": "stderr",
     "output_type": "stream",
     "text": [
      "\n",
      "[16:48:07] Explicit valence for atom # 0 H, 4, is greater than permitted\n",
      "Epoch 322 Training: 100%|██████████| 1/1 [00:00<00:00, 42.72it/s]\n",
      "[16:48:07] Explicit valence for atom # 0 H, 4, is greater than permitted\n"
     ]
    },
    {
     "name": "stdout",
     "output_type": "stream",
     "text": [
      "Chemically invalid molecule! Reason: Explicit valence for atom # 0 H, 4, is greater than permitted\n"
     ]
    },
    {
     "name": "stderr",
     "output_type": "stream",
     "text": [
      "Epoch 323 Training: 100%|██████████| 1/1 [00:00<00:00, 42.52it/s]\n"
     ]
    },
    {
     "name": "stdout",
     "output_type": "stream",
     "text": [
      "Chemically invalid molecule! Reason: Explicit valence for atom # 0 H, 4, is greater than permitted\n"
     ]
    },
    {
     "name": "stderr",
     "output_type": "stream",
     "text": [
      "[16:48:08] Explicit valence for atom # 0 H, 4, is greater than permitted\n",
      "Epoch 324 Training: 100%|██████████| 1/1 [00:00<00:00, 42.24it/s]\n"
     ]
    },
    {
     "name": "stdout",
     "output_type": "stream",
     "text": [
      "Chemically invalid molecule! Reason: Explicit valence for atom # 0 H, 4, is greater than permitted\n"
     ]
    },
    {
     "name": "stderr",
     "output_type": "stream",
     "text": [
      "[16:48:08] Explicit valence for atom # 0 H, 4, is greater than permitted\n",
      "Epoch 325 Training: 100%|██████████| 1/1 [00:00<00:00, 41.63it/s]\n",
      "[16:48:08] Explicit valence for atom # 0 H, 4, is greater than permitted\n"
     ]
    },
    {
     "name": "stdout",
     "output_type": "stream",
     "text": [
      "Chemically invalid molecule! Reason: Explicit valence for atom # 0 H, 4, is greater than permitted\n"
     ]
    },
    {
     "name": "stderr",
     "output_type": "stream",
     "text": [
      "Epoch 326 Training: 100%|██████████| 1/1 [00:00<00:00, 41.41it/s]\n",
      "[16:48:08] Explicit valence for atom # 0 H, 4, is greater than permitted\n"
     ]
    },
    {
     "name": "stdout",
     "output_type": "stream",
     "text": [
      "Chemically invalid molecule! Reason: Explicit valence for atom # 0 H, 4, is greater than permitted\n"
     ]
    },
    {
     "name": "stderr",
     "output_type": "stream",
     "text": [
      "Epoch 327 Training: 100%|██████████| 1/1 [00:00<00:00, 40.37it/s]\n",
      "[16:48:08] Explicit valence for atom # 0 H, 4, is greater than permitted\n"
     ]
    },
    {
     "name": "stdout",
     "output_type": "stream",
     "text": [
      "Chemically invalid molecule! Reason: Explicit valence for atom # 0 H, 4, is greater than permitted\n"
     ]
    },
    {
     "name": "stderr",
     "output_type": "stream",
     "text": [
      "Epoch 328 Training: 100%|██████████| 1/1 [00:00<00:00, 42.80it/s]\n",
      "[16:48:08] Explicit valence for atom # 0 H, 4, is greater than permitted\n"
     ]
    },
    {
     "name": "stdout",
     "output_type": "stream",
     "text": [
      "Chemically invalid molecule! Reason: Explicit valence for atom # 0 H, 4, is greater than permitted\n"
     ]
    },
    {
     "name": "stderr",
     "output_type": "stream",
     "text": [
      "Epoch 329 Training: 100%|██████████| 1/1 [00:00<00:00, 43.23it/s]\n",
      "[16:48:08] Explicit valence for atom # 0 H, 4, is greater than permitted\n"
     ]
    },
    {
     "name": "stdout",
     "output_type": "stream",
     "text": [
      "Chemically invalid molecule! Reason: Explicit valence for atom # 0 H, 4, is greater than permitted\n"
     ]
    },
    {
     "name": "stderr",
     "output_type": "stream",
     "text": [
      "Epoch 330 Training: 100%|██████████| 1/1 [00:00<00:00, 42.14it/s]\n",
      "[16:48:08] Explicit valence for atom # 0 H, 4, is greater than permitted\n"
     ]
    },
    {
     "name": "stdout",
     "output_type": "stream",
     "text": [
      "Chemically invalid molecule! Reason: Explicit valence for atom # 0 H, 4, is greater than permitted\n"
     ]
    },
    {
     "name": "stderr",
     "output_type": "stream",
     "text": [
      "Epoch 331 Training: 100%|██████████| 1/1 [00:00<00:00, 42.34it/s]\n",
      "[16:48:08] Explicit valence for atom # 0 H, 4, is greater than permitted\n"
     ]
    },
    {
     "name": "stdout",
     "output_type": "stream",
     "text": [
      "Chemically invalid molecule! Reason: Explicit valence for atom # 0 H, 4, is greater than permitted\n"
     ]
    },
    {
     "name": "stderr",
     "output_type": "stream",
     "text": [
      "Epoch 332 Training: 100%|██████████| 1/1 [00:00<00:00, 40.97it/s]"
     ]
    },
    {
     "name": "stdout",
     "output_type": "stream",
     "text": [
      "Chemically invalid molecule! Reason: Explicit valence for atom # 0 H, 4, is greater than permitted\n"
     ]
    },
    {
     "name": "stderr",
     "output_type": "stream",
     "text": [
      "\n",
      "[16:48:08] Explicit valence for atom # 0 H, 4, is greater than permitted\n",
      "Epoch 333 Training: 100%|██████████| 1/1 [00:00<00:00, 38.67it/s]\n",
      "[16:48:08] Explicit valence for atom # 0 H, 4, is greater than permitted\n"
     ]
    },
    {
     "name": "stdout",
     "output_type": "stream",
     "text": [
      "Chemically invalid molecule! Reason: Explicit valence for atom # 0 H, 4, is greater than permitted\n"
     ]
    },
    {
     "name": "stderr",
     "output_type": "stream",
     "text": [
      "Epoch 334 Training: 100%|██████████| 1/1 [00:00<00:00, 40.99it/s]\n",
      "[16:48:08] Explicit valence for atom # 0 H, 4, is greater than permitted\n"
     ]
    },
    {
     "name": "stdout",
     "output_type": "stream",
     "text": [
      "Chemically invalid molecule! Reason: Explicit valence for atom # 0 H, 4, is greater than permitted\n"
     ]
    },
    {
     "name": "stderr",
     "output_type": "stream",
     "text": [
      "Epoch 335 Training: 100%|██████████| 1/1 [00:00<00:00, 40.53it/s]\n",
      "[16:48:08] Explicit valence for atom # 0 H, 4, is greater than permitted\n"
     ]
    },
    {
     "name": "stdout",
     "output_type": "stream",
     "text": [
      "Chemically invalid molecule! Reason: Explicit valence for atom # 0 H, 4, is greater than permitted\n"
     ]
    },
    {
     "name": "stderr",
     "output_type": "stream",
     "text": [
      "Epoch 336 Training: 100%|██████████| 1/1 [00:00<00:00, 41.72it/s]\n",
      "[16:48:08] Explicit valence for atom # 0 H, 4, is greater than permitted\n"
     ]
    },
    {
     "name": "stdout",
     "output_type": "stream",
     "text": [
      "Chemically invalid molecule! Reason: Explicit valence for atom # 0 H, 4, is greater than permitted\n"
     ]
    },
    {
     "name": "stderr",
     "output_type": "stream",
     "text": [
      "Epoch 337 Training: 100%|██████████| 1/1 [00:00<00:00, 40.17it/s]\n",
      "[16:48:09] Explicit valence for atom # 0 H, 4, is greater than permitted\n"
     ]
    },
    {
     "name": "stdout",
     "output_type": "stream",
     "text": [
      "Chemically invalid molecule! Reason: Explicit valence for atom # 0 H, 4, is greater than permitted\n"
     ]
    },
    {
     "name": "stderr",
     "output_type": "stream",
     "text": [
      "Epoch 338 Training: 100%|██████████| 1/1 [00:00<00:00, 42.27it/s]\n",
      "[16:48:09] Explicit valence for atom # 0 H, 4, is greater than permitted\n"
     ]
    },
    {
     "name": "stdout",
     "output_type": "stream",
     "text": [
      "Chemically invalid molecule! Reason: Explicit valence for atom # 0 H, 4, is greater than permitted\n"
     ]
    },
    {
     "name": "stderr",
     "output_type": "stream",
     "text": [
      "Epoch 339 Training: 100%|██████████| 1/1 [00:00<00:00, 42.53it/s]\n",
      "[16:48:09] Explicit valence for atom # 0 H, 4, is greater than permitted\n"
     ]
    },
    {
     "name": "stdout",
     "output_type": "stream",
     "text": [
      "Chemically invalid molecule! Reason: Explicit valence for atom # 0 H, 4, is greater than permitted\n"
     ]
    },
    {
     "name": "stderr",
     "output_type": "stream",
     "text": [
      "Epoch 340 Training: 100%|██████████| 1/1 [00:00<00:00, 43.09it/s]\n",
      "[16:48:09] Explicit valence for atom # 0 H, 4, is greater than permitted\n"
     ]
    },
    {
     "name": "stdout",
     "output_type": "stream",
     "text": [
      "Chemically invalid molecule! Reason: Explicit valence for atom # 0 H, 4, is greater than permitted\n"
     ]
    },
    {
     "name": "stderr",
     "output_type": "stream",
     "text": [
      "Epoch 341 Training: 100%|██████████| 1/1 [00:00<00:00, 35.56it/s]\n",
      "[16:48:09] Explicit valence for atom # 0 H, 4, is greater than permitted\n"
     ]
    },
    {
     "name": "stdout",
     "output_type": "stream",
     "text": [
      "Chemically invalid molecule! Reason: Explicit valence for atom # 0 H, 4, is greater than permitted\n"
     ]
    },
    {
     "name": "stderr",
     "output_type": "stream",
     "text": [
      "Epoch 342 Training: 100%|██████████| 1/1 [00:00<00:00, 41.27it/s]\n",
      "[16:48:09] Explicit valence for atom # 0 H, 4, is greater than permitted\n"
     ]
    },
    {
     "name": "stdout",
     "output_type": "stream",
     "text": [
      "Chemically invalid molecule! Reason: Explicit valence for atom # 0 H, 4, is greater than permitted\n"
     ]
    },
    {
     "name": "stderr",
     "output_type": "stream",
     "text": [
      "Epoch 343 Training: 100%|██████████| 1/1 [00:00<00:00, 41.75it/s]\n",
      "[16:48:09] Explicit valence for atom # 0 H, 4, is greater than permitted\n"
     ]
    },
    {
     "name": "stdout",
     "output_type": "stream",
     "text": [
      "Chemically invalid molecule! Reason: Explicit valence for atom # 0 H, 4, is greater than permitted\n"
     ]
    },
    {
     "name": "stderr",
     "output_type": "stream",
     "text": [
      "Epoch 344 Training: 100%|██████████| 1/1 [00:00<00:00, 26.00it/s]\n",
      "[16:48:09] Explicit valence for atom # 0 H, 4, is greater than permitted\n"
     ]
    },
    {
     "name": "stdout",
     "output_type": "stream",
     "text": [
      "Chemically invalid molecule! Reason: Explicit valence for atom # 0 H, 4, is greater than permitted\n"
     ]
    },
    {
     "name": "stderr",
     "output_type": "stream",
     "text": [
      "Epoch 345 Training: 100%|██████████| 1/1 [00:00<00:00, 25.02it/s]\n",
      "[16:48:09] Explicit valence for atom # 0 H, 4, is greater than permitted\n"
     ]
    },
    {
     "name": "stdout",
     "output_type": "stream",
     "text": [
      "Chemically invalid molecule! Reason: Explicit valence for atom # 0 H, 4, is greater than permitted\n"
     ]
    },
    {
     "name": "stderr",
     "output_type": "stream",
     "text": [
      "Epoch 346 Training: 100%|██████████| 1/1 [00:00<00:00, 39.29it/s]\n",
      "[16:48:09] Explicit valence for atom # 0 H, 4, is greater than permitted\n"
     ]
    },
    {
     "name": "stdout",
     "output_type": "stream",
     "text": [
      "Chemically invalid molecule! Reason: Explicit valence for atom # 0 H, 4, is greater than permitted\n"
     ]
    },
    {
     "name": "stderr",
     "output_type": "stream",
     "text": [
      "Epoch 347 Training: 100%|██████████| 1/1 [00:00<00:00, 41.80it/s]\n",
      "[16:48:09] Explicit valence for atom # 0 H, 4, is greater than permitted\n"
     ]
    },
    {
     "name": "stdout",
     "output_type": "stream",
     "text": [
      "Chemically invalid molecule! Reason: Explicit valence for atom # 0 H, 4, is greater than permitted\n"
     ]
    },
    {
     "name": "stderr",
     "output_type": "stream",
     "text": [
      "Epoch 348 Training: 100%|██████████| 1/1 [00:00<00:00, 39.58it/s]\n",
      "[16:48:09] Explicit valence for atom # 0 H, 4, is greater than permitted\n"
     ]
    },
    {
     "name": "stdout",
     "output_type": "stream",
     "text": [
      "Chemically invalid molecule! Reason: Explicit valence for atom # 0 H, 4, is greater than permitted\n"
     ]
    },
    {
     "name": "stderr",
     "output_type": "stream",
     "text": [
      "Epoch 349 Training: 100%|██████████| 1/1 [00:00<00:00, 38.27it/s]\n",
      "[16:48:09] Explicit valence for atom # 0 H, 4, is greater than permitted\n"
     ]
    },
    {
     "name": "stdout",
     "output_type": "stream",
     "text": [
      "Chemically invalid molecule! Reason: Explicit valence for atom # 0 H, 4, is greater than permitted\n"
     ]
    },
    {
     "name": "stderr",
     "output_type": "stream",
     "text": [
      "Epoch 350 Training: 100%|██████████| 1/1 [00:00<00:00, 41.27it/s]\n",
      "[16:48:09] Explicit valence for atom # 0 H, 4, is greater than permitted\n"
     ]
    },
    {
     "name": "stdout",
     "output_type": "stream",
     "text": [
      "Chemically invalid molecule! Reason: Explicit valence for atom # 0 H, 4, is greater than permitted\n"
     ]
    },
    {
     "name": "stderr",
     "output_type": "stream",
     "text": [
      "Epoch 351 Training: 100%|██████████| 1/1 [00:00<00:00, 41.81it/s]\n",
      "[16:48:10] Explicit valence for atom # 0 H, 4, is greater than permitted\n"
     ]
    },
    {
     "name": "stdout",
     "output_type": "stream",
     "text": [
      "Chemically invalid molecule! Reason: Explicit valence for atom # 0 H, 4, is greater than permitted\n"
     ]
    },
    {
     "name": "stderr",
     "output_type": "stream",
     "text": [
      "Epoch 352 Training: 100%|██████████| 1/1 [00:00<00:00, 40.03it/s]\n",
      "[16:48:10] Explicit valence for atom # 0 H, 4, is greater than permitted\n"
     ]
    },
    {
     "name": "stdout",
     "output_type": "stream",
     "text": [
      "Chemically invalid molecule! Reason: Explicit valence for atom # 0 H, 4, is greater than permitted\n"
     ]
    },
    {
     "name": "stderr",
     "output_type": "stream",
     "text": [
      "Epoch 353 Training: 100%|██████████| 1/1 [00:00<00:00, 41.47it/s]\n",
      "[16:48:10] Explicit valence for atom # 0 H, 4, is greater than permitted\n"
     ]
    },
    {
     "name": "stdout",
     "output_type": "stream",
     "text": [
      "Chemically invalid molecule! Reason: Explicit valence for atom # 0 H, 4, is greater than permitted\n"
     ]
    },
    {
     "name": "stderr",
     "output_type": "stream",
     "text": [
      "Epoch 354 Training: 100%|██████████| 1/1 [00:00<00:00, 40.23it/s]\n",
      "[16:48:10] Explicit valence for atom # 0 H, 4, is greater than permitted\n"
     ]
    },
    {
     "name": "stdout",
     "output_type": "stream",
     "text": [
      "Chemically invalid molecule! Reason: Explicit valence for atom # 0 H, 4, is greater than permitted\n"
     ]
    },
    {
     "name": "stderr",
     "output_type": "stream",
     "text": [
      "Epoch 355 Training: 100%|██████████| 1/1 [00:00<00:00, 39.70it/s]\n",
      "[16:48:10] Explicit valence for atom # 0 H, 4, is greater than permitted\n"
     ]
    },
    {
     "name": "stdout",
     "output_type": "stream",
     "text": [
      "Chemically invalid molecule! Reason: Explicit valence for atom # 0 H, 4, is greater than permitted\n"
     ]
    },
    {
     "name": "stderr",
     "output_type": "stream",
     "text": [
      "Epoch 356 Training: 100%|██████████| 1/1 [00:00<00:00, 42.02it/s]\n",
      "[16:48:10] Explicit valence for atom # 0 H, 4, is greater than permitted\n"
     ]
    },
    {
     "name": "stdout",
     "output_type": "stream",
     "text": [
      "Chemically invalid molecule! Reason: Explicit valence for atom # 0 H, 4, is greater than permitted\n"
     ]
    },
    {
     "name": "stderr",
     "output_type": "stream",
     "text": [
      "Epoch 357 Training: 100%|██████████| 1/1 [00:00<00:00, 42.11it/s]\n",
      "[16:48:10] Explicit valence for atom # 0 H, 4, is greater than permitted\n"
     ]
    },
    {
     "name": "stdout",
     "output_type": "stream",
     "text": [
      "Chemically invalid molecule! Reason: Explicit valence for atom # 0 H, 4, is greater than permitted\n"
     ]
    },
    {
     "name": "stderr",
     "output_type": "stream",
     "text": [
      "Epoch 358 Training: 100%|██████████| 1/1 [00:00<00:00, 41.58it/s]\n",
      "[16:48:10] Explicit valence for atom # 0 H, 4, is greater than permitted\n"
     ]
    },
    {
     "name": "stdout",
     "output_type": "stream",
     "text": [
      "Chemically invalid molecule! Reason: Explicit valence for atom # 0 H, 4, is greater than permitted\n"
     ]
    },
    {
     "name": "stderr",
     "output_type": "stream",
     "text": [
      "Epoch 359 Training: 100%|██████████| 1/1 [00:00<00:00, 39.20it/s]\n",
      "[16:48:10] Explicit valence for atom # 0 H, 4, is greater than permitted\n"
     ]
    },
    {
     "name": "stdout",
     "output_type": "stream",
     "text": [
      "Chemically invalid molecule! Reason: Explicit valence for atom # 0 H, 4, is greater than permitted\n"
     ]
    },
    {
     "name": "stderr",
     "output_type": "stream",
     "text": [
      "Epoch 360 Training: 100%|██████████| 1/1 [00:00<00:00, 42.60it/s]\n",
      "[16:48:10] Explicit valence for atom # 0 H, 4, is greater than permitted\n"
     ]
    },
    {
     "name": "stdout",
     "output_type": "stream",
     "text": [
      "Chemically invalid molecule! Reason: Explicit valence for atom # 0 H, 4, is greater than permitted\n"
     ]
    },
    {
     "name": "stderr",
     "output_type": "stream",
     "text": [
      "Epoch 361 Training: 100%|██████████| 1/1 [00:00<00:00, 24.64it/s]\n",
      "[16:48:10] Explicit valence for atom # 0 H, 4, is greater than permitted\n"
     ]
    },
    {
     "name": "stdout",
     "output_type": "stream",
     "text": [
      "Chemically invalid molecule! Reason: Explicit valence for atom # 0 H, 4, is greater than permitted\n"
     ]
    },
    {
     "name": "stderr",
     "output_type": "stream",
     "text": [
      "Epoch 362 Training: 100%|██████████| 1/1 [00:00<00:00, 41.37it/s]\n",
      "[16:48:10] Explicit valence for atom # 0 H, 4, is greater than permitted\n"
     ]
    },
    {
     "name": "stdout",
     "output_type": "stream",
     "text": [
      "Chemically invalid molecule! Reason: Explicit valence for atom # 0 H, 4, is greater than permitted\n"
     ]
    },
    {
     "name": "stderr",
     "output_type": "stream",
     "text": [
      "Epoch 363 Training: 100%|██████████| 1/1 [00:00<00:00, 39.17it/s]\n",
      "[16:48:10] Explicit valence for atom # 0 H, 4, is greater than permitted\n"
     ]
    },
    {
     "name": "stdout",
     "output_type": "stream",
     "text": [
      "Chemically invalid molecule! Reason: Explicit valence for atom # 0 H, 4, is greater than permitted\n"
     ]
    },
    {
     "name": "stderr",
     "output_type": "stream",
     "text": [
      "Epoch 364 Training: 100%|██████████| 1/1 [00:00<00:00, 37.26it/s]\n",
      "[16:48:11] Explicit valence for atom # 0 H, 4, is greater than permitted\n"
     ]
    },
    {
     "name": "stdout",
     "output_type": "stream",
     "text": [
      "Chemically invalid molecule! Reason: Explicit valence for atom # 0 H, 4, is greater than permitted\n"
     ]
    },
    {
     "name": "stderr",
     "output_type": "stream",
     "text": [
      "Epoch 365 Training: 100%|██████████| 1/1 [00:00<00:00, 39.96it/s]\n",
      "[16:48:11] Explicit valence for atom # 0 H, 4, is greater than permitted\n"
     ]
    },
    {
     "name": "stdout",
     "output_type": "stream",
     "text": [
      "Chemically invalid molecule! Reason: Explicit valence for atom # 0 H, 4, is greater than permitted\n"
     ]
    },
    {
     "name": "stderr",
     "output_type": "stream",
     "text": [
      "Epoch 366 Training: 100%|██████████| 1/1 [00:00<00:00, 38.48it/s]\n",
      "[16:48:11] Explicit valence for atom # 0 H, 4, is greater than permitted\n"
     ]
    },
    {
     "name": "stdout",
     "output_type": "stream",
     "text": [
      "Chemically invalid molecule! Reason: Explicit valence for atom # 0 H, 4, is greater than permitted\n"
     ]
    },
    {
     "name": "stderr",
     "output_type": "stream",
     "text": [
      "Epoch 367 Training: 100%|██████████| 1/1 [00:00<00:00, 39.92it/s]\n",
      "[16:48:11] Explicit valence for atom # 0 H, 4, is greater than permitted\n"
     ]
    },
    {
     "name": "stdout",
     "output_type": "stream",
     "text": [
      "Chemically invalid molecule! Reason: Explicit valence for atom # 0 H, 4, is greater than permitted\n"
     ]
    },
    {
     "name": "stderr",
     "output_type": "stream",
     "text": [
      "Epoch 368 Training: 100%|██████████| 1/1 [00:00<00:00, 41.63it/s]\n",
      "[16:48:11] Explicit valence for atom # 0 H, 4, is greater than permitted\n"
     ]
    },
    {
     "name": "stdout",
     "output_type": "stream",
     "text": [
      "Chemically invalid molecule! Reason: Explicit valence for atom # 0 H, 4, is greater than permitted\n"
     ]
    },
    {
     "name": "stderr",
     "output_type": "stream",
     "text": [
      "Epoch 369 Training: 100%|██████████| 1/1 [00:00<00:00, 24.50it/s]\n",
      "[16:48:11] Explicit valence for atom # 0 H, 4, is greater than permitted\n"
     ]
    },
    {
     "name": "stdout",
     "output_type": "stream",
     "text": [
      "Chemically invalid molecule! Reason: Explicit valence for atom # 0 H, 4, is greater than permitted\n"
     ]
    },
    {
     "name": "stderr",
     "output_type": "stream",
     "text": [
      "Epoch 370 Training: 100%|██████████| 1/1 [00:00<00:00, 39.90it/s]\n",
      "[16:48:11] Explicit valence for atom # 0 H, 4, is greater than permitted\n"
     ]
    },
    {
     "name": "stdout",
     "output_type": "stream",
     "text": [
      "Chemically invalid molecule! Reason: Explicit valence for atom # 0 H, 4, is greater than permitted\n"
     ]
    },
    {
     "name": "stderr",
     "output_type": "stream",
     "text": [
      "Epoch 371 Training: 100%|██████████| 1/1 [00:00<00:00, 37.92it/s]\n",
      "[16:48:11] Explicit valence for atom # 0 H, 4, is greater than permitted\n"
     ]
    },
    {
     "name": "stdout",
     "output_type": "stream",
     "text": [
      "Chemically invalid molecule! Reason: Explicit valence for atom # 0 H, 4, is greater than permitted\n"
     ]
    },
    {
     "name": "stderr",
     "output_type": "stream",
     "text": [
      "Epoch 372 Training: 100%|██████████| 1/1 [00:00<00:00, 38.41it/s]\n",
      "[16:48:11] Explicit valence for atom # 0 H, 4, is greater than permitted\n"
     ]
    },
    {
     "name": "stdout",
     "output_type": "stream",
     "text": [
      "Chemically invalid molecule! Reason: Explicit valence for atom # 0 H, 4, is greater than permitted\n"
     ]
    },
    {
     "name": "stderr",
     "output_type": "stream",
     "text": [
      "Epoch 373 Training: 100%|██████████| 1/1 [00:00<00:00, 39.08it/s]\n",
      "[16:48:11] Explicit valence for atom # 0 H, 4, is greater than permitted\n"
     ]
    },
    {
     "name": "stdout",
     "output_type": "stream",
     "text": [
      "Chemically invalid molecule! Reason: Explicit valence for atom # 0 H, 4, is greater than permitted\n"
     ]
    },
    {
     "name": "stderr",
     "output_type": "stream",
     "text": [
      "Epoch 374 Training: 100%|██████████| 1/1 [00:00<00:00, 40.56it/s]\n",
      "[16:48:11] Explicit valence for atom # 0 H, 4, is greater than permitted\n"
     ]
    },
    {
     "name": "stdout",
     "output_type": "stream",
     "text": [
      "Chemically invalid molecule! Reason: Explicit valence for atom # 0 H, 4, is greater than permitted\n"
     ]
    },
    {
     "name": "stderr",
     "output_type": "stream",
     "text": [
      "Epoch 375 Training: 100%|██████████| 1/1 [00:00<00:00, 40.46it/s]\n",
      "[16:48:11] Explicit valence for atom # 0 H, 4, is greater than permitted\n"
     ]
    },
    {
     "name": "stdout",
     "output_type": "stream",
     "text": [
      "Chemically invalid molecule! Reason: Explicit valence for atom # 0 H, 4, is greater than permitted\n"
     ]
    },
    {
     "name": "stderr",
     "output_type": "stream",
     "text": [
      "Epoch 376 Training: 100%|██████████| 1/1 [00:00<00:00, 41.05it/s]\n",
      "[16:48:11] Explicit valence for atom # 0 H, 4, is greater than permitted\n"
     ]
    },
    {
     "name": "stdout",
     "output_type": "stream",
     "text": [
      "Chemically invalid molecule! Reason: Explicit valence for atom # 0 H, 4, is greater than permitted\n"
     ]
    },
    {
     "name": "stderr",
     "output_type": "stream",
     "text": [
      "Epoch 377 Training: 100%|██████████| 1/1 [00:00<00:00, 40.87it/s]\n",
      "[16:48:11] Explicit valence for atom # 0 H, 4, is greater than permitted\n"
     ]
    },
    {
     "name": "stdout",
     "output_type": "stream",
     "text": [
      "Chemically invalid molecule! Reason: Explicit valence for atom # 0 H, 4, is greater than permitted\n"
     ]
    },
    {
     "name": "stderr",
     "output_type": "stream",
     "text": [
      "Epoch 378 Training: 100%|██████████| 1/1 [00:00<00:00, 41.68it/s]\n",
      "[16:48:12] Explicit valence for atom # 0 H, 4, is greater than permitted\n"
     ]
    },
    {
     "name": "stdout",
     "output_type": "stream",
     "text": [
      "Chemically invalid molecule! Reason: Explicit valence for atom # 0 H, 4, is greater than permitted\n"
     ]
    },
    {
     "name": "stderr",
     "output_type": "stream",
     "text": [
      "Epoch 379 Training: 100%|██████████| 1/1 [00:00<00:00, 41.74it/s]\n",
      "[16:48:12] Explicit valence for atom # 0 H, 4, is greater than permitted\n"
     ]
    },
    {
     "name": "stdout",
     "output_type": "stream",
     "text": [
      "Chemically invalid molecule! Reason: Explicit valence for atom # 0 H, 4, is greater than permitted\n"
     ]
    },
    {
     "name": "stderr",
     "output_type": "stream",
     "text": [
      "Epoch 380 Training: 100%|██████████| 1/1 [00:00<00:00, 41.88it/s]\n",
      "[16:48:12] Explicit valence for atom # 0 H, 4, is greater than permitted\n"
     ]
    },
    {
     "name": "stdout",
     "output_type": "stream",
     "text": [
      "Chemically invalid molecule! Reason: Explicit valence for atom # 0 H, 4, is greater than permitted\n"
     ]
    },
    {
     "name": "stderr",
     "output_type": "stream",
     "text": [
      "Epoch 381 Training: 100%|██████████| 1/1 [00:00<00:00, 42.18it/s]\n",
      "[16:48:12] Explicit valence for atom # 0 H, 4, is greater than permitted\n"
     ]
    },
    {
     "name": "stdout",
     "output_type": "stream",
     "text": [
      "Chemically invalid molecule! Reason: Explicit valence for atom # 0 H, 4, is greater than permitted\n"
     ]
    },
    {
     "name": "stderr",
     "output_type": "stream",
     "text": [
      "Epoch 382 Training: 100%|██████████| 1/1 [00:00<00:00, 39.94it/s]\n",
      "[16:48:12] Explicit valence for atom # 0 H, 4, is greater than permitted\n"
     ]
    },
    {
     "name": "stdout",
     "output_type": "stream",
     "text": [
      "Chemically invalid molecule! Reason: Explicit valence for atom # 0 H, 4, is greater than permitted\n"
     ]
    },
    {
     "name": "stderr",
     "output_type": "stream",
     "text": [
      "Epoch 383 Training: 100%|██████████| 1/1 [00:00<00:00, 40.99it/s]\n",
      "[16:48:12] Explicit valence for atom # 0 H, 4, is greater than permitted\n"
     ]
    },
    {
     "name": "stdout",
     "output_type": "stream",
     "text": [
      "Chemically invalid molecule! Reason: Explicit valence for atom # 0 H, 4, is greater than permitted\n"
     ]
    },
    {
     "name": "stderr",
     "output_type": "stream",
     "text": [
      "Epoch 384 Training: 100%|██████████| 1/1 [00:00<00:00, 32.49it/s]\n",
      "[16:48:12] Explicit valence for atom # 0 H, 4, is greater than permitted\n"
     ]
    },
    {
     "name": "stdout",
     "output_type": "stream",
     "text": [
      "Chemically invalid molecule! Reason: Explicit valence for atom # 0 H, 4, is greater than permitted\n"
     ]
    },
    {
     "name": "stderr",
     "output_type": "stream",
     "text": [
      "Epoch 385 Training: 100%|██████████| 1/1 [00:00<00:00, 41.01it/s]\n",
      "[16:48:12] Explicit valence for atom # 0 H, 4, is greater than permitted\n"
     ]
    },
    {
     "name": "stdout",
     "output_type": "stream",
     "text": [
      "Chemically invalid molecule! Reason: Explicit valence for atom # 0 H, 4, is greater than permitted\n"
     ]
    },
    {
     "name": "stderr",
     "output_type": "stream",
     "text": [
      "Epoch 386 Training: 100%|██████████| 1/1 [00:00<00:00, 41.76it/s]\n",
      "[16:48:12] Explicit valence for atom # 0 H, 4, is greater than permitted\n"
     ]
    },
    {
     "name": "stdout",
     "output_type": "stream",
     "text": [
      "Chemically invalid molecule! Reason: Explicit valence for atom # 0 H, 4, is greater than permitted\n"
     ]
    },
    {
     "name": "stderr",
     "output_type": "stream",
     "text": [
      "Epoch 387 Training: 100%|██████████| 1/1 [00:00<00:00, 41.93it/s]\n",
      "[16:48:12] Explicit valence for atom # 0 H, 4, is greater than permitted\n"
     ]
    },
    {
     "name": "stdout",
     "output_type": "stream",
     "text": [
      "Chemically invalid molecule! Reason: Explicit valence for atom # 0 H, 4, is greater than permitted\n"
     ]
    },
    {
     "name": "stderr",
     "output_type": "stream",
     "text": [
      "Epoch 388 Training: 100%|██████████| 1/1 [00:00<00:00, 42.34it/s]\n",
      "[16:48:12] Explicit valence for atom # 0 H, 4, is greater than permitted\n"
     ]
    },
    {
     "name": "stdout",
     "output_type": "stream",
     "text": [
      "Chemically invalid molecule! Reason: Explicit valence for atom # 0 H, 4, is greater than permitted\n"
     ]
    },
    {
     "name": "stderr",
     "output_type": "stream",
     "text": [
      "Epoch 389 Training: 100%|██████████| 1/1 [00:00<00:00, 42.23it/s]\n",
      "[16:48:12] Explicit valence for atom # 0 H, 4, is greater than permitted\n"
     ]
    },
    {
     "name": "stdout",
     "output_type": "stream",
     "text": [
      "Chemically invalid molecule! Reason: Explicit valence for atom # 0 H, 4, is greater than permitted\n"
     ]
    },
    {
     "name": "stderr",
     "output_type": "stream",
     "text": [
      "Epoch 390 Training: 100%|██████████| 1/1 [00:00<00:00, 42.45it/s]\n",
      "[16:48:12] Explicit valence for atom # 0 H, 4, is greater than permitted\n"
     ]
    },
    {
     "name": "stdout",
     "output_type": "stream",
     "text": [
      "Chemically invalid molecule! Reason: Explicit valence for atom # 0 H, 4, is greater than permitted\n"
     ]
    },
    {
     "name": "stderr",
     "output_type": "stream",
     "text": [
      "Epoch 391 Training: 100%|██████████| 1/1 [00:00<00:00, 42.86it/s]\n",
      "[16:48:12] Explicit valence for atom # 0 H, 4, is greater than permitted\n"
     ]
    },
    {
     "name": "stdout",
     "output_type": "stream",
     "text": [
      "Chemically invalid molecule! Reason: Explicit valence for atom # 0 H, 4, is greater than permitted\n"
     ]
    },
    {
     "name": "stderr",
     "output_type": "stream",
     "text": [
      "Epoch 392 Training: 100%|██████████| 1/1 [00:00<00:00, 42.55it/s]\n",
      "[16:48:12] Explicit valence for atom # 0 H, 4, is greater than permitted\n"
     ]
    },
    {
     "name": "stdout",
     "output_type": "stream",
     "text": [
      "Chemically invalid molecule! Reason: Explicit valence for atom # 0 H, 4, is greater than permitted\n"
     ]
    },
    {
     "name": "stderr",
     "output_type": "stream",
     "text": [
      "Epoch 393 Training: 100%|██████████| 1/1 [00:00<00:00, 40.94it/s]\n",
      "[16:48:12] Explicit valence for atom # 0 H, 4, is greater than permitted\n"
     ]
    },
    {
     "name": "stdout",
     "output_type": "stream",
     "text": [
      "Chemically invalid molecule! Reason: Explicit valence for atom # 0 H, 4, is greater than permitted\n"
     ]
    },
    {
     "name": "stderr",
     "output_type": "stream",
     "text": [
      "Epoch 394 Training: 100%|██████████| 1/1 [00:00<00:00, 41.21it/s]\n",
      "[16:48:13] Explicit valence for atom # 0 H, 4, is greater than permitted\n"
     ]
    },
    {
     "name": "stdout",
     "output_type": "stream",
     "text": [
      "Chemically invalid molecule! Reason: Explicit valence for atom # 0 H, 4, is greater than permitted\n"
     ]
    },
    {
     "name": "stderr",
     "output_type": "stream",
     "text": [
      "Epoch 395 Training: 100%|██████████| 1/1 [00:00<00:00, 42.69it/s]\n",
      "[16:48:13] Explicit valence for atom # 0 H, 4, is greater than permitted\n"
     ]
    },
    {
     "name": "stdout",
     "output_type": "stream",
     "text": [
      "Chemically invalid molecule! Reason: Explicit valence for atom # 0 H, 4, is greater than permitted\n"
     ]
    },
    {
     "name": "stderr",
     "output_type": "stream",
     "text": [
      "Epoch 396 Training: 100%|██████████| 1/1 [00:00<00:00, 39.35it/s]\n",
      "[16:48:13] Explicit valence for atom # 0 H, 4, is greater than permitted\n"
     ]
    },
    {
     "name": "stdout",
     "output_type": "stream",
     "text": [
      "Chemically invalid molecule! Reason: Explicit valence for atom # 0 H, 4, is greater than permitted\n"
     ]
    },
    {
     "name": "stderr",
     "output_type": "stream",
     "text": [
      "Epoch 397 Training: 100%|██████████| 1/1 [00:00<00:00, 41.84it/s]\n",
      "[16:48:13] Explicit valence for atom # 0 H, 4, is greater than permitted\n"
     ]
    },
    {
     "name": "stdout",
     "output_type": "stream",
     "text": [
      "Chemically invalid molecule! Reason: Explicit valence for atom # 0 H, 4, is greater than permitted\n"
     ]
    },
    {
     "name": "stderr",
     "output_type": "stream",
     "text": [
      "Epoch 398 Training: 100%|██████████| 1/1 [00:00<00:00, 42.32it/s]\n",
      "[16:48:13] Explicit valence for atom # 0 H, 4, is greater than permitted\n"
     ]
    },
    {
     "name": "stdout",
     "output_type": "stream",
     "text": [
      "Chemically invalid molecule! Reason: Explicit valence for atom # 0 H, 4, is greater than permitted\n"
     ]
    },
    {
     "name": "stderr",
     "output_type": "stream",
     "text": [
      "Epoch 399 Training: 100%|██████████| 1/1 [00:00<00:00, 41.73it/s]\n",
      "[16:48:13] Explicit valence for atom # 0 H, 4, is greater than permitted\n"
     ]
    },
    {
     "name": "stdout",
     "output_type": "stream",
     "text": [
      "Chemically invalid molecule! Reason: Explicit valence for atom # 0 H, 4, is greater than permitted\n"
     ]
    },
    {
     "name": "stderr",
     "output_type": "stream",
     "text": [
      "Epoch 400 Training: 100%|██████████| 1/1 [00:00<00:00, 40.20it/s]\n",
      "[16:48:13] Explicit valence for atom # 0 H, 4, is greater than permitted\n"
     ]
    },
    {
     "name": "stdout",
     "output_type": "stream",
     "text": [
      "Chemically invalid molecule! Reason: Explicit valence for atom # 0 H, 4, is greater than permitted\n"
     ]
    },
    {
     "name": "stderr",
     "output_type": "stream",
     "text": [
      "Epoch 401 Training: 100%|██████████| 1/1 [00:00<00:00,  2.96it/s]\n",
      "[16:48:13] Explicit valence for atom # 0 H, 4, is greater than permitted\n"
     ]
    },
    {
     "name": "stdout",
     "output_type": "stream",
     "text": [
      "Chemically invalid molecule! Reason: Explicit valence for atom # 0 H, 4, is greater than permitted\n"
     ]
    },
    {
     "name": "stderr",
     "output_type": "stream",
     "text": [
      "Epoch 402 Training: 100%|██████████| 1/1 [00:00<00:00, 41.87it/s]\n",
      "[16:48:13] Explicit valence for atom # 0 H, 4, is greater than permitted\n"
     ]
    },
    {
     "name": "stdout",
     "output_type": "stream",
     "text": [
      "Chemically invalid molecule! Reason: Explicit valence for atom # 0 H, 4, is greater than permitted\n"
     ]
    },
    {
     "name": "stderr",
     "output_type": "stream",
     "text": [
      "Epoch 403 Training: 100%|██████████| 1/1 [00:00<00:00, 41.75it/s]\n",
      "[16:48:13] Explicit valence for atom # 0 H, 4, is greater than permitted\n"
     ]
    },
    {
     "name": "stdout",
     "output_type": "stream",
     "text": [
      "Chemically invalid molecule! Reason: Explicit valence for atom # 0 H, 4, is greater than permitted\n"
     ]
    },
    {
     "name": "stderr",
     "output_type": "stream",
     "text": [
      "Epoch 404 Training: 100%|██████████| 1/1 [00:00<00:00, 41.99it/s]\n",
      "[16:48:13] Explicit valence for atom # 0 H, 4, is greater than permitted\n"
     ]
    },
    {
     "name": "stdout",
     "output_type": "stream",
     "text": [
      "Chemically invalid molecule! Reason: Explicit valence for atom # 0 H, 4, is greater than permitted\n"
     ]
    },
    {
     "name": "stderr",
     "output_type": "stream",
     "text": [
      "Epoch 405 Training: 100%|██████████| 1/1 [00:00<00:00, 41.86it/s]\n",
      "[16:48:13] Explicit valence for atom # 0 H, 4, is greater than permitted\n"
     ]
    },
    {
     "name": "stdout",
     "output_type": "stream",
     "text": [
      "Chemically invalid molecule! Reason: Explicit valence for atom # 0 H, 4, is greater than permitted\n"
     ]
    },
    {
     "name": "stderr",
     "output_type": "stream",
     "text": [
      "Epoch 406 Training: 100%|██████████| 1/1 [00:00<00:00, 41.45it/s]\n",
      "[16:48:14] Explicit valence for atom # 0 H, 4, is greater than permitted\n"
     ]
    },
    {
     "name": "stdout",
     "output_type": "stream",
     "text": [
      "Chemically invalid molecule! Reason: Explicit valence for atom # 0 H, 4, is greater than permitted\n"
     ]
    },
    {
     "name": "stderr",
     "output_type": "stream",
     "text": [
      "Epoch 407 Training: 100%|██████████| 1/1 [00:00<00:00, 42.01it/s]\n",
      "[16:48:14] Explicit valence for atom # 0 H, 4, is greater than permitted\n"
     ]
    },
    {
     "name": "stdout",
     "output_type": "stream",
     "text": [
      "Chemically invalid molecule! Reason: Explicit valence for atom # 0 H, 4, is greater than permitted\n"
     ]
    },
    {
     "name": "stderr",
     "output_type": "stream",
     "text": [
      "Epoch 408 Training: 100%|██████████| 1/1 [00:00<00:00, 42.28it/s]\n",
      "[16:48:14] Explicit valence for atom # 0 H, 4, is greater than permitted\n"
     ]
    },
    {
     "name": "stdout",
     "output_type": "stream",
     "text": [
      "Chemically invalid molecule! Reason: Explicit valence for atom # 0 H, 4, is greater than permitted\n"
     ]
    },
    {
     "name": "stderr",
     "output_type": "stream",
     "text": [
      "Epoch 409 Training: 100%|██████████| 1/1 [00:00<00:00, 41.86it/s]\n",
      "[16:48:14] Explicit valence for atom # 0 H, 4, is greater than permitted\n"
     ]
    },
    {
     "name": "stdout",
     "output_type": "stream",
     "text": [
      "Chemically invalid molecule! Reason: Explicit valence for atom # 0 H, 4, is greater than permitted\n"
     ]
    },
    {
     "name": "stderr",
     "output_type": "stream",
     "text": [
      "Epoch 410 Training: 100%|██████████| 1/1 [00:00<00:00, 41.87it/s]\n",
      "[16:48:14] Explicit valence for atom # 0 H, 4, is greater than permitted\n"
     ]
    },
    {
     "name": "stdout",
     "output_type": "stream",
     "text": [
      "Chemically invalid molecule! Reason: Explicit valence for atom # 0 H, 4, is greater than permitted\n"
     ]
    },
    {
     "name": "stderr",
     "output_type": "stream",
     "text": [
      "Epoch 411 Training: 100%|██████████| 1/1 [00:00<00:00, 42.29it/s]\n",
      "[16:48:14] Explicit valence for atom # 0 H, 4, is greater than permitted\n"
     ]
    },
    {
     "name": "stdout",
     "output_type": "stream",
     "text": [
      "Chemically invalid molecule! Reason: Explicit valence for atom # 0 H, 4, is greater than permitted\n"
     ]
    },
    {
     "name": "stderr",
     "output_type": "stream",
     "text": [
      "Epoch 412 Training: 100%|██████████| 1/1 [00:00<00:00, 41.68it/s]\n",
      "[16:48:14] Explicit valence for atom # 0 H, 4, is greater than permitted\n"
     ]
    },
    {
     "name": "stdout",
     "output_type": "stream",
     "text": [
      "Chemically invalid molecule! Reason: Explicit valence for atom # 0 H, 4, is greater than permitted\n"
     ]
    },
    {
     "name": "stderr",
     "output_type": "stream",
     "text": [
      "Epoch 413 Training: 100%|██████████| 1/1 [00:00<00:00, 41.88it/s]\n",
      "[16:48:14] Explicit valence for atom # 0 H, 4, is greater than permitted\n"
     ]
    },
    {
     "name": "stdout",
     "output_type": "stream",
     "text": [
      "Chemically invalid molecule! Reason: Explicit valence for atom # 0 H, 4, is greater than permitted\n"
     ]
    },
    {
     "name": "stderr",
     "output_type": "stream",
     "text": [
      "Epoch 414 Training: 100%|██████████| 1/1 [00:00<00:00, 41.87it/s]\n",
      "[16:48:14] Explicit valence for atom # 0 H, 4, is greater than permitted\n"
     ]
    },
    {
     "name": "stdout",
     "output_type": "stream",
     "text": [
      "Chemically invalid molecule! Reason: Explicit valence for atom # 0 H, 4, is greater than permitted\n"
     ]
    },
    {
     "name": "stderr",
     "output_type": "stream",
     "text": [
      "Epoch 415 Training: 100%|██████████| 1/1 [00:00<00:00, 41.32it/s]\n",
      "[16:48:14] Explicit valence for atom # 0 H, 4, is greater than permitted\n"
     ]
    },
    {
     "name": "stdout",
     "output_type": "stream",
     "text": [
      "Chemically invalid molecule! Reason: Explicit valence for atom # 0 H, 4, is greater than permitted\n"
     ]
    },
    {
     "name": "stderr",
     "output_type": "stream",
     "text": [
      "Epoch 416 Training: 100%|██████████| 1/1 [00:00<00:00, 38.02it/s]\n",
      "[16:48:14] Explicit valence for atom # 0 H, 4, is greater than permitted\n"
     ]
    },
    {
     "name": "stdout",
     "output_type": "stream",
     "text": [
      "Chemically invalid molecule! Reason: Explicit valence for atom # 0 H, 4, is greater than permitted\n"
     ]
    },
    {
     "name": "stderr",
     "output_type": "stream",
     "text": [
      "Epoch 417 Training: 100%|██████████| 1/1 [00:00<00:00, 40.16it/s]\n",
      "[16:48:14] Explicit valence for atom # 0 H, 4, is greater than permitted\n"
     ]
    },
    {
     "name": "stdout",
     "output_type": "stream",
     "text": [
      "Chemically invalid molecule! Reason: Explicit valence for atom # 0 H, 4, is greater than permitted\n"
     ]
    },
    {
     "name": "stderr",
     "output_type": "stream",
     "text": [
      "Epoch 418 Training: 100%|██████████| 1/1 [00:00<00:00, 41.64it/s]\n",
      "[16:48:14] Explicit valence for atom # 0 H, 4, is greater than permitted\n"
     ]
    },
    {
     "name": "stdout",
     "output_type": "stream",
     "text": [
      "Chemically invalid molecule! Reason: Explicit valence for atom # 0 H, 4, is greater than permitted\n"
     ]
    },
    {
     "name": "stderr",
     "output_type": "stream",
     "text": [
      "Epoch 419 Training: 100%|██████████| 1/1 [00:00<00:00, 42.31it/s]\n",
      "[16:48:14] Explicit valence for atom # 0 H, 4, is greater than permitted\n"
     ]
    },
    {
     "name": "stdout",
     "output_type": "stream",
     "text": [
      "Chemically invalid molecule! Reason: Explicit valence for atom # 0 H, 4, is greater than permitted\n"
     ]
    },
    {
     "name": "stderr",
     "output_type": "stream",
     "text": [
      "Epoch 420 Training: 100%|██████████| 1/1 [00:00<00:00, 41.17it/s]\n",
      "[16:48:14] Explicit valence for atom # 0 H, 4, is greater than permitted\n"
     ]
    },
    {
     "name": "stdout",
     "output_type": "stream",
     "text": [
      "Chemically invalid molecule! Reason: Explicit valence for atom # 0 H, 4, is greater than permitted\n"
     ]
    },
    {
     "name": "stderr",
     "output_type": "stream",
     "text": [
      "Epoch 421 Training: 100%|██████████| 1/1 [00:00<00:00, 40.81it/s]\n",
      "[16:48:15] Explicit valence for atom # 0 H, 4, is greater than permitted\n"
     ]
    },
    {
     "name": "stdout",
     "output_type": "stream",
     "text": [
      "Chemically invalid molecule! Reason: Explicit valence for atom # 0 H, 4, is greater than permitted\n"
     ]
    },
    {
     "name": "stderr",
     "output_type": "stream",
     "text": [
      "Epoch 422 Training: 100%|██████████| 1/1 [00:00<00:00, 41.86it/s]\n",
      "[16:48:15] Explicit valence for atom # 0 H, 4, is greater than permitted\n"
     ]
    },
    {
     "name": "stdout",
     "output_type": "stream",
     "text": [
      "Chemically invalid molecule! Reason: Explicit valence for atom # 0 H, 4, is greater than permitted\n"
     ]
    },
    {
     "name": "stderr",
     "output_type": "stream",
     "text": [
      "Epoch 423 Training: 100%|██████████| 1/1 [00:00<00:00, 40.67it/s]\n",
      "[16:48:15] Explicit valence for atom # 0 H, 4, is greater than permitted\n"
     ]
    },
    {
     "name": "stdout",
     "output_type": "stream",
     "text": [
      "Chemically invalid molecule! Reason: Explicit valence for atom # 0 H, 4, is greater than permitted\n"
     ]
    },
    {
     "name": "stderr",
     "output_type": "stream",
     "text": [
      "Epoch 424 Training: 100%|██████████| 1/1 [00:00<00:00, 36.51it/s]\n",
      "[16:48:15] Explicit valence for atom # 0 H, 4, is greater than permitted\n"
     ]
    },
    {
     "name": "stdout",
     "output_type": "stream",
     "text": [
      "Chemically invalid molecule! Reason: Explicit valence for atom # 0 H, 4, is greater than permitted\n"
     ]
    },
    {
     "name": "stderr",
     "output_type": "stream",
     "text": [
      "Epoch 425 Training: 100%|██████████| 1/1 [00:00<00:00, 35.39it/s]\n",
      "[16:48:15] Explicit valence for atom # 0 H, 4, is greater than permitted\n"
     ]
    },
    {
     "name": "stdout",
     "output_type": "stream",
     "text": [
      "Chemically invalid molecule! Reason: Explicit valence for atom # 0 H, 4, is greater than permitted\n"
     ]
    },
    {
     "name": "stderr",
     "output_type": "stream",
     "text": [
      "Epoch 426 Training: 100%|██████████| 1/1 [00:00<00:00, 36.33it/s]\n",
      "[16:48:15] Explicit valence for atom # 0 H, 4, is greater than permitted\n"
     ]
    },
    {
     "name": "stdout",
     "output_type": "stream",
     "text": [
      "Chemically invalid molecule! Reason: Explicit valence for atom # 0 H, 4, is greater than permitted\n"
     ]
    },
    {
     "name": "stderr",
     "output_type": "stream",
     "text": [
      "Epoch 427 Training: 100%|██████████| 1/1 [00:00<00:00, 39.00it/s]\n",
      "[16:48:15] Explicit valence for atom # 0 H, 4, is greater than permitted\n"
     ]
    },
    {
     "name": "stdout",
     "output_type": "stream",
     "text": [
      "Chemically invalid molecule! Reason: Explicit valence for atom # 0 H, 4, is greater than permitted\n"
     ]
    },
    {
     "name": "stderr",
     "output_type": "stream",
     "text": [
      "Epoch 428 Training: 100%|██████████| 1/1 [00:00<00:00, 36.83it/s]\n",
      "[16:48:15] Explicit valence for atom # 0 H, 4, is greater than permitted\n"
     ]
    },
    {
     "name": "stdout",
     "output_type": "stream",
     "text": [
      "Chemically invalid molecule! Reason: Explicit valence for atom # 0 H, 4, is greater than permitted\n"
     ]
    },
    {
     "name": "stderr",
     "output_type": "stream",
     "text": [
      "Epoch 429 Training: 100%|██████████| 1/1 [00:00<00:00, 37.53it/s]\n",
      "[16:48:15] Explicit valence for atom # 0 H, 4, is greater than permitted\n"
     ]
    },
    {
     "name": "stdout",
     "output_type": "stream",
     "text": [
      "Chemically invalid molecule! Reason: Explicit valence for atom # 0 H, 4, is greater than permitted\n"
     ]
    },
    {
     "name": "stderr",
     "output_type": "stream",
     "text": [
      "Epoch 430 Training: 100%|██████████| 1/1 [00:00<00:00, 36.72it/s]\n",
      "[16:48:15] Explicit valence for atom # 0 H, 4, is greater than permitted\n"
     ]
    },
    {
     "name": "stdout",
     "output_type": "stream",
     "text": [
      "Chemically invalid molecule! Reason: Explicit valence for atom # 0 H, 4, is greater than permitted\n"
     ]
    },
    {
     "name": "stderr",
     "output_type": "stream",
     "text": [
      "Epoch 431 Training: 100%|██████████| 1/1 [00:00<00:00, 38.42it/s]\n",
      "[16:48:15] Explicit valence for atom # 0 H, 4, is greater than permitted\n"
     ]
    },
    {
     "name": "stdout",
     "output_type": "stream",
     "text": [
      "Chemically invalid molecule! Reason: Explicit valence for atom # 0 H, 4, is greater than permitted\n"
     ]
    },
    {
     "name": "stderr",
     "output_type": "stream",
     "text": [
      "Epoch 432 Training: 100%|██████████| 1/1 [00:00<00:00, 39.88it/s]\n",
      "[16:48:15] Explicit valence for atom # 0 H, 4, is greater than permitted\n"
     ]
    },
    {
     "name": "stdout",
     "output_type": "stream",
     "text": [
      "Chemically invalid molecule! Reason: Explicit valence for atom # 0 H, 4, is greater than permitted\n"
     ]
    },
    {
     "name": "stderr",
     "output_type": "stream",
     "text": [
      "Epoch 433 Training: 100%|██████████| 1/1 [00:00<00:00, 23.30it/s]\n",
      "[16:48:15] Explicit valence for atom # 0 H, 4, is greater than permitted\n"
     ]
    },
    {
     "name": "stdout",
     "output_type": "stream",
     "text": [
      "Chemically invalid molecule! Reason: Explicit valence for atom # 0 H, 4, is greater than permitted\n"
     ]
    },
    {
     "name": "stderr",
     "output_type": "stream",
     "text": [
      "Epoch 434 Training: 100%|██████████| 1/1 [00:00<00:00, 43.00it/s]\n",
      "[16:48:16] Explicit valence for atom # 0 H, 4, is greater than permitted\n"
     ]
    },
    {
     "name": "stdout",
     "output_type": "stream",
     "text": [
      "Chemically invalid molecule! Reason: Explicit valence for atom # 0 H, 4, is greater than permitted\n"
     ]
    },
    {
     "name": "stderr",
     "output_type": "stream",
     "text": [
      "Epoch 435 Training: 100%|██████████| 1/1 [00:00<00:00, 40.86it/s]\n",
      "[16:48:16] Explicit valence for atom # 0 H, 4, is greater than permitted\n"
     ]
    },
    {
     "name": "stdout",
     "output_type": "stream",
     "text": [
      "Chemically invalid molecule! Reason: Explicit valence for atom # 0 H, 4, is greater than permitted\n"
     ]
    },
    {
     "name": "stderr",
     "output_type": "stream",
     "text": [
      "Epoch 436 Training: 100%|██████████| 1/1 [00:00<00:00, 41.65it/s]\n",
      "[16:48:16] Explicit valence for atom # 0 H, 4, is greater than permitted\n"
     ]
    },
    {
     "name": "stdout",
     "output_type": "stream",
     "text": [
      "Chemically invalid molecule! Reason: Explicit valence for atom # 0 H, 4, is greater than permitted\n"
     ]
    },
    {
     "name": "stderr",
     "output_type": "stream",
     "text": [
      "Epoch 437 Training: 100%|██████████| 1/1 [00:00<00:00, 26.33it/s]\n",
      "[16:48:16] Explicit valence for atom # 0 H, 4, is greater than permitted\n"
     ]
    },
    {
     "name": "stdout",
     "output_type": "stream",
     "text": [
      "Chemically invalid molecule! Reason: Explicit valence for atom # 0 H, 4, is greater than permitted\n"
     ]
    },
    {
     "name": "stderr",
     "output_type": "stream",
     "text": [
      "Epoch 438 Training: 100%|██████████| 1/1 [00:00<00:00, 41.78it/s]\n",
      "[16:48:16] Explicit valence for atom # 0 H, 4, is greater than permitted\n"
     ]
    },
    {
     "name": "stdout",
     "output_type": "stream",
     "text": [
      "Chemically invalid molecule! Reason: Explicit valence for atom # 0 H, 4, is greater than permitted\n"
     ]
    },
    {
     "name": "stderr",
     "output_type": "stream",
     "text": [
      "Epoch 439 Training: 100%|██████████| 1/1 [00:00<00:00, 41.70it/s]\n",
      "[16:48:16] Explicit valence for atom # 0 H, 4, is greater than permitted\n"
     ]
    },
    {
     "name": "stdout",
     "output_type": "stream",
     "text": [
      "Chemically invalid molecule! Reason: Explicit valence for atom # 0 H, 4, is greater than permitted\n"
     ]
    },
    {
     "name": "stderr",
     "output_type": "stream",
     "text": [
      "Epoch 440 Training: 100%|██████████| 1/1 [00:00<00:00, 41.54it/s]\n",
      "[16:48:16] Explicit valence for atom # 0 H, 4, is greater than permitted\n"
     ]
    },
    {
     "name": "stdout",
     "output_type": "stream",
     "text": [
      "Chemically invalid molecule! Reason: Explicit valence for atom # 0 H, 4, is greater than permitted\n"
     ]
    },
    {
     "name": "stderr",
     "output_type": "stream",
     "text": [
      "Epoch 441 Training: 100%|██████████| 1/1 [00:00<00:00, 41.86it/s]\n",
      "[16:48:16] Explicit valence for atom # 0 H, 4, is greater than permitted\n"
     ]
    },
    {
     "name": "stdout",
     "output_type": "stream",
     "text": [
      "Chemically invalid molecule! Reason: Explicit valence for atom # 0 H, 4, is greater than permitted\n"
     ]
    },
    {
     "name": "stderr",
     "output_type": "stream",
     "text": [
      "Epoch 442 Training: 100%|██████████| 1/1 [00:00<00:00, 42.19it/s]\n",
      "[16:48:16] Explicit valence for atom # 0 H, 4, is greater than permitted\n"
     ]
    },
    {
     "name": "stdout",
     "output_type": "stream",
     "text": [
      "Chemically invalid molecule! Reason: Explicit valence for atom # 0 H, 4, is greater than permitted\n"
     ]
    },
    {
     "name": "stderr",
     "output_type": "stream",
     "text": [
      "Epoch 443 Training: 100%|██████████| 1/1 [00:00<00:00, 40.37it/s]\n",
      "[16:48:16] Explicit valence for atom # 0 H, 4, is greater than permitted\n"
     ]
    },
    {
     "name": "stdout",
     "output_type": "stream",
     "text": [
      "Chemically invalid molecule! Reason: Explicit valence for atom # 0 H, 4, is greater than permitted\n"
     ]
    },
    {
     "name": "stderr",
     "output_type": "stream",
     "text": [
      "Epoch 444 Training: 100%|██████████| 1/1 [00:00<00:00, 41.33it/s]\n",
      "[16:48:16] Explicit valence for atom # 0 H, 4, is greater than permitted\n"
     ]
    },
    {
     "name": "stdout",
     "output_type": "stream",
     "text": [
      "Chemically invalid molecule! Reason: Explicit valence for atom # 0 H, 4, is greater than permitted\n"
     ]
    },
    {
     "name": "stderr",
     "output_type": "stream",
     "text": [
      "Epoch 445 Training: 100%|██████████| 1/1 [00:00<00:00, 42.69it/s]\n",
      "[16:48:16] Explicit valence for atom # 0 H, 4, is greater than permitted\n"
     ]
    },
    {
     "name": "stdout",
     "output_type": "stream",
     "text": [
      "Chemically invalid molecule! Reason: Explicit valence for atom # 0 H, 4, is greater than permitted\n"
     ]
    },
    {
     "name": "stderr",
     "output_type": "stream",
     "text": [
      "Epoch 446 Training: 100%|██████████| 1/1 [00:00<00:00, 42.47it/s]\n",
      "[16:48:16] Explicit valence for atom # 0 H, 4, is greater than permitted\n"
     ]
    },
    {
     "name": "stdout",
     "output_type": "stream",
     "text": [
      "Chemically invalid molecule! Reason: Explicit valence for atom # 0 H, 4, is greater than permitted\n"
     ]
    },
    {
     "name": "stderr",
     "output_type": "stream",
     "text": [
      "Epoch 447 Training: 100%|██████████| 1/1 [00:00<00:00, 42.21it/s]\n",
      "[16:48:16] Explicit valence for atom # 0 H, 4, is greater than permitted\n"
     ]
    },
    {
     "name": "stdout",
     "output_type": "stream",
     "text": [
      "Chemically invalid molecule! Reason: Explicit valence for atom # 0 H, 4, is greater than permitted\n"
     ]
    },
    {
     "name": "stderr",
     "output_type": "stream",
     "text": [
      "Epoch 448 Training: 100%|██████████| 1/1 [00:00<00:00, 42.36it/s]\n"
     ]
    },
    {
     "name": "stdout",
     "output_type": "stream",
     "text": [
      "Chemically invalid molecule! Reason: Explicit valence for atom # 0 H, 4, is greater than permitted\n"
     ]
    },
    {
     "name": "stderr",
     "output_type": "stream",
     "text": [
      "[16:48:16] Explicit valence for atom # 0 H, 4, is greater than permitted\n",
      "Epoch 449 Training: 100%|██████████| 1/1 [00:00<00:00, 42.12it/s]\n",
      "[16:48:17] Explicit valence for atom # 0 H, 4, is greater than permitted\n"
     ]
    },
    {
     "name": "stdout",
     "output_type": "stream",
     "text": [
      "Chemically invalid molecule! Reason: Explicit valence for atom # 0 H, 4, is greater than permitted\n"
     ]
    },
    {
     "name": "stderr",
     "output_type": "stream",
     "text": [
      "Epoch 450 Training: 100%|██████████| 1/1 [00:00<00:00, 41.78it/s]\n",
      "[16:48:17] Explicit valence for atom # 0 H, 4, is greater than permitted\n"
     ]
    },
    {
     "name": "stdout",
     "output_type": "stream",
     "text": [
      "Chemically invalid molecule! Reason: Explicit valence for atom # 0 H, 4, is greater than permitted\n"
     ]
    },
    {
     "name": "stderr",
     "output_type": "stream",
     "text": [
      "Epoch 451 Training: 100%|██████████| 1/1 [00:00<00:00, 41.16it/s]\n",
      "[16:48:17] Explicit valence for atom # 0 H, 4, is greater than permitted\n"
     ]
    },
    {
     "name": "stdout",
     "output_type": "stream",
     "text": [
      "Chemically invalid molecule! Reason: Explicit valence for atom # 0 H, 4, is greater than permitted\n"
     ]
    },
    {
     "name": "stderr",
     "output_type": "stream",
     "text": [
      "Epoch 452 Training: 100%|██████████| 1/1 [00:00<00:00, 41.54it/s]\n",
      "[16:48:17] Explicit valence for atom # 0 H, 4, is greater than permitted\n"
     ]
    },
    {
     "name": "stdout",
     "output_type": "stream",
     "text": [
      "Chemically invalid molecule! Reason: Explicit valence for atom # 0 H, 4, is greater than permitted\n"
     ]
    },
    {
     "name": "stderr",
     "output_type": "stream",
     "text": [
      "Epoch 453 Training: 100%|██████████| 1/1 [00:00<00:00, 25.82it/s]\n",
      "[16:48:17] Explicit valence for atom # 0 H, 4, is greater than permitted\n"
     ]
    },
    {
     "name": "stdout",
     "output_type": "stream",
     "text": [
      "Chemically invalid molecule! Reason: Explicit valence for atom # 0 H, 4, is greater than permitted\n"
     ]
    },
    {
     "name": "stderr",
     "output_type": "stream",
     "text": [
      "Epoch 454 Training: 100%|██████████| 1/1 [00:00<00:00, 41.46it/s]\n",
      "[16:48:17] Explicit valence for atom # 0 H, 4, is greater than permitted\n"
     ]
    },
    {
     "name": "stdout",
     "output_type": "stream",
     "text": [
      "Chemically invalid molecule! Reason: Explicit valence for atom # 0 H, 4, is greater than permitted\n"
     ]
    },
    {
     "name": "stderr",
     "output_type": "stream",
     "text": [
      "Epoch 455 Training: 100%|██████████| 1/1 [00:00<00:00, 42.31it/s]\n",
      "[16:48:17] Explicit valence for atom # 0 H, 4, is greater than permitted\n"
     ]
    },
    {
     "name": "stdout",
     "output_type": "stream",
     "text": [
      "Chemically invalid molecule! Reason: Explicit valence for atom # 0 H, 4, is greater than permitted\n"
     ]
    },
    {
     "name": "stderr",
     "output_type": "stream",
     "text": [
      "Epoch 456 Training: 100%|██████████| 1/1 [00:00<00:00, 42.24it/s]\n",
      "[16:48:17] Explicit valence for atom # 0 H, 4, is greater than permitted\n"
     ]
    },
    {
     "name": "stdout",
     "output_type": "stream",
     "text": [
      "Chemically invalid molecule! Reason: Explicit valence for atom # 0 H, 4, is greater than permitted\n"
     ]
    },
    {
     "name": "stderr",
     "output_type": "stream",
     "text": [
      "Epoch 457 Training: 100%|██████████| 1/1 [00:00<00:00, 42.88it/s]\n",
      "[16:48:17] Explicit valence for atom # 0 H, 4, is greater than permitted\n"
     ]
    },
    {
     "name": "stdout",
     "output_type": "stream",
     "text": [
      "Chemically invalid molecule! Reason: Explicit valence for atom # 0 H, 4, is greater than permitted\n"
     ]
    },
    {
     "name": "stderr",
     "output_type": "stream",
     "text": [
      "Epoch 458 Training: 100%|██████████| 1/1 [00:00<00:00, 41.07it/s]\n",
      "[16:48:17] Explicit valence for atom # 0 H, 4, is greater than permitted\n"
     ]
    },
    {
     "name": "stdout",
     "output_type": "stream",
     "text": [
      "Chemically invalid molecule! Reason: Explicit valence for atom # 0 H, 4, is greater than permitted\n"
     ]
    },
    {
     "name": "stderr",
     "output_type": "stream",
     "text": [
      "Epoch 459 Training: 100%|██████████| 1/1 [00:00<00:00, 40.96it/s]\n",
      "[16:48:17] Explicit valence for atom # 0 H, 4, is greater than permitted\n"
     ]
    },
    {
     "name": "stdout",
     "output_type": "stream",
     "text": [
      "Chemically invalid molecule! Reason: Explicit valence for atom # 0 H, 4, is greater than permitted\n"
     ]
    },
    {
     "name": "stderr",
     "output_type": "stream",
     "text": [
      "Epoch 460 Training: 100%|██████████| 1/1 [00:00<00:00, 41.67it/s]\n",
      "[16:48:17] Explicit valence for atom # 0 H, 4, is greater than permitted\n"
     ]
    },
    {
     "name": "stdout",
     "output_type": "stream",
     "text": [
      "Chemically invalid molecule! Reason: Explicit valence for atom # 0 H, 4, is greater than permitted\n"
     ]
    },
    {
     "name": "stderr",
     "output_type": "stream",
     "text": [
      "Epoch 461 Training: 100%|██████████| 1/1 [00:00<00:00, 41.27it/s]\n",
      "[16:48:17] Explicit valence for atom # 0 H, 4, is greater than permitted\n"
     ]
    },
    {
     "name": "stdout",
     "output_type": "stream",
     "text": [
      "Chemically invalid molecule! Reason: Explicit valence for atom # 0 H, 4, is greater than permitted\n"
     ]
    },
    {
     "name": "stderr",
     "output_type": "stream",
     "text": [
      "Epoch 462 Training: 100%|██████████| 1/1 [00:00<00:00, 38.42it/s]\n",
      "[16:48:17] Explicit valence for atom # 0 H, 4, is greater than permitted\n"
     ]
    },
    {
     "name": "stdout",
     "output_type": "stream",
     "text": [
      "Chemically invalid molecule! Reason: Explicit valence for atom # 0 H, 4, is greater than permitted\n"
     ]
    },
    {
     "name": "stderr",
     "output_type": "stream",
     "text": [
      "Epoch 463 Training: 100%|██████████| 1/1 [00:00<00:00, 41.02it/s]\n",
      "[16:48:17] Explicit valence for atom # 0 H, 4, is greater than permitted\n"
     ]
    },
    {
     "name": "stdout",
     "output_type": "stream",
     "text": [
      "Chemically invalid molecule! Reason: Explicit valence for atom # 0 H, 4, is greater than permitted\n"
     ]
    },
    {
     "name": "stderr",
     "output_type": "stream",
     "text": [
      "Epoch 464 Training: 100%|██████████| 1/1 [00:00<00:00, 39.60it/s]"
     ]
    },
    {
     "name": "stdout",
     "output_type": "stream",
     "text": [
      "Chemically invalid molecule! Reason: Explicit valence for atom # 0 H, 4, is greater than permitted\n"
     ]
    },
    {
     "name": "stderr",
     "output_type": "stream",
     "text": [
      "\n",
      "[16:48:18] Explicit valence for atom # 0 H, 4, is greater than permitted\n",
      "Epoch 465 Training: 100%|██████████| 1/1 [00:00<00:00, 42.17it/s]\n"
     ]
    },
    {
     "name": "stdout",
     "output_type": "stream",
     "text": [
      "Chemically invalid molecule! Reason: Explicit valence for atom # 0 H, 4, is greater than permitted\n"
     ]
    },
    {
     "name": "stderr",
     "output_type": "stream",
     "text": [
      "[16:48:18] Explicit valence for atom # 0 H, 4, is greater than permitted\n",
      "Epoch 466 Training: 100%|██████████| 1/1 [00:00<00:00, 43.25it/s]\n"
     ]
    },
    {
     "name": "stdout",
     "output_type": "stream",
     "text": [
      "Chemically invalid molecule! Reason: Explicit valence for atom # 0 H, 4, is greater than permitted\n"
     ]
    },
    {
     "name": "stderr",
     "output_type": "stream",
     "text": [
      "[16:48:18] Explicit valence for atom # 0 H, 4, is greater than permitted\n",
      "Epoch 467 Training: 100%|██████████| 1/1 [00:00<00:00, 43.16it/s]\n"
     ]
    },
    {
     "name": "stdout",
     "output_type": "stream",
     "text": [
      "Chemically invalid molecule! Reason: Explicit valence for atom # 0 H, 4, is greater than permitted\n"
     ]
    },
    {
     "name": "stderr",
     "output_type": "stream",
     "text": [
      "[16:48:18] Explicit valence for atom # 0 H, 4, is greater than permitted\n",
      "Epoch 468 Training: 100%|██████████| 1/1 [00:00<00:00, 24.66it/s]\n",
      "[16:48:18] Explicit valence for atom # 0 H, 4, is greater than permitted\n"
     ]
    },
    {
     "name": "stdout",
     "output_type": "stream",
     "text": [
      "Chemically invalid molecule! Reason: Explicit valence for atom # 0 H, 4, is greater than permitted\n"
     ]
    },
    {
     "name": "stderr",
     "output_type": "stream",
     "text": [
      "Epoch 469 Training: 100%|██████████| 1/1 [00:00<00:00, 38.15it/s]\n",
      "[16:48:18] Explicit valence for atom # 0 H, 4, is greater than permitted\n"
     ]
    },
    {
     "name": "stdout",
     "output_type": "stream",
     "text": [
      "Chemically invalid molecule! Reason: Explicit valence for atom # 0 H, 4, is greater than permitted\n"
     ]
    },
    {
     "name": "stderr",
     "output_type": "stream",
     "text": [
      "Epoch 470 Training: 100%|██████████| 1/1 [00:00<00:00, 29.08it/s]\n",
      "[16:48:18] Explicit valence for atom # 0 H, 4, is greater than permitted\n"
     ]
    },
    {
     "name": "stdout",
     "output_type": "stream",
     "text": [
      "Chemically invalid molecule! Reason: Explicit valence for atom # 0 H, 4, is greater than permitted\n"
     ]
    },
    {
     "name": "stderr",
     "output_type": "stream",
     "text": [
      "Epoch 471 Training: 100%|██████████| 1/1 [00:00<00:00, 42.17it/s]\n",
      "[16:48:18] Explicit valence for atom # 0 H, 4, is greater than permitted\n"
     ]
    },
    {
     "name": "stdout",
     "output_type": "stream",
     "text": [
      "Chemically invalid molecule! Reason: Explicit valence for atom # 0 H, 4, is greater than permitted\n"
     ]
    },
    {
     "name": "stderr",
     "output_type": "stream",
     "text": [
      "Epoch 472 Training: 100%|██████████| 1/1 [00:00<00:00, 41.82it/s]\n",
      "[16:48:18] Explicit valence for atom # 0 H, 4, is greater than permitted\n"
     ]
    },
    {
     "name": "stdout",
     "output_type": "stream",
     "text": [
      "Chemically invalid molecule! Reason: Explicit valence for atom # 0 H, 4, is greater than permitted\n"
     ]
    },
    {
     "name": "stderr",
     "output_type": "stream",
     "text": [
      "Epoch 473 Training: 100%|██████████| 1/1 [00:00<00:00, 40.95it/s]\n",
      "[16:48:18] Explicit valence for atom # 0 H, 4, is greater than permitted\n"
     ]
    },
    {
     "name": "stdout",
     "output_type": "stream",
     "text": [
      "Chemically invalid molecule! Reason: Explicit valence for atom # 0 H, 4, is greater than permitted\n"
     ]
    },
    {
     "name": "stderr",
     "output_type": "stream",
     "text": [
      "Epoch 474 Training: 100%|██████████| 1/1 [00:00<00:00, 41.94it/s]\n",
      "[16:48:18] Explicit valence for atom # 0 H, 4, is greater than permitted\n"
     ]
    },
    {
     "name": "stdout",
     "output_type": "stream",
     "text": [
      "Chemically invalid molecule! Reason: Explicit valence for atom # 0 H, 4, is greater than permitted\n"
     ]
    },
    {
     "name": "stderr",
     "output_type": "stream",
     "text": [
      "Epoch 475 Training: 100%|██████████| 1/1 [00:00<00:00, 41.53it/s]\n",
      "[16:48:18] Explicit valence for atom # 0 H, 4, is greater than permitted\n"
     ]
    },
    {
     "name": "stdout",
     "output_type": "stream",
     "text": [
      "Chemically invalid molecule! Reason: Explicit valence for atom # 0 H, 4, is greater than permitted\n"
     ]
    },
    {
     "name": "stderr",
     "output_type": "stream",
     "text": [
      "Epoch 476 Training: 100%|██████████| 1/1 [00:00<00:00, 41.93it/s]\n",
      "[16:48:18] Explicit valence for atom # 0 H, 4, is greater than permitted\n"
     ]
    },
    {
     "name": "stdout",
     "output_type": "stream",
     "text": [
      "Chemically invalid molecule! Reason: Explicit valence for atom # 0 H, 4, is greater than permitted\n"
     ]
    },
    {
     "name": "stderr",
     "output_type": "stream",
     "text": [
      "Epoch 477 Training: 100%|██████████| 1/1 [00:00<00:00, 41.79it/s]\n",
      "[16:48:18] Explicit valence for atom # 0 H, 4, is greater than permitted\n"
     ]
    },
    {
     "name": "stdout",
     "output_type": "stream",
     "text": [
      "Chemically invalid molecule! Reason: Explicit valence for atom # 0 H, 4, is greater than permitted\n"
     ]
    },
    {
     "name": "stderr",
     "output_type": "stream",
     "text": [
      "Epoch 478 Training: 100%|██████████| 1/1 [00:00<00:00, 41.37it/s]\n",
      "[16:48:18] Explicit valence for atom # 0 H, 4, is greater than permitted\n"
     ]
    },
    {
     "name": "stdout",
     "output_type": "stream",
     "text": [
      "Chemically invalid molecule! Reason: Explicit valence for atom # 0 H, 4, is greater than permitted\n"
     ]
    },
    {
     "name": "stderr",
     "output_type": "stream",
     "text": [
      "Epoch 479 Training: 100%|██████████| 1/1 [00:00<00:00, 41.28it/s]\n",
      "[16:48:19] Explicit valence for atom # 0 H, 4, is greater than permitted\n"
     ]
    },
    {
     "name": "stdout",
     "output_type": "stream",
     "text": [
      "Chemically invalid molecule! Reason: Explicit valence for atom # 0 H, 4, is greater than permitted\n"
     ]
    },
    {
     "name": "stderr",
     "output_type": "stream",
     "text": [
      "Epoch 480 Training: 100%|██████████| 1/1 [00:00<00:00, 37.98it/s]\n",
      "[16:48:19] Explicit valence for atom # 0 H, 4, is greater than permitted\n"
     ]
    },
    {
     "name": "stdout",
     "output_type": "stream",
     "text": [
      "Chemically invalid molecule! Reason: Explicit valence for atom # 0 H, 4, is greater than permitted\n"
     ]
    },
    {
     "name": "stderr",
     "output_type": "stream",
     "text": [
      "Epoch 481 Training: 100%|██████████| 1/1 [00:00<00:00, 42.34it/s]\n",
      "[16:48:19] Explicit valence for atom # 0 H, 4, is greater than permitted\n"
     ]
    },
    {
     "name": "stdout",
     "output_type": "stream",
     "text": [
      "Chemically invalid molecule! Reason: Explicit valence for atom # 0 H, 4, is greater than permitted\n"
     ]
    },
    {
     "name": "stderr",
     "output_type": "stream",
     "text": [
      "Epoch 482 Training: 100%|██████████| 1/1 [00:00<00:00, 39.51it/s]\n",
      "[16:48:19] Explicit valence for atom # 0 H, 4, is greater than permitted\n"
     ]
    },
    {
     "name": "stdout",
     "output_type": "stream",
     "text": [
      "Chemically invalid molecule! Reason: Explicit valence for atom # 0 H, 4, is greater than permitted\n"
     ]
    },
    {
     "name": "stderr",
     "output_type": "stream",
     "text": [
      "Epoch 483 Training: 100%|██████████| 1/1 [00:00<00:00, 39.01it/s]\n",
      "[16:48:19] Explicit valence for atom # 0 H, 4, is greater than permitted\n"
     ]
    },
    {
     "name": "stdout",
     "output_type": "stream",
     "text": [
      "Chemically invalid molecule! Reason: Explicit valence for atom # 0 H, 4, is greater than permitted\n"
     ]
    },
    {
     "name": "stderr",
     "output_type": "stream",
     "text": [
      "Epoch 484 Training: 100%|██████████| 1/1 [00:00<00:00, 42.93it/s]\n",
      "[16:48:19] Explicit valence for atom # 0 H, 4, is greater than permitted\n"
     ]
    },
    {
     "name": "stdout",
     "output_type": "stream",
     "text": [
      "Chemically invalid molecule! Reason: Explicit valence for atom # 0 H, 4, is greater than permitted\n"
     ]
    },
    {
     "name": "stderr",
     "output_type": "stream",
     "text": [
      "Epoch 485 Training: 100%|██████████| 1/1 [00:00<00:00, 43.38it/s]\n",
      "[16:48:19] Explicit valence for atom # 0 H, 4, is greater than permitted\n"
     ]
    },
    {
     "name": "stdout",
     "output_type": "stream",
     "text": [
      "Chemically invalid molecule! Reason: Explicit valence for atom # 0 H, 4, is greater than permitted\n"
     ]
    },
    {
     "name": "stderr",
     "output_type": "stream",
     "text": [
      "Epoch 486 Training: 100%|██████████| 1/1 [00:00<00:00, 42.91it/s]\n",
      "[16:48:19] Explicit valence for atom # 0 H, 4, is greater than permitted\n"
     ]
    },
    {
     "name": "stdout",
     "output_type": "stream",
     "text": [
      "Chemically invalid molecule! Reason: Explicit valence for atom # 0 H, 4, is greater than permitted\n"
     ]
    },
    {
     "name": "stderr",
     "output_type": "stream",
     "text": [
      "Epoch 487 Training: 100%|██████████| 1/1 [00:00<00:00, 42.87it/s]\n",
      "[16:48:19] Explicit valence for atom # 0 H, 4, is greater than permitted\n"
     ]
    },
    {
     "name": "stdout",
     "output_type": "stream",
     "text": [
      "Chemically invalid molecule! Reason: Explicit valence for atom # 0 H, 4, is greater than permitted\n"
     ]
    },
    {
     "name": "stderr",
     "output_type": "stream",
     "text": [
      "Epoch 488 Training: 100%|██████████| 1/1 [00:00<00:00, 41.28it/s]"
     ]
    },
    {
     "name": "stdout",
     "output_type": "stream",
     "text": [
      "Chemically invalid molecule! Reason: Explicit valence for atom # 0 H, 4, is greater than permitted\n"
     ]
    },
    {
     "name": "stderr",
     "output_type": "stream",
     "text": [
      "\n",
      "[16:48:19] Explicit valence for atom # 0 H, 4, is greater than permitted\n",
      "Epoch 489 Training: 100%|██████████| 1/1 [00:00<00:00, 39.61it/s]"
     ]
    },
    {
     "name": "stdout",
     "output_type": "stream",
     "text": [
      "Chemically invalid molecule! Reason: Explicit valence for atom # 0 H, 4, is greater than permitted\n"
     ]
    },
    {
     "name": "stderr",
     "output_type": "stream",
     "text": [
      "\n",
      "[16:48:19] Explicit valence for atom # 0 H, 4, is greater than permitted\n",
      "Epoch 490 Training: 100%|██████████| 1/1 [00:00<00:00, 41.93it/s]"
     ]
    },
    {
     "name": "stdout",
     "output_type": "stream",
     "text": [
      "Chemically invalid molecule! Reason: Explicit valence for atom # 0 H, 4, is greater than permitted\n"
     ]
    },
    {
     "name": "stderr",
     "output_type": "stream",
     "text": [
      "\n",
      "[16:48:19] Explicit valence for atom # 0 H, 4, is greater than permitted\n",
      "Epoch 491 Training: 100%|██████████| 1/1 [00:00<00:00, 41.56it/s]\n",
      "[16:48:19] Explicit valence for atom # 0 H, 4, is greater than permitted\n"
     ]
    },
    {
     "name": "stdout",
     "output_type": "stream",
     "text": [
      "Chemically invalid molecule! Reason: Explicit valence for atom # 0 H, 4, is greater than permitted\n"
     ]
    },
    {
     "name": "stderr",
     "output_type": "stream",
     "text": [
      "Epoch 492 Training: 100%|██████████| 1/1 [00:00<00:00, 41.81it/s]\n",
      "[16:48:19] Explicit valence for atom # 0 H, 4, is greater than permitted\n"
     ]
    },
    {
     "name": "stdout",
     "output_type": "stream",
     "text": [
      "Chemically invalid molecule! Reason: Explicit valence for atom # 0 H, 4, is greater than permitted\n"
     ]
    },
    {
     "name": "stderr",
     "output_type": "stream",
     "text": [
      "Epoch 493 Training: 100%|██████████| 1/1 [00:00<00:00, 35.89it/s]\n",
      "[16:48:19] Explicit valence for atom # 0 H, 4, is greater than permitted\n"
     ]
    },
    {
     "name": "stdout",
     "output_type": "stream",
     "text": [
      "Chemically invalid molecule! Reason: Explicit valence for atom # 0 H, 4, is greater than permitted\n"
     ]
    },
    {
     "name": "stderr",
     "output_type": "stream",
     "text": [
      "Epoch 494 Training: 100%|██████████| 1/1 [00:00<00:00, 40.04it/s]\n",
      "[16:48:20] Explicit valence for atom # 0 H, 4, is greater than permitted\n"
     ]
    },
    {
     "name": "stdout",
     "output_type": "stream",
     "text": [
      "Chemically invalid molecule! Reason: Explicit valence for atom # 0 H, 4, is greater than permitted\n"
     ]
    },
    {
     "name": "stderr",
     "output_type": "stream",
     "text": [
      "Epoch 495 Training: 100%|██████████| 1/1 [00:00<00:00, 40.68it/s]\n"
     ]
    },
    {
     "name": "stdout",
     "output_type": "stream",
     "text": [
      "Chemically invalid molecule! Reason: Explicit valence for atom # 0 H, 4, is greater than permitted\n"
     ]
    },
    {
     "name": "stderr",
     "output_type": "stream",
     "text": [
      "[16:48:20] Explicit valence for atom # 0 H, 4, is greater than permitted\n",
      "Epoch 496 Training: 100%|██████████| 1/1 [00:00<00:00, 41.95it/s]\n",
      "[16:48:20] Explicit valence for atom # 0 H, 4, is greater than permitted\n"
     ]
    },
    {
     "name": "stdout",
     "output_type": "stream",
     "text": [
      "Chemically invalid molecule! Reason: Explicit valence for atom # 0 H, 4, is greater than permitted\n"
     ]
    },
    {
     "name": "stderr",
     "output_type": "stream",
     "text": [
      "Epoch 497 Training: 100%|██████████| 1/1 [00:00<00:00, 39.67it/s]\n",
      "[16:48:20] Explicit valence for atom # 0 H, 4, is greater than permitted\n"
     ]
    },
    {
     "name": "stdout",
     "output_type": "stream",
     "text": [
      "Chemically invalid molecule! Reason: Explicit valence for atom # 0 H, 4, is greater than permitted\n"
     ]
    },
    {
     "name": "stderr",
     "output_type": "stream",
     "text": [
      "Epoch 498 Training: 100%|██████████| 1/1 [00:00<00:00, 40.28it/s]\n",
      "[16:48:20] Explicit valence for atom # 0 H, 4, is greater than permitted\n"
     ]
    },
    {
     "name": "stdout",
     "output_type": "stream",
     "text": [
      "Chemically invalid molecule! Reason: Explicit valence for atom # 0 H, 4, is greater than permitted\n"
     ]
    },
    {
     "name": "stderr",
     "output_type": "stream",
     "text": [
      "Epoch 499 Training: 100%|██████████| 1/1 [00:00<00:00, 39.23it/s]\n",
      "[16:48:20] Explicit valence for atom # 0 H, 4, is greater than permitted\n"
     ]
    },
    {
     "name": "stdout",
     "output_type": "stream",
     "text": [
      "Chemically invalid molecule! Reason: Explicit valence for atom # 0 H, 4, is greater than permitted\n"
     ]
    },
    {
     "name": "stderr",
     "output_type": "stream",
     "text": [
      "Epoch 500 Training: 100%|██████████| 1/1 [00:00<00:00, 41.07it/s]\n",
      "[16:48:20] Explicit valence for atom # 0 H, 4, is greater than permitted\n"
     ]
    },
    {
     "name": "stdout",
     "output_type": "stream",
     "text": [
      "Chemically invalid molecule! Reason: Explicit valence for atom # 0 H, 4, is greater than permitted\n"
     ]
    },
    {
     "name": "stderr",
     "output_type": "stream",
     "text": [
      "Epoch 501 Training: 100%|██████████| 1/1 [00:00<00:00,  2.48it/s]\n",
      "[16:48:20] Explicit valence for atom # 0 H, 4, is greater than permitted\n"
     ]
    },
    {
     "name": "stdout",
     "output_type": "stream",
     "text": [
      "Chemically invalid molecule! Reason: Explicit valence for atom # 0 H, 4, is greater than permitted\n"
     ]
    },
    {
     "name": "stderr",
     "output_type": "stream",
     "text": [
      "Epoch 502 Training: 100%|██████████| 1/1 [00:00<00:00, 37.55it/s]\n",
      "[16:48:20] Explicit valence for atom # 0 H, 4, is greater than permitted\n"
     ]
    },
    {
     "name": "stdout",
     "output_type": "stream",
     "text": [
      "Chemically invalid molecule! Reason: Explicit valence for atom # 0 H, 4, is greater than permitted\n"
     ]
    },
    {
     "name": "stderr",
     "output_type": "stream",
     "text": [
      "Epoch 503 Training: 100%|██████████| 1/1 [00:00<00:00, 40.96it/s]\n",
      "[16:48:21] Explicit valence for atom # 0 H, 4, is greater than permitted\n"
     ]
    },
    {
     "name": "stdout",
     "output_type": "stream",
     "text": [
      "Chemically invalid molecule! Reason: Explicit valence for atom # 0 H, 4, is greater than permitted\n"
     ]
    },
    {
     "name": "stderr",
     "output_type": "stream",
     "text": [
      "Epoch 504 Training: 100%|██████████| 1/1 [00:00<00:00, 41.30it/s]\n",
      "[16:48:21] Explicit valence for atom # 0 H, 4, is greater than permitted\n"
     ]
    },
    {
     "name": "stdout",
     "output_type": "stream",
     "text": [
      "Chemically invalid molecule! Reason: Explicit valence for atom # 0 H, 4, is greater than permitted\n"
     ]
    },
    {
     "name": "stderr",
     "output_type": "stream",
     "text": [
      "Epoch 505 Training: 100%|██████████| 1/1 [00:00<00:00, 41.21it/s]\n",
      "[16:48:21] Explicit valence for atom # 0 H, 4, is greater than permitted\n"
     ]
    },
    {
     "name": "stdout",
     "output_type": "stream",
     "text": [
      "Chemically invalid molecule! Reason: Explicit valence for atom # 0 H, 4, is greater than permitted\n"
     ]
    },
    {
     "name": "stderr",
     "output_type": "stream",
     "text": [
      "Epoch 506 Training: 100%|██████████| 1/1 [00:00<00:00, 38.93it/s]\n",
      "[16:48:21] Explicit valence for atom # 0 H, 4, is greater than permitted\n"
     ]
    },
    {
     "name": "stdout",
     "output_type": "stream",
     "text": [
      "Chemically invalid molecule! Reason: Explicit valence for atom # 0 H, 4, is greater than permitted\n"
     ]
    },
    {
     "name": "stderr",
     "output_type": "stream",
     "text": [
      "Epoch 507 Training: 100%|██████████| 1/1 [00:00<00:00, 42.00it/s]"
     ]
    },
    {
     "name": "stdout",
     "output_type": "stream",
     "text": [
      "Chemically invalid molecule! Reason: Explicit valence for atom # 0 H, 4, is greater than permitted\n"
     ]
    },
    {
     "name": "stderr",
     "output_type": "stream",
     "text": [
      "\n",
      "[16:48:21] Explicit valence for atom # 0 H, 4, is greater than permitted\n",
      "Epoch 508 Training: 100%|██████████| 1/1 [00:00<00:00, 42.85it/s]\n",
      "[16:48:21] Explicit valence for atom # 0 H, 4, is greater than permitted\n"
     ]
    },
    {
     "name": "stdout",
     "output_type": "stream",
     "text": [
      "Chemically invalid molecule! Reason: Explicit valence for atom # 0 H, 4, is greater than permitted\n"
     ]
    },
    {
     "name": "stderr",
     "output_type": "stream",
     "text": [
      "Epoch 509 Training: 100%|██████████| 1/1 [00:00<00:00, 42.76it/s]\n",
      "[16:48:21] Explicit valence for atom # 0 H, 4, is greater than permitted\n"
     ]
    },
    {
     "name": "stdout",
     "output_type": "stream",
     "text": [
      "Chemically invalid molecule! Reason: Explicit valence for atom # 0 H, 4, is greater than permitted\n"
     ]
    },
    {
     "name": "stderr",
     "output_type": "stream",
     "text": [
      "Epoch 510 Training: 100%|██████████| 1/1 [00:00<00:00, 42.90it/s]\n",
      "[16:48:21] Explicit valence for atom # 0 H, 4, is greater than permitted\n"
     ]
    },
    {
     "name": "stdout",
     "output_type": "stream",
     "text": [
      "Chemically invalid molecule! Reason: Explicit valence for atom # 0 H, 4, is greater than permitted\n"
     ]
    },
    {
     "name": "stderr",
     "output_type": "stream",
     "text": [
      "Epoch 511 Training: 100%|██████████| 1/1 [00:00<00:00, 40.35it/s]\n",
      "[16:48:21] Explicit valence for atom # 0 H, 4, is greater than permitted\n"
     ]
    },
    {
     "name": "stdout",
     "output_type": "stream",
     "text": [
      "Chemically invalid molecule! Reason: Explicit valence for atom # 0 H, 4, is greater than permitted\n"
     ]
    },
    {
     "name": "stderr",
     "output_type": "stream",
     "text": [
      "Epoch 512 Training: 100%|██████████| 1/1 [00:00<00:00, 42.61it/s]\n"
     ]
    },
    {
     "name": "stdout",
     "output_type": "stream",
     "text": [
      "Chemically invalid molecule! Reason: Explicit valence for atom # 0 H, 4, is greater than permitted\n"
     ]
    },
    {
     "name": "stderr",
     "output_type": "stream",
     "text": [
      "[16:48:21] Explicit valence for atom # 0 H, 4, is greater than permitted\n",
      "Epoch 513 Training: 100%|██████████| 1/1 [00:00<00:00, 40.02it/s]\n",
      "[16:48:21] Explicit valence for atom # 0 H, 4, is greater than permitted\n"
     ]
    },
    {
     "name": "stdout",
     "output_type": "stream",
     "text": [
      "Chemically invalid molecule! Reason: Explicit valence for atom # 0 H, 4, is greater than permitted\n"
     ]
    },
    {
     "name": "stderr",
     "output_type": "stream",
     "text": [
      "Epoch 514 Training: 100%|██████████| 1/1 [00:00<00:00, 40.58it/s]\n",
      "[16:48:21] Explicit valence for atom # 0 H, 4, is greater than permitted\n"
     ]
    },
    {
     "name": "stdout",
     "output_type": "stream",
     "text": [
      "Chemically invalid molecule! Reason: Explicit valence for atom # 0 H, 4, is greater than permitted\n"
     ]
    },
    {
     "name": "stderr",
     "output_type": "stream",
     "text": [
      "Epoch 515 Training: 100%|██████████| 1/1 [00:00<00:00, 37.55it/s]\n",
      "[16:48:21] Explicit valence for atom # 0 H, 4, is greater than permitted\n"
     ]
    },
    {
     "name": "stdout",
     "output_type": "stream",
     "text": [
      "Chemically invalid molecule! Reason: Explicit valence for atom # 0 H, 4, is greater than permitted\n"
     ]
    },
    {
     "name": "stderr",
     "output_type": "stream",
     "text": [
      "Epoch 516 Training: 100%|██████████| 1/1 [00:00<00:00, 40.42it/s]\n",
      "[16:48:21] Explicit valence for atom # 0 H, 4, is greater than permitted\n"
     ]
    },
    {
     "name": "stdout",
     "output_type": "stream",
     "text": [
      "Chemically invalid molecule! Reason: Explicit valence for atom # 0 H, 4, is greater than permitted\n"
     ]
    },
    {
     "name": "stderr",
     "output_type": "stream",
     "text": [
      "Epoch 517 Training: 100%|██████████| 1/1 [00:00<00:00, 42.81it/s]\n",
      "[16:48:22] Explicit valence for atom # 0 H, 4, is greater than permitted\n"
     ]
    },
    {
     "name": "stdout",
     "output_type": "stream",
     "text": [
      "Chemically invalid molecule! Reason: Explicit valence for atom # 0 H, 4, is greater than permitted\n"
     ]
    },
    {
     "name": "stderr",
     "output_type": "stream",
     "text": [
      "Epoch 518 Training: 100%|██████████| 1/1 [00:00<00:00, 41.00it/s]\n",
      "[16:48:22] Explicit valence for atom # 0 H, 4, is greater than permitted\n"
     ]
    },
    {
     "name": "stdout",
     "output_type": "stream",
     "text": [
      "Chemically invalid molecule! Reason: Explicit valence for atom # 0 H, 4, is greater than permitted\n"
     ]
    },
    {
     "name": "stderr",
     "output_type": "stream",
     "text": [
      "Epoch 519 Training: 100%|██████████| 1/1 [00:00<00:00, 42.27it/s]\n",
      "[16:48:22] Explicit valence for atom # 0 H, 4, is greater than permitted\n"
     ]
    },
    {
     "name": "stdout",
     "output_type": "stream",
     "text": [
      "Chemically invalid molecule! Reason: Explicit valence for atom # 0 H, 4, is greater than permitted\n"
     ]
    },
    {
     "name": "stderr",
     "output_type": "stream",
     "text": [
      "Epoch 520 Training: 100%|██████████| 1/1 [00:00<00:00, 41.38it/s]\n",
      "[16:48:22] Explicit valence for atom # 0 H, 4, is greater than permitted\n"
     ]
    },
    {
     "name": "stdout",
     "output_type": "stream",
     "text": [
      "Chemically invalid molecule! Reason: Explicit valence for atom # 0 H, 4, is greater than permitted\n"
     ]
    },
    {
     "name": "stderr",
     "output_type": "stream",
     "text": [
      "Epoch 521 Training: 100%|██████████| 1/1 [00:00<00:00, 39.81it/s]\n",
      "[16:48:22] Explicit valence for atom # 0 H, 4, is greater than permitted\n"
     ]
    },
    {
     "name": "stdout",
     "output_type": "stream",
     "text": [
      "Chemically invalid molecule! Reason: Explicit valence for atom # 0 H, 4, is greater than permitted\n"
     ]
    },
    {
     "name": "stderr",
     "output_type": "stream",
     "text": [
      "Epoch 522 Training: 100%|██████████| 1/1 [00:00<00:00, 41.99it/s]\n",
      "[16:48:22] Explicit valence for atom # 0 H, 4, is greater than permitted\n"
     ]
    },
    {
     "name": "stdout",
     "output_type": "stream",
     "text": [
      "Chemically invalid molecule! Reason: Explicit valence for atom # 0 H, 4, is greater than permitted\n"
     ]
    },
    {
     "name": "stderr",
     "output_type": "stream",
     "text": [
      "Epoch 523 Training: 100%|██████████| 1/1 [00:00<00:00, 42.66it/s]"
     ]
    },
    {
     "name": "stdout",
     "output_type": "stream",
     "text": [
      "Chemically invalid molecule! Reason: Explicit valence for atom # 0 H, 4, is greater than permitted\n"
     ]
    },
    {
     "name": "stderr",
     "output_type": "stream",
     "text": [
      "\n",
      "[16:48:22] Explicit valence for atom # 0 H, 4, is greater than permitted\n",
      "Epoch 524 Training: 100%|██████████| 1/1 [00:00<00:00, 39.38it/s]"
     ]
    },
    {
     "name": "stdout",
     "output_type": "stream",
     "text": [
      "Chemically invalid molecule! Reason: Explicit valence for atom # 0 H, 4, is greater than permitted\n"
     ]
    },
    {
     "name": "stderr",
     "output_type": "stream",
     "text": [
      "\n",
      "[16:48:22] Explicit valence for atom # 0 H, 4, is greater than permitted\n",
      "Epoch 525 Training: 100%|██████████| 1/1 [00:00<00:00, 42.62it/s]"
     ]
    },
    {
     "name": "stdout",
     "output_type": "stream",
     "text": [
      "Chemically invalid molecule! Reason: Explicit valence for atom # 0 H, 4, is greater than permitted\n"
     ]
    },
    {
     "name": "stderr",
     "output_type": "stream",
     "text": [
      "\n",
      "[16:48:22] Explicit valence for atom # 0 H, 4, is greater than permitted\n",
      "Epoch 526 Training: 100%|██████████| 1/1 [00:00<00:00, 42.33it/s]\n",
      "[16:48:22] Explicit valence for atom # 0 H, 4, is greater than permitted\n"
     ]
    },
    {
     "name": "stdout",
     "output_type": "stream",
     "text": [
      "Chemically invalid molecule! Reason: Explicit valence for atom # 0 H, 4, is greater than permitted\n"
     ]
    },
    {
     "name": "stderr",
     "output_type": "stream",
     "text": [
      "Epoch 527 Training: 100%|██████████| 1/1 [00:00<00:00, 41.64it/s]\n",
      "[16:48:22] Explicit valence for atom # 0 H, 4, is greater than permitted\n"
     ]
    },
    {
     "name": "stdout",
     "output_type": "stream",
     "text": [
      "Chemically invalid molecule! Reason: Explicit valence for atom # 0 H, 4, is greater than permitted\n"
     ]
    },
    {
     "name": "stderr",
     "output_type": "stream",
     "text": [
      "Epoch 528 Training: 100%|██████████| 1/1 [00:00<00:00, 40.38it/s]\n",
      "[16:48:22] Explicit valence for atom # 0 H, 4, is greater than permitted\n"
     ]
    },
    {
     "name": "stdout",
     "output_type": "stream",
     "text": [
      "Chemically invalid molecule! Reason: Explicit valence for atom # 0 H, 4, is greater than permitted\n"
     ]
    },
    {
     "name": "stderr",
     "output_type": "stream",
     "text": [
      "Epoch 529 Training: 100%|██████████| 1/1 [00:00<00:00, 40.77it/s]\n",
      "[16:48:22] Explicit valence for atom # 0 H, 4, is greater than permitted\n"
     ]
    },
    {
     "name": "stdout",
     "output_type": "stream",
     "text": [
      "Chemically invalid molecule! Reason: Explicit valence for atom # 0 H, 4, is greater than permitted\n"
     ]
    },
    {
     "name": "stderr",
     "output_type": "stream",
     "text": [
      "Epoch 530 Training: 100%|██████████| 1/1 [00:00<00:00, 40.10it/s]\n",
      "[16:48:22] Explicit valence for atom # 0 H, 4, is greater than permitted\n"
     ]
    },
    {
     "name": "stdout",
     "output_type": "stream",
     "text": [
      "Chemically invalid molecule! Reason: Explicit valence for atom # 0 H, 4, is greater than permitted\n"
     ]
    },
    {
     "name": "stderr",
     "output_type": "stream",
     "text": [
      "Epoch 531 Training: 100%|██████████| 1/1 [00:00<00:00, 42.75it/s]\n",
      "[16:48:23] Explicit valence for atom # 0 H, 4, is greater than permitted\n"
     ]
    },
    {
     "name": "stdout",
     "output_type": "stream",
     "text": [
      "Chemically invalid molecule! Reason: Explicit valence for atom # 0 H, 4, is greater than permitted\n"
     ]
    },
    {
     "name": "stderr",
     "output_type": "stream",
     "text": [
      "Epoch 532 Training: 100%|██████████| 1/1 [00:00<00:00, 37.78it/s]\n",
      "[16:48:23] Explicit valence for atom # 0 H, 4, is greater than permitted\n"
     ]
    },
    {
     "name": "stdout",
     "output_type": "stream",
     "text": [
      "Chemically invalid molecule! Reason: Explicit valence for atom # 0 H, 4, is greater than permitted\n"
     ]
    },
    {
     "name": "stderr",
     "output_type": "stream",
     "text": [
      "Epoch 533 Training: 100%|██████████| 1/1 [00:00<00:00, 42.58it/s]\n",
      "[16:48:23] Explicit valence for atom # 0 H, 4, is greater than permitted\n"
     ]
    },
    {
     "name": "stdout",
     "output_type": "stream",
     "text": [
      "Chemically invalid molecule! Reason: Explicit valence for atom # 0 H, 4, is greater than permitted\n"
     ]
    },
    {
     "name": "stderr",
     "output_type": "stream",
     "text": [
      "Epoch 534 Training: 100%|██████████| 1/1 [00:00<00:00, 41.46it/s]\n",
      "[16:48:23] Explicit valence for atom # 0 H, 4, is greater than permitted\n"
     ]
    },
    {
     "name": "stdout",
     "output_type": "stream",
     "text": [
      "Chemically invalid molecule! Reason: Explicit valence for atom # 0 H, 4, is greater than permitted\n"
     ]
    },
    {
     "name": "stderr",
     "output_type": "stream",
     "text": [
      "Epoch 535 Training: 100%|██████████| 1/1 [00:00<00:00, 42.44it/s]\n",
      "[16:48:23] Explicit valence for atom # 0 H, 4, is greater than permitted\n"
     ]
    },
    {
     "name": "stdout",
     "output_type": "stream",
     "text": [
      "Chemically invalid molecule! Reason: Explicit valence for atom # 0 H, 4, is greater than permitted\n"
     ]
    },
    {
     "name": "stderr",
     "output_type": "stream",
     "text": [
      "Epoch 536 Training: 100%|██████████| 1/1 [00:00<00:00, 43.14it/s]\n",
      "[16:48:23] Explicit valence for atom # 0 H, 4, is greater than permitted\n"
     ]
    },
    {
     "name": "stdout",
     "output_type": "stream",
     "text": [
      "Chemically invalid molecule! Reason: Explicit valence for atom # 0 H, 4, is greater than permitted\n"
     ]
    },
    {
     "name": "stderr",
     "output_type": "stream",
     "text": [
      "Epoch 537 Training: 100%|██████████| 1/1 [00:00<00:00, 41.83it/s]\n",
      "[16:48:23] Explicit valence for atom # 0 H, 4, is greater than permitted\n"
     ]
    },
    {
     "name": "stdout",
     "output_type": "stream",
     "text": [
      "Chemically invalid molecule! Reason: Explicit valence for atom # 0 H, 4, is greater than permitted\n"
     ]
    },
    {
     "name": "stderr",
     "output_type": "stream",
     "text": [
      "Epoch 538 Training: 100%|██████████| 1/1 [00:00<00:00, 42.61it/s]\n"
     ]
    },
    {
     "name": "stdout",
     "output_type": "stream",
     "text": [
      "Chemically invalid molecule! Reason: Explicit valence for atom # 0 H, 4, is greater than permitted\n"
     ]
    },
    {
     "name": "stderr",
     "output_type": "stream",
     "text": [
      "[16:48:23] Explicit valence for atom # 0 H, 4, is greater than permitted\n",
      "Epoch 539 Training: 100%|██████████| 1/1 [00:00<00:00, 37.94it/s]\n",
      "[16:48:23] Explicit valence for atom # 0 H, 4, is greater than permitted\n"
     ]
    },
    {
     "name": "stdout",
     "output_type": "stream",
     "text": [
      "Chemically invalid molecule! Reason: Explicit valence for atom # 0 H, 4, is greater than permitted\n"
     ]
    },
    {
     "name": "stderr",
     "output_type": "stream",
     "text": [
      "Epoch 540 Training: 100%|██████████| 1/1 [00:00<00:00, 40.50it/s]\n",
      "[16:48:23] Explicit valence for atom # 0 H, 4, is greater than permitted\n"
     ]
    },
    {
     "name": "stdout",
     "output_type": "stream",
     "text": [
      "Chemically invalid molecule! Reason: Explicit valence for atom # 0 H, 4, is greater than permitted\n"
     ]
    },
    {
     "name": "stderr",
     "output_type": "stream",
     "text": [
      "Epoch 541 Training: 100%|██████████| 1/1 [00:00<00:00, 42.50it/s]\n",
      "[16:48:23] Explicit valence for atom # 0 H, 4, is greater than permitted\n"
     ]
    },
    {
     "name": "stdout",
     "output_type": "stream",
     "text": [
      "Chemically invalid molecule! Reason: Explicit valence for atom # 0 H, 4, is greater than permitted\n"
     ]
    },
    {
     "name": "stderr",
     "output_type": "stream",
     "text": [
      "Epoch 542 Training: 100%|██████████| 1/1 [00:00<00:00, 42.01it/s]"
     ]
    },
    {
     "name": "stdout",
     "output_type": "stream",
     "text": [
      "Chemically invalid molecule! Reason: Explicit valence for atom # 0 H, 4, is greater than permitted\n"
     ]
    },
    {
     "name": "stderr",
     "output_type": "stream",
     "text": [
      "\n",
      "[16:48:23] Explicit valence for atom # 0 H, 4, is greater than permitted\n",
      "Epoch 543 Training: 100%|██████████| 1/1 [00:00<00:00, 42.45it/s]\n",
      "[16:48:23] Explicit valence for atom # 0 H, 4, is greater than permitted\n"
     ]
    },
    {
     "name": "stdout",
     "output_type": "stream",
     "text": [
      "Chemically invalid molecule! Reason: Explicit valence for atom # 0 H, 4, is greater than permitted\n"
     ]
    },
    {
     "name": "stderr",
     "output_type": "stream",
     "text": [
      "Epoch 544 Training: 100%|██████████| 1/1 [00:00<00:00, 41.55it/s]\n",
      "[16:48:23] Explicit valence for atom # 0 H, 4, is greater than permitted\n"
     ]
    },
    {
     "name": "stdout",
     "output_type": "stream",
     "text": [
      "Chemically invalid molecule! Reason: Explicit valence for atom # 0 H, 4, is greater than permitted\n"
     ]
    },
    {
     "name": "stderr",
     "output_type": "stream",
     "text": [
      "Epoch 545 Training: 100%|██████████| 1/1 [00:00<00:00, 43.81it/s]\n"
     ]
    },
    {
     "name": "stdout",
     "output_type": "stream",
     "text": [
      "Chemically invalid molecule! Reason: Explicit valence for atom # 0 H, 4, is greater than permitted\n"
     ]
    },
    {
     "name": "stderr",
     "output_type": "stream",
     "text": [
      "[16:48:23] Explicit valence for atom # 0 H, 4, is greater than permitted\n",
      "Epoch 546 Training: 100%|██████████| 1/1 [00:00<00:00, 43.60it/s]"
     ]
    },
    {
     "name": "stdout",
     "output_type": "stream",
     "text": [
      "Chemically invalid molecule! Reason: Explicit valence for atom # 0 H, 4, is greater than permitted\n"
     ]
    },
    {
     "name": "stderr",
     "output_type": "stream",
     "text": [
      "\n",
      "[16:48:24] Explicit valence for atom # 0 H, 4, is greater than permitted\n",
      "Epoch 547 Training: 100%|██████████| 1/1 [00:00<00:00, 42.71it/s]\n"
     ]
    },
    {
     "name": "stdout",
     "output_type": "stream",
     "text": [
      "Chemically invalid molecule! Reason: Explicit valence for atom # 0 H, 4, is greater than permitted\n"
     ]
    },
    {
     "name": "stderr",
     "output_type": "stream",
     "text": [
      "[16:48:24] Explicit valence for atom # 0 H, 4, is greater than permitted\n",
      "Epoch 548 Training: 100%|██████████| 1/1 [00:00<00:00, 43.50it/s]\n",
      "[16:48:24] Explicit valence for atom # 0 H, 4, is greater than permitted\n"
     ]
    },
    {
     "name": "stdout",
     "output_type": "stream",
     "text": [
      "Chemically invalid molecule! Reason: Explicit valence for atom # 0 H, 4, is greater than permitted\n"
     ]
    },
    {
     "name": "stderr",
     "output_type": "stream",
     "text": [
      "Epoch 549 Training: 100%|██████████| 1/1 [00:00<00:00, 42.82it/s]\n"
     ]
    },
    {
     "name": "stdout",
     "output_type": "stream",
     "text": [
      "Chemically invalid molecule! Reason: Explicit valence for atom # 0 H, 4, is greater than permitted\n"
     ]
    },
    {
     "name": "stderr",
     "output_type": "stream",
     "text": [
      "[16:48:24] Explicit valence for atom # 0 H, 4, is greater than permitted\n",
      "Epoch 550 Training: 100%|██████████| 1/1 [00:00<00:00, 41.74it/s]\n",
      "[16:48:24] Explicit valence for atom # 0 H, 4, is greater than permitted\n"
     ]
    },
    {
     "name": "stdout",
     "output_type": "stream",
     "text": [
      "Chemically invalid molecule! Reason: Explicit valence for atom # 0 H, 4, is greater than permitted\n"
     ]
    },
    {
     "name": "stderr",
     "output_type": "stream",
     "text": [
      "Epoch 551 Training: 100%|██████████| 1/1 [00:00<00:00, 34.52it/s]\n",
      "[16:48:24] Explicit valence for atom # 0 H, 4, is greater than permitted\n"
     ]
    },
    {
     "name": "stdout",
     "output_type": "stream",
     "text": [
      "Chemically invalid molecule! Reason: Explicit valence for atom # 0 H, 4, is greater than permitted\n"
     ]
    },
    {
     "name": "stderr",
     "output_type": "stream",
     "text": [
      "Epoch 552 Training: 100%|██████████| 1/1 [00:00<00:00, 42.19it/s]\n",
      "[16:48:24] Explicit valence for atom # 0 H, 4, is greater than permitted\n"
     ]
    },
    {
     "name": "stdout",
     "output_type": "stream",
     "text": [
      "Chemically invalid molecule! Reason: Explicit valence for atom # 0 H, 4, is greater than permitted\n"
     ]
    },
    {
     "name": "stderr",
     "output_type": "stream",
     "text": [
      "Epoch 553 Training: 100%|██████████| 1/1 [00:00<00:00, 40.81it/s]\n",
      "[16:48:24] Explicit valence for atom # 0 H, 4, is greater than permitted\n"
     ]
    },
    {
     "name": "stdout",
     "output_type": "stream",
     "text": [
      "Chemically invalid molecule! Reason: Explicit valence for atom # 0 H, 4, is greater than permitted\n"
     ]
    },
    {
     "name": "stderr",
     "output_type": "stream",
     "text": [
      "Epoch 554 Training: 100%|██████████| 1/1 [00:00<00:00, 41.01it/s]\n",
      "[16:48:24] Explicit valence for atom # 0 H, 4, is greater than permitted\n"
     ]
    },
    {
     "name": "stdout",
     "output_type": "stream",
     "text": [
      "Chemically invalid molecule! Reason: Explicit valence for atom # 0 H, 4, is greater than permitted\n"
     ]
    },
    {
     "name": "stderr",
     "output_type": "stream",
     "text": [
      "Epoch 555 Training: 100%|██████████| 1/1 [00:00<00:00, 42.82it/s]\n",
      "[16:48:24] Explicit valence for atom # 0 H, 4, is greater than permitted\n"
     ]
    },
    {
     "name": "stdout",
     "output_type": "stream",
     "text": [
      "Chemically invalid molecule! Reason: Explicit valence for atom # 0 H, 4, is greater than permitted\n"
     ]
    },
    {
     "name": "stderr",
     "output_type": "stream",
     "text": [
      "Epoch 556 Training: 100%|██████████| 1/1 [00:00<00:00, 41.57it/s]\n",
      "[16:48:24] Explicit valence for atom # 0 H, 4, is greater than permitted\n"
     ]
    },
    {
     "name": "stdout",
     "output_type": "stream",
     "text": [
      "Chemically invalid molecule! Reason: Explicit valence for atom # 0 H, 4, is greater than permitted\n"
     ]
    },
    {
     "name": "stderr",
     "output_type": "stream",
     "text": [
      "Epoch 557 Training: 100%|██████████| 1/1 [00:00<00:00, 41.44it/s]\n",
      "[16:48:24] Explicit valence for atom # 0 H, 4, is greater than permitted\n"
     ]
    },
    {
     "name": "stdout",
     "output_type": "stream",
     "text": [
      "Chemically invalid molecule! Reason: Explicit valence for atom # 0 H, 4, is greater than permitted\n"
     ]
    },
    {
     "name": "stderr",
     "output_type": "stream",
     "text": [
      "Epoch 558 Training: 100%|██████████| 1/1 [00:00<00:00, 35.52it/s]\n",
      "[16:48:24] Explicit valence for atom # 0 H, 4, is greater than permitted\n"
     ]
    },
    {
     "name": "stdout",
     "output_type": "stream",
     "text": [
      "Chemically invalid molecule! Reason: Explicit valence for atom # 0 H, 4, is greater than permitted\n"
     ]
    },
    {
     "name": "stderr",
     "output_type": "stream",
     "text": [
      "Epoch 559 Training: 100%|██████████| 1/1 [00:00<00:00, 42.73it/s]\n",
      "[16:48:24] Explicit valence for atom # 0 H, 4, is greater than permitted\n"
     ]
    },
    {
     "name": "stdout",
     "output_type": "stream",
     "text": [
      "Chemically invalid molecule! Reason: Explicit valence for atom # 0 H, 4, is greater than permitted\n"
     ]
    },
    {
     "name": "stderr",
     "output_type": "stream",
     "text": [
      "Epoch 560 Training: 100%|██████████| 1/1 [00:00<00:00, 42.53it/s]"
     ]
    },
    {
     "name": "stdout",
     "output_type": "stream",
     "text": [
      "Chemically invalid molecule! Reason: Explicit valence for atom # 0 H, 4, is greater than permitted\n"
     ]
    },
    {
     "name": "stderr",
     "output_type": "stream",
     "text": [
      "\n",
      "[16:48:24] Explicit valence for atom # 0 H, 4, is greater than permitted\n",
      "Epoch 561 Training: 100%|██████████| 1/1 [00:00<00:00, 42.48it/s]\n",
      "[16:48:25] Explicit valence for atom # 0 H, 4, is greater than permitted\n"
     ]
    },
    {
     "name": "stdout",
     "output_type": "stream",
     "text": [
      "Chemically invalid molecule! Reason: Explicit valence for atom # 0 H, 4, is greater than permitted\n"
     ]
    },
    {
     "name": "stderr",
     "output_type": "stream",
     "text": [
      "Epoch 562 Training: 100%|██████████| 1/1 [00:00<00:00, 41.51it/s]\n",
      "[16:48:25] Explicit valence for atom # 0 H, 4, is greater than permitted\n"
     ]
    },
    {
     "name": "stdout",
     "output_type": "stream",
     "text": [
      "Chemically invalid molecule! Reason: Explicit valence for atom # 0 H, 4, is greater than permitted\n"
     ]
    },
    {
     "name": "stderr",
     "output_type": "stream",
     "text": [
      "Epoch 563 Training: 100%|██████████| 1/1 [00:00<00:00, 41.39it/s]\n",
      "[16:48:25] Explicit valence for atom # 0 H, 4, is greater than permitted\n"
     ]
    },
    {
     "name": "stdout",
     "output_type": "stream",
     "text": [
      "Chemically invalid molecule! Reason: Explicit valence for atom # 0 H, 4, is greater than permitted\n"
     ]
    },
    {
     "name": "stderr",
     "output_type": "stream",
     "text": [
      "Epoch 564 Training: 100%|██████████| 1/1 [00:00<00:00, 42.11it/s]\n",
      "[16:48:25] Explicit valence for atom # 0 H, 4, is greater than permitted\n"
     ]
    },
    {
     "name": "stdout",
     "output_type": "stream",
     "text": [
      "Chemically invalid molecule! Reason: Explicit valence for atom # 0 H, 4, is greater than permitted\n"
     ]
    },
    {
     "name": "stderr",
     "output_type": "stream",
     "text": [
      "Epoch 565 Training: 100%|██████████| 1/1 [00:00<00:00, 41.95it/s]\n",
      "[16:48:25] Explicit valence for atom # 0 H, 4, is greater than permitted\n"
     ]
    },
    {
     "name": "stdout",
     "output_type": "stream",
     "text": [
      "Chemically invalid molecule! Reason: Explicit valence for atom # 0 H, 4, is greater than permitted\n"
     ]
    },
    {
     "name": "stderr",
     "output_type": "stream",
     "text": [
      "Epoch 566 Training: 100%|██████████| 1/1 [00:00<00:00, 42.38it/s]\n",
      "[16:48:25] Explicit valence for atom # 0 H, 4, is greater than permitted\n"
     ]
    },
    {
     "name": "stdout",
     "output_type": "stream",
     "text": [
      "Chemically invalid molecule! Reason: Explicit valence for atom # 0 H, 4, is greater than permitted\n"
     ]
    },
    {
     "name": "stderr",
     "output_type": "stream",
     "text": [
      "Epoch 567 Training: 100%|██████████| 1/1 [00:00<00:00, 41.10it/s]\n",
      "[16:48:25] Explicit valence for atom # 0 H, 4, is greater than permitted\n"
     ]
    },
    {
     "name": "stdout",
     "output_type": "stream",
     "text": [
      "Chemically invalid molecule! Reason: Explicit valence for atom # 0 H, 4, is greater than permitted\n"
     ]
    },
    {
     "name": "stderr",
     "output_type": "stream",
     "text": [
      "Epoch 568 Training: 100%|██████████| 1/1 [00:00<00:00, 41.29it/s]\n",
      "[16:48:25] Explicit valence for atom # 0 H, 4, is greater than permitted\n"
     ]
    },
    {
     "name": "stdout",
     "output_type": "stream",
     "text": [
      "Chemically invalid molecule! Reason: Explicit valence for atom # 0 H, 4, is greater than permitted\n"
     ]
    },
    {
     "name": "stderr",
     "output_type": "stream",
     "text": [
      "Epoch 569 Training: 100%|██████████| 1/1 [00:00<00:00, 41.41it/s]\n",
      "[16:48:25] Explicit valence for atom # 0 H, 4, is greater than permitted\n"
     ]
    },
    {
     "name": "stdout",
     "output_type": "stream",
     "text": [
      "Chemically invalid molecule! Reason: Explicit valence for atom # 0 H, 4, is greater than permitted\n"
     ]
    },
    {
     "name": "stderr",
     "output_type": "stream",
     "text": [
      "Epoch 570 Training: 100%|██████████| 1/1 [00:00<00:00, 41.01it/s]\n",
      "[16:48:25] Explicit valence for atom # 0 H, 4, is greater than permitted\n"
     ]
    },
    {
     "name": "stdout",
     "output_type": "stream",
     "text": [
      "Chemically invalid molecule! Reason: Explicit valence for atom # 0 H, 4, is greater than permitted\n"
     ]
    },
    {
     "name": "stderr",
     "output_type": "stream",
     "text": [
      "Epoch 571 Training: 100%|██████████| 1/1 [00:00<00:00, 41.62it/s]\n",
      "[16:48:25] Explicit valence for atom # 0 H, 4, is greater than permitted\n"
     ]
    },
    {
     "name": "stdout",
     "output_type": "stream",
     "text": [
      "Chemically invalid molecule! Reason: Explicit valence for atom # 0 H, 4, is greater than permitted\n"
     ]
    },
    {
     "name": "stderr",
     "output_type": "stream",
     "text": [
      "Epoch 572 Training: 100%|██████████| 1/1 [00:00<00:00, 39.31it/s]\n",
      "[16:48:25] Explicit valence for atom # 0 H, 4, is greater than permitted\n"
     ]
    },
    {
     "name": "stdout",
     "output_type": "stream",
     "text": [
      "Chemically invalid molecule! Reason: Explicit valence for atom # 0 H, 4, is greater than permitted\n"
     ]
    },
    {
     "name": "stderr",
     "output_type": "stream",
     "text": [
      "Epoch 573 Training: 100%|██████████| 1/1 [00:00<00:00, 37.69it/s]\n",
      "[16:48:25] Explicit valence for atom # 0 H, 4, is greater than permitted\n"
     ]
    },
    {
     "name": "stdout",
     "output_type": "stream",
     "text": [
      "Chemically invalid molecule! Reason: Explicit valence for atom # 0 H, 4, is greater than permitted\n"
     ]
    },
    {
     "name": "stderr",
     "output_type": "stream",
     "text": [
      "Epoch 574 Training: 100%|██████████| 1/1 [00:00<00:00, 38.51it/s]\n",
      "[16:48:25] Explicit valence for atom # 0 H, 4, is greater than permitted\n"
     ]
    },
    {
     "name": "stdout",
     "output_type": "stream",
     "text": [
      "Chemically invalid molecule! Reason: Explicit valence for atom # 0 H, 4, is greater than permitted\n"
     ]
    },
    {
     "name": "stderr",
     "output_type": "stream",
     "text": [
      "Epoch 575 Training: 100%|██████████| 1/1 [00:00<00:00, 34.62it/s]\n",
      "[16:48:25] Explicit valence for atom # 0 H, 4, is greater than permitted\n"
     ]
    },
    {
     "name": "stdout",
     "output_type": "stream",
     "text": [
      "Chemically invalid molecule! Reason: Explicit valence for atom # 0 H, 4, is greater than permitted\n"
     ]
    },
    {
     "name": "stderr",
     "output_type": "stream",
     "text": [
      "Epoch 576 Training: 100%|██████████| 1/1 [00:00<00:00, 41.69it/s]\n",
      "[16:48:26] Explicit valence for atom # 0 H, 4, is greater than permitted\n"
     ]
    },
    {
     "name": "stdout",
     "output_type": "stream",
     "text": [
      "Chemically invalid molecule! Reason: Explicit valence for atom # 0 H, 4, is greater than permitted\n"
     ]
    },
    {
     "name": "stderr",
     "output_type": "stream",
     "text": [
      "Epoch 577 Training: 100%|██████████| 1/1 [00:00<00:00, 36.04it/s]\n",
      "[16:48:26] Explicit valence for atom # 0 H, 4, is greater than permitted\n"
     ]
    },
    {
     "name": "stdout",
     "output_type": "stream",
     "text": [
      "Chemically invalid molecule! Reason: Explicit valence for atom # 0 H, 4, is greater than permitted\n"
     ]
    },
    {
     "name": "stderr",
     "output_type": "stream",
     "text": [
      "Epoch 578 Training: 100%|██████████| 1/1 [00:00<00:00, 34.44it/s]\n",
      "[16:48:26] Explicit valence for atom # 0 H, 4, is greater than permitted\n"
     ]
    },
    {
     "name": "stdout",
     "output_type": "stream",
     "text": [
      "Chemically invalid molecule! Reason: Explicit valence for atom # 0 H, 4, is greater than permitted\n"
     ]
    },
    {
     "name": "stderr",
     "output_type": "stream",
     "text": [
      "Epoch 579 Training: 100%|██████████| 1/1 [00:00<00:00, 41.00it/s]\n",
      "[16:48:26] Explicit valence for atom # 0 H, 4, is greater than permitted\n"
     ]
    },
    {
     "name": "stdout",
     "output_type": "stream",
     "text": [
      "Chemically invalid molecule! Reason: Explicit valence for atom # 0 H, 4, is greater than permitted\n"
     ]
    },
    {
     "name": "stderr",
     "output_type": "stream",
     "text": [
      "Epoch 580 Training: 100%|██████████| 1/1 [00:00<00:00, 33.77it/s]\n",
      "[16:48:26] Explicit valence for atom # 0 H, 4, is greater than permitted\n"
     ]
    },
    {
     "name": "stdout",
     "output_type": "stream",
     "text": [
      "Chemically invalid molecule! Reason: Explicit valence for atom # 0 H, 4, is greater than permitted\n"
     ]
    },
    {
     "name": "stderr",
     "output_type": "stream",
     "text": [
      "Epoch 581 Training: 100%|██████████| 1/1 [00:00<00:00, 38.91it/s]\n",
      "[16:48:26] Explicit valence for atom # 0 H, 4, is greater than permitted\n"
     ]
    },
    {
     "name": "stdout",
     "output_type": "stream",
     "text": [
      "Chemically invalid molecule! Reason: Explicit valence for atom # 0 H, 4, is greater than permitted\n"
     ]
    },
    {
     "name": "stderr",
     "output_type": "stream",
     "text": [
      "Epoch 582 Training: 100%|██████████| 1/1 [00:00<00:00, 32.70it/s]\n",
      "[16:48:26] Explicit valence for atom # 0 H, 4, is greater than permitted\n"
     ]
    },
    {
     "name": "stdout",
     "output_type": "stream",
     "text": [
      "Chemically invalid molecule! Reason: Explicit valence for atom # 0 H, 4, is greater than permitted\n"
     ]
    },
    {
     "name": "stderr",
     "output_type": "stream",
     "text": [
      "Epoch 583 Training: 100%|██████████| 1/1 [00:00<00:00, 40.80it/s]\n",
      "[16:48:26] Explicit valence for atom # 0 H, 4, is greater than permitted\n"
     ]
    },
    {
     "name": "stdout",
     "output_type": "stream",
     "text": [
      "Chemically invalid molecule! Reason: Explicit valence for atom # 0 H, 4, is greater than permitted\n"
     ]
    },
    {
     "name": "stderr",
     "output_type": "stream",
     "text": [
      "Epoch 584 Training: 100%|██████████| 1/1 [00:00<00:00, 41.78it/s]\n",
      "[16:48:26] Explicit valence for atom # 0 H, 4, is greater than permitted\n"
     ]
    },
    {
     "name": "stdout",
     "output_type": "stream",
     "text": [
      "Chemically invalid molecule! Reason: Explicit valence for atom # 0 H, 4, is greater than permitted\n"
     ]
    },
    {
     "name": "stderr",
     "output_type": "stream",
     "text": [
      "Epoch 585 Training: 100%|██████████| 1/1 [00:00<00:00, 39.75it/s]\n",
      "[16:48:26] Explicit valence for atom # 0 H, 4, is greater than permitted\n"
     ]
    },
    {
     "name": "stdout",
     "output_type": "stream",
     "text": [
      "Chemically invalid molecule! Reason: Explicit valence for atom # 0 H, 4, is greater than permitted\n"
     ]
    },
    {
     "name": "stderr",
     "output_type": "stream",
     "text": [
      "Epoch 586 Training: 100%|██████████| 1/1 [00:00<00:00, 38.62it/s]\n",
      "[16:48:26] Explicit valence for atom # 0 H, 4, is greater than permitted\n"
     ]
    },
    {
     "name": "stdout",
     "output_type": "stream",
     "text": [
      "Chemically invalid molecule! Reason: Explicit valence for atom # 0 H, 4, is greater than permitted\n"
     ]
    },
    {
     "name": "stderr",
     "output_type": "stream",
     "text": [
      "Epoch 587 Training: 100%|██████████| 1/1 [00:00<00:00, 40.45it/s]\n",
      "[16:48:26] Explicit valence for atom # 0 H, 4, is greater than permitted\n"
     ]
    },
    {
     "name": "stdout",
     "output_type": "stream",
     "text": [
      "Chemically invalid molecule! Reason: Explicit valence for atom # 0 H, 4, is greater than permitted\n"
     ]
    },
    {
     "name": "stderr",
     "output_type": "stream",
     "text": [
      "Epoch 588 Training: 100%|██████████| 1/1 [00:00<00:00, 42.01it/s]\n",
      "[16:48:26] Explicit valence for atom # 0 H, 4, is greater than permitted\n"
     ]
    },
    {
     "name": "stdout",
     "output_type": "stream",
     "text": [
      "Chemically invalid molecule! Reason: Explicit valence for atom # 0 H, 4, is greater than permitted\n"
     ]
    },
    {
     "name": "stderr",
     "output_type": "stream",
     "text": [
      "Epoch 589 Training: 100%|██████████| 1/1 [00:00<00:00, 38.97it/s]\n",
      "[16:48:27] Explicit valence for atom # 0 H, 4, is greater than permitted\n"
     ]
    },
    {
     "name": "stdout",
     "output_type": "stream",
     "text": [
      "Chemically invalid molecule! Reason: Explicit valence for atom # 0 H, 4, is greater than permitted\n"
     ]
    },
    {
     "name": "stderr",
     "output_type": "stream",
     "text": [
      "Epoch 590 Training: 100%|██████████| 1/1 [00:00<00:00, 38.27it/s]\n",
      "[16:48:27] Explicit valence for atom # 0 H, 4, is greater than permitted\n"
     ]
    },
    {
     "name": "stdout",
     "output_type": "stream",
     "text": [
      "Chemically invalid molecule! Reason: Explicit valence for atom # 0 H, 4, is greater than permitted\n"
     ]
    },
    {
     "name": "stderr",
     "output_type": "stream",
     "text": [
      "Epoch 591 Training: 100%|██████████| 1/1 [00:00<00:00, 42.37it/s]\n",
      "[16:48:27] Explicit valence for atom # 0 H, 4, is greater than permitted\n"
     ]
    },
    {
     "name": "stdout",
     "output_type": "stream",
     "text": [
      "Chemically invalid molecule! Reason: Explicit valence for atom # 0 H, 4, is greater than permitted\n"
     ]
    },
    {
     "name": "stderr",
     "output_type": "stream",
     "text": [
      "Epoch 592 Training: 100%|██████████| 1/1 [00:00<00:00, 40.66it/s]\n",
      "[16:48:27] Explicit valence for atom # 0 H, 4, is greater than permitted\n"
     ]
    },
    {
     "name": "stdout",
     "output_type": "stream",
     "text": [
      "Chemically invalid molecule! Reason: Explicit valence for atom # 0 H, 4, is greater than permitted\n"
     ]
    },
    {
     "name": "stderr",
     "output_type": "stream",
     "text": [
      "Epoch 593 Training: 100%|██████████| 1/1 [00:00<00:00, 42.19it/s]\n",
      "[16:48:27] Explicit valence for atom # 0 H, 4, is greater than permitted\n"
     ]
    },
    {
     "name": "stdout",
     "output_type": "stream",
     "text": [
      "Chemically invalid molecule! Reason: Explicit valence for atom # 0 H, 4, is greater than permitted\n"
     ]
    },
    {
     "name": "stderr",
     "output_type": "stream",
     "text": [
      "Epoch 594 Training: 100%|██████████| 1/1 [00:00<00:00, 39.89it/s]\n",
      "[16:48:27] Explicit valence for atom # 0 H, 4, is greater than permitted\n"
     ]
    },
    {
     "name": "stdout",
     "output_type": "stream",
     "text": [
      "Chemically invalid molecule! Reason: Explicit valence for atom # 0 H, 4, is greater than permitted\n"
     ]
    },
    {
     "name": "stderr",
     "output_type": "stream",
     "text": [
      "Epoch 595 Training: 100%|██████████| 1/1 [00:00<00:00, 43.27it/s]\n",
      "[16:48:27] Explicit valence for atom # 0 H, 4, is greater than permitted\n"
     ]
    },
    {
     "name": "stdout",
     "output_type": "stream",
     "text": [
      "Chemically invalid molecule! Reason: Explicit valence for atom # 0 H, 4, is greater than permitted\n"
     ]
    },
    {
     "name": "stderr",
     "output_type": "stream",
     "text": [
      "Epoch 596 Training: 100%|██████████| 1/1 [00:00<00:00, 35.44it/s]\n",
      "[16:48:27] Explicit valence for atom # 0 H, 4, is greater than permitted\n"
     ]
    },
    {
     "name": "stdout",
     "output_type": "stream",
     "text": [
      "Chemically invalid molecule! Reason: Explicit valence for atom # 0 H, 4, is greater than permitted\n"
     ]
    },
    {
     "name": "stderr",
     "output_type": "stream",
     "text": [
      "Epoch 597 Training: 100%|██████████| 1/1 [00:00<00:00, 32.99it/s]\n",
      "[16:48:27] Explicit valence for atom # 0 H, 4, is greater than permitted\n"
     ]
    },
    {
     "name": "stdout",
     "output_type": "stream",
     "text": [
      "Chemically invalid molecule! Reason: Explicit valence for atom # 0 H, 4, is greater than permitted\n"
     ]
    },
    {
     "name": "stderr",
     "output_type": "stream",
     "text": [
      "Epoch 598 Training: 100%|██████████| 1/1 [00:00<00:00, 41.32it/s]\n",
      "[16:48:27] Explicit valence for atom # 0 H, 4, is greater than permitted\n"
     ]
    },
    {
     "name": "stdout",
     "output_type": "stream",
     "text": [
      "Chemically invalid molecule! Reason: Explicit valence for atom # 0 H, 4, is greater than permitted\n"
     ]
    },
    {
     "name": "stderr",
     "output_type": "stream",
     "text": [
      "Epoch 599 Training: 100%|██████████| 1/1 [00:00<00:00, 38.10it/s]\n",
      "[16:48:27] Explicit valence for atom # 0 H, 4, is greater than permitted\n"
     ]
    },
    {
     "name": "stdout",
     "output_type": "stream",
     "text": [
      "Chemically invalid molecule! Reason: Explicit valence for atom # 0 H, 4, is greater than permitted\n"
     ]
    },
    {
     "name": "stderr",
     "output_type": "stream",
     "text": [
      "Epoch 600 Training: 100%|██████████| 1/1 [00:00<00:00, 42.08it/s]\n",
      "[16:48:27] Explicit valence for atom # 0 H, 4, is greater than permitted\n"
     ]
    },
    {
     "name": "stdout",
     "output_type": "stream",
     "text": [
      "Chemically invalid molecule! Reason: Explicit valence for atom # 0 H, 4, is greater than permitted\n"
     ]
    },
    {
     "name": "stderr",
     "output_type": "stream",
     "text": [
      "Epoch 601 Training: 100%|██████████| 1/1 [00:00<00:00,  3.13it/s]\n",
      "[16:48:28] Explicit valence for atom # 0 H, 4, is greater than permitted\n"
     ]
    },
    {
     "name": "stdout",
     "output_type": "stream",
     "text": [
      "Chemically invalid molecule! Reason: Explicit valence for atom # 0 H, 4, is greater than permitted\n"
     ]
    },
    {
     "name": "stderr",
     "output_type": "stream",
     "text": [
      "Epoch 602 Training: 100%|██████████| 1/1 [00:00<00:00, 41.04it/s]\n",
      "[16:48:28] Explicit valence for atom # 0 H, 4, is greater than permitted\n"
     ]
    },
    {
     "name": "stdout",
     "output_type": "stream",
     "text": [
      "Chemically invalid molecule! Reason: Explicit valence for atom # 0 H, 4, is greater than permitted\n"
     ]
    },
    {
     "name": "stderr",
     "output_type": "stream",
     "text": [
      "Epoch 603 Training: 100%|██████████| 1/1 [00:00<00:00, 42.12it/s]\n",
      "[16:48:28] Explicit valence for atom # 0 H, 4, is greater than permitted\n"
     ]
    },
    {
     "name": "stdout",
     "output_type": "stream",
     "text": [
      "Chemically invalid molecule! Reason: Explicit valence for atom # 0 H, 4, is greater than permitted\n"
     ]
    },
    {
     "name": "stderr",
     "output_type": "stream",
     "text": [
      "Epoch 604 Training: 100%|██████████| 1/1 [00:00<00:00, 39.01it/s]\n",
      "[16:48:28] Explicit valence for atom # 0 H, 4, is greater than permitted\n"
     ]
    },
    {
     "name": "stdout",
     "output_type": "stream",
     "text": [
      "Chemically invalid molecule! Reason: Explicit valence for atom # 0 H, 4, is greater than permitted\n"
     ]
    },
    {
     "name": "stderr",
     "output_type": "stream",
     "text": [
      "Epoch 605 Training: 100%|██████████| 1/1 [00:00<00:00, 40.42it/s]\n",
      "[16:48:28] Explicit valence for atom # 0 H, 4, is greater than permitted\n"
     ]
    },
    {
     "name": "stdout",
     "output_type": "stream",
     "text": [
      "Chemically invalid molecule! Reason: Explicit valence for atom # 0 H, 4, is greater than permitted\n"
     ]
    },
    {
     "name": "stderr",
     "output_type": "stream",
     "text": [
      "Epoch 606 Training: 100%|██████████| 1/1 [00:00<00:00, 39.06it/s]\n",
      "[16:48:28] Explicit valence for atom # 0 H, 4, is greater than permitted\n"
     ]
    },
    {
     "name": "stdout",
     "output_type": "stream",
     "text": [
      "Chemically invalid molecule! Reason: Explicit valence for atom # 0 H, 4, is greater than permitted\n"
     ]
    },
    {
     "name": "stderr",
     "output_type": "stream",
     "text": [
      "Epoch 607 Training: 100%|██████████| 1/1 [00:00<00:00, 40.23it/s]\n",
      "[16:48:28] Explicit valence for atom # 0 H, 4, is greater than permitted\n"
     ]
    },
    {
     "name": "stdout",
     "output_type": "stream",
     "text": [
      "Chemically invalid molecule! Reason: Explicit valence for atom # 0 H, 4, is greater than permitted\n"
     ]
    },
    {
     "name": "stderr",
     "output_type": "stream",
     "text": [
      "Epoch 608 Training: 100%|██████████| 1/1 [00:00<00:00, 40.75it/s]\n",
      "[16:48:28] Explicit valence for atom # 0 H, 4, is greater than permitted\n"
     ]
    },
    {
     "name": "stdout",
     "output_type": "stream",
     "text": [
      "Chemically invalid molecule! Reason: Explicit valence for atom # 0 H, 4, is greater than permitted\n"
     ]
    },
    {
     "name": "stderr",
     "output_type": "stream",
     "text": [
      "Epoch 609 Training: 100%|██████████| 1/1 [00:00<00:00, 27.18it/s]\n",
      "[16:48:28] Explicit valence for atom # 0 H, 4, is greater than permitted\n"
     ]
    },
    {
     "name": "stdout",
     "output_type": "stream",
     "text": [
      "Chemically invalid molecule! Reason: Explicit valence for atom # 0 H, 4, is greater than permitted\n"
     ]
    },
    {
     "name": "stderr",
     "output_type": "stream",
     "text": [
      "Epoch 610 Training: 100%|██████████| 1/1 [00:00<00:00, 40.63it/s]\n",
      "[16:48:28] Explicit valence for atom # 0 H, 4, is greater than permitted\n"
     ]
    },
    {
     "name": "stdout",
     "output_type": "stream",
     "text": [
      "Chemically invalid molecule! Reason: Explicit valence for atom # 0 H, 4, is greater than permitted\n"
     ]
    },
    {
     "name": "stderr",
     "output_type": "stream",
     "text": [
      "Epoch 611 Training: 100%|██████████| 1/1 [00:00<00:00, 41.40it/s]\n",
      "[16:48:28] Explicit valence for atom # 0 H, 4, is greater than permitted\n"
     ]
    },
    {
     "name": "stdout",
     "output_type": "stream",
     "text": [
      "Chemically invalid molecule! Reason: Explicit valence for atom # 0 H, 4, is greater than permitted\n"
     ]
    },
    {
     "name": "stderr",
     "output_type": "stream",
     "text": [
      "Epoch 612 Training: 100%|██████████| 1/1 [00:00<00:00, 40.36it/s]\n",
      "[16:48:29] Explicit valence for atom # 0 H, 4, is greater than permitted\n"
     ]
    },
    {
     "name": "stdout",
     "output_type": "stream",
     "text": [
      "Chemically invalid molecule! Reason: Explicit valence for atom # 0 H, 4, is greater than permitted\n"
     ]
    },
    {
     "name": "stderr",
     "output_type": "stream",
     "text": [
      "Epoch 613 Training: 100%|██████████| 1/1 [00:00<00:00, 41.98it/s]\n",
      "[16:48:29] Explicit valence for atom # 0 H, 4, is greater than permitted\n"
     ]
    },
    {
     "name": "stdout",
     "output_type": "stream",
     "text": [
      "Chemically invalid molecule! Reason: Explicit valence for atom # 0 H, 4, is greater than permitted\n"
     ]
    },
    {
     "name": "stderr",
     "output_type": "stream",
     "text": [
      "Epoch 614 Training: 100%|██████████| 1/1 [00:00<00:00, 30.17it/s]\n",
      "[16:48:29] Explicit valence for atom # 0 H, 4, is greater than permitted\n"
     ]
    },
    {
     "name": "stdout",
     "output_type": "stream",
     "text": [
      "Chemically invalid molecule! Reason: Explicit valence for atom # 0 H, 4, is greater than permitted\n"
     ]
    },
    {
     "name": "stderr",
     "output_type": "stream",
     "text": [
      "Epoch 615 Training: 100%|██████████| 1/1 [00:00<00:00, 42.64it/s]\n",
      "[16:48:29] Explicit valence for atom # 0 H, 4, is greater than permitted\n"
     ]
    },
    {
     "name": "stdout",
     "output_type": "stream",
     "text": [
      "Chemically invalid molecule! Reason: Explicit valence for atom # 0 H, 4, is greater than permitted\n"
     ]
    },
    {
     "name": "stderr",
     "output_type": "stream",
     "text": [
      "Epoch 616 Training: 100%|██████████| 1/1 [00:00<00:00, 42.32it/s]\n",
      "[16:48:29] Explicit valence for atom # 0 H, 4, is greater than permitted\n"
     ]
    },
    {
     "name": "stdout",
     "output_type": "stream",
     "text": [
      "Chemically invalid molecule! Reason: Explicit valence for atom # 0 H, 4, is greater than permitted\n"
     ]
    },
    {
     "name": "stderr",
     "output_type": "stream",
     "text": [
      "Epoch 617 Training: 100%|██████████| 1/1 [00:00<00:00, 42.10it/s]\n",
      "[16:48:29] Explicit valence for atom # 0 H, 4, is greater than permitted\n"
     ]
    },
    {
     "name": "stdout",
     "output_type": "stream",
     "text": [
      "Chemically invalid molecule! Reason: Explicit valence for atom # 0 H, 4, is greater than permitted\n"
     ]
    },
    {
     "name": "stderr",
     "output_type": "stream",
     "text": [
      "Epoch 618 Training: 100%|██████████| 1/1 [00:00<00:00, 41.78it/s]\n",
      "[16:48:29] Explicit valence for atom # 0 H, 4, is greater than permitted\n"
     ]
    },
    {
     "name": "stdout",
     "output_type": "stream",
     "text": [
      "Chemically invalid molecule! Reason: Explicit valence for atom # 0 H, 4, is greater than permitted\n"
     ]
    },
    {
     "name": "stderr",
     "output_type": "stream",
     "text": [
      "Epoch 619 Training: 100%|██████████| 1/1 [00:00<00:00, 42.45it/s]\n"
     ]
    },
    {
     "name": "stdout",
     "output_type": "stream",
     "text": [
      "Chemically invalid molecule! Reason: Explicit valence for atom # 0 H, 4, is greater than permitted\n"
     ]
    },
    {
     "name": "stderr",
     "output_type": "stream",
     "text": [
      "[16:48:29] Explicit valence for atom # 0 H, 4, is greater than permitted\n",
      "Epoch 620 Training: 100%|██████████| 1/1 [00:00<00:00, 39.42it/s]\n",
      "[16:48:29] Explicit valence for atom # 0 H, 4, is greater than permitted\n"
     ]
    },
    {
     "name": "stdout",
     "output_type": "stream",
     "text": [
      "Chemically invalid molecule! Reason: Explicit valence for atom # 0 H, 4, is greater than permitted\n"
     ]
    },
    {
     "name": "stderr",
     "output_type": "stream",
     "text": [
      "Epoch 621 Training: 100%|██████████| 1/1 [00:00<00:00, 38.97it/s]\n",
      "[16:48:29] Explicit valence for atom # 0 H, 4, is greater than permitted\n"
     ]
    },
    {
     "name": "stdout",
     "output_type": "stream",
     "text": [
      "Chemically invalid molecule! Reason: Explicit valence for atom # 0 H, 4, is greater than permitted\n"
     ]
    },
    {
     "name": "stderr",
     "output_type": "stream",
     "text": [
      "Epoch 622 Training: 100%|██████████| 1/1 [00:00<00:00, 42.31it/s]\n",
      "[16:48:29] Explicit valence for atom # 0 H, 4, is greater than permitted\n"
     ]
    },
    {
     "name": "stdout",
     "output_type": "stream",
     "text": [
      "Chemically invalid molecule! Reason: Explicit valence for atom # 0 H, 4, is greater than permitted\n"
     ]
    },
    {
     "name": "stderr",
     "output_type": "stream",
     "text": [
      "Epoch 623 Training: 100%|██████████| 1/1 [00:00<00:00, 42.46it/s]\n",
      "[16:48:29] Explicit valence for atom # 0 H, 4, is greater than permitted\n"
     ]
    },
    {
     "name": "stdout",
     "output_type": "stream",
     "text": [
      "Chemically invalid molecule! Reason: Explicit valence for atom # 0 H, 4, is greater than permitted\n"
     ]
    },
    {
     "name": "stderr",
     "output_type": "stream",
     "text": [
      "Epoch 624 Training: 100%|██████████| 1/1 [00:00<00:00, 39.39it/s]\n",
      "[16:48:29] Explicit valence for atom # 0 H, 4, is greater than permitted\n"
     ]
    },
    {
     "name": "stdout",
     "output_type": "stream",
     "text": [
      "Chemically invalid molecule! Reason: Explicit valence for atom # 0 H, 4, is greater than permitted\n"
     ]
    },
    {
     "name": "stderr",
     "output_type": "stream",
     "text": [
      "Epoch 625 Training: 100%|██████████| 1/1 [00:00<00:00, 42.03it/s]\n",
      "[16:48:29] Explicit valence for atom # 0 H, 4, is greater than permitted\n"
     ]
    },
    {
     "name": "stdout",
     "output_type": "stream",
     "text": [
      "Chemically invalid molecule! Reason: Explicit valence for atom # 0 H, 4, is greater than permitted\n"
     ]
    },
    {
     "name": "stderr",
     "output_type": "stream",
     "text": [
      "Epoch 626 Training: 100%|██████████| 1/1 [00:00<00:00, 41.12it/s]\n",
      "[16:48:29] Explicit valence for atom # 0 H, 4, is greater than permitted\n"
     ]
    },
    {
     "name": "stdout",
     "output_type": "stream",
     "text": [
      "Chemically invalid molecule! Reason: Explicit valence for atom # 0 H, 4, is greater than permitted\n"
     ]
    },
    {
     "name": "stderr",
     "output_type": "stream",
     "text": [
      "Epoch 627 Training: 100%|██████████| 1/1 [00:00<00:00, 39.85it/s]"
     ]
    },
    {
     "name": "stdout",
     "output_type": "stream",
     "text": [
      "Chemically invalid molecule! Reason: Explicit valence for atom # 0 H, 4, is greater than permitted\n"
     ]
    },
    {
     "name": "stderr",
     "output_type": "stream",
     "text": [
      "\n",
      "[16:48:30] Explicit valence for atom # 0 H, 4, is greater than permitted\n",
      "Epoch 628 Training: 100%|██████████| 1/1 [00:00<00:00, 41.12it/s]\n",
      "[16:48:30] Explicit valence for atom # 0 H, 4, is greater than permitted\n"
     ]
    },
    {
     "name": "stdout",
     "output_type": "stream",
     "text": [
      "Chemically invalid molecule! Reason: Explicit valence for atom # 0 H, 4, is greater than permitted\n"
     ]
    },
    {
     "name": "stderr",
     "output_type": "stream",
     "text": [
      "Epoch 629 Training: 100%|██████████| 1/1 [00:00<00:00, 40.96it/s]\n",
      "[16:48:30] Explicit valence for atom # 0 H, 4, is greater than permitted\n"
     ]
    },
    {
     "name": "stdout",
     "output_type": "stream",
     "text": [
      "Chemically invalid molecule! Reason: Explicit valence for atom # 0 H, 4, is greater than permitted\n"
     ]
    },
    {
     "name": "stderr",
     "output_type": "stream",
     "text": [
      "Epoch 630 Training: 100%|██████████| 1/1 [00:00<00:00, 41.51it/s]\n",
      "[16:48:30] Explicit valence for atom # 0 H, 4, is greater than permitted\n"
     ]
    },
    {
     "name": "stdout",
     "output_type": "stream",
     "text": [
      "Chemically invalid molecule! Reason: Explicit valence for atom # 0 H, 4, is greater than permitted\n"
     ]
    },
    {
     "name": "stderr",
     "output_type": "stream",
     "text": [
      "Epoch 631 Training: 100%|██████████| 1/1 [00:00<00:00, 39.84it/s]\n",
      "[16:48:30] Explicit valence for atom # 0 H, 4, is greater than permitted\n"
     ]
    },
    {
     "name": "stdout",
     "output_type": "stream",
     "text": [
      "Chemically invalid molecule! Reason: Explicit valence for atom # 0 H, 4, is greater than permitted\n"
     ]
    },
    {
     "name": "stderr",
     "output_type": "stream",
     "text": [
      "Epoch 632 Training: 100%|██████████| 1/1 [00:00<00:00, 42.22it/s]\n",
      "[16:48:30] Explicit valence for atom # 0 H, 4, is greater than permitted\n"
     ]
    },
    {
     "name": "stdout",
     "output_type": "stream",
     "text": [
      "Chemically invalid molecule! Reason: Explicit valence for atom # 0 H, 4, is greater than permitted\n"
     ]
    },
    {
     "name": "stderr",
     "output_type": "stream",
     "text": [
      "Epoch 633 Training: 100%|██████████| 1/1 [00:00<00:00, 35.79it/s]\n",
      "[16:48:30] Explicit valence for atom # 0 H, 4, is greater than permitted\n"
     ]
    },
    {
     "name": "stdout",
     "output_type": "stream",
     "text": [
      "Chemically invalid molecule! Reason: Explicit valence for atom # 0 H, 4, is greater than permitted\n"
     ]
    },
    {
     "name": "stderr",
     "output_type": "stream",
     "text": [
      "Epoch 634 Training: 100%|██████████| 1/1 [00:00<00:00, 38.34it/s]\n",
      "[16:48:30] Explicit valence for atom # 0 H, 4, is greater than permitted\n"
     ]
    },
    {
     "name": "stdout",
     "output_type": "stream",
     "text": [
      "Chemically invalid molecule! Reason: Explicit valence for atom # 0 H, 4, is greater than permitted\n"
     ]
    },
    {
     "name": "stderr",
     "output_type": "stream",
     "text": [
      "Epoch 635 Training: 100%|██████████| 1/1 [00:00<00:00, 40.83it/s]\n",
      "[16:48:30] Explicit valence for atom # 0 H, 4, is greater than permitted\n"
     ]
    },
    {
     "name": "stdout",
     "output_type": "stream",
     "text": [
      "Chemically invalid molecule! Reason: Explicit valence for atom # 0 H, 4, is greater than permitted\n"
     ]
    },
    {
     "name": "stderr",
     "output_type": "stream",
     "text": [
      "Epoch 636 Training: 100%|██████████| 1/1 [00:00<00:00, 39.54it/s]\n",
      "[16:48:30] Explicit valence for atom # 0 H, 4, is greater than permitted\n"
     ]
    },
    {
     "name": "stdout",
     "output_type": "stream",
     "text": [
      "Chemically invalid molecule! Reason: Explicit valence for atom # 0 H, 4, is greater than permitted\n"
     ]
    },
    {
     "name": "stderr",
     "output_type": "stream",
     "text": [
      "Epoch 637 Training: 100%|██████████| 1/1 [00:00<00:00, 39.61it/s]\n",
      "[16:48:30] Explicit valence for atom # 0 H, 4, is greater than permitted\n"
     ]
    },
    {
     "name": "stdout",
     "output_type": "stream",
     "text": [
      "Chemically invalid molecule! Reason: Explicit valence for atom # 0 H, 4, is greater than permitted\n"
     ]
    },
    {
     "name": "stderr",
     "output_type": "stream",
     "text": [
      "Epoch 638 Training: 100%|██████████| 1/1 [00:00<00:00, 39.40it/s]\n",
      "[16:48:30] Explicit valence for atom # 0 H, 4, is greater than permitted\n"
     ]
    },
    {
     "name": "stdout",
     "output_type": "stream",
     "text": [
      "Chemically invalid molecule! Reason: Explicit valence for atom # 0 H, 4, is greater than permitted\n"
     ]
    },
    {
     "name": "stderr",
     "output_type": "stream",
     "text": [
      "Epoch 639 Training: 100%|██████████| 1/1 [00:00<00:00, 40.31it/s]\n",
      "[16:48:30] Explicit valence for atom # 0 H, 4, is greater than permitted\n"
     ]
    },
    {
     "name": "stdout",
     "output_type": "stream",
     "text": [
      "Chemically invalid molecule! Reason: Explicit valence for atom # 0 H, 4, is greater than permitted\n"
     ]
    },
    {
     "name": "stderr",
     "output_type": "stream",
     "text": [
      "Epoch 640 Training: 100%|██████████| 1/1 [00:00<00:00, 40.42it/s]\n",
      "[16:48:31] Explicit valence for atom # 0 H, 4, is greater than permitted\n"
     ]
    },
    {
     "name": "stdout",
     "output_type": "stream",
     "text": [
      "Chemically invalid molecule! Reason: Explicit valence for atom # 0 H, 4, is greater than permitted\n"
     ]
    },
    {
     "name": "stderr",
     "output_type": "stream",
     "text": [
      "Epoch 641 Training: 100%|██████████| 1/1 [00:00<00:00, 42.85it/s]\n",
      "[16:48:31] Explicit valence for atom # 0 H, 4, is greater than permitted\n"
     ]
    },
    {
     "name": "stdout",
     "output_type": "stream",
     "text": [
      "Chemically invalid molecule! Reason: Explicit valence for atom # 0 H, 4, is greater than permitted\n"
     ]
    },
    {
     "name": "stderr",
     "output_type": "stream",
     "text": [
      "Epoch 642 Training: 100%|██████████| 1/1 [00:00<00:00, 42.10it/s]\n",
      "[16:48:31] Explicit valence for atom # 0 H, 4, is greater than permitted\n"
     ]
    },
    {
     "name": "stdout",
     "output_type": "stream",
     "text": [
      "Chemically invalid molecule! Reason: Explicit valence for atom # 0 H, 4, is greater than permitted\n"
     ]
    },
    {
     "name": "stderr",
     "output_type": "stream",
     "text": [
      "Epoch 643 Training: 100%|██████████| 1/1 [00:00<00:00, 42.91it/s]\n",
      "[16:48:31] Explicit valence for atom # 0 H, 4, is greater than permitted\n"
     ]
    },
    {
     "name": "stdout",
     "output_type": "stream",
     "text": [
      "Chemically invalid molecule! Reason: Explicit valence for atom # 0 H, 4, is greater than permitted\n"
     ]
    },
    {
     "name": "stderr",
     "output_type": "stream",
     "text": [
      "Epoch 644 Training: 100%|██████████| 1/1 [00:00<00:00, 42.75it/s]\n",
      "[16:48:31] Explicit valence for atom # 0 H, 4, is greater than permitted\n"
     ]
    },
    {
     "name": "stdout",
     "output_type": "stream",
     "text": [
      "Chemically invalid molecule! Reason: Explicit valence for atom # 0 H, 4, is greater than permitted\n"
     ]
    },
    {
     "name": "stderr",
     "output_type": "stream",
     "text": [
      "Epoch 645 Training: 100%|██████████| 1/1 [00:00<00:00, 41.47it/s]"
     ]
    },
    {
     "name": "stdout",
     "output_type": "stream",
     "text": [
      "Chemically invalid molecule! Reason: Explicit valence for atom # 0 H, 4, is greater than permitted\n"
     ]
    },
    {
     "name": "stderr",
     "output_type": "stream",
     "text": [
      "\n",
      "[16:48:31] Explicit valence for atom # 0 H, 4, is greater than permitted\n",
      "Epoch 646 Training: 100%|██████████| 1/1 [00:00<00:00, 39.96it/s]"
     ]
    },
    {
     "name": "stdout",
     "output_type": "stream",
     "text": [
      "Chemically invalid molecule! Reason: Explicit valence for atom # 0 H, 4, is greater than permitted\n"
     ]
    },
    {
     "name": "stderr",
     "output_type": "stream",
     "text": [
      "\n",
      "[16:48:31] Explicit valence for atom # 0 H, 4, is greater than permitted\n",
      "Epoch 647 Training: 100%|██████████| 1/1 [00:00<00:00, 40.10it/s]\n",
      "[16:48:31] Explicit valence for atom # 0 H, 4, is greater than permitted\n"
     ]
    },
    {
     "name": "stdout",
     "output_type": "stream",
     "text": [
      "Chemically invalid molecule! Reason: Explicit valence for atom # 0 H, 4, is greater than permitted\n"
     ]
    },
    {
     "name": "stderr",
     "output_type": "stream",
     "text": [
      "Epoch 648 Training: 100%|██████████| 1/1 [00:00<00:00, 39.72it/s]\n",
      "[16:48:31] Explicit valence for atom # 0 H, 4, is greater than permitted\n"
     ]
    },
    {
     "name": "stdout",
     "output_type": "stream",
     "text": [
      "Chemically invalid molecule! Reason: Explicit valence for atom # 0 H, 4, is greater than permitted\n"
     ]
    },
    {
     "name": "stderr",
     "output_type": "stream",
     "text": [
      "Epoch 649 Training: 100%|██████████| 1/1 [00:00<00:00, 40.85it/s]\n",
      "[16:48:31] Explicit valence for atom # 0 H, 4, is greater than permitted\n"
     ]
    },
    {
     "name": "stdout",
     "output_type": "stream",
     "text": [
      "Chemically invalid molecule! Reason: Explicit valence for atom # 0 H, 4, is greater than permitted\n"
     ]
    },
    {
     "name": "stderr",
     "output_type": "stream",
     "text": [
      "Epoch 650 Training: 100%|██████████| 1/1 [00:00<00:00, 40.32it/s]\n",
      "[16:48:31] Explicit valence for atom # 0 H, 4, is greater than permitted\n"
     ]
    },
    {
     "name": "stdout",
     "output_type": "stream",
     "text": [
      "Chemically invalid molecule! Reason: Explicit valence for atom # 0 H, 4, is greater than permitted\n"
     ]
    },
    {
     "name": "stderr",
     "output_type": "stream",
     "text": [
      "Epoch 651 Training: 100%|██████████| 1/1 [00:00<00:00, 40.14it/s]\n",
      "[16:48:31] Explicit valence for atom # 0 H, 4, is greater than permitted\n"
     ]
    },
    {
     "name": "stdout",
     "output_type": "stream",
     "text": [
      "Chemically invalid molecule! Reason: Explicit valence for atom # 0 H, 4, is greater than permitted\n"
     ]
    },
    {
     "name": "stderr",
     "output_type": "stream",
     "text": [
      "Epoch 652 Training: 100%|██████████| 1/1 [00:00<00:00, 40.81it/s]\n",
      "[16:48:31] Explicit valence for atom # 0 H, 4, is greater than permitted\n"
     ]
    },
    {
     "name": "stdout",
     "output_type": "stream",
     "text": [
      "Chemically invalid molecule! Reason: Explicit valence for atom # 0 H, 4, is greater than permitted\n"
     ]
    },
    {
     "name": "stderr",
     "output_type": "stream",
     "text": [
      "Epoch 653 Training: 100%|██████████| 1/1 [00:00<00:00, 41.39it/s]\n",
      "[16:48:31] Explicit valence for atom # 0 H, 4, is greater than permitted\n"
     ]
    },
    {
     "name": "stdout",
     "output_type": "stream",
     "text": [
      "Chemically invalid molecule! Reason: Explicit valence for atom # 0 H, 4, is greater than permitted\n"
     ]
    },
    {
     "name": "stderr",
     "output_type": "stream",
     "text": [
      "Epoch 654 Training: 100%|██████████| 1/1 [00:00<00:00, 40.94it/s]\n",
      "[16:48:31] Explicit valence for atom # 0 H, 4, is greater than permitted\n"
     ]
    },
    {
     "name": "stdout",
     "output_type": "stream",
     "text": [
      "Chemically invalid molecule! Reason: Explicit valence for atom # 0 H, 4, is greater than permitted\n"
     ]
    },
    {
     "name": "stderr",
     "output_type": "stream",
     "text": [
      "Epoch 655 Training: 100%|██████████| 1/1 [00:00<00:00, 41.94it/s]\n",
      "[16:48:32] Explicit valence for atom # 0 H, 4, is greater than permitted\n"
     ]
    },
    {
     "name": "stdout",
     "output_type": "stream",
     "text": [
      "Chemically invalid molecule! Reason: Explicit valence for atom # 0 H, 4, is greater than permitted\n"
     ]
    },
    {
     "name": "stderr",
     "output_type": "stream",
     "text": [
      "Epoch 656 Training: 100%|██████████| 1/1 [00:00<00:00, 42.15it/s]\n",
      "[16:48:32] Explicit valence for atom # 0 H, 4, is greater than permitted\n"
     ]
    },
    {
     "name": "stdout",
     "output_type": "stream",
     "text": [
      "Chemically invalid molecule! Reason: Explicit valence for atom # 0 H, 4, is greater than permitted\n"
     ]
    },
    {
     "name": "stderr",
     "output_type": "stream",
     "text": [
      "Epoch 657 Training: 100%|██████████| 1/1 [00:00<00:00, 40.91it/s]\n",
      "[16:48:32] Explicit valence for atom # 0 H, 4, is greater than permitted\n"
     ]
    },
    {
     "name": "stdout",
     "output_type": "stream",
     "text": [
      "Chemically invalid molecule! Reason: Explicit valence for atom # 0 H, 4, is greater than permitted\n"
     ]
    },
    {
     "name": "stderr",
     "output_type": "stream",
     "text": [
      "Epoch 658 Training: 100%|██████████| 1/1 [00:00<00:00, 41.19it/s]\n",
      "[16:48:32] Explicit valence for atom # 0 H, 4, is greater than permitted\n"
     ]
    },
    {
     "name": "stdout",
     "output_type": "stream",
     "text": [
      "Chemically invalid molecule! Reason: Explicit valence for atom # 0 H, 4, is greater than permitted\n"
     ]
    },
    {
     "name": "stderr",
     "output_type": "stream",
     "text": [
      "Epoch 659 Training: 100%|██████████| 1/1 [00:00<00:00, 40.59it/s]\n",
      "[16:48:32] Explicit valence for atom # 0 H, 4, is greater than permitted\n"
     ]
    },
    {
     "name": "stdout",
     "output_type": "stream",
     "text": [
      "Chemically invalid molecule! Reason: Explicit valence for atom # 0 H, 4, is greater than permitted\n"
     ]
    },
    {
     "name": "stderr",
     "output_type": "stream",
     "text": [
      "Epoch 660 Training: 100%|██████████| 1/1 [00:00<00:00, 41.64it/s]\n",
      "[16:48:32] Explicit valence for atom # 0 H, 4, is greater than permitted\n"
     ]
    },
    {
     "name": "stdout",
     "output_type": "stream",
     "text": [
      "Chemically invalid molecule! Reason: Explicit valence for atom # 0 H, 4, is greater than permitted\n"
     ]
    },
    {
     "name": "stderr",
     "output_type": "stream",
     "text": [
      "Epoch 661 Training: 100%|██████████| 1/1 [00:00<00:00, 39.95it/s]\n",
      "[16:48:32] Explicit valence for atom # 0 H, 4, is greater than permitted\n"
     ]
    },
    {
     "name": "stdout",
     "output_type": "stream",
     "text": [
      "Chemically invalid molecule! Reason: Explicit valence for atom # 0 H, 4, is greater than permitted\n"
     ]
    },
    {
     "name": "stderr",
     "output_type": "stream",
     "text": [
      "Epoch 662 Training: 100%|██████████| 1/1 [00:00<00:00, 40.41it/s]\n",
      "[16:48:32] Explicit valence for atom # 0 H, 4, is greater than permitted\n"
     ]
    },
    {
     "name": "stdout",
     "output_type": "stream",
     "text": [
      "Chemically invalid molecule! Reason: Explicit valence for atom # 0 H, 4, is greater than permitted\n"
     ]
    },
    {
     "name": "stderr",
     "output_type": "stream",
     "text": [
      "Epoch 663 Training: 100%|██████████| 1/1 [00:00<00:00, 41.25it/s]\n",
      "[16:48:32] Explicit valence for atom # 0 H, 4, is greater than permitted\n"
     ]
    },
    {
     "name": "stdout",
     "output_type": "stream",
     "text": [
      "Chemically invalid molecule! Reason: Explicit valence for atom # 0 H, 4, is greater than permitted\n"
     ]
    },
    {
     "name": "stderr",
     "output_type": "stream",
     "text": [
      "Epoch 664 Training: 100%|██████████| 1/1 [00:00<00:00, 41.91it/s]\n",
      "[16:48:32] Explicit valence for atom # 0 H, 4, is greater than permitted\n"
     ]
    },
    {
     "name": "stdout",
     "output_type": "stream",
     "text": [
      "Chemically invalid molecule! Reason: Explicit valence for atom # 0 H, 4, is greater than permitted\n"
     ]
    },
    {
     "name": "stderr",
     "output_type": "stream",
     "text": [
      "Epoch 665 Training: 100%|██████████| 1/1 [00:00<00:00, 42.66it/s]\n",
      "[16:48:32] Explicit valence for atom # 0 H, 4, is greater than permitted\n"
     ]
    },
    {
     "name": "stdout",
     "output_type": "stream",
     "text": [
      "Chemically invalid molecule! Reason: Explicit valence for atom # 0 H, 4, is greater than permitted\n"
     ]
    },
    {
     "name": "stderr",
     "output_type": "stream",
     "text": [
      "Epoch 666 Training: 100%|██████████| 1/1 [00:00<00:00, 41.48it/s]\n",
      "[16:48:32] Explicit valence for atom # 0 H, 4, is greater than permitted\n"
     ]
    },
    {
     "name": "stdout",
     "output_type": "stream",
     "text": [
      "Chemically invalid molecule! Reason: Explicit valence for atom # 0 H, 4, is greater than permitted\n"
     ]
    },
    {
     "name": "stderr",
     "output_type": "stream",
     "text": [
      "Epoch 667 Training: 100%|██████████| 1/1 [00:00<00:00, 33.43it/s]\n",
      "[16:48:32] Explicit valence for atom # 0 H, 4, is greater than permitted\n"
     ]
    },
    {
     "name": "stdout",
     "output_type": "stream",
     "text": [
      "Chemically invalid molecule! Reason: Explicit valence for atom # 0 H, 4, is greater than permitted\n"
     ]
    },
    {
     "name": "stderr",
     "output_type": "stream",
     "text": [
      "Epoch 668 Training: 100%|██████████| 1/1 [00:00<00:00, 40.87it/s]\n",
      "[16:48:32] Explicit valence for atom # 0 H, 4, is greater than permitted\n"
     ]
    },
    {
     "name": "stdout",
     "output_type": "stream",
     "text": [
      "Chemically invalid molecule! Reason: Explicit valence for atom # 0 H, 4, is greater than permitted\n"
     ]
    },
    {
     "name": "stderr",
     "output_type": "stream",
     "text": [
      "Epoch 669 Training: 100%|██████████| 1/1 [00:00<00:00, 42.07it/s]\n",
      "[16:48:33] Explicit valence for atom # 0 H, 4, is greater than permitted\n"
     ]
    },
    {
     "name": "stdout",
     "output_type": "stream",
     "text": [
      "Chemically invalid molecule! Reason: Explicit valence for atom # 0 H, 4, is greater than permitted\n"
     ]
    },
    {
     "name": "stderr",
     "output_type": "stream",
     "text": [
      "Epoch 670 Training: 100%|██████████| 1/1 [00:00<00:00, 40.97it/s]\n",
      "[16:48:33] Explicit valence for atom # 0 H, 4, is greater than permitted\n"
     ]
    },
    {
     "name": "stdout",
     "output_type": "stream",
     "text": [
      "Chemically invalid molecule! Reason: Explicit valence for atom # 0 H, 4, is greater than permitted\n"
     ]
    },
    {
     "name": "stderr",
     "output_type": "stream",
     "text": [
      "Epoch 671 Training: 100%|██████████| 1/1 [00:00<00:00, 41.29it/s]\n",
      "[16:48:33] Explicit valence for atom # 0 H, 4, is greater than permitted\n"
     ]
    },
    {
     "name": "stdout",
     "output_type": "stream",
     "text": [
      "Chemically invalid molecule! Reason: Explicit valence for atom # 0 H, 4, is greater than permitted\n"
     ]
    },
    {
     "name": "stderr",
     "output_type": "stream",
     "text": [
      "Epoch 672 Training: 100%|██████████| 1/1 [00:00<00:00, 40.95it/s]\n",
      "[16:48:33] Explicit valence for atom # 0 H, 4, is greater than permitted\n"
     ]
    },
    {
     "name": "stdout",
     "output_type": "stream",
     "text": [
      "Chemically invalid molecule! Reason: Explicit valence for atom # 0 H, 4, is greater than permitted\n"
     ]
    },
    {
     "name": "stderr",
     "output_type": "stream",
     "text": [
      "Epoch 673 Training: 100%|██████████| 1/1 [00:00<00:00, 38.45it/s]\n"
     ]
    },
    {
     "name": "stdout",
     "output_type": "stream",
     "text": [
      "Chemically invalid molecule! Reason: Explicit valence for atom # 0 H, 4, is greater than permitted\n"
     ]
    },
    {
     "name": "stderr",
     "output_type": "stream",
     "text": [
      "[16:48:33] Explicit valence for atom # 0 H, 4, is greater than permitted\n",
      "Epoch 674 Training: 100%|██████████| 1/1 [00:00<00:00, 40.84it/s]\n",
      "[16:48:33] Explicit valence for atom # 0 H, 4, is greater than permitted\n"
     ]
    },
    {
     "name": "stdout",
     "output_type": "stream",
     "text": [
      "Chemically invalid molecule! Reason: Explicit valence for atom # 0 H, 4, is greater than permitted\n"
     ]
    },
    {
     "name": "stderr",
     "output_type": "stream",
     "text": [
      "Epoch 675 Training: 100%|██████████| 1/1 [00:00<00:00, 40.49it/s]\n",
      "[16:48:33] Explicit valence for atom # 0 H, 4, is greater than permitted\n"
     ]
    },
    {
     "name": "stdout",
     "output_type": "stream",
     "text": [
      "Chemically invalid molecule! Reason: Explicit valence for atom # 0 H, 4, is greater than permitted\n"
     ]
    },
    {
     "name": "stderr",
     "output_type": "stream",
     "text": [
      "Epoch 676 Training: 100%|██████████| 1/1 [00:00<00:00, 35.22it/s]\n",
      "[16:48:33] Explicit valence for atom # 0 H, 4, is greater than permitted\n"
     ]
    },
    {
     "name": "stdout",
     "output_type": "stream",
     "text": [
      "Chemically invalid molecule! Reason: Explicit valence for atom # 0 H, 4, is greater than permitted\n"
     ]
    },
    {
     "name": "stderr",
     "output_type": "stream",
     "text": [
      "Epoch 677 Training: 100%|██████████| 1/1 [00:00<00:00, 41.75it/s]\n",
      "[16:48:33] Explicit valence for atom # 0 H, 4, is greater than permitted\n"
     ]
    },
    {
     "name": "stdout",
     "output_type": "stream",
     "text": [
      "Chemically invalid molecule! Reason: Explicit valence for atom # 0 H, 4, is greater than permitted\n"
     ]
    },
    {
     "name": "stderr",
     "output_type": "stream",
     "text": [
      "Epoch 678 Training: 100%|██████████| 1/1 [00:00<00:00, 40.68it/s]\n",
      "[16:48:33] Explicit valence for atom # 0 H, 4, is greater than permitted\n"
     ]
    },
    {
     "name": "stdout",
     "output_type": "stream",
     "text": [
      "Chemically invalid molecule! Reason: Explicit valence for atom # 0 H, 4, is greater than permitted\n"
     ]
    },
    {
     "name": "stderr",
     "output_type": "stream",
     "text": [
      "Epoch 679 Training: 100%|██████████| 1/1 [00:00<00:00, 40.14it/s]\n",
      "[16:48:33] Explicit valence for atom # 0 H, 4, is greater than permitted\n"
     ]
    },
    {
     "name": "stdout",
     "output_type": "stream",
     "text": [
      "Chemically invalid molecule! Reason: Explicit valence for atom # 0 H, 4, is greater than permitted\n"
     ]
    },
    {
     "name": "stderr",
     "output_type": "stream",
     "text": [
      "Epoch 680 Training: 100%|██████████| 1/1 [00:00<00:00, 36.77it/s]\n",
      "[16:48:33] Explicit valence for atom # 0 H, 4, is greater than permitted\n"
     ]
    },
    {
     "name": "stdout",
     "output_type": "stream",
     "text": [
      "Chemically invalid molecule! Reason: Explicit valence for atom # 0 H, 4, is greater than permitted\n"
     ]
    },
    {
     "name": "stderr",
     "output_type": "stream",
     "text": [
      "Epoch 681 Training: 100%|██████████| 1/1 [00:00<00:00, 38.39it/s]\n",
      "[16:48:33] Explicit valence for atom # 0 H, 4, is greater than permitted\n"
     ]
    },
    {
     "name": "stdout",
     "output_type": "stream",
     "text": [
      "Chemically invalid molecule! Reason: Explicit valence for atom # 0 H, 4, is greater than permitted\n"
     ]
    },
    {
     "name": "stderr",
     "output_type": "stream",
     "text": [
      "Epoch 682 Training: 100%|██████████| 1/1 [00:00<00:00, 41.89it/s]\n",
      "[16:48:33] Explicit valence for atom # 0 H, 4, is greater than permitted\n"
     ]
    },
    {
     "name": "stdout",
     "output_type": "stream",
     "text": [
      "Chemically invalid molecule! Reason: Explicit valence for atom # 0 H, 4, is greater than permitted\n"
     ]
    },
    {
     "name": "stderr",
     "output_type": "stream",
     "text": [
      "Epoch 683 Training: 100%|██████████| 1/1 [00:00<00:00, 36.37it/s]\n",
      "[16:48:34] Explicit valence for atom # 0 H, 4, is greater than permitted\n"
     ]
    },
    {
     "name": "stdout",
     "output_type": "stream",
     "text": [
      "Chemically invalid molecule! Reason: Explicit valence for atom # 0 H, 4, is greater than permitted\n"
     ]
    },
    {
     "name": "stderr",
     "output_type": "stream",
     "text": [
      "Epoch 684 Training: 100%|██████████| 1/1 [00:00<00:00, 22.59it/s]\n",
      "[16:48:34] Explicit valence for atom # 0 H, 4, is greater than permitted\n"
     ]
    },
    {
     "name": "stdout",
     "output_type": "stream",
     "text": [
      "Chemically invalid molecule! Reason: Explicit valence for atom # 0 H, 4, is greater than permitted\n"
     ]
    },
    {
     "name": "stderr",
     "output_type": "stream",
     "text": [
      "Epoch 685 Training: 100%|██████████| 1/1 [00:00<00:00, 35.73it/s]\n",
      "[16:48:34] Explicit valence for atom # 0 H, 4, is greater than permitted\n"
     ]
    },
    {
     "name": "stdout",
     "output_type": "stream",
     "text": [
      "Chemically invalid molecule! Reason: Explicit valence for atom # 0 H, 4, is greater than permitted\n"
     ]
    },
    {
     "name": "stderr",
     "output_type": "stream",
     "text": [
      "Epoch 686 Training: 100%|██████████| 1/1 [00:00<00:00, 36.33it/s]\n",
      "[16:48:34] Explicit valence for atom # 0 H, 4, is greater than permitted\n"
     ]
    },
    {
     "name": "stdout",
     "output_type": "stream",
     "text": [
      "Chemically invalid molecule! Reason: Explicit valence for atom # 0 H, 4, is greater than permitted\n"
     ]
    },
    {
     "name": "stderr",
     "output_type": "stream",
     "text": [
      "Epoch 687 Training: 100%|██████████| 1/1 [00:00<00:00, 38.84it/s]\n",
      "[16:48:34] Explicit valence for atom # 0 H, 4, is greater than permitted\n"
     ]
    },
    {
     "name": "stdout",
     "output_type": "stream",
     "text": [
      "Chemically invalid molecule! Reason: Explicit valence for atom # 0 H, 4, is greater than permitted\n"
     ]
    },
    {
     "name": "stderr",
     "output_type": "stream",
     "text": [
      "Epoch 688 Training: 100%|██████████| 1/1 [00:00<00:00, 38.60it/s]\n",
      "[16:48:34] Explicit valence for atom # 0 H, 4, is greater than permitted\n"
     ]
    },
    {
     "name": "stdout",
     "output_type": "stream",
     "text": [
      "Chemically invalid molecule! Reason: Explicit valence for atom # 0 H, 4, is greater than permitted\n"
     ]
    },
    {
     "name": "stderr",
     "output_type": "stream",
     "text": [
      "Epoch 689 Training: 100%|██████████| 1/1 [00:00<00:00, 40.84it/s]\n",
      "[16:48:34] Explicit valence for atom # 0 H, 4, is greater than permitted\n"
     ]
    },
    {
     "name": "stdout",
     "output_type": "stream",
     "text": [
      "Chemically invalid molecule! Reason: Explicit valence for atom # 0 H, 4, is greater than permitted\n"
     ]
    },
    {
     "name": "stderr",
     "output_type": "stream",
     "text": [
      "Epoch 690 Training: 100%|██████████| 1/1 [00:00<00:00, 40.72it/s]\n",
      "[16:48:34] Explicit valence for atom # 0 H, 4, is greater than permitted\n"
     ]
    },
    {
     "name": "stdout",
     "output_type": "stream",
     "text": [
      "Chemically invalid molecule! Reason: Explicit valence for atom # 0 H, 4, is greater than permitted\n"
     ]
    },
    {
     "name": "stderr",
     "output_type": "stream",
     "text": [
      "Epoch 691 Training: 100%|██████████| 1/1 [00:00<00:00, 42.73it/s]\n",
      "[16:48:34] Explicit valence for atom # 0 H, 4, is greater than permitted\n"
     ]
    },
    {
     "name": "stdout",
     "output_type": "stream",
     "text": [
      "Chemically invalid molecule! Reason: Explicit valence for atom # 0 H, 4, is greater than permitted\n"
     ]
    },
    {
     "name": "stderr",
     "output_type": "stream",
     "text": [
      "Epoch 692 Training: 100%|██████████| 1/1 [00:00<00:00, 37.17it/s]\n",
      "[16:48:34] Explicit valence for atom # 0 H, 4, is greater than permitted\n"
     ]
    },
    {
     "name": "stdout",
     "output_type": "stream",
     "text": [
      "Chemically invalid molecule! Reason: Explicit valence for atom # 0 H, 4, is greater than permitted\n"
     ]
    },
    {
     "name": "stderr",
     "output_type": "stream",
     "text": [
      "Epoch 693 Training: 100%|██████████| 1/1 [00:00<00:00, 40.17it/s]\n",
      "[16:48:34] Explicit valence for atom # 0 H, 4, is greater than permitted\n"
     ]
    },
    {
     "name": "stdout",
     "output_type": "stream",
     "text": [
      "Chemically invalid molecule! Reason: Explicit valence for atom # 0 H, 4, is greater than permitted\n"
     ]
    },
    {
     "name": "stderr",
     "output_type": "stream",
     "text": [
      "Epoch 694 Training: 100%|██████████| 1/1 [00:00<00:00, 41.38it/s]\n",
      "[16:48:34] Explicit valence for atom # 0 H, 4, is greater than permitted\n"
     ]
    },
    {
     "name": "stdout",
     "output_type": "stream",
     "text": [
      "Chemically invalid molecule! Reason: Explicit valence for atom # 0 H, 4, is greater than permitted\n"
     ]
    },
    {
     "name": "stderr",
     "output_type": "stream",
     "text": [
      "Epoch 695 Training: 100%|██████████| 1/1 [00:00<00:00, 39.85it/s]\n",
      "[16:48:34] Explicit valence for atom # 0 H, 4, is greater than permitted\n"
     ]
    },
    {
     "name": "stdout",
     "output_type": "stream",
     "text": [
      "Chemically invalid molecule! Reason: Explicit valence for atom # 0 H, 4, is greater than permitted\n"
     ]
    },
    {
     "name": "stderr",
     "output_type": "stream",
     "text": [
      "Epoch 696 Training: 100%|██████████| 1/1 [00:00<00:00, 39.25it/s]\n",
      "[16:48:35] Explicit valence for atom # 0 H, 4, is greater than permitted\n"
     ]
    },
    {
     "name": "stdout",
     "output_type": "stream",
     "text": [
      "Chemically invalid molecule! Reason: Explicit valence for atom # 0 H, 4, is greater than permitted\n"
     ]
    },
    {
     "name": "stderr",
     "output_type": "stream",
     "text": [
      "Epoch 697 Training: 100%|██████████| 1/1 [00:00<00:00, 40.75it/s]\n",
      "[16:48:35] Explicit valence for atom # 0 H, 4, is greater than permitted\n"
     ]
    },
    {
     "name": "stdout",
     "output_type": "stream",
     "text": [
      "Chemically invalid molecule! Reason: Explicit valence for atom # 0 H, 4, is greater than permitted\n"
     ]
    },
    {
     "name": "stderr",
     "output_type": "stream",
     "text": [
      "Epoch 698 Training: 100%|██████████| 1/1 [00:00<00:00, 41.62it/s]\n",
      "[16:48:35] Explicit valence for atom # 0 H, 4, is greater than permitted\n"
     ]
    },
    {
     "name": "stdout",
     "output_type": "stream",
     "text": [
      "Chemically invalid molecule! Reason: Explicit valence for atom # 0 H, 4, is greater than permitted\n"
     ]
    },
    {
     "name": "stderr",
     "output_type": "stream",
     "text": [
      "Epoch 699 Training: 100%|██████████| 1/1 [00:00<00:00, 41.50it/s]\n",
      "[16:48:35] Explicit valence for atom # 0 H, 4, is greater than permitted\n"
     ]
    },
    {
     "name": "stdout",
     "output_type": "stream",
     "text": [
      "Chemically invalid molecule! Reason: Explicit valence for atom # 0 H, 4, is greater than permitted\n"
     ]
    },
    {
     "name": "stderr",
     "output_type": "stream",
     "text": [
      "Epoch 700 Training: 100%|██████████| 1/1 [00:00<00:00, 37.31it/s]\n",
      "[16:48:35] Explicit valence for atom # 0 H, 4, is greater than permitted\n"
     ]
    },
    {
     "name": "stdout",
     "output_type": "stream",
     "text": [
      "Chemically invalid molecule! Reason: Explicit valence for atom # 0 H, 4, is greater than permitted\n"
     ]
    },
    {
     "name": "stderr",
     "output_type": "stream",
     "text": [
      "Epoch 701 Training: 100%|██████████| 1/1 [00:00<00:00,  3.01it/s]\n",
      "[16:48:35] Explicit valence for atom # 0 H, 4, is greater than permitted\n"
     ]
    },
    {
     "name": "stdout",
     "output_type": "stream",
     "text": [
      "Chemically invalid molecule! Reason: Explicit valence for atom # 0 H, 4, is greater than permitted\n"
     ]
    },
    {
     "name": "stderr",
     "output_type": "stream",
     "text": [
      "Epoch 702 Training: 100%|██████████| 1/1 [00:00<00:00, 41.66it/s]\n",
      "[16:48:35] Explicit valence for atom # 0 H, 4, is greater than permitted\n"
     ]
    },
    {
     "name": "stdout",
     "output_type": "stream",
     "text": [
      "Chemically invalid molecule! Reason: Explicit valence for atom # 0 H, 4, is greater than permitted\n"
     ]
    },
    {
     "name": "stderr",
     "output_type": "stream",
     "text": [
      "Epoch 703 Training: 100%|██████████| 1/1 [00:00<00:00, 41.88it/s]\n",
      "[16:48:35] Explicit valence for atom # 0 H, 4, is greater than permitted\n"
     ]
    },
    {
     "name": "stdout",
     "output_type": "stream",
     "text": [
      "Chemically invalid molecule! Reason: Explicit valence for atom # 0 H, 4, is greater than permitted\n"
     ]
    },
    {
     "name": "stderr",
     "output_type": "stream",
     "text": [
      "Epoch 704 Training: 100%|██████████| 1/1 [00:00<00:00, 41.58it/s]\n",
      "[16:48:35] Explicit valence for atom # 0 H, 4, is greater than permitted\n"
     ]
    },
    {
     "name": "stdout",
     "output_type": "stream",
     "text": [
      "Chemically invalid molecule! Reason: Explicit valence for atom # 0 H, 4, is greater than permitted\n"
     ]
    },
    {
     "name": "stderr",
     "output_type": "stream",
     "text": [
      "Epoch 705 Training: 100%|██████████| 1/1 [00:00<00:00, 33.38it/s]\n"
     ]
    },
    {
     "name": "stdout",
     "output_type": "stream",
     "text": [
      "Chemically invalid molecule! Reason: Explicit valence for atom # 0 H, 4, is greater than permitted\n"
     ]
    },
    {
     "name": "stderr",
     "output_type": "stream",
     "text": [
      "[16:48:35] Explicit valence for atom # 0 H, 4, is greater than permitted\n",
      "Epoch 706 Training: 100%|██████████| 1/1 [00:00<00:00, 33.81it/s]\n",
      "[16:48:36] Explicit valence for atom # 0 H, 4, is greater than permitted\n"
     ]
    },
    {
     "name": "stdout",
     "output_type": "stream",
     "text": [
      "Chemically invalid molecule! Reason: Explicit valence for atom # 0 H, 4, is greater than permitted\n"
     ]
    },
    {
     "name": "stderr",
     "output_type": "stream",
     "text": [
      "Epoch 707 Training: 100%|██████████| 1/1 [00:00<00:00, 38.13it/s]\n",
      "[16:48:36] Explicit valence for atom # 0 H, 4, is greater than permitted\n"
     ]
    },
    {
     "name": "stdout",
     "output_type": "stream",
     "text": [
      "Chemically invalid molecule! Reason: Explicit valence for atom # 0 H, 4, is greater than permitted\n"
     ]
    },
    {
     "name": "stderr",
     "output_type": "stream",
     "text": [
      "Epoch 708 Training: 100%|██████████| 1/1 [00:00<00:00, 42.73it/s]\n",
      "[16:48:36] Explicit valence for atom # 0 H, 4, is greater than permitted\n"
     ]
    },
    {
     "name": "stdout",
     "output_type": "stream",
     "text": [
      "Chemically invalid molecule! Reason: Explicit valence for atom # 0 H, 4, is greater than permitted\n"
     ]
    },
    {
     "name": "stderr",
     "output_type": "stream",
     "text": [
      "Epoch 709 Training: 100%|██████████| 1/1 [00:00<00:00, 42.47it/s]\n",
      "[16:48:36] Explicit valence for atom # 0 H, 4, is greater than permitted\n"
     ]
    },
    {
     "name": "stdout",
     "output_type": "stream",
     "text": [
      "Chemically invalid molecule! Reason: Explicit valence for atom # 0 H, 4, is greater than permitted\n"
     ]
    },
    {
     "name": "stderr",
     "output_type": "stream",
     "text": [
      "Epoch 710 Training: 100%|██████████| 1/1 [00:00<00:00, 41.37it/s]\n",
      "[16:48:36] Explicit valence for atom # 0 H, 4, is greater than permitted\n"
     ]
    },
    {
     "name": "stdout",
     "output_type": "stream",
     "text": [
      "Chemically invalid molecule! Reason: Explicit valence for atom # 0 H, 4, is greater than permitted\n"
     ]
    },
    {
     "name": "stderr",
     "output_type": "stream",
     "text": [
      "Epoch 711 Training: 100%|██████████| 1/1 [00:00<00:00, 42.05it/s]\n",
      "[16:48:36] Explicit valence for atom # 0 H, 4, is greater than permitted\n"
     ]
    },
    {
     "name": "stdout",
     "output_type": "stream",
     "text": [
      "Chemically invalid molecule! Reason: Explicit valence for atom # 0 H, 4, is greater than permitted\n"
     ]
    },
    {
     "name": "stderr",
     "output_type": "stream",
     "text": [
      "Epoch 712 Training: 100%|██████████| 1/1 [00:00<00:00, 42.54it/s]\n"
     ]
    },
    {
     "name": "stdout",
     "output_type": "stream",
     "text": [
      "Chemically invalid molecule! Reason: Explicit valence for atom # 0 H, 4, is greater than permitted\n"
     ]
    },
    {
     "name": "stderr",
     "output_type": "stream",
     "text": [
      "[16:48:36] Explicit valence for atom # 0 H, 4, is greater than permitted\n",
      "Epoch 713 Training: 100%|██████████| 1/1 [00:00<00:00, 43.88it/s]\n",
      "[16:48:36] Explicit valence for atom # 0 H, 4, is greater than permitted\n"
     ]
    },
    {
     "name": "stdout",
     "output_type": "stream",
     "text": [
      "Chemically invalid molecule! Reason: Explicit valence for atom # 0 H, 4, is greater than permitted\n"
     ]
    },
    {
     "name": "stderr",
     "output_type": "stream",
     "text": [
      "Epoch 714 Training: 100%|██████████| 1/1 [00:00<00:00, 42.07it/s]\n"
     ]
    },
    {
     "name": "stdout",
     "output_type": "stream",
     "text": [
      "Chemically invalid molecule! Reason: Explicit valence for atom # 0 H, 4, is greater than permitted\n"
     ]
    },
    {
     "name": "stderr",
     "output_type": "stream",
     "text": [
      "[16:48:36] Explicit valence for atom # 0 H, 4, is greater than permitted\n",
      "Epoch 715 Training: 100%|██████████| 1/1 [00:00<00:00, 40.22it/s]\n",
      "[16:48:36] Explicit valence for atom # 0 H, 4, is greater than permitted\n"
     ]
    },
    {
     "name": "stdout",
     "output_type": "stream",
     "text": [
      "Chemically invalid molecule! Reason: Explicit valence for atom # 0 H, 4, is greater than permitted\n"
     ]
    },
    {
     "name": "stderr",
     "output_type": "stream",
     "text": [
      "Epoch 716 Training: 100%|██████████| 1/1 [00:00<00:00, 41.30it/s]\n",
      "[16:48:36] Explicit valence for atom # 0 H, 4, is greater than permitted\n"
     ]
    },
    {
     "name": "stdout",
     "output_type": "stream",
     "text": [
      "Chemically invalid molecule! Reason: Explicit valence for atom # 0 H, 4, is greater than permitted\n"
     ]
    },
    {
     "name": "stderr",
     "output_type": "stream",
     "text": [
      "Epoch 717 Training: 100%|██████████| 1/1 [00:00<00:00, 41.19it/s]\n",
      "[16:48:36] Explicit valence for atom # 0 H, 4, is greater than permitted\n"
     ]
    },
    {
     "name": "stdout",
     "output_type": "stream",
     "text": [
      "Chemically invalid molecule! Reason: Explicit valence for atom # 0 H, 4, is greater than permitted\n"
     ]
    },
    {
     "name": "stderr",
     "output_type": "stream",
     "text": [
      "Epoch 718 Training: 100%|██████████| 1/1 [00:00<00:00, 41.96it/s]\n",
      "[16:48:36] Explicit valence for atom # 0 H, 4, is greater than permitted\n"
     ]
    },
    {
     "name": "stdout",
     "output_type": "stream",
     "text": [
      "Chemically invalid molecule! Reason: Explicit valence for atom # 0 H, 4, is greater than permitted\n"
     ]
    },
    {
     "name": "stderr",
     "output_type": "stream",
     "text": [
      "Epoch 719 Training: 100%|██████████| 1/1 [00:00<00:00, 42.13it/s]\n",
      "[16:48:36] Explicit valence for atom # 0 H, 4, is greater than permitted\n"
     ]
    },
    {
     "name": "stdout",
     "output_type": "stream",
     "text": [
      "Chemically invalid molecule! Reason: Explicit valence for atom # 0 H, 4, is greater than permitted\n"
     ]
    },
    {
     "name": "stderr",
     "output_type": "stream",
     "text": [
      "Epoch 720 Training: 100%|██████████| 1/1 [00:00<00:00, 42.25it/s]\n",
      "[16:48:37] Explicit valence for atom # 0 H, 4, is greater than permitted\n"
     ]
    },
    {
     "name": "stdout",
     "output_type": "stream",
     "text": [
      "Chemically invalid molecule! Reason: Explicit valence for atom # 0 H, 4, is greater than permitted\n"
     ]
    },
    {
     "name": "stderr",
     "output_type": "stream",
     "text": [
      "Epoch 721 Training: 100%|██████████| 1/1 [00:00<00:00, 30.52it/s]\n",
      "[16:48:37] Explicit valence for atom # 0 H, 4, is greater than permitted\n"
     ]
    },
    {
     "name": "stdout",
     "output_type": "stream",
     "text": [
      "Chemically invalid molecule! Reason: Explicit valence for atom # 0 H, 4, is greater than permitted\n"
     ]
    },
    {
     "name": "stderr",
     "output_type": "stream",
     "text": [
      "Epoch 722 Training: 100%|██████████| 1/1 [00:00<00:00, 40.46it/s]\n",
      "[16:48:37] Explicit valence for atom # 0 H, 4, is greater than permitted\n"
     ]
    },
    {
     "name": "stdout",
     "output_type": "stream",
     "text": [
      "Chemically invalid molecule! Reason: Explicit valence for atom # 0 H, 4, is greater than permitted\n"
     ]
    },
    {
     "name": "stderr",
     "output_type": "stream",
     "text": [
      "Epoch 723 Training: 100%|██████████| 1/1 [00:00<00:00, 41.88it/s]\n",
      "[16:48:37] Explicit valence for atom # 0 H, 4, is greater than permitted\n"
     ]
    },
    {
     "name": "stdout",
     "output_type": "stream",
     "text": [
      "Chemically invalid molecule! Reason: Explicit valence for atom # 0 H, 4, is greater than permitted\n"
     ]
    },
    {
     "name": "stderr",
     "output_type": "stream",
     "text": [
      "Epoch 724 Training: 100%|██████████| 1/1 [00:00<00:00, 42.58it/s]\n",
      "[16:48:37] Explicit valence for atom # 0 H, 4, is greater than permitted\n"
     ]
    },
    {
     "name": "stdout",
     "output_type": "stream",
     "text": [
      "Chemically invalid molecule! Reason: Explicit valence for atom # 0 H, 4, is greater than permitted\n"
     ]
    },
    {
     "name": "stderr",
     "output_type": "stream",
     "text": [
      "Epoch 725 Training: 100%|██████████| 1/1 [00:00<00:00, 42.69it/s]\n",
      "[16:48:37] Explicit valence for atom # 0 H, 4, is greater than permitted\n"
     ]
    },
    {
     "name": "stdout",
     "output_type": "stream",
     "text": [
      "Chemically invalid molecule! Reason: Explicit valence for atom # 0 H, 4, is greater than permitted\n"
     ]
    },
    {
     "name": "stderr",
     "output_type": "stream",
     "text": [
      "Epoch 726 Training: 100%|██████████| 1/1 [00:00<00:00, 39.62it/s]\n",
      "[16:48:37] Explicit valence for atom # 0 H, 4, is greater than permitted\n"
     ]
    },
    {
     "name": "stdout",
     "output_type": "stream",
     "text": [
      "Chemically invalid molecule! Reason: Explicit valence for atom # 0 H, 4, is greater than permitted\n"
     ]
    },
    {
     "name": "stderr",
     "output_type": "stream",
     "text": [
      "Epoch 727 Training: 100%|██████████| 1/1 [00:00<00:00, 42.09it/s]"
     ]
    },
    {
     "name": "stdout",
     "output_type": "stream",
     "text": [
      "Chemically invalid molecule! Reason: Explicit valence for atom # 0 H, 4, is greater than permitted\n"
     ]
    },
    {
     "name": "stderr",
     "output_type": "stream",
     "text": [
      "\n",
      "[16:48:37] Explicit valence for atom # 0 H, 4, is greater than permitted\n",
      "Epoch 728 Training: 100%|██████████| 1/1 [00:00<00:00, 41.26it/s]\n",
      "[16:48:37] Explicit valence for atom # 0 H, 4, is greater than permitted\n"
     ]
    },
    {
     "name": "stdout",
     "output_type": "stream",
     "text": [
      "Chemically invalid molecule! Reason: Explicit valence for atom # 0 H, 4, is greater than permitted\n"
     ]
    },
    {
     "name": "stderr",
     "output_type": "stream",
     "text": [
      "Epoch 729 Training: 100%|██████████| 1/1 [00:00<00:00, 36.97it/s]\n",
      "[16:48:37] Explicit valence for atom # 0 H, 4, is greater than permitted\n"
     ]
    },
    {
     "name": "stdout",
     "output_type": "stream",
     "text": [
      "Chemically invalid molecule! Reason: Explicit valence for atom # 0 H, 4, is greater than permitted\n"
     ]
    },
    {
     "name": "stderr",
     "output_type": "stream",
     "text": [
      "Epoch 730 Training: 100%|██████████| 1/1 [00:00<00:00, 35.97it/s]\n",
      "[16:48:37] Explicit valence for atom # 0 H, 4, is greater than permitted\n"
     ]
    },
    {
     "name": "stdout",
     "output_type": "stream",
     "text": [
      "Chemically invalid molecule! Reason: Explicit valence for atom # 0 H, 4, is greater than permitted\n"
     ]
    },
    {
     "name": "stderr",
     "output_type": "stream",
     "text": [
      "Epoch 731 Training: 100%|██████████| 1/1 [00:00<00:00, 35.12it/s]\n",
      "[16:48:37] Explicit valence for atom # 0 H, 4, is greater than permitted\n"
     ]
    },
    {
     "name": "stdout",
     "output_type": "stream",
     "text": [
      "Chemically invalid molecule! Reason: Explicit valence for atom # 0 H, 4, is greater than permitted\n"
     ]
    },
    {
     "name": "stderr",
     "output_type": "stream",
     "text": [
      "Epoch 732 Training: 100%|██████████| 1/1 [00:00<00:00, 40.08it/s]\n",
      "[16:48:37] Explicit valence for atom # 0 H, 4, is greater than permitted\n"
     ]
    },
    {
     "name": "stdout",
     "output_type": "stream",
     "text": [
      "Chemically invalid molecule! Reason: Explicit valence for atom # 0 H, 4, is greater than permitted\n"
     ]
    },
    {
     "name": "stderr",
     "output_type": "stream",
     "text": [
      "Epoch 733 Training: 100%|██████████| 1/1 [00:00<00:00, 41.17it/s]\n",
      "[16:48:37] Explicit valence for atom # 0 H, 4, is greater than permitted\n"
     ]
    },
    {
     "name": "stdout",
     "output_type": "stream",
     "text": [
      "Chemically invalid molecule! Reason: Explicit valence for atom # 0 H, 4, is greater than permitted\n"
     ]
    },
    {
     "name": "stderr",
     "output_type": "stream",
     "text": [
      "Epoch 734 Training: 100%|██████████| 1/1 [00:00<00:00, 41.71it/s]\n",
      "[16:48:38] Explicit valence for atom # 0 H, 4, is greater than permitted\n"
     ]
    },
    {
     "name": "stdout",
     "output_type": "stream",
     "text": [
      "Chemically invalid molecule! Reason: Explicit valence for atom # 0 H, 4, is greater than permitted\n"
     ]
    },
    {
     "name": "stderr",
     "output_type": "stream",
     "text": [
      "Epoch 735 Training: 100%|██████████| 1/1 [00:00<00:00, 42.07it/s]\n",
      "[16:48:38] Explicit valence for atom # 0 H, 4, is greater than permitted\n"
     ]
    },
    {
     "name": "stdout",
     "output_type": "stream",
     "text": [
      "Chemically invalid molecule! Reason: Explicit valence for atom # 0 H, 4, is greater than permitted\n"
     ]
    },
    {
     "name": "stderr",
     "output_type": "stream",
     "text": [
      "Epoch 736 Training: 100%|██████████| 1/1 [00:00<00:00, 41.85it/s]\n",
      "[16:48:38] Explicit valence for atom # 0 H, 4, is greater than permitted\n"
     ]
    },
    {
     "name": "stdout",
     "output_type": "stream",
     "text": [
      "Chemically invalid molecule! Reason: Explicit valence for atom # 0 H, 4, is greater than permitted\n"
     ]
    },
    {
     "name": "stderr",
     "output_type": "stream",
     "text": [
      "Epoch 737 Training: 100%|██████████| 1/1 [00:00<00:00, 40.53it/s]\n",
      "[16:48:38] Explicit valence for atom # 0 H, 4, is greater than permitted\n"
     ]
    },
    {
     "name": "stdout",
     "output_type": "stream",
     "text": [
      "Chemically invalid molecule! Reason: Explicit valence for atom # 0 H, 4, is greater than permitted\n"
     ]
    },
    {
     "name": "stderr",
     "output_type": "stream",
     "text": [
      "Epoch 738 Training: 100%|██████████| 1/1 [00:00<00:00, 40.99it/s]\n",
      "[16:48:38] Explicit valence for atom # 0 H, 4, is greater than permitted\n"
     ]
    },
    {
     "name": "stdout",
     "output_type": "stream",
     "text": [
      "Chemically invalid molecule! Reason: Explicit valence for atom # 0 H, 4, is greater than permitted\n"
     ]
    },
    {
     "name": "stderr",
     "output_type": "stream",
     "text": [
      "Epoch 739 Training: 100%|██████████| 1/1 [00:00<00:00, 41.42it/s]\n",
      "[16:48:38] Explicit valence for atom # 0 H, 4, is greater than permitted\n"
     ]
    },
    {
     "name": "stdout",
     "output_type": "stream",
     "text": [
      "Chemically invalid molecule! Reason: Explicit valence for atom # 0 H, 4, is greater than permitted\n"
     ]
    },
    {
     "name": "stderr",
     "output_type": "stream",
     "text": [
      "Epoch 740 Training: 100%|██████████| 1/1 [00:00<00:00, 24.73it/s]\n",
      "[16:48:38] Explicit valence for atom # 0 H, 4, is greater than permitted\n"
     ]
    },
    {
     "name": "stdout",
     "output_type": "stream",
     "text": [
      "Chemically invalid molecule! Reason: Explicit valence for atom # 0 H, 4, is greater than permitted\n"
     ]
    },
    {
     "name": "stderr",
     "output_type": "stream",
     "text": [
      "Epoch 741 Training: 100%|██████████| 1/1 [00:00<00:00, 37.55it/s]\n",
      "[16:48:38] Explicit valence for atom # 0 H, 4, is greater than permitted\n"
     ]
    },
    {
     "name": "stdout",
     "output_type": "stream",
     "text": [
      "Chemically invalid molecule! Reason: Explicit valence for atom # 0 H, 4, is greater than permitted\n"
     ]
    },
    {
     "name": "stderr",
     "output_type": "stream",
     "text": [
      "Epoch 742 Training: 100%|██████████| 1/1 [00:00<00:00, 40.86it/s]\n",
      "[16:48:38] Explicit valence for atom # 0 H, 4, is greater than permitted\n"
     ]
    },
    {
     "name": "stdout",
     "output_type": "stream",
     "text": [
      "Chemically invalid molecule! Reason: Explicit valence for atom # 0 H, 4, is greater than permitted\n"
     ]
    },
    {
     "name": "stderr",
     "output_type": "stream",
     "text": [
      "Epoch 743 Training: 100%|██████████| 1/1 [00:00<00:00, 41.33it/s]\n",
      "[16:48:38] Explicit valence for atom # 0 H, 4, is greater than permitted\n"
     ]
    },
    {
     "name": "stdout",
     "output_type": "stream",
     "text": [
      "Chemically invalid molecule! Reason: Explicit valence for atom # 0 H, 4, is greater than permitted\n"
     ]
    },
    {
     "name": "stderr",
     "output_type": "stream",
     "text": [
      "Epoch 744 Training: 100%|██████████| 1/1 [00:00<00:00, 39.26it/s]\n",
      "[16:48:38] Explicit valence for atom # 0 H, 4, is greater than permitted\n"
     ]
    },
    {
     "name": "stdout",
     "output_type": "stream",
     "text": [
      "Chemically invalid molecule! Reason: Explicit valence for atom # 0 H, 4, is greater than permitted\n"
     ]
    },
    {
     "name": "stderr",
     "output_type": "stream",
     "text": [
      "Epoch 745 Training: 100%|██████████| 1/1 [00:00<00:00, 36.81it/s]\n",
      "[16:48:38] Explicit valence for atom # 0 H, 4, is greater than permitted\n"
     ]
    },
    {
     "name": "stdout",
     "output_type": "stream",
     "text": [
      "Chemically invalid molecule! Reason: Explicit valence for atom # 0 H, 4, is greater than permitted\n"
     ]
    },
    {
     "name": "stderr",
     "output_type": "stream",
     "text": [
      "Epoch 746 Training: 100%|██████████| 1/1 [00:00<00:00, 42.60it/s]\n",
      "[16:48:38] Explicit valence for atom # 0 H, 4, is greater than permitted\n"
     ]
    },
    {
     "name": "stdout",
     "output_type": "stream",
     "text": [
      "Chemically invalid molecule! Reason: Explicit valence for atom # 0 H, 4, is greater than permitted\n"
     ]
    },
    {
     "name": "stderr",
     "output_type": "stream",
     "text": [
      "Epoch 747 Training: 100%|██████████| 1/1 [00:00<00:00, 41.77it/s]\n",
      "[16:48:38] Explicit valence for atom # 0 H, 4, is greater than permitted\n"
     ]
    },
    {
     "name": "stdout",
     "output_type": "stream",
     "text": [
      "Chemically invalid molecule! Reason: Explicit valence for atom # 0 H, 4, is greater than permitted\n"
     ]
    },
    {
     "name": "stderr",
     "output_type": "stream",
     "text": [
      "Epoch 748 Training: 100%|██████████| 1/1 [00:00<00:00, 24.97it/s]\n",
      "[16:48:39] Explicit valence for atom # 0 H, 4, is greater than permitted\n"
     ]
    },
    {
     "name": "stdout",
     "output_type": "stream",
     "text": [
      "Chemically invalid molecule! Reason: Explicit valence for atom # 0 H, 4, is greater than permitted\n"
     ]
    },
    {
     "name": "stderr",
     "output_type": "stream",
     "text": [
      "Epoch 749 Training: 100%|██████████| 1/1 [00:00<00:00, 41.22it/s]\n",
      "[16:48:39] Explicit valence for atom # 0 H, 4, is greater than permitted\n"
     ]
    },
    {
     "name": "stdout",
     "output_type": "stream",
     "text": [
      "Chemically invalid molecule! Reason: Explicit valence for atom # 0 H, 4, is greater than permitted\n"
     ]
    },
    {
     "name": "stderr",
     "output_type": "stream",
     "text": [
      "Epoch 750 Training: 100%|██████████| 1/1 [00:00<00:00, 38.94it/s]\n",
      "[16:48:39] Explicit valence for atom # 0 H, 4, is greater than permitted\n"
     ]
    },
    {
     "name": "stdout",
     "output_type": "stream",
     "text": [
      "Chemically invalid molecule! Reason: Explicit valence for atom # 0 H, 4, is greater than permitted\n"
     ]
    },
    {
     "name": "stderr",
     "output_type": "stream",
     "text": [
      "Epoch 751 Training: 100%|██████████| 1/1 [00:00<00:00, 41.38it/s]\n",
      "[16:48:39] Explicit valence for atom # 0 H, 4, is greater than permitted\n"
     ]
    },
    {
     "name": "stdout",
     "output_type": "stream",
     "text": [
      "Chemically invalid molecule! Reason: Explicit valence for atom # 0 H, 4, is greater than permitted\n"
     ]
    },
    {
     "name": "stderr",
     "output_type": "stream",
     "text": [
      "Epoch 752 Training: 100%|██████████| 1/1 [00:00<00:00, 40.66it/s]\n",
      "[16:48:39] Explicit valence for atom # 0 H, 4, is greater than permitted\n"
     ]
    },
    {
     "name": "stdout",
     "output_type": "stream",
     "text": [
      "Chemically invalid molecule! Reason: Explicit valence for atom # 0 H, 4, is greater than permitted\n"
     ]
    },
    {
     "name": "stderr",
     "output_type": "stream",
     "text": [
      "Epoch 753 Training: 100%|██████████| 1/1 [00:00<00:00, 41.74it/s]\n",
      "[16:48:39] Explicit valence for atom # 0 H, 4, is greater than permitted\n"
     ]
    },
    {
     "name": "stdout",
     "output_type": "stream",
     "text": [
      "Chemically invalid molecule! Reason: Explicit valence for atom # 0 H, 4, is greater than permitted\n"
     ]
    },
    {
     "name": "stderr",
     "output_type": "stream",
     "text": [
      "Epoch 754 Training: 100%|██████████| 1/1 [00:00<00:00, 42.28it/s]\n",
      "[16:48:39] Explicit valence for atom # 0 H, 4, is greater than permitted\n"
     ]
    },
    {
     "name": "stdout",
     "output_type": "stream",
     "text": [
      "Chemically invalid molecule! Reason: Explicit valence for atom # 0 H, 4, is greater than permitted\n"
     ]
    },
    {
     "name": "stderr",
     "output_type": "stream",
     "text": [
      "Epoch 755 Training: 100%|██████████| 1/1 [00:00<00:00, 42.32it/s]\n",
      "[16:48:39] Explicit valence for atom # 0 H, 4, is greater than permitted\n"
     ]
    },
    {
     "name": "stdout",
     "output_type": "stream",
     "text": [
      "Chemically invalid molecule! Reason: Explicit valence for atom # 0 H, 4, is greater than permitted\n"
     ]
    },
    {
     "name": "stderr",
     "output_type": "stream",
     "text": [
      "Epoch 756 Training: 100%|██████████| 1/1 [00:00<00:00, 41.89it/s]\n",
      "[16:48:39] Explicit valence for atom # 0 H, 4, is greater than permitted\n"
     ]
    },
    {
     "name": "stdout",
     "output_type": "stream",
     "text": [
      "Chemically invalid molecule! Reason: Explicit valence for atom # 0 H, 4, is greater than permitted\n"
     ]
    },
    {
     "name": "stderr",
     "output_type": "stream",
     "text": [
      "Epoch 757 Training: 100%|██████████| 1/1 [00:00<00:00, 43.42it/s]\n",
      "[16:48:39] Explicit valence for atom # 0 H, 4, is greater than permitted\n"
     ]
    },
    {
     "name": "stdout",
     "output_type": "stream",
     "text": [
      "Chemically invalid molecule! Reason: Explicit valence for atom # 0 H, 4, is greater than permitted\n"
     ]
    },
    {
     "name": "stderr",
     "output_type": "stream",
     "text": [
      "Epoch 758 Training: 100%|██████████| 1/1 [00:00<00:00, 43.16it/s]\n",
      "[16:48:39] Explicit valence for atom # 0 H, 4, is greater than permitted\n"
     ]
    },
    {
     "name": "stdout",
     "output_type": "stream",
     "text": [
      "Chemically invalid molecule! Reason: Explicit valence for atom # 0 H, 4, is greater than permitted\n"
     ]
    },
    {
     "name": "stderr",
     "output_type": "stream",
     "text": [
      "Epoch 759 Training: 100%|██████████| 1/1 [00:00<00:00, 43.53it/s]\n",
      "[16:48:39] Explicit valence for atom # 0 H, 4, is greater than permitted\n"
     ]
    },
    {
     "name": "stdout",
     "output_type": "stream",
     "text": [
      "Chemically invalid molecule! Reason: Explicit valence for atom # 0 H, 4, is greater than permitted\n"
     ]
    },
    {
     "name": "stderr",
     "output_type": "stream",
     "text": [
      "Epoch 760 Training: 100%|██████████| 1/1 [00:00<00:00, 42.75it/s]\n",
      "[16:48:39] Explicit valence for atom # 0 H, 4, is greater than permitted\n"
     ]
    },
    {
     "name": "stdout",
     "output_type": "stream",
     "text": [
      "Chemically invalid molecule! Reason: Explicit valence for atom # 0 H, 4, is greater than permitted\n"
     ]
    },
    {
     "name": "stderr",
     "output_type": "stream",
     "text": [
      "Epoch 761 Training: 100%|██████████| 1/1 [00:00<00:00, 41.62it/s]\n",
      "[16:48:39] Explicit valence for atom # 0 H, 4, is greater than permitted\n"
     ]
    },
    {
     "name": "stdout",
     "output_type": "stream",
     "text": [
      "Chemically invalid molecule! Reason: Explicit valence for atom # 0 H, 4, is greater than permitted\n"
     ]
    },
    {
     "name": "stderr",
     "output_type": "stream",
     "text": [
      "Epoch 762 Training: 100%|██████████| 1/1 [00:00<00:00, 42.93it/s]\n",
      "[16:48:39] Explicit valence for atom # 0 H, 4, is greater than permitted\n"
     ]
    },
    {
     "name": "stdout",
     "output_type": "stream",
     "text": [
      "Chemically invalid molecule! Reason: Explicit valence for atom # 0 H, 4, is greater than permitted\n"
     ]
    },
    {
     "name": "stderr",
     "output_type": "stream",
     "text": [
      "Epoch 763 Training: 100%|██████████| 1/1 [00:00<00:00, 41.79it/s]\n",
      "[16:48:39] Explicit valence for atom # 0 H, 4, is greater than permitted\n"
     ]
    },
    {
     "name": "stdout",
     "output_type": "stream",
     "text": [
      "Chemically invalid molecule! Reason: Explicit valence for atom # 0 H, 4, is greater than permitted\n"
     ]
    },
    {
     "name": "stderr",
     "output_type": "stream",
     "text": [
      "Epoch 764 Training: 100%|██████████| 1/1 [00:00<00:00, 42.29it/s]\n",
      "[16:48:40] Explicit valence for atom # 0 H, 4, is greater than permitted\n"
     ]
    },
    {
     "name": "stdout",
     "output_type": "stream",
     "text": [
      "Chemically invalid molecule! Reason: Explicit valence for atom # 0 H, 4, is greater than permitted\n"
     ]
    },
    {
     "name": "stderr",
     "output_type": "stream",
     "text": [
      "Epoch 765 Training: 100%|██████████| 1/1 [00:00<00:00, 42.80it/s]\n",
      "[16:48:40] Explicit valence for atom # 0 H, 4, is greater than permitted\n"
     ]
    },
    {
     "name": "stdout",
     "output_type": "stream",
     "text": [
      "Chemically invalid molecule! Reason: Explicit valence for atom # 0 H, 4, is greater than permitted\n"
     ]
    },
    {
     "name": "stderr",
     "output_type": "stream",
     "text": [
      "Epoch 766 Training: 100%|██████████| 1/1 [00:00<00:00, 40.86it/s]\n",
      "[16:48:40] Explicit valence for atom # 0 H, 4, is greater than permitted\n"
     ]
    },
    {
     "name": "stdout",
     "output_type": "stream",
     "text": [
      "Chemically invalid molecule! Reason: Explicit valence for atom # 0 H, 4, is greater than permitted\n"
     ]
    },
    {
     "name": "stderr",
     "output_type": "stream",
     "text": [
      "Epoch 767 Training: 100%|██████████| 1/1 [00:00<00:00, 41.97it/s]\n",
      "[16:48:40] Explicit valence for atom # 0 H, 4, is greater than permitted\n"
     ]
    },
    {
     "name": "stdout",
     "output_type": "stream",
     "text": [
      "Chemically invalid molecule! Reason: Explicit valence for atom # 0 H, 4, is greater than permitted\n"
     ]
    },
    {
     "name": "stderr",
     "output_type": "stream",
     "text": [
      "Epoch 768 Training: 100%|██████████| 1/1 [00:00<00:00, 40.97it/s]\n",
      "[16:48:40] Explicit valence for atom # 0 H, 4, is greater than permitted\n"
     ]
    },
    {
     "name": "stdout",
     "output_type": "stream",
     "text": [
      "Chemically invalid molecule! Reason: Explicit valence for atom # 0 H, 4, is greater than permitted\n"
     ]
    },
    {
     "name": "stderr",
     "output_type": "stream",
     "text": [
      "Epoch 769 Training: 100%|██████████| 1/1 [00:00<00:00, 40.92it/s]\n",
      "[16:48:40] Explicit valence for atom # 0 H, 4, is greater than permitted\n"
     ]
    },
    {
     "name": "stdout",
     "output_type": "stream",
     "text": [
      "Chemically invalid molecule! Reason: Explicit valence for atom # 0 H, 4, is greater than permitted\n"
     ]
    },
    {
     "name": "stderr",
     "output_type": "stream",
     "text": [
      "Epoch 770 Training: 100%|██████████| 1/1 [00:00<00:00, 41.92it/s]\n",
      "[16:48:40] Explicit valence for atom # 0 H, 4, is greater than permitted\n"
     ]
    },
    {
     "name": "stdout",
     "output_type": "stream",
     "text": [
      "Chemically invalid molecule! Reason: Explicit valence for atom # 0 H, 4, is greater than permitted\n"
     ]
    },
    {
     "name": "stderr",
     "output_type": "stream",
     "text": [
      "Epoch 771 Training: 100%|██████████| 1/1 [00:00<00:00, 42.05it/s]\n",
      "[16:48:40] Explicit valence for atom # 0 H, 4, is greater than permitted\n"
     ]
    },
    {
     "name": "stdout",
     "output_type": "stream",
     "text": [
      "Chemically invalid molecule! Reason: Explicit valence for atom # 0 H, 4, is greater than permitted\n"
     ]
    },
    {
     "name": "stderr",
     "output_type": "stream",
     "text": [
      "Epoch 772 Training: 100%|██████████| 1/1 [00:00<00:00, 41.40it/s]\n",
      "[16:48:40] Explicit valence for atom # 0 H, 4, is greater than permitted\n"
     ]
    },
    {
     "name": "stdout",
     "output_type": "stream",
     "text": [
      "Chemically invalid molecule! Reason: Explicit valence for atom # 0 H, 4, is greater than permitted\n"
     ]
    },
    {
     "name": "stderr",
     "output_type": "stream",
     "text": [
      "Epoch 773 Training: 100%|██████████| 1/1 [00:00<00:00, 42.04it/s]\n",
      "[16:48:40] Explicit valence for atom # 0 H, 4, is greater than permitted\n"
     ]
    },
    {
     "name": "stdout",
     "output_type": "stream",
     "text": [
      "Chemically invalid molecule! Reason: Explicit valence for atom # 0 H, 4, is greater than permitted\n"
     ]
    },
    {
     "name": "stderr",
     "output_type": "stream",
     "text": [
      "Epoch 774 Training: 100%|██████████| 1/1 [00:00<00:00, 41.84it/s]\n",
      "[16:48:40] Explicit valence for atom # 0 H, 4, is greater than permitted\n"
     ]
    },
    {
     "name": "stdout",
     "output_type": "stream",
     "text": [
      "Chemically invalid molecule! Reason: Explicit valence for atom # 0 H, 4, is greater than permitted\n"
     ]
    },
    {
     "name": "stderr",
     "output_type": "stream",
     "text": [
      "Epoch 775 Training: 100%|██████████| 1/1 [00:00<00:00, 41.98it/s]\n",
      "[16:48:40] Explicit valence for atom # 0 H, 4, is greater than permitted\n"
     ]
    },
    {
     "name": "stdout",
     "output_type": "stream",
     "text": [
      "Chemically invalid molecule! Reason: Explicit valence for atom # 0 H, 4, is greater than permitted\n"
     ]
    },
    {
     "name": "stderr",
     "output_type": "stream",
     "text": [
      "Epoch 776 Training: 100%|██████████| 1/1 [00:00<00:00, 26.17it/s]\n",
      "[16:48:40] Explicit valence for atom # 0 H, 4, is greater than permitted\n"
     ]
    },
    {
     "name": "stdout",
     "output_type": "stream",
     "text": [
      "Chemically invalid molecule! Reason: Explicit valence for atom # 0 H, 4, is greater than permitted\n"
     ]
    },
    {
     "name": "stderr",
     "output_type": "stream",
     "text": [
      "Epoch 777 Training: 100%|██████████| 1/1 [00:00<00:00, 38.30it/s]\n",
      "[16:48:40] Explicit valence for atom # 0 H, 4, is greater than permitted\n"
     ]
    },
    {
     "name": "stdout",
     "output_type": "stream",
     "text": [
      "Chemically invalid molecule! Reason: Explicit valence for atom # 0 H, 4, is greater than permitted\n"
     ]
    },
    {
     "name": "stderr",
     "output_type": "stream",
     "text": [
      "Epoch 778 Training: 100%|██████████| 1/1 [00:00<00:00, 38.94it/s]\n",
      "[16:48:40] Explicit valence for atom # 0 H, 4, is greater than permitted\n"
     ]
    },
    {
     "name": "stdout",
     "output_type": "stream",
     "text": [
      "Chemically invalid molecule! Reason: Explicit valence for atom # 0 H, 4, is greater than permitted\n"
     ]
    },
    {
     "name": "stderr",
     "output_type": "stream",
     "text": [
      "Epoch 779 Training: 100%|██████████| 1/1 [00:00<00:00, 38.13it/s]\n",
      "[16:48:41] Explicit valence for atom # 0 H, 4, is greater than permitted\n"
     ]
    },
    {
     "name": "stdout",
     "output_type": "stream",
     "text": [
      "Chemically invalid molecule! Reason: Explicit valence for atom # 0 H, 4, is greater than permitted\n"
     ]
    },
    {
     "name": "stderr",
     "output_type": "stream",
     "text": [
      "Epoch 780 Training: 100%|██████████| 1/1 [00:00<00:00, 40.58it/s]\n",
      "[16:48:41] Explicit valence for atom # 0 H, 4, is greater than permitted\n"
     ]
    },
    {
     "name": "stdout",
     "output_type": "stream",
     "text": [
      "Chemically invalid molecule! Reason: Explicit valence for atom # 0 H, 4, is greater than permitted\n"
     ]
    },
    {
     "name": "stderr",
     "output_type": "stream",
     "text": [
      "Epoch 781 Training: 100%|██████████| 1/1 [00:00<00:00, 41.36it/s]\n",
      "[16:48:41] Explicit valence for atom # 0 H, 4, is greater than permitted\n"
     ]
    },
    {
     "name": "stdout",
     "output_type": "stream",
     "text": [
      "Chemically invalid molecule! Reason: Explicit valence for atom # 0 H, 4, is greater than permitted\n"
     ]
    },
    {
     "name": "stderr",
     "output_type": "stream",
     "text": [
      "Epoch 782 Training: 100%|██████████| 1/1 [00:00<00:00, 40.65it/s]\n",
      "[16:48:41] Explicit valence for atom # 0 H, 4, is greater than permitted\n"
     ]
    },
    {
     "name": "stdout",
     "output_type": "stream",
     "text": [
      "Chemically invalid molecule! Reason: Explicit valence for atom # 0 H, 4, is greater than permitted\n"
     ]
    },
    {
     "name": "stderr",
     "output_type": "stream",
     "text": [
      "Epoch 783 Training: 100%|██████████| 1/1 [00:00<00:00, 36.35it/s]\n",
      "[16:48:41] Explicit valence for atom # 0 H, 4, is greater than permitted\n"
     ]
    },
    {
     "name": "stdout",
     "output_type": "stream",
     "text": [
      "Chemically invalid molecule! Reason: Explicit valence for atom # 0 H, 4, is greater than permitted\n"
     ]
    },
    {
     "name": "stderr",
     "output_type": "stream",
     "text": [
      "Epoch 784 Training: 100%|██████████| 1/1 [00:00<00:00, 37.43it/s]\n",
      "[16:48:41] Explicit valence for atom # 0 H, 4, is greater than permitted\n"
     ]
    },
    {
     "name": "stdout",
     "output_type": "stream",
     "text": [
      "Chemically invalid molecule! Reason: Explicit valence for atom # 0 H, 4, is greater than permitted\n"
     ]
    },
    {
     "name": "stderr",
     "output_type": "stream",
     "text": [
      "Epoch 785 Training: 100%|██████████| 1/1 [00:00<00:00, 39.80it/s]\n",
      "[16:48:41] Explicit valence for atom # 0 H, 4, is greater than permitted\n"
     ]
    },
    {
     "name": "stdout",
     "output_type": "stream",
     "text": [
      "Chemically invalid molecule! Reason: Explicit valence for atom # 0 H, 4, is greater than permitted\n"
     ]
    },
    {
     "name": "stderr",
     "output_type": "stream",
     "text": [
      "Epoch 786 Training: 100%|██████████| 1/1 [00:00<00:00, 38.63it/s]\n",
      "[16:48:41] Explicit valence for atom # 0 H, 4, is greater than permitted\n"
     ]
    },
    {
     "name": "stdout",
     "output_type": "stream",
     "text": [
      "Chemically invalid molecule! Reason: Explicit valence for atom # 0 H, 4, is greater than permitted\n"
     ]
    },
    {
     "name": "stderr",
     "output_type": "stream",
     "text": [
      "Epoch 787 Training: 100%|██████████| 1/1 [00:00<00:00, 26.99it/s]\n",
      "[16:48:41] Explicit valence for atom # 0 H, 4, is greater than permitted\n"
     ]
    },
    {
     "name": "stdout",
     "output_type": "stream",
     "text": [
      "Chemically invalid molecule! Reason: Explicit valence for atom # 0 H, 4, is greater than permitted\n"
     ]
    },
    {
     "name": "stderr",
     "output_type": "stream",
     "text": [
      "Epoch 788 Training: 100%|██████████| 1/1 [00:00<00:00, 42.52it/s]\n",
      "[16:48:41] Explicit valence for atom # 0 H, 4, is greater than permitted\n"
     ]
    },
    {
     "name": "stdout",
     "output_type": "stream",
     "text": [
      "Chemically invalid molecule! Reason: Explicit valence for atom # 0 H, 4, is greater than permitted\n"
     ]
    },
    {
     "name": "stderr",
     "output_type": "stream",
     "text": [
      "Epoch 789 Training: 100%|██████████| 1/1 [00:00<00:00, 40.51it/s]\n",
      "[16:48:41] Explicit valence for atom # 0 H, 4, is greater than permitted\n"
     ]
    },
    {
     "name": "stdout",
     "output_type": "stream",
     "text": [
      "Chemically invalid molecule! Reason: Explicit valence for atom # 0 H, 4, is greater than permitted\n"
     ]
    },
    {
     "name": "stderr",
     "output_type": "stream",
     "text": [
      "Epoch 790 Training: 100%|██████████| 1/1 [00:00<00:00, 41.51it/s]\n",
      "[16:48:41] Explicit valence for atom # 0 H, 4, is greater than permitted\n"
     ]
    },
    {
     "name": "stdout",
     "output_type": "stream",
     "text": [
      "Chemically invalid molecule! Reason: Explicit valence for atom # 0 H, 4, is greater than permitted\n"
     ]
    },
    {
     "name": "stderr",
     "output_type": "stream",
     "text": [
      "Epoch 791 Training: 100%|██████████| 1/1 [00:00<00:00, 41.21it/s]\n",
      "[16:48:41] Explicit valence for atom # 0 H, 4, is greater than permitted\n"
     ]
    },
    {
     "name": "stdout",
     "output_type": "stream",
     "text": [
      "Chemically invalid molecule! Reason: Explicit valence for atom # 0 H, 4, is greater than permitted\n"
     ]
    },
    {
     "name": "stderr",
     "output_type": "stream",
     "text": [
      "Epoch 792 Training: 100%|██████████| 1/1 [00:00<00:00, 41.95it/s]\n",
      "[16:48:41] Explicit valence for atom # 0 H, 4, is greater than permitted\n"
     ]
    },
    {
     "name": "stdout",
     "output_type": "stream",
     "text": [
      "Chemically invalid molecule! Reason: Explicit valence for atom # 0 H, 4, is greater than permitted\n"
     ]
    },
    {
     "name": "stderr",
     "output_type": "stream",
     "text": [
      "Epoch 793 Training: 100%|██████████| 1/1 [00:00<00:00, 42.40it/s]\n",
      "[16:48:42] Explicit valence for atom # 0 H, 4, is greater than permitted\n"
     ]
    },
    {
     "name": "stdout",
     "output_type": "stream",
     "text": [
      "Chemically invalid molecule! Reason: Explicit valence for atom # 0 H, 4, is greater than permitted\n"
     ]
    },
    {
     "name": "stderr",
     "output_type": "stream",
     "text": [
      "Epoch 794 Training: 100%|██████████| 1/1 [00:00<00:00, 41.80it/s]\n",
      "[16:48:42] Explicit valence for atom # 0 H, 4, is greater than permitted\n"
     ]
    },
    {
     "name": "stdout",
     "output_type": "stream",
     "text": [
      "Chemically invalid molecule! Reason: Explicit valence for atom # 0 H, 4, is greater than permitted\n"
     ]
    },
    {
     "name": "stderr",
     "output_type": "stream",
     "text": [
      "Epoch 795 Training: 100%|██████████| 1/1 [00:00<00:00, 42.90it/s]\n",
      "[16:48:42] Explicit valence for atom # 0 H, 4, is greater than permitted\n"
     ]
    },
    {
     "name": "stdout",
     "output_type": "stream",
     "text": [
      "Chemically invalid molecule! Reason: Explicit valence for atom # 0 H, 4, is greater than permitted\n"
     ]
    },
    {
     "name": "stderr",
     "output_type": "stream",
     "text": [
      "Epoch 796 Training: 100%|██████████| 1/1 [00:00<00:00, 42.37it/s]\n",
      "[16:48:42] Explicit valence for atom # 0 H, 4, is greater than permitted\n"
     ]
    },
    {
     "name": "stdout",
     "output_type": "stream",
     "text": [
      "Chemically invalid molecule! Reason: Explicit valence for atom # 0 H, 4, is greater than permitted\n"
     ]
    },
    {
     "name": "stderr",
     "output_type": "stream",
     "text": [
      "Epoch 797 Training: 100%|██████████| 1/1 [00:00<00:00, 37.79it/s]\n",
      "[16:48:42] Explicit valence for atom # 0 H, 4, is greater than permitted\n"
     ]
    },
    {
     "name": "stdout",
     "output_type": "stream",
     "text": [
      "Chemically invalid molecule! Reason: Explicit valence for atom # 0 H, 4, is greater than permitted\n"
     ]
    },
    {
     "name": "stderr",
     "output_type": "stream",
     "text": [
      "Epoch 798 Training: 100%|██████████| 1/1 [00:00<00:00, 40.73it/s]\n",
      "[16:48:42] Explicit valence for atom # 0 H, 4, is greater than permitted\n"
     ]
    },
    {
     "name": "stdout",
     "output_type": "stream",
     "text": [
      "Chemically invalid molecule! Reason: Explicit valence for atom # 0 H, 4, is greater than permitted\n"
     ]
    },
    {
     "name": "stderr",
     "output_type": "stream",
     "text": [
      "Epoch 799 Training: 100%|██████████| 1/1 [00:00<00:00, 22.55it/s]\n",
      "[16:48:42] Explicit valence for atom # 0 H, 4, is greater than permitted\n"
     ]
    },
    {
     "name": "stdout",
     "output_type": "stream",
     "text": [
      "Chemically invalid molecule! Reason: Explicit valence for atom # 0 H, 4, is greater than permitted\n"
     ]
    },
    {
     "name": "stderr",
     "output_type": "stream",
     "text": [
      "Epoch 800 Training: 100%|██████████| 1/1 [00:00<00:00, 37.90it/s]\n",
      "[16:48:42] Explicit valence for atom # 0 H, 4, is greater than permitted\n"
     ]
    },
    {
     "name": "stdout",
     "output_type": "stream",
     "text": [
      "Chemically invalid molecule! Reason: Explicit valence for atom # 0 H, 4, is greater than permitted\n"
     ]
    },
    {
     "name": "stderr",
     "output_type": "stream",
     "text": [
      "Epoch 801 Training: 100%|██████████| 1/1 [00:00<00:00,  2.84it/s]\n",
      "[16:48:42] Explicit valence for atom # 0 H, 4, is greater than permitted\n"
     ]
    },
    {
     "name": "stdout",
     "output_type": "stream",
     "text": [
      "Chemically invalid molecule! Reason: Explicit valence for atom # 0 H, 4, is greater than permitted\n"
     ]
    },
    {
     "name": "stderr",
     "output_type": "stream",
     "text": [
      "Epoch 802 Training: 100%|██████████| 1/1 [00:00<00:00, 42.52it/s]\n",
      "[16:48:43] Explicit valence for atom # 0 H, 4, is greater than permitted\n"
     ]
    },
    {
     "name": "stdout",
     "output_type": "stream",
     "text": [
      "Chemically invalid molecule! Reason: Explicit valence for atom # 0 H, 4, is greater than permitted\n"
     ]
    },
    {
     "name": "stderr",
     "output_type": "stream",
     "text": [
      "Epoch 803 Training: 100%|██████████| 1/1 [00:00<00:00, 42.21it/s]\n",
      "[16:48:43] Explicit valence for atom # 0 H, 4, is greater than permitted\n"
     ]
    },
    {
     "name": "stdout",
     "output_type": "stream",
     "text": [
      "Chemically invalid molecule! Reason: Explicit valence for atom # 0 H, 4, is greater than permitted\n"
     ]
    },
    {
     "name": "stderr",
     "output_type": "stream",
     "text": [
      "Epoch 804 Training: 100%|██████████| 1/1 [00:00<00:00, 23.78it/s]\n",
      "[16:48:43] Explicit valence for atom # 0 H, 4, is greater than permitted\n"
     ]
    },
    {
     "name": "stdout",
     "output_type": "stream",
     "text": [
      "Chemically invalid molecule! Reason: Explicit valence for atom # 0 H, 4, is greater than permitted\n"
     ]
    },
    {
     "name": "stderr",
     "output_type": "stream",
     "text": [
      "Epoch 805 Training: 100%|██████████| 1/1 [00:00<00:00, 38.34it/s]\n",
      "[16:48:43] Explicit valence for atom # 0 H, 4, is greater than permitted\n"
     ]
    },
    {
     "name": "stdout",
     "output_type": "stream",
     "text": [
      "Chemically invalid molecule! Reason: Explicit valence for atom # 0 H, 4, is greater than permitted\n"
     ]
    },
    {
     "name": "stderr",
     "output_type": "stream",
     "text": [
      "Epoch 806 Training: 100%|██████████| 1/1 [00:00<00:00, 40.60it/s]\n",
      "[16:48:43] Explicit valence for atom # 0 H, 4, is greater than permitted\n"
     ]
    },
    {
     "name": "stdout",
     "output_type": "stream",
     "text": [
      "Chemically invalid molecule! Reason: Explicit valence for atom # 0 H, 4, is greater than permitted\n"
     ]
    },
    {
     "name": "stderr",
     "output_type": "stream",
     "text": [
      "Epoch 807 Training: 100%|██████████| 1/1 [00:00<00:00, 41.97it/s]\n",
      "[16:48:43] Explicit valence for atom # 0 H, 4, is greater than permitted\n"
     ]
    },
    {
     "name": "stdout",
     "output_type": "stream",
     "text": [
      "Chemically invalid molecule! Reason: Explicit valence for atom # 0 H, 4, is greater than permitted\n"
     ]
    },
    {
     "name": "stderr",
     "output_type": "stream",
     "text": [
      "Epoch 808 Training: 100%|██████████| 1/1 [00:00<00:00, 41.39it/s]\n",
      "[16:48:43] Explicit valence for atom # 0 H, 4, is greater than permitted\n"
     ]
    },
    {
     "name": "stdout",
     "output_type": "stream",
     "text": [
      "Chemically invalid molecule! Reason: Explicit valence for atom # 0 H, 4, is greater than permitted\n"
     ]
    },
    {
     "name": "stderr",
     "output_type": "stream",
     "text": [
      "Epoch 809 Training: 100%|██████████| 1/1 [00:00<00:00, 39.70it/s]\n",
      "[16:48:43] Explicit valence for atom # 0 H, 4, is greater than permitted\n"
     ]
    },
    {
     "name": "stdout",
     "output_type": "stream",
     "text": [
      "Chemically invalid molecule! Reason: Explicit valence for atom # 0 H, 4, is greater than permitted\n"
     ]
    },
    {
     "name": "stderr",
     "output_type": "stream",
     "text": [
      "Epoch 810 Training: 100%|██████████| 1/1 [00:00<00:00, 40.38it/s]\n",
      "[16:48:43] Explicit valence for atom # 0 H, 4, is greater than permitted\n"
     ]
    },
    {
     "name": "stdout",
     "output_type": "stream",
     "text": [
      "Chemically invalid molecule! Reason: Explicit valence for atom # 0 H, 4, is greater than permitted\n"
     ]
    },
    {
     "name": "stderr",
     "output_type": "stream",
     "text": [
      "Epoch 811 Training: 100%|██████████| 1/1 [00:00<00:00, 27.06it/s]\n",
      "[16:48:43] Explicit valence for atom # 0 H, 4, is greater than permitted\n"
     ]
    },
    {
     "name": "stdout",
     "output_type": "stream",
     "text": [
      "Chemically invalid molecule! Reason: Explicit valence for atom # 0 H, 4, is greater than permitted\n"
     ]
    },
    {
     "name": "stderr",
     "output_type": "stream",
     "text": [
      "Epoch 812 Training: 100%|██████████| 1/1 [00:00<00:00, 36.46it/s]\n",
      "[16:48:43] Explicit valence for atom # 0 H, 4, is greater than permitted\n"
     ]
    },
    {
     "name": "stdout",
     "output_type": "stream",
     "text": [
      "Chemically invalid molecule! Reason: Explicit valence for atom # 0 H, 4, is greater than permitted\n"
     ]
    },
    {
     "name": "stderr",
     "output_type": "stream",
     "text": [
      "Epoch 813 Training: 100%|██████████| 1/1 [00:00<00:00, 40.69it/s]\n",
      "[16:48:43] Explicit valence for atom # 0 H, 4, is greater than permitted\n"
     ]
    },
    {
     "name": "stdout",
     "output_type": "stream",
     "text": [
      "Chemically invalid molecule! Reason: Explicit valence for atom # 0 H, 4, is greater than permitted\n"
     ]
    },
    {
     "name": "stderr",
     "output_type": "stream",
     "text": [
      "Epoch 814 Training: 100%|██████████| 1/1 [00:00<00:00, 42.28it/s]\n",
      "[16:48:43] Explicit valence for atom # 0 H, 4, is greater than permitted\n"
     ]
    },
    {
     "name": "stdout",
     "output_type": "stream",
     "text": [
      "Chemically invalid molecule! Reason: Explicit valence for atom # 0 H, 4, is greater than permitted\n"
     ]
    },
    {
     "name": "stderr",
     "output_type": "stream",
     "text": [
      "Epoch 815 Training: 100%|██████████| 1/1 [00:00<00:00, 40.89it/s]\n",
      "[16:48:43] Explicit valence for atom # 0 H, 4, is greater than permitted\n"
     ]
    },
    {
     "name": "stdout",
     "output_type": "stream",
     "text": [
      "Chemically invalid molecule! Reason: Explicit valence for atom # 0 H, 4, is greater than permitted\n"
     ]
    },
    {
     "name": "stderr",
     "output_type": "stream",
     "text": [
      "Epoch 816 Training: 100%|██████████| 1/1 [00:00<00:00, 42.51it/s]\n",
      "[16:48:44] Explicit valence for atom # 0 H, 4, is greater than permitted\n"
     ]
    },
    {
     "name": "stdout",
     "output_type": "stream",
     "text": [
      "Chemically invalid molecule! Reason: Explicit valence for atom # 0 H, 4, is greater than permitted\n"
     ]
    },
    {
     "name": "stderr",
     "output_type": "stream",
     "text": [
      "Epoch 817 Training: 100%|██████████| 1/1 [00:00<00:00, 42.53it/s]\n",
      "[16:48:44] Explicit valence for atom # 0 H, 4, is greater than permitted\n"
     ]
    },
    {
     "name": "stdout",
     "output_type": "stream",
     "text": [
      "Chemically invalid molecule! Reason: Explicit valence for atom # 0 H, 4, is greater than permitted\n"
     ]
    },
    {
     "name": "stderr",
     "output_type": "stream",
     "text": [
      "Epoch 818 Training: 100%|██████████| 1/1 [00:00<00:00, 43.57it/s]\n",
      "[16:48:44] Explicit valence for atom # 0 H, 4, is greater than permitted\n"
     ]
    },
    {
     "name": "stdout",
     "output_type": "stream",
     "text": [
      "Chemically invalid molecule! Reason: Explicit valence for atom # 0 H, 4, is greater than permitted\n"
     ]
    },
    {
     "name": "stderr",
     "output_type": "stream",
     "text": [
      "Epoch 819 Training: 100%|██████████| 1/1 [00:00<00:00, 40.97it/s]\n",
      "[16:48:44] Explicit valence for atom # 0 H, 4, is greater than permitted\n"
     ]
    },
    {
     "name": "stdout",
     "output_type": "stream",
     "text": [
      "Chemically invalid molecule! Reason: Explicit valence for atom # 0 H, 4, is greater than permitted\n"
     ]
    },
    {
     "name": "stderr",
     "output_type": "stream",
     "text": [
      "Epoch 820 Training: 100%|██████████| 1/1 [00:00<00:00, 38.60it/s]\n",
      "[16:48:44] Explicit valence for atom # 0 H, 4, is greater than permitted\n"
     ]
    },
    {
     "name": "stdout",
     "output_type": "stream",
     "text": [
      "Chemically invalid molecule! Reason: Explicit valence for atom # 0 H, 4, is greater than permitted\n"
     ]
    },
    {
     "name": "stderr",
     "output_type": "stream",
     "text": [
      "Epoch 821 Training: 100%|██████████| 1/1 [00:00<00:00, 41.37it/s]"
     ]
    },
    {
     "name": "stdout",
     "output_type": "stream",
     "text": [
      "Chemically invalid molecule! Reason: Explicit valence for atom # 0 H, 4, is greater than permitted\n"
     ]
    },
    {
     "name": "stderr",
     "output_type": "stream",
     "text": [
      "\n",
      "[16:48:44] Explicit valence for atom # 0 H, 4, is greater than permitted\n",
      "Epoch 822 Training: 100%|██████████| 1/1 [00:00<00:00, 39.96it/s]\n"
     ]
    },
    {
     "name": "stdout",
     "output_type": "stream",
     "text": [
      "Chemically invalid molecule! Reason: Explicit valence for atom # 0 H, 4, is greater than permitted\n"
     ]
    },
    {
     "name": "stderr",
     "output_type": "stream",
     "text": [
      "[16:48:44] Explicit valence for atom # 0 H, 4, is greater than permitted\n",
      "Epoch 823 Training: 100%|██████████| 1/1 [00:00<00:00, 38.22it/s]\n",
      "[16:48:44] Explicit valence for atom # 0 H, 4, is greater than permitted\n"
     ]
    },
    {
     "name": "stdout",
     "output_type": "stream",
     "text": [
      "Chemically invalid molecule! Reason: Explicit valence for atom # 0 H, 4, is greater than permitted\n"
     ]
    },
    {
     "name": "stderr",
     "output_type": "stream",
     "text": [
      "Epoch 824 Training: 100%|██████████| 1/1 [00:00<00:00, 34.61it/s]\n",
      "[16:48:44] Explicit valence for atom # 0 H, 4, is greater than permitted\n"
     ]
    },
    {
     "name": "stdout",
     "output_type": "stream",
     "text": [
      "Chemically invalid molecule! Reason: Explicit valence for atom # 0 H, 4, is greater than permitted\n"
     ]
    },
    {
     "name": "stderr",
     "output_type": "stream",
     "text": [
      "Epoch 825 Training: 100%|██████████| 1/1 [00:00<00:00, 39.59it/s]\n",
      "[16:48:44] Explicit valence for atom # 0 H, 4, is greater than permitted\n"
     ]
    },
    {
     "name": "stdout",
     "output_type": "stream",
     "text": [
      "Chemically invalid molecule! Reason: Explicit valence for atom # 0 H, 4, is greater than permitted\n"
     ]
    },
    {
     "name": "stderr",
     "output_type": "stream",
     "text": [
      "Epoch 826 Training: 100%|██████████| 1/1 [00:00<00:00, 36.25it/s]\n",
      "[16:48:44] Explicit valence for atom # 0 H, 4, is greater than permitted\n"
     ]
    },
    {
     "name": "stdout",
     "output_type": "stream",
     "text": [
      "Chemically invalid molecule! Reason: Explicit valence for atom # 0 H, 4, is greater than permitted\n"
     ]
    },
    {
     "name": "stderr",
     "output_type": "stream",
     "text": [
      "Epoch 827 Training: 100%|██████████| 1/1 [00:00<00:00, 39.77it/s]\n",
      "[16:48:44] Explicit valence for atom # 0 H, 4, is greater than permitted\n"
     ]
    },
    {
     "name": "stdout",
     "output_type": "stream",
     "text": [
      "Chemically invalid molecule! Reason: Explicit valence for atom # 0 H, 4, is greater than permitted\n"
     ]
    },
    {
     "name": "stderr",
     "output_type": "stream",
     "text": [
      "Epoch 828 Training: 100%|██████████| 1/1 [00:00<00:00, 40.42it/s]\n",
      "[16:48:44] Explicit valence for atom # 0 H, 4, is greater than permitted\n"
     ]
    },
    {
     "name": "stdout",
     "output_type": "stream",
     "text": [
      "Chemically invalid molecule! Reason: Explicit valence for atom # 0 H, 4, is greater than permitted\n"
     ]
    },
    {
     "name": "stderr",
     "output_type": "stream",
     "text": [
      "Epoch 829 Training: 100%|██████████| 1/1 [00:00<00:00, 42.03it/s]\n",
      "[16:48:44] Explicit valence for atom # 0 H, 4, is greater than permitted\n"
     ]
    },
    {
     "name": "stdout",
     "output_type": "stream",
     "text": [
      "Chemically invalid molecule! Reason: Explicit valence for atom # 0 H, 4, is greater than permitted\n"
     ]
    },
    {
     "name": "stderr",
     "output_type": "stream",
     "text": [
      "Epoch 830 Training: 100%|██████████| 1/1 [00:00<00:00, 38.55it/s]\n",
      "[16:48:45] Explicit valence for atom # 0 H, 4, is greater than permitted\n"
     ]
    },
    {
     "name": "stdout",
     "output_type": "stream",
     "text": [
      "Chemically invalid molecule! Reason: Explicit valence for atom # 0 H, 4, is greater than permitted\n"
     ]
    },
    {
     "name": "stderr",
     "output_type": "stream",
     "text": [
      "Epoch 831 Training: 100%|██████████| 1/1 [00:00<00:00, 40.28it/s]\n",
      "[16:48:45] Explicit valence for atom # 0 H, 4, is greater than permitted\n"
     ]
    },
    {
     "name": "stdout",
     "output_type": "stream",
     "text": [
      "Chemically invalid molecule! Reason: Explicit valence for atom # 0 H, 4, is greater than permitted\n"
     ]
    },
    {
     "name": "stderr",
     "output_type": "stream",
     "text": [
      "Epoch 832 Training: 100%|██████████| 1/1 [00:00<00:00, 42.55it/s]\n",
      "[16:48:45] Explicit valence for atom # 0 H, 4, is greater than permitted\n"
     ]
    },
    {
     "name": "stdout",
     "output_type": "stream",
     "text": [
      "Chemically invalid molecule! Reason: Explicit valence for atom # 0 H, 4, is greater than permitted\n"
     ]
    },
    {
     "name": "stderr",
     "output_type": "stream",
     "text": [
      "Epoch 833 Training: 100%|██████████| 1/1 [00:00<00:00, 41.07it/s]\n",
      "[16:48:45] Explicit valence for atom # 0 H, 4, is greater than permitted\n"
     ]
    },
    {
     "name": "stdout",
     "output_type": "stream",
     "text": [
      "Chemically invalid molecule! Reason: Explicit valence for atom # 0 H, 4, is greater than permitted\n"
     ]
    },
    {
     "name": "stderr",
     "output_type": "stream",
     "text": [
      "Epoch 834 Training: 100%|██████████| 1/1 [00:00<00:00, 40.90it/s]\n",
      "[16:48:45] Explicit valence for atom # 0 H, 4, is greater than permitted\n"
     ]
    },
    {
     "name": "stdout",
     "output_type": "stream",
     "text": [
      "Chemically invalid molecule! Reason: Explicit valence for atom # 0 H, 4, is greater than permitted\n"
     ]
    },
    {
     "name": "stderr",
     "output_type": "stream",
     "text": [
      "Epoch 835 Training: 100%|██████████| 1/1 [00:00<00:00, 41.09it/s]\n",
      "[16:48:45] Explicit valence for atom # 0 H, 4, is greater than permitted\n"
     ]
    },
    {
     "name": "stdout",
     "output_type": "stream",
     "text": [
      "Chemically invalid molecule! Reason: Explicit valence for atom # 0 H, 4, is greater than permitted\n"
     ]
    },
    {
     "name": "stderr",
     "output_type": "stream",
     "text": [
      "Epoch 836 Training: 100%|██████████| 1/1 [00:00<00:00, 41.45it/s]\n",
      "[16:48:45] Explicit valence for atom # 0 H, 4, is greater than permitted\n"
     ]
    },
    {
     "name": "stdout",
     "output_type": "stream",
     "text": [
      "Chemically invalid molecule! Reason: Explicit valence for atom # 0 H, 4, is greater than permitted\n"
     ]
    },
    {
     "name": "stderr",
     "output_type": "stream",
     "text": [
      "Epoch 837 Training: 100%|██████████| 1/1 [00:00<00:00, 38.13it/s]\n",
      "[16:48:45] Explicit valence for atom # 0 H, 4, is greater than permitted\n"
     ]
    },
    {
     "name": "stdout",
     "output_type": "stream",
     "text": [
      "Chemically invalid molecule! Reason: Explicit valence for atom # 0 H, 4, is greater than permitted\n"
     ]
    },
    {
     "name": "stderr",
     "output_type": "stream",
     "text": [
      "Epoch 838 Training: 100%|██████████| 1/1 [00:00<00:00, 39.85it/s]"
     ]
    },
    {
     "name": "stdout",
     "output_type": "stream",
     "text": [
      "Chemically invalid molecule! Reason: Explicit valence for atom # 0 H, 4, is greater than permitted\n"
     ]
    },
    {
     "name": "stderr",
     "output_type": "stream",
     "text": [
      "\n",
      "[16:48:45] Explicit valence for atom # 0 H, 4, is greater than permitted\n",
      "Epoch 839 Training: 100%|██████████| 1/1 [00:00<00:00, 40.14it/s]\n",
      "[16:48:45] Explicit valence for atom # 0 H, 4, is greater than permitted\n"
     ]
    },
    {
     "name": "stdout",
     "output_type": "stream",
     "text": [
      "Chemically invalid molecule! Reason: Explicit valence for atom # 0 H, 4, is greater than permitted\n"
     ]
    },
    {
     "name": "stderr",
     "output_type": "stream",
     "text": [
      "Epoch 840 Training: 100%|██████████| 1/1 [00:00<00:00, 38.64it/s]\n",
      "[16:48:45] Explicit valence for atom # 0 H, 4, is greater than permitted\n"
     ]
    },
    {
     "name": "stdout",
     "output_type": "stream",
     "text": [
      "Chemically invalid molecule! Reason: Explicit valence for atom # 0 H, 4, is greater than permitted\n"
     ]
    },
    {
     "name": "stderr",
     "output_type": "stream",
     "text": [
      "Epoch 841 Training: 100%|██████████| 1/1 [00:00<00:00, 41.05it/s]\n",
      "[16:48:45] Explicit valence for atom # 0 H, 4, is greater than permitted\n"
     ]
    },
    {
     "name": "stdout",
     "output_type": "stream",
     "text": [
      "Chemically invalid molecule! Reason: Explicit valence for atom # 0 H, 4, is greater than permitted\n"
     ]
    },
    {
     "name": "stderr",
     "output_type": "stream",
     "text": [
      "Epoch 842 Training: 100%|██████████| 1/1 [00:00<00:00, 41.53it/s]\n",
      "[16:48:45] Explicit valence for atom # 0 H, 4, is greater than permitted\n"
     ]
    },
    {
     "name": "stdout",
     "output_type": "stream",
     "text": [
      "Chemically invalid molecule! Reason: Explicit valence for atom # 0 H, 4, is greater than permitted\n"
     ]
    },
    {
     "name": "stderr",
     "output_type": "stream",
     "text": [
      "Epoch 843 Training: 100%|██████████| 1/1 [00:00<00:00, 41.80it/s]\n",
      "[16:48:45] Explicit valence for atom # 0 H, 4, is greater than permitted\n"
     ]
    },
    {
     "name": "stdout",
     "output_type": "stream",
     "text": [
      "Chemically invalid molecule! Reason: Explicit valence for atom # 0 H, 4, is greater than permitted\n"
     ]
    },
    {
     "name": "stderr",
     "output_type": "stream",
     "text": [
      "Epoch 844 Training: 100%|██████████| 1/1 [00:00<00:00, 40.99it/s]\n",
      "[16:48:45] Explicit valence for atom # 0 H, 4, is greater than permitted\n"
     ]
    },
    {
     "name": "stdout",
     "output_type": "stream",
     "text": [
      "Chemically invalid molecule! Reason: Explicit valence for atom # 0 H, 4, is greater than permitted\n"
     ]
    },
    {
     "name": "stderr",
     "output_type": "stream",
     "text": [
      "Epoch 845 Training: 100%|██████████| 1/1 [00:00<00:00, 40.71it/s]\n",
      "[16:48:46] Explicit valence for atom # 0 H, 4, is greater than permitted\n"
     ]
    },
    {
     "name": "stdout",
     "output_type": "stream",
     "text": [
      "Chemically invalid molecule! Reason: Explicit valence for atom # 0 H, 4, is greater than permitted\n"
     ]
    },
    {
     "name": "stderr",
     "output_type": "stream",
     "text": [
      "Epoch 846 Training: 100%|██████████| 1/1 [00:00<00:00, 41.31it/s]\n",
      "[16:48:46] Explicit valence for atom # 0 H, 4, is greater than permitted\n"
     ]
    },
    {
     "name": "stdout",
     "output_type": "stream",
     "text": [
      "Chemically invalid molecule! Reason: Explicit valence for atom # 0 H, 4, is greater than permitted\n"
     ]
    },
    {
     "name": "stderr",
     "output_type": "stream",
     "text": [
      "Epoch 847 Training: 100%|██████████| 1/1 [00:00<00:00, 41.39it/s]\n",
      "[16:48:46] Explicit valence for atom # 0 H, 4, is greater than permitted\n"
     ]
    },
    {
     "name": "stdout",
     "output_type": "stream",
     "text": [
      "Chemically invalid molecule! Reason: Explicit valence for atom # 0 H, 4, is greater than permitted\n"
     ]
    },
    {
     "name": "stderr",
     "output_type": "stream",
     "text": [
      "Epoch 848 Training: 100%|██████████| 1/1 [00:00<00:00, 41.50it/s]\n",
      "[16:48:46] Explicit valence for atom # 0 H, 4, is greater than permitted\n"
     ]
    },
    {
     "name": "stdout",
     "output_type": "stream",
     "text": [
      "Chemically invalid molecule! Reason: Explicit valence for atom # 0 H, 4, is greater than permitted\n"
     ]
    },
    {
     "name": "stderr",
     "output_type": "stream",
     "text": [
      "Epoch 849 Training: 100%|██████████| 1/1 [00:00<00:00, 42.21it/s]\n",
      "[16:48:46] Explicit valence for atom # 0 H, 4, is greater than permitted\n"
     ]
    },
    {
     "name": "stdout",
     "output_type": "stream",
     "text": [
      "Chemically invalid molecule! Reason: Explicit valence for atom # 0 H, 4, is greater than permitted\n"
     ]
    },
    {
     "name": "stderr",
     "output_type": "stream",
     "text": [
      "Epoch 850 Training: 100%|██████████| 1/1 [00:00<00:00, 41.36it/s]\n",
      "[16:48:46] Explicit valence for atom # 0 H, 4, is greater than permitted\n"
     ]
    },
    {
     "name": "stdout",
     "output_type": "stream",
     "text": [
      "Chemically invalid molecule! Reason: Explicit valence for atom # 0 H, 4, is greater than permitted\n"
     ]
    },
    {
     "name": "stderr",
     "output_type": "stream",
     "text": [
      "Epoch 851 Training: 100%|██████████| 1/1 [00:00<00:00, 41.75it/s]\n",
      "[16:48:46] Explicit valence for atom # 0 H, 4, is greater than permitted\n"
     ]
    },
    {
     "name": "stdout",
     "output_type": "stream",
     "text": [
      "Chemically invalid molecule! Reason: Explicit valence for atom # 0 H, 4, is greater than permitted\n"
     ]
    },
    {
     "name": "stderr",
     "output_type": "stream",
     "text": [
      "Epoch 852 Training: 100%|██████████| 1/1 [00:00<00:00, 41.60it/s]\n",
      "[16:48:46] Explicit valence for atom # 0 H, 4, is greater than permitted\n"
     ]
    },
    {
     "name": "stdout",
     "output_type": "stream",
     "text": [
      "Chemically invalid molecule! Reason: Explicit valence for atom # 0 H, 4, is greater than permitted\n"
     ]
    },
    {
     "name": "stderr",
     "output_type": "stream",
     "text": [
      "Epoch 853 Training: 100%|██████████| 1/1 [00:00<00:00, 42.07it/s]\n",
      "[16:48:46] Explicit valence for atom # 0 H, 4, is greater than permitted\n"
     ]
    },
    {
     "name": "stdout",
     "output_type": "stream",
     "text": [
      "Chemically invalid molecule! Reason: Explicit valence for atom # 0 H, 4, is greater than permitted\n"
     ]
    },
    {
     "name": "stderr",
     "output_type": "stream",
     "text": [
      "Epoch 854 Training: 100%|██████████| 1/1 [00:00<00:00, 42.78it/s]\n",
      "[16:48:46] Explicit valence for atom # 0 H, 4, is greater than permitted\n"
     ]
    },
    {
     "name": "stdout",
     "output_type": "stream",
     "text": [
      "Chemically invalid molecule! Reason: Explicit valence for atom # 0 H, 4, is greater than permitted\n"
     ]
    },
    {
     "name": "stderr",
     "output_type": "stream",
     "text": [
      "Epoch 855 Training: 100%|██████████| 1/1 [00:00<00:00, 40.62it/s]"
     ]
    },
    {
     "name": "stdout",
     "output_type": "stream",
     "text": [
      "Chemically invalid molecule! Reason: Explicit valence for atom # 0 H, 4, is greater than permitted\n"
     ]
    },
    {
     "name": "stderr",
     "output_type": "stream",
     "text": [
      "\n",
      "[16:48:46] Explicit valence for atom # 0 H, 4, is greater than permitted\n",
      "Epoch 856 Training: 100%|██████████| 1/1 [00:00<00:00, 40.63it/s]"
     ]
    },
    {
     "name": "stdout",
     "output_type": "stream",
     "text": [
      "Chemically invalid molecule! Reason: Explicit valence for atom # 0 H, 4, is greater than permitted\n"
     ]
    },
    {
     "name": "stderr",
     "output_type": "stream",
     "text": [
      "\n",
      "[16:48:46] Explicit valence for atom # 0 H, 4, is greater than permitted\n",
      "Epoch 857 Training: 100%|██████████| 1/1 [00:00<00:00, 41.33it/s]\n",
      "[16:48:46] Explicit valence for atom # 0 H, 4, is greater than permitted\n"
     ]
    },
    {
     "name": "stdout",
     "output_type": "stream",
     "text": [
      "Chemically invalid molecule! Reason: Explicit valence for atom # 0 H, 4, is greater than permitted\n"
     ]
    },
    {
     "name": "stderr",
     "output_type": "stream",
     "text": [
      "Epoch 858 Training: 100%|██████████| 1/1 [00:00<00:00, 41.95it/s]"
     ]
    },
    {
     "name": "stdout",
     "output_type": "stream",
     "text": [
      "Chemically invalid molecule! Reason: Explicit valence for atom # 0 H, 4, is greater than permitted\n"
     ]
    },
    {
     "name": "stderr",
     "output_type": "stream",
     "text": [
      "\n",
      "[16:48:46] Explicit valence for atom # 0 H, 4, is greater than permitted\n",
      "Epoch 859 Training: 100%|██████████| 1/1 [00:00<00:00, 42.89it/s]"
     ]
    },
    {
     "name": "stdout",
     "output_type": "stream",
     "text": [
      "Chemically invalid molecule! Reason: Explicit valence for atom # 0 H, 4, is greater than permitted\n"
     ]
    },
    {
     "name": "stderr",
     "output_type": "stream",
     "text": [
      "\n",
      "[16:48:46] Explicit valence for atom # 0 H, 4, is greater than permitted\n",
      "Epoch 860 Training: 100%|██████████| 1/1 [00:00<00:00, 41.34it/s]"
     ]
    },
    {
     "name": "stdout",
     "output_type": "stream",
     "text": [
      "Chemically invalid molecule! Reason: Explicit valence for atom # 0 H, 4, is greater than permitted\n"
     ]
    },
    {
     "name": "stderr",
     "output_type": "stream",
     "text": [
      "\n",
      "[16:48:47] Explicit valence for atom # 0 H, 4, is greater than permitted\n",
      "Epoch 861 Training: 100%|██████████| 1/1 [00:00<00:00, 42.19it/s]\n"
     ]
    },
    {
     "name": "stdout",
     "output_type": "stream",
     "text": [
      "Chemically invalid molecule! Reason: Explicit valence for atom # 0 H, 4, is greater than permitted\n"
     ]
    },
    {
     "name": "stderr",
     "output_type": "stream",
     "text": [
      "[16:48:47] Explicit valence for atom # 0 H, 4, is greater than permitted\n",
      "Epoch 862 Training: 100%|██████████| 1/1 [00:00<00:00, 41.54it/s]\n",
      "[16:48:47] Explicit valence for atom # 0 H, 4, is greater than permitted\n"
     ]
    },
    {
     "name": "stdout",
     "output_type": "stream",
     "text": [
      "Chemically invalid molecule! Reason: Explicit valence for atom # 0 H, 4, is greater than permitted\n"
     ]
    },
    {
     "name": "stderr",
     "output_type": "stream",
     "text": [
      "Epoch 863 Training: 100%|██████████| 1/1 [00:00<00:00, 41.57it/s]"
     ]
    },
    {
     "name": "stdout",
     "output_type": "stream",
     "text": [
      "Chemically invalid molecule! Reason: Explicit valence for atom # 0 H, 4, is greater than permitted\n"
     ]
    },
    {
     "name": "stderr",
     "output_type": "stream",
     "text": [
      "\n",
      "[16:48:47] Explicit valence for atom # 0 H, 4, is greater than permitted\n",
      "Epoch 864 Training: 100%|██████████| 1/1 [00:00<00:00, 43.78it/s]\n",
      "[16:48:47] Explicit valence for atom # 0 H, 4, is greater than permitted\n"
     ]
    },
    {
     "name": "stdout",
     "output_type": "stream",
     "text": [
      "Chemically invalid molecule! Reason: Explicit valence for atom # 0 H, 4, is greater than permitted\n"
     ]
    },
    {
     "name": "stderr",
     "output_type": "stream",
     "text": [
      "Epoch 865 Training: 100%|██████████| 1/1 [00:00<00:00, 41.77it/s]\n"
     ]
    },
    {
     "name": "stdout",
     "output_type": "stream",
     "text": [
      "Chemically invalid molecule! Reason: Explicit valence for atom # 0 H, 4, is greater than permitted\n"
     ]
    },
    {
     "name": "stderr",
     "output_type": "stream",
     "text": [
      "[16:48:47] Explicit valence for atom # 0 H, 4, is greater than permitted\n",
      "Epoch 866 Training: 100%|██████████| 1/1 [00:00<00:00, 37.47it/s]\n",
      "[16:48:47] Explicit valence for atom # 0 H, 4, is greater than permitted\n"
     ]
    },
    {
     "name": "stdout",
     "output_type": "stream",
     "text": [
      "Chemically invalid molecule! Reason: Explicit valence for atom # 0 H, 4, is greater than permitted\n"
     ]
    },
    {
     "name": "stderr",
     "output_type": "stream",
     "text": [
      "Epoch 867 Training: 100%|██████████| 1/1 [00:00<00:00, 38.94it/s]\n",
      "[16:48:47] Explicit valence for atom # 0 H, 4, is greater than permitted\n"
     ]
    },
    {
     "name": "stdout",
     "output_type": "stream",
     "text": [
      "Chemically invalid molecule! Reason: Explicit valence for atom # 0 H, 4, is greater than permitted\n"
     ]
    },
    {
     "name": "stderr",
     "output_type": "stream",
     "text": [
      "Epoch 868 Training: 100%|██████████| 1/1 [00:00<00:00, 38.20it/s]\n",
      "[16:48:47] Explicit valence for atom # 0 H, 4, is greater than permitted\n"
     ]
    },
    {
     "name": "stdout",
     "output_type": "stream",
     "text": [
      "Chemically invalid molecule! Reason: Explicit valence for atom # 0 H, 4, is greater than permitted\n"
     ]
    },
    {
     "name": "stderr",
     "output_type": "stream",
     "text": [
      "Epoch 869 Training: 100%|██████████| 1/1 [00:00<00:00, 31.99it/s]\n",
      "[16:48:47] Explicit valence for atom # 0 H, 4, is greater than permitted\n"
     ]
    },
    {
     "name": "stdout",
     "output_type": "stream",
     "text": [
      "Chemically invalid molecule! Reason: Explicit valence for atom # 0 H, 4, is greater than permitted\n"
     ]
    },
    {
     "name": "stderr",
     "output_type": "stream",
     "text": [
      "Epoch 870 Training: 100%|██████████| 1/1 [00:00<00:00, 31.83it/s]\n",
      "[16:48:47] Explicit valence for atom # 0 H, 4, is greater than permitted\n"
     ]
    },
    {
     "name": "stdout",
     "output_type": "stream",
     "text": [
      "Chemically invalid molecule! Reason: Explicit valence for atom # 0 H, 4, is greater than permitted\n"
     ]
    },
    {
     "name": "stderr",
     "output_type": "stream",
     "text": [
      "Epoch 871 Training: 100%|██████████| 1/1 [00:00<00:00, 35.36it/s]\n",
      "[16:48:47] Explicit valence for atom # 0 H, 4, is greater than permitted\n"
     ]
    },
    {
     "name": "stdout",
     "output_type": "stream",
     "text": [
      "Chemically invalid molecule! Reason: Explicit valence for atom # 0 H, 4, is greater than permitted\n"
     ]
    },
    {
     "name": "stderr",
     "output_type": "stream",
     "text": [
      "Epoch 872 Training: 100%|██████████| 1/1 [00:00<00:00, 28.95it/s]\n",
      "[16:48:47] Explicit valence for atom # 0 H, 4, is greater than permitted\n"
     ]
    },
    {
     "name": "stdout",
     "output_type": "stream",
     "text": [
      "Chemically invalid molecule! Reason: Explicit valence for atom # 0 H, 4, is greater than permitted\n"
     ]
    },
    {
     "name": "stderr",
     "output_type": "stream",
     "text": [
      "Epoch 873 Training: 100%|██████████| 1/1 [00:00<00:00, 40.97it/s]\n",
      "[16:48:47] Explicit valence for atom # 0 H, 4, is greater than permitted\n"
     ]
    },
    {
     "name": "stdout",
     "output_type": "stream",
     "text": [
      "Chemically invalid molecule! Reason: Explicit valence for atom # 0 H, 4, is greater than permitted\n"
     ]
    },
    {
     "name": "stderr",
     "output_type": "stream",
     "text": [
      "Epoch 874 Training: 100%|██████████| 1/1 [00:00<00:00, 40.43it/s]\n",
      "[16:48:48] Explicit valence for atom # 0 H, 4, is greater than permitted\n"
     ]
    },
    {
     "name": "stdout",
     "output_type": "stream",
     "text": [
      "Chemically invalid molecule! Reason: Explicit valence for atom # 0 H, 4, is greater than permitted\n"
     ]
    },
    {
     "name": "stderr",
     "output_type": "stream",
     "text": [
      "Epoch 875 Training: 100%|██████████| 1/1 [00:00<00:00, 42.44it/s]\n",
      "[16:48:48] Explicit valence for atom # 0 H, 4, is greater than permitted\n"
     ]
    },
    {
     "name": "stdout",
     "output_type": "stream",
     "text": [
      "Chemically invalid molecule! Reason: Explicit valence for atom # 0 H, 4, is greater than permitted\n"
     ]
    },
    {
     "name": "stderr",
     "output_type": "stream",
     "text": [
      "Epoch 876 Training: 100%|██████████| 1/1 [00:00<00:00, 38.83it/s]\n",
      "[16:48:48] Explicit valence for atom # 0 H, 4, is greater than permitted\n"
     ]
    },
    {
     "name": "stdout",
     "output_type": "stream",
     "text": [
      "Chemically invalid molecule! Reason: Explicit valence for atom # 0 H, 4, is greater than permitted\n"
     ]
    },
    {
     "name": "stderr",
     "output_type": "stream",
     "text": [
      "Epoch 877 Training: 100%|██████████| 1/1 [00:00<00:00, 24.82it/s]\n",
      "[16:48:48] Explicit valence for atom # 0 H, 4, is greater than permitted\n"
     ]
    },
    {
     "name": "stdout",
     "output_type": "stream",
     "text": [
      "Chemically invalid molecule! Reason: Explicit valence for atom # 0 H, 4, is greater than permitted\n"
     ]
    },
    {
     "name": "stderr",
     "output_type": "stream",
     "text": [
      "Epoch 878 Training: 100%|██████████| 1/1 [00:00<00:00, 26.62it/s]\n",
      "[16:48:48] Explicit valence for atom # 0 H, 4, is greater than permitted\n"
     ]
    },
    {
     "name": "stdout",
     "output_type": "stream",
     "text": [
      "Chemically invalid molecule! Reason: Explicit valence for atom # 0 H, 4, is greater than permitted\n"
     ]
    },
    {
     "name": "stderr",
     "output_type": "stream",
     "text": [
      "Epoch 879 Training: 100%|██████████| 1/1 [00:00<00:00, 41.18it/s]\n",
      "[16:48:48] Explicit valence for atom # 0 H, 4, is greater than permitted\n"
     ]
    },
    {
     "name": "stdout",
     "output_type": "stream",
     "text": [
      "Chemically invalid molecule! Reason: Explicit valence for atom # 0 H, 4, is greater than permitted\n"
     ]
    },
    {
     "name": "stderr",
     "output_type": "stream",
     "text": [
      "Epoch 880 Training: 100%|██████████| 1/1 [00:00<00:00, 42.13it/s]\n",
      "[16:48:48] Explicit valence for atom # 0 H, 4, is greater than permitted\n"
     ]
    },
    {
     "name": "stdout",
     "output_type": "stream",
     "text": [
      "Chemically invalid molecule! Reason: Explicit valence for atom # 0 H, 4, is greater than permitted\n"
     ]
    },
    {
     "name": "stderr",
     "output_type": "stream",
     "text": [
      "Epoch 881 Training: 100%|██████████| 1/1 [00:00<00:00, 23.90it/s]\n",
      "[16:48:48] Explicit valence for atom # 0 H, 4, is greater than permitted\n"
     ]
    },
    {
     "name": "stdout",
     "output_type": "stream",
     "text": [
      "Chemically invalid molecule! Reason: Explicit valence for atom # 0 H, 4, is greater than permitted\n"
     ]
    },
    {
     "name": "stderr",
     "output_type": "stream",
     "text": [
      "Epoch 882 Training: 100%|██████████| 1/1 [00:00<00:00, 39.97it/s]\n",
      "[16:48:48] Explicit valence for atom # 0 H, 4, is greater than permitted\n"
     ]
    },
    {
     "name": "stdout",
     "output_type": "stream",
     "text": [
      "Chemically invalid molecule! Reason: Explicit valence for atom # 0 H, 4, is greater than permitted\n"
     ]
    },
    {
     "name": "stderr",
     "output_type": "stream",
     "text": [
      "Epoch 883 Training: 100%|██████████| 1/1 [00:00<00:00, 40.21it/s]\n",
      "[16:48:48] Explicit valence for atom # 0 H, 4, is greater than permitted\n"
     ]
    },
    {
     "name": "stdout",
     "output_type": "stream",
     "text": [
      "Chemically invalid molecule! Reason: Explicit valence for atom # 0 H, 4, is greater than permitted\n"
     ]
    },
    {
     "name": "stderr",
     "output_type": "stream",
     "text": [
      "Epoch 884 Training: 100%|██████████| 1/1 [00:00<00:00, 39.10it/s]\n",
      "[16:48:48] Explicit valence for atom # 0 H, 4, is greater than permitted\n"
     ]
    },
    {
     "name": "stdout",
     "output_type": "stream",
     "text": [
      "Chemically invalid molecule! Reason: Explicit valence for atom # 0 H, 4, is greater than permitted\n"
     ]
    },
    {
     "name": "stderr",
     "output_type": "stream",
     "text": [
      "Epoch 885 Training: 100%|██████████| 1/1 [00:00<00:00, 39.07it/s]\n",
      "[16:48:48] Explicit valence for atom # 0 H, 4, is greater than permitted\n"
     ]
    },
    {
     "name": "stdout",
     "output_type": "stream",
     "text": [
      "Chemically invalid molecule! Reason: Explicit valence for atom # 0 H, 4, is greater than permitted\n"
     ]
    },
    {
     "name": "stderr",
     "output_type": "stream",
     "text": [
      "Epoch 886 Training: 100%|██████████| 1/1 [00:00<00:00, 40.16it/s]\n"
     ]
    },
    {
     "name": "stdout",
     "output_type": "stream",
     "text": [
      "Chemically invalid molecule! Reason: Explicit valence for atom # 0 H, 4, is greater than permitted\n"
     ]
    },
    {
     "name": "stderr",
     "output_type": "stream",
     "text": [
      "[16:48:48] Explicit valence for atom # 0 H, 4, is greater than permitted\n",
      "Epoch 887 Training: 100%|██████████| 1/1 [00:00<00:00, 38.26it/s]\n",
      "[16:48:48] Explicit valence for atom # 0 H, 4, is greater than permitted\n"
     ]
    },
    {
     "name": "stdout",
     "output_type": "stream",
     "text": [
      "Chemically invalid molecule! Reason: Explicit valence for atom # 0 H, 4, is greater than permitted\n"
     ]
    },
    {
     "name": "stderr",
     "output_type": "stream",
     "text": [
      "Epoch 888 Training: 100%|██████████| 1/1 [00:00<00:00, 42.25it/s]\n",
      "[16:48:49] Explicit valence for atom # 0 H, 4, is greater than permitted\n"
     ]
    },
    {
     "name": "stdout",
     "output_type": "stream",
     "text": [
      "Chemically invalid molecule! Reason: Explicit valence for atom # 0 H, 4, is greater than permitted\n"
     ]
    },
    {
     "name": "stderr",
     "output_type": "stream",
     "text": [
      "Epoch 889 Training: 100%|██████████| 1/1 [00:00<00:00, 42.73it/s]\n",
      "[16:48:49] Explicit valence for atom # 0 H, 4, is greater than permitted\n"
     ]
    },
    {
     "name": "stdout",
     "output_type": "stream",
     "text": [
      "Chemically invalid molecule! Reason: Explicit valence for atom # 0 H, 4, is greater than permitted\n"
     ]
    },
    {
     "name": "stderr",
     "output_type": "stream",
     "text": [
      "Epoch 890 Training: 100%|██████████| 1/1 [00:00<00:00, 41.80it/s]\n",
      "[16:48:49] Explicit valence for atom # 0 H, 4, is greater than permitted\n"
     ]
    },
    {
     "name": "stdout",
     "output_type": "stream",
     "text": [
      "Chemically invalid molecule! Reason: Explicit valence for atom # 0 H, 4, is greater than permitted\n"
     ]
    },
    {
     "name": "stderr",
     "output_type": "stream",
     "text": [
      "Epoch 891 Training: 100%|██████████| 1/1 [00:00<00:00, 37.80it/s]\n",
      "[16:48:49] Explicit valence for atom # 0 H, 4, is greater than permitted\n"
     ]
    },
    {
     "name": "stdout",
     "output_type": "stream",
     "text": [
      "Chemically invalid molecule! Reason: Explicit valence for atom # 0 H, 4, is greater than permitted\n"
     ]
    },
    {
     "name": "stderr",
     "output_type": "stream",
     "text": [
      "Epoch 892 Training: 100%|██████████| 1/1 [00:00<00:00, 41.70it/s]\n",
      "[16:48:49] Explicit valence for atom # 0 H, 4, is greater than permitted\n"
     ]
    },
    {
     "name": "stdout",
     "output_type": "stream",
     "text": [
      "Chemically invalid molecule! Reason: Explicit valence for atom # 0 H, 4, is greater than permitted\n"
     ]
    },
    {
     "name": "stderr",
     "output_type": "stream",
     "text": [
      "Epoch 893 Training: 100%|██████████| 1/1 [00:00<00:00, 40.34it/s]\n",
      "[16:48:49] Explicit valence for atom # 0 H, 4, is greater than permitted\n"
     ]
    },
    {
     "name": "stdout",
     "output_type": "stream",
     "text": [
      "Chemically invalid molecule! Reason: Explicit valence for atom # 0 H, 4, is greater than permitted\n"
     ]
    },
    {
     "name": "stderr",
     "output_type": "stream",
     "text": [
      "Epoch 894 Training: 100%|██████████| 1/1 [00:00<00:00, 41.31it/s]\n",
      "[16:48:49] Explicit valence for atom # 0 H, 4, is greater than permitted\n"
     ]
    },
    {
     "name": "stdout",
     "output_type": "stream",
     "text": [
      "Chemically invalid molecule! Reason: Explicit valence for atom # 0 H, 4, is greater than permitted\n"
     ]
    },
    {
     "name": "stderr",
     "output_type": "stream",
     "text": [
      "Epoch 895 Training: 100%|██████████| 1/1 [00:00<00:00, 39.59it/s]\n",
      "[16:48:49] Explicit valence for atom # 0 H, 4, is greater than permitted\n"
     ]
    },
    {
     "name": "stdout",
     "output_type": "stream",
     "text": [
      "Chemically invalid molecule! Reason: Explicit valence for atom # 0 H, 4, is greater than permitted\n"
     ]
    },
    {
     "name": "stderr",
     "output_type": "stream",
     "text": [
      "Epoch 896 Training: 100%|██████████| 1/1 [00:00<00:00, 40.87it/s]\n",
      "[16:48:49] Explicit valence for atom # 0 H, 4, is greater than permitted\n"
     ]
    },
    {
     "name": "stdout",
     "output_type": "stream",
     "text": [
      "Chemically invalid molecule! Reason: Explicit valence for atom # 0 H, 4, is greater than permitted\n"
     ]
    },
    {
     "name": "stderr",
     "output_type": "stream",
     "text": [
      "Epoch 897 Training: 100%|██████████| 1/1 [00:00<00:00, 40.94it/s]\n",
      "[16:48:49] Explicit valence for atom # 0 H, 4, is greater than permitted\n"
     ]
    },
    {
     "name": "stdout",
     "output_type": "stream",
     "text": [
      "Chemically invalid molecule! Reason: Explicit valence for atom # 0 H, 4, is greater than permitted\n"
     ]
    },
    {
     "name": "stderr",
     "output_type": "stream",
     "text": [
      "Epoch 898 Training: 100%|██████████| 1/1 [00:00<00:00, 40.19it/s]\n",
      "[16:48:49] Explicit valence for atom # 0 H, 4, is greater than permitted\n"
     ]
    },
    {
     "name": "stdout",
     "output_type": "stream",
     "text": [
      "Chemically invalid molecule! Reason: Explicit valence for atom # 0 H, 4, is greater than permitted\n"
     ]
    },
    {
     "name": "stderr",
     "output_type": "stream",
     "text": [
      "Epoch 899 Training: 100%|██████████| 1/1 [00:00<00:00, 39.37it/s]\n",
      "[16:48:49] Explicit valence for atom # 0 H, 4, is greater than permitted\n"
     ]
    },
    {
     "name": "stdout",
     "output_type": "stream",
     "text": [
      "Chemically invalid molecule! Reason: Explicit valence for atom # 0 H, 4, is greater than permitted\n"
     ]
    },
    {
     "name": "stderr",
     "output_type": "stream",
     "text": [
      "Epoch 900 Training: 100%|██████████| 1/1 [00:00<00:00, 40.62it/s]\n",
      "[16:48:49] Explicit valence for atom # 0 H, 4, is greater than permitted\n"
     ]
    },
    {
     "name": "stdout",
     "output_type": "stream",
     "text": [
      "Chemically invalid molecule! Reason: Explicit valence for atom # 0 H, 4, is greater than permitted\n"
     ]
    },
    {
     "name": "stderr",
     "output_type": "stream",
     "text": [
      "Epoch 901 Training: 100%|██████████| 1/1 [00:00<00:00,  2.90it/s]\n",
      "[16:48:50] Explicit valence for atom # 0 H, 4, is greater than permitted\n"
     ]
    },
    {
     "name": "stdout",
     "output_type": "stream",
     "text": [
      "Chemically invalid molecule! Reason: Explicit valence for atom # 0 H, 4, is greater than permitted\n"
     ]
    },
    {
     "name": "stderr",
     "output_type": "stream",
     "text": [
      "Epoch 902 Training: 100%|██████████| 1/1 [00:00<00:00, 42.34it/s]\n",
      "[16:48:50] Explicit valence for atom # 0 H, 4, is greater than permitted\n"
     ]
    },
    {
     "name": "stdout",
     "output_type": "stream",
     "text": [
      "Chemically invalid molecule! Reason: Explicit valence for atom # 0 H, 4, is greater than permitted\n"
     ]
    },
    {
     "name": "stderr",
     "output_type": "stream",
     "text": [
      "Epoch 903 Training: 100%|██████████| 1/1 [00:00<00:00, 39.95it/s]\n",
      "[16:48:50] Explicit valence for atom # 0 H, 4, is greater than permitted\n"
     ]
    },
    {
     "name": "stdout",
     "output_type": "stream",
     "text": [
      "Chemically invalid molecule! Reason: Explicit valence for atom # 0 H, 4, is greater than permitted\n"
     ]
    },
    {
     "name": "stderr",
     "output_type": "stream",
     "text": [
      "Epoch 904 Training: 100%|██████████| 1/1 [00:00<00:00, 38.63it/s]\n",
      "[16:48:50] Explicit valence for atom # 0 H, 4, is greater than permitted\n"
     ]
    },
    {
     "name": "stdout",
     "output_type": "stream",
     "text": [
      "Chemically invalid molecule! Reason: Explicit valence for atom # 0 H, 4, is greater than permitted\n"
     ]
    },
    {
     "name": "stderr",
     "output_type": "stream",
     "text": [
      "Epoch 905 Training: 100%|██████████| 1/1 [00:00<00:00, 40.51it/s]\n",
      "[16:48:50] Explicit valence for atom # 0 H, 4, is greater than permitted\n"
     ]
    },
    {
     "name": "stdout",
     "output_type": "stream",
     "text": [
      "Chemically invalid molecule! Reason: Explicit valence for atom # 0 H, 4, is greater than permitted\n"
     ]
    },
    {
     "name": "stderr",
     "output_type": "stream",
     "text": [
      "Epoch 906 Training: 100%|██████████| 1/1 [00:00<00:00, 40.84it/s]\n",
      "[16:48:50] Explicit valence for atom # 0 H, 4, is greater than permitted\n"
     ]
    },
    {
     "name": "stdout",
     "output_type": "stream",
     "text": [
      "Chemically invalid molecule! Reason: Explicit valence for atom # 0 H, 4, is greater than permitted\n"
     ]
    },
    {
     "name": "stderr",
     "output_type": "stream",
     "text": [
      "Epoch 907 Training: 100%|██████████| 1/1 [00:00<00:00, 39.31it/s]\n",
      "[16:48:50] Explicit valence for atom # 0 H, 4, is greater than permitted\n"
     ]
    },
    {
     "name": "stdout",
     "output_type": "stream",
     "text": [
      "Chemically invalid molecule! Reason: Explicit valence for atom # 0 H, 4, is greater than permitted\n"
     ]
    },
    {
     "name": "stderr",
     "output_type": "stream",
     "text": [
      "Epoch 908 Training: 100%|██████████| 1/1 [00:00<00:00, 41.29it/s]\n",
      "[16:48:50] Explicit valence for atom # 0 H, 4, is greater than permitted\n"
     ]
    },
    {
     "name": "stdout",
     "output_type": "stream",
     "text": [
      "Chemically invalid molecule! Reason: Explicit valence for atom # 0 H, 4, is greater than permitted\n"
     ]
    },
    {
     "name": "stderr",
     "output_type": "stream",
     "text": [
      "Epoch 909 Training: 100%|██████████| 1/1 [00:00<00:00, 40.60it/s]\n",
      "[16:48:50] Explicit valence for atom # 0 H, 4, is greater than permitted\n"
     ]
    },
    {
     "name": "stdout",
     "output_type": "stream",
     "text": [
      "Chemically invalid molecule! Reason: Explicit valence for atom # 0 H, 4, is greater than permitted\n"
     ]
    },
    {
     "name": "stderr",
     "output_type": "stream",
     "text": [
      "Epoch 910 Training: 100%|██████████| 1/1 [00:00<00:00, 40.55it/s]\n",
      "[16:48:50] Explicit valence for atom # 0 H, 4, is greater than permitted\n"
     ]
    },
    {
     "name": "stdout",
     "output_type": "stream",
     "text": [
      "Chemically invalid molecule! Reason: Explicit valence for atom # 0 H, 4, is greater than permitted\n"
     ]
    },
    {
     "name": "stderr",
     "output_type": "stream",
     "text": [
      "Epoch 911 Training: 100%|██████████| 1/1 [00:00<00:00, 38.87it/s]\n",
      "[16:48:51] Explicit valence for atom # 0 H, 4, is greater than permitted\n"
     ]
    },
    {
     "name": "stdout",
     "output_type": "stream",
     "text": [
      "Chemically invalid molecule! Reason: Explicit valence for atom # 0 H, 4, is greater than permitted\n"
     ]
    },
    {
     "name": "stderr",
     "output_type": "stream",
     "text": [
      "Epoch 912 Training: 100%|██████████| 1/1 [00:00<00:00, 40.79it/s]\n",
      "[16:48:51] Explicit valence for atom # 0 H, 4, is greater than permitted\n"
     ]
    },
    {
     "name": "stdout",
     "output_type": "stream",
     "text": [
      "Chemically invalid molecule! Reason: Explicit valence for atom # 0 H, 4, is greater than permitted\n"
     ]
    },
    {
     "name": "stderr",
     "output_type": "stream",
     "text": [
      "Epoch 913 Training: 100%|██████████| 1/1 [00:00<00:00, 39.98it/s]\n",
      "[16:48:51] Explicit valence for atom # 0 H, 4, is greater than permitted\n"
     ]
    },
    {
     "name": "stdout",
     "output_type": "stream",
     "text": [
      "Chemically invalid molecule! Reason: Explicit valence for atom # 0 H, 4, is greater than permitted\n"
     ]
    },
    {
     "name": "stderr",
     "output_type": "stream",
     "text": [
      "Epoch 914 Training: 100%|██████████| 1/1 [00:00<00:00, 38.56it/s]\n",
      "[16:48:51] Explicit valence for atom # 0 H, 4, is greater than permitted\n"
     ]
    },
    {
     "name": "stdout",
     "output_type": "stream",
     "text": [
      "Chemically invalid molecule! Reason: Explicit valence for atom # 0 H, 4, is greater than permitted\n"
     ]
    },
    {
     "name": "stderr",
     "output_type": "stream",
     "text": [
      "Epoch 915 Training: 100%|██████████| 1/1 [00:00<00:00, 40.58it/s]\n",
      "[16:48:51] Explicit valence for atom # 0 H, 4, is greater than permitted\n"
     ]
    },
    {
     "name": "stdout",
     "output_type": "stream",
     "text": [
      "Chemically invalid molecule! Reason: Explicit valence for atom # 0 H, 4, is greater than permitted\n"
     ]
    },
    {
     "name": "stderr",
     "output_type": "stream",
     "text": [
      "Epoch 916 Training: 100%|██████████| 1/1 [00:00<00:00, 40.87it/s]\n",
      "[16:48:51] Explicit valence for atom # 0 H, 4, is greater than permitted\n"
     ]
    },
    {
     "name": "stdout",
     "output_type": "stream",
     "text": [
      "Chemically invalid molecule! Reason: Explicit valence for atom # 0 H, 4, is greater than permitted\n"
     ]
    },
    {
     "name": "stderr",
     "output_type": "stream",
     "text": [
      "Epoch 917 Training: 100%|██████████| 1/1 [00:00<00:00, 30.98it/s]\n",
      "[16:48:51] Explicit valence for atom # 0 H, 4, is greater than permitted\n"
     ]
    },
    {
     "name": "stdout",
     "output_type": "stream",
     "text": [
      "Chemically invalid molecule! Reason: Explicit valence for atom # 0 H, 4, is greater than permitted\n"
     ]
    },
    {
     "name": "stderr",
     "output_type": "stream",
     "text": [
      "Epoch 918 Training: 100%|██████████| 1/1 [00:00<00:00, 40.47it/s]\n",
      "[16:48:51] Explicit valence for atom # 0 H, 4, is greater than permitted\n"
     ]
    },
    {
     "name": "stdout",
     "output_type": "stream",
     "text": [
      "Chemically invalid molecule! Reason: Explicit valence for atom # 0 H, 4, is greater than permitted\n"
     ]
    },
    {
     "name": "stderr",
     "output_type": "stream",
     "text": [
      "Epoch 919 Training: 100%|██████████| 1/1 [00:00<00:00, 37.08it/s]\n",
      "[16:48:51] Explicit valence for atom # 0 H, 4, is greater than permitted\n"
     ]
    },
    {
     "name": "stdout",
     "output_type": "stream",
     "text": [
      "Chemically invalid molecule! Reason: Explicit valence for atom # 0 H, 4, is greater than permitted\n"
     ]
    },
    {
     "name": "stderr",
     "output_type": "stream",
     "text": [
      "Epoch 920 Training: 100%|██████████| 1/1 [00:00<00:00, 37.87it/s]\n",
      "[16:48:51] Explicit valence for atom # 0 H, 4, is greater than permitted\n"
     ]
    },
    {
     "name": "stdout",
     "output_type": "stream",
     "text": [
      "Chemically invalid molecule! Reason: Explicit valence for atom # 0 H, 4, is greater than permitted\n"
     ]
    },
    {
     "name": "stderr",
     "output_type": "stream",
     "text": [
      "Epoch 921 Training: 100%|██████████| 1/1 [00:00<00:00, 37.74it/s]\n",
      "[16:48:51] Explicit valence for atom # 0 H, 4, is greater than permitted\n"
     ]
    },
    {
     "name": "stdout",
     "output_type": "stream",
     "text": [
      "Chemically invalid molecule! Reason: Explicit valence for atom # 0 H, 4, is greater than permitted\n"
     ]
    },
    {
     "name": "stderr",
     "output_type": "stream",
     "text": [
      "Epoch 922 Training: 100%|██████████| 1/1 [00:00<00:00, 24.27it/s]\n",
      "[16:48:51] Explicit valence for atom # 0 H, 4, is greater than permitted\n"
     ]
    },
    {
     "name": "stdout",
     "output_type": "stream",
     "text": [
      "Chemically invalid molecule! Reason: Explicit valence for atom # 0 H, 4, is greater than permitted\n"
     ]
    },
    {
     "name": "stderr",
     "output_type": "stream",
     "text": [
      "Epoch 923 Training: 100%|██████████| 1/1 [00:00<00:00, 40.91it/s]\n",
      "[16:48:51] Explicit valence for atom # 0 H, 4, is greater than permitted\n"
     ]
    },
    {
     "name": "stdout",
     "output_type": "stream",
     "text": [
      "Chemically invalid molecule! Reason: Explicit valence for atom # 0 H, 4, is greater than permitted\n"
     ]
    },
    {
     "name": "stderr",
     "output_type": "stream",
     "text": [
      "Epoch 924 Training: 100%|██████████| 1/1 [00:00<00:00, 41.32it/s]\n",
      "[16:48:52] Explicit valence for atom # 0 H, 4, is greater than permitted\n"
     ]
    },
    {
     "name": "stdout",
     "output_type": "stream",
     "text": [
      "Chemically invalid molecule! Reason: Explicit valence for atom # 0 H, 4, is greater than permitted\n"
     ]
    },
    {
     "name": "stderr",
     "output_type": "stream",
     "text": [
      "Epoch 925 Training: 100%|██████████| 1/1 [00:00<00:00, 40.16it/s]\n",
      "[16:48:52] Explicit valence for atom # 0 H, 4, is greater than permitted\n"
     ]
    },
    {
     "name": "stdout",
     "output_type": "stream",
     "text": [
      "Chemically invalid molecule! Reason: Explicit valence for atom # 0 H, 4, is greater than permitted\n"
     ]
    },
    {
     "name": "stderr",
     "output_type": "stream",
     "text": [
      "Epoch 926 Training: 100%|██████████| 1/1 [00:00<00:00, 41.35it/s]\n",
      "[16:48:52] Explicit valence for atom # 0 H, 4, is greater than permitted\n"
     ]
    },
    {
     "name": "stdout",
     "output_type": "stream",
     "text": [
      "Chemically invalid molecule! Reason: Explicit valence for atom # 0 H, 4, is greater than permitted\n"
     ]
    },
    {
     "name": "stderr",
     "output_type": "stream",
     "text": [
      "Epoch 927 Training: 100%|██████████| 1/1 [00:00<00:00, 43.32it/s]\n",
      "[16:48:52] Explicit valence for atom # 0 H, 4, is greater than permitted\n"
     ]
    },
    {
     "name": "stdout",
     "output_type": "stream",
     "text": [
      "Chemically invalid molecule! Reason: Explicit valence for atom # 0 H, 4, is greater than permitted\n"
     ]
    },
    {
     "name": "stderr",
     "output_type": "stream",
     "text": [
      "Epoch 928 Training: 100%|██████████| 1/1 [00:00<00:00, 41.53it/s]"
     ]
    },
    {
     "name": "stdout",
     "output_type": "stream",
     "text": [
      "Chemically invalid molecule! Reason: Explicit valence for atom # 0 H, 4, is greater than permitted\n"
     ]
    },
    {
     "name": "stderr",
     "output_type": "stream",
     "text": [
      "\n",
      "[16:48:52] Explicit valence for atom # 0 H, 4, is greater than permitted\n",
      "Epoch 929 Training: 100%|██████████| 1/1 [00:00<00:00, 42.60it/s]\n",
      "[16:48:52] Explicit valence for atom # 0 H, 4, is greater than permitted\n"
     ]
    },
    {
     "name": "stdout",
     "output_type": "stream",
     "text": [
      "Chemically invalid molecule! Reason: Explicit valence for atom # 0 H, 4, is greater than permitted\n"
     ]
    },
    {
     "name": "stderr",
     "output_type": "stream",
     "text": [
      "Epoch 930 Training: 100%|██████████| 1/1 [00:00<00:00, 40.70it/s]\n",
      "[16:48:52] Explicit valence for atom # 0 H, 4, is greater than permitted\n"
     ]
    },
    {
     "name": "stdout",
     "output_type": "stream",
     "text": [
      "Chemically invalid molecule! Reason: Explicit valence for atom # 0 H, 4, is greater than permitted\n"
     ]
    },
    {
     "name": "stderr",
     "output_type": "stream",
     "text": [
      "Epoch 931 Training: 100%|██████████| 1/1 [00:00<00:00, 42.96it/s]\n",
      "[16:48:52] Explicit valence for atom # 0 H, 4, is greater than permitted\n"
     ]
    },
    {
     "name": "stdout",
     "output_type": "stream",
     "text": [
      "Chemically invalid molecule! Reason: Explicit valence for atom # 0 H, 4, is greater than permitted\n"
     ]
    },
    {
     "name": "stderr",
     "output_type": "stream",
     "text": [
      "Epoch 932 Training: 100%|██████████| 1/1 [00:00<00:00, 41.83it/s]\n",
      "[16:48:52] Explicit valence for atom # 0 H, 4, is greater than permitted\n"
     ]
    },
    {
     "name": "stdout",
     "output_type": "stream",
     "text": [
      "Chemically invalid molecule! Reason: Explicit valence for atom # 0 H, 4, is greater than permitted\n"
     ]
    },
    {
     "name": "stderr",
     "output_type": "stream",
     "text": [
      "Epoch 933 Training: 100%|██████████| 1/1 [00:00<00:00, 41.19it/s]"
     ]
    },
    {
     "name": "stdout",
     "output_type": "stream",
     "text": [
      "Chemically invalid molecule! Reason: Explicit valence for atom # 0 H, 4, is greater than permitted\n"
     ]
    },
    {
     "name": "stderr",
     "output_type": "stream",
     "text": [
      "\n",
      "[16:48:52] Explicit valence for atom # 0 H, 4, is greater than permitted\n",
      "Epoch 934 Training: 100%|██████████| 1/1 [00:00<00:00, 42.13it/s]"
     ]
    },
    {
     "name": "stdout",
     "output_type": "stream",
     "text": [
      "Chemically invalid molecule! Reason: Explicit valence for atom # 0 H, 4, is greater than permitted\n"
     ]
    },
    {
     "name": "stderr",
     "output_type": "stream",
     "text": [
      "\n",
      "[16:48:52] Explicit valence for atom # 0 H, 4, is greater than permitted\n",
      "Epoch 935 Training: 100%|██████████| 1/1 [00:00<00:00, 43.40it/s]"
     ]
    },
    {
     "name": "stdout",
     "output_type": "stream",
     "text": [
      "Chemically invalid molecule! Reason: Explicit valence for atom # 0 H, 4, is greater than permitted\n"
     ]
    },
    {
     "name": "stderr",
     "output_type": "stream",
     "text": [
      "\n",
      "[16:48:52] Explicit valence for atom # 0 H, 4, is greater than permitted\n",
      "Epoch 936 Training: 100%|██████████| 1/1 [00:00<00:00, 41.44it/s]"
     ]
    },
    {
     "name": "stdout",
     "output_type": "stream",
     "text": [
      "Chemically invalid molecule! Reason: Explicit valence for atom # 0 H, 4, is greater than permitted\n"
     ]
    },
    {
     "name": "stderr",
     "output_type": "stream",
     "text": [
      "\n",
      "[16:48:52] Explicit valence for atom # 0 H, 4, is greater than permitted\n",
      "Epoch 937 Training: 100%|██████████| 1/1 [00:00<00:00, 42.70it/s]"
     ]
    },
    {
     "name": "stdout",
     "output_type": "stream",
     "text": [
      "Chemically invalid molecule! Reason: Explicit valence for atom # 0 H, 4, is greater than permitted\n"
     ]
    },
    {
     "name": "stderr",
     "output_type": "stream",
     "text": [
      "\n",
      "[16:48:52] Explicit valence for atom # 0 H, 4, is greater than permitted\n",
      "Epoch 938 Training: 100%|██████████| 1/1 [00:00<00:00, 29.69it/s]\n",
      "[16:48:52] Explicit valence for atom # 0 H, 4, is greater than permitted\n"
     ]
    },
    {
     "name": "stdout",
     "output_type": "stream",
     "text": [
      "Chemically invalid molecule! Reason: Explicit valence for atom # 0 H, 4, is greater than permitted\n"
     ]
    },
    {
     "name": "stderr",
     "output_type": "stream",
     "text": [
      "Epoch 939 Training: 100%|██████████| 1/1 [00:00<00:00, 42.27it/s]\n",
      "[16:48:53] Explicit valence for atom # 0 H, 4, is greater than permitted\n"
     ]
    },
    {
     "name": "stdout",
     "output_type": "stream",
     "text": [
      "Chemically invalid molecule! Reason: Explicit valence for atom # 0 H, 4, is greater than permitted\n"
     ]
    },
    {
     "name": "stderr",
     "output_type": "stream",
     "text": [
      "Epoch 940 Training: 100%|██████████| 1/1 [00:00<00:00, 40.96it/s]\n",
      "[16:48:53] Explicit valence for atom # 0 H, 4, is greater than permitted\n"
     ]
    },
    {
     "name": "stdout",
     "output_type": "stream",
     "text": [
      "Chemically invalid molecule! Reason: Explicit valence for atom # 0 H, 4, is greater than permitted\n"
     ]
    },
    {
     "name": "stderr",
     "output_type": "stream",
     "text": [
      "Epoch 941 Training: 100%|██████████| 1/1 [00:00<00:00, 41.91it/s]\n",
      "[16:48:53] Explicit valence for atom # 0 H, 4, is greater than permitted\n"
     ]
    },
    {
     "name": "stdout",
     "output_type": "stream",
     "text": [
      "Chemically invalid molecule! Reason: Explicit valence for atom # 0 H, 4, is greater than permitted\n"
     ]
    },
    {
     "name": "stderr",
     "output_type": "stream",
     "text": [
      "Epoch 942 Training: 100%|██████████| 1/1 [00:00<00:00, 40.93it/s]\n",
      "[16:48:53] Explicit valence for atom # 0 H, 4, is greater than permitted\n"
     ]
    },
    {
     "name": "stdout",
     "output_type": "stream",
     "text": [
      "Chemically invalid molecule! Reason: Explicit valence for atom # 0 H, 4, is greater than permitted\n"
     ]
    },
    {
     "name": "stderr",
     "output_type": "stream",
     "text": [
      "Epoch 943 Training: 100%|██████████| 1/1 [00:00<00:00, 42.44it/s]\n",
      "[16:48:53] Explicit valence for atom # 0 H, 4, is greater than permitted\n"
     ]
    },
    {
     "name": "stdout",
     "output_type": "stream",
     "text": [
      "Chemically invalid molecule! Reason: Explicit valence for atom # 0 H, 4, is greater than permitted\n"
     ]
    },
    {
     "name": "stderr",
     "output_type": "stream",
     "text": [
      "Epoch 944 Training: 100%|██████████| 1/1 [00:00<00:00, 40.22it/s]\n",
      "[16:48:53] Explicit valence for atom # 0 H, 4, is greater than permitted\n"
     ]
    },
    {
     "name": "stdout",
     "output_type": "stream",
     "text": [
      "Chemically invalid molecule! Reason: Explicit valence for atom # 0 H, 4, is greater than permitted\n"
     ]
    },
    {
     "name": "stderr",
     "output_type": "stream",
     "text": [
      "Epoch 945 Training: 100%|██████████| 1/1 [00:00<00:00, 35.02it/s]\n",
      "[16:48:53] Explicit valence for atom # 0 H, 4, is greater than permitted\n"
     ]
    },
    {
     "name": "stdout",
     "output_type": "stream",
     "text": [
      "Chemically invalid molecule! Reason: Explicit valence for atom # 0 H, 4, is greater than permitted\n"
     ]
    },
    {
     "name": "stderr",
     "output_type": "stream",
     "text": [
      "Epoch 946 Training: 100%|██████████| 1/1 [00:00<00:00, 25.87it/s]\n",
      "[16:48:53] Explicit valence for atom # 0 H, 4, is greater than permitted\n"
     ]
    },
    {
     "name": "stdout",
     "output_type": "stream",
     "text": [
      "Chemically invalid molecule! Reason: Explicit valence for atom # 0 H, 4, is greater than permitted\n"
     ]
    },
    {
     "name": "stderr",
     "output_type": "stream",
     "text": [
      "Epoch 947 Training: 100%|██████████| 1/1 [00:00<00:00, 41.09it/s]\n",
      "[16:48:53] Explicit valence for atom # 0 H, 4, is greater than permitted\n"
     ]
    },
    {
     "name": "stdout",
     "output_type": "stream",
     "text": [
      "Chemically invalid molecule! Reason: Explicit valence for atom # 0 H, 4, is greater than permitted\n"
     ]
    },
    {
     "name": "stderr",
     "output_type": "stream",
     "text": [
      "Epoch 948 Training: 100%|██████████| 1/1 [00:00<00:00, 42.66it/s]\n",
      "[16:48:53] Explicit valence for atom # 0 H, 4, is greater than permitted\n"
     ]
    },
    {
     "name": "stdout",
     "output_type": "stream",
     "text": [
      "Chemically invalid molecule! Reason: Explicit valence for atom # 0 H, 4, is greater than permitted\n"
     ]
    },
    {
     "name": "stderr",
     "output_type": "stream",
     "text": [
      "Epoch 949 Training: 100%|██████████| 1/1 [00:00<00:00, 42.63it/s]\n",
      "[16:48:53] Explicit valence for atom # 0 H, 4, is greater than permitted\n"
     ]
    },
    {
     "name": "stdout",
     "output_type": "stream",
     "text": [
      "Chemically invalid molecule! Reason: Explicit valence for atom # 0 H, 4, is greater than permitted\n"
     ]
    },
    {
     "name": "stderr",
     "output_type": "stream",
     "text": [
      "Epoch 950 Training: 100%|██████████| 1/1 [00:00<00:00, 41.96it/s]\n",
      "[16:48:53] Explicit valence for atom # 0 H, 4, is greater than permitted\n"
     ]
    },
    {
     "name": "stdout",
     "output_type": "stream",
     "text": [
      "Chemically invalid molecule! Reason: Explicit valence for atom # 0 H, 4, is greater than permitted\n"
     ]
    },
    {
     "name": "stderr",
     "output_type": "stream",
     "text": [
      "Epoch 951 Training: 100%|██████████| 1/1 [00:00<00:00, 41.97it/s]\n",
      "[16:48:53] Explicit valence for atom # 0 H, 4, is greater than permitted\n"
     ]
    },
    {
     "name": "stdout",
     "output_type": "stream",
     "text": [
      "Chemically invalid molecule! Reason: Explicit valence for atom # 0 H, 4, is greater than permitted\n"
     ]
    },
    {
     "name": "stderr",
     "output_type": "stream",
     "text": [
      "Epoch 952 Training: 100%|██████████| 1/1 [00:00<00:00, 43.67it/s]\n",
      "[16:48:53] Explicit valence for atom # 0 H, 4, is greater than permitted\n"
     ]
    },
    {
     "name": "stdout",
     "output_type": "stream",
     "text": [
      "Chemically invalid molecule! Reason: Explicit valence for atom # 0 H, 4, is greater than permitted\n"
     ]
    },
    {
     "name": "stderr",
     "output_type": "stream",
     "text": [
      "Epoch 953 Training: 100%|██████████| 1/1 [00:00<00:00, 42.03it/s]\n",
      "[16:48:54] Explicit valence for atom # 0 H, 4, is greater than permitted\n"
     ]
    },
    {
     "name": "stdout",
     "output_type": "stream",
     "text": [
      "Chemically invalid molecule! Reason: Explicit valence for atom # 0 H, 4, is greater than permitted\n"
     ]
    },
    {
     "name": "stderr",
     "output_type": "stream",
     "text": [
      "Epoch 954 Training: 100%|██████████| 1/1 [00:00<00:00, 40.65it/s]\n",
      "[16:48:54] Explicit valence for atom # 0 H, 4, is greater than permitted\n"
     ]
    },
    {
     "name": "stdout",
     "output_type": "stream",
     "text": [
      "Chemically invalid molecule! Reason: Explicit valence for atom # 0 H, 4, is greater than permitted\n"
     ]
    },
    {
     "name": "stderr",
     "output_type": "stream",
     "text": [
      "Epoch 955 Training: 100%|██████████| 1/1 [00:00<00:00, 36.05it/s]\n",
      "[16:48:54] Explicit valence for atom # 0 H, 4, is greater than permitted\n"
     ]
    },
    {
     "name": "stdout",
     "output_type": "stream",
     "text": [
      "Chemically invalid molecule! Reason: Explicit valence for atom # 0 H, 4, is greater than permitted\n"
     ]
    },
    {
     "name": "stderr",
     "output_type": "stream",
     "text": [
      "Epoch 956 Training: 100%|██████████| 1/1 [00:00<00:00, 39.40it/s]\n",
      "[16:48:54] Explicit valence for atom # 0 H, 4, is greater than permitted\n"
     ]
    },
    {
     "name": "stdout",
     "output_type": "stream",
     "text": [
      "Chemically invalid molecule! Reason: Explicit valence for atom # 0 H, 4, is greater than permitted\n"
     ]
    },
    {
     "name": "stderr",
     "output_type": "stream",
     "text": [
      "Epoch 957 Training: 100%|██████████| 1/1 [00:00<00:00, 40.86it/s]\n",
      "[16:48:54] Explicit valence for atom # 0 H, 4, is greater than permitted\n"
     ]
    },
    {
     "name": "stdout",
     "output_type": "stream",
     "text": [
      "Chemically invalid molecule! Reason: Explicit valence for atom # 0 H, 4, is greater than permitted\n"
     ]
    },
    {
     "name": "stderr",
     "output_type": "stream",
     "text": [
      "Epoch 958 Training: 100%|██████████| 1/1 [00:00<00:00, 41.68it/s]\n",
      "[16:48:54] Explicit valence for atom # 0 H, 4, is greater than permitted\n"
     ]
    },
    {
     "name": "stdout",
     "output_type": "stream",
     "text": [
      "Chemically invalid molecule! Reason: Explicit valence for atom # 0 H, 4, is greater than permitted\n"
     ]
    },
    {
     "name": "stderr",
     "output_type": "stream",
     "text": [
      "Epoch 959 Training: 100%|██████████| 1/1 [00:00<00:00, 41.44it/s]\n",
      "[16:48:54] Explicit valence for atom # 0 H, 4, is greater than permitted\n"
     ]
    },
    {
     "name": "stdout",
     "output_type": "stream",
     "text": [
      "Chemically invalid molecule! Reason: Explicit valence for atom # 0 H, 4, is greater than permitted\n"
     ]
    },
    {
     "name": "stderr",
     "output_type": "stream",
     "text": [
      "Epoch 960 Training: 100%|██████████| 1/1 [00:00<00:00, 43.23it/s]\n",
      "[16:48:54] Explicit valence for atom # 0 H, 4, is greater than permitted\n"
     ]
    },
    {
     "name": "stdout",
     "output_type": "stream",
     "text": [
      "Chemically invalid molecule! Reason: Explicit valence for atom # 0 H, 4, is greater than permitted\n"
     ]
    },
    {
     "name": "stderr",
     "output_type": "stream",
     "text": [
      "Epoch 961 Training: 100%|██████████| 1/1 [00:00<00:00, 40.59it/s]\n",
      "[16:48:54] Explicit valence for atom # 0 H, 4, is greater than permitted\n"
     ]
    },
    {
     "name": "stdout",
     "output_type": "stream",
     "text": [
      "Chemically invalid molecule! Reason: Explicit valence for atom # 0 H, 4, is greater than permitted\n"
     ]
    },
    {
     "name": "stderr",
     "output_type": "stream",
     "text": [
      "Epoch 962 Training: 100%|██████████| 1/1 [00:00<00:00, 39.64it/s]\n",
      "[16:48:54] Explicit valence for atom # 0 H, 4, is greater than permitted\n"
     ]
    },
    {
     "name": "stdout",
     "output_type": "stream",
     "text": [
      "Chemically invalid molecule! Reason: Explicit valence for atom # 0 H, 4, is greater than permitted\n"
     ]
    },
    {
     "name": "stderr",
     "output_type": "stream",
     "text": [
      "Epoch 963 Training: 100%|██████████| 1/1 [00:00<00:00, 39.58it/s]\n",
      "[16:48:54] Explicit valence for atom # 0 H, 4, is greater than permitted\n"
     ]
    },
    {
     "name": "stdout",
     "output_type": "stream",
     "text": [
      "Chemically invalid molecule! Reason: Explicit valence for atom # 0 H, 4, is greater than permitted\n"
     ]
    },
    {
     "name": "stderr",
     "output_type": "stream",
     "text": [
      "Epoch 964 Training: 100%|██████████| 1/1 [00:00<00:00, 42.96it/s]\n",
      "[16:48:54] Explicit valence for atom # 0 H, 4, is greater than permitted\n"
     ]
    },
    {
     "name": "stdout",
     "output_type": "stream",
     "text": [
      "Chemically invalid molecule! Reason: Explicit valence for atom # 0 H, 4, is greater than permitted\n"
     ]
    },
    {
     "name": "stderr",
     "output_type": "stream",
     "text": [
      "Epoch 965 Training: 100%|██████████| 1/1 [00:00<00:00, 42.24it/s]\n",
      "[16:48:54] Explicit valence for atom # 0 H, 4, is greater than permitted\n"
     ]
    },
    {
     "name": "stdout",
     "output_type": "stream",
     "text": [
      "Chemically invalid molecule! Reason: Explicit valence for atom # 0 H, 4, is greater than permitted\n"
     ]
    },
    {
     "name": "stderr",
     "output_type": "stream",
     "text": [
      "Epoch 966 Training: 100%|██████████| 1/1 [00:00<00:00, 39.83it/s]\n",
      "[16:48:54] Explicit valence for atom # 0 H, 4, is greater than permitted\n"
     ]
    },
    {
     "name": "stdout",
     "output_type": "stream",
     "text": [
      "Chemically invalid molecule! Reason: Explicit valence for atom # 0 H, 4, is greater than permitted\n"
     ]
    },
    {
     "name": "stderr",
     "output_type": "stream",
     "text": [
      "Epoch 967 Training: 100%|██████████| 1/1 [00:00<00:00, 40.76it/s]\n",
      "[16:48:55] Explicit valence for atom # 0 H, 4, is greater than permitted\n"
     ]
    },
    {
     "name": "stdout",
     "output_type": "stream",
     "text": [
      "Chemically invalid molecule! Reason: Explicit valence for atom # 0 H, 4, is greater than permitted\n"
     ]
    },
    {
     "name": "stderr",
     "output_type": "stream",
     "text": [
      "Epoch 968 Training: 100%|██████████| 1/1 [00:00<00:00, 41.99it/s]\n",
      "[16:48:55] Explicit valence for atom # 0 H, 4, is greater than permitted\n"
     ]
    },
    {
     "name": "stdout",
     "output_type": "stream",
     "text": [
      "Chemically invalid molecule! Reason: Explicit valence for atom # 0 H, 4, is greater than permitted\n"
     ]
    },
    {
     "name": "stderr",
     "output_type": "stream",
     "text": [
      "Epoch 969 Training: 100%|██████████| 1/1 [00:00<00:00, 40.89it/s]\n",
      "[16:48:55] Explicit valence for atom # 0 H, 4, is greater than permitted\n"
     ]
    },
    {
     "name": "stdout",
     "output_type": "stream",
     "text": [
      "Chemically invalid molecule! Reason: Explicit valence for atom # 0 H, 4, is greater than permitted\n"
     ]
    },
    {
     "name": "stderr",
     "output_type": "stream",
     "text": [
      "Epoch 970 Training: 100%|██████████| 1/1 [00:00<00:00, 41.91it/s]\n",
      "[16:48:55] Explicit valence for atom # 0 H, 4, is greater than permitted\n"
     ]
    },
    {
     "name": "stdout",
     "output_type": "stream",
     "text": [
      "Chemically invalid molecule! Reason: Explicit valence for atom # 0 H, 4, is greater than permitted\n"
     ]
    },
    {
     "name": "stderr",
     "output_type": "stream",
     "text": [
      "Epoch 971 Training: 100%|██████████| 1/1 [00:00<00:00, 42.71it/s]\n",
      "[16:48:55] Explicit valence for atom # 0 H, 4, is greater than permitted\n"
     ]
    },
    {
     "name": "stdout",
     "output_type": "stream",
     "text": [
      "Chemically invalid molecule! Reason: Explicit valence for atom # 0 H, 4, is greater than permitted\n"
     ]
    },
    {
     "name": "stderr",
     "output_type": "stream",
     "text": [
      "Epoch 972 Training: 100%|██████████| 1/1 [00:00<00:00, 24.68it/s]\n",
      "[16:48:55] Explicit valence for atom # 0 H, 4, is greater than permitted\n"
     ]
    },
    {
     "name": "stdout",
     "output_type": "stream",
     "text": [
      "Chemically invalid molecule! Reason: Explicit valence for atom # 0 H, 4, is greater than permitted\n"
     ]
    },
    {
     "name": "stderr",
     "output_type": "stream",
     "text": [
      "Epoch 973 Training: 100%|██████████| 1/1 [00:00<00:00, 38.96it/s]\n",
      "[16:48:55] Explicit valence for atom # 0 H, 4, is greater than permitted\n"
     ]
    },
    {
     "name": "stdout",
     "output_type": "stream",
     "text": [
      "Chemically invalid molecule! Reason: Explicit valence for atom # 0 H, 4, is greater than permitted\n"
     ]
    },
    {
     "name": "stderr",
     "output_type": "stream",
     "text": [
      "Epoch 974 Training: 100%|██████████| 1/1 [00:00<00:00, 36.93it/s]\n",
      "[16:48:55] Explicit valence for atom # 0 H, 4, is greater than permitted\n"
     ]
    },
    {
     "name": "stdout",
     "output_type": "stream",
     "text": [
      "Chemically invalid molecule! Reason: Explicit valence for atom # 0 H, 4, is greater than permitted\n"
     ]
    },
    {
     "name": "stderr",
     "output_type": "stream",
     "text": [
      "Epoch 975 Training: 100%|██████████| 1/1 [00:00<00:00, 37.54it/s]\n",
      "[16:48:55] Explicit valence for atom # 0 H, 4, is greater than permitted\n"
     ]
    },
    {
     "name": "stdout",
     "output_type": "stream",
     "text": [
      "Chemically invalid molecule! Reason: Explicit valence for atom # 0 H, 4, is greater than permitted\n"
     ]
    },
    {
     "name": "stderr",
     "output_type": "stream",
     "text": [
      "Epoch 976 Training: 100%|██████████| 1/1 [00:00<00:00, 38.77it/s]\n",
      "[16:48:55] Explicit valence for atom # 0 H, 4, is greater than permitted\n"
     ]
    },
    {
     "name": "stdout",
     "output_type": "stream",
     "text": [
      "Chemically invalid molecule! Reason: Explicit valence for atom # 0 H, 4, is greater than permitted\n"
     ]
    },
    {
     "name": "stderr",
     "output_type": "stream",
     "text": [
      "Epoch 977 Training: 100%|██████████| 1/1 [00:00<00:00, 38.95it/s]\n",
      "[16:48:55] Explicit valence for atom # 0 H, 4, is greater than permitted\n"
     ]
    },
    {
     "name": "stdout",
     "output_type": "stream",
     "text": [
      "Chemically invalid molecule! Reason: Explicit valence for atom # 0 H, 4, is greater than permitted\n"
     ]
    },
    {
     "name": "stderr",
     "output_type": "stream",
     "text": [
      "Epoch 978 Training: 100%|██████████| 1/1 [00:00<00:00, 39.16it/s]\n",
      "[16:48:55] Explicit valence for atom # 0 H, 4, is greater than permitted\n"
     ]
    },
    {
     "name": "stdout",
     "output_type": "stream",
     "text": [
      "Chemically invalid molecule! Reason: Explicit valence for atom # 0 H, 4, is greater than permitted\n"
     ]
    },
    {
     "name": "stderr",
     "output_type": "stream",
     "text": [
      "Epoch 979 Training: 100%|██████████| 1/1 [00:00<00:00, 36.46it/s]\n",
      "[16:48:55] Explicit valence for atom # 0 H, 4, is greater than permitted\n"
     ]
    },
    {
     "name": "stdout",
     "output_type": "stream",
     "text": [
      "Chemically invalid molecule! Reason: Explicit valence for atom # 0 H, 4, is greater than permitted\n"
     ]
    },
    {
     "name": "stderr",
     "output_type": "stream",
     "text": [
      "Epoch 980 Training: 100%|██████████| 1/1 [00:00<00:00, 37.37it/s]\n",
      "[16:48:56] Explicit valence for atom # 0 H, 4, is greater than permitted\n"
     ]
    },
    {
     "name": "stdout",
     "output_type": "stream",
     "text": [
      "Chemically invalid molecule! Reason: Explicit valence for atom # 0 H, 4, is greater than permitted\n"
     ]
    },
    {
     "name": "stderr",
     "output_type": "stream",
     "text": [
      "Epoch 981 Training: 100%|██████████| 1/1 [00:00<00:00, 42.94it/s]\n",
      "[16:48:56] Explicit valence for atom # 0 H, 4, is greater than permitted\n"
     ]
    },
    {
     "name": "stdout",
     "output_type": "stream",
     "text": [
      "Chemically invalid molecule! Reason: Explicit valence for atom # 0 H, 4, is greater than permitted\n"
     ]
    },
    {
     "name": "stderr",
     "output_type": "stream",
     "text": [
      "Epoch 982 Training: 100%|██████████| 1/1 [00:00<00:00, 39.19it/s]\n",
      "[16:48:56] Explicit valence for atom # 0 H, 4, is greater than permitted\n"
     ]
    },
    {
     "name": "stdout",
     "output_type": "stream",
     "text": [
      "Chemically invalid molecule! Reason: Explicit valence for atom # 0 H, 4, is greater than permitted\n"
     ]
    },
    {
     "name": "stderr",
     "output_type": "stream",
     "text": [
      "Epoch 983 Training: 100%|██████████| 1/1 [00:00<00:00, 39.48it/s]\n",
      "[16:48:56] Explicit valence for atom # 0 H, 4, is greater than permitted\n"
     ]
    },
    {
     "name": "stdout",
     "output_type": "stream",
     "text": [
      "Chemically invalid molecule! Reason: Explicit valence for atom # 0 H, 4, is greater than permitted\n"
     ]
    },
    {
     "name": "stderr",
     "output_type": "stream",
     "text": [
      "Epoch 984 Training: 100%|██████████| 1/1 [00:00<00:00, 40.80it/s]\n",
      "[16:48:56] Explicit valence for atom # 0 H, 4, is greater than permitted\n"
     ]
    },
    {
     "name": "stdout",
     "output_type": "stream",
     "text": [
      "Chemically invalid molecule! Reason: Explicit valence for atom # 0 H, 4, is greater than permitted\n"
     ]
    },
    {
     "name": "stderr",
     "output_type": "stream",
     "text": [
      "Epoch 985 Training: 100%|██████████| 1/1 [00:00<00:00, 39.59it/s]\n",
      "[16:48:56] Explicit valence for atom # 0 H, 4, is greater than permitted\n"
     ]
    },
    {
     "name": "stdout",
     "output_type": "stream",
     "text": [
      "Chemically invalid molecule! Reason: Explicit valence for atom # 0 H, 4, is greater than permitted\n"
     ]
    },
    {
     "name": "stderr",
     "output_type": "stream",
     "text": [
      "Epoch 986 Training: 100%|██████████| 1/1 [00:00<00:00, 39.94it/s]\n",
      "[16:48:56] Explicit valence for atom # 0 H, 4, is greater than permitted\n"
     ]
    },
    {
     "name": "stdout",
     "output_type": "stream",
     "text": [
      "Chemically invalid molecule! Reason: Explicit valence for atom # 0 H, 4, is greater than permitted\n"
     ]
    },
    {
     "name": "stderr",
     "output_type": "stream",
     "text": [
      "Epoch 987 Training: 100%|██████████| 1/1 [00:00<00:00, 37.67it/s]\n",
      "[16:48:56] Explicit valence for atom # 0 H, 4, is greater than permitted\n"
     ]
    },
    {
     "name": "stdout",
     "output_type": "stream",
     "text": [
      "Chemically invalid molecule! Reason: Explicit valence for atom # 0 H, 4, is greater than permitted\n"
     ]
    },
    {
     "name": "stderr",
     "output_type": "stream",
     "text": [
      "Epoch 988 Training: 100%|██████████| 1/1 [00:00<00:00, 40.87it/s]\n",
      "[16:48:56] Explicit valence for atom # 0 H, 4, is greater than permitted\n"
     ]
    },
    {
     "name": "stdout",
     "output_type": "stream",
     "text": [
      "Chemically invalid molecule! Reason: Explicit valence for atom # 0 H, 4, is greater than permitted\n"
     ]
    },
    {
     "name": "stderr",
     "output_type": "stream",
     "text": [
      "Epoch 989 Training: 100%|██████████| 1/1 [00:00<00:00, 29.77it/s]\n",
      "[16:48:56] Explicit valence for atom # 0 H, 4, is greater than permitted\n"
     ]
    },
    {
     "name": "stdout",
     "output_type": "stream",
     "text": [
      "Chemically invalid molecule! Reason: Explicit valence for atom # 0 H, 4, is greater than permitted\n"
     ]
    },
    {
     "name": "stderr",
     "output_type": "stream",
     "text": [
      "Epoch 990 Training: 100%|██████████| 1/1 [00:00<00:00, 41.01it/s]\n",
      "[16:48:56] Explicit valence for atom # 0 H, 4, is greater than permitted\n"
     ]
    },
    {
     "name": "stdout",
     "output_type": "stream",
     "text": [
      "Chemically invalid molecule! Reason: Explicit valence for atom # 0 H, 4, is greater than permitted\n"
     ]
    },
    {
     "name": "stderr",
     "output_type": "stream",
     "text": [
      "Epoch 991 Training: 100%|██████████| 1/1 [00:00<00:00, 41.31it/s]\n",
      "[16:48:56] Explicit valence for atom # 0 H, 4, is greater than permitted\n"
     ]
    },
    {
     "name": "stdout",
     "output_type": "stream",
     "text": [
      "Chemically invalid molecule! Reason: Explicit valence for atom # 0 H, 4, is greater than permitted\n"
     ]
    },
    {
     "name": "stderr",
     "output_type": "stream",
     "text": [
      "Epoch 992 Training: 100%|██████████| 1/1 [00:00<00:00, 40.68it/s]\n",
      "[16:48:56] Explicit valence for atom # 0 H, 4, is greater than permitted\n"
     ]
    },
    {
     "name": "stdout",
     "output_type": "stream",
     "text": [
      "Chemically invalid molecule! Reason: Explicit valence for atom # 0 H, 4, is greater than permitted\n"
     ]
    },
    {
     "name": "stderr",
     "output_type": "stream",
     "text": [
      "Epoch 993 Training: 100%|██████████| 1/1 [00:00<00:00, 41.53it/s]\n",
      "[16:48:57] Explicit valence for atom # 0 H, 4, is greater than permitted\n"
     ]
    },
    {
     "name": "stdout",
     "output_type": "stream",
     "text": [
      "Chemically invalid molecule! Reason: Explicit valence for atom # 0 H, 4, is greater than permitted\n"
     ]
    },
    {
     "name": "stderr",
     "output_type": "stream",
     "text": [
      "Epoch 994 Training: 100%|██████████| 1/1 [00:00<00:00, 41.99it/s]\n",
      "[16:48:57] Explicit valence for atom # 0 H, 4, is greater than permitted\n"
     ]
    },
    {
     "name": "stdout",
     "output_type": "stream",
     "text": [
      "Chemically invalid molecule! Reason: Explicit valence for atom # 0 H, 4, is greater than permitted\n"
     ]
    },
    {
     "name": "stderr",
     "output_type": "stream",
     "text": [
      "Epoch 995 Training: 100%|██████████| 1/1 [00:00<00:00, 40.34it/s]\n",
      "[16:48:57] Explicit valence for atom # 0 H, 4, is greater than permitted\n"
     ]
    },
    {
     "name": "stdout",
     "output_type": "stream",
     "text": [
      "Chemically invalid molecule! Reason: Explicit valence for atom # 0 H, 4, is greater than permitted\n"
     ]
    },
    {
     "name": "stderr",
     "output_type": "stream",
     "text": [
      "Epoch 996 Training: 100%|██████████| 1/1 [00:00<00:00, 43.44it/s]\n",
      "[16:48:57] Explicit valence for atom # 0 H, 4, is greater than permitted\n"
     ]
    },
    {
     "name": "stdout",
     "output_type": "stream",
     "text": [
      "Chemically invalid molecule! Reason: Explicit valence for atom # 0 H, 4, is greater than permitted\n"
     ]
    },
    {
     "name": "stderr",
     "output_type": "stream",
     "text": [
      "Epoch 997 Training: 100%|██████████| 1/1 [00:00<00:00, 41.70it/s]\n",
      "[16:48:57] Explicit valence for atom # 0 H, 4, is greater than permitted\n"
     ]
    },
    {
     "name": "stdout",
     "output_type": "stream",
     "text": [
      "Chemically invalid molecule! Reason: Explicit valence for atom # 0 H, 4, is greater than permitted\n"
     ]
    },
    {
     "name": "stderr",
     "output_type": "stream",
     "text": [
      "Epoch 998 Training: 100%|██████████| 1/1 [00:00<00:00, 42.12it/s]\n",
      "[16:48:57] Explicit valence for atom # 0 H, 4, is greater than permitted\n"
     ]
    },
    {
     "name": "stdout",
     "output_type": "stream",
     "text": [
      "Chemically invalid molecule! Reason: Explicit valence for atom # 0 H, 4, is greater than permitted\n"
     ]
    },
    {
     "name": "stderr",
     "output_type": "stream",
     "text": [
      "Epoch 999 Training: 100%|██████████| 1/1 [00:00<00:00, 41.88it/s]\n",
      "[16:48:57] Explicit valence for atom # 0 H, 4, is greater than permitted\n"
     ]
    },
    {
     "name": "stdout",
     "output_type": "stream",
     "text": [
      "Chemically invalid molecule! Reason: Explicit valence for atom # 0 H, 4, is greater than permitted\n"
     ]
    },
    {
     "name": "stderr",
     "output_type": "stream",
     "text": [
      "Epoch 1000 Training: 100%|██████████| 1/1 [00:00<00:00, 22.32it/s]\n",
      "[16:48:57] Explicit valence for atom # 0 H, 4, is greater than permitted\n"
     ]
    },
    {
     "name": "stdout",
     "output_type": "stream",
     "text": [
      "Chemically invalid molecule! Reason: Explicit valence for atom # 0 H, 4, is greater than permitted\n"
     ]
    }
   ],
   "source": [
    "graph_vae_model = GraphVAE(hparams=hparams).to(device=device)\n",
    "optimizer = torch.optim.Adam(\n",
    "    graph_vae_model.parameters(),\n",
    "    lr=hparams[\"learning_rate\"],\n",
    "    betas=(hparams[\"beta_1\"], 0.999)\n",
    ")\n",
    "epochs = hparams[\"epochs\"]\n",
    "\n",
    "train_loader = dataloaders[\"train_tiny\"]\n",
    "val_subset_loader_iterator = itertools.cycle(dataloaders[\"val_subsets\"])\n",
    "\n",
    "validation_interval = 100\n",
    "\n",
    "writer = create_tensorboard_writer(experiment_name=\"graph-vae\")\n",
    "\n",
    "for epoch in range(epochs):\n",
    "    graph_vae_model.train()\n",
    "    for batch_index, train_batch in enumerate(tqdm(train_loader,  desc=f\"Epoch {epoch + 1} Training\")):\n",
    "        optimizer.zero_grad()\n",
    "        train_prediction = graph_vae_model(train_batch)\n",
    "        train_target = (train_batch.adj_triu_mat, ..., ...)\n",
    "\n",
    "        loss = graph_vae_model.reconstruction_loss(input=train_prediction, target=train_target)\n",
    "\n",
    "        loss.backward()\n",
    "        optimizer.step()\n",
    "\n",
    "        iteration = len(train_loader) * epoch + batch_index\n",
    "        writer.add_scalars(\"Loss\", {\"Training\": loss.item()}, iteration)\n",
    "\n",
    "        if iteration % validation_interval == 0:\n",
    "            graph_vae_model.eval()\n",
    "            val_loss_sum = 0\n",
    "\n",
    "            # Get the next subset of the validation set\n",
    "            val_loader = next(val_subset_loader_iterator)\n",
    "            with torch.no_grad():\n",
    "                for val_batch in val_loader:\n",
    "                    val_prediction = graph_vae_model(val_batch)\n",
    "                    val_target = (val_batch.adj_triu_mat, ..., ...)\n",
    "                    val_loss_sum += graph_vae_model.reconstruction_loss(\n",
    "                        input=val_prediction,\n",
    "                        target=val_target\n",
    "                    )\n",
    "            \n",
    "            val_loss = val_loss_sum / len(val_loader)\n",
    "            writer.add_scalars(\"Loss\", {\"Validation\": val_loss.item()}, iteration)\n",
    "            \n",
    "            graph_vae_model.train()\n",
    "\n",
    "    # Visualization\n",
    "    # get random mol from train dataset and visualize\n",
    "    sample_index = random.randint(0, len(train_loader) * batch_size)\n",
    "    sample_index = 32\n",
    "    sample = train_dataset[sample_index]\n",
    "    # print(sample)\n",
    "    writer.add_image('Input', molecule_graph_data_to_image(sample), global_step=epoch, dataformats=\"NCHW\")\n",
    "\n",
    "    graph_vae_model.eval()\n",
    "    prediction = graph_vae_model(sample)\n",
    "\n",
    "    # convert predicted matrices into Graph\n",
    "    adj_triu_mat = torch.where(F.sigmoid(prediction[0]) > 0.5, 1.0, 0.0)[0]\n",
    "\n",
    "    n = hparams[\"max_num_nodes\"]\n",
    "    mask = torch.ones(n, n).triu() == 1\n",
    "    adj_mat = torch.zeros(n, n, device=device)\n",
    "    adj_mat[mask] = adj_triu_mat\n",
    "    diagonal = adj_mat.diagonal()\n",
    "    # create symmetric matrix\n",
    "    adj_mat = adj_mat + adj_mat.t() - torch.diag(diagonal)\n",
    "\n",
    "    invalid_node_indices = (diagonal == 0).nonzero().flatten().cpu().tolist()\n",
    "\n",
    "    edge_index, _ = dense_to_sparse(adj=adj_mat)\n",
    "    edge_index, _ = remove_self_loops(edge_index=edge_index)\n",
    "\n",
    "    # assume hydrogen for all atoms for now\n",
    "    x = torch.zeros(29, 5)\n",
    "    x[:, 0] = 1\n",
    "\n",
    "    reconstructed_sample = Data(x=x, edge_index=edge_index)\n",
    "    reconstructed_sample = remove_nodes(data=reconstructed_sample, nodes_to_remove=invalid_node_indices)\n",
    "\n",
    "    def create_edge_attr(edge_index, edge_attr_matrix):\n",
    "        # Assuming the edge_attr_matrix is ordered in the same way as the adjacency matrix\n",
    "        edge_attr = edge_attr_matrix[edge_index[0], edge_index[1]]\n",
    "        return edge_attr\n",
    "    \n",
    "    # add edge attributes\n",
    "    edge_attr = torch.zeros(reconstructed_sample.num_edges, 4)\n",
    "    # single bond for now\n",
    "    edge_attr[:, 0] = 1\n",
    "    reconstructed_sample.edge_attr = edge_attr\n",
    "    \n",
    "    writer.add_image('Reconstruction', molecule_graph_data_to_image(reconstructed_sample), global_step=epoch, dataformats=\"NCHW\")  \n"
   ]
  }
 ],
 "metadata": {
  "kernelspec": {
   "display_name": "idp",
   "language": "python",
   "name": "python3"
  },
  "language_info": {
   "codemirror_mode": {
    "name": "ipython",
    "version": 3
   },
   "file_extension": ".py",
   "mimetype": "text/x-python",
   "name": "python",
   "nbconvert_exporter": "python",
   "pygments_lexer": "ipython3",
   "version": "3.11.5"
  }
 },
 "nbformat": 4,
 "nbformat_minor": 2
}
