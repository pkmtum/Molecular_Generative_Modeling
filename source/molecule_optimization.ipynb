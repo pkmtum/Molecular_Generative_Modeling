{
 "cells": [
  {
   "cell_type": "code",
   "execution_count": 1,
   "metadata": {},
   "outputs": [
    {
     "name": "stdout",
     "output_type": "stream",
     "text": [
      "Training dataset size = 102445\n",
      "Validation dataset size = 12806\n",
      "Test dataset size = 12805\n"
     ]
    }
   ],
   "source": [
    "%load_ext autoreload\n",
    "%autoreload 2\n",
    "\n",
    "from typing import Dict, Any\n",
    "from torch_geometric.datasets import QM9\n",
    "import torch_geometric.transforms as T\n",
    "import torch\n",
    "from torch_geometric.loader import DataLoader\n",
    "from data_utils import *\n",
    "from tqdm import tqdm\n",
    "\n",
    "device = torch.device('cuda' if torch.cuda.is_available() else 'cpu')\n",
    "include_hydrogen = False\n",
    "properties=[\"homo\", \"lumo\"]\n",
    "\n",
    "transform_list = [\n",
    "    SelectQM9TargetProperties(properties=properties),\n",
    "    SelectQM9NodeFeatures(features=[\"atom_type\"]),\n",
    "]\n",
    "if not include_hydrogen:\n",
    "    transform_list.append(DropQM9Hydrogen())\n",
    "\n",
    "max_num_nodes = 29 if include_hydrogen else 9\n",
    "transform_list += [\n",
    "    AddAdjacencyMatrix(max_num_nodes=max_num_nodes),\n",
    "    AddNodeAttributeMatrix(max_num_nodes=max_num_nodes),\n",
    "    AddEdgeAttributeMatrix(max_num_nodes=max_num_nodes),\n",
    "]\n",
    "\n",
    "pre_transform = T.Compose(transform_list)\n",
    "transform = T.Compose([\n",
    "    #RandomPermutation(max_num_nodes=max_num_nodes),\n",
    "    T.ToDevice(device=device)\n",
    "])\n",
    "\n",
    "dataset = QM9(root=\"./data\", pre_transform=pre_transform, pre_filter=qm9_pre_filter, transform=transform)\n",
    "\n",
    "train_dataset, val_dataset, test_dataset = create_qm9_data_split(dataset=dataset)\n",
    "\n",
    "print(f\"Training dataset size = {len(train_dataset)}\")\n",
    "print(f\"Validation dataset size = {len(val_dataset)}\")\n",
    "print(f\"Test dataset size = {len(test_dataset)}\")"
   ]
  },
  {
   "cell_type": "markdown",
   "metadata": {},
   "source": [
    "## Create Dataloaders"
   ]
  },
  {
   "cell_type": "code",
   "execution_count": 2,
   "metadata": {},
   "outputs": [],
   "source": [
    "from typing import List\n",
    "from data_utils import create_validation_subset_loaders\n",
    "\n",
    "batch_size = 128\n",
    "\n",
    "dataloaders = {\n",
    "    \"train_single\": DataLoader(train_dataset[:1], batch_size=batch_size, shuffle=True),\n",
    "    \"train_tiny\": DataLoader(train_dataset[:16], batch_size=batch_size, shuffle=True),\n",
    "    \"train_small\": DataLoader(train_dataset[:4096], batch_size=batch_size, shuffle=True),\n",
    "    \"train\": DataLoader(train_dataset, batch_size=batch_size, shuffle=True),\n",
    "\n",
    "    \"val_small\": DataLoader(val_dataset[:512], batch_size=batch_size, shuffle=False),\n",
    "    \"val\": DataLoader(val_dataset, batch_size=batch_size, shuffle=False)\n",
    "}\n",
    "\n",
    "val_subset_count = 32\n",
    "dataloaders[\"val_subsets\"] = create_validation_subset_loaders(validation_dataset=val_dataset, subset_count=32, batch_size=batch_size)"
   ]
  },
  {
   "cell_type": "markdown",
   "metadata": {},
   "source": [
    "## Baseline model (mean prediction)"
   ]
  },
  {
   "cell_type": "markdown",
   "metadata": {},
   "source": [
    "### Training"
   ]
  },
  {
   "cell_type": "code",
   "execution_count": 3,
   "metadata": {},
   "outputs": [
    {
     "name": "stderr",
     "output_type": "stream",
     "text": [
      "  0%|          | 0/801 [00:00<?, ?it/s]"
     ]
    },
    {
     "name": "stderr",
     "output_type": "stream",
     "text": [
      "100%|██████████| 801/801 [03:13<00:00,  4.14it/s]\n"
     ]
    },
    {
     "name": "stdout",
     "output_type": "stream",
     "text": [
      "HOMO Mean = -6.546781063079834\n",
      "LUMO Mean = 0.3270353078842163\n"
     ]
    }
   ],
   "source": [
    "import torch.nn as nn\n",
    "\n",
    "train_loader = dataloaders[\"train\"]\n",
    "homo_mean_list = []\n",
    "lumo_mean_list = []\n",
    "for batch in tqdm(train_loader):\n",
    "    batch_mean = torch.mean(batch.y, dim=0)\n",
    "    homo_mean_list.append(batch_mean[0])\n",
    "    lumo_mean_list.append(batch_mean[1])\n",
    "\n",
    "homo_mean_pred = torch.tensor(homo_mean_list).mean()\n",
    "lumo_mean_pred = torch.tensor(lumo_mean_list).mean()\n",
    "print(f\"HOMO Mean = {homo_mean_pred}\")\n",
    "print(f\"LUMO Mean = {lumo_mean_pred}\")\n",
    "\n",
    "class MeanPredictor(nn.Module):\n",
    "    def __init__(self, property_mean_values: List[float]):\n",
    "        super().__init__()\n",
    "        # create mean prediction and add batch dimension\n",
    "        self.register_buffer('mean_prediction', torch.tensor(property_mean_values).unsqueeze(0))\n",
    "\n",
    "    def forward(self, x):\n",
    "        batch_size = x.y.shape[0]\n",
    "        return self.mean_prediction.expand(batch_size, -1)\n",
    "\n",
    "mean_baseline_model = MeanPredictor(property_mean_values=[homo_mean_pred, lumo_mean_pred]).to(device)"
   ]
  },
  {
   "cell_type": "markdown",
   "metadata": {},
   "source": [
    "### Validation"
   ]
  },
  {
   "cell_type": "code",
   "execution_count": 4,
   "metadata": {},
   "outputs": [
    {
     "name": "stdout",
     "output_type": "stream",
     "text": [
      "Mean Baseline:\n"
     ]
    },
    {
     "name": "stderr",
     "output_type": "stream",
     "text": [
      "  0%|          | 0/101 [00:00<?, ?it/s]"
     ]
    },
    {
     "name": "stderr",
     "output_type": "stream",
     "text": [
      "100%|██████████| 101/101 [00:24<00:00,  4.15it/s]"
     ]
    },
    {
     "name": "stdout",
     "output_type": "stream",
     "text": [
      "HOMO MAE = 0.4337090849876404\n",
      "LUMO MAE = 1.0424433946609497\n"
     ]
    },
    {
     "name": "stderr",
     "output_type": "stream",
     "text": [
      "\n"
     ]
    }
   ],
   "source": [
    "def evaluate_model_performance(validation_loader, model):\n",
    "    mae_sum = 0\n",
    "    for batch in tqdm(validation_loader):\n",
    "        prediction = model(batch)\n",
    "        mae_sum += torch.mean(torch.abs(prediction - batch.y), dim=0)\n",
    "\n",
    "    mean_absolute_error = mae_sum / len(validation_loader)\n",
    "\n",
    "    print(f\"HOMO MAE = {mean_absolute_error[0]}\")\n",
    "    print(f\"LUMO MAE = {mean_absolute_error[1]}\")\n",
    "\n",
    "val_loader = dataloaders[\"val\"]\n",
    "\n",
    "print(\"Mean Baseline:\")\n",
    "evaluate_model_performance(validation_loader=val_loader, model=mean_baseline_model)"
   ]
  },
  {
   "cell_type": "markdown",
   "metadata": {},
   "source": [
    "## Graph Property Predictor"
   ]
  },
  {
   "cell_type": "code",
   "execution_count": 13,
   "metadata": {},
   "outputs": [],
   "source": [
    "from data_utils import create_tensorboard_writer\n",
    "from tqdm import tqdm\n",
    "import itertools\n",
    "from graph_vae.vae import GraphVAE\n",
    "\n",
    "class PropertyPredictorVAE(nn.Module):\n",
    "\n",
    "    def __init__(self, graph_vae: GraphVAE, hparams: Dict[str, Any]):\n",
    "        super().__init__()\n",
    "        self.graph_vae = graph_vae\n",
    "\n",
    "    def forward(self, x: Data):\n",
    "        z = self.graph_vae.encode(x=x)\n",
    "        return self.graph_vae.predict_properties(z)\n",
    "\n",
    "class PropertyPredictorVAEEncoder(nn.Module):\n",
    "\n",
    "    def __init__(self, graph_vae: GraphVAE, hparams: Dict[str, Any]):\n",
    "        super().__init__()\n",
    "        self.graph_vae = graph_vae\n",
    "        property_count = len(hparams[\"properties\"])\n",
    "        self.property_predictor = nn.Sequential(\n",
    "            nn.Linear(self.graph_vae.latent_dim, 256),\n",
    "            nn.BatchNorm1d(256),\n",
    "            nn.PReLU(),\n",
    "            nn.Linear(256, 256),\n",
    "            nn.BatchNorm1d(256),\n",
    "            nn.PReLU(),\n",
    "            nn.Linear(256, property_count)\n",
    "        )\n",
    "\n",
    "    def forward(self, x: Data):\n",
    "        z = self.graph_vae.encode(x=x)\n",
    "        return self.property_predictor(z)\n",
    "\n",
    "\n",
    "def train_property_predictor(\n",
    "        model: PropertyPredictorVAEEncoder,\n",
    "        train_loader: DataLoader,\n",
    "        val_subset_loaders: List[DataLoader],\n",
    "        epochs: int,\n",
    "        tb_writer: SummaryWriter,\n",
    "    ):\n",
    "    \n",
    "    learning_rate = 1e-3\n",
    "    optimizer = torch.optim.Adam(model.property_predictor.parameters(), lr=learning_rate)\n",
    "    loss_function = nn.MSELoss()\n",
    "\n",
    "    # After how many iterations to validate\n",
    "    validation_interval = 10\n",
    "\n",
    "    val_subset_loader_iterator = itertools.cycle(val_subset_loaders)\n",
    "\n",
    "    for epoch in range(epochs):\n",
    "        # Training\n",
    "        model.train()\n",
    "        for batch_index, train_batch in enumerate(tqdm(train_loader, desc=f\"Epoch {epoch + 1} Training\")):\n",
    "            optimizer.zero_grad()\n",
    "            train_prediction = model(train_batch)\n",
    "            train_loss = loss_function(train_prediction, train_batch.y)\n",
    "            train_loss.backward()\n",
    "            optimizer.step()\n",
    "\n",
    "            iteration = len(train_loader) * epoch + batch_index\n",
    "            tb_writer.add_scalars(\"Loss\", {\"Training\": train_loss.item()}, iteration)\n",
    "\n",
    "            # Validation\n",
    "            if iteration % validation_interval == 0:\n",
    "                model.eval()\n",
    "                val_loss_sum = 0\n",
    "                mae_sum = 0\n",
    "\n",
    "                # Get the next subset of the validation set\n",
    "                val_loader = next(val_subset_loader_iterator)\n",
    "                with torch.no_grad():\n",
    "                    for val_batch in val_loader:\n",
    "                        val_prediction = model(val_batch)\n",
    "                        val_loss_sum += loss_function(val_prediction, val_batch.y)\n",
    "                        mae_sum += torch.mean(torch.abs(val_prediction - val_batch.y), dim=0)\n",
    "                \n",
    "                val_loss = val_loss_sum / len(val_loader)\n",
    "                tb_writer.add_scalars(\"Loss\", {\"Validation\": val_loss.item()}, iteration)\n",
    "\n",
    "                mean_absolute_error = mae_sum / len(val_loader)\n",
    "                tb_writer.add_scalar(\"MAE (HOMO)\", mean_absolute_error[0], iteration)\n",
    "                tb_writer.add_scalar(\"MAE (LUMO)\", mean_absolute_error[1], iteration)\n",
    "                \n",
    "                model.train()"
   ]
  },
  {
   "cell_type": "code",
   "execution_count": 10,
   "metadata": {},
   "outputs": [
    {
     "name": "stderr",
     "output_type": "stream",
     "text": [
      "Epoch 1 Training: 100%|██████████| 801/801 [04:29<00:00,  2.97it/s]\n"
     ]
    }
   ],
   "source": [
    "writer = create_tensorboard_writer(experiment_name=\"property-predictor\")\n",
    "\n",
    "train_loader = dataloaders[\"train\"]\n",
    "val_subset_loaders = dataloaders[\"val_subsets\"]\n",
    "\n",
    "hparams = {\n",
    "    \"properties\": properties\n",
    "}\n",
    "\n",
    "graph_vae_no_prop = GraphVAE.from_pretrained(\"./checkpoints/graph_vae_20240225_182115.pt\")\n",
    "model_vae_no_prop = PropertyPredictorVAEEncoder(graph_vae=graph_vae_no_prop, hparams=hparams).to(device)\n",
    "\n",
    "train_property_predictor(\n",
    "    model=model_vae_no_prop,\n",
    "    train_loader=train_loader, \n",
    "    val_subset_loaders=val_subset_loaders,\n",
    "    epochs=1,\n",
    "    tb_writer=writer,\n",
    ")"
   ]
  },
  {
   "cell_type": "code",
   "execution_count": 11,
   "metadata": {},
   "outputs": [
    {
     "name": "stderr",
     "output_type": "stream",
     "text": [
      "  0%|          | 0/101 [00:00<?, ?it/s]"
     ]
    },
    {
     "name": "stderr",
     "output_type": "stream",
     "text": [
      "100%|██████████| 101/101 [00:24<00:00,  4.07it/s]"
     ]
    },
    {
     "name": "stdout",
     "output_type": "stream",
     "text": [
      "HOMO MAE = 0.32732459902763367\n",
      "LUMO MAE = 0.47747018933296204\n"
     ]
    },
    {
     "name": "stderr",
     "output_type": "stream",
     "text": [
      "\n"
     ]
    }
   ],
   "source": [
    "model_vae_no_prop.eval()\n",
    "evaluate_model_performance(validation_loader=dataloaders[\"val\"], model=model_vae_no_prop)"
   ]
  },
  {
   "cell_type": "code",
   "execution_count": 47,
   "metadata": {},
   "outputs": [],
   "source": [
    "graph_vae_prop = GraphVAE.from_pretrained(\"./checkpoints/graph_vae_20240225_185057.pt\")\n",
    "model_vae_prop = PropertyPredictorVAE(graph_vae=graph_vae_prop, hparams=hparams).to(device)\n",
    "writer = create_tensorboard_writer(experiment_name=\"property-predictor\")\n",
    "\n",
    "# train_property_predictor(\n",
    "#     model=model_vae_no_prop,\n",
    "#     train_loader=train_loader, \n",
    "#     val_subset_loaders=val_subset_loaders,\n",
    "#     epochs=1,\n",
    "#     tb_writer=writer,\n",
    "# )"
   ]
  },
  {
   "cell_type": "code",
   "execution_count": 48,
   "metadata": {},
   "outputs": [
    {
     "name": "stderr",
     "output_type": "stream",
     "text": [
      "  0%|          | 0/101 [00:00<?, ?it/s]"
     ]
    },
    {
     "name": "stderr",
     "output_type": "stream",
     "text": [
      "100%|██████████| 101/101 [00:18<00:00,  5.45it/s]"
     ]
    },
    {
     "name": "stdout",
     "output_type": "stream",
     "text": [
      "HOMO MAE = 0.1984328180551529\n",
      "LUMO MAE = 0.19954633712768555\n"
     ]
    },
    {
     "name": "stderr",
     "output_type": "stream",
     "text": [
      "\n"
     ]
    }
   ],
   "source": [
    "model_vae_prop.eval()\n",
    "evaluate_model_performance(validation_loader=dataloaders[\"val\"], model=model_vae_prop)"
   ]
  },
  {
   "cell_type": "code",
   "execution_count": 49,
   "metadata": {},
   "outputs": [
    {
     "name": "stderr",
     "output_type": "stream",
     "text": [
      "Generating Molecules:   0%|          | 0/1000 [00:00<?, ?it/s]"
     ]
    },
    {
     "name": "stderr",
     "output_type": "stream",
     "text": [
      "Generating Molecules:   1%|          | 6/1000 [00:00<01:11, 13.92it/s][21:36:30] Explicit valence for atom # 6 O, 3, is greater than permitted\n",
      "Generating Molecules:   2%|▏         | 19/1000 [00:00<00:29, 33.05it/s][21:36:31] Explicit valence for atom # 8 O, 3, is greater than permitted\n",
      "Generating Molecules:   3%|▎         | 30/1000 [00:01<00:23, 40.78it/s][21:36:31] Explicit valence for atom # 2 O, 3, is greater than permitted\n",
      "Generating Molecules:   5%|▌         | 51/1000 [00:01<00:18, 50.30it/s][21:36:31] Explicit valence for atom # 8 O, 3, is greater than permitted\n",
      "Generating Molecules:   7%|▋         | 69/1000 [00:01<00:19, 48.09it/s][21:36:32] Explicit valence for atom # 4 O, 3, is greater than permitted\n",
      "Generating Molecules:   9%|▉         | 88/1000 [00:02<00:17, 51.30it/s][21:36:32] Explicit valence for atom # 4 C, 5, is greater than permitted\n",
      "Generating Molecules:   9%|▉         | 94/1000 [00:02<00:17, 53.12it/s][21:36:32] Explicit valence for atom # 2 O, 3, is greater than permitted\n",
      "Generating Molecules:  10%|█         | 101/1000 [00:02<00:15, 57.05it/s][21:36:32] Explicit valence for atom # 2 O, 3, is greater than permitted\n",
      "[21:36:32] Explicit valence for atom # 8 N, 4, is greater than permitted\n",
      "Generating Molecules:  11%|█         | 108/1000 [00:02<00:15, 59.41it/s][21:36:32] Explicit valence for atom # 1 C, 5, is greater than permitted\n",
      "Generating Molecules:  12%|█▏        | 116/1000 [00:02<00:13, 63.66it/s][21:36:32] Explicit valence for atom # 7 C, 5, is greater than permitted\n",
      "Generating Molecules:  12%|█▏        | 123/1000 [00:02<00:14, 60.13it/s][21:36:33] Explicit valence for atom # 6 N, 4, is greater than permitted\n",
      "[21:36:33] Explicit valence for atom # 6 C, 5, is greater than permitted\n",
      "[21:36:33] Explicit valence for atom # 8 O, 3, is greater than permitted\n",
      "[21:36:33] Explicit valence for atom # 5 O, 3, is greater than permitted\n",
      "Generating Molecules:  13%|█▎        | 131/1000 [00:02<00:14, 61.06it/s][21:36:33] Explicit valence for atom # 7 O, 3, is greater than permitted\n",
      "[21:36:33] Explicit valence for atom # 1 N, 4, is greater than permitted\n",
      "Generating Molecules:  14%|█▍        | 138/1000 [00:02<00:15, 56.01it/s][21:36:33] Explicit valence for atom # 2 O, 3, is greater than permitted\n",
      "Generating Molecules:  14%|█▍        | 144/1000 [00:03<00:15, 56.15it/s][21:36:33] Explicit valence for atom # 7 O, 4, is greater than permitted\n",
      "Generating Molecules:  16%|█▌        | 156/1000 [00:03<00:16, 52.16it/s][21:36:33] Explicit valence for atom # 2 O, 3, is greater than permitted\n",
      "Generating Molecules:  16%|█▋        | 163/1000 [00:03<00:14, 56.63it/s][21:36:33] Explicit valence for atom # 1 C, 5, is greater than permitted\n",
      "[21:36:33] Explicit valence for atom # 4 O, 3, is greater than permitted\n",
      "Generating Molecules:  18%|█▊        | 176/1000 [00:03<00:17, 47.93it/s][21:36:34] Explicit valence for atom # 5 O, 3, is greater than permitted\n",
      "Generating Molecules:  18%|█▊        | 183/1000 [00:03<00:15, 52.50it/s][21:36:34] Explicit valence for atom # 1 C, 5, is greater than permitted\n",
      "Generating Molecules:  19%|█▉        | 190/1000 [00:03<00:14, 56.67it/s][21:36:34] Explicit valence for atom # 2 N, 4, is greater than permitted\n",
      "Generating Molecules:  20%|█▉        | 197/1000 [00:03<00:14, 57.12it/s][21:36:34] Explicit valence for atom # 3 O, 3, is greater than permitted\n",
      "Generating Molecules:  23%|██▎       | 234/1000 [00:04<00:14, 54.61it/s][21:36:35] Explicit valence for atom # 1 C, 5, is greater than permitted\n",
      "[21:36:35] Explicit valence for atom # 1 C, 5, is greater than permitted\n",
      "Generating Molecules:  24%|██▍       | 241/1000 [00:04<00:13, 57.35it/s][21:36:35] Explicit valence for atom # 7 N, 4, is greater than permitted\n",
      "[21:36:35] Explicit valence for atom # 1 C, 5, is greater than permitted\n",
      "[21:36:35] Explicit valence for atom # 2 C, 6, is greater than permitted\n",
      "Generating Molecules:  26%|██▌       | 256/1000 [00:04<00:11, 62.70it/s][21:36:35] Explicit valence for atom # 1 C, 5, is greater than permitted\n",
      "[21:36:35] Explicit valence for atom # 7 O, 3, is greater than permitted\n",
      "[21:36:35] Explicit valence for atom # 1 N, 4, is greater than permitted\n",
      "Generating Molecules:  26%|██▋       | 263/1000 [00:05<00:12, 60.71it/s][21:36:35] Explicit valence for atom # 8 N, 4, is greater than permitted\n",
      "[21:36:35] Explicit valence for atom # 4 C, 5, is greater than permitted\n",
      "Generating Molecules:  28%|██▊       | 283/1000 [00:05<00:13, 52.49it/s][21:36:35] Explicit valence for atom # 4 C, 5, is greater than permitted\n",
      "[21:36:35] Explicit valence for atom # 1 C, 5, is greater than permitted\n",
      "Generating Molecules:  32%|███▏      | 318/1000 [00:06<00:13, 51.48it/s][21:36:36] Explicit valence for atom # 7 O, 3, is greater than permitted\n",
      "[21:36:36] Explicit valence for atom # 2 O, 3, is greater than permitted\n",
      "[21:36:36] Explicit valence for atom # 4 O, 3, is greater than permitted\n",
      "Generating Molecules:  34%|███▎      | 335/1000 [00:06<00:13, 48.51it/s][21:36:36] Explicit valence for atom # 5 O, 3, is greater than permitted\n",
      "Generating Molecules:  34%|███▍      | 341/1000 [00:06<00:13, 48.47it/s][21:36:37] Explicit valence for atom # 1 C, 5, is greater than permitted\n",
      "Generating Molecules:  36%|███▌      | 357/1000 [00:06<00:13, 48.84it/s][21:36:37] Explicit valence for atom # 3 O, 3, is greater than permitted\n",
      "Generating Molecules:  37%|███▋      | 373/1000 [00:07<00:13, 46.79it/s][21:36:37] Explicit valence for atom # 8 O, 3, is greater than permitted\n",
      "Generating Molecules:  38%|███▊      | 379/1000 [00:07<00:12, 50.35it/s][21:36:37] Explicit valence for atom # 7 O, 3, is greater than permitted\n",
      "Generating Molecules:  38%|███▊      | 385/1000 [00:07<00:12, 50.75it/s][21:36:37] Explicit valence for atom # 1 C, 5, is greater than permitted\n",
      "Generating Molecules:  40%|███▉      | 396/1000 [00:07<00:12, 46.60it/s][21:36:38] Explicit valence for atom # 8 O, 3, is greater than permitted\n",
      "Generating Molecules:  40%|████      | 401/1000 [00:07<00:13, 45.16it/s][21:36:38] Explicit valence for atom # 8 O, 3, is greater than permitted\n",
      "[21:36:38] Explicit valence for atom # 1 C, 5, is greater than permitted\n",
      "Generating Molecules:  41%|████      | 407/1000 [00:07<00:12, 47.84it/s][21:36:38] Explicit valence for atom # 1 C, 5, is greater than permitted\n",
      "Generating Molecules:  43%|████▎     | 434/1000 [00:08<00:11, 47.84it/s][21:36:38] Explicit valence for atom # 4 O, 3, is greater than permitted\n",
      "[21:36:38] Explicit valence for atom # 5 O, 3, is greater than permitted\n",
      "Generating Molecules:  44%|████▍     | 439/1000 [00:08<00:11, 48.23it/s][21:36:39] Explicit valence for atom # 5 O, 3, is greater than permitted\n",
      "Generating Molecules:  44%|████▍     | 444/1000 [00:08<00:11, 47.97it/s][21:36:39] Explicit valence for atom # 5 O, 3, is greater than permitted\n",
      "Generating Molecules:  45%|████▌     | 454/1000 [00:09<00:13, 41.66it/s][21:36:39] Explicit valence for atom # 1 C, 5, is greater than permitted\n",
      "Generating Molecules:  48%|████▊     | 477/1000 [00:09<00:11, 45.41it/s][21:36:39] Explicit valence for atom # 6 C, 5, is greater than permitted\n",
      "[21:36:39] Explicit valence for atom # 6 C, 5, is greater than permitted\n",
      "Generating Molecules:  48%|████▊     | 482/1000 [00:09<00:11, 45.70it/s][21:36:40] Explicit valence for atom # 7 O, 4, is greater than permitted\n",
      "Generating Molecules:  49%|████▊     | 487/1000 [00:09<00:12, 42.02it/s][21:36:40] Explicit valence for atom # 1 C, 5, is greater than permitted\n",
      "Generating Molecules:  49%|████▉     | 492/1000 [00:09<00:11, 42.44it/s][21:36:40] Explicit valence for atom # 1 C, 5, is greater than permitted\n",
      "Generating Molecules:  50%|█████     | 502/1000 [00:10<00:11, 42.22it/s][21:36:40] Explicit valence for atom # 7 O, 4, is greater than permitted\n",
      "Generating Molecules:  52%|█████▏    | 523/1000 [00:10<00:11, 43.08it/s][21:36:41] Explicit valence for atom # 4 C, 5, is greater than permitted\n",
      "Generating Molecules:  53%|█████▎    | 528/1000 [00:10<00:11, 42.58it/s][21:36:41] Explicit valence for atom # 7 O, 3, is greater than permitted\n",
      "Generating Molecules:  53%|█████▎    | 533/1000 [00:10<00:10, 42.91it/s][21:36:41] Explicit valence for atom # 4 N, 4, is greater than permitted\n",
      "Generating Molecules:  55%|█████▍    | 548/1000 [00:11<00:10, 41.56it/s][21:36:41] Explicit valence for atom # 1 C, 5, is greater than permitted\n",
      "Generating Molecules:  55%|█████▌    | 553/1000 [00:11<00:10, 42.51it/s][21:36:41] Explicit valence for atom # 1 O, 3, is greater than permitted\n",
      "Generating Molecules:  56%|█████▌    | 558/1000 [00:11<00:09, 44.31it/s][21:36:41] Explicit valence for atom # 3 O, 3, is greater than permitted\n",
      "Generating Molecules:  56%|█████▋    | 563/1000 [00:11<00:09, 45.15it/s][21:36:41] Explicit valence for atom # 1 N, 4, is greater than permitted\n",
      "[21:36:41] Explicit valence for atom # 5 O, 3, is greater than permitted\n",
      "[21:36:41] Explicit valence for atom # 7 C, 5, is greater than permitted\n",
      "[21:36:41] Explicit valence for atom # 7 O, 3, is greater than permitted\n",
      "Generating Molecules:  57%|█████▋    | 569/1000 [00:11<00:09, 47.39it/s][21:36:42] Explicit valence for atom # 7 O, 3, is greater than permitted\n",
      "Generating Molecules:  58%|█████▊    | 579/1000 [00:11<00:09, 45.71it/s][21:36:42] Explicit valence for atom # 8 O, 3, is greater than permitted\n",
      "[21:36:42] Explicit valence for atom # 7 O, 3, is greater than permitted\n",
      "Generating Molecules:  58%|█████▊    | 584/1000 [00:11<00:08, 46.62it/s][21:36:42] Explicit valence for atom # 1 C, 5, is greater than permitted\n",
      "Generating Molecules:  59%|█████▉    | 589/1000 [00:12<00:09, 44.05it/s][21:36:42] Explicit valence for atom # 1 C, 5, is greater than permitted\n",
      "Generating Molecules:  59%|█████▉    | 594/1000 [00:12<00:09, 43.90it/s][21:36:42] Explicit valence for atom # 1 C, 5, is greater than permitted\n",
      "Generating Molecules:  61%|██████▏   | 614/1000 [00:12<00:09, 42.15it/s][21:36:43] Explicit valence for atom # 7 N, 4, is greater than permitted\n",
      "Generating Molecules:  62%|██████▏   | 619/1000 [00:12<00:10, 37.15it/s][21:36:43] Explicit valence for atom # 8 O, 3, is greater than permitted\n",
      "Generating Molecules:  62%|██████▏   | 623/1000 [00:12<00:10, 36.60it/s][21:36:43] Explicit valence for atom # 7 O, 3, is greater than permitted\n",
      "Generating Molecules:  63%|██████▎   | 628/1000 [00:13<00:09, 39.06it/s][21:36:43] Explicit valence for atom # 6 C, 5, is greater than permitted\n",
      "Generating Molecules:  65%|██████▌   | 652/1000 [00:13<00:06, 51.86it/s][21:36:43] Explicit valence for atom # 5 O, 3, is greater than permitted\n",
      "Generating Molecules:  66%|██████▋   | 664/1000 [00:13<00:06, 48.62it/s][21:36:44] Explicit valence for atom # 8 O, 3, is greater than permitted\n",
      "Generating Molecules:  67%|██████▋   | 671/1000 [00:13<00:06, 49.39it/s][21:36:44] Explicit valence for atom # 2 O, 3, is greater than permitted\n",
      "Generating Molecules:  68%|██████▊   | 676/1000 [00:14<00:06, 48.44it/s][21:36:44] Explicit valence for atom # 6 N, 4, is greater than permitted\n",
      "Generating Molecules:  69%|██████▊   | 686/1000 [00:14<00:07, 43.63it/s][21:36:44] Explicit valence for atom # 1 C, 5, is greater than permitted\n",
      "Generating Molecules:  69%|██████▉   | 692/1000 [00:14<00:06, 47.66it/s][21:36:44] Explicit valence for atom # 1 C, 5, is greater than permitted\n",
      "Generating Molecules:  70%|██████▉   | 697/1000 [00:14<00:06, 45.84it/s][21:36:44] Explicit valence for atom # 5 O, 3, is greater than permitted\n",
      "[21:36:44] Explicit valence for atom # 3 O, 3, is greater than permitted\n",
      "Generating Molecules:  71%|███████   | 710/1000 [00:14<00:06, 46.94it/s][21:36:45] Explicit valence for atom # 1 C, 5, is greater than permitted\n",
      "[21:36:45] Explicit valence for atom # 8 O, 3, is greater than permitted\n",
      "Generating Molecules:  72%|███████▏  | 723/1000 [00:15<00:05, 50.02it/s][21:36:45] Explicit valence for atom # 2 C, 5, is greater than permitted\n",
      "[21:36:45] Explicit valence for atom # 5 O, 3, is greater than permitted\n",
      "Generating Molecules:  74%|███████▍  | 740/1000 [00:15<00:05, 46.79it/s][21:36:45] Explicit valence for atom # 0 O, 3, is greater than permitted\n",
      "Generating Molecules:  75%|███████▍  | 747/1000 [00:15<00:05, 49.14it/s][21:36:46] Explicit valence for atom # 7 O, 3, is greater than permitted\n",
      "Generating Molecules:  75%|███████▌  | 752/1000 [00:15<00:05, 46.61it/s][21:36:46] Explicit valence for atom # 8 O, 3, is greater than permitted\n",
      "Generating Molecules:  77%|███████▋  | 772/1000 [00:16<00:05, 40.24it/s][21:36:46] Explicit valence for atom # 7 O, 3, is greater than permitted\n",
      "Generating Molecules:  78%|███████▊  | 777/1000 [00:16<00:05, 41.17it/s][21:36:46] Explicit valence for atom # 4 O, 3, is greater than permitted\n",
      "Generating Molecules:  79%|███████▉  | 792/1000 [00:16<00:04, 44.71it/s][21:36:47] Explicit valence for atom # 7 O, 3, is greater than permitted\n",
      "Generating Molecules:  80%|███████▉  | 799/1000 [00:16<00:04, 48.15it/s][21:36:47] Explicit valence for atom # 8 O, 3, is greater than permitted\n",
      "[21:36:47] Explicit valence for atom # 8 O, 3, is greater than permitted\n",
      "Generating Molecules:  82%|████████▏ | 816/1000 [00:17<00:04, 43.94it/s][21:36:47] Explicit valence for atom # 6 C, 5, is greater than permitted\n",
      "[21:36:47] Explicit valence for atom # 5 O, 4, is greater than permitted\n",
      "Generating Molecules:  82%|████████▏ | 822/1000 [00:17<00:03, 46.48it/s][21:36:47] Explicit valence for atom # 2 O, 3, is greater than permitted\n",
      "Generating Molecules:  85%|████████▌ | 852/1000 [00:17<00:03, 43.90it/s][21:36:48] Explicit valence for atom # 2 O, 3, is greater than permitted\n",
      "Generating Molecules:  89%|████████▉ | 888/1000 [00:18<00:02, 45.94it/s][21:36:49] Explicit valence for atom # 5 O, 3, is greater than permitted\n",
      "Generating Molecules:  90%|█████████ | 903/1000 [00:19<00:02, 41.59it/s][21:36:49] Explicit valence for atom # 7 O, 3, is greater than permitted\n",
      "Generating Molecules:  92%|█████████▏| 918/1000 [00:19<00:01, 42.98it/s][21:36:49] Explicit valence for atom # 4 C, 6, is greater than permitted\n",
      "[21:36:49] Explicit valence for atom # 2 O, 3, is greater than permitted\n",
      "Generating Molecules:  92%|█████████▏| 924/1000 [00:19<00:01, 45.38it/s][21:36:50] Explicit valence for atom # 7 O, 4, is greater than permitted\n",
      "Generating Molecules:  93%|█████████▎| 929/1000 [00:19<00:01, 46.30it/s][21:36:50] Explicit valence for atom # 4 C, 5, is greater than permitted\n",
      "[21:36:50] Explicit valence for atom # 2 O, 3, is greater than permitted\n",
      "Generating Molecules:  94%|█████████▍| 940/1000 [00:19<00:01, 45.26it/s][21:36:50] Explicit valence for atom # 2 O, 3, is greater than permitted\n",
      "Generating Molecules:  95%|█████████▌| 950/1000 [00:20<00:01, 46.59it/s][21:36:50] Explicit valence for atom # 3 O, 3, is greater than permitted\n",
      "[21:36:50] Explicit valence for atom # 7 O, 3, is greater than permitted\n",
      "[21:36:50] Explicit valence for atom # 5 C, 5, is greater than permitted\n",
      "Generating Molecules:  96%|█████████▌| 957/1000 [00:20<00:00, 49.39it/s][21:36:50] Explicit valence for atom # 8 O, 3, is greater than permitted\n",
      "Generating Molecules:  96%|█████████▌| 962/1000 [00:20<00:00, 46.30it/s][21:36:50] Explicit valence for atom # 1 C, 5, is greater than permitted\n",
      "Generating Molecules:  97%|█████████▋| 973/1000 [00:20<00:00, 44.53it/s][21:36:51] Explicit valence for atom # 2 C, 5, is greater than permitted\n",
      "Generating Molecules:  98%|█████████▊| 983/1000 [00:20<00:00, 41.91it/s][21:36:51] Explicit valence for atom # 3 O, 3, is greater than permitted\n",
      "Generating Molecules:  99%|█████████▉| 994/1000 [00:21<00:00, 40.01it/s][21:36:51] Explicit valence for atom # 5 O, 3, is greater than permitted\n",
      "Generating Molecules: 100%|██████████| 1000/1000 [00:21<00:00, 46.74it/s]\n"
     ]
    }
   ],
   "source": [
    "import torch_geometric.utils as pyg_utils\n",
    "import networkx as nx\n",
    "\n",
    "num_samples = 1000\n",
    "max_decode_attempts = 1\n",
    "total_decode_attempts = 0\n",
    "num_connected_graphs = 0\n",
    "num_valid_mols = 0\n",
    "generated_mol_smiles = set()\n",
    "\n",
    "z, x = graph_vae_prop.sample(num_samples=num_samples, device=device)\n",
    "for i in tqdm(range(num_samples), \"Generating Molecules\"):\n",
    "    sample_matrices = (x[0][i:i+1], x[1][i:i+1], x[2][i:i+1])\n",
    "\n",
    "    # attempt to decode multiply time until we have both a connected graph and a valid molecule\n",
    "    for _ in range(max_decode_attempts):\n",
    "        sample_graph = graph_vae_prop.output_to_graph(x=sample_matrices, stochastic=False)\n",
    "        total_decode_attempts += 1\n",
    "\n",
    "        # check if the generated graph is connected\n",
    "        if nx.is_connected(pyg_utils.to_networkx(sample_graph, to_undirected=True)):\n",
    "            num_connected_graphs += 1\n",
    "        else:\n",
    "            # graph is not connected; try to decode again\n",
    "            continue\n",
    "    \n",
    "        try:\n",
    "            mol = graph_to_mol(data=sample_graph, includes_h=include_hydrogen, validate=True)\n",
    "        except Exception as e:\n",
    "            # Molecule is invalid; try to decode again\n",
    "            continue\n",
    "\n",
    "        # Molecule is valid\n",
    "        num_valid_mols += 1\n",
    "        smiles = Chem.MolToSmiles(mol)\n",
    "        if smiles not in generated_mol_smiles:\n",
    "            writer.add_image('Generated', mol_to_image_tensor(mol=mol), global_step=i, dataformats=\"NCHW\")\n",
    "            generated_mol_smiles.add(Chem.MolToSmiles(mol))\n",
    "        break"
   ]
  },
  {
   "cell_type": "code",
   "execution_count": 50,
   "metadata": {},
   "outputs": [],
   "source": [
    "z.requires_grad_(True)\n",
    "optimizer = torch.optim.Adam([z], lr=1e-2)"
   ]
  },
  {
   "cell_type": "code",
   "execution_count": 51,
   "metadata": {},
   "outputs": [
    {
     "name": "stderr",
     "output_type": "stream",
     "text": [
      "  0%|          | 0/2000 [00:00<?, ?it/s]"
     ]
    },
    {
     "name": "stderr",
     "output_type": "stream",
     "text": [
      "100%|██████████| 2000/2000 [00:08<00:00, 246.09it/s]\n"
     ]
    },
    {
     "name": "stdout",
     "output_type": "stream",
     "text": [
      "tensor(1.2471, device='cuda:0', grad_fn=<MeanBackward0>)\n"
     ]
    }
   ],
   "source": [
    "for i in tqdm(range(2000)):\n",
    "    properties_predicted = graph_vae_prop.predict_properties(z)\n",
    "    # reduce homo-lumo gap\n",
    "    loss = ((properties_predicted[:, 0] - properties_predicted[:, 1]) ** 2).mean()\n",
    "    loss.backward()\n",
    "    optimizer.step()\n",
    "\n",
    "print(loss)"
   ]
  },
  {
   "cell_type": "code",
   "execution_count": 52,
   "metadata": {},
   "outputs": [
    {
     "name": "stderr",
     "output_type": "stream",
     "text": [
      "Generating Molecules:   0%|          | 0/1000 [00:00<?, ?it/s]"
     ]
    },
    {
     "name": "stderr",
     "output_type": "stream",
     "text": [
      "Generating Molecules:   0%|          | 1/1000 [00:00<02:08,  7.78it/s][21:37:15] Explicit valence for atom # 4 O, 3, is greater than permitted\n",
      "Generating Molecules:  13%|█▎        | 134/1000 [00:01<00:06, 139.87it/s][21:37:16] Explicit valence for atom # 4 N, 4, is greater than permitted\n",
      "Generating Molecules:  20%|█▉        | 195/1000 [00:01<00:04, 170.69it/s][21:37:17] Explicit valence for atom # 4 O, 4, is greater than permitted\n",
      "Generating Molecules:  26%|██▌       | 255/1000 [00:01<00:04, 175.18it/s][21:37:17] Explicit valence for atom # 2 O, 3, is greater than permitted\n",
      "Generating Molecules:  40%|████      | 403/1000 [00:02<00:03, 171.16it/s][21:37:18] Explicit valence for atom # 2 O, 3, is greater than permitted\n",
      "Generating Molecules:  52%|█████▏    | 524/1000 [00:03<00:02, 169.46it/s][21:37:19] Explicit valence for atom # 6 O, 3, is greater than permitted\n",
      "Generating Molecules:  62%|██████▎   | 625/1000 [00:03<00:01, 187.97it/s][21:37:19] Explicit valence for atom # 4 O, 3, is greater than permitted\n",
      "Generating Molecules:  75%|███████▍  | 747/1000 [00:04<00:01, 177.04it/s][21:37:20] Explicit valence for atom # 4 O, 3, is greater than permitted\n",
      "Generating Molecules:  97%|█████████▋| 974/1000 [00:05<00:00, 168.51it/s][21:37:21] Explicit valence for atom # 4 O, 3, is greater than permitted\n",
      "Generating Molecules: 100%|██████████| 1000/1000 [00:05<00:00, 169.50it/s]\n"
     ]
    }
   ],
   "source": [
    "num_samples = 1000\n",
    "max_decode_attempts = 1\n",
    "total_decode_attempts = 0\n",
    "num_connected_graphs = 0\n",
    "num_valid_mols = 0\n",
    "generated_mol_smiles = set()\n",
    "\n",
    "z = z.detach()\n",
    "x = graph_vae_prop.decode(z)\n",
    "for i in tqdm(range(num_samples), \"Generating Molecules\"):\n",
    "    sample_matrices = (x[0][i:i+1], x[1][i:i+1], x[2][i:i+1])\n",
    "\n",
    "    # attempt to decode multiply time until we have both a connected graph and a valid molecule\n",
    "    for _ in range(max_decode_attempts):\n",
    "        sample_graph = graph_vae_prop.output_to_graph(x=sample_matrices, stochastic=False)\n",
    "        total_decode_attempts += 1\n",
    "\n",
    "        # check if the generated graph is connected\n",
    "        if nx.is_connected(pyg_utils.to_networkx(sample_graph, to_undirected=True)):\n",
    "            num_connected_graphs += 1\n",
    "        else:\n",
    "            # graph is not connected; try to decode again\n",
    "            continue\n",
    "    \n",
    "        try:\n",
    "            mol = graph_to_mol(data=sample_graph, includes_h=include_hydrogen, validate=True)\n",
    "        except Exception as e:\n",
    "            # Molecule is invalid; try to decode again\n",
    "            continue\n",
    "\n",
    "        # Molecule is valid\n",
    "        num_valid_mols += 1\n",
    "        smiles = Chem.MolToSmiles(mol)\n",
    "        if smiles not in generated_mol_smiles:\n",
    "            writer.add_image('Generated Optimized', mol_to_image_tensor(mol=mol), global_step=i, dataformats=\"NCHW\")\n",
    "            generated_mol_smiles.add(Chem.MolToSmiles(mol))\n",
    "        break"
   ]
  }
 ],
 "metadata": {
  "kernelspec": {
   "display_name": "idp",
   "language": "python",
   "name": "python3"
  },
  "language_info": {
   "codemirror_mode": {
    "name": "ipython",
    "version": 3
   },
   "file_extension": ".py",
   "mimetype": "text/x-python",
   "name": "python",
   "nbconvert_exporter": "python",
   "pygments_lexer": "ipython3",
   "version": "3.11.5"
  }
 },
 "nbformat": 4,
 "nbformat_minor": 2
}
