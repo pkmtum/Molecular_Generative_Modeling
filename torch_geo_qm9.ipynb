{
 "cells": [
  {
   "cell_type": "code",
   "execution_count": 6,
   "metadata": {},
   "outputs": [
    {
     "name": "stdout",
     "output_type": "stream",
     "text": [
      "The autoreload extension is already loaded. To reload it, use:\n",
      "  %reload_ext autoreload\n",
      "Data(x=[5, 5], edge_index=[2, 8], edge_attr=[8, 4], y=[1, 3], pos=[5, 3], z=[5], smiles='[H]C([H])([H])[H]', name='gdb_1', idx=[1])\n",
      "5\n"
     ]
    }
   ],
   "source": [
    "%load_ext autoreload\n",
    "%autoreload 2\n",
    "\n",
    "from torch_geometric.datasets import QM9\n",
    "import torch_geometric.transforms as T\n",
    "import torch\n",
    "from torch.utils.data import random_split\n",
    "from data_utils import SelectQM9TargetProperties, create_qm9_data_split, SelectQM9NodeFeatures\n",
    "\n",
    "\n",
    "transform = T.Compose([\n",
    "    SelectQM9TargetProperties(properties=[\"homo\", \"lumo\", \"r2\"]),\n",
    "    SelectQM9NodeFeatures(features=[\"atom_type\"])\n",
    "])\n",
    "\n",
    "dataset = QM9(root=\"./data\", transform=transform)\n",
    "\n",
    "train_dataset, val_dataset, test_dataset = create_qm9_data_split(dataset=dataset)\n",
    "\n",
    "print(dataset[0])\n",
    "print(dataset.num_features)\n",
    "#print(dataset[0].y[:, [0, 1, 2]])"
   ]
  },
  {
   "cell_type": "code",
   "execution_count": null,
   "metadata": {},
   "outputs": [],
   "source": [
    "device = torch.device('cuda' if torch.cuda.is_available() else 'cpu')\n",
    "print(device)"
   ]
  },
  {
   "cell_type": "code",
   "execution_count": 2,
   "metadata": {},
   "outputs": [],
   "source": [
    "import torch\n",
    "import torch.nn as nn\n",
    "import torch.nn.functional as F\n",
    "from torch_geometric.nn import GCNConv, global_mean_pool\n",
    "\n",
    "class GCN(torch.nn.Module):\n",
    "    def __init__(self, num_node_features: int, num_targets: int):\n",
    "        super().__init__()\n",
    "        self.conv1 = GCNConv(num_node_features, 16)\n",
    "        self.conv2 = GCNConv(16, 32)\n",
    "        self.fc1 = nn.Linear(32, num_targets)\n",
    "\n",
    "    def forward(self, data):\n",
    "        x, edge_index, batch = data.x, data.edge_index, data.batch\n",
    "\n",
    "        x = self.conv1(x, edge_index)\n",
    "        x = F.relu(x)\n",
    "        x = F.dropout(x, training=self.training)\n",
    "        x = self.conv2(x, edge_index)\n",
    "        x = global_mean_pool(x, batch)\n",
    "        x = self.fc1(x)\n",
    "        return x"
   ]
  },
  {
   "cell_type": "code",
   "execution_count": 5,
   "metadata": {},
   "outputs": [
    {
     "name": "stdout",
     "output_type": "stream",
     "text": [
      "Training...\n"
     ]
    },
    {
     "name": "stderr",
     "output_type": "stream",
     "text": [
      " 10%|█         | 1/10 [00:25<03:51, 25.72s/it]"
     ]
    }
   ],
   "source": [
    "from torch_geometric.loader import DataLoader\n",
    "from torch.utils.tensorboard import SummaryWriter\n",
    "from tqdm import tqdm\n",
    "\n",
    "model = GCN(num_node_features=dataset.num_node_features, num_targets=dataset.num_classes).to(device)\n",
    "\n",
    "#total_params = sum(p.numel() for p in model.parameters())\n",
    "#print(f\"Total number of parameters is: {total_params}\")\n",
    "\n",
    "optimizer = torch.optim.Adam(model.parameters(), lr=0.01, weight_decay=0)\n",
    "train_loader = DataLoader(train_dataset, batch_size=128, shuffle=True)\n",
    "epochs = 10\n",
    "\n",
    "writer = SummaryWriter()\n",
    "\n",
    "print(\"Training...\")\n",
    "model.train()\n",
    "for epoch in tqdm(range(epochs)):\n",
    "    epoch_train_loss = 0\n",
    "    for batch in train_loader:\n",
    "        optimizer.zero_grad()\n",
    "        sample = batch.to(device)\n",
    "        model_output = model(sample)\n",
    "        loss = F.mse_loss(model_output, sample.y)\n",
    "        epoch_train_loss += loss.item()\n",
    "        loss.backward()\n",
    "        optimizer.step()\n",
    "\n",
    "    epoch_train_loss /= len(train_loader.dataset)\n",
    "    writer.add_scalar('Loss/train', epoch_train_loss, epoch)"
   ]
  }
 ],
 "metadata": {
  "kernelspec": {
   "display_name": "idp",
   "language": "python",
   "name": "python3"
  },
  "language_info": {
   "codemirror_mode": {
    "name": "ipython",
    "version": 3
   },
   "file_extension": ".py",
   "mimetype": "text/x-python",
   "name": "python",
   "nbconvert_exporter": "python",
   "pygments_lexer": "ipython3",
   "version": "3.11.5"
  }
 },
 "nbformat": 4,
 "nbformat_minor": 2
}
