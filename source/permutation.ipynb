{
 "cells": [
  {
   "cell_type": "code",
   "execution_count": 1,
   "metadata": {},
   "outputs": [],
   "source": [
    "%load_ext autoreload\n",
    "%autoreload 2"
   ]
  },
  {
   "cell_type": "code",
   "execution_count": 89,
   "metadata": {},
   "outputs": [],
   "source": [
    "from data_utils import *\n",
    "from train_graph_vae import create_qm9_dataset\n",
    "import torch_geometric.transforms as T\n",
    "from torch_geometric.datasets import QM9\n",
    "\n",
    "include_hydrogen = False\n",
    "\n",
    "device = torch.device('cuda' if torch.cuda.is_available() else 'cpu')\n",
    "\n",
    "transform_list = [\n",
    "    SelectQM9TargetProperties(properties=[\"homo\", \"lumo\"]),\n",
    "    SelectQM9NodeFeatures(features=[\"atom_type\"]),\n",
    "]\n",
    "if not include_hydrogen:\n",
    "    transform_list.append(DropQM9Hydrogen())\n",
    "\n",
    "max_num_nodes = 29 if include_hydrogen else 9\n",
    "transform_list += [\n",
    "    AddAdjacencyMatrix(max_num_nodes=max_num_nodes),\n",
    "    AddNodeAttributeMatrix(max_num_nodes=max_num_nodes),\n",
    "    AddEdgeAttributeMatrix(max_num_nodes=max_num_nodes),\n",
    "]\n",
    "\n",
    "pre_transform = T.Compose(transform_list)\n",
    "transform = T.Compose([\n",
    "    RandomPermutation(max_num_nodes=max_num_nodes),\n",
    "    T.ToDevice(device=device)\n",
    "])\n",
    "\n",
    "# note: when the pre_filter or pre_transform is changed, delete the data/processed folder to update the dataset\n",
    "dataset = QM9(root=\"./data\", pre_transform=pre_transform, pre_filter=qm9_pre_filter, transform=transform)\n",
    "\n",
    "train_dataset, val_dataset, test_dataset = create_qm9_data_split(dataset=dataset)\n"
   ]
  },
  {
   "cell_type": "code",
   "execution_count": 93,
   "metadata": {},
   "outputs": [
    {
     "data": {
      "text/plain": [
       "Data(x=[8, 4], edge_index=[2, 16], edge_attr=[16, 4], y=[1, 2], pos=[15, 3], z=[15], smiles='[H]C#CC([H])([H])C(=O)N1C([H])([H])C1([H])[H]', name='gdb_15733', idx=[1], adj_triu_mat=[1, 45], node_mat=[1, 9, 4], edge_triu_mat=[1, 36, 4])"
      ]
     },
     "execution_count": 93,
     "metadata": {},
     "output_type": "execute_result"
    }
   ],
   "source": [
    "train_dataset[1]"
   ]
  },
  {
   "cell_type": "code",
   "execution_count": 91,
   "metadata": {},
   "outputs": [],
   "source": [
    "train_loader = DataLoader(train_dataset, batch_size=32, shuffle=True)"
   ]
  }
 ],
 "metadata": {
  "kernelspec": {
   "display_name": "idp",
   "language": "python",
   "name": "python3"
  },
  "language_info": {
   "codemirror_mode": {
    "name": "ipython",
    "version": 3
   },
   "file_extension": ".py",
   "mimetype": "text/x-python",
   "name": "python",
   "nbconvert_exporter": "python",
   "pygments_lexer": "ipython3",
   "version": "3.11.5"
  }
 },
 "nbformat": 4,
 "nbformat_minor": 2
}
