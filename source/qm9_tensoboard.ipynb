{
 "cells": [
  {
   "cell_type": "code",
   "execution_count": 7,
   "metadata": {},
   "outputs": [
    {
     "name": "stdout",
     "output_type": "stream",
     "text": [
      "The autoreload extension is already loaded. To reload it, use:\n",
      "  %reload_ext autoreload\n",
      "53155\n",
      "SMILE: [H]O[C@@]1([H])C([H])([H])[C@@]2([H])C(=O)[C@]1([H])N2[H]\n"
     ]
    }
   ],
   "source": [
    "%load_ext autoreload\n",
    "%autoreload 2\n",
    "\n",
    "import torch\n",
    "import torchvision\n",
    "\n",
    "from torch_geometric.datasets import QM9\n",
    "import torch_geometric.transforms as T\n",
    "import torch\n",
    "from torch_geometric.loader import DataLoader\n",
    "from data_utils import *\n",
    "import random\n",
    "import os\n",
    "\n",
    "from data_utils import create_tensorboard_writer\n",
    "\n",
    "# disable logging\n",
    "from rdkit import RDLogger\n",
    "lg = RDLogger.logger()\n",
    "lg.setLevel(RDLogger.CRITICAL)\n",
    "\n",
    "device = torch.device('cuda' if torch.cuda.is_available() else 'cpu')\n",
    "\n",
    "transform = T.Compose([\n",
    "    SelectQM9TargetProperties(properties=[\"homo\", \"lumo\"]),\n",
    "    SelectQM9NodeFeatures(features=[\"atom_type\"]),\n",
    "    T.ToDevice(device=device)\n",
    "])\n",
    "\n",
    "dataset = QM9(root=\"./data\", transform=transform)\n",
    "\n",
    "train_dataset, _, _ = create_qm9_data_split(dataset=dataset)\n",
    "\n",
    "sample_index = random.randint(0, len(train_dataset))\n",
    "print(sample_index)\n",
    "sample_index = 99583\n",
    "sample = train_dataset[sample_index]\n",
    "\n",
    "# TODO: split the batch into subgraphs and display with make_grid from torchvision\n",
    "#sample = Data(x=batch.x, edge_index=batch.edge_index, edge_attr=batch.edge_attr)\n",
    "writer = create_tensorboard_writer(experiment_name=\"qm9-visualization\")\n",
    "\n",
    "print(f\"SMILE: {sample.smiles}\")\n",
    "writer.add_image('Molecules (from SMILES)', smiles_to_image(sample.smiles), dataformats=\"NCHW\")\n",
    "writer.add_image('Molecules (from Graph)', molecule_graph_data_to_image(sample), dataformats=\"NCHW\")\n",
    "writer.close()"
   ]
  }
 ],
 "metadata": {
  "kernelspec": {
   "display_name": "idp",
   "language": "python",
   "name": "python3"
  },
  "language_info": {
   "codemirror_mode": {
    "name": "ipython",
    "version": 3
   },
   "file_extension": ".py",
   "mimetype": "text/x-python",
   "name": "python",
   "nbconvert_exporter": "python",
   "pygments_lexer": "ipython3",
   "version": "3.11.5"
  }
 },
 "nbformat": 4,
 "nbformat_minor": 2
}
