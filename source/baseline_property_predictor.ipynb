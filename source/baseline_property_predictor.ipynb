{
 "cells": [
  {
   "cell_type": "code",
   "execution_count": 1,
   "metadata": {},
   "outputs": [
    {
     "name": "stdout",
     "output_type": "stream",
     "text": [
      "Training dataset size = 102443\n",
      "Validation dataset size = 12805\n",
      "Test dataset size = 12805\n"
     ]
    }
   ],
   "source": [
    "%load_ext autoreload\n",
    "%autoreload 2\n",
    "\n",
    "from typing import Dict, Any\n",
    "import torch.nn as nn\n",
    "from torch_geometric.datasets import QM9\n",
    "import torch_geometric.transforms as T\n",
    "import torch\n",
    "from torch_geometric.loader import DataLoader\n",
    "from data_utils import *\n",
    "from tqdm import tqdm\n",
    "\n",
    "device = torch.device('cuda' if torch.cuda.is_available() else 'cpu')\n",
    "include_hydrogen = False\n",
    "properties=[\"homo\", \"lumo\", \"r2\"]\n",
    "\n",
    "transform_list = [\n",
    "    SelectQM9TargetProperties(properties=properties),\n",
    "    SelectQM9NodeFeatures(features=[\"atom_type\"]),\n",
    "]\n",
    "if not include_hydrogen:\n",
    "    transform_list.append(DropQM9Hydrogen())\n",
    "\n",
    "max_num_nodes = 29 if include_hydrogen else 9\n",
    "transform_list += [\n",
    "    AddAdjacencyMatrix(max_num_nodes=max_num_nodes),\n",
    "    AddNodeAttributeMatrix(max_num_nodes=max_num_nodes),\n",
    "    AddEdgeAttributeMatrix(max_num_nodes=max_num_nodes),\n",
    "]\n",
    "\n",
    "pre_transform = T.Compose(transform_list)\n",
    "transform = T.Compose([\n",
    "    T.ToDevice(device=device)\n",
    "])\n",
    "\n",
    "dataset = QM9(root=\"./data/property_prediction\", pre_transform=pre_transform, pre_filter=qm9_pre_filter, transform=transform)\n",
    "\n",
    "train_dataset, val_dataset, test_dataset = create_qm9_data_split(dataset=dataset)\n",
    "\n",
    "print(f\"Training dataset size = {len(train_dataset)}\")\n",
    "print(f\"Validation dataset size = {len(val_dataset)}\")\n",
    "print(f\"Test dataset size = {len(test_dataset)}\")\n",
    "\n",
    "batch_size = 1024\n",
    "train_loader = DataLoader(train_dataset, batch_size=batch_size, shuffle=True)\n",
    "val_loader = DataLoader(val_dataset, batch_size=batch_size, shuffle=False)"
   ]
  },
  {
   "cell_type": "code",
   "execution_count": 3,
   "metadata": {},
   "outputs": [],
   "source": [
    "def evaluate_model_performance(validation_loader, model):\n",
    "    mae_sum = 0\n",
    "    for batch in tqdm(validation_loader):\n",
    "        prediction = model(batch)\n",
    "        mae_sum += torch.mean(torch.abs(prediction - batch.y), dim=0)\n",
    "\n",
    "    mean_absolute_error = mae_sum / len(validation_loader)\n",
    "\n",
    "    print(f\"HOMO MAE = {mean_absolute_error[0]}\")\n",
    "    print(f\"LUMO MAE = {mean_absolute_error[1]}\")\n",
    "    print(f\"R2 MAE = {mean_absolute_error[2]}\")"
   ]
  },
  {
   "cell_type": "code",
   "execution_count": 4,
   "metadata": {},
   "outputs": [
    {
     "name": "stderr",
     "output_type": "stream",
     "text": [
      "  0%|          | 0/101 [00:00<?, ?it/s]"
     ]
    },
    {
     "name": "stderr",
     "output_type": "stream",
     "text": [
      "100%|██████████| 101/101 [00:48<00:00,  2.08it/s]\n"
     ]
    },
    {
     "name": "stdout",
     "output_type": "stream",
     "text": [
      "HOMO Mean = -6.5462236404418945\n",
      "LUMO Mean = 0.33497878909111023\n",
      "R2 Mean = 1191.4244384765625\n"
     ]
    },
    {
     "name": "stderr",
     "output_type": "stream",
     "text": [
      "100%|██████████| 13/13 [00:05<00:00,  2.18it/s]"
     ]
    },
    {
     "name": "stdout",
     "output_type": "stream",
     "text": [
      "HOMO MAE = 0.4391568899154663\n",
      "LUMO MAE = 1.0499714612960815\n",
      "R2 MAE = 198.45355224609375\n"
     ]
    },
    {
     "name": "stderr",
     "output_type": "stream",
     "text": [
      "\n"
     ]
    }
   ],
   "source": [
    "homo_mean_list = []\n",
    "lumo_mean_list = []\n",
    "r2_mean_list = []\n",
    "for batch in tqdm(train_loader):\n",
    "    batch_mean = torch.mean(batch.y, dim=0)\n",
    "    homo_mean_list.append(batch_mean[0])\n",
    "    lumo_mean_list.append(batch_mean[1])\n",
    "    r2_mean_list.append(batch_mean[2])\n",
    "\n",
    "homo_mean_pred = torch.tensor(homo_mean_list).mean()\n",
    "lumo_mean_pred = torch.tensor(lumo_mean_list).mean()\n",
    "r2_mean_pred = torch.tensor(r2_mean_list).mean()\n",
    "print(f\"HOMO Mean = {homo_mean_pred}\")\n",
    "print(f\"LUMO Mean = {lumo_mean_pred}\")\n",
    "print(f\"R2 Mean = {r2_mean_pred}\")\n",
    "\n",
    "class MeanPredictor(nn.Module):\n",
    "    def __init__(self, property_mean_values: List[float]):\n",
    "        super().__init__()\n",
    "        # create mean prediction and add batch dimension\n",
    "        self.register_buffer('mean_prediction', torch.tensor(property_mean_values).unsqueeze(0))\n",
    "\n",
    "    def forward(self, x):\n",
    "        batch_size = x.y.shape[0]\n",
    "        return self.mean_prediction.expand(batch_size, -1)\n",
    "\n",
    "mean_baseline_model = MeanPredictor(property_mean_values=[homo_mean_pred, lumo_mean_pred, r2_mean_pred]).to(device)\n",
    "\n",
    "evaluate_model_performance(val_loader, mean_baseline_model)"
   ]
  }
 ],
 "metadata": {
  "kernelspec": {
   "display_name": "idp",
   "language": "python",
   "name": "python3"
  },
  "language_info": {
   "codemirror_mode": {
    "name": "ipython",
    "version": 3
   },
   "file_extension": ".py",
   "mimetype": "text/x-python",
   "name": "python",
   "nbconvert_exporter": "python",
   "pygments_lexer": "ipython3",
   "version": "3.11.5"
  }
 },
 "nbformat": 4,
 "nbformat_minor": 2
}
