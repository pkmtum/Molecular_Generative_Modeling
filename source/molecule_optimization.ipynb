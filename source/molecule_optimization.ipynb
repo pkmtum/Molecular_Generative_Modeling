{
 "cells": [
  {
   "cell_type": "code",
   "execution_count": 1,
   "metadata": {},
   "outputs": [
    {
     "name": "stdout",
     "output_type": "stream",
     "text": [
      "Training dataset size = 102445\n",
      "Validation dataset size = 12806\n",
      "Test dataset size = 12805\n"
     ]
    }
   ],
   "source": [
    "%load_ext autoreload\n",
    "%autoreload 2\n",
    "\n",
    "from typing import Dict, Any\n",
    "from torch_geometric.datasets import QM9\n",
    "import torch_geometric.transforms as T\n",
    "import torch\n",
    "from torch_geometric.loader import DataLoader\n",
    "from data_utils import *\n",
    "from tqdm import tqdm\n",
    "\n",
    "device = torch.device('cuda' if torch.cuda.is_available() else 'cpu')\n",
    "include_hydrogen = False\n",
    "properties=[\"homo\", \"lumo\"]\n",
    "\n",
    "transform_list = [\n",
    "    SelectQM9TargetProperties(properties=properties),\n",
    "    SelectQM9NodeFeatures(features=[\"atom_type\"]),\n",
    "]\n",
    "if not include_hydrogen:\n",
    "    transform_list.append(DropQM9Hydrogen())\n",
    "\n",
    "max_num_nodes = 29 if include_hydrogen else 9\n",
    "transform_list += [\n",
    "    AddAdjacencyMatrix(max_num_nodes=max_num_nodes),\n",
    "    AddNodeAttributeMatrix(max_num_nodes=max_num_nodes),\n",
    "    AddEdgeAttributeMatrix(max_num_nodes=max_num_nodes),\n",
    "]\n",
    "\n",
    "pre_transform = T.Compose(transform_list)\n",
    "transform = T.Compose([\n",
    "    #RandomPermutation(max_num_nodes=max_num_nodes),\n",
    "    T.ToDevice(device=device)\n",
    "])\n",
    "\n",
    "dataset = QM9(root=\"./data\", pre_transform=pre_transform, pre_filter=qm9_pre_filter, transform=transform)\n",
    "\n",
    "train_dataset, val_dataset, test_dataset = create_qm9_data_split(dataset=dataset)\n",
    "\n",
    "print(f\"Training dataset size = {len(train_dataset)}\")\n",
    "print(f\"Validation dataset size = {len(val_dataset)}\")\n",
    "print(f\"Test dataset size = {len(test_dataset)}\")"
   ]
  },
  {
   "cell_type": "markdown",
   "metadata": {},
   "source": [
    "## Create Dataloaders"
   ]
  },
  {
   "cell_type": "code",
   "execution_count": 2,
   "metadata": {},
   "outputs": [],
   "source": [
    "from typing import List\n",
    "from data_utils import create_validation_subset_loaders\n",
    "\n",
    "batch_size = 128\n",
    "\n",
    "dataloaders = {\n",
    "    \"train_single\": DataLoader(train_dataset[:1], batch_size=batch_size, shuffle=True),\n",
    "    \"train_tiny\": DataLoader(train_dataset[:16], batch_size=batch_size, shuffle=True),\n",
    "    \"train_small\": DataLoader(train_dataset[:4096], batch_size=batch_size, shuffle=True),\n",
    "    \"train\": DataLoader(train_dataset, batch_size=batch_size, shuffle=True),\n",
    "\n",
    "    \"val_small\": DataLoader(val_dataset[:512], batch_size=batch_size, shuffle=False),\n",
    "    \"val\": DataLoader(val_dataset, batch_size=batch_size, shuffle=False)\n",
    "}\n",
    "\n",
    "val_subset_count = 32\n",
    "dataloaders[\"val_subsets\"] = create_validation_subset_loaders(validation_dataset=val_dataset, subset_count=32, batch_size=batch_size)"
   ]
  },
  {
   "cell_type": "markdown",
   "metadata": {},
   "source": [
    "## Baseline model (mean prediction)"
   ]
  },
  {
   "cell_type": "markdown",
   "metadata": {},
   "source": [
    "### Training"
   ]
  },
  {
   "cell_type": "code",
   "execution_count": 5,
   "metadata": {},
   "outputs": [
    {
     "name": "stderr",
     "output_type": "stream",
     "text": [
      "  0%|          | 0/801 [00:00<?, ?it/s]"
     ]
    },
    {
     "name": "stderr",
     "output_type": "stream",
     "text": [
      "100%|██████████| 801/801 [06:30<00:00,  2.05it/s]\n"
     ]
    },
    {
     "name": "stdout",
     "output_type": "stream",
     "text": [
      "HOMO Mean = -6.546781063079834\n",
      "LUMO Mean = 0.3270353078842163\n"
     ]
    }
   ],
   "source": [
    "import torch.nn as nn\n",
    "\n",
    "train_loader = dataloaders[\"train\"]\n",
    "homo_mean_list = []\n",
    "lumo_mean_list = []\n",
    "for batch in tqdm(train_loader):\n",
    "    batch_mean = torch.mean(batch.y, dim=0)\n",
    "    homo_mean_list.append(batch_mean[0])\n",
    "    lumo_mean_list.append(batch_mean[1])\n",
    "\n",
    "homo_mean_pred = torch.tensor(homo_mean_list).mean()\n",
    "lumo_mean_pred = torch.tensor(lumo_mean_list).mean()\n",
    "print(f\"HOMO Mean = {homo_mean_pred}\")\n",
    "print(f\"LUMO Mean = {lumo_mean_pred}\")\n",
    "\n",
    "class MeanPredictor(nn.Module):\n",
    "    def __init__(self, property_mean_values: List[float]):\n",
    "        super().__init__()\n",
    "        # create mean prediction and add batch dimension\n",
    "        self.register_buffer('mean_prediction', torch.tensor(property_mean_values).unsqueeze(0))\n",
    "\n",
    "    def forward(self, x):\n",
    "        batch_size = x.y.shape[0]\n",
    "        return self.mean_prediction.expand(batch_size, -1)\n",
    "\n",
    "mean_baseline_model = MeanPredictor(property_mean_values=[homo_mean_pred, lumo_mean_pred]).to(device)"
   ]
  },
  {
   "cell_type": "markdown",
   "metadata": {},
   "source": [
    "### Validation"
   ]
  },
  {
   "cell_type": "code",
   "execution_count": 3,
   "metadata": {},
   "outputs": [
    {
     "name": "stdout",
     "output_type": "stream",
     "text": [
      "Mean Baseline:\n"
     ]
    }
   ],
   "source": [
    "def evaluate_model_performance(validation_loader, model):\n",
    "    mae_sum = 0\n",
    "    for batch in tqdm(validation_loader):\n",
    "        prediction = model(batch)\n",
    "        mae_sum += torch.mean(torch.abs(prediction - batch.y), dim=0)\n",
    "\n",
    "    mean_absolute_error = mae_sum / len(validation_loader)\n",
    "\n",
    "    print(f\"HOMO MAE = {mean_absolute_error[0]}\")\n",
    "    print(f\"LUMO MAE = {mean_absolute_error[1]}\")\n",
    "\n",
    "val_loader = dataloaders[\"val\"]\n",
    "\n",
    "print(\"Mean Baseline:\")\n",
    "#evaluate_model_performance(validation_loader=val_loader, model=mean_baseline_model)"
   ]
  },
  {
   "cell_type": "markdown",
   "metadata": {},
   "source": [
    "## Graph Property Predictor"
   ]
  },
  {
   "cell_type": "code",
   "execution_count": 6,
   "metadata": {},
   "outputs": [],
   "source": [
    "from data_utils import create_tensorboard_writer\n",
    "from tqdm import tqdm\n",
    "import itertools\n",
    "from graph_vae.vae import GraphVAE\n",
    "\n",
    "class PropertyPredictorVAE(nn.Module):\n",
    "\n",
    "    def __init__(self, graph_vae: GraphVAE, hparams: Dict[str, Any]):\n",
    "        super().__init__()\n",
    "        self.graph_vae = graph_vae\n",
    "\n",
    "    def forward(self, x: Data):\n",
    "        z = self.graph_vae.encode(x=x)\n",
    "        return self.graph_vae.predict_properties(z)\n",
    "\n",
    "class PropertyPredictorVAEEncoder(nn.Module):\n",
    "\n",
    "    def __init__(self, graph_vae: GraphVAE, hparams: Dict[str, Any]):\n",
    "        super().__init__()\n",
    "        self.graph_vae = graph_vae\n",
    "        property_count = len(hparams[\"properties\"])\n",
    "        self.property_predictor = nn.Sequential(\n",
    "            nn.Linear(self.graph_vae.latent_dim, 256),\n",
    "            nn.BatchNorm1d(256),\n",
    "            nn.PReLU(),\n",
    "            nn.Linear(256, 256),\n",
    "            nn.BatchNorm1d(256),\n",
    "            nn.PReLU(),\n",
    "            nn.Linear(256, property_count)\n",
    "        )\n",
    "\n",
    "    def forward(self, x: Data):\n",
    "        z = self.graph_vae.encode(x=x)\n",
    "        return self.property_predictor(z)\n",
    "\n",
    "\n",
    "def train_property_predictor(\n",
    "        model: PropertyPredictorVAEEncoder,\n",
    "        train_loader: DataLoader,\n",
    "        val_subset_loaders: List[DataLoader],\n",
    "        epochs: int,\n",
    "        tb_writer: SummaryWriter,\n",
    "    ):\n",
    "    \n",
    "    learning_rate = 1e-3\n",
    "    optimizer = torch.optim.Adam(model.property_predictor.parameters(), lr=learning_rate)\n",
    "    loss_function = nn.MSELoss()\n",
    "\n",
    "    # After how many iterations to validate\n",
    "    validation_interval = 10\n",
    "\n",
    "    val_subset_loader_iterator = itertools.cycle(val_subset_loaders)\n",
    "\n",
    "    for epoch in range(epochs):\n",
    "        # Training\n",
    "        model.train()\n",
    "        for batch_index, train_batch in enumerate(tqdm(train_loader, desc=f\"Epoch {epoch + 1} Training\")):\n",
    "            optimizer.zero_grad()\n",
    "            train_prediction = model(train_batch)\n",
    "            train_loss = loss_function(train_prediction, train_batch.y)\n",
    "            train_loss.backward()\n",
    "            optimizer.step()\n",
    "\n",
    "            iteration = len(train_loader) * epoch + batch_index\n",
    "            tb_writer.add_scalars(\"Loss\", {\"Training\": train_loss.item()}, iteration)\n",
    "\n",
    "            # Validation\n",
    "            if iteration % validation_interval == 0:\n",
    "                model.eval()\n",
    "                val_loss_sum = 0\n",
    "                mae_sum = 0\n",
    "\n",
    "                # Get the next subset of the validation set\n",
    "                val_loader = next(val_subset_loader_iterator)\n",
    "                with torch.no_grad():\n",
    "                    for val_batch in val_loader:\n",
    "                        val_prediction = model(val_batch)\n",
    "                        val_loss_sum += loss_function(val_prediction, val_batch.y)\n",
    "                        mae_sum += torch.mean(torch.abs(val_prediction - val_batch.y), dim=0)\n",
    "                \n",
    "                val_loss = val_loss_sum / len(val_loader)\n",
    "                tb_writer.add_scalars(\"Loss\", {\"Validation\": val_loss.item()}, iteration)\n",
    "\n",
    "                mean_absolute_error = mae_sum / len(val_loader)\n",
    "                tb_writer.add_scalar(\"MAE (HOMO)\", mean_absolute_error[0], iteration)\n",
    "                tb_writer.add_scalar(\"MAE (LUMO)\", mean_absolute_error[1], iteration)\n",
    "                \n",
    "                model.train()"
   ]
  },
  {
   "cell_type": "code",
   "execution_count": 7,
   "metadata": {},
   "outputs": [],
   "source": [
    "writer = create_tensorboard_writer(experiment_name=\"property-predictor\")\n",
    "\n",
    "train_loader = dataloaders[\"train\"]\n",
    "val_subset_loaders = dataloaders[\"val_subsets\"]\n",
    "\n",
    "hparams = {\n",
    "    \"properties\": properties\n",
    "}\n",
    "\n",
    "graph_vae_no_prop = GraphVAE.from_pretrained(\"./checkpoints/graph_vae_20240225_182115.pt\")\n",
    "model_vae_no_prop = PropertyPredictorVAEEncoder(graph_vae=graph_vae_no_prop, hparams=hparams).to(device)\n",
    "\n",
    "# train_property_predictor(\n",
    "#     model=model_vae_no_prop,\n",
    "#     train_loader=train_loader, \n",
    "#     val_subset_loaders=val_subset_loaders,\n",
    "#     epochs=1,\n",
    "#     tb_writer=writer,\n",
    "# )"
   ]
  },
  {
   "cell_type": "code",
   "execution_count": 11,
   "metadata": {},
   "outputs": [
    {
     "name": "stderr",
     "output_type": "stream",
     "text": [
      "  0%|          | 0/101 [00:00<?, ?it/s]"
     ]
    },
    {
     "name": "stderr",
     "output_type": "stream",
     "text": [
      "100%|██████████| 101/101 [00:24<00:00,  4.07it/s]"
     ]
    },
    {
     "name": "stdout",
     "output_type": "stream",
     "text": [
      "HOMO MAE = 0.32732459902763367\n",
      "LUMO MAE = 0.47747018933296204\n"
     ]
    },
    {
     "name": "stderr",
     "output_type": "stream",
     "text": [
      "\n"
     ]
    }
   ],
   "source": [
    "model_vae_no_prop.eval()\n",
    "evaluate_model_performance(validation_loader=dataloaders[\"val\"], model=model_vae_no_prop)"
   ]
  },
  {
   "cell_type": "code",
   "execution_count": 8,
   "metadata": {},
   "outputs": [],
   "source": [
    "graph_vae_prop = GraphVAE.from_pretrained(\"./checkpoints/graph_vae_20240225_185057.pt\")\n",
    "model_vae_prop = PropertyPredictorVAE(graph_vae=graph_vae_prop, hparams=hparams).to(device)\n",
    "writer = create_tensorboard_writer(experiment_name=\"property-predictor\")\n",
    "\n",
    "# train_property_predictor(\n",
    "#     model=model_vae_no_prop,\n",
    "#     train_loader=train_loader, \n",
    "#     val_subset_loaders=val_subset_loaders,\n",
    "#     epochs=1,\n",
    "#     tb_writer=writer,\n",
    "# )"
   ]
  },
  {
   "cell_type": "code",
   "execution_count": 9,
   "metadata": {},
   "outputs": [
    {
     "name": "stderr",
     "output_type": "stream",
     "text": [
      "  0%|          | 0/101 [00:00<?, ?it/s]"
     ]
    },
    {
     "name": "stderr",
     "output_type": "stream",
     "text": [
      "100%|██████████| 101/101 [01:21<00:00,  1.24it/s]\n"
     ]
    },
    {
     "name": "stdout",
     "output_type": "stream",
     "text": [
      "HOMO MAE = 0.19954803586006165\n",
      "LUMO MAE = 0.1990249752998352\n"
     ]
    }
   ],
   "source": [
    "model_vae_prop.eval()\n",
    "evaluate_model_performance(validation_loader=dataloaders[\"val\"], model=model_vae_prop)"
   ]
  },
  {
   "cell_type": "code",
   "execution_count": 10,
   "metadata": {},
   "outputs": [
    {
     "name": "stderr",
     "output_type": "stream",
     "text": [
      "Generating Molecules:   0%|          | 1/1000 [00:00<15:28,  1.08it/s][15:20:40] Explicit valence for atom # 1 C, 5, is greater than permitted\n",
      "Generating Molecules:   2%|▎         | 25/1000 [00:02<00:49, 19.53it/s][15:20:42] Explicit valence for atom # 6 C, 5, is greater than permitted\n",
      "Generating Molecules:   3%|▎         | 28/1000 [00:02<00:51, 18.82it/s][15:20:42] Explicit valence for atom # 6 N, 4, is greater than permitted\n",
      "Generating Molecules:   4%|▎         | 36/1000 [00:02<00:51, 18.88it/s][15:20:42] Explicit valence for atom # 7 C, 6, is greater than permitted\n",
      "Generating Molecules:   4%|▍         | 44/1000 [00:03<00:51, 18.39it/s][15:20:42] Explicit valence for atom # 8 O, 3, is greater than permitted\n",
      "[15:20:42] Explicit valence for atom # 6 N, 4, is greater than permitted\n",
      "Generating Molecules:   7%|▋         | 69/1000 [00:04<00:51, 17.95it/s][15:20:44] Explicit valence for atom # 1 O, 3, is greater than permitted\n",
      "Generating Molecules:   8%|▊         | 80/1000 [00:05<00:43, 21.37it/s][15:20:44] Explicit valence for atom # 7 O, 3, is greater than permitted\n",
      "Generating Molecules:  10%|▉         | 95/1000 [00:05<00:41, 22.04it/s][15:20:45] Explicit valence for atom # 1 C, 5, is greater than permitted\n",
      "Generating Molecules:  10%|█         | 103/1000 [00:05<00:36, 24.60it/s][15:20:45] Explicit valence for atom # 2 C, 5, is greater than permitted\n",
      "Generating Molecules:  11%|█         | 109/1000 [00:06<00:35, 25.10it/s][15:20:45] Explicit valence for atom # 7 C, 5, is greater than permitted\n",
      "Generating Molecules:  16%|█▌        | 156/1000 [00:08<00:31, 27.07it/s][15:20:47] Explicit valence for atom # 1 C, 6, is greater than permitted\n",
      "Generating Molecules:  16%|█▌        | 160/1000 [00:08<00:27, 30.20it/s][15:20:48] Explicit valence for atom # 2 O, 3, is greater than permitted\n",
      "[15:20:48] Explicit valence for atom # 4 C, 5, is greater than permitted\n",
      "Generating Molecules:  17%|█▋        | 168/1000 [00:08<00:31, 26.59it/s][15:20:48] Explicit valence for atom # 3 O, 3, is greater than permitted\n",
      "Generating Molecules:  18%|█▊        | 182/1000 [00:09<00:28, 28.72it/s][15:20:48] Explicit valence for atom # 6 O, 3, is greater than permitted\n",
      "Generating Molecules:  21%|██        | 209/1000 [00:10<00:36, 21.55it/s][15:20:49] Explicit valence for atom # 1 C, 5, is greater than permitted\n",
      "Generating Molecules:  22%|██▏       | 221/1000 [00:10<00:35, 21.80it/s][15:20:50] Explicit valence for atom # 7 O, 3, is greater than permitted\n",
      "Generating Molecules:  24%|██▎       | 235/1000 [00:11<00:27, 27.78it/s][15:20:50] Explicit valence for atom # 8 O, 3, is greater than permitted\n",
      "[15:20:50] Explicit valence for atom # 7 O, 3, is greater than permitted\n",
      "Generating Molecules:  25%|██▍       | 248/1000 [00:11<00:28, 26.13it/s][15:20:51] Explicit valence for atom # 7 O, 4, is greater than permitted\n",
      "Generating Molecules:  25%|██▌       | 253/1000 [00:11<00:23, 32.27it/s][15:20:51] Explicit valence for atom # 7 O, 3, is greater than permitted\n",
      "Generating Molecules:  26%|██▌       | 257/1000 [00:11<00:23, 32.20it/s][15:20:51] Explicit valence for atom # 1 C, 5, is greater than permitted\n",
      "Generating Molecules:  26%|██▋       | 265/1000 [00:12<00:23, 31.79it/s][15:20:51] Explicit valence for atom # 8 O, 3, is greater than permitted\n",
      "Generating Molecules:  28%|██▊       | 279/1000 [00:12<00:20, 34.44it/s][15:20:52] Explicit valence for atom # 2 C, 5, is greater than permitted\n",
      "Generating Molecules:  29%|██▊       | 287/1000 [00:12<00:24, 28.99it/s][15:20:52] Explicit valence for atom # 8 O, 3, is greater than permitted\n",
      "Generating Molecules:  30%|██▉       | 296/1000 [00:13<00:23, 29.73it/s][15:20:52] Explicit valence for atom # 1 C, 5, is greater than permitted\n",
      "[15:20:52] Explicit valence for atom # 5 O, 3, is greater than permitted\n",
      "Generating Molecules:  30%|███       | 304/1000 [00:13<00:22, 31.37it/s][15:20:53] Explicit valence for atom # 3 C, 5, is greater than permitted\n",
      "Generating Molecules:  31%|███       | 308/1000 [00:13<00:23, 28.88it/s][15:20:53] Explicit valence for atom # 6 O, 3, is greater than permitted\n",
      "Generating Molecules:  32%|███▏      | 323/1000 [00:14<00:21, 31.04it/s][15:20:53] Explicit valence for atom # 7 O, 3, is greater than permitted\n",
      "Generating Molecules:  34%|███▎      | 336/1000 [00:14<00:18, 35.02it/s][15:20:54] Explicit valence for atom # 1 O, 3, is greater than permitted\n",
      "Generating Molecules:  35%|███▌      | 353/1000 [00:14<00:19, 33.12it/s][15:20:54] Explicit valence for atom # 1 C, 5, is greater than permitted\n",
      "Generating Molecules:  36%|███▋      | 365/1000 [00:15<00:21, 30.09it/s][15:20:55] Explicit valence for atom # 7 O, 3, is greater than permitted\n",
      "Generating Molecules:  37%|███▋      | 369/1000 [00:15<00:20, 30.71it/s][15:20:55] Explicit valence for atom # 7 O, 4, is greater than permitted\n",
      "Generating Molecules:  37%|███▋      | 373/1000 [00:15<00:21, 29.24it/s][15:20:55] Explicit valence for atom # 1 C, 5, is greater than permitted\n",
      "Generating Molecules:  38%|███▊      | 378/1000 [00:15<00:19, 31.20it/s][15:20:55] Explicit valence for atom # 2 O, 3, is greater than permitted\n",
      "Generating Molecules:  38%|███▊      | 382/1000 [00:15<00:19, 31.96it/s][15:20:55] Explicit valence for atom # 8 O, 3, is greater than permitted\n",
      "Generating Molecules:  39%|███▉      | 390/1000 [00:16<00:19, 31.10it/s][15:20:55] Explicit valence for atom # 1 C, 5, is greater than permitted\n",
      "Generating Molecules:  40%|███▉      | 395/1000 [00:16<00:18, 32.72it/s][15:20:55] Explicit valence for atom # 4 O, 3, is greater than permitted\n",
      "Generating Molecules:  40%|████      | 405/1000 [00:16<00:17, 34.19it/s][15:20:56] Explicit valence for atom # 4 O, 3, is greater than permitted\n",
      "Generating Molecules:  42%|████▏     | 420/1000 [00:17<00:22, 25.93it/s][15:20:56] Explicit valence for atom # 1 C, 5, is greater than permitted\n",
      "Generating Molecules:  43%|████▎     | 431/1000 [00:17<00:19, 28.73it/s][15:20:57] Explicit valence for atom # 7 O, 3, is greater than permitted\n",
      "Generating Molecules:  44%|████▎     | 435/1000 [00:17<00:19, 28.72it/s][15:20:57] Explicit valence for atom # 5 C, 5, is greater than permitted\n",
      "Generating Molecules:  44%|████▍     | 445/1000 [00:18<00:21, 25.95it/s][15:20:57] Explicit valence for atom # 1 C, 5, is greater than permitted\n",
      "Generating Molecules:  46%|████▌     | 455/1000 [00:18<00:22, 23.95it/s][15:20:58] Explicit valence for atom # 8 O, 3, is greater than permitted\n",
      "Generating Molecules:  46%|████▌     | 458/1000 [00:18<00:22, 24.33it/s][15:20:58] Explicit valence for atom # 2 O, 3, is greater than permitted\n",
      "Generating Molecules:  47%|████▋     | 470/1000 [00:19<00:22, 23.29it/s][15:20:58] Explicit valence for atom # 1 C, 5, is greater than permitted\n",
      "Generating Molecules:  49%|████▊     | 487/1000 [00:19<00:18, 27.27it/s][15:20:59] Explicit valence for atom # 7 O, 3, is greater than permitted\n",
      "Generating Molecules:  51%|█████     | 512/1000 [00:20<00:16, 29.65it/s][15:21:00] Explicit valence for atom # 5 O, 3, is greater than permitted\n",
      "Generating Molecules:  54%|█████▍    | 539/1000 [00:21<00:17, 25.64it/s][15:21:01] Explicit valence for atom # 6 C, 6, is greater than permitted\n",
      "Generating Molecules:  55%|█████▍    | 548/1000 [00:22<00:18, 24.42it/s][15:21:01] Explicit valence for atom # 1 O, 3, is greater than permitted\n",
      "Generating Molecules:  57%|█████▋    | 573/1000 [00:23<00:15, 27.71it/s][15:21:02] Explicit valence for atom # 7 O, 3, is greater than permitted\n",
      "[15:21:02] Explicit valence for atom # 7 F, 2, is greater than permitted\n",
      "Generating Molecules:  58%|█████▊    | 581/1000 [00:23<00:14, 28.14it/s][15:21:02] Explicit valence for atom # 2 O, 3, is greater than permitted\n",
      "Generating Molecules:  59%|█████▊    | 587/1000 [00:23<00:16, 24.86it/s][15:21:03] Explicit valence for atom # 2 C, 5, is greater than permitted\n",
      "[15:21:03] Explicit valence for atom # 5 N, 4, is greater than permitted\n",
      "Generating Molecules:  59%|█████▉    | 593/1000 [00:23<00:18, 22.60it/s][15:21:03] Explicit valence for atom # 2 O, 3, is greater than permitted\n",
      "Generating Molecules:  60%|██████    | 603/1000 [00:24<00:17, 22.20it/s][15:21:04] Explicit valence for atom # 8 O, 3, is greater than permitted\n",
      "Generating Molecules:  61%|██████▏   | 613/1000 [00:24<00:14, 26.25it/s][15:21:04] Explicit valence for atom # 8 N, 4, is greater than permitted\n",
      "Generating Molecules:  62%|██████▏   | 616/1000 [00:24<00:16, 23.23it/s][15:21:04] Explicit valence for atom # 2 O, 3, is greater than permitted\n",
      "[15:21:04] Explicit valence for atom # 8 O, 3, is greater than permitted\n",
      "Generating Molecules:  62%|██████▏   | 620/1000 [00:25<00:14, 26.82it/s][15:21:04] Explicit valence for atom # 0 O, 3, is greater than permitted\n",
      "Generating Molecules:  63%|██████▎   | 632/1000 [00:25<00:16, 22.80it/s][15:21:05] Explicit valence for atom # 6 O, 3, is greater than permitted\n",
      "Generating Molecules:  65%|██████▌   | 651/1000 [00:26<00:17, 19.82it/s][15:21:06] Explicit valence for atom # 2 O, 3, is greater than permitted\n",
      "Generating Molecules:  66%|██████▌   | 656/1000 [00:26<00:14, 23.32it/s][15:21:06] Explicit valence for atom # 7 O, 4, is greater than permitted\n",
      "Generating Molecules:  66%|██████▌   | 662/1000 [00:27<00:17, 19.69it/s][15:21:06] Explicit valence for atom # 3 C, 5, is greater than permitted\n",
      "Generating Molecules:  67%|██████▋   | 673/1000 [00:27<00:13, 25.03it/s][15:21:07] Explicit valence for atom # 2 O, 3, is greater than permitted\n",
      "Generating Molecules:  69%|██████▉   | 689/1000 [00:27<00:09, 31.19it/s][15:21:07] Explicit valence for atom # 6 O, 3, is greater than permitted\n",
      "Generating Molecules:  70%|██████▉   | 698/1000 [00:28<00:08, 34.18it/s][15:21:07] Explicit valence for atom # 3 O, 3, is greater than permitted\n",
      "Generating Molecules:  71%|███████   | 706/1000 [00:28<00:08, 33.08it/s][15:21:08] Explicit valence for atom # 5 O, 3, is greater than permitted\n",
      "[15:21:08] Explicit valence for atom # 1 C, 5, is greater than permitted\n",
      "Generating Molecules:  71%|███████   | 711/1000 [00:28<00:07, 36.56it/s][15:21:08] Explicit valence for atom # 3 O, 3, is greater than permitted\n",
      "Generating Molecules:  73%|███████▎  | 727/1000 [00:29<00:09, 29.83it/s][15:21:08] Explicit valence for atom # 5 O, 3, is greater than permitted\n",
      "[15:21:08] Explicit valence for atom # 7 O, 3, is greater than permitted\n",
      "Generating Molecules:  73%|███████▎  | 731/1000 [00:29<00:08, 30.19it/s][15:21:08] Explicit valence for atom # 4 N, 4, is greater than permitted\n",
      "Generating Molecules:  74%|███████▎  | 735/1000 [00:29<00:08, 29.85it/s][15:21:09] Explicit valence for atom # 6 O, 4, is greater than permitted\n",
      "Generating Molecules:  76%|███████▌  | 756/1000 [00:30<00:08, 30.11it/s][15:21:09] Explicit valence for atom # 8 O, 3, is greater than permitted\n",
      "Generating Molecules:  76%|███████▋  | 764/1000 [00:30<00:07, 30.74it/s][15:21:09] Explicit valence for atom # 7 O, 4, is greater than permitted\n",
      "Generating Molecules:  77%|███████▋  | 770/1000 [00:30<00:06, 36.86it/s][15:21:09] Explicit valence for atom # 1 C, 5, is greater than permitted\n",
      "Generating Molecules:  79%|███████▉  | 793/1000 [00:31<00:05, 34.77it/s][15:21:10] Explicit valence for atom # 8 O, 3, is greater than permitted\n",
      "[15:21:10] Explicit valence for atom # 5 O, 3, is greater than permitted\n",
      "Generating Molecules:  80%|████████  | 805/1000 [00:31<00:06, 32.44it/s][15:21:11] Explicit valence for atom # 0 O, 3, is greater than permitted\n",
      "[15:21:11] Explicit valence for atom # 5 N, 4, is greater than permitted\n",
      "Generating Molecules:  81%|████████  | 810/1000 [00:31<00:05, 34.41it/s][15:21:11] Explicit valence for atom # 8 O, 4, is greater than permitted\n",
      "Generating Molecules:  83%|████████▎ | 828/1000 [00:32<00:06, 25.09it/s][15:21:12] Explicit valence for atom # 5 O, 3, is greater than permitted\n",
      "Generating Molecules:  83%|████████▎ | 831/1000 [00:32<00:07, 22.94it/s][15:21:12] Explicit valence for atom # 3 C, 5, is greater than permitted\n",
      "Generating Molecules:  84%|████████▎ | 835/1000 [00:32<00:06, 24.86it/s][15:21:12] Explicit valence for atom # 5 O, 3, is greater than permitted\n",
      "Generating Molecules:  84%|████████▍ | 844/1000 [00:32<00:06, 25.12it/s][15:21:12] Explicit valence for atom # 3 C, 5, is greater than permitted\n",
      "Generating Molecules:  85%|████████▍ | 848/1000 [00:33<00:05, 28.08it/s][15:21:12] Explicit valence for atom # 8 O, 3, is greater than permitted\n",
      "Generating Molecules:  85%|████████▌ | 852/1000 [00:33<00:04, 30.06it/s][15:21:12] Explicit valence for atom # 1 C, 5, is greater than permitted\n",
      "Generating Molecules:  86%|████████▋ | 863/1000 [00:33<00:05, 26.63it/s][15:21:13] Explicit valence for atom # 1 C, 5, is greater than permitted\n",
      "Generating Molecules:  87%|████████▋ | 868/1000 [00:33<00:04, 29.05it/s][15:21:13] Explicit valence for atom # 7 N, 4, is greater than permitted\n",
      "[15:21:13] Explicit valence for atom # 6 C, 5, is greater than permitted\n",
      "Generating Molecules:  88%|████████▊ | 884/1000 [00:34<00:04, 26.35it/s][15:21:13] Explicit valence for atom # 7 N, 4, is greater than permitted\n",
      "[15:21:14] Explicit valence for atom # 8 O, 3, is greater than permitted\n",
      "Generating Molecules:  90%|████████▉ | 895/1000 [00:34<00:03, 29.31it/s][15:21:14] Explicit valence for atom # 3 C, 5, is greater than permitted\n",
      "Generating Molecules:  90%|█████████ | 902/1000 [00:34<00:03, 31.67it/s][15:21:14] Explicit valence for atom # 3 O, 3, is greater than permitted\n",
      "[15:21:14] Explicit valence for atom # 1 C, 5, is greater than permitted\n",
      "Generating Molecules:  92%|█████████▏| 916/1000 [00:35<00:03, 21.45it/s][15:21:15] Explicit valence for atom # 6 O, 4, is greater than permitted\n",
      "Generating Molecules:  92%|█████████▏| 922/1000 [00:35<00:02, 28.81it/s][15:21:15] Explicit valence for atom # 5 O, 3, is greater than permitted\n",
      "Generating Molecules:  93%|█████████▎| 926/1000 [00:35<00:02, 29.79it/s][15:21:15] Explicit valence for atom # 7 C, 6, is greater than permitted\n",
      "Generating Molecules:  93%|█████████▎| 930/1000 [00:36<00:02, 27.83it/s][15:21:15] Explicit valence for atom # 2 O, 3, is greater than permitted\n",
      "[15:21:15] Explicit valence for atom # 5 O, 3, is greater than permitted\n",
      "Generating Molecules:  95%|█████████▌| 951/1000 [00:36<00:01, 25.86it/s][15:21:16] Explicit valence for atom # 3 O, 3, is greater than permitted\n",
      "Generating Molecules:  97%|█████████▋| 967/1000 [00:37<00:00, 33.36it/s][15:21:17] Explicit valence for atom # 6 C, 5, is greater than permitted\n",
      "Generating Molecules:  97%|█████████▋| 971/1000 [00:37<00:00, 31.07it/s][15:21:17] Explicit valence for atom # 7 C, 5, is greater than permitted\n",
      "Generating Molecules:  98%|█████████▊| 979/1000 [00:37<00:00, 30.99it/s][15:21:17] Explicit valence for atom # 7 C, 5, is greater than permitted\n",
      "Generating Molecules: 100%|█████████▉| 996/1000 [00:38<00:00, 17.68it/s][15:21:18] Explicit valence for atom # 1 N, 4, is greater than permitted\n",
      "Generating Molecules: 100%|██████████| 1000/1000 [00:38<00:00, 25.66it/s]\n"
     ]
    }
   ],
   "source": [
    "import torch_geometric.utils as pyg_utils\n",
    "import networkx as nx\n",
    "\n",
    "num_samples = 1000\n",
    "max_decode_attempts = 1\n",
    "total_decode_attempts = 0\n",
    "num_connected_graphs = 0\n",
    "num_valid_mols = 0\n",
    "generated_mol_smiles = set()\n",
    "\n",
    "z, x = graph_vae_prop.sample(num_samples=num_samples, device=device)\n",
    "for i in tqdm(range(num_samples), \"Generating Molecules\"):\n",
    "    sample_matrices = (x[0][i:i+1], x[1][i:i+1], x[2][i:i+1])\n",
    "\n",
    "    # attempt to decode multiply time until we have both a connected graph and a valid molecule\n",
    "    for _ in range(max_decode_attempts):\n",
    "        sample_graph = graph_vae_prop.output_to_graph(x=sample_matrices, stochastic=False)\n",
    "        total_decode_attempts += 1\n",
    "\n",
    "        # check if the generated graph is connected\n",
    "        if nx.is_connected(pyg_utils.to_networkx(sample_graph, to_undirected=True)):\n",
    "            num_connected_graphs += 1\n",
    "        else:\n",
    "            # graph is not connected; try to decode again\n",
    "            continue\n",
    "    \n",
    "        try:\n",
    "            mol = graph_to_mol(data=sample_graph, includes_h=include_hydrogen, validate=True)\n",
    "        except Exception as e:\n",
    "            # Molecule is invalid; try to decode again\n",
    "            continue\n",
    "\n",
    "        # Molecule is valid\n",
    "        num_valid_mols += 1\n",
    "        smiles = Chem.MolToSmiles(mol)\n",
    "        if smiles not in generated_mol_smiles:\n",
    "            writer.add_image('Generated', mol_to_image_tensor(mol=mol), global_step=i, dataformats=\"NCHW\")\n",
    "            generated_mol_smiles.add(Chem.MolToSmiles(mol))\n",
    "        break"
   ]
  },
  {
   "cell_type": "code",
   "execution_count": 20,
   "metadata": {},
   "outputs": [],
   "source": [
    "z.requires_grad_(True)\n",
    "optimizer = torch.optim.Adam([z], lr=1e-2)"
   ]
  },
  {
   "cell_type": "code",
   "execution_count": 21,
   "metadata": {},
   "outputs": [
    {
     "name": "stderr",
     "output_type": "stream",
     "text": [
      "  0%|          | 22/10000 [00:00<00:46, 215.10it/s]"
     ]
    },
    {
     "name": "stderr",
     "output_type": "stream",
     "text": [
      "100%|██████████| 10000/10000 [00:41<00:00, 241.22it/s]"
     ]
    },
    {
     "name": "stdout",
     "output_type": "stream",
     "text": [
      "tensor(11.5145, device='cuda:0', grad_fn=<MeanBackward0>)\n"
     ]
    },
    {
     "name": "stderr",
     "output_type": "stream",
     "text": [
      "\n"
     ]
    }
   ],
   "source": [
    "for i in tqdm(range(10000)):\n",
    "    properties_predicted = graph_vae_prop.predict_properties(z)\n",
    "    # reduce homo-lumo gap\n",
    "    loss = ((properties_predicted[:, 0] - properties_predicted[:, 1]) ** 2).mean()\n",
    "    loss.backward()\n",
    "    optimizer.step()\n",
    "\n",
    "print(loss)"
   ]
  },
  {
   "cell_type": "code",
   "execution_count": 19,
   "metadata": {},
   "outputs": [
    {
     "name": "stderr",
     "output_type": "stream",
     "text": [
      "Generating Molecules:   0%|          | 0/1000 [00:00<?, ?it/s]"
     ]
    },
    {
     "name": "stderr",
     "output_type": "stream",
     "text": [
      "Generating Molecules:  16%|█▋        | 165/1000 [00:01<00:07, 110.70it/s][15:31:43] Explicit valence for atom # 2 O, 3, is greater than permitted\n",
      "Generating Molecules:  18%|█▊        | 182/1000 [00:01<00:06, 125.44it/s][15:31:44] Explicit valence for atom # 4 O, 3, is greater than permitted\n",
      "Generating Molecules:  24%|██▍       | 239/1000 [00:02<00:07, 100.85it/s][15:31:44] Explicit valence for atom # 4 O, 3, is greater than permitted\n",
      "Generating Molecules:  29%|██▉       | 293/1000 [00:03<00:07, 100.79it/s][15:31:45] Explicit valence for atom # 4 O, 3, is greater than permitted\n",
      "Generating Molecules:  38%|███▊      | 375/1000 [00:03<00:05, 107.09it/s][15:31:45] Explicit valence for atom # 4 O, 3, is greater than permitted\n",
      "Generating Molecules:  48%|████▊     | 475/1000 [00:04<00:05, 89.88it/s] [15:31:46] Explicit valence for atom # 4 C, 5, is greater than permitted\n",
      "Generating Molecules:  61%|██████    | 608/1000 [00:05<00:03, 114.99it/s][15:31:48] Explicit valence for atom # 7 N, 4, is greater than permitted\n",
      "Generating Molecules:  62%|██████▏   | 620/1000 [00:06<00:04, 90.72it/s] [15:31:48] Explicit valence for atom # 4 N, 4, is greater than permitted\n",
      "Generating Molecules:  70%|███████   | 705/1000 [00:07<00:03, 83.99it/s][15:31:49] Explicit valence for atom # 6 O, 3, is greater than permitted\n",
      "Generating Molecules:  82%|████████▎ | 825/1000 [00:08<00:02, 81.88it/s][15:31:51] Explicit valence for atom # 5 N, 4, is greater than permitted\n",
      "Generating Molecules:  98%|█████████▊| 983/1000 [00:10<00:00, 93.02it/s][15:31:52] Explicit valence for atom # 1 N, 4, is greater than permitted\n",
      "Generating Molecules: 100%|██████████| 1000/1000 [00:10<00:00, 91.02it/s]\n"
     ]
    }
   ],
   "source": [
    "num_samples = 1000\n",
    "max_decode_attempts = 1\n",
    "total_decode_attempts = 0\n",
    "num_connected_graphs = 0\n",
    "num_valid_mols = 0\n",
    "generated_mol_smiles = set()\n",
    "\n",
    "z = z.detach()\n",
    "x = graph_vae_prop.decode(z)\n",
    "for i in tqdm(range(num_samples), \"Generating Molecules\"):\n",
    "    sample_matrices = (x[0][i:i+1], x[1][i:i+1], x[2][i:i+1])\n",
    "\n",
    "    # attempt to decode multiply time until we have both a connected graph and a valid molecule\n",
    "    for _ in range(max_decode_attempts):\n",
    "        sample_graph = graph_vae_prop.output_to_graph(x=sample_matrices, stochastic=False)\n",
    "        total_decode_attempts += 1\n",
    "\n",
    "        # check if the generated graph is connected\n",
    "        if nx.is_connected(pyg_utils.to_networkx(sample_graph, to_undirected=True)):\n",
    "            num_connected_graphs += 1\n",
    "        else:\n",
    "            # graph is not connected; try to decode again\n",
    "            continue\n",
    "    \n",
    "        try:\n",
    "            mol = graph_to_mol(data=sample_graph, includes_h=include_hydrogen, validate=True)\n",
    "        except Exception as e:\n",
    "            # Molecule is invalid; try to decode again\n",
    "            continue\n",
    "\n",
    "        # Molecule is valid\n",
    "        num_valid_mols += 1\n",
    "        smiles = Chem.MolToSmiles(mol)\n",
    "        if smiles not in generated_mol_smiles:\n",
    "            writer.add_image('Generated Optimized 20000', mol_to_image_tensor(mol=mol), global_step=i, dataformats=\"NCHW\")\n",
    "            generated_mol_smiles.add(Chem.MolToSmiles(mol))\n",
    "        break"
   ]
  }
 ],
 "metadata": {
  "kernelspec": {
   "display_name": "idp",
   "language": "python",
   "name": "python3"
  },
  "language_info": {
   "codemirror_mode": {
    "name": "ipython",
    "version": 3
   },
   "file_extension": ".py",
   "mimetype": "text/x-python",
   "name": "python",
   "nbconvert_exporter": "python",
   "pygments_lexer": "ipython3",
   "version": "3.11.5"
  }
 },
 "nbformat": 4,
 "nbformat_minor": 2
}
