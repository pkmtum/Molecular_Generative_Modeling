{
 "cells": [
  {
   "cell_type": "code",
   "execution_count": 1,
   "metadata": {},
   "outputs": [],
   "source": [
    "%load_ext autoreload\n",
    "%autoreload 2\n",
    "\n",
    "from typing import List, Dict, Any\n",
    "import itertools\n",
    "import random\n",
    "from tqdm import tqdm\n",
    "\n",
    "import torch\n",
    "import torch.nn as nn\n",
    "import torch.nn.functional as F\n",
    "from torch_geometric.datasets import QM9\n",
    "from torch_geometric.data import Data\n",
    "import torch_geometric.transforms as T\n",
    "from torch_geometric.loader import DataLoader\n",
    "from torch_geometric.nn import GCNConv, global_mean_pool\n",
    "from torch_geometric.utils import to_dense_adj, dense_to_sparse, remove_self_loops\n",
    "from data_utils import *"
   ]
  },
  {
   "cell_type": "code",
   "execution_count": 2,
   "metadata": {},
   "outputs": [],
   "source": [
    "device = torch.device('cuda' if torch.cuda.is_available() else 'cpu')\n",
    "\n",
    "max_num_nodes = 29\n",
    "\n",
    "# TODO: pre-transform and store matrices to disk\n",
    "transform = T.Compose([\n",
    "    SelectQM9TargetProperties(properties=[\"homo\", \"lumo\"]),\n",
    "    SelectQM9NodeFeatures(features=[\"atom_type\"]),\n",
    "    AddAdjacencyMatrix(max_num_nodes=max_num_nodes),\n",
    "    AddNodeAttributeMatrix(max_num_nodes=max_num_nodes),\n",
    "    T.ToDevice(device=device)\n",
    "])\n",
    "\n",
    "dataset = QM9(root=\"./data\", transform=transform)\n",
    "\n",
    "train_dataset, val_dataset, test_dataset = create_qm9_data_split(dataset=dataset)\n",
    "\n",
    "num_node_features = dataset.num_node_features\n",
    "num_edge_features = dataset.num_edge_features"
   ]
  },
  {
   "cell_type": "code",
   "execution_count": 3,
   "metadata": {},
   "outputs": [],
   "source": [
    "class Encoder(nn.Module):\n",
    "\n",
    "    def __init__(self, hparams: Dict[str, Any]) -> None:\n",
    "        super().__init__()\n",
    "\n",
    "        # TODO: two graph convolutional layers (32 and 64 channeles) with identity connection (edge conditioned graph convolution)\n",
    "        self.conv1 = GCNConv(in_channels=hparams[\"num_node_features\"], out_channels=32)\n",
    "        self.conv2 = GCNConv(in_channels=32, out_channels=64)\n",
    "        self.fc = nn.Linear(in_features=64, out_features=128)\n",
    "\n",
    "    def forward(self, data: Data):\n",
    "        x, edge_index, batch, edge_attr = data.x, data.edge_index, data.batch, data.edge_attr\n",
    "\n",
    "        x = self.conv1(x, edge_index)\n",
    "        x = F.relu(x)\n",
    "        x = self.conv2(x, edge_index)\n",
    "        x = global_mean_pool(x, batch)\n",
    "        x = self.fc(x)\n",
    "        return x\n",
    "    \n",
    "class Decoder(nn.Module):\n",
    "\n",
    "    def __init__(self, hparams: Dict[str, Any]) -> None:\n",
    "        super().__init__()\n",
    "\n",
    "        self.fcls = nn.Sequential(\n",
    "            nn.Linear(in_features=128, out_features=128),\n",
    "            nn.BatchNorm1d(num_features=128),\n",
    "            nn.ReLU(),\n",
    "            nn.Linear(in_features=128, out_features=256),\n",
    "            nn.BatchNorm1d(num_features=256),\n",
    "            nn.ReLU(),\n",
    "            nn.Linear(in_features=256, out_features=512),\n",
    "            nn.BatchNorm1d(num_features=512),\n",
    "            nn.ReLU(),\n",
    "        )\n",
    "\n",
    "        self.max_num_nodes = hparams[\"max_num_nodes\"]\n",
    "        self.num_node_features = hparams[\"num_node_features\"]\n",
    "\n",
    "        # the atom graph is symmetric so we only predict the upper triangular part\n",
    "        upper_triangular_size = int(self.max_num_nodes * (self.max_num_nodes + 1) / 2)\n",
    "        self.fc_adjacency = nn.Linear(in_features=512, out_features=upper_triangular_size)\n",
    "\n",
    "        self.fc_node_features = nn.Linear(in_features=512, out_features=self.max_num_nodes * hparams[\"num_node_features\"])\n",
    "        self.fc_edge_features = nn.Linear(in_features=512, out_features=self.max_num_nodes * hparams[\"num_edge_features\"])\n",
    "        \n",
    "\n",
    "    def forward(self, z: torch.Tensor) -> Tuple[torch.Tensor, torch.Tensor, torch.Tensor]:\n",
    "        x = self.fcls(z)\n",
    "        # predict upper triangular matrix including the diagonal\n",
    "        adj_triu_matrix = self.fc_adjacency(x)\n",
    "        node_features = self.fc_node_features(x)\n",
    "        edge_features = self.fc_edge_features(x)\n",
    "\n",
    "        # reshape matrices\n",
    "        node_features = node_features.view(-1, self.max_num_nodes, self.num_node_features)\n",
    "\n",
    "        return adj_triu_matrix, node_features, edge_features\n",
    "\n",
    "\n",
    "class GraphVAE(nn.Module):\n",
    "\n",
    "    def __init__(self, hparams: Dict[str, Any]) -> None:\n",
    "        super().__init__()\n",
    "\n",
    "        self.encoder = Encoder(hparams=hparams)\n",
    "        self.decoder = Decoder(hparams=hparams)\n",
    "\n",
    "    def forward(self, data) -> Tuple[torch.Tensor, torch.Tensor, torch.Tensor]:\n",
    "        z = self.encoder(data)\n",
    "        x = self.decoder(z)\n",
    "        return x\n",
    "    \n",
    "    def reconstruction_loss(\n",
    "        self, \n",
    "        input: Tuple[torch.Tensor, torch.Tensor, torch.Tensor], \n",
    "        target: Tuple[torch.Tensor, torch.Tensor, torch.Tensor]\n",
    "    ):\n",
    "        input_adj_triu_mat, input_node_features, _ = input\n",
    "        target_adj_triu_mat, target_node_features, _ = target\n",
    "\n",
    "        # TODO: average over separately over diagonal and off-diagonal elements\n",
    "        adjacency_loss = F.binary_cross_entropy_with_logits(input=input_adj_triu_mat, target=target_adj_triu_mat)\n",
    "\n",
    "        node_logits = input_node_features.view(-1, input_node_features.size(-1))\n",
    "        node_targets = target_node_features.argmax(dim=2).view(-1)\n",
    "        node_feature_loss = F.cross_entropy(input=node_logits, target=node_targets)\n",
    "\n",
    "        return adjacency_loss + node_feature_loss\n"
   ]
  },
  {
   "cell_type": "code",
   "execution_count": 20,
   "metadata": {},
   "outputs": [],
   "source": [
    "hparams = {\n",
    "    \"batch_size\": 32,\n",
    "    \"max_num_nodes\": max_num_nodes,\n",
    "    \"learning_rate\": 1e-3,\n",
    "    \"beta_1\": 0.5,\n",
    "    \"epochs\": 100,\n",
    "    \"num_node_features\": num_node_features,\n",
    "    \"num_edge_features\": num_edge_features\n",
    "}\n",
    "\n",
    "# TODO: plot reconstruction\n",
    "# TODO: implement reconstruction loss adjacency\n",
    "# TODO: implement reconstruction loss node features\n",
    "# TODO: implement reconstruction loss edge features\n",
    "\n",
    "# TODO: filter chemically invalid mols from QM9 dataset\n",
    "# TODO: add kl-loss\n",
    "# TODO: implement encoder from the paper\n",
    "# TODO: graph matching\n",
    "\n",
    "batch_size = hparams[\"batch_size\"]\n",
    "dataloaders = {\n",
    "    \"train_single\": DataLoader(train_dataset[:1], batch_size=batch_size, shuffle=True),\n",
    "    \"train_tiny\": DataLoader(train_dataset[:batch_size], batch_size=batch_size, shuffle=True),\n",
    "    \"train_small\": DataLoader(train_dataset[:4096], batch_size=batch_size, shuffle=True),\n",
    "    \"train\": DataLoader(train_dataset, batch_size=batch_size, shuffle=True),\n",
    "\n",
    "    \"val\": DataLoader(val_dataset, batch_size=batch_size, shuffle=False)\n",
    "}\n",
    "\n",
    "val_subset_count = 32\n",
    "dataloaders[\"val_subsets\"] = create_validation_subset_loaders(validation_dataset=val_dataset, subset_count=32, batch_size=batch_size)"
   ]
  },
  {
   "cell_type": "code",
   "execution_count": 30,
   "metadata": {},
   "outputs": [
    {
     "name": "stderr",
     "output_type": "stream",
     "text": [
      "Epoch 1 Training:   0%|          | 0/1 [00:00<?, ?it/s]"
     ]
    },
    {
     "name": "stderr",
     "output_type": "stream",
     "text": [
      "Epoch 1 Training: 100%|██████████| 1/1 [00:00<00:00,  3.28it/s]\n"
     ]
    },
    {
     "name": "stdout",
     "output_type": "stream",
     "text": [
      "Data(x=[18, 5], edge_index=[2, 38], edge_attr=[38, 4], y=[1, 2], pos=[18, 3], z=[18], smiles='[H]C(=O)[C@]1([H])[N@@H+]2C([H])([H])[C@]([H])(OC([H])([H])[H])[C@@]21[H]', name='gdb_114376', idx=[1], adj_triu_mat=[1, 435], node_mat=[1, 29, 5])\n",
      "Data(x=[12, 5], edge_index=[2, 58])\n"
     ]
    },
    {
     "name": "stderr",
     "output_type": "stream",
     "text": [
      "Epoch 2 Training: 100%|██████████| 1/1 [00:00<00:00, 37.17it/s]\n"
     ]
    },
    {
     "name": "stdout",
     "output_type": "stream",
     "text": [
      "Data(x=[15, 5], edge_index=[2, 30], edge_attr=[30, 4], y=[1, 2], pos=[15, 3], z=[15], smiles='[H]C#C[C@@]1([H])[NH2+]C(C([H])([H])[H])OC1([H])[H]', name='gdb_11226', idx=[1], adj_triu_mat=[1, 435], node_mat=[1, 29, 5])\n",
      "Data(x=[13, 4], edge_index=[2, 38])\n"
     ]
    },
    {
     "name": "stderr",
     "output_type": "stream",
     "text": [
      "Epoch 3 Training: 100%|██████████| 1/1 [00:00<00:00, 35.48it/s]\n"
     ]
    },
    {
     "name": "stdout",
     "output_type": "stream",
     "text": [
      "Data(x=[18, 5], edge_index=[2, 38], edge_attr=[38, 4], y=[1, 2], pos=[18, 3], z=[18], smiles='[H]C1=C([H])[C@@]2([H])C([H])([H])[C@@]2([H])OC([H])([H])C1([H])[H]', name='gdb_18391', idx=[1], adj_triu_mat=[1, 435], node_mat=[1, 29, 5])\n",
      "Data(x=[14, 2], edge_index=[2, 32])\n"
     ]
    },
    {
     "name": "stderr",
     "output_type": "stream",
     "text": [
      "Epoch 4 Training: 100%|██████████| 1/1 [00:00<00:00, 36.23it/s]\n"
     ]
    },
    {
     "name": "stdout",
     "output_type": "stream",
     "text": [
      "Data(x=[19, 5], edge_index=[2, 40], edge_attr=[40, 4], y=[1, 2], pos=[19, 3], z=[19], smiles='[H]/C1=N/C([H])([H])C([H])([H])[N@H+]2C([H])([H])[C@@]2([H])C([H])([H])O1', name='gdb_39380', idx=[1], adj_triu_mat=[1, 435], node_mat=[1, 29, 5])\n",
      "Data(x=[17, 2], edge_index=[2, 24])\n"
     ]
    },
    {
     "name": "stderr",
     "output_type": "stream",
     "text": [
      "Epoch 5 Training: 100%|██████████| 1/1 [00:00<00:00, 36.91it/s]\n"
     ]
    },
    {
     "name": "stdout",
     "output_type": "stream",
     "text": [
      "Data(x=[23, 5], edge_index=[2, 50], edge_attr=[50, 4], y=[1, 2], pos=[23, 3], z=[23], smiles='[H]C([H])([H])[C@@]1([H])C([H])([H])[C@@]12C([H])([H])[C@@]1(C([H])([H])[H])C([H])([H])[C@]12[H]', name='gdb_87768', idx=[1], adj_triu_mat=[1, 435], node_mat=[1, 29, 5])\n",
      "Data(x=[18, 2], edge_index=[2, 24])\n"
     ]
    },
    {
     "name": "stderr",
     "output_type": "stream",
     "text": [
      "Epoch 6 Training: 100%|██████████| 1/1 [00:00<00:00, 36.48it/s]\n"
     ]
    },
    {
     "name": "stdout",
     "output_type": "stream",
     "text": [
      "Data(x=[21, 5], edge_index=[2, 42], edge_attr=[42, 4], y=[1, 2], pos=[21, 3], z=[21], smiles='[H]O[C@]1([H])[C@]([H])(O[H])C([H])([H])C([H])=C([H])[C@]1([H])C([H])([H])[H]', name='gdb_92903', idx=[1], adj_triu_mat=[1, 435], node_mat=[1, 29, 5])\n",
      "Data(x=[18, 2], edge_index=[2, 22])\n"
     ]
    },
    {
     "name": "stderr",
     "output_type": "stream",
     "text": [
      "Epoch 7 Training: 100%|██████████| 1/1 [00:00<00:00, 37.37it/s]\n"
     ]
    },
    {
     "name": "stdout",
     "output_type": "stream",
     "text": [
      "Data(x=[23, 5], edge_index=[2, 48], edge_attr=[48, 4], y=[1, 2], pos=[23, 3], z=[23], smiles='[H]C1=C(C([H])([H])[H])[C@@]([H])(C([H])([H])[H])[C@]2([H])C([H])([H])[C@@]1([H])C2([H])[H]', name='gdb_80651', idx=[1], adj_triu_mat=[1, 435], node_mat=[1, 29, 5])\n",
      "Data(x=[18, 2], edge_index=[2, 22])\n"
     ]
    },
    {
     "name": "stderr",
     "output_type": "stream",
     "text": [
      "Epoch 8 Training: 100%|██████████| 1/1 [00:00<00:00, 24.61it/s]\n"
     ]
    },
    {
     "name": "stdout",
     "output_type": "stream",
     "text": [
      "Data(x=[17, 5], edge_index=[2, 32], edge_attr=[32, 4], y=[1, 2], pos=[17, 3], z=[17], smiles='[H]/N=C(/OC([H])([H])C([H])([H])O[H])N([H])C([H])=O', name='gdb_121723', idx=[1], adj_triu_mat=[1, 435], node_mat=[1, 29, 5])\n",
      "Data(x=[18, 2], edge_index=[2, 22])\n"
     ]
    },
    {
     "name": "stderr",
     "output_type": "stream",
     "text": [
      "Epoch 9 Training: 100%|██████████| 1/1 [00:00<00:00, 36.30it/s]\n"
     ]
    },
    {
     "name": "stdout",
     "output_type": "stream",
     "text": [
      "Data(x=[16, 5], edge_index=[2, 32], edge_attr=[32, 4], y=[1, 2], pos=[16, 3], z=[16], smiles='[H]C#CC#C[C@@]1(C([H])([H])O[H])N([H])C1([H])[H]', name='gdb_104944', idx=[1], adj_triu_mat=[1, 435], node_mat=[1, 29, 5])\n",
      "Data(x=[18, 2], edge_index=[2, 24])\n"
     ]
    },
    {
     "name": "stderr",
     "output_type": "stream",
     "text": [
      "Epoch 10 Training: 100%|██████████| 1/1 [00:00<00:00, 37.72it/s]"
     ]
    },
    {
     "name": "stdout",
     "output_type": "stream",
     "text": [
      "Data(x=[19, 5], edge_index=[2, 40], edge_attr=[40, 4], y=[1, 2], pos=[19, 3], z=[19], smiles='[H]OC([H])([H])[C@@]1(C([H])([H])[H])[N@@H+]2C([H])([H])[C@]2([H])C1([H])[H]', name='gdb_12062', idx=[1], adj_triu_mat=[1, 435], node_mat=[1, 29, 5])\n",
      "Data(x=[18, 2], edge_index=[2, 24])\n"
     ]
    },
    {
     "name": "stderr",
     "output_type": "stream",
     "text": [
      "\n",
      "Epoch 11 Training: 100%|██████████| 1/1 [00:00<00:00, 37.31it/s]\n"
     ]
    },
    {
     "name": "stdout",
     "output_type": "stream",
     "text": [
      "Data(x=[16, 5], edge_index=[2, 32], edge_attr=[32, 4], y=[1, 2], pos=[16, 3], z=[16], smiles='[H]C1=C(C#CC([H])([H])[H])C(N([H])[H])=C([H])O1', name='gdb_25701', idx=[1], adj_triu_mat=[1, 435], node_mat=[1, 29, 5])\n",
      "Data(x=[18, 2], edge_index=[2, 24])\n"
     ]
    },
    {
     "name": "stderr",
     "output_type": "stream",
     "text": [
      "Epoch 12 Training: 100%|██████████| 1/1 [00:00<00:00, 37.73it/s]\n"
     ]
    },
    {
     "name": "stdout",
     "output_type": "stream",
     "text": [
      "Data(x=[16, 5], edge_index=[2, 34], edge_attr=[34, 4], y=[1, 2], pos=[16, 3], z=[16], smiles='[H]O[C@@]1(C#N)C([H])([H])[C@@]1([H])[C@]1([H])OC1([H])[H]', name='gdb_65372', idx=[1], adj_triu_mat=[1, 435], node_mat=[1, 29, 5])\n",
      "Data(x=[18, 3], edge_index=[2, 24])\n"
     ]
    },
    {
     "name": "stderr",
     "output_type": "stream",
     "text": [
      "Epoch 13 Training: 100%|██████████| 1/1 [00:00<00:00, 33.48it/s]\n"
     ]
    },
    {
     "name": "stdout",
     "output_type": "stream",
     "text": [
      "Data(x=[19, 5], edge_index=[2, 40], edge_attr=[40, 4], y=[1, 2], pos=[19, 3], z=[19], smiles='[H]OC([H])([H])[C@@]1(C([H])([H])[H])[N@@H+]2C([H])([H])[C@]2([H])C1([H])[H]', name='gdb_12062', idx=[1], adj_triu_mat=[1, 435], node_mat=[1, 29, 5])\n",
      "Data(x=[18, 3], edge_index=[2, 24])\n"
     ]
    },
    {
     "name": "stderr",
     "output_type": "stream",
     "text": [
      "Epoch 14 Training: 100%|██████████| 1/1 [00:00<00:00, 37.26it/s]"
     ]
    },
    {
     "name": "stdout",
     "output_type": "stream",
     "text": [
      "Data(x=[18, 5], edge_index=[2, 36], edge_attr=[36, 4], y=[1, 2], pos=[18, 3], z=[18], smiles='[H]C(=O)C([H])([H])[C@]1([H])C([H])([H])O[C@]1([H])C([H])([H])[H]', name='gdb_13092', idx=[1], adj_triu_mat=[1, 435], node_mat=[1, 29, 5])\n"
     ]
    },
    {
     "name": "stderr",
     "output_type": "stream",
     "text": [
      "\n"
     ]
    },
    {
     "name": "stdout",
     "output_type": "stream",
     "text": [
      "Data(x=[18, 3], edge_index=[2, 24])\n"
     ]
    },
    {
     "name": "stderr",
     "output_type": "stream",
     "text": [
      "Epoch 15 Training: 100%|██████████| 1/1 [00:00<00:00, 37.01it/s]"
     ]
    },
    {
     "name": "stdout",
     "output_type": "stream",
     "text": [
      "Data(x=[18, 5], edge_index=[2, 38], edge_attr=[38, 4], y=[1, 2], pos=[18, 3], z=[18], smiles='[H]C([H])([H])[C@]1([H])O[C@]2(C1([H])[H])C([H])([H])[C@@]2([H])C#N', name='gdb_89864', idx=[1], adj_triu_mat=[1, 435], node_mat=[1, 29, 5])\n"
     ]
    },
    {
     "name": "stderr",
     "output_type": "stream",
     "text": [
      "\n"
     ]
    },
    {
     "name": "stdout",
     "output_type": "stream",
     "text": [
      "Data(x=[18, 3], edge_index=[2, 24])\n"
     ]
    },
    {
     "name": "stderr",
     "output_type": "stream",
     "text": [
      "Epoch 16 Training: 100%|██████████| 1/1 [00:00<00:00, 36.96it/s]"
     ]
    },
    {
     "name": "stdout",
     "output_type": "stream",
     "text": [
      "Data(x=[20, 5], edge_index=[2, 40], edge_attr=[40, 4], y=[1, 2], pos=[20, 3], z=[20], smiles='[H]OC([H])([H])[C@@]([H])([N@H+]1C([H])([H])[C@@]1([H])C([H])=O)C([H])([H])[H]', name='gdb_101299', idx=[1], adj_triu_mat=[1, 435], node_mat=[1, 29, 5])\n"
     ]
    },
    {
     "name": "stderr",
     "output_type": "stream",
     "text": [
      "\n"
     ]
    },
    {
     "name": "stdout",
     "output_type": "stream",
     "text": [
      "Data(x=[18, 3], edge_index=[2, 24])\n"
     ]
    },
    {
     "name": "stderr",
     "output_type": "stream",
     "text": [
      "Epoch 17 Training: 100%|██████████| 1/1 [00:00<00:00, 37.97it/s]"
     ]
    },
    {
     "name": "stdout",
     "output_type": "stream",
     "text": [
      "Data(x=[18, 5], edge_index=[2, 38], edge_attr=[38, 4], y=[1, 2], pos=[18, 3], z=[18], smiles='[H]C(=O)[C@]1([H])[N@@H+]2C([H])([H])[C@]([H])(OC([H])([H])[H])[C@@]21[H]', name='gdb_114376', idx=[1], adj_triu_mat=[1, 435], node_mat=[1, 29, 5])\n"
     ]
    },
    {
     "name": "stderr",
     "output_type": "stream",
     "text": [
      "\n"
     ]
    },
    {
     "name": "stdout",
     "output_type": "stream",
     "text": [
      "Data(x=[18, 3], edge_index=[2, 26])\n"
     ]
    },
    {
     "name": "stderr",
     "output_type": "stream",
     "text": [
      "Epoch 18 Training: 100%|██████████| 1/1 [00:00<00:00, 34.81it/s]"
     ]
    },
    {
     "name": "stdout",
     "output_type": "stream",
     "text": [
      "Data(x=[18, 5], edge_index=[2, 36], edge_attr=[36, 4], y=[1, 2], pos=[18, 3], z=[18], smiles='[H]O[C@]1([H])C([H])=C(C([H])([H])[H])C([H])([H])[C@@]1([H])C#N', name='gdb_84136', idx=[1], adj_triu_mat=[1, 435], node_mat=[1, 29, 5])\n"
     ]
    },
    {
     "name": "stderr",
     "output_type": "stream",
     "text": [
      "\n"
     ]
    },
    {
     "name": "stdout",
     "output_type": "stream",
     "text": [
      "Data(x=[18, 3], edge_index=[2, 26])\n"
     ]
    },
    {
     "name": "stderr",
     "output_type": "stream",
     "text": [
      "Epoch 19 Training: 100%|██████████| 1/1 [00:00<00:00, 36.91it/s]"
     ]
    },
    {
     "name": "stdout",
     "output_type": "stream",
     "text": [
      "Data(x=[20, 5], edge_index=[2, 40], edge_attr=[40, 4], y=[1, 2], pos=[20, 3], z=[20], smiles='[H]OC([H])([H])[C@@]([H])([N@H+]1C([H])([H])[C@@]1([H])C([H])=O)C([H])([H])[H]', name='gdb_101299', idx=[1], adj_triu_mat=[1, 435], node_mat=[1, 29, 5])\n"
     ]
    },
    {
     "name": "stderr",
     "output_type": "stream",
     "text": [
      "\n"
     ]
    },
    {
     "name": "stdout",
     "output_type": "stream",
     "text": [
      "Data(x=[18, 3], edge_index=[2, 26])\n"
     ]
    },
    {
     "name": "stderr",
     "output_type": "stream",
     "text": [
      "Epoch 20 Training: 100%|██████████| 1/1 [00:00<00:00, 35.64it/s]"
     ]
    },
    {
     "name": "stdout",
     "output_type": "stream",
     "text": [
      "Data(x=[17, 5], edge_index=[2, 34], edge_attr=[34, 4], y=[1, 2], pos=[17, 3], z=[17], smiles='[H]C#C[C@]1([H])OC1(C([H])([H])O[H])C([H])([H])O[H]', name='gdb_104761', idx=[1], adj_triu_mat=[1, 435], node_mat=[1, 29, 5])\n"
     ]
    },
    {
     "name": "stderr",
     "output_type": "stream",
     "text": [
      "\n"
     ]
    },
    {
     "name": "stdout",
     "output_type": "stream",
     "text": [
      "Data(x=[18, 3], edge_index=[2, 26])\n"
     ]
    },
    {
     "name": "stderr",
     "output_type": "stream",
     "text": [
      "Epoch 21 Training: 100%|██████████| 1/1 [00:00<00:00, 35.14it/s]"
     ]
    },
    {
     "name": "stdout",
     "output_type": "stream",
     "text": [
      "Data(x=[18, 5], edge_index=[2, 36], edge_attr=[36, 4], y=[1, 2], pos=[18, 3], z=[18], smiles='[H]C(=O)C([H])([H])[C@]1([H])C([H])([H])O[C@]1([H])C([H])([H])[H]', name='gdb_13092', idx=[1], adj_triu_mat=[1, 435], node_mat=[1, 29, 5])\n"
     ]
    },
    {
     "name": "stderr",
     "output_type": "stream",
     "text": [
      "\n"
     ]
    },
    {
     "name": "stdout",
     "output_type": "stream",
     "text": [
      "Data(x=[18, 3], edge_index=[2, 26])\n"
     ]
    },
    {
     "name": "stderr",
     "output_type": "stream",
     "text": [
      "Epoch 22 Training: 100%|██████████| 1/1 [00:00<00:00, 36.19it/s]\n"
     ]
    },
    {
     "name": "stdout",
     "output_type": "stream",
     "text": [
      "Data(x=[21, 5], edge_index=[2, 42], edge_attr=[42, 4], y=[1, 2], pos=[21, 3], z=[21], smiles='[H]O[C@]1([H])C([H])([H])[C@]([H])(C([H])([H])C([H])([H])[H])[C@]1([H])C([H])=O', name='gdb_112792', idx=[1], adj_triu_mat=[1, 435], node_mat=[1, 29, 5])\n",
      "Data(x=[18, 3], edge_index=[2, 26])\n"
     ]
    },
    {
     "name": "stderr",
     "output_type": "stream",
     "text": [
      "Epoch 23 Training: 100%|██████████| 1/1 [00:00<00:00, 37.78it/s]"
     ]
    },
    {
     "name": "stdout",
     "output_type": "stream",
     "text": [
      "Data(x=[18, 5], edge_index=[2, 38], edge_attr=[38, 4], y=[1, 2], pos=[18, 3], z=[18], smiles='[H]C([H])([H])[C@]1([H])O[C@]2(C1([H])[H])C([H])([H])[C@@]2([H])C#N', name='gdb_89864', idx=[1], adj_triu_mat=[1, 435], node_mat=[1, 29, 5])\n"
     ]
    },
    {
     "name": "stderr",
     "output_type": "stream",
     "text": [
      "\n"
     ]
    },
    {
     "name": "stdout",
     "output_type": "stream",
     "text": [
      "Data(x=[18, 3], edge_index=[2, 26])\n"
     ]
    },
    {
     "name": "stderr",
     "output_type": "stream",
     "text": [
      "Epoch 24 Training: 100%|██████████| 1/1 [00:00<00:00, 38.30it/s]"
     ]
    },
    {
     "name": "stdout",
     "output_type": "stream",
     "text": [
      "Data(x=[15, 5], edge_index=[2, 30], edge_attr=[30, 4], y=[1, 2], pos=[15, 3], z=[15], smiles='[H]O[C@]1([H])C(=O)C([H])([H])O[C@@]1([H])C([H])=O', name='gdb_77366', idx=[1], adj_triu_mat=[1, 435], node_mat=[1, 29, 5])\n"
     ]
    },
    {
     "name": "stderr",
     "output_type": "stream",
     "text": [
      "\n"
     ]
    },
    {
     "name": "stdout",
     "output_type": "stream",
     "text": [
      "Data(x=[18, 3], edge_index=[2, 26])\n"
     ]
    },
    {
     "name": "stderr",
     "output_type": "stream",
     "text": [
      "Epoch 25 Training: 100%|██████████| 1/1 [00:00<00:00, 38.19it/s]\n"
     ]
    },
    {
     "name": "stdout",
     "output_type": "stream",
     "text": [
      "Data(x=[23, 5], edge_index=[2, 50], edge_attr=[50, 4], y=[1, 2], pos=[23, 3], z=[23], smiles='[H]C([H])([H])[C@@]1([H])C([H])([H])[C@@]12C([H])([H])[C@@]1(C([H])([H])[H])C([H])([H])[C@]12[H]', name='gdb_87768', idx=[1], adj_triu_mat=[1, 435], node_mat=[1, 29, 5])\n",
      "Data(x=[18, 3], edge_index=[2, 28])\n"
     ]
    },
    {
     "name": "stderr",
     "output_type": "stream",
     "text": [
      "Epoch 26 Training: 100%|██████████| 1/1 [00:00<00:00, 38.40it/s]"
     ]
    },
    {
     "name": "stdout",
     "output_type": "stream",
     "text": [
      "Data(x=[19, 5], edge_index=[2, 42], edge_attr=[42, 4], y=[1, 2], pos=[19, 3], z=[19], smiles='[H]C([H])([H])O[C@]12C([H])([H])[C@@]1([H])[C@@]1([H])O[C@]12C([H])([H])[H]', name='gdb_107257', idx=[1], adj_triu_mat=[1, 435], node_mat=[1, 29, 5])\n"
     ]
    },
    {
     "name": "stderr",
     "output_type": "stream",
     "text": [
      "\n"
     ]
    },
    {
     "name": "stdout",
     "output_type": "stream",
     "text": [
      "Data(x=[18, 4], edge_index=[2, 28])\n"
     ]
    },
    {
     "name": "stderr",
     "output_type": "stream",
     "text": [
      "Epoch 27 Training: 100%|██████████| 1/1 [00:00<00:00, 38.47it/s]"
     ]
    },
    {
     "name": "stdout",
     "output_type": "stream",
     "text": [
      "Data(x=[19, 5], edge_index=[2, 42], edge_attr=[42, 4], y=[1, 2], pos=[19, 3], z=[19], smiles='[H]C([H])([H])O[C@]12C([H])([H])[C@@]1([H])[C@@]1([H])O[C@]12C([H])([H])[H]', name='gdb_107257', idx=[1], adj_triu_mat=[1, 435], node_mat=[1, 29, 5])\n"
     ]
    },
    {
     "name": "stderr",
     "output_type": "stream",
     "text": [
      "\n"
     ]
    },
    {
     "name": "stdout",
     "output_type": "stream",
     "text": [
      "Data(x=[18, 4], edge_index=[2, 28])\n"
     ]
    },
    {
     "name": "stderr",
     "output_type": "stream",
     "text": [
      "Epoch 28 Training: 100%|██████████| 1/1 [00:00<00:00, 38.73it/s]\n"
     ]
    },
    {
     "name": "stdout",
     "output_type": "stream",
     "text": [
      "Data(x=[23, 5], edge_index=[2, 50], edge_attr=[50, 4], y=[1, 2], pos=[23, 3], z=[23], smiles='[H]C([H])([H])[C@@]1([H])C([H])([H])[C@@]12C([H])([H])[C@@]1(C([H])([H])[H])C([H])([H])[C@]12[H]', name='gdb_87768', idx=[1], adj_triu_mat=[1, 435], node_mat=[1, 29, 5])\n",
      "Data(x=[18, 4], edge_index=[2, 28])\n"
     ]
    },
    {
     "name": "stderr",
     "output_type": "stream",
     "text": [
      "Epoch 29 Training: 100%|██████████| 1/1 [00:00<00:00, 37.40it/s]"
     ]
    },
    {
     "name": "stdout",
     "output_type": "stream",
     "text": [
      "Data(x=[14, 5], edge_index=[2, 30], edge_attr=[30, 4], y=[1, 2], pos=[14, 3], z=[14], smiles='[H]N([H])C1=NC([C@]2([H])OC2([H])[H])=NO1', name='gdb_129970', idx=[1], adj_triu_mat=[1, 435], node_mat=[1, 29, 5])\n"
     ]
    },
    {
     "name": "stderr",
     "output_type": "stream",
     "text": [
      "\n"
     ]
    },
    {
     "name": "stdout",
     "output_type": "stream",
     "text": [
      "Data(x=[18, 4], edge_index=[2, 30])\n"
     ]
    },
    {
     "name": "stderr",
     "output_type": "stream",
     "text": [
      "Epoch 30 Training: 100%|██████████| 1/1 [00:00<00:00, 36.57it/s]"
     ]
    },
    {
     "name": "stdout",
     "output_type": "stream",
     "text": [
      "Data(x=[14, 5], edge_index=[2, 30], edge_attr=[30, 4], y=[1, 2], pos=[14, 3], z=[14], smiles='[H]N([H])C1=NC([C@]2([H])OC2([H])[H])=NO1', name='gdb_129970', idx=[1], adj_triu_mat=[1, 435], node_mat=[1, 29, 5])\n"
     ]
    },
    {
     "name": "stderr",
     "output_type": "stream",
     "text": [
      "\n"
     ]
    },
    {
     "name": "stdout",
     "output_type": "stream",
     "text": [
      "Data(x=[18, 4], edge_index=[2, 30])\n"
     ]
    },
    {
     "name": "stderr",
     "output_type": "stream",
     "text": [
      "Epoch 31 Training: 100%|██████████| 1/1 [00:00<00:00, 36.80it/s]\n"
     ]
    },
    {
     "name": "stdout",
     "output_type": "stream",
     "text": [
      "Data(x=[18, 5], edge_index=[2, 38], edge_attr=[38, 4], y=[1, 2], pos=[18, 3], z=[18], smiles='[H]C#CC([H])([H])[C@]1(O[H])C([H])([H])[C@@]2([H])N([H])[C@@]12[H]', name='gdb_64721', idx=[1], adj_triu_mat=[1, 435], node_mat=[1, 29, 5])\n",
      "Data(x=[18, 4], edge_index=[2, 32])\n"
     ]
    },
    {
     "name": "stderr",
     "output_type": "stream",
     "text": [
      "Epoch 32 Training: 100%|██████████| 1/1 [00:00<00:00, 38.14it/s]"
     ]
    },
    {
     "name": "stdout",
     "output_type": "stream",
     "text": [
      "Data(x=[23, 5], edge_index=[2, 50], edge_attr=[50, 4], y=[1, 2], pos=[23, 3], z=[23], smiles='[H]C([H])([H])[C@@]1([H])C([H])([H])[C@@]12C([H])([H])[C@@]1(C([H])([H])[H])C([H])([H])[C@]12[H]', name='gdb_87768', idx=[1], adj_triu_mat=[1, 435], node_mat=[1, 29, 5])\n"
     ]
    },
    {
     "name": "stderr",
     "output_type": "stream",
     "text": [
      "\n"
     ]
    },
    {
     "name": "stdout",
     "output_type": "stream",
     "text": [
      "Data(x=[18, 4], edge_index=[2, 32])\n"
     ]
    },
    {
     "name": "stderr",
     "output_type": "stream",
     "text": [
      "Epoch 33 Training: 100%|██████████| 1/1 [00:00<00:00, 37.73it/s]"
     ]
    },
    {
     "name": "stdout",
     "output_type": "stream",
     "text": [
      "Data(x=[20, 5], edge_index=[2, 40], edge_attr=[40, 4], y=[1, 2], pos=[20, 3], z=[20], smiles='[H]OC([H])([H])[C@@]([H])([N@H+]1C([H])([H])[C@@]1([H])C([H])=O)C([H])([H])[H]', name='gdb_101299', idx=[1], adj_triu_mat=[1, 435], node_mat=[1, 29, 5])\n"
     ]
    },
    {
     "name": "stderr",
     "output_type": "stream",
     "text": [
      "\n"
     ]
    },
    {
     "name": "stdout",
     "output_type": "stream",
     "text": [
      "Data(x=[18, 4], edge_index=[2, 32])\n"
     ]
    },
    {
     "name": "stderr",
     "output_type": "stream",
     "text": [
      "Epoch 34 Training: 100%|██████████| 1/1 [00:00<00:00, 37.90it/s]\n"
     ]
    },
    {
     "name": "stdout",
     "output_type": "stream",
     "text": [
      "Data(x=[19, 5], edge_index=[2, 40], edge_attr=[40, 4], y=[1, 2], pos=[19, 3], z=[19], smiles='[H]C(=O)N([H])[C@@]1([H])C([H])([H])[N@H+]2C([H])([H])C([H])([H])[C@]21[H]', name='gdb_51674', idx=[1], adj_triu_mat=[1, 435], node_mat=[1, 29, 5])\n",
      "Data(x=[18, 4], edge_index=[2, 32])\n"
     ]
    },
    {
     "name": "stderr",
     "output_type": "stream",
     "text": [
      "Epoch 35 Training: 100%|██████████| 1/1 [00:00<00:00, 38.11it/s]"
     ]
    },
    {
     "name": "stdout",
     "output_type": "stream",
     "text": [
      "Data(x=[18, 5], edge_index=[2, 38], edge_attr=[38, 4], y=[1, 2], pos=[18, 3], z=[18], smiles='[H]C#CC([H])([H])[C@]1(O[H])C([H])([H])[C@@]2([H])N([H])[C@@]12[H]', name='gdb_64721', idx=[1], adj_triu_mat=[1, 435], node_mat=[1, 29, 5])\n"
     ]
    },
    {
     "name": "stderr",
     "output_type": "stream",
     "text": [
      "\n"
     ]
    },
    {
     "name": "stdout",
     "output_type": "stream",
     "text": [
      "Data(x=[18, 4], edge_index=[2, 32])\n"
     ]
    },
    {
     "name": "stderr",
     "output_type": "stream",
     "text": [
      "Epoch 36 Training: 100%|██████████| 1/1 [00:00<00:00, 35.97it/s]"
     ]
    },
    {
     "name": "stdout",
     "output_type": "stream",
     "text": [
      "Data(x=[18, 5], edge_index=[2, 36], edge_attr=[36, 4], y=[1, 2], pos=[18, 3], z=[18], smiles='[H][N-]C1OC([H])([H])C([NH2+]C([H])([H])[H])N([H])C1([H])[H]', name='gdb_97045', idx=[1], adj_triu_mat=[1, 435], node_mat=[1, 29, 5])\n"
     ]
    },
    {
     "name": "stderr",
     "output_type": "stream",
     "text": [
      "\n"
     ]
    },
    {
     "name": "stdout",
     "output_type": "stream",
     "text": [
      "Data(x=[18, 4], edge_index=[2, 32])\n"
     ]
    },
    {
     "name": "stderr",
     "output_type": "stream",
     "text": [
      "Epoch 37 Training: 100%|██████████| 1/1 [00:00<00:00, 37.00it/s]\n"
     ]
    },
    {
     "name": "stdout",
     "output_type": "stream",
     "text": [
      "Data(x=[19, 5], edge_index=[2, 40], edge_attr=[40, 4], y=[1, 2], pos=[19, 3], z=[19], smiles='[H]C(=O)N([H])[C@@]1([H])C([H])([H])[N@H+]2C([H])([H])C([H])([H])[C@]21[H]', name='gdb_51674', idx=[1], adj_triu_mat=[1, 435], node_mat=[1, 29, 5])\n",
      "Data(x=[18, 4], edge_index=[2, 32])\n"
     ]
    },
    {
     "name": "stderr",
     "output_type": "stream",
     "text": [
      "Epoch 38 Training: 100%|██████████| 1/1 [00:00<00:00, 36.56it/s]\n"
     ]
    },
    {
     "name": "stdout",
     "output_type": "stream",
     "text": [
      "Data(x=[16, 5], edge_index=[2, 34], edge_attr=[34, 4], y=[1, 2], pos=[16, 3], z=[16], smiles='[H]O[C@]1([H])C2=C([H])OC([H])=C2N([H])C1([H])[H]', name='gdb_30357', idx=[1], adj_triu_mat=[1, 435], node_mat=[1, 29, 5])\n",
      "Data(x=[18, 4], edge_index=[2, 32])\n"
     ]
    },
    {
     "name": "stderr",
     "output_type": "stream",
     "text": [
      "Epoch 39 Training: 100%|██████████| 1/1 [00:00<00:00, 37.83it/s]\n"
     ]
    },
    {
     "name": "stdout",
     "output_type": "stream",
     "text": [
      "Data(x=[16, 5], edge_index=[2, 32], edge_attr=[32, 4], y=[1, 2], pos=[16, 3], z=[16], smiles='[H]C1=C(C#CC([H])([H])[H])C(N([H])[H])=C([H])O1', name='gdb_25701', idx=[1], adj_triu_mat=[1, 435], node_mat=[1, 29, 5])\n",
      "Data(x=[18, 4], edge_index=[2, 32])\n"
     ]
    },
    {
     "name": "stderr",
     "output_type": "stream",
     "text": [
      "Epoch 40 Training: 100%|██████████| 1/1 [00:00<00:00, 38.26it/s]\n"
     ]
    },
    {
     "name": "stdout",
     "output_type": "stream",
     "text": [
      "Data(x=[25, 5], edge_index=[2, 52], edge_attr=[52, 4], y=[1, 2], pos=[25, 3], z=[25], smiles='[H]C([H])([H])C([H])([H])[C@@]1([H])C([H])([H])[C@@]([H])(C([H])([H])[H])[C@@]2([H])C([H])([H])[C@@]12[H]', name='gdb_112835', idx=[1], adj_triu_mat=[1, 435], node_mat=[1, 29, 5])\n",
      "Data(x=[18, 4], edge_index=[2, 34])\n"
     ]
    },
    {
     "name": "stderr",
     "output_type": "stream",
     "text": [
      "Epoch 41 Training: 100%|██████████| 1/1 [00:00<00:00, 38.21it/s]\n"
     ]
    },
    {
     "name": "stdout",
     "output_type": "stream",
     "text": [
      "Data(x=[25, 5], edge_index=[2, 52], edge_attr=[52, 4], y=[1, 2], pos=[25, 3], z=[25], smiles='[H]C([H])([H])C([H])([H])[C@@]1([H])C([H])([H])[C@@]([H])(C([H])([H])[H])[C@@]2([H])C([H])([H])[C@@]12[H]', name='gdb_112835', idx=[1], adj_triu_mat=[1, 435], node_mat=[1, 29, 5])\n",
      "Data(x=[18, 4], edge_index=[2, 34])\n"
     ]
    },
    {
     "name": "stderr",
     "output_type": "stream",
     "text": [
      "Epoch 42 Training: 100%|██████████| 1/1 [00:00<00:00, 38.00it/s]\n"
     ]
    },
    {
     "name": "stdout",
     "output_type": "stream",
     "text": [
      "Data(x=[21, 5], edge_index=[2, 42], edge_attr=[42, 4], y=[1, 2], pos=[21, 3], z=[21], smiles='[H]O[C@]1([H])C([H])([H])[C@]([H])(C([H])([H])C([H])([H])[H])[C@]1([H])C([H])=O', name='gdb_112792', idx=[1], adj_triu_mat=[1, 435], node_mat=[1, 29, 5])\n",
      "Data(x=[18, 4], edge_index=[2, 34])\n"
     ]
    },
    {
     "name": "stderr",
     "output_type": "stream",
     "text": [
      "Epoch 43 Training: 100%|██████████| 1/1 [00:00<00:00, 38.56it/s]\n"
     ]
    },
    {
     "name": "stdout",
     "output_type": "stream",
     "text": [
      "Data(x=[19, 5], edge_index=[2, 40], edge_attr=[40, 4], y=[1, 2], pos=[19, 3], z=[19], smiles='[H]/C1=N/C([H])([H])C([H])([H])[N@H+]2C([H])([H])[C@@]2([H])C([H])([H])O1', name='gdb_39380', idx=[1], adj_triu_mat=[1, 435], node_mat=[1, 29, 5])\n",
      "Data(x=[18, 4], edge_index=[2, 34])\n"
     ]
    },
    {
     "name": "stderr",
     "output_type": "stream",
     "text": [
      "Epoch 44 Training: 100%|██████████| 1/1 [00:00<00:00, 38.34it/s]\n"
     ]
    },
    {
     "name": "stdout",
     "output_type": "stream",
     "text": [
      "Data(x=[23, 5], edge_index=[2, 50], edge_attr=[50, 4], y=[1, 2], pos=[23, 3], z=[23], smiles='[H]C([H])([H])[C@@]1([H])C([H])([H])[C@@]12C([H])([H])[C@@]1(C([H])([H])[H])C([H])([H])[C@]12[H]', name='gdb_87768', idx=[1], adj_triu_mat=[1, 435], node_mat=[1, 29, 5])\n",
      "Data(x=[18, 4], edge_index=[2, 34])\n"
     ]
    },
    {
     "name": "stderr",
     "output_type": "stream",
     "text": [
      "Epoch 45 Training: 100%|██████████| 1/1 [00:00<00:00, 37.41it/s]\n"
     ]
    },
    {
     "name": "stdout",
     "output_type": "stream",
     "text": [
      "Data(x=[16, 5], edge_index=[2, 34], edge_attr=[34, 4], y=[1, 2], pos=[16, 3], z=[16], smiles='[H]O[C@@]1(C#N)C([H])([H])[C@@]1([H])[C@]1([H])OC1([H])[H]', name='gdb_65372', idx=[1], adj_triu_mat=[1, 435], node_mat=[1, 29, 5])\n",
      "Data(x=[18, 4], edge_index=[2, 32])\n"
     ]
    },
    {
     "name": "stderr",
     "output_type": "stream",
     "text": [
      "Epoch 46 Training: 100%|██████████| 1/1 [00:00<00:00, 36.86it/s]\n"
     ]
    },
    {
     "name": "stdout",
     "output_type": "stream",
     "text": [
      "Data(x=[21, 5], edge_index=[2, 42], edge_attr=[42, 4], y=[1, 2], pos=[21, 3], z=[21], smiles='[H]O[C@]1([H])C([H])([H])[C@]([H])(C([H])([H])C([H])([H])[H])[C@]1([H])C([H])=O', name='gdb_112792', idx=[1], adj_triu_mat=[1, 435], node_mat=[1, 29, 5])\n",
      "Data(x=[18, 4], edge_index=[2, 34])\n"
     ]
    },
    {
     "name": "stderr",
     "output_type": "stream",
     "text": [
      "Epoch 47 Training: 100%|██████████| 1/1 [00:00<00:00, 37.63it/s]\n"
     ]
    },
    {
     "name": "stdout",
     "output_type": "stream",
     "text": [
      "Data(x=[16, 5], edge_index=[2, 34], edge_attr=[34, 4], y=[1, 2], pos=[16, 3], z=[16], smiles='[H]O[C@@]1(C#N)C([H])([H])[C@@]1([H])[C@]1([H])OC1([H])[H]', name='gdb_65372', idx=[1], adj_triu_mat=[1, 435], node_mat=[1, 29, 5])\n",
      "Data(x=[18, 4], edge_index=[2, 34])\n"
     ]
    },
    {
     "name": "stderr",
     "output_type": "stream",
     "text": [
      "Epoch 48 Training: 100%|██████████| 1/1 [00:00<00:00, 38.64it/s]\n"
     ]
    },
    {
     "name": "stdout",
     "output_type": "stream",
     "text": [
      "Data(x=[18, 5], edge_index=[2, 38], edge_attr=[38, 4], y=[1, 2], pos=[18, 3], z=[18], smiles='[H]C1=NC([H])([H])C([NH2+]C2([H])C([H])([H])C2([H])[H])N1[H]', name='gdb_40843', idx=[1], adj_triu_mat=[1, 435], node_mat=[1, 29, 5])\n",
      "Data(x=[18, 4], edge_index=[2, 34])\n"
     ]
    },
    {
     "name": "stderr",
     "output_type": "stream",
     "text": [
      "Epoch 49 Training: 100%|██████████| 1/1 [00:00<00:00, 38.54it/s]\n"
     ]
    },
    {
     "name": "stdout",
     "output_type": "stream",
     "text": [
      "Data(x=[19, 5], edge_index=[2, 42], edge_attr=[42, 4], y=[1, 2], pos=[19, 3], z=[19], smiles='[H]C([H])([H])O[C@]12C([H])([H])[C@@]1([H])[C@@]1([H])O[C@]12C([H])([H])[H]', name='gdb_107257', idx=[1], adj_triu_mat=[1, 435], node_mat=[1, 29, 5])\n",
      "Data(x=[18, 4], edge_index=[2, 34])\n"
     ]
    },
    {
     "name": "stderr",
     "output_type": "stream",
     "text": [
      "Epoch 50 Training: 100%|██████████| 1/1 [00:00<00:00, 38.51it/s]\n"
     ]
    },
    {
     "name": "stdout",
     "output_type": "stream",
     "text": [
      "Data(x=[15, 5], edge_index=[2, 30], edge_attr=[30, 4], y=[1, 2], pos=[15, 3], z=[15], smiles='[H]C#C[C@@]1([H])[NH2+]C(C([H])([H])[H])OC1([H])[H]', name='gdb_11226', idx=[1], adj_triu_mat=[1, 435], node_mat=[1, 29, 5])\n",
      "Data(x=[18, 4], edge_index=[2, 34])\n"
     ]
    },
    {
     "name": "stderr",
     "output_type": "stream",
     "text": [
      "Epoch 51 Training: 100%|██████████| 1/1 [00:00<00:00, 37.77it/s]\n"
     ]
    },
    {
     "name": "stdout",
     "output_type": "stream",
     "text": [
      "Data(x=[18, 5], edge_index=[2, 36], edge_attr=[36, 4], y=[1, 2], pos=[18, 3], z=[18], smiles='[H][N-]C1OC([H])([H])C([NH2+]C([H])([H])[H])N([H])C1([H])[H]', name='gdb_97045', idx=[1], adj_triu_mat=[1, 435], node_mat=[1, 29, 5])\n",
      "Data(x=[18, 4], edge_index=[2, 34])\n"
     ]
    },
    {
     "name": "stderr",
     "output_type": "stream",
     "text": [
      "Epoch 52 Training: 100%|██████████| 1/1 [00:00<00:00, 38.27it/s]\n"
     ]
    },
    {
     "name": "stdout",
     "output_type": "stream",
     "text": [
      "Data(x=[20, 5], edge_index=[2, 44], edge_attr=[44, 4], y=[1, 2], pos=[20, 3], z=[20], smiles='[H]N1[C@@]2([H])[C@]3(O[C@]3([H])C([H])([H])C([H])([H])[H])C([H])([H])[C@@]12[H]', name='gdb_113461', idx=[1], adj_triu_mat=[1, 435], node_mat=[1, 29, 5])\n",
      "Data(x=[18, 4], edge_index=[2, 34])\n"
     ]
    },
    {
     "name": "stderr",
     "output_type": "stream",
     "text": [
      "Epoch 53 Training: 100%|██████████| 1/1 [00:00<00:00, 38.57it/s]\n"
     ]
    },
    {
     "name": "stdout",
     "output_type": "stream",
     "text": [
      "Data(x=[17, 5], edge_index=[2, 32], edge_attr=[32, 4], y=[1, 2], pos=[17, 3], z=[17], smiles='[H]O[C@@]([H])(C([H])=O)C([H])(C([H])([H])[H])C([H])([H])[H]', name='gdb_1626', idx=[1], adj_triu_mat=[1, 435], node_mat=[1, 29, 5])\n",
      "Data(x=[18, 4], edge_index=[2, 34])\n"
     ]
    },
    {
     "name": "stderr",
     "output_type": "stream",
     "text": [
      "Epoch 54 Training: 100%|██████████| 1/1 [00:00<00:00, 37.26it/s]\n"
     ]
    },
    {
     "name": "stdout",
     "output_type": "stream",
     "text": [
      "Data(x=[15, 5], edge_index=[2, 30], edge_attr=[30, 4], y=[1, 2], pos=[15, 3], z=[15], smiles='[H]C#C[C@@]1([H])[NH2+]C(C([H])([H])[H])OC1([H])[H]', name='gdb_11226', idx=[1], adj_triu_mat=[1, 435], node_mat=[1, 29, 5])\n",
      "Data(x=[18, 4], edge_index=[2, 34])\n"
     ]
    },
    {
     "name": "stderr",
     "output_type": "stream",
     "text": [
      "Epoch 55 Training: 100%|██████████| 1/1 [00:00<00:00, 38.36it/s]\n"
     ]
    },
    {
     "name": "stdout",
     "output_type": "stream",
     "text": [
      "Data(x=[18, 5], edge_index=[2, 38], edge_attr=[38, 4], y=[1, 2], pos=[18, 3], z=[18], smiles='[H]C1=NC([H])([H])C([NH2+]C2([H])C([H])([H])C2([H])[H])N1[H]', name='gdb_40843', idx=[1], adj_triu_mat=[1, 435], node_mat=[1, 29, 5])\n",
      "Data(x=[18, 4], edge_index=[2, 34])\n"
     ]
    },
    {
     "name": "stderr",
     "output_type": "stream",
     "text": [
      "Epoch 56 Training: 100%|██████████| 1/1 [00:00<00:00, 38.16it/s]\n"
     ]
    },
    {
     "name": "stdout",
     "output_type": "stream",
     "text": [
      "Data(x=[21, 5], edge_index=[2, 42], edge_attr=[42, 4], y=[1, 2], pos=[21, 3], z=[21], smiles='[H]O[C@]1([H])C([H])([H])[C@]([H])(C([H])([H])C([H])([H])[H])[C@]1([H])C([H])=O', name='gdb_112792', idx=[1], adj_triu_mat=[1, 435], node_mat=[1, 29, 5])\n",
      "Data(x=[18, 4], edge_index=[2, 34])\n"
     ]
    },
    {
     "name": "stderr",
     "output_type": "stream",
     "text": [
      "Epoch 57 Training: 100%|██████████| 1/1 [00:00<00:00, 38.41it/s]\n"
     ]
    },
    {
     "name": "stdout",
     "output_type": "stream",
     "text": [
      "Data(x=[17, 5], edge_index=[2, 34], edge_attr=[34, 4], y=[1, 2], pos=[17, 3], z=[17], smiles='[H]C#C[C@]1([H])OC1(C([H])([H])O[H])C([H])([H])O[H]', name='gdb_104761', idx=[1], adj_triu_mat=[1, 435], node_mat=[1, 29, 5])\n",
      "Data(x=[18, 4], edge_index=[2, 34])\n"
     ]
    },
    {
     "name": "stderr",
     "output_type": "stream",
     "text": [
      "Epoch 58 Training: 100%|██████████| 1/1 [00:00<00:00, 38.56it/s]\n"
     ]
    },
    {
     "name": "stdout",
     "output_type": "stream",
     "text": [
      "Data(x=[18, 5], edge_index=[2, 36], edge_attr=[36, 4], y=[1, 2], pos=[18, 3], z=[18], smiles='[H][N-]C1OC([H])([H])C([NH2+]C([H])([H])[H])N([H])C1([H])[H]', name='gdb_97045', idx=[1], adj_triu_mat=[1, 435], node_mat=[1, 29, 5])\n",
      "Data(x=[18, 4], edge_index=[2, 36])\n"
     ]
    },
    {
     "name": "stderr",
     "output_type": "stream",
     "text": [
      "Epoch 59 Training: 100%|██████████| 1/1 [00:00<00:00, 38.20it/s]\n"
     ]
    },
    {
     "name": "stdout",
     "output_type": "stream",
     "text": [
      "Data(x=[19, 5], edge_index=[2, 40], edge_attr=[40, 4], y=[1, 2], pos=[19, 3], z=[19], smiles='[H]/C1=N/C([H])([H])C([H])([H])[N@H+]2C([H])([H])[C@@]2([H])C([H])([H])O1', name='gdb_39380', idx=[1], adj_triu_mat=[1, 435], node_mat=[1, 29, 5])\n",
      "Data(x=[18, 4], edge_index=[2, 36])\n"
     ]
    },
    {
     "name": "stderr",
     "output_type": "stream",
     "text": [
      "Epoch 60 Training: 100%|██████████| 1/1 [00:00<00:00, 37.88it/s]\n"
     ]
    },
    {
     "name": "stdout",
     "output_type": "stream",
     "text": [
      "Data(x=[19, 5], edge_index=[2, 40], edge_attr=[40, 4], y=[1, 2], pos=[19, 3], z=[19], smiles='[H]C(=O)N([H])[C@@]1([H])C([H])([H])[N@H+]2C([H])([H])C([H])([H])[C@]21[H]', name='gdb_51674', idx=[1], adj_triu_mat=[1, 435], node_mat=[1, 29, 5])\n",
      "Data(x=[18, 4], edge_index=[2, 36])\n"
     ]
    },
    {
     "name": "stderr",
     "output_type": "stream",
     "text": [
      "Epoch 61 Training: 100%|██████████| 1/1 [00:00<00:00, 38.59it/s]\n"
     ]
    },
    {
     "name": "stdout",
     "output_type": "stream",
     "text": [
      "Data(x=[20, 5], edge_index=[2, 40], edge_attr=[40, 4], y=[1, 2], pos=[20, 3], z=[20], smiles='[H]OC([H])([H])[C@@]([H])([N@H+]1C([H])([H])[C@@]1([H])C([H])=O)C([H])([H])[H]', name='gdb_101299', idx=[1], adj_triu_mat=[1, 435], node_mat=[1, 29, 5])\n",
      "Data(x=[18, 4], edge_index=[2, 36])\n"
     ]
    },
    {
     "name": "stderr",
     "output_type": "stream",
     "text": [
      "Epoch 62 Training: 100%|██████████| 1/1 [00:00<00:00, 35.95it/s]\n"
     ]
    },
    {
     "name": "stdout",
     "output_type": "stream",
     "text": [
      "Data(x=[15, 5], edge_index=[2, 30], edge_attr=[30, 4], y=[1, 2], pos=[15, 3], z=[15], smiles='[H]O[C@]1([H])C(=O)C([H])([H])O[C@@]1([H])C([H])=O', name='gdb_77366', idx=[1], adj_triu_mat=[1, 435], node_mat=[1, 29, 5])\n",
      "Data(x=[18, 4], edge_index=[2, 32])\n"
     ]
    },
    {
     "name": "stderr",
     "output_type": "stream",
     "text": [
      "Epoch 63 Training: 100%|██████████| 1/1 [00:00<00:00, 36.80it/s]"
     ]
    },
    {
     "name": "stdout",
     "output_type": "stream",
     "text": [
      "Data(x=[16, 5], edge_index=[2, 32], edge_attr=[32, 4], y=[1, 2], pos=[16, 3], z=[16], smiles='[H]C1=C(C#CC([H])([H])[H])C(N([H])[H])=C([H])O1', name='gdb_25701', idx=[1], adj_triu_mat=[1, 435], node_mat=[1, 29, 5])\n"
     ]
    },
    {
     "name": "stderr",
     "output_type": "stream",
     "text": [
      "\n"
     ]
    },
    {
     "name": "stdout",
     "output_type": "stream",
     "text": [
      "Data(x=[18, 4], edge_index=[2, 34])\n"
     ]
    },
    {
     "name": "stderr",
     "output_type": "stream",
     "text": [
      "Epoch 64 Training: 100%|██████████| 1/1 [00:00<00:00, 37.86it/s]"
     ]
    },
    {
     "name": "stdout",
     "output_type": "stream",
     "text": [
      "Data(x=[16, 5], edge_index=[2, 32], edge_attr=[32, 4], y=[1, 2], pos=[16, 3], z=[16], smiles='[H]C1=C(C#CC([H])([H])[H])C(N([H])[H])=C([H])O1', name='gdb_25701', idx=[1], adj_triu_mat=[1, 435], node_mat=[1, 29, 5])\n"
     ]
    },
    {
     "name": "stderr",
     "output_type": "stream",
     "text": [
      "\n"
     ]
    },
    {
     "name": "stdout",
     "output_type": "stream",
     "text": [
      "Data(x=[18, 4], edge_index=[2, 34])\n"
     ]
    },
    {
     "name": "stderr",
     "output_type": "stream",
     "text": [
      "Epoch 65 Training: 100%|██████████| 1/1 [00:00<00:00, 33.24it/s]"
     ]
    },
    {
     "name": "stdout",
     "output_type": "stream",
     "text": [
      "Data(x=[15, 5], edge_index=[2, 30], edge_attr=[30, 4], y=[1, 2], pos=[15, 3], z=[15], smiles='[H]OC1=NC(O[H])=C(C([H])([H])[H])N=C1[H]', name='gdb_28507', idx=[1], adj_triu_mat=[1, 435], node_mat=[1, 29, 5])\n"
     ]
    },
    {
     "name": "stderr",
     "output_type": "stream",
     "text": [
      "\n"
     ]
    },
    {
     "name": "stdout",
     "output_type": "stream",
     "text": [
      "Data(x=[18, 4], edge_index=[2, 36])\n"
     ]
    },
    {
     "name": "stderr",
     "output_type": "stream",
     "text": [
      "Epoch 66 Training: 100%|██████████| 1/1 [00:00<00:00, 35.27it/s]"
     ]
    },
    {
     "name": "stdout",
     "output_type": "stream",
     "text": [
      "Data(x=[15, 5], edge_index=[2, 30], edge_attr=[30, 4], y=[1, 2], pos=[15, 3], z=[15], smiles='[H]OC1=NC(O[H])=C(C([H])([H])[H])N=C1[H]', name='gdb_28507', idx=[1], adj_triu_mat=[1, 435], node_mat=[1, 29, 5])\n"
     ]
    },
    {
     "name": "stderr",
     "output_type": "stream",
     "text": [
      "\n"
     ]
    },
    {
     "name": "stdout",
     "output_type": "stream",
     "text": [
      "Data(x=[18, 4], edge_index=[2, 34])\n"
     ]
    },
    {
     "name": "stderr",
     "output_type": "stream",
     "text": [
      "Epoch 67 Training: 100%|██████████| 1/1 [00:00<00:00, 35.33it/s]"
     ]
    },
    {
     "name": "stdout",
     "output_type": "stream",
     "text": [
      "Data(x=[16, 5], edge_index=[2, 32], edge_attr=[32, 4], y=[1, 2], pos=[16, 3], z=[16], smiles='[H]C#CC#C[C@@]1(C([H])([H])O[H])N([H])C1([H])[H]', name='gdb_104944', idx=[1], adj_triu_mat=[1, 435], node_mat=[1, 29, 5])\n"
     ]
    },
    {
     "name": "stderr",
     "output_type": "stream",
     "text": [
      "\n"
     ]
    },
    {
     "name": "stdout",
     "output_type": "stream",
     "text": [
      "Data(x=[18, 3], edge_index=[2, 34])\n"
     ]
    },
    {
     "name": "stderr",
     "output_type": "stream",
     "text": [
      "Epoch 68 Training: 100%|██████████| 1/1 [00:00<00:00, 35.86it/s]"
     ]
    },
    {
     "name": "stdout",
     "output_type": "stream",
     "text": [
      "Data(x=[15, 5], edge_index=[2, 30], edge_attr=[30, 4], y=[1, 2], pos=[15, 3], z=[15], smiles='[H]OC1=NC(O[H])=C(C([H])([H])[H])N=C1[H]', name='gdb_28507', idx=[1], adj_triu_mat=[1, 435], node_mat=[1, 29, 5])\n"
     ]
    },
    {
     "name": "stderr",
     "output_type": "stream",
     "text": [
      "\n"
     ]
    },
    {
     "name": "stdout",
     "output_type": "stream",
     "text": [
      "Data(x=[18, 4], edge_index=[2, 36])\n"
     ]
    },
    {
     "name": "stderr",
     "output_type": "stream",
     "text": [
      "Epoch 69 Training: 100%|██████████| 1/1 [00:00<00:00, 34.51it/s]"
     ]
    },
    {
     "name": "stdout",
     "output_type": "stream",
     "text": [
      "Data(x=[18, 5], edge_index=[2, 38], edge_attr=[38, 4], y=[1, 2], pos=[18, 3], z=[18], smiles='[H]C1=C([H])[C@@]2([H])C([H])([H])[C@@]2([H])OC([H])([H])C1([H])[H]', name='gdb_18391', idx=[1], adj_triu_mat=[1, 435], node_mat=[1, 29, 5])\n"
     ]
    },
    {
     "name": "stderr",
     "output_type": "stream",
     "text": [
      "\n"
     ]
    },
    {
     "name": "stdout",
     "output_type": "stream",
     "text": [
      "Data(x=[18, 4], edge_index=[2, 38])\n"
     ]
    },
    {
     "name": "stderr",
     "output_type": "stream",
     "text": [
      "Epoch 70 Training: 100%|██████████| 1/1 [00:00<00:00, 35.96it/s]"
     ]
    },
    {
     "name": "stdout",
     "output_type": "stream",
     "text": [
      "Data(x=[21, 5], edge_index=[2, 42], edge_attr=[42, 4], y=[1, 2], pos=[21, 3], z=[21], smiles='[H]OC1([C@]([H])(C([H])=O)C([H])([H])[H])C([H])([H])C([H])([H])C1([H])[H]', name='gdb_60858', idx=[1], adj_triu_mat=[1, 435], node_mat=[1, 29, 5])\n"
     ]
    },
    {
     "name": "stderr",
     "output_type": "stream",
     "text": [
      "\n"
     ]
    },
    {
     "name": "stdout",
     "output_type": "stream",
     "text": [
      "Data(x=[18, 4], edge_index=[2, 36])\n"
     ]
    },
    {
     "name": "stderr",
     "output_type": "stream",
     "text": [
      "Epoch 71 Training: 100%|██████████| 1/1 [00:00<00:00, 36.82it/s]\n"
     ]
    },
    {
     "name": "stdout",
     "output_type": "stream",
     "text": [
      "Data(x=[25, 5], edge_index=[2, 52], edge_attr=[52, 4], y=[1, 2], pos=[25, 3], z=[25], smiles='[H]C([H])([H])C([H])([H])[C@@]1([H])C([H])([H])[C@@]([H])(C([H])([H])[H])[C@@]2([H])C([H])([H])[C@@]12[H]', name='gdb_112835', idx=[1], adj_triu_mat=[1, 435], node_mat=[1, 29, 5])\n",
      "Data(x=[20, 3], edge_index=[2, 32])\n"
     ]
    },
    {
     "name": "stderr",
     "output_type": "stream",
     "text": [
      "Epoch 72 Training: 100%|██████████| 1/1 [00:00<00:00, 37.56it/s]"
     ]
    },
    {
     "name": "stdout",
     "output_type": "stream",
     "text": [
      "Data(x=[16, 5], edge_index=[2, 32], edge_attr=[32, 4], y=[1, 2], pos=[16, 3], z=[16], smiles='[H]C1=C(C#CC([H])([H])[H])C(N([H])[H])=C([H])O1', name='gdb_25701', idx=[1], adj_triu_mat=[1, 435], node_mat=[1, 29, 5])\n"
     ]
    },
    {
     "name": "stderr",
     "output_type": "stream",
     "text": [
      "\n"
     ]
    },
    {
     "name": "stdout",
     "output_type": "stream",
     "text": [
      "Data(x=[18, 3], edge_index=[2, 32])\n"
     ]
    },
    {
     "name": "stderr",
     "output_type": "stream",
     "text": [
      "Epoch 73 Training: 100%|██████████| 1/1 [00:00<00:00, 37.12it/s]"
     ]
    },
    {
     "name": "stdout",
     "output_type": "stream",
     "text": [
      "Data(x=[17, 5], edge_index=[2, 34], edge_attr=[34, 4], y=[1, 2], pos=[17, 3], z=[17], smiles='[H]C#C[C@]1([H])OC1(C([H])([H])O[H])C([H])([H])O[H]', name='gdb_104761', idx=[1], adj_triu_mat=[1, 435], node_mat=[1, 29, 5])\n"
     ]
    },
    {
     "name": "stderr",
     "output_type": "stream",
     "text": [
      "\n"
     ]
    },
    {
     "name": "stdout",
     "output_type": "stream",
     "text": [
      "Data(x=[18, 4], edge_index=[2, 36])\n"
     ]
    },
    {
     "name": "stderr",
     "output_type": "stream",
     "text": [
      "Epoch 74 Training: 100%|██████████| 1/1 [00:00<00:00, 34.48it/s]\n"
     ]
    },
    {
     "name": "stdout",
     "output_type": "stream",
     "text": [
      "Data(x=[18, 5], edge_index=[2, 36], edge_attr=[36, 4], y=[1, 2], pos=[18, 3], z=[18], smiles='[H]C(=O)C([H])([H])[C@]1([H])C([H])([H])O[C@]1([H])C([H])([H])[H]', name='gdb_13092', idx=[1], adj_triu_mat=[1, 435], node_mat=[1, 29, 5])\n",
      "Data(x=[18, 4], edge_index=[2, 36])\n"
     ]
    },
    {
     "name": "stderr",
     "output_type": "stream",
     "text": [
      "Epoch 75 Training: 100%|██████████| 1/1 [00:00<00:00, 21.50it/s]\n"
     ]
    },
    {
     "name": "stdout",
     "output_type": "stream",
     "text": [
      "Data(x=[20, 5], edge_index=[2, 44], edge_attr=[44, 4], y=[1, 2], pos=[20, 3], z=[20], smiles='[H]N1[C@@]2([H])[C@]3(O[C@]3([H])C([H])([H])C([H])([H])[H])C([H])([H])[C@@]12[H]', name='gdb_113461', idx=[1], adj_triu_mat=[1, 435], node_mat=[1, 29, 5])\n",
      "Data(x=[18, 4], edge_index=[2, 36])\n"
     ]
    },
    {
     "name": "stderr",
     "output_type": "stream",
     "text": [
      "Epoch 76 Training: 100%|██████████| 1/1 [00:00<00:00, 35.00it/s]\n"
     ]
    },
    {
     "name": "stdout",
     "output_type": "stream",
     "text": [
      "Data(x=[18, 5], edge_index=[2, 36], edge_attr=[36, 4], y=[1, 2], pos=[18, 3], z=[18], smiles='[H]C(=O)C([H])([H])[C@]1([H])C([H])([H])O[C@]1([H])C([H])([H])[H]', name='gdb_13092', idx=[1], adj_triu_mat=[1, 435], node_mat=[1, 29, 5])\n",
      "Data(x=[18, 4], edge_index=[2, 38])\n"
     ]
    },
    {
     "name": "stderr",
     "output_type": "stream",
     "text": [
      "Epoch 77 Training: 100%|██████████| 1/1 [00:00<00:00, 37.67it/s]\n"
     ]
    },
    {
     "name": "stdout",
     "output_type": "stream",
     "text": [
      "Data(x=[18, 5], edge_index=[2, 36], edge_attr=[36, 4], y=[1, 2], pos=[18, 3], z=[18], smiles='[H][N-]C1OC([H])([H])C([NH2+]C([H])([H])[H])N([H])C1([H])[H]', name='gdb_97045', idx=[1], adj_triu_mat=[1, 435], node_mat=[1, 29, 5])\n",
      "Data(x=[18, 4], edge_index=[2, 36])\n"
     ]
    },
    {
     "name": "stderr",
     "output_type": "stream",
     "text": [
      "Epoch 78 Training: 100%|██████████| 1/1 [00:00<00:00, 23.73it/s]\n"
     ]
    },
    {
     "name": "stdout",
     "output_type": "stream",
     "text": [
      "Data(x=[16, 5], edge_index=[2, 32], edge_attr=[32, 4], y=[1, 2], pos=[16, 3], z=[16], smiles='[H]C1=C(C#CC([H])([H])[H])C(N([H])[H])=C([H])O1', name='gdb_25701', idx=[1], adj_triu_mat=[1, 435], node_mat=[1, 29, 5])\n",
      "Data(x=[18, 2], edge_index=[2, 32])\n"
     ]
    },
    {
     "name": "stderr",
     "output_type": "stream",
     "text": [
      "Epoch 79 Training: 100%|██████████| 1/1 [00:00<00:00, 38.61it/s]\n"
     ]
    },
    {
     "name": "stdout",
     "output_type": "stream",
     "text": [
      "Data(x=[23, 5], edge_index=[2, 50], edge_attr=[50, 4], y=[1, 2], pos=[23, 3], z=[23], smiles='[H]C([H])([H])[C@@]1([H])C([H])([H])[C@@]12C([H])([H])[C@@]1(C([H])([H])[H])C([H])([H])[C@]12[H]', name='gdb_87768', idx=[1], adj_triu_mat=[1, 435], node_mat=[1, 29, 5])\n",
      "Data(x=[19, 2], edge_index=[2, 36])\n"
     ]
    },
    {
     "name": "stderr",
     "output_type": "stream",
     "text": [
      "Epoch 80 Training: 100%|██████████| 1/1 [00:00<00:00, 36.77it/s]\n"
     ]
    },
    {
     "name": "stdout",
     "output_type": "stream",
     "text": [
      "Data(x=[19, 5], edge_index=[2, 40], edge_attr=[40, 4], y=[1, 2], pos=[19, 3], z=[19], smiles='[H]OC([H])([H])[C@@]1(C([H])([H])[H])[N@@H+]2C([H])([H])[C@]2([H])C1([H])[H]', name='gdb_12062', idx=[1], adj_triu_mat=[1, 435], node_mat=[1, 29, 5])\n",
      "Data(x=[19, 4], edge_index=[2, 36])\n"
     ]
    },
    {
     "name": "stderr",
     "output_type": "stream",
     "text": [
      "Epoch 81 Training: 100%|██████████| 1/1 [00:00<00:00, 37.89it/s]\n"
     ]
    },
    {
     "name": "stdout",
     "output_type": "stream",
     "text": [
      "Data(x=[17, 5], edge_index=[2, 32], edge_attr=[32, 4], y=[1, 2], pos=[17, 3], z=[17], smiles='[H]/N=C(/OC([H])([H])C([H])([H])O[H])N([H])C([H])=O', name='gdb_121723', idx=[1], adj_triu_mat=[1, 435], node_mat=[1, 29, 5])\n",
      "Data(x=[18, 4], edge_index=[2, 28])\n"
     ]
    },
    {
     "name": "stderr",
     "output_type": "stream",
     "text": [
      "Epoch 82 Training: 100%|██████████| 1/1 [00:00<00:00, 36.86it/s]\n"
     ]
    },
    {
     "name": "stdout",
     "output_type": "stream",
     "text": [
      "Data(x=[18, 5], edge_index=[2, 36], edge_attr=[36, 4], y=[1, 2], pos=[18, 3], z=[18], smiles='[H]C(=O)C([H])([H])[C@]1([H])C([H])([H])O[C@]1([H])C([H])([H])[H]', name='gdb_13092', idx=[1], adj_triu_mat=[1, 435], node_mat=[1, 29, 5])\n",
      "Data(x=[18, 4], edge_index=[2, 36])\n"
     ]
    },
    {
     "name": "stderr",
     "output_type": "stream",
     "text": [
      "Epoch 83 Training: 100%|██████████| 1/1 [00:00<00:00, 38.20it/s]\n"
     ]
    },
    {
     "name": "stdout",
     "output_type": "stream",
     "text": [
      "Data(x=[21, 5], edge_index=[2, 42], edge_attr=[42, 4], y=[1, 2], pos=[21, 3], z=[21], smiles='[H]OC1([C@]([H])(C([H])=O)C([H])([H])[H])C([H])([H])C([H])([H])C1([H])[H]', name='gdb_60858', idx=[1], adj_triu_mat=[1, 435], node_mat=[1, 29, 5])\n",
      "Data(x=[19, 2], edge_index=[2, 38])\n"
     ]
    },
    {
     "name": "stderr",
     "output_type": "stream",
     "text": [
      "Epoch 84 Training: 100%|██████████| 1/1 [00:00<00:00, 38.30it/s]\n"
     ]
    },
    {
     "name": "stdout",
     "output_type": "stream",
     "text": [
      "Data(x=[18, 5], edge_index=[2, 36], edge_attr=[36, 4], y=[1, 2], pos=[18, 3], z=[18], smiles='[H]O[C@]1([H])C([H])=C(C([H])([H])[H])C([H])([H])[C@@]1([H])C#N', name='gdb_84136', idx=[1], adj_triu_mat=[1, 435], node_mat=[1, 29, 5])\n",
      "Data(x=[18, 4], edge_index=[2, 36])\n"
     ]
    },
    {
     "name": "stderr",
     "output_type": "stream",
     "text": [
      "Epoch 85 Training: 100%|██████████| 1/1 [00:00<00:00, 37.64it/s]\n"
     ]
    },
    {
     "name": "stdout",
     "output_type": "stream",
     "text": [
      "Data(x=[21, 5], edge_index=[2, 42], edge_attr=[42, 4], y=[1, 2], pos=[21, 3], z=[21], smiles='[H]O[C@]1([H])[C@]([H])(O[H])C([H])([H])C([H])=C([H])[C@]1([H])C([H])([H])[H]', name='gdb_92903', idx=[1], adj_triu_mat=[1, 435], node_mat=[1, 29, 5])\n",
      "Data(x=[19, 2], edge_index=[2, 30])\n"
     ]
    },
    {
     "name": "stderr",
     "output_type": "stream",
     "text": [
      "Epoch 86 Training: 100%|██████████| 1/1 [00:00<00:00, 36.59it/s]\n"
     ]
    },
    {
     "name": "stdout",
     "output_type": "stream",
     "text": [
      "Data(x=[21, 5], edge_index=[2, 42], edge_attr=[42, 4], y=[1, 2], pos=[21, 3], z=[21], smiles='[H]OC1([C@]([H])(C([H])=O)C([H])([H])[H])C([H])([H])C([H])([H])C1([H])[H]', name='gdb_60858', idx=[1], adj_triu_mat=[1, 435], node_mat=[1, 29, 5])\n",
      "Data(x=[19, 2], edge_index=[2, 36])\n"
     ]
    },
    {
     "name": "stderr",
     "output_type": "stream",
     "text": [
      "Epoch 87 Training: 100%|██████████| 1/1 [00:00<00:00, 36.29it/s]\n"
     ]
    },
    {
     "name": "stdout",
     "output_type": "stream",
     "text": [
      "Data(x=[23, 5], edge_index=[2, 48], edge_attr=[48, 4], y=[1, 2], pos=[23, 3], z=[23], smiles='[H]C1=C(C([H])([H])[H])[C@@]([H])(C([H])([H])[H])[C@]2([H])C([H])([H])[C@@]1([H])C2([H])[H]', name='gdb_80651', idx=[1], adj_triu_mat=[1, 435], node_mat=[1, 29, 5])\n",
      "Data(x=[20, 2], edge_index=[2, 34])\n"
     ]
    },
    {
     "name": "stderr",
     "output_type": "stream",
     "text": [
      "Epoch 88 Training: 100%|██████████| 1/1 [00:00<00:00, 35.62it/s]\n"
     ]
    },
    {
     "name": "stdout",
     "output_type": "stream",
     "text": [
      "Data(x=[18, 5], edge_index=[2, 38], edge_attr=[38, 4], y=[1, 2], pos=[18, 3], z=[18], smiles='[H]C([H])([H])[C@]1([H])O[C@]2(C1([H])[H])C([H])([H])[C@@]2([H])C#N', name='gdb_89864', idx=[1], adj_triu_mat=[1, 435], node_mat=[1, 29, 5])\n",
      "Data(x=[18, 3], edge_index=[2, 30])\n"
     ]
    },
    {
     "name": "stderr",
     "output_type": "stream",
     "text": [
      "Epoch 89 Training: 100%|██████████| 1/1 [00:00<00:00, 37.80it/s]\n"
     ]
    },
    {
     "name": "stdout",
     "output_type": "stream",
     "text": [
      "Data(x=[17, 5], edge_index=[2, 32], edge_attr=[32, 4], y=[1, 2], pos=[17, 3], z=[17], smiles='[H]O[C@@]([H])(C([H])=O)C([H])(C([H])([H])[H])C([H])([H])[H]', name='gdb_1626', idx=[1], adj_triu_mat=[1, 435], node_mat=[1, 29, 5])\n",
      "Data(x=[18, 4], edge_index=[2, 30])\n"
     ]
    },
    {
     "name": "stderr",
     "output_type": "stream",
     "text": [
      "Epoch 90 Training: 100%|██████████| 1/1 [00:00<00:00, 23.99it/s]\n"
     ]
    },
    {
     "name": "stdout",
     "output_type": "stream",
     "text": [
      "Data(x=[19, 5], edge_index=[2, 40], edge_attr=[40, 4], y=[1, 2], pos=[19, 3], z=[19], smiles='[H]/C1=N/C([H])([H])C([H])([H])[N@H+]2C([H])([H])[C@@]2([H])C([H])([H])O1', name='gdb_39380', idx=[1], adj_triu_mat=[1, 435], node_mat=[1, 29, 5])\n",
      "Data(x=[19, 4], edge_index=[2, 38])\n"
     ]
    },
    {
     "name": "stderr",
     "output_type": "stream",
     "text": [
      "Epoch 91 Training: 100%|██████████| 1/1 [00:00<00:00, 37.69it/s]\n"
     ]
    },
    {
     "name": "stdout",
     "output_type": "stream",
     "text": [
      "Data(x=[19, 5], edge_index=[2, 42], edge_attr=[42, 4], y=[1, 2], pos=[19, 3], z=[19], smiles='[H]C([H])([H])O[C@]12C([H])([H])[C@@]1([H])[C@@]1([H])O[C@]12C([H])([H])[H]', name='gdb_107257', idx=[1], adj_triu_mat=[1, 435], node_mat=[1, 29, 5])\n",
      "Data(x=[18, 4], edge_index=[2, 40])\n"
     ]
    },
    {
     "name": "stderr",
     "output_type": "stream",
     "text": [
      "Epoch 92 Training: 100%|██████████| 1/1 [00:00<00:00, 38.63it/s]\n"
     ]
    },
    {
     "name": "stdout",
     "output_type": "stream",
     "text": [
      "Data(x=[18, 5], edge_index=[2, 38], edge_attr=[38, 4], y=[1, 2], pos=[18, 3], z=[18], smiles='[H]C1=NC([H])([H])C([NH2+]C2([H])C([H])([H])C2([H])[H])N1[H]', name='gdb_40843', idx=[1], adj_triu_mat=[1, 435], node_mat=[1, 29, 5])\n",
      "Data(x=[18, 4], edge_index=[2, 36])\n"
     ]
    },
    {
     "name": "stderr",
     "output_type": "stream",
     "text": [
      "Epoch 93 Training: 100%|██████████| 1/1 [00:00<00:00, 38.85it/s]\n"
     ]
    },
    {
     "name": "stdout",
     "output_type": "stream",
     "text": [
      "Data(x=[20, 5], edge_index=[2, 40], edge_attr=[40, 4], y=[1, 2], pos=[20, 3], z=[20], smiles='[H]OC([H])([H])[C@@]([H])([N@H+]1C([H])([H])[C@@]1([H])C([H])=O)C([H])([H])[H]', name='gdb_101299', idx=[1], adj_triu_mat=[1, 435], node_mat=[1, 29, 5])\n",
      "Data(x=[20, 4], edge_index=[2, 36])\n"
     ]
    },
    {
     "name": "stderr",
     "output_type": "stream",
     "text": [
      "Epoch 94 Training: 100%|██████████| 1/1 [00:00<00:00, 37.01it/s]\n"
     ]
    },
    {
     "name": "stdout",
     "output_type": "stream",
     "text": [
      "Data(x=[19, 5], edge_index=[2, 40], edge_attr=[40, 4], y=[1, 2], pos=[19, 3], z=[19], smiles='[H]C(=O)N([H])[C@@]1([H])C([H])([H])[N@H+]2C([H])([H])C([H])([H])[C@]21[H]', name='gdb_51674', idx=[1], adj_triu_mat=[1, 435], node_mat=[1, 29, 5])\n",
      "Data(x=[19, 4], edge_index=[2, 26])\n"
     ]
    },
    {
     "name": "stderr",
     "output_type": "stream",
     "text": [
      "Epoch 95 Training: 100%|██████████| 1/1 [00:00<00:00, 37.57it/s]\n"
     ]
    },
    {
     "name": "stdout",
     "output_type": "stream",
     "text": [
      "Data(x=[14, 5], edge_index=[2, 30], edge_attr=[30, 4], y=[1, 2], pos=[14, 3], z=[14], smiles='[H]N([H])C1=NC([C@]2([H])OC2([H])[H])=NO1', name='gdb_129970', idx=[1], adj_triu_mat=[1, 435], node_mat=[1, 29, 5])\n",
      "Data(x=[15, 4], edge_index=[2, 22])\n"
     ]
    },
    {
     "name": "stderr",
     "output_type": "stream",
     "text": [
      "Epoch 96 Training: 100%|██████████| 1/1 [00:00<00:00, 36.96it/s]\n"
     ]
    },
    {
     "name": "stdout",
     "output_type": "stream",
     "text": [
      "Data(x=[20, 5], edge_index=[2, 40], edge_attr=[40, 4], y=[1, 2], pos=[20, 3], z=[20], smiles='[H]OC([H])([H])[C@@]([H])([N@H+]1C([H])([H])[C@@]1([H])C([H])=O)C([H])([H])[H]', name='gdb_101299', idx=[1], adj_triu_mat=[1, 435], node_mat=[1, 29, 5])\n",
      "Data(x=[20, 4], edge_index=[2, 38])\n"
     ]
    },
    {
     "name": "stderr",
     "output_type": "stream",
     "text": [
      "Epoch 97 Training: 100%|██████████| 1/1 [00:00<00:00, 36.21it/s]\n"
     ]
    },
    {
     "name": "stdout",
     "output_type": "stream",
     "text": [
      "Data(x=[20, 5], edge_index=[2, 40], edge_attr=[40, 4], y=[1, 2], pos=[20, 3], z=[20], smiles='[H]OC([H])([H])[C@@]([H])([N@H+]1C([H])([H])[C@@]1([H])C([H])=O)C([H])([H])[H]', name='gdb_101299', idx=[1], adj_triu_mat=[1, 435], node_mat=[1, 29, 5])\n",
      "Data(x=[20, 4], edge_index=[2, 36])\n"
     ]
    },
    {
     "name": "stderr",
     "output_type": "stream",
     "text": [
      "Epoch 98 Training: 100%|██████████| 1/1 [00:00<00:00, 35.84it/s]\n"
     ]
    },
    {
     "name": "stdout",
     "output_type": "stream",
     "text": [
      "Data(x=[25, 5], edge_index=[2, 52], edge_attr=[52, 4], y=[1, 2], pos=[25, 3], z=[25], smiles='[H]C([H])([H])C([H])([H])[C@@]1([H])C([H])([H])[C@@]([H])(C([H])([H])[H])[C@@]2([H])C([H])([H])[C@@]12[H]', name='gdb_112835', idx=[1], adj_triu_mat=[1, 435], node_mat=[1, 29, 5])\n",
      "Data(x=[22, 2], edge_index=[2, 38])\n"
     ]
    },
    {
     "name": "stderr",
     "output_type": "stream",
     "text": [
      "Epoch 99 Training: 100%|██████████| 1/1 [00:00<00:00, 33.63it/s]\n"
     ]
    },
    {
     "name": "stdout",
     "output_type": "stream",
     "text": [
      "Data(x=[21, 5], edge_index=[2, 42], edge_attr=[42, 4], y=[1, 2], pos=[21, 3], z=[21], smiles='[H]O[C@]1([H])[C@]([H])(O[H])C([H])([H])C([H])=C([H])[C@]1([H])C([H])([H])[H]', name='gdb_92903', idx=[1], adj_triu_mat=[1, 435], node_mat=[1, 29, 5])\n",
      "Data(x=[21, 4], edge_index=[2, 44])\n"
     ]
    },
    {
     "name": "stderr",
     "output_type": "stream",
     "text": [
      "Epoch 100 Training: 100%|██████████| 1/1 [00:00<00:00, 35.05it/s]\n"
     ]
    },
    {
     "name": "stdout",
     "output_type": "stream",
     "text": [
      "Data(x=[15, 5], edge_index=[2, 30], edge_attr=[30, 4], y=[1, 2], pos=[15, 3], z=[15], smiles='[H]O[C@]1([H])C(=O)C([H])([H])O[C@@]1([H])C([H])=O', name='gdb_77366', idx=[1], adj_triu_mat=[1, 435], node_mat=[1, 29, 5])\n",
      "Data(x=[15, 4], edge_index=[2, 30])\n"
     ]
    }
   ],
   "source": [
    "graph_vae_model = GraphVAE(hparams=hparams).to(device=device)\n",
    "optimizer = torch.optim.Adam(\n",
    "    graph_vae_model.parameters(),\n",
    "    lr=hparams[\"learning_rate\"],\n",
    "    betas=(hparams[\"beta_1\"], 0.999)\n",
    ")\n",
    "epochs = hparams[\"epochs\"]\n",
    "\n",
    "train_loader = dataloaders[\"train_tiny\"]\n",
    "val_subset_loader_iterator = itertools.cycle(dataloaders[\"val_subsets\"])\n",
    "\n",
    "validation_interval = 100\n",
    "\n",
    "writer = create_tensorboard_writer(experiment_name=\"graph-vae\")\n",
    "\n",
    "for epoch in range(epochs):\n",
    "    graph_vae_model.train()\n",
    "    for batch_index, train_batch in enumerate(tqdm(train_loader,  desc=f\"Epoch {epoch + 1} Training\")):\n",
    "        optimizer.zero_grad()\n",
    "        train_prediction = graph_vae_model(train_batch)\n",
    "        train_target = (train_batch.adj_triu_mat, train_batch.node_mat, ...)\n",
    "\n",
    "        loss = graph_vae_model.reconstruction_loss(input=train_prediction, target=train_target)\n",
    "\n",
    "        loss.backward()\n",
    "        optimizer.step()\n",
    "\n",
    "        iteration = len(train_loader) * epoch + batch_index\n",
    "        writer.add_scalars(\"Loss\", {\"Training\": loss.item()}, iteration)\n",
    "\n",
    "        if iteration % validation_interval == 0:\n",
    "            graph_vae_model.eval()\n",
    "            val_loss_sum = 0\n",
    "\n",
    "            # Get the next subset of the validation set\n",
    "            val_loader = next(val_subset_loader_iterator)\n",
    "            with torch.no_grad():\n",
    "                for val_batch in val_loader:\n",
    "                    val_prediction = graph_vae_model(val_batch)\n",
    "                    val_target = (val_batch.adj_triu_mat, val_batch.node_mat, ...)\n",
    "                    val_loss_sum += graph_vae_model.reconstruction_loss(\n",
    "                        input=val_prediction,\n",
    "                        target=val_target\n",
    "                    )\n",
    "            \n",
    "            val_loss = val_loss_sum / len(val_loader)\n",
    "            writer.add_scalars(\"Loss\", {\"Validation\": val_loss.item()}, iteration)\n",
    "            \n",
    "            graph_vae_model.train()\n",
    "\n",
    "    # Visualization\n",
    "    # get random mol from train dataset and visualize\n",
    "    sample_index = random.randint(0, len(train_loader) * batch_size)\n",
    "    #sample_index = 32\n",
    "    sample = train_dataset[sample_index]\n",
    "    print(sample)\n",
    "    writer.add_image('Input', molecule_graph_data_to_image(sample), global_step=epoch, dataformats=\"NCHW\")\n",
    "\n",
    "    graph_vae_model.eval()\n",
    "    pred_adj_mat, pred_nodes, _ = graph_vae_model(sample)\n",
    "    pred_adj_mat = pred_adj_mat[0]\n",
    "    pred_nodes = pred_nodes[0]\n",
    "\n",
    "    # convert predicted matrices into Graph\n",
    "    adj_triu_mat = torch.where(F.sigmoid(pred_adj_mat) > 0.5, 1.0, 0.0)\n",
    "\n",
    "    n = hparams[\"max_num_nodes\"]\n",
    "    mask = torch.ones(n, n).triu() == 1\n",
    "    adj_mat = torch.zeros(n, n, device=device)\n",
    "    adj_mat[mask] = adj_triu_mat\n",
    "    diagonal = adj_mat.diagonal()\n",
    "    # create symmetric matrix\n",
    "    adj_mat = adj_mat + adj_mat.t() - torch.diag(diagonal)\n",
    "\n",
    "    invalid_node_indices = (diagonal == 0).nonzero().flatten().cpu().tolist()\n",
    "\n",
    "    edge_index, _ = dense_to_sparse(adj=adj_mat)\n",
    "    edge_index, _ = remove_self_loops(edge_index=edge_index)\n",
    "\n",
    "    # assume hydrogen for all atoms for now\n",
    "    x = F.one_hot(pred_nodes.argmax(dim=1), num_classes=num_node_features)\n",
    "\n",
    "    reconstructed_sample = Data(x=x, edge_index=edge_index)\n",
    "    reconstructed_sample = remove_nodes(data=reconstructed_sample, nodes_to_remove=invalid_node_indices)\n",
    "    print(reconstructed_sample)\n",
    "\n",
    "    def create_edge_attr(edge_index, edge_attr_matrix):\n",
    "        # Assuming the edge_attr_matrix is ordered in the same way as the adjacency matrix\n",
    "        edge_attr = edge_attr_matrix[edge_index[0], edge_index[1]]\n",
    "        return edge_attr\n",
    "    \n",
    "    # add edge attributes\n",
    "    edge_attr = torch.zeros(reconstructed_sample.num_edges, 4)\n",
    "    # single bond for now\n",
    "    edge_attr[:, 0] = 1\n",
    "    reconstructed_sample.edge_attr = edge_attr\n",
    "    \n",
    "    writer.add_image('Reconstruction', molecule_graph_data_to_image(reconstructed_sample), global_step=epoch, dataformats=\"NCHW\")  \n"
   ]
  }
 ],
 "metadata": {
  "kernelspec": {
   "display_name": "idp",
   "language": "python",
   "name": "python3"
  },
  "language_info": {
   "codemirror_mode": {
    "name": "ipython",
    "version": 3
   },
   "file_extension": ".py",
   "mimetype": "text/x-python",
   "name": "python",
   "nbconvert_exporter": "python",
   "pygments_lexer": "ipython3",
   "version": "3.11.5"
  }
 },
 "nbformat": 4,
 "nbformat_minor": 2
}
